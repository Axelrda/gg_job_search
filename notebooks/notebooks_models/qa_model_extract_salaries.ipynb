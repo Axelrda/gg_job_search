{
 "cells": [
  {
   "cell_type": "markdown",
   "id": "a7916aff-e270-4b0e-b28a-865de9e5d2db",
   "metadata": {
    "canvas": {
     "comments": [],
     "componentType": "CodeCell",
     "copiedOriginId": null,
     "diskcache": false,
     "headerColor": "inherit",
     "id": "4139169a-7c05-45fe-9f65-51e1f037112c",
     "isComponent": false,
     "name": "",
     "parents": []
    }
   },
   "source": [
    "# Fine-tuning a question-answering model to extract salary information in job postings descriptions"
   ]
  },
  {
   "cell_type": "markdown",
   "id": "c406c3be-169e-4dc7-b832-b0e78e75d352",
   "metadata": {
    "canvas": {
     "comments": [],
     "componentType": "CodeCell",
     "copiedOriginId": null,
     "diskcache": false,
     "headerColor": "inherit",
     "id": "9aa7c8be-69e0-40db-9496-e4da0a8a6e95",
     "isComponent": false,
     "name": "",
     "parents": []
    },
    "tags": []
   },
   "source": [
    "## Loading libraries & data"
   ]
  },
  {
   "cell_type": "code",
   "execution_count": 1,
   "id": "49eb83f9-b463-403d-8489-dedb76203e93",
   "metadata": {
    "canvas": {
     "comments": [],
     "componentType": "CodeCell",
     "copiedOriginId": null,
     "diskcache": false,
     "headerColor": "inherit",
     "id": "71edcd6d-2a02-42cf-8579-a275ed269135",
     "isComponent": false,
     "name": "",
     "parents": []
    },
    "tags": []
   },
   "outputs": [],
   "source": [
    "from transformers import AutoTokenizer, AutoModelForQuestionAnswering, Trainer, TrainingArguments\n",
    "import torch\n",
    "from torch.utils.data import Dataset, DataLoader\n",
    "\n",
    "from torch.optim import AdamW\n",
    "from tqdm import tqdm\n",
    "\n",
    "import pandas as pd\n",
    "import numpy as np\n",
    "\n",
    "import unicodedata\n",
    "import requests\n",
    "import json\n",
    "\n",
    "import random\n",
    "\n",
    "path = 'https://media.githubusercontent.com/media/Axelrda/gg_job_search/master/data/gg_job_search_all_RAW.csv'\n",
    "\n",
    "data = pd.read_csv(path)#'/home/axel/ds_projects/projects/gg_job_search/data/gg_job_search_all_RAW.csv')\n"
   ]
  },
  {
   "cell_type": "code",
   "execution_count": null,
   "id": "c113d2a0-cda9-43e6-9581-50034a229db1",
   "metadata": {
    "canvas": {
     "comments": [],
     "componentType": "CodeCell",
     "copiedOriginId": "a915ad0d-085b-4db1-b32c-0ed33f840da0",
     "diskcache": false,
     "headerColor": "inherit",
     "id": "5a38fad7-59fb-4f51-a8f8-7bfda98d7f27",
     "isComponent": false,
     "name": "",
     "parents": []
    },
    "tags": []
   },
   "outputs": [],
   "source": [
    "data"
   ]
  },
  {
   "cell_type": "markdown",
   "id": "74a6dae7-a4ff-4789-8a7b-75f5432cd6b3",
   "metadata": {
    "canvas": {
     "comments": [],
     "componentType": "CodeCell",
     "copiedOriginId": null,
     "diskcache": false,
     "headerColor": "inherit",
     "id": "88234000-99f9-447c-9bf7-40fad7fa4104",
     "isComponent": false,
     "name": "",
     "parents": []
    }
   },
   "source": [
    "## Removing duplicates & null values"
   ]
  },
  {
   "cell_type": "code",
   "execution_count": 2,
   "id": "696d936e-bf87-46b0-beab-2dd43c223d81",
   "metadata": {
    "canvas": {
     "comments": [],
     "componentType": "CodeCell",
     "copiedOriginId": null,
     "diskcache": false,
     "headerColor": "inherit",
     "id": "b05df6ea-e2d6-464b-9474-7101fbf388e4",
     "isComponent": false,
     "name": "",
     "parents": []
    }
   },
   "outputs": [],
   "source": [
    "data.drop_duplicates(['description'], inplace=True)\n",
    "data.drop_duplicates(['job_id'], inplace=True)\n",
    "data.reset_index(inplace=True)\n",
    "\n",
    "data.description.dropna(axis=0, inplace=True)\n",
    "data.drop(axis=0, index=221, inplace=True)"
   ]
  },
  {
   "cell_type": "markdown",
   "id": "4813e8e6-c70c-46b3-bfd1-b5e9a5f83d65",
   "metadata": {
    "canvas": {
     "comments": [],
     "componentType": "CodeCell",
     "copiedOriginId": null,
     "diskcache": false,
     "headerColor": "inherit",
     "id": "241eacfc-ce33-4e47-9f60-a4ea6d7c0816",
     "isComponent": false,
     "name": "",
     "parents": []
    }
   },
   "source": [
    "## Quick text preprocessing"
   ]
  },
  {
   "cell_type": "code",
   "execution_count": 3,
   "id": "4d475c86-af13-4762-964f-555c77b8676c",
   "metadata": {
    "canvas": {
     "comments": [],
     "componentType": "CodeCell",
     "copiedOriginId": null,
     "diskcache": false,
     "headerColor": "inherit",
     "id": "46ea41b4-c198-4612-805d-d67006e3c50c",
     "isComponent": false,
     "name": "",
     "parents": []
    }
   },
   "outputs": [],
   "source": [
    "# lowering cases\n",
    "data.description = data.description.apply(lambda x: x.lower())\n",
    "\n",
    "# decode data (removing accents ... )\n",
    "def remove_accents(text):\n",
    "    normalized = unicodedata.normalize('NFKD', text)\n",
    "    without_accents = [c for c in normalized if not unicodedata.combining(c)]\n",
    "    return ''.join(without_accents)\n",
    "data.description = data.description.apply(lambda x: remove_accents(x))\n"
   ]
  },
  {
   "cell_type": "markdown",
   "id": "ad5140d7-251d-4ce6-885d-be6c26a56c16",
   "metadata": {
    "canvas": {
     "comments": [],
     "componentType": "CodeCell",
     "copiedOriginId": null,
     "diskcache": false,
     "headerColor": "inherit",
     "id": "25e3f08d-32b2-493e-815d-b62017cfd89d",
     "isComponent": false,
     "name": "",
     "parents": []
    }
   },
   "source": [
    "## Selecting rows containing salary information in description"
   ]
  },
  {
   "cell_type": "markdown",
   "id": "0cbfc05b-f592-4fd6-9c96-82afa79e9aeb",
   "metadata": {
    "canvas": {
     "comments": [],
     "componentType": "CodeCell",
     "copiedOriginId": null,
     "diskcache": false,
     "headerColor": "inherit",
     "id": "14ba9ce6-65d6-48b2-829d-fb90ab97c529",
     "isComponent": false,
     "name": "",
     "parents": []
    }
   },
   "source": [
    "create a labeled dataset for qa model fine-tuning / get rows w/ salary information / filter out rows w/o salary info"
   ]
  },
  {
   "cell_type": "code",
   "execution_count": 4,
   "id": "7ef0b011-3714-4df0-aabd-4c83ec190c92",
   "metadata": {
    "canvas": {
     "comments": [],
     "componentType": "CodeCell",
     "copiedOriginId": "e0e502f5-821e-45ae-9303-c4bd1f88543d",
     "diskcache": false,
     "headerColor": "inherit",
     "id": "1bbd5311-351b-4b9d-a02a-df82ec96dafe",
     "isComponent": false,
     "name": "",
     "parents": []
    },
    "tags": []
   },
   "outputs": [],
   "source": [
    "pd.options.display.max_colwidth = 500\n",
    "pd.options.display.max_rows = 50\n",
    "\n",
    "# several mask to filter rows with info of interest\n",
    "salaire_word = ~data.description.str.contains('salaire')\n",
    "remuneration_word = ~data.description.str.contains('remuneration')\n",
    "jusqua_word = data.description.str.contains(r\"[0-9]k\")\n",
    "stop_words = ~data.description.str.contains('selon experience|salaire fixe|remuneration en fonction|remuneration attractive|selon conditions|grille de salaire|a negocier|selon votre experience|remuneration fixe|selon profil|selon votre profil')\n",
    "\n",
    "#data.description.loc[(salaire_word | remuneration_word |jusqua_word ) ]\n",
    "#data.description.loc[jusqua_word  & salaire_word & remuneration_word ]\n",
    "#indew_w_salary_word = set(data.description.loc[(salaire_word | remuneration_word) & stop_words].index)\n",
    "#len(set(index_w_salary_data).intersection(indew_w_salary_word))"
   ]
  },
  {
   "cell_type": "markdown",
   "id": "05a4afe1-3aaf-4534-a373-fa7293872029",
   "metadata": {
    "canvas": {
     "comments": [],
     "componentType": "CodeCell",
     "copiedOriginId": null,
     "diskcache": false,
     "headerColor": "inherit",
     "id": "ee4eea74-9739-46a3-ae7c-14e11e8ac38f",
     "isComponent": false,
     "name": "",
     "parents": []
    }
   },
   "source": [
    "After thorough investigation, i've come up with a small batch of 159 rows containing salary information. "
   ]
  },
  {
   "cell_type": "code",
   "execution_count": null,
   "id": "4267b7f1-8482-4e5a-80d0-287514156315",
   "metadata": {
    "canvas": {
     "comments": [],
     "componentType": "CodeCell",
     "copiedOriginId": null,
     "diskcache": false,
     "headerColor": "inherit",
     "id": "5a90ecfe-8bfc-4780-b7ef-56bdca949d49",
     "isComponent": false,
     "name": "",
     "parents": []
    }
   },
   "outputs": [],
   "source": [
    "index_w_salary_data = [25, 58, 75, 129, 216, 218, 219, 220, 237, 278, 285, 424, 503, 508, 510, 512, 518, 528, 537, 547, 550, 560, 565, 598, 602, 621, \n",
    "                       671, 673, 682, 709, 742, 744, 745, 764, 808, 812, 857, 871, 873, 876, 940, 954, 970, 1007, 1013, 1030, 1040, 1048, 1080, 1139, \n",
    "                       1140, 1146, 1240, 1255, 1269, 1325, 1331, 1334, 1337, 1348, 1397, 1413, 1415, 1473, 1477, 1480, 1486, 1488, 1536, 1562, 1565, \n",
    "                       1577, 1599, 1651, 1681, 1691, 1721, 1867, 2027, 2030, 2053, 2066, 2215, 2273, 2360, 2380, 2389, 2399, 2460, 2479, 2481, 2486, \n",
    "                       2491, 2508, 2514, 2516, 2517, 2529, 2545, 2591, 2620, 2700, 2709, 2710, 2719, 2776, 2789, 2805, 2809, 2814, 2829, 2838, 2853, \n",
    "                       2870, 2871, 2892, 2925, 2927, 2937, 2947, 2999, 3003, 3062, 3071, 3074, 3113, 3164, 3197, 3202, 3258, 3261, 3291, 3295, 3330, \n",
    "                       3331, 3339, 3342, 3348, 3376, 3385, 3388, 3457, 3486, 3597, 3611, 3638, 3687, 3798, 3834, 3843, 3864, 3901, 3908, 3912, 3922, \n",
    "                       3978, 3994, 4019, 4024]\n",
    "\n",
    "descriptions_w_salary = data.loc[index_w_salary_data,['description']]"
   ]
  },
  {
   "cell_type": "markdown",
   "id": "7b7b1e2d-811a-470b-bfb2-dd37a9538478",
   "metadata": {
    "canvas": {
     "comments": [],
     "componentType": "CodeCell",
     "copiedOriginId": null,
     "diskcache": false,
     "headerColor": "inherit",
     "id": "f8250427-fc6b-40f4-8fff-34172f4ab009",
     "isComponent": false,
     "name": "",
     "parents": []
    }
   },
   "source": [
    "## Exporting selected rows for further labeling"
   ]
  },
  {
   "cell_type": "markdown",
   "id": "5684b894-f0fb-4dc6-b64c-05e3d291a4d6",
   "metadata": {
    "canvas": {
     "comments": [],
     "componentType": "CodeCell",
     "copiedOriginId": null,
     "diskcache": false,
     "headerColor": "inherit",
     "id": "69fffc52-763a-4b92-835c-91b13c82455d",
     "isComponent": false,
     "name": "",
     "parents": []
    }
   },
   "source": [
    "export to csv / haystack / labeling / squad like format (start/ end pos, ids, ...) / json file / additional processing neat predictions"
   ]
  },
  {
   "cell_type": "code",
   "execution_count": null,
   "id": "b73aeae3-4424-40f2-bd0d-843efe029c5d",
   "metadata": {
    "canvas": {
     "comments": [],
     "componentType": "CodeCell",
     "copiedOriginId": "828b05a9-6bf9-4909-84b1-ff9d29e20f67",
     "diskcache": false,
     "headerColor": "inherit",
     "id": "dff5abff-d06c-4b89-8350-cffa996dd1ff",
     "isComponent": false,
     "name": "",
     "parents": []
    }
   },
   "outputs": [],
   "source": [
    "labels = [\"70000€ par an\",\"50000€ a 65000€ par an\",\"40000€ a 65000€ par an\",\"35000€ a 38000€ par an\",\"45000€ par an\",\"45000€ par an\",\"40000€ a 55000€ par an\",\"34000€ a 50000€ par an\",\"45000€ a 55000€ par an\",\n",
    "\"2104€ par mois\",\"70000€ par an\",\"70000€ par an\",\"950€ a 1400€ par mois\",\"40000€ a 45000€ par an\",\"70000€ par an\",\"90000€ par an\",\"50000€ a 70000€ par an\",\"48000€ a 52000€ par an\",\"55000€ a 65000€ par an\",\n",
    "\"65000€ par an\",\"40000€ a 45000€ par an\",\"40000€ a 45000€ par an\",\"60000€ par an\",\"35000€ a 45000€ par an\",\"35000€ a 45000€ par an\",\"1000€ par mois\",\"60000€ a 90000€ par an\",\"60000€ par an\",\"50000€ a 70000€ par an\",\n",
    "\"50000€ a 65000€ par an\",\"45000€ a 60000€ par an\",\"99€ a 999€ par mois\",\"1160€ a 1500€ par mois\",\"85000€ par an\",\"60000€ a 80000€ par an\",\"75000€ a 90000€ par an\",\"50000€ a 60000€ par an\",\"32000€ a 37000€ par an\",\n",
    "\"35000€ a 40000€ par an\",\"1709.28€ par mois\",\"3000€ par mois\",\"1000€ par mois\",\"2304€ par mois\",\"50000€ a 65000€ par an\",\"55000€ a 65000€ par an\",\"65000€ a 80000€ par an\",\"80000€ a 90000€ par an\",\"85000€ par an\",\n",
    "\"55000€ a 65000€ par an\",\"600€ a 1200€ par mois\",\"45000€ par an\",\"20000€ a 22000€ par an\",\"60000€ par an\",\"33336.19€ a 57356.85€ par an\",\"40000€ a 50000€ par an\",\"2289€ a 3750€ par mois\",\"1200€ par mois\",\"60000€ a 65000€ par an\",\n",
    "\"50000€ a 65000€ par an\",\"50000€ a 57000€ par an\",\"2292€ a 4774€ par mois\",\"36000€ par an\",\"1795€ par mois\",\"58000€ par an\",\"32000€ par an\",\"500€ a 570€ par jour\",\"70000€ par an\",\"45000€ par an\",\"45000€ par an\",\"2294€ a 4 847€ par mois\",\n",
    "\"30000€ a 33000€ par an\",\"50000€ par an\",\"500€ a 570€ par jour\",\"50000€ par an\",\"40000€ a 70000€ par an\",\"25000€ a 45000€ par an\",\"50000€ a 70000€ par an\",\"45000€ a 55000€ par an\",\"45000€ a 55000€ par an\",\"50000€ a 57000€ par an\",\n",
    "\"52000€ a 80000€ par an\",\"60000€ par an\",\"1200€ par mois\",\"39000€ a 55000€ par an\",\"50000€ a 60000€ par an\",\"40000€ a 60000€ par an\",\"45000€ a 57000€ par an\",\"38000€ a 45000€ par an\",\"1000€ par mois\",\"45000€ a 55000€ par an\",\n",
    "\"3000€ par mois\",\"35000€ a 60000€ par an\",\"30000€ par an\",\"43000€ par an\",\"1709.28€ par mois\",\"45000€ a 55000€ par an\",\"38000€ a 45000€ par an\",\"100000€ par an\",\"62000€ a 68000€ par an\",\"2785.91€ par mois\",\"43000€ par an\",\n",
    "\"38000€ par an\",\"45000€ a 60000€ par an\",\"700€ par mois\",\"22000€ par an\",\"40000€ a 45000€ par an\",\"35000€ a 45000€ par an\",\"35000€ a 37000€ par an\",\"60000€ par an\",\"45000€ a 50000€ par an\",\"50000€ a 63000€ par an\",\"45000€ a 60000€ par an\",\n",
    "\"60000€ par an\",\"40000€ a 45000€ par an\",\"55000€ a 65000€ par an\",\"1100€ par mois\",\"734.99€ par mois\",\"45000€ a 55000€ par an\",\"40000€ a 48000€ par an\",\"55000€ a 65000€ par an\",\"45000€ par an\",\"45000€ a 55000€ par an\",\"35000€ par an\",\n",
    "\"4000€ a 7000€ par mois\",\"25000€ a 27000€ par an\",\"45000€ a 55000€ par an\",\"40000€ a 50000€ par an\",\"40000€ a 60000€ par an\",\"40000€ a 70000€ par an\",\"50000€ a 60000€ par an\",\"23218.75€ a 46342.92€ par an\",\"75000€ a 90000€ par an\",\n",
    "\"4.05€ par heure\",\"60000€ a 90000€ par an\",\"35000€ a 45000€ par an\",\"38000€ a 48000€ par an\",\"75000€ a 90000€ par an\",\"800€ a 950€ par mois\",\"40000€ a 55000€ par an\",\"34000€ par an\",\"3000€ a 4 500€ par mois\",\"40000€ a 75000€ par an\",\n",
    "\"2241.51€ par mois\",\"45000€ a 60000€ par an\",\"36000€ par an\",\"50000€ a 70000€ par an\",\"70000€ par an\",\"36000€ par an\",\"50000€ a 65000€ par an\",\"40000€ a 62000€ par an\",\"50000€ par an\",\"2000€ par mois\",\"35000€ a 60000€ par an\",\n",
    "\"50000€ par an\",\"21000€ par an\",\"50000€ a 70000€ par an\",\"50000€ par an\",\"65000€ a 80000€ par an\",\"48000€ a 57000€ par an\"]\n",
    "\n",
    "# replace answers annotated with haystack with processed & normalized labels (by hand + ChatGPT)\n",
    "#for i in range(159):\n",
    "    \n",
    "    #df['data'][i]['paragraphs'][0]['qas'][0]['answers'][0]['text'] = labels[i]\n",
    "    #print(answer['data'][i]['paragraphs'][0]['qas'][0]['answers'][0]['text'])"
   ]
  },
  {
   "cell_type": "code",
   "execution_count": 5,
   "id": "cd226179-033d-461f-9eb7-e7f7e238af0b",
   "metadata": {
    "canvas": {
     "comments": [],
     "componentType": "CodeCell",
     "copiedOriginId": null,
     "diskcache": false,
     "headerColor": "inherit",
     "id": "4c605a34-48ec-492a-9c80-31003c7aa29f",
     "isComponent": false,
     "name": "",
     "parents": []
    }
   },
   "outputs": [
    {
     "name": "stdout",
     "output_type": "stream",
     "text": [
      "Number of examples in training set: 127\n",
      "Number of examples in validation set: 15\n",
      "Number of examples in testing set: 17\n"
     ]
    }
   ],
   "source": [
    "def read_train_test_split_df(url):\n",
    "    \n",
    "    # get labeled data from github url\n",
    "    response = requests.get(url)\n",
    "    df = json.loads(response.text)\n",
    "\n",
    "    # Shuffle the list of dictionaries randomly\n",
    "    random.shuffle(df['data'])\n",
    "\n",
    "    # Determine the sizes of the subsets\n",
    "    train_size = int(0.8 * len(df['data']))\n",
    "    val_size = int(0.1 * len(df['data']))\n",
    "    test_size = len(df['data']) - train_size - val_size\n",
    "\n",
    "    # Slice the shuffled list into subsets\n",
    "    train_data = df['data'][:train_size]\n",
    "    val_data = df['data'][train_size:train_size+val_size]\n",
    "    test_data = df['data'][train_size+val_size:]\n",
    "    \n",
    "    return train_data, val_data, test_data\n",
    "\n",
    "url = 'https://raw.githubusercontent.com/Axelrda/gg_job_search/master/data/labeled_data_qa_fine-tuning.json'\n",
    "train_data, val_data, test_data = read_train_test_split_df(url)\n",
    "\n",
    "# Print the number of examples in each subset\n",
    "print(f\"Number of examples in training set: {len(train_data)}\")\n",
    "print(f\"Number of examples in validation set: {len(val_data)}\")\n",
    "print(f\"Number of examples in testing set: {len(test_data)}\")"
   ]
  },
  {
   "cell_type": "code",
   "execution_count": 6,
   "id": "8122cfbf-4fa8-457a-99e9-398b83825307",
   "metadata": {
    "canvas": {
     "comments": [],
     "componentType": "CodeCell",
     "copiedOriginId": null,
     "diskcache": false,
     "headerColor": "inherit",
     "id": "a09f5e0c-ef80-4d6b-889c-f500cf979b88",
     "isComponent": false,
     "name": "",
     "parents": []
    },
    "tags": []
   },
   "outputs": [],
   "source": [
    "def extract_context_question_answer(df):\n",
    "    '''Extract context, question and answer from SQUaD dataset and put it in list format'''\n",
    "    \n",
    "    contexts = []\n",
    "    answers = []\n",
    "    questions = []\n",
    "\n",
    "    for group in df:\n",
    "        for passage in group['paragraphs']:\n",
    "            contexts.append(passage['context'])\n",
    "            for qas in passage['qas']:\n",
    "                questions.append(qas['question'])\n",
    "                for qa in qas['answers']:\n",
    "                    del qa['question_id']\n",
    "                    del qa['answer_id']\n",
    "                    del qa['document_id']\n",
    "                    del qa['answer_category']\n",
    "\n",
    "                    answers.append(qa)\n",
    "                    \n",
    "    return contexts, questions, answers\n",
    "\n",
    "train_contexts, train_questions, train_answers = extract_context_question_answer(train_data)\n",
    "val_contexts, val_questions, val_answers = extract_context_question_answer(val_data)\n",
    "test_contexts, test_questions, test_answers = extract_context_question_answer(test_data)"
   ]
  },
  {
   "cell_type": "markdown",
   "id": "b34db7da-eb98-4216-8957-92f502861b40",
   "metadata": {
    "canvas": {
     "comments": [],
     "componentType": "CodeCell",
     "copiedOriginId": null,
     "diskcache": false,
     "headerColor": "inherit",
     "id": "23e4acfb-5742-482a-8e08-151a7bc20479",
     "isComponent": false,
     "name": "",
     "parents": []
    }
   },
   "source": [
    "## Tokenizer / Encode"
   ]
  },
  {
   "cell_type": "code",
   "execution_count": 7,
   "id": "97239b4b-13c6-4d94-b947-25f1d5764336",
   "metadata": {
    "canvas": {
     "comments": [],
     "componentType": "CodeCell",
     "copiedOriginId": null,
     "diskcache": false,
     "headerColor": "inherit",
     "id": "e34f6298-dd1d-4cff-a497-e71cd353b454",
     "isComponent": false,
     "name": "",
     "parents": []
    }
   },
   "outputs": [],
   "source": [
    "model_checkpoint = 'CATIE-AQ/QAmembert'\n",
    "tokenizer = AutoTokenizer.from_pretrained(model_checkpoint)\n"
   ]
  },
  {
   "cell_type": "markdown",
   "id": "2c40ed66-537e-47d2-8041-f35e39af4516",
   "metadata": {
    "canvas": {
     "comments": [],
     "componentType": "CodeCell",
     "copiedOriginId": null,
     "diskcache": false,
     "headerColor": "inherit",
     "id": "bef10ff4-0764-47a4-8760-100c948b4ed6",
     "isComponent": false,
     "name": "",
     "parents": []
    }
   },
   "source": [
    "## Mapping characters positions in original context to tokens positions in tokenized input"
   ]
  },
  {
   "cell_type": "markdown",
   "id": "de6626e7-fc11-4654-9da0-c71f23c8ca04",
   "metadata": {
    "canvas": {
     "comments": [],
     "componentType": "CodeCell",
     "copiedOriginId": null,
     "diskcache": false,
     "headerColor": "inherit",
     "id": "d09d5a79-d757-456f-8f9c-27edb9326f06",
     "isComponent": false,
     "name": "",
     "parents": []
    }
   },
   "source": [
    "get each token answer postion for each feature if no answer inside a given feature, return (0,0) else return (token_answer_start_position, token_answer_end_position)"
   ]
  },
  {
   "cell_type": "code",
   "execution_count": 8,
   "id": "daab1a41-9915-4ccb-b753-f38dd66ba947",
   "metadata": {
    "canvas": {
     "comments": [],
     "componentType": "CodeCell",
     "copiedOriginId": null,
     "diskcache": false,
     "headerColor": "inherit",
     "id": "eb2fabca-41a4-4d88-9b68-1cb738ea12d7",
     "isComponent": false,
     "name": "",
     "parents": []
    },
    "tags": []
   },
   "outputs": [],
   "source": [
    "max_length = 512\n",
    "stride = 128\n",
    "\n",
    "def prepro_qa_examples(questions, contexts, answers):\n",
    "    inputs = tokenizer(text=questions, \n",
    "                       text_pair=contexts,\n",
    "                       max_length=max_length,\n",
    "                       padding=\"max_length\", \n",
    "                       truncation=True, \n",
    "                       stride=stride, \n",
    "                       return_overflowing_tokens=True, \n",
    "                       return_offsets_mapping=True)\n",
    "\n",
    "    start_positions = []\n",
    "    end_positions = []\n",
    "    \n",
    "    for i, offset in enumerate(inputs['offset_mapping']):\n",
    "        \n",
    "        # Get the index of the corresponding example\n",
    "        sample_idx = inputs[\"overflow_to_sample_mapping\"][i]\n",
    "        \n",
    "        # Get the answer for the current example\n",
    "        answer = answers[sample_idx]\n",
    "        \n",
    "        # Get the start and end character positions of the answer in the context\n",
    "        start_char = answer[\"answer_start\"]\n",
    "        end_char = answer[\"answer_end\"]\n",
    "        \n",
    "        #Get the sequence ids of the tokens in the input\n",
    "        sequence_ids = inputs.sequence_ids(i)\n",
    "\n",
    "        # Find the start and end of the context\n",
    "        idx = 0\n",
    "        while sequence_ids[idx] != 1:\n",
    "            idx += 1\n",
    "        context_start = idx\n",
    "        while sequence_ids[idx] == 1:\n",
    "            idx += 1\n",
    "        context_end = idx - 1\n",
    "\n",
    "        # If the answer is not fully inside the context, label is (0, 0)\n",
    "        if offset[context_start][0] > start_char or offset[context_end][1] < end_char:\n",
    "            start_positions.append(0)\n",
    "            end_positions.append(0)\n",
    "\n",
    "        else:\n",
    "            # Otherwise it's the start and end token positions\n",
    "            idx = context_start\n",
    "            while idx <= context_end and offset[idx][0] <= start_char:\n",
    "                idx += 1\n",
    "            start_positions.append(idx - 1)\n",
    "\n",
    "            idx = context_end\n",
    "            while idx >= context_start and offset[idx][1] >= end_char:\n",
    "                idx -= 1\n",
    "            end_positions.append(idx + 1)\n",
    "    \n",
    "    # Add the start and end positions to the inputs dictionary and return it\n",
    "    inputs[\"start_positions\"] = start_positions\n",
    "    inputs[\"end_positions\"] = end_positions\n",
    "\n",
    "    return inputs\n",
    "\n",
    "train_inputs = prepro_qa_examples(train_questions, train_contexts, train_answers)\n"
   ]
  },
  {
   "cell_type": "markdown",
   "id": "c4f73fc6-b538-4ee7-aad8-a32222573ec8",
   "metadata": {
    "canvas": {
     "comments": [],
     "componentType": "CodeCell",
     "copiedOriginId": null,
     "diskcache": false,
     "headerColor": "inherit",
     "id": "7e8fe636-faa1-41af-ba8b-1e68b61afeea",
     "isComponent": false,
     "name": "",
     "parents": []
    }
   },
   "source": [
    "## Creating a DataLoader object from a custom PyTorch Dataset"
   ]
  },
  {
   "cell_type": "markdown",
   "id": "7fb22504-0e45-402d-9047-f7553c262301",
   "metadata": {
    "canvas": {
     "comments": [],
     "componentType": "CodeCell",
     "copiedOriginId": null,
     "diskcache": false,
     "headerColor": "inherit",
     "id": "c7246bf4-28d5-4f6c-9eee-6dd075cc45db",
     "isComponent": false,
     "name": "",
     "parents": []
    }
   },
   "source": [
    "A dataloader allows to iterate through a dataset in an organized and efficient manner. It significantly speed up the training process and make better use of the available resources (e.g. GPU memory) by batching, shuffling and pre-fetching the data.\n",
    "\n",
    "My training data being relatively small, it'll allow me to apply data augmentation to improve the performance of the model."
   ]
  },
  {
   "cell_type": "code",
   "execution_count": 10,
   "id": "6e5b1f15-d70d-4b43-a62b-aaf82bde2708",
   "metadata": {
    "canvas": {
     "comments": [],
     "componentType": "CodeCell",
     "copiedOriginId": null,
     "diskcache": false,
     "headerColor": "inherit",
     "id": "65514d04-911a-495a-b120-eff3f1802e94",
     "isComponent": false,
     "name": "",
     "parents": []
    }
   },
   "outputs": [],
   "source": [
    "class SquadDataset(torch.utils.data.Dataset):\n",
    "    \n",
    "    \"\"\"\n",
    "    A custom PyTorch dataset that takes a dictionary of encodings as input and returns a dictionary of PyTorch tensors \n",
    "    when indexed.\n",
    "    \"\"\"\n",
    "    \n",
    "    def __init__(self, encodings):\n",
    "        self.encodings = encodings\n",
    "    def __getitem__(self, idx):\n",
    "        return {key: torch.tensor(val[idx]) for key, val in self.encodings.items()}\n",
    "    def __len__(self):\n",
    "        return len(self.encodings.input_ids)\n",
    "\n",
    "# Instantiate a SquadDataset object with train_encodings as input\n",
    "train_dataset = SquadDataset(train_inputs)\n",
    "\n",
    "# Define a DataLoader for the train_dataset\n",
    "train_loader = DataLoader(train_dataset, batch_size=8, shuffle=True)"
   ]
  },
  {
   "cell_type": "markdown",
   "id": "508495e2-cf1e-4506-bd22-852e21ee0439",
   "metadata": {
    "canvas": {
     "comments": [],
     "componentType": "CodeCell",
     "copiedOriginId": null,
     "diskcache": false,
     "headerColor": "inherit",
     "id": "a94dd658-2ece-4d82-b9d5-f493aacc9118",
     "isComponent": false,
     "name": "",
     "parents": []
    }
   },
   "source": [
    "## Model "
   ]
  },
  {
   "cell_type": "code",
   "execution_count": 11,
   "id": "6ae95b7f-e779-4eee-9823-0d2a8a07fa3b",
   "metadata": {
    "canvas": {
     "comments": [],
     "componentType": "CodeCell",
     "copiedOriginId": null,
     "diskcache": false,
     "headerColor": "inherit",
     "id": "9f765888-4053-4b9b-9ef2-48ebd5f1905a",
     "isComponent": false,
     "name": "",
     "parents": []
    }
   },
   "outputs": [],
   "source": [
    "model = AutoModelForQuestionAnswering.from_pretrained(model_checkpoint)"
   ]
  },
  {
   "cell_type": "markdown",
   "id": "4f28ff4f-23c8-46be-8e1e-c6645a4e5190",
   "metadata": {
    "canvas": {
     "comments": [],
     "componentType": "CodeCell",
     "copiedOriginId": null,
     "diskcache": false,
     "headerColor": "inherit",
     "id": "776a70a0-9fef-4135-9adf-79b0778f0b25",
     "isComponent": false,
     "name": "",
     "parents": []
    }
   },
   "source": [
    "## Fine-tuning"
   ]
  },
  {
   "cell_type": "code",
   "execution_count": null,
   "id": "a722a4e2-0163-4f7f-9a25-a99a2b35bd48",
   "metadata": {
    "canvas": {
     "comments": [],
     "componentType": "CodeCell",
     "copiedOriginId": null,
     "diskcache": false,
     "headerColor": "inherit",
     "id": "efb0bddf-e882-4042-80b4-afa8eec749ed",
     "isComponent": false,
     "name": "",
     "parents": []
    }
   },
   "outputs": [],
   "source": [
    "device = torch.device('cpu')\n",
    "model.to(device)\n",
    "model.train()\n",
    "\n",
    "optim = AdamW(model.parameters(), lr=5e-5)"
   ]
  },
  {
   "cell_type": "code",
   "execution_count": null,
   "id": "c8ea4d6d-4429-42fa-806b-c71017ab8546",
   "metadata": {
    "canvas": {
     "comments": [],
     "componentType": "CodeCell",
     "copiedOriginId": null,
     "diskcache": false,
     "headerColor": "inherit",
     "id": "81ba0810-8105-4531-a4b2-d011e69a390b",
     "isComponent": false,
     "name": "",
     "parents": []
    }
   },
   "outputs": [],
   "source": [
    "for epoch in range(3):\n",
    "    loop = tqdm(train_loader)\n",
    "    for batch in loop:\n",
    "        optim.zero_grad()\n",
    "        \n",
    "        input_ids = batch['input_ids'].to(device)\n",
    "        attention_mask = batch['attention_mask'].to(device)\n",
    "        offset_mapping = batch['offset_mapping'].to(device)\n",
    "        overflow_to_sample_mapping = batch['overflow_to_sample_mapping'].to(device)\n",
    "        start_positions = batch['start_positions'].to(device)\n",
    "        end_positions = batch['end_positions'].to(device)\n",
    "        \n",
    "        outputs = model(inputs_ids, attention_mask=attention_mask,\n",
    "                        start_positions=start_positions,\n",
    "                        end_positions=end_positions)\n",
    "        \n",
    "        loss = output[0]\n",
    "        loss.back"
   ]
  },
  {
   "cell_type": "markdown",
   "id": "349e4606-2bbe-4ac0-b69d-00142a935abf",
   "metadata": {
    "canvas": {
     "comments": [],
     "componentType": "CodeCell",
     "copiedOriginId": null,
     "diskcache": false,
     "headerColor": "inherit",
     "id": "43f0df37-985e-4e71-b6e1-f516f577edcd",
     "isComponent": false,
     "name": "",
     "parents": []
    }
   },
   "source": [
    "idx = 7\n",
    "sample_idx = inputs['overflow_to_sample_mapping'][idx]\n",
    "answer = answers[sample_idx][\"text\"]\n",
    "start = inputs[\"start_positions\"][idx]\n",
    "end = inputs[\"end_positions\"][idx]\n",
    "\n",
    "labeled_answer = tokenizer.decode(inputs[\"input_ids\"][idx][start : end + 1])\n",
    "\n",
    "print(f\"Theoretical answer: {answer}, labels give: {labeled_answer}\")\n",
    "\n"
   ]
  },
  {
   "cell_type": "code",
   "execution_count": null,
   "id": "ee69ecd1-f022-4583-b2b0-d67b10ece5a6",
   "metadata": {
    "canvas": {
     "comments": [],
     "componentType": "CodeCell",
     "copiedOriginId": null,
     "diskcache": false,
     "headerColor": "inherit",
     "id": "a4082528-bcd7-46f4-a4f9-375f1be233d1",
     "isComponent": false,
     "name": "",
     "parents": []
    }
   },
   "outputs": [],
   "source": [
    "print('input_ids :',len(inputs['input_ids'][0]))\n",
    "print('overflow to sample mapping :', inputs['overflow_to_sample_mapping'])\n",
    "print('offset mapping :', len(inputs['offset_mapping']))\n",
    "print('offset mapping :', inputs['offset_mapping'][0])"
   ]
  }
 ],
 "metadata": {
  "canvas": {
   "colorPalette": [
    "inherit",
    "inherit",
    "inherit",
    "inherit",
    "inherit",
    "inherit",
    "inherit",
    "inherit",
    "inherit",
    "inherit"
   ],
   "parameters": [],
   "version": "1.0"
  },
  "kernelspec": {
   "display_name": "gg_jobs_env",
   "language": "python",
   "name": "gg_jobs_env"
  },
  "language_info": {
   "codemirror_mode": {
    "name": "ipython",
    "version": 3
   },
   "file_extension": ".py",
   "mimetype": "text/x-python",
   "name": "python",
   "nbconvert_exporter": "python",
   "pygments_lexer": "ipython3",
   "version": "3.9.16"
  }
 },
 "nbformat": 4,
 "nbformat_minor": 5
}
