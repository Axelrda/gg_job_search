{
 "cells": [
  {
   "cell_type": "code",
   "execution_count": 81,
   "metadata": {},
   "outputs": [],
   "source": [
    "from openai import OpenAI\n",
    "from jobsearch.database import fetch_data_from_postgresql\n",
    "from jobsearch.params import OPENAI_API_KEY\n",
    "from tqdm import tqdm\n",
    "\n",
    "from sklearn.model_selection import train_test_split\n",
    "from datasets import Dataset, DatasetDict, load_dataset, concatenate_datasets\n",
    "\n",
    "import numpy as np\n",
    "import pandas as pd\n",
    "import json\n",
    "from datetime import datetime\n",
    "\n",
    "from jobsearch.utils import request_openai, validate_jsonschema\n",
    "\n",
    "# pd.options.display.max_colwidth = 100\n",
    "# pd.options.display.max_rows = 20"
   ]
  },
  {
   "cell_type": "markdown",
   "metadata": {},
   "source": [
    "### Load data"
   ]
  },
  {
   "cell_type": "code",
   "execution_count": 82,
   "metadata": {},
   "outputs": [
    {
     "name": "stdout",
     "output_type": "stream",
     "text": [
      "Using LOCAL postgres database ...\n"
     ]
    }
   ],
   "source": [
    "data = fetch_data_from_postgresql(import_from_cloud=False)"
   ]
  },
  {
   "cell_type": "markdown",
   "metadata": {},
   "source": [
    "### Prepro"
   ]
  },
  {
   "cell_type": "code",
   "execution_count": 83,
   "metadata": {},
   "outputs": [
    {
     "data": {
      "text/plain": [
       "841"
      ]
     },
     "execution_count": 83,
     "metadata": {},
     "output_type": "execute_result"
    }
   ],
   "source": [
    "df = data.copy()\n",
    "\n",
    "# remove duplicates and nulls\n",
    "df = df.drop_duplicates('description')\n",
    "df = df.dropna(subset='description', axis=0)\n",
    "\n",
    "# subset by date\n",
    "df_subset = df[(df.date_time.dt.date >= (pd.to_datetime('2024-04-07').date())) & (df.date_time.dt.date <= (pd.to_datetime('2024-04-11').date()))]\n",
    "\n",
    "# keep descriptions and ids\n",
    "description_subset = df_subset['description']\n",
    "id_subset = df_subset['id']\n",
    "\n",
    "# convert to list\n",
    "data_to_request = description_subset.copy().to_list()\n",
    "ids = id_subset.copy().to_list()\n",
    "\n",
    "len(data_to_request)"
   ]
  },
  {
   "cell_type": "markdown",
   "metadata": {},
   "source": [
    "#### Get instructions"
   ]
  },
  {
   "cell_type": "code",
   "execution_count": 85,
   "metadata": {},
   "outputs": [],
   "source": [
    "key = 'poste'\n",
    "\n",
    "# INSTRUCTIONS\n",
    "instruction_path = f\"../../data/prompts/{key}_extraction_instructions.txt\" \n",
    "\n",
    "with open(instruction_path, \"r\") as f:\n",
    "    instructions = f.read()\n",
    "\n",
    "# JSON SCHEMA FOR OUTPUT VALIDATION\n",
    "json_schema_path = f'../../data/json_schema/{key}_json_schema.txt'\n",
    "\n",
    "with open(json_schema_path, \"r\") as f:\n",
    "    json_schema = f.read()\n"
   ]
  },
  {
   "cell_type": "markdown",
   "metadata": {},
   "source": [
    "### Request OpenAI API"
   ]
  },
  {
   "cell_type": "code",
   "execution_count": 86,
   "metadata": {},
   "outputs": [
    {
     "name": "stderr",
     "output_type": "stream",
     "text": [
      "  0%|          | 1/841 [00:06<1:33:30,  6.68s/it]"
     ]
    },
    {
     "name": "stdout",
     "output_type": "stream",
     "text": [
      "{\n",
      "  \"poste\": {\n",
      "    \"type_contrat\": \"CDI\",\n",
      "    \"teletravail_possible\": true,\n",
      "    \"experience_pro_requise\": 2,\n",
      "    \"diplomes\": [\"pas de diplome\"],\n",
      "    \"spe_diplomes\": [null],\n",
      "    \"langues\": [\"Anglais\"],\n",
      "    \"stack_technique\": [\"Vue.js\", \"IA\", \"Machine Learning\"]\n",
      "  }\n",
      "}\n"
     ]
    },
    {
     "name": "stderr",
     "output_type": "stream",
     "text": [
      "  0%|          | 2/841 [00:08<50:42,  3.63s/it]  "
     ]
    },
    {
     "name": "stdout",
     "output_type": "stream",
     "text": [
      "{\n",
      "  \"poste\": {\n",
      "    \"type_contrat\": \"CDI\",\n",
      "    \"teletravail_possible\": null,\n",
      "    \"experience_pro_requise\": 5,\n",
      "    \"diplomes\": [\"Bac+5\"],\n",
      "    \"spe_diplomes\": [\"mathématiques appliquées\", \"statistiques\", \"Machine Learning\"],\n",
      "    \"langues\": [\"Anglais\"],\n",
      "    \"stack_technique\": [\"Python\", \"R\", \"SAS\"]\n",
      "  }\n",
      "}\n"
     ]
    },
    {
     "name": "stderr",
     "output_type": "stream",
     "text": [
      "  0%|          | 3/841 [00:11<45:56,  3.29s/it]"
     ]
    },
    {
     "name": "stdout",
     "output_type": "stream",
     "text": [
      "{\n",
      "  \"poste\": {\n",
      "    \"type_contrat\": \"CDI\",\n",
      "    \"teletravail_possible\": true,\n",
      "    \"experience_pro_requise\": 3,\n",
      "    \"diplomes\": [\"Bac+3\", \"Bac+5\"],\n",
      "    \"spe_diplomes\": [\"informatique\"],\n",
      "    \"langues\": [\"Anglais\", \"Francais\", \"autre\"],\n",
      "    \"stack_technique\": [\"Power BI\", \"ETL\", \"SQL\", \"Talend\", \"Qlik Sense\", \"Oracle\", \"MongoDB\"]\n",
      "  }\n",
      "}\n"
     ]
    },
    {
     "name": "stderr",
     "output_type": "stream",
     "text": [
      "  0%|          | 4/841 [00:13<38:55,  2.79s/it]"
     ]
    },
    {
     "name": "stdout",
     "output_type": "stream",
     "text": [
      "{\n",
      "  \"poste\": {\n",
      "    \"type_contrat\": \"freelance\",\n",
      "    \"teletravail_possible\": null,\n",
      "    \"experience_pro_requise\": 5,\n",
      "    \"diplomes\": [\"Master\"],\n",
      "    \"spe_diplomes\": [\"Materials Engineering\", \"Chemistry\"],\n",
      "    \"langues\": [\"Anglais\"],\n",
      "    \"stack_technique\": [\"applicable code & standards related to Painting and Insulation\"]\n",
      "  }\n",
      "}\n"
     ]
    },
    {
     "name": "stderr",
     "output_type": "stream",
     "text": [
      "  1%|          | 5/841 [00:15<35:40,  2.56s/it]"
     ]
    },
    {
     "name": "stdout",
     "output_type": "stream",
     "text": [
      "{\n",
      "  \"poste\": {\n",
      "    \"type_contrat\": \"CDI\",\n",
      "    \"teletravail_possible\": true,\n",
      "    \"experience_pro_requise\": 6,\n",
      "    \"diplomes\": [\"pas de diplome\"],\n",
      "    \"spe_diplomes\": [null],\n",
      "    \"langues\": [\"Francais\", \"Anglais\"],\n",
      "    \"stack_technique\": [\"SQL\", \"Big Data/NoSQL ecosystem\", \"Snowflake\", \"Databricks\", \"Looker\"]\n",
      "  }\n",
      "}\n"
     ]
    },
    {
     "name": "stderr",
     "output_type": "stream",
     "text": [
      "  1%|          | 6/841 [00:17<35:39,  2.56s/it]"
     ]
    },
    {
     "name": "stdout",
     "output_type": "stream",
     "text": [
      "{\n",
      "  \"poste\": {\n",
      "    \"type_contrat\": \"CDI\",\n",
      "    \"teletravail_possible\": true,\n",
      "    \"experience_pro_requise\": 5,\n",
      "    \"diplomes\": [\"Master\"],\n",
      "    \"spe_diplomes\": [\"informatique\"],\n",
      "    \"langues\": [\"Francais\", \"Anglais\"],\n",
      "    \"stack_technique\": [\"Python\", \"SQL\", \"Terraform\", \"Docker\", \"Gitlab\", \"Jenkins\", \"GCP\", \"Cloud Composer / Airflow\", \"Cloudrun\", \"BigQuery\", \"DataProc / Spark\", \"Cloud Batch\", \"Kubernetes Engine\", \"Vertex AI\", \"Cloud Storage\"]\n",
      "  }\n",
      "}\n"
     ]
    },
    {
     "name": "stderr",
     "output_type": "stream",
     "text": [
      "  1%|          | 7/841 [00:21<40:02,  2.88s/it]"
     ]
    },
    {
     "name": "stdout",
     "output_type": "stream",
     "text": [
      "{\n",
      "  \"poste\": {\n",
      "    \"type_contrat\": \"stage\",\n",
      "    \"teletravail_possible\": false,\n",
      "    \"experience_pro_requise\": 1,\n",
      "    \"diplomes\": [\"Licence\", \"Master\", \"Doctorat\", \"Bac+3\", \"Bac+5\", \"Bac+7\", \"pas de diplome\", \"autre\"],\n",
      "    \"spe_diplomes\": [\"Data Science\", \"Statistiques\", \"Machine Learning\", \"Data Analysis\"],\n",
      "    \"langues\": [\"Anglais\", \"Francais\", \"Espagnol\", \"Allemand\", \"Italien\", \"Portuguais\", \"autre\"],\n",
      "    \"stack_technique\": [\"Python\", \"Scikit-Learn\", \"Pandas\", \"Numpy\", \"Matplotlib\", \"SQL\"]\n",
      "  }\n",
      "}\n"
     ]
    },
    {
     "name": "stderr",
     "output_type": "stream",
     "text": [
      "  1%|          | 8/841 [00:22<33:53,  2.44s/it]"
     ]
    },
    {
     "name": "stdout",
     "output_type": "stream",
     "text": [
      "{\n",
      "  \"poste\": {\n",
      "    \"type_contrat\": \"freelance\",\n",
      "    \"teletravail_possible\": true,\n",
      "    \"experience_pro_requise\": 5,\n",
      "    \"diplomes\": [\"pas de diplome\"],\n",
      "    \"spe_diplomes\": [null],\n",
      "    \"langues\": [\"Anglais\", \"Francais\"],\n",
      "    \"stack_technique\": [\"search engines\", \"map applications\", \"social media platforms\"]\n",
      "  }\n",
      "}\n"
     ]
    },
    {
     "name": "stderr",
     "output_type": "stream",
     "text": [
      "  1%|          | 9/841 [00:24<31:35,  2.28s/it]"
     ]
    },
    {
     "name": "stdout",
     "output_type": "stream",
     "text": [
      "{\n",
      "  \"poste\": {\n",
      "    \"type_contrat\": \"alternance\",\n",
      "    \"teletravail_possible\": false,\n",
      "    \"experience_pro_requise\": 1,\n",
      "    \"diplomes\": [\"Master\", null],\n",
      "    \"spe_diplomes\": [\"BI/Data analytics\"],\n",
      "    \"langues\": [\"Anglais\", null],\n",
      "    \"stack_technique\": [\"PowerBI\", \"Looker Studio\", \"Tableau\", \"Web Analytics\", \"Tag Management System\", \"provider(s) cloud (AWS, GCP, Azure)\", \"SQL\", \"Python\", \"Dax (PowerBI)\"]\n",
      "  }\n",
      "}\n"
     ]
    },
    {
     "name": "stderr",
     "output_type": "stream",
     "text": [
      "  1%|          | 10/841 [00:26<30:01,  2.17s/it]"
     ]
    },
    {
     "name": "stdout",
     "output_type": "stream",
     "text": [
      "{\n",
      "  \"poste\": {\n",
      "    \"type_contrat\": \"CDI\",\n",
      "    \"teletravail_possible\": true,\n",
      "    \"experience_pro_requise\": 5,\n",
      "    \"diplomes\": [\"Licence\", \"Master\"],\n",
      "    \"spe_diplomes\": [\"informatique\", \"ingénierie\"],\n",
      "    \"langues\": [\"Anglais\", \"Francais\", \"autre\"],\n",
      "    \"stack_technique\": [\"Snowflake\", \"SQL\", \"Hadoop\", \"Spark\", \"Kafka\", \"Airflow\", \"services cloud\", \"Storm\", \"Spark-Streaming\"]\n",
      "  }\n",
      "}\n"
     ]
    },
    {
     "name": "stderr",
     "output_type": "stream",
     "text": [
      "  1%|▏         | 11/841 [00:28<26:41,  1.93s/it]"
     ]
    },
    {
     "name": "stdout",
     "output_type": "stream",
     "text": [
      "{\n",
      "  \"poste\": {\n",
      "    \"type_contrat\": \"alternance\",\n",
      "    \"teletravail_possible\": false,\n",
      "    \"experience_pro_requise\": 1,\n",
      "    \"diplomes\": [\"pas de diplome\"],\n",
      "    \"spe_diplomes\": [\"Data Management\"],\n",
      "    \"langues\": [\"Francais\"],\n",
      "    \"stack_technique\": [\"Data\", \"Cloud\", \"IA\", \"Données distribuées\", \"Datastreaming\"]\n",
      "  }\n",
      "}\n"
     ]
    },
    {
     "name": "stderr",
     "output_type": "stream",
     "text": [
      "  1%|▏         | 12/841 [00:30<30:43,  2.22s/it]"
     ]
    },
    {
     "name": "stdout",
     "output_type": "stream",
     "text": [
      "{\n",
      "  \"poste\": {\n",
      "    \"type_contrat\": \"CDI\",\n",
      "    \"teletravail_possible\": true,\n",
      "    \"experience_pro_requise\": 4,\n",
      "    \"diplomes\": [\"Licence\", \"Master\", \"Doctorat\", \"Bac+3\", \"Bac+5\", \"Bac+7\", \"pas de diplome\", \"autre\"],\n",
      "    \"spe_diplomes\": [\"Computer Science\", \"Engineering\", \"related field\"],\n",
      "    \"langues\": [\"Anglais\", \"Francais\", \"Espagnol\", \"Allemand\", \"Italien\", \"Portuguais\", \"autre\"],\n",
      "    \"stack_technique\": [\"Python\", \"SQL\", \"Kafka\", \"Pub / Sub\"]\n",
      "  }\n",
      "}\n"
     ]
    },
    {
     "name": "stderr",
     "output_type": "stream",
     "text": [
      "  2%|▏         | 13/841 [00:32<28:10,  2.04s/it]"
     ]
    },
    {
     "name": "stdout",
     "output_type": "stream",
     "text": [
      "{\n",
      "  \"poste\": {\n",
      "    \"type_contrat\": \"freelance\",\n",
      "    \"teletravail_possible\": true,\n",
      "    \"experience_pro_requise\": 2,\n",
      "    \"diplomes\": [\"pas de diplome\"],\n",
      "    \"spe_diplomes\": [null],\n",
      "    \"langues\": [null],\n",
      "    \"stack_technique\": [\"Data Engineer\", \"Data Analyst\", \"architecte Data\"]\n",
      "  }\n",
      "}\n"
     ]
    },
    {
     "name": "stderr",
     "output_type": "stream",
     "text": [
      "  2%|▏         | 14/841 [00:34<26:44,  1.94s/it]"
     ]
    },
    {
     "name": "stdout",
     "output_type": "stream",
     "text": [
      "{\n",
      "  \"poste\": {\n",
      "    \"type_contrat\": \"CDI\",\n",
      "    \"teletravail_possible\": true,\n",
      "    \"experience_pro_requise\": 8,\n",
      "    \"diplomes\": [\"Master\"],\n",
      "    \"spe_diplomes\": [\"Mechanical engineer\", \"Naval engineer\"],\n",
      "    \"langues\": [\"Francais\", \"Anglais\"],\n",
      "    \"stack_technique\": [\"Solidworks\", \"CFD (SolidEdge or similar)\", \"Orcaflex (preferable)\"]\n",
      "  }\n",
      "}\n"
     ]
    },
    {
     "name": "stderr",
     "output_type": "stream",
     "text": [
      "  2%|▏         | 15/841 [00:36<26:06,  1.90s/it]"
     ]
    },
    {
     "name": "stdout",
     "output_type": "stream",
     "text": [
      "{\n",
      "  \"poste\": {\n",
      "    \"type_contrat\": \"alternance\",\n",
      "    \"teletravail_possible\": false,\n",
      "    \"experience_pro_requise\": 1,\n",
      "    \"diplomes\": [\"Licence\", \"Master\", \"Doctorat\", \"Bac+3\", \"Bac+5\", \"Bac+7\", \"pas de diplome\", \"autre\"],\n",
      "    \"spe_diplomes\": [\"datascience\"],\n",
      "    \"langues\": [\"Anglais\", \"autre\"],\n",
      "    \"stack_technique\": [\"Python\", \"R\", \"SQL\"]\n",
      "  }\n",
      "}\n"
     ]
    },
    {
     "name": "stderr",
     "output_type": "stream",
     "text": [
      "  2%|▏         | 16/841 [00:37<24:47,  1.80s/it]"
     ]
    },
    {
     "name": "stdout",
     "output_type": "stream",
     "text": [
      "{\n",
      "  \"poste\": {\n",
      "    \"type_contrat\": \"CDI\",\n",
      "    \"teletravail_possible\": true,\n",
      "    \"experience_pro_requise\": 3,\n",
      "    \"diplomes\": [\"pas de diplome\"],\n",
      "    \"spe_diplomes\": [null],\n",
      "    \"langues\": [null],\n",
      "    \"stack_technique\": [\"Python\", \"Apache Spark\", \"Apache Airflow\", \"Docker\", \"Kubernetes\", \"Kafka\", \"Snowflake\", \"DBT\"]\n",
      "  }\n",
      "}\n"
     ]
    },
    {
     "name": "stderr",
     "output_type": "stream",
     "text": [
      "  2%|▏         | 17/841 [00:39<24:56,  1.82s/it]"
     ]
    },
    {
     "name": "stdout",
     "output_type": "stream",
     "text": [
      "{\n",
      "  \"poste\": {\n",
      "    \"type_contrat\": \"CDI\",\n",
      "    \"teletravail_possible\": false,\n",
      "    \"experience_pro_requise\": 1,\n",
      "    \"diplomes\": [\"Master\"],\n",
      "    \"spe_diplomes\": [\"informatique\", \"développement\", \"statistiques\"],\n",
      "    \"langues\": [\"Anglais\"],\n",
      "    \"stack_technique\": [\"Python\", \"SQL\", \"Numpy\", \"Pandas\", \"Scikit-Learn\"]\n",
      "  }\n",
      "}\n"
     ]
    },
    {
     "name": "stderr",
     "output_type": "stream",
     "text": [
      "  2%|▏         | 18/841 [00:41<25:14,  1.84s/it]"
     ]
    },
    {
     "name": "stdout",
     "output_type": "stream",
     "text": [
      "{\n",
      "  \"poste\": {\n",
      "    \"type_contrat\": \"CDI\",\n",
      "    \"teletravail_possible\": true,\n",
      "    \"experience_pro_requise\": 5,\n",
      "    \"diplomes\": [\"pas de diplome\"],\n",
      "    \"spe_diplomes\": [\"Poudlard\"],\n",
      "    \"langues\": [\"Anglais\"],\n",
      "    \"stack_technique\": [\"SQL\", \"DEVOPS\", \"Python\", \"Flask\", \"TimescaleDB\", \"Angular\", \"Highcharts\", \"Apache POI\", \"AWS\"]\n",
      "  }\n",
      "}\n"
     ]
    },
    {
     "name": "stderr",
     "output_type": "stream",
     "text": [
      "  2%|▏         | 19/841 [00:43<25:59,  1.90s/it]"
     ]
    },
    {
     "name": "stdout",
     "output_type": "stream",
     "text": [
      "{\n",
      "  \"poste\": {\n",
      "    \"type_contrat\": \"alternance\",\n",
      "    \"teletravail_possible\": false,\n",
      "    \"experience_pro_requise\": 1,\n",
      "    \"diplomes\": [\"Bac+5\"],\n",
      "    \"spe_diplomes\": [\"Data Science\"],\n",
      "    \"langues\": [\"Francais\", \"Anglais\", \"autre\"],\n",
      "    \"stack_technique\": [\"Python\", \"R\", \"SQL\", \"Cloud\", \"Cloudera\"]\n",
      "  }\n",
      "}\n"
     ]
    },
    {
     "name": "stderr",
     "output_type": "stream",
     "text": [
      "  2%|▏         | 20/841 [00:45<27:37,  2.02s/it]"
     ]
    },
    {
     "name": "stdout",
     "output_type": "stream",
     "text": [
      "{\n",
      "  \"poste\": {\n",
      "    \"type_contrat\": \"alternance\",\n",
      "    \"teletravail_possible\": true,\n",
      "    \"experience_pro_requise\": 1,\n",
      "    \"diplomes\": [\"Bac+5\"],\n",
      "    \"spe_diplomes\": [\"Data Science\", \"Ingénierie\"],\n",
      "    \"langues\": [\"Anglais\", \"Francais\"],\n",
      "    \"stack_technique\": [\"Python\", \"R\", \"sciences de la donnée\", \"statistiques\", \"algorithmes de machine learning\", \"bases de données\", \"NoSQL\", \"Hadoop\", \"gestion de configuration\"]\n",
      "  }\n",
      "}\n"
     ]
    },
    {
     "name": "stderr",
     "output_type": "stream",
     "text": [
      "  2%|▏         | 21/841 [00:47<26:02,  1.91s/it]"
     ]
    },
    {
     "name": "stdout",
     "output_type": "stream",
     "text": [
      "{\n",
      "  \"poste\": {\n",
      "    \"type_contrat\": \"alternance\",\n",
      "    \"teletravail_possible\": false,\n",
      "    \"experience_pro_requise\": 1,\n",
      "    \"diplomes\": [\"Bac+3\", \"Bac+5\", \"Bac+7\"],\n",
      "    \"spe_diplomes\": [\"informatique\", \"DATA\"],\n",
      "    \"langues\": [null],\n",
      "    \"stack_technique\": [\"SQL\", \"dataprep\", \"dataviz\", \"Excel\"]\n",
      "  }\n",
      "}\n"
     ]
    },
    {
     "name": "stderr",
     "output_type": "stream",
     "text": [
      "  3%|▎         | 22/841 [00:49<25:23,  1.86s/it]"
     ]
    },
    {
     "name": "stdout",
     "output_type": "stream",
     "text": [
      "{\n",
      "  \"poste\": {\n",
      "    \"type_contrat\": \"CDI\",\n",
      "    \"teletravail_possible\": true,\n",
      "    \"experience_pro_requise\": 1,\n",
      "    \"diplomes\": [\"Bac+5\"],\n",
      "    \"spe_diplomes\": [\"Ingénieur\"],\n",
      "    \"langues\": [\"Francais\", \"Anglais\", \"autre\"],\n",
      "    \"stack_technique\": [\"SQL\", \"Python\", \"R\", \"Tableau\", \"Power BI\"]\n",
      "  }\n",
      "}\n"
     ]
    },
    {
     "name": "stderr",
     "output_type": "stream",
     "text": [
      "  3%|▎         | 23/841 [00:50<25:12,  1.85s/it]"
     ]
    },
    {
     "name": "stdout",
     "output_type": "stream",
     "text": [
      "{\n",
      "  \"poste\": {\n",
      "    \"type_contrat\": \"alternance\",\n",
      "    \"teletravail_possible\": false,\n",
      "    \"experience_pro_requise\": 1,\n",
      "    \"diplomes\": [\"Bac+5\"],\n",
      "    \"spe_diplomes\": [\"informatique\"],\n",
      "    \"langues\": [\"Anglais\", \"Francais\"],\n",
      "    \"stack_technique\": [\"data science\", \"développement\"]\n",
      "  }\n",
      "}\n"
     ]
    },
    {
     "name": "stderr",
     "output_type": "stream",
     "text": [
      "  3%|▎         | 24/841 [00:54<31:06,  2.28s/it]"
     ]
    },
    {
     "name": "stdout",
     "output_type": "stream",
     "text": [
      "{\n",
      "  \"poste\": {\n",
      "    \"type_contrat\": \"CDI\",\n",
      "    \"teletravail_possible\": true,\n",
      "    \"experience_pro_requise\": 3,\n",
      "    \"diplomes\": [\"Bac+3\", \"Bac+5\", \"Doctorat\"],\n",
      "    \"spe_diplomes\": [\"Informatique\", \"Data science\", \"Gestion des données\"],\n",
      "    \"langues\": [\"Anglais\", \"Francais\"],\n",
      "    \"stack_technique\": [\"SSIS\", \"ETL\", \"ELT\", \"Datawarehouse\", \"Azure\", \"NoSQL\", \"Big data\"]\n",
      "  }\n",
      "}\n"
     ]
    },
    {
     "name": "stderr",
     "output_type": "stream",
     "text": [
      "  3%|▎         | 25/841 [00:56<29:54,  2.20s/it]"
     ]
    },
    {
     "name": "stdout",
     "output_type": "stream",
     "text": [
      "{\n",
      "  \"poste\": {\n",
      "    \"type_contrat\": \"CDI\",\n",
      "    \"teletravail_possible\": false,\n",
      "    \"experience_pro_requise\": 2,\n",
      "    \"diplomes\": [\"Master\"],\n",
      "    \"spe_diplomes\": [\"Informatique\"],\n",
      "    \"langues\": [\"Francais\", \"Anglais\", \"autre\"],\n",
      "    \"stack_technique\": [\"GCP\", \"BigQuery\", \"QlikSense\", \"Tableau Software\", \"Power BI\", \"Python\", \"R\"]\n",
      "  }\n",
      "}\n"
     ]
    },
    {
     "name": "stderr",
     "output_type": "stream",
     "text": [
      "  3%|▎         | 26/841 [00:58<28:08,  2.07s/it]"
     ]
    },
    {
     "name": "stdout",
     "output_type": "stream",
     "text": [
      "{\n",
      "  \"poste\": {\n",
      "    \"type_contrat\": \"CDI\",\n",
      "    \"teletravail_possible\": false,\n",
      "    \"experience_pro_requise\": 2,\n",
      "    \"diplomes\": [\"Bac+3\", \"Bac+5\", \"Master\", \"Doctorat\"],\n",
      "    \"spe_diplomes\": [\"Statistiques\", \"Mathématiques\", \"Informatique\"],\n",
      "    \"langues\": [\"Francais\", \"Anglais\"],\n",
      "    \"stack_technique\": [\"Excel\", \"PowerBi\"]\n",
      "  }\n",
      "}\n"
     ]
    },
    {
     "name": "stderr",
     "output_type": "stream",
     "text": [
      "  3%|▎         | 27/841 [01:00<28:05,  2.07s/it]"
     ]
    },
    {
     "name": "stdout",
     "output_type": "stream",
     "text": [
      "{\n",
      "  \"poste\": {\n",
      "    \"type_contrat\": \"CDI\",\n",
      "    \"teletravail_possible\": true,\n",
      "    \"experience_pro_requise\": 3,\n",
      "    \"diplomes\": [\"Bac+5\"],\n",
      "    \"spe_diplomes\": [\"informatique\", \"statistiques\", \"mathématiques\", \"économétrie\", \"big data\"],\n",
      "    \"langues\": [\"Francais\", \"Anglais\"],\n",
      "    \"stack_technique\": [\"Python\", \"R\", \"SQL\", \"Spark\", \"GCP\", \"Azure\"]\n",
      "  }\n",
      "}\n"
     ]
    },
    {
     "name": "stderr",
     "output_type": "stream",
     "text": [
      "  3%|▎         | 28/841 [02:55<8:08:28, 36.05s/it]"
     ]
    },
    {
     "name": "stdout",
     "output_type": "stream",
     "text": [
      "{\n",
      "  \"poste\": {\n",
      "    \"type_contrat\": \"CDI\",\n",
      "    \"teletravail_possible\": false,\n",
      "    \"experience_pro_requise\": 2,\n",
      "    \"diplomes\": [\"Bac+5\"],\n",
      "    \"spe_diplomes\": null,\n",
      "    \"langues\": [\"Anglais\"],\n",
      "    \"stack_technique\": [\"Data Bricks\", \"Power BI\", \"Azure\", \"Data factory\", \"Python\", \"CI/CD tools\", \"SQL\"],\n",
      "  \"type\": \"object\",\n",
      "  \"properties\": {\n",
      "    \"type_contrat\": {\n",
      "      \"type\": \"string\",\n",
      "      \"enum\": [\"CDI\", \"CDD\", \"stage\", \"alternance\", \"freelance\", \"null\"]\n",
      "    },\n",
      "    \"teletravail_possible\": {\n",
      "      \"type\": \"boolean\"\n",
      "    },\n",
      "    \"experience_pro_requise\": {\n",
      "      \"type\": \"integer\",\n",
      "      \"minimum\": 1\n",
      "    },\n",
      "    \"diplomes\": {\n",
      "      \"type\": \"array\",\n",
      "      \"items\": {\n",
      "        \"type\": \"string\",\n",
      "        \"enum\": [\"Licence\", \"Master\", \"Doctorat\", \"Bac+3\", \"Bac+5\", \"Bac+7\", \"pas de diplome\", \"autre\", \"null\"]\n",
      "      }\n",
      "    },\n",
      "    \"spe_diplomes\": {\n",
      "      \"type\": \"array\",\n",
      "      \"items\": {\n",
      "        \"type\": \"string\",\n",
      "        \"null\"\n",
      "     \n",
      "     \n",
      "   \n",
      "         \n",
      "                       \n",
      "                    \n",
      "                                         \n",
      "                                                                             \n",
      "                                                                                                                                                                                                                              \n",
      "    \n",
      "                                                                         \n",
      "                                                 \n",
      "                                                                                                                                                                            \n",
      "                                                                                \n",
      "                                                   \n",
      "                                                                                       \n",
      "                                                                                                                                                                                                                             \n",
      "                                                                                                                                                                                                                     \n",
      "                                                                                                                                                                                                                                \n",
      "                                                            \n",
      "                                                   \n",
      "                                                                                       \n",
      "                                                                                                                                                                                                                             \n",
      "                                                                                                                                                                                                                     \n",
      "                                                                                                                                                                                                                                \n",
      "                                                             \n",
      "                                                                  \n",
      "                                       \n",
      "                                                                                                      \n",
      "                                                                                                                                                           \n",
      "                                                                                    \n",
      "                                                                                                                                                           \n",
      "                                                                                                                                                             \n",
      "                                                                                                                                                                        \n",
      "    \n",
      "                                                    \n",
      "       \n",
      "                                                                     \n",
      "    \n",
      "      \n",
      "         \n",
      "                                                         \n",
      "                                                            \n",
      "              \n",
      "      \n",
      "                    \n",
      "          \n",
      "                    \n",
      "          \n",
      "    \n",
      "    \n",
      "                    \n",
      "           \n",
      "          \n",
      " \n",
      "                                                                                                                                                                                                                                               \n",
      "                                                                                                                                \n",
      "                                  \n",
      "                                                                                                                                                                              \n",
      "                                                                                                                                                                                     \n",
      "                                                                                                                                                                                              \n",
      "                    \n",
      "          \n",
      "                                                                    \n",
      " \n",
      "                                                    \n",
      "         \n",
      "                                                                                                                                                                                          \n",
      "     \n",
      "                                                                                                                                                                   \n",
      "                       \n",
      "                                                            \n",
      "                     \n",
      "          \n",
      "                      \n",
      "                                   \n",
      "             \n",
      "          \n",
      "              \n",
      "                      \n",
      "                               \n",
      "                                                      \n",
      "                                                                                                        \n",
      "                                                                                                                                              \n",
      "                                                                                                                                                                                                   \n",
      "              \n",
      "                                                                                                                                        \n",
      "                                                                                                                                             \n",
      "                                        \n",
      "                                                                                                                                                              \n",
      "   \n",
      "                                                                                                                \n",
      "   \n",
      "    \n",
      "                                                                                                \n",
      "                                                                                                                                      \n",
      "       \n",
      "                                                                     \n",
      "    \n",
      "       \n",
      "          \n",
      "                             \n",
      "                                     \n",
      "       \n",
      "          \n",
      "               \n",
      "                                                                    \n",
      " \n",
      "                                                    \n",
      "          \n",
      "                                                                     \n",
      "    \n",
      "            \n",
      "                    \n",
      "         \n",
      "                          \n",
      "                                          \n",
      "              \n",
      "                      \n",
      "                         \n",
      "              \n",
      "                                                                                                                                                     \n",
      "                                                                                                                                                                                                         \n",
      "                \n",
      "                                                                                                                                              \n",
      "                                                                                                                                    \n",
      "                         \n",
      "              \n",
      "                                                                                                                                                     \n",
      "   \n",
      "                                                 \n",
      " \n",
      "                                                                                                                                                                     \n",
      "          \n",
      "                                                                                                                                                                                  \n",
      "   \n",
      "                                                                                                                                                                                             \n",
      "\n",
      "                                                                                                       \n",
      "                                                                                                                                                                                              \n",
      "   \n",
      "                                               \n",
      "                                                                        \n",
      "                                                                                                                                              \n",
      "                                                                                                                                    \n",
      "                         \n",
      "              \n",
      "                                                                                                                                                                                                            \n",
      "                                                                                                                                                                                                         \n",
      "                \n",
      "                                                                                                                                              \n",
      "                                                                                                                                    \n",
      "                         \n",
      "              \n",
      "                                                                                                                                                                                           \n",
      "                                                                                                                                                                                                         \n",
      "   \n",
      "                                                                                                                                                                                   \n",
      "                                                                                                                                                                                              \n",
      "                                                                                                                                                                            \n",
      "                                                                                                                                    \n",
      "                               \n",
      " \n",
      "                                                                                                        \n",
      " \n",
      "                                                                                                                                                 \n",
      " \n",
      "      \n",
      "                 \n",
      "      \n",
      "  \n",
      "                                                                                                                                                                                            \n",
      "  \n",
      "                                                                                                          \n",
      "                                                                                                                                                                                                            \n",
      "                                                                                                                                                                     \n",
      "  \n",
      "                                                                                                                                                                                                                                            \n",
      "                                                                                                                                    \n",
      "                               \n",
      " \n",
      "                                                                                                        \n",
      "                                           \n",
      "                                                                                 \n",
      "                                                                                                                                                               \n",
      "   \n",
      "                                                                                                                                                                                                    \n",
      "                                                                                                                                                                                          \n",
      "                                                                                                                                                                                                           \n",
      "   \n",
      "                                                                                                                                                                                     \n",
      "                                                               \n",
      " \n",
      "                                                                                                                                                                                                                                            \n",
      "                                                                                                                                                                                                         \n",
      "                     \n",
      "                                                                                                                                                   \n",
      " \n",
      "                                                                                                                                                                                                                                                          \n",
      "             \n",
      "                               \n",
      "                                                   \n",
      "                                                                                                                                                              \n",
      " \n",
      "                                                                                                \n",
      "                                                                                                                                                  \n",
      " \n",
      "          \n",
      "                                    \n",
      "                                                                                                                                                                       \n",
      "                                                             \n",
      " \n",
      "                                                                                                          \n",
      "                                                                                                                                                                             \n",
      "   \n",
      "                                                                                                                                                                                                            \n",
      "                                                                                                                           \n",
      "                                                                                                                                               \n",
      "                                                                                                                                                                        \n",
      " \n",
      "    \n",
      "                                                                     \n",
      "    \n",
      " \n",
      "                                                                                                                                                                                                                                \n",
      "                                                                                                                                                                                                         \n",
      "                     \n",
      " \n",
      "                                                                                                                                                                                                                                                          \n",
      "                                                                                                                                                                                                                                                                \n",
      "                                           \n",
      " \n",
      "    \n",
      "                                                                     \n",
      "    \n",
      "       \n",
      "          \n",
      "                             \n",
      "                                     \n",
      "                                                                                                                                                                                                                        \n",
      "                     \n",
      "                                                                                                    \n",
      " \n",
      "    \n",
      "                                                                     \n",
      "    \n",
      " \n",
      "                                                                                                                                                                                                                                 \n",
      " \n",
      "                                                                                                                                                                                                                                                         \n",
      " \n",
      "                                                                                                                                                                                                                                                          \n",
      "                                                                                                                                                                                                                                                                \n",
      "                                           \n",
      " \n",
      "    \n",
      "                                                                     \n",
      "  \n",
      "                                                                                                                                                                                                                  \n",
      " \n",
      "    \n",
      "                                                                     \n",
      "    \n",
      "      \n",
      "          \n",
      "                             \n",
      "                                     \n",
      "                                                                                                                                                                                                                        \n",
      "                     \n",
      "                                                                                                    \n",
      " \n",
      "    \n",
      "                                                                     \n",
      "    \n",
      " \n",
      "                                                                                                                    \n",
      "                                                                                                                                                                                 \n",
      "                                                                                                                                                                                                         \n",
      "                     \n",
      " \n",
      "    \n",
      "                                                                     \n",
      "  \n",
      " \n",
      " \n",
      "    \n",
      "                                                                     \n",
      " \n",
      "                                                                                                                                                                                                                         \n",
      " \n",
      "    \n",
      "                                                                     \n",
      "    \n",
      " \n",
      "    \n",
      "                                                                     \n",
      " \n",
      "                                                                                                                                                                                                                                                                            \n",
      " \n",
      "    \n",
      "                                                                     \n",
      " \n",
      " \n",
      "    \n",
      "                                                                     \n",
      " \n",
      "                                                                                                                                                                                                                         \n",
      " \n",
      "    \n",
      "                                                                     \n",
      " \n",
      " \n",
      "    \n",
      "                                                                     \n",
      " \n",
      "                                                                                                                                                                                                                         \n",
      " \n",
      "    \n",
      "                                                                     \n",
      " \n",
      "\n",
      " \n",
      "         \n",
      "                                                                                                                                                                                                                            \n",
      "                                                                                                                                                                                                                                                       \n",
      "                                                                                                                                                                                      \n",
      "                                                                                                                                                                                                                           \n",
      "                                                                                                                                                     \n",
      "                                                                                                                                                                                                                                                                                                                                                                      \n",
      " \n",
      "                                                                                                           \n",
      "                                                                                                                                                                                                                                                      \n",
      "                                                                                                                                                                                                                                                                                                                                                          \n",
      " \n",
      "    \n",
      "                                                                     \n",
      " \n",
      "                                                \n",
      " \n",
      "    \n",
      "                                                                     \n",
      " \n",
      "                                                \n",
      " \n",
      "    \n",
      "                                                                     \n",
      " \n",
      " \n",
      "    \n",
      "                                                                     \n",
      " \n",
      "                                                                                                                                                                                    \n",
      " \n",
      "                                                                                                \n",
      " \n",
      "                                                                                                                                                                                                               \n",
      "                                                                                                                                                                                                                                                               \n",
      " \n",
      "                                                                                                          \n",
      "                                                                                                                                                          \n",
      "                                                                                                                                                   \n",
      " \n",
      "                                                                                                          \n",
      "                                                                                                                                                                       \n",
      " \n",
      "                                                                                                                                               \n",
      "                                                                                                                                                                                                                                            \n",
      " \n",
      "                                                                                                           \n",
      "                                                                                                                                                                               \n",
      "                                                                                                                                                                                                                                            \n",
      " \n",
      "    \n",
      "                                                                     \n",
      " \n",
      "                                                                                                                                                                                    \n",
      " \n",
      "    \n",
      "                                                                     \n",
      " \n",
      " \n",
      "                                                                                                                    \n",
      " \n",
      "                                                                                                          \n",
      "                                                                                                                                                          \n",
      "                                                                                                                                                   \n",
      " \n",
      "                                                                                                          \n",
      "                                                                                                                                                                       \n",
      " \n",
      "                                                                                                                                               \n",
      "                                                                                                                                                                                                                                            \n",
      " \n",
      "                                                                                                           \n",
      "                                                                                                                                                                               \n",
      "                                                                                                                                                                                                                                            \n",
      " \n",
      "    \n",
      "                                                                     \n",
      " \n",
      "                                                                                                                                                                                    \n",
      " \n",
      "    \n",
      "                                                                     \n",
      "  \n",
      "                                                                                                                                                                                                                               \n",
      "   \n",
      "                                                                     \n",
      "    \n",
      "      \n",
      "         \n",
      "                                                                          \n",
      " \n",
      "                                                                                                                                        \n",
      "   \n",
      "        \n",
      "                             \n",
      "                                     \n",
      " \n",
      "    \n",
      "                                                                     \n",
      "    \n",
      "      \n",
      "         \n",
      "                                                                          \n",
      " \n",
      "                                                                                                                                        \n",
      "   \n",
      "        \n",
      "                             \n",
      "                                     \n",
      " \n",
      "    \n",
      "                                                                     \n",
      " \n",
      " \n",
      "      \n",
      "         \n",
      "                                                                                     \n",
      " \n",
      "                                                                                                                                                                                                                     \n",
      " \n",
      "                                                                                                                                                                                                                                                                                                                                                                                                                                                                                                                                                                                                                                                                                                                                                                                                                                                                                                                                                                                                                            \n",
      "                                                                                 \n",
      " \n",
      "                                                                                                           \n",
      "                                                              \n",
      " \n",
      "                                                                                                                                                                                                                                        \n",
      " \n",
      "    \n",
      "                                                                     \n",
      " \n",
      "     \n",
      "                                                                                                                                                                                                                             \n",
      "                     \n",
      "                                                                                                                                                                                                                                                                                                                                                                   \n",
      " \n",
      "    \n",
      "                                                                     \n",
      " \n",
      "    \n",
      "                                                                     \n",
      " \n",
      " \n",
      "                                                                                                                                                                                     \n",
      " \n",
      "    \n",
      "                                                                     \n",
      "     \n",
      " \n",
      "                                                                                                                                                                                                                                                                                                                     \n",
      " \n",
      "    \n",
      "                                                                     \n",
      " \n",
      " \n",
      "                                                                                                                                                                                     \n",
      " \n",
      "    \n",
      "                                                                     \n",
      "     \n",
      " \n",
      "                                                                                                                                                                                                                                                                                                                     \n",
      " \n",
      "    \n",
      "                                                                     \n",
      " \n",
      " \n",
      "    \n",
      "                                                                                                                                                                                                                              \n",
      " \n",
      "    \n",
      "                                                                     \n",
      " \n",
      " \n",
      "                                                                                                                                                                                     \n",
      " \n",
      "    \n",
      "                                                                     \n",
      "     \n",
      " \n",
      "                                                                                                                                                                                                                                                                                                                     \n",
      " \n",
      "    \n",
      "                                                                     \n",
      "   \n",
      " \n",
      "                                                                                                                                                                                                                              \n",
      " \n",
      "    \n",
      "                                                                     \n",
      " \n",
      "      \n",
      "         \n",
      "                                                                                     \n",
      " \n",
      "                                                                                                                                                                                                                     \n",
      " \n",
      "                                                                                                                                                                                                                                                                                                                                                                                                \n",
      "                                                                                                                                                                                                                                                                                                                                                                                        \n",
      "                                                                                                                                                                                                                                                                                                                                                     \n",
      "                                                                                                                                                                                                                                                                                                                                                                                                               \n",
      "                                                                                                                                                                                                                                                                                                                                                                                         \n",
      "                                                                                                                                                                                                                                                                                                                                                                                     \n",
      "                                                                                                                                                                                                                                                                                                                                                                 \n",
      "                                                                                                                                                                                                                                                                                                                                                                                                                                                                                         \n",
      "                                                                                                                                       \n",
      "                                                                                                                         \n",
      "                                                                        \n",
      "                                                                \n",
      "                                                         \n",
      "         \n",
      "  \n",
      "           \n",
      "              \n",
      "                                                       \n",
      "   \n",
      "                                                                                                                                                                                                                                                                                                                                                                                                                               \n",
      "                                                                                                                                                                                                                                                                   \n",
      "                                                                                                                                                                                                                                                                                                                                                         \n",
      "                                                                                                                                                                                                                                                                                                                                                                                                       \n",
      "                                                                                                                                                                                                                                                                                                                                                                                                                               \n",
      "                                                                                                                                                                                                                                                                                                                                                                                                                          \n",
      "                                                                                                                                                                                     \n",
      " \n",
      "                                                 \n",
      " \n",
      "                                                  \n",
      "                                                                                                                                 \n",
      " \n",
      "    \n",
      "                                                                     \n",
      "    \n",
      " \n",
      "                                                                                                                                                                                                                                                           \n",
      " \n",
      "    \n",
      "                                                                     \n",
      "     \n",
      " \n",
      "                                                                                                                                                                                                                                                                                                                                                             \n",
      " \n",
      "    \n",
      "                                                                     \n",
      "     \n",
      " \n",
      "                                                                                                                                                                                                                                                                                                                                                             \n",
      " \n",
      "    \n",
      "                                                                     \n",
      "                                                                                                                                                                                     \n",
      " \n",
      "                                                                                                                                                                                     \n",
      " \n",
      "    \n",
      "                                                                     \n",
      "                                                                                                                                                                                     \n",
      " \n",
      "                                                                                                                                                                                     \n",
      " \n",
      "    \n",
      "                                                                     \n",
      "                                                                                                                                                                                     \n",
      " \n",
      "                                                                                                                                                                                     \n",
      " \n",
      "    \n",
      "                                                                     \n",
      "                                                                                                                                                                                                                     \n",
      " \n",
      "                                                                                                                                                                                     \n",
      " \n",
      "    \n",
      "                                                                     \n",
      " \n",
      "     \n",
      "                                                                                                                                                                                     \n",
      " \n",
      "                                                                                                                    \n",
      " \n",
      "    \n",
      "                                                                     \n",
      "                                                                                                                                                                                                                     \n",
      " \n",
      "                                                                                                                                                                                     \n",
      " \n",
      "    \n",
      "                                                                     \n",
      "                                                                                                                                                                                                                      \n",
      " \n",
      "                                                                                                                    \n",
      " \n",
      "    \n",
      "                                                                     \n",
      "                                                                                                                                                                                                                    \n",
      " \n",
      "                                                                                                                                                                                     \n",
      " \n",
      "    \n",
      "                                                                     \n",
      "                                                                                                                                                                                                                                            \n",
      " \n",
      "                                                                                                                                                                                     \n",
      " \n",
      "    \n",
      "                                                                     \n",
      "                                                                                                                                                                                                                       \n",
      " \n",
      "                                                                                                                                                                                     \n",
      " \n",
      "    \n",
      "                                                                     \n",
      "                                                                                       \n",
      "   \n",
      "                                                                                                                                                                                                                                                              \n",
      "                                                                                                                                                                                                                                            \n",
      " \n",
      "    \n",
      "                                                                     \n",
      "  \n",
      "                                                                                                                                                                                                                                    \n",
      "   \n",
      "                                                                                                                                                                                                                               \n",
      " \n",
      "    \n",
      "                                                                     \n",
      "  \n",
      "                                                                                                                                                                                                                                    \n",
      "   \n",
      "                                                                                                                                                                                                                                           \n",
      " \n",
      "                                                                                                                                                                                     \n",
      " \n",
      "    \n",
      "                                                                     \n",
      "  \n",
      "                                                                                                                                                                                                                                    \n",
      "   \n",
      "                                                                                                                                                                                                                                           \n",
      " \n",
      "                                                                                                                                                                                     \n",
      " \n",
      "    \n",
      "                                                                     \n",
      "  \n",
      " \n",
      " \n",
      "    \n",
      "                                                                     \n",
      " \n",
      " \n",
      " \n",
      "                                                                                                                                                 \n",
      " \n",
      "                                                                          \n",
      " \n",
      "    \n",
      "                                                                     \n",
      " \n",
      " \n",
      " \n",
      "                                                                                                          \n",
      " \n",
      "                                                                                                          \n",
      " \n",
      "                                                                                                          \n",
      "                                                                                                                  \n",
      " \n",
      "                                                                                                                                                \n",
      " \n",
      "    \n",
      "                                                                     \n",
      "    \n",
      " \n",
      "                                                                                                                                                                       \n",
      " \n",
      "                                                                                                                                          \n",
      " \n",
      "    \n",
      "                                                                     \n",
      "    \n",
      " \n",
      "                                                                                                                                                                                         \n",
      " \n",
      "    \n",
      "                                                                     \n",
      " \n",
      " \n",
      "                                                                                                          \n",
      " \n",
      "                                                                                                          \n",
      " \n",
      "                                                                                                          \n",
      "                                                                                                          \n",
      " \n",
      "                                                                                                                                                    \n",
      " \n",
      "    \n",
      "                                                                     \n",
      " \n",
      " \n",
      "                                                                                                                                                                       \n",
      " \n",
      "                                                                                                                                          \n",
      " \n",
      "    \n",
      "                                                                     \n",
      "                                                                                                                                                                                                                                                     \n",
      " \n",
      "                                                                                                                    \n",
      " \n",
      "                                                                                                                                                                                                                                                                                                                                                                                       \n",
      " \n",
      "                                                                                                          \n",
      " \n",
      "                                                                                                          \n",
      " \n",
      "                                                                                                          \n",
      " \n",
      "                                                                                                                                           \n",
      " \n",
      "                                                                                                          \n",
      " \n",
      "                                                                                                          \n",
      " \n",
      "                                                                                                          \n",
      "                                                                                                          \n",
      " \n",
      "                                                                                                                                                                                                                                                          \n",
      "                                                                                                                                                                                                                                                                                            \n",
      " \n",
      "                                                                                                                                                                                                                                                                                                                                             \n",
      "                                                                                                                                                                                                                                                                                                                                                                            \n",
      " \n",
      "                                                                                                          \n",
      " \n",
      "                                                                                                          \n",
      " \n",
      "                                                                                                          \n",
      " \n",
      "                                                                                                                                           \n",
      " \n",
      "                                                                                                          \n",
      " \n",
      "                                                                                                          \n",
      " \n",
      "                                                                                                          \n",
      "                                                                                                          \n",
      " \n",
      "                                                                                                                                                                                                                                                          \n",
      "                                                                                                                                                                                                                                                                                            \n",
      " \n",
      "                                                                                                                                                                                                                                                                                                                                             \n",
      "                                                                                                                                                                                                                                                                                                                                                                            \n",
      " \n",
      "    \n",
      "                                                                     \n",
      "                                                                                                                                                                                                                                                    \n",
      "                    \n",
      "                                                                                                                                                                                                                                                                               \n",
      "                                                                                                                                                                                                                               \n",
      "                                                                                                                                                                                                                                                             \n",
      " \n",
      "                                                                                                        \n",
      " \n",
      "    \n",
      "                                                                     \n",
      "  \n",
      "                                                                                                                                                                                                                  \n",
      " \n",
      "    \n",
      "                                                                     \n",
      "   \n",
      "                                                                                                                                                                                                                                               \n",
      " \n",
      "                                                                                                                                                                                                                                        \n",
      " \n",
      "                                                                                                                                                                                                                                                          \n",
      "             \n",
      "                               \n",
      "                                                   \n",
      "                                                                                                                                                              \n",
      " \n",
      "                                                                                                \n",
      " \n",
      "          \n",
      "                                              \n",
      " \n",
      "                                                                                                          \n",
      " \n",
      "    \n",
      "                                                                     \n",
      " \n",
      "                                                \n",
      " \n",
      "    \n",
      "                                                                     \n",
      " \n",
      " \n",
      "    \n",
      "                                                                     \n",
      " \n",
      "                                                                                                                                                                                    \n",
      " \n",
      "                                                                                                                    \n",
      " \n",
      "\n",
      "                                                                                                                                                                                                                                                                                                                                                                                                                                                                                                                                                                             \n",
      "   \n",
      "    \n",
      "                                                                     \n",
      "   \n",
      "                                                                                                                                                                                                                                                                                                                                                                                                                                                                                                                                                                                                                                                                                                                                                                                                                                                                                                                                                                                                                            \n",
      "                                                                                                                                                                                     \n",
      "                                                      \n",
      "                                                                                                                                                                                                                                                 \n",
      " \n",
      "                                                  \n",
      " \n",
      "                                                 \n",
      "                                                                                                                                 \n",
      " \n",
      "    \n",
      "                                                                     \n",
      "     \n",
      " \n",
      "                                                                                                                                                                                                                                                    \n",
      " \n",
      "    \n",
      "                                                                     \n",
      " \n",
      " \n",
      "                                                                                                                    \n",
      " \n",
      "                                                                                                                                                                                                                                                          \n",
      "             \n",
      "                               \n",
      "                                                   \n",
      " \n",
      "                                                                                                \n",
      " \n",
      "          \n",
      "                                              \n",
      " \n",
      "                                                                                                          \n",
      " \n",
      "    \n",
      "                                                                     \n",
      " \n",
      "                                                \n",
      " \n",
      "    \n",
      "                                                                     \n",
      " \n",
      " \n",
      "    \n",
      "                                                                     \n",
      " \n",
      "                                                                                                                                                                                    \n",
      " \n",
      "                                                                                                                    \n",
      " \n",
      "\n",
      "                                                                                                                                                                                                                                                                                                                                                                                                                                                                                                                                                                             \n",
      "   \n",
      "    \n",
      "                                                                     \n",
      "   \n",
      "                                                                                                                                                                                                                                                                                                                                                                                                                                                                                                                                                                                                                                                                                                                                                                                                                                                                                                                                                                                                                            \n",
      "                                                                                                                                                                                     \n",
      "                                                      \n",
      "                                                                                                                                                                                                                                                 \n",
      " \n",
      "                                                  \n",
      " \n",
      "                                                 \n",
      "                                                                                                                                 \n",
      " \n",
      "    \n",
      "                                                                     \n",
      "     \n",
      " \n",
      "                                                                                                                                                                                                                                                    \n",
      " \n",
      "    \n",
      "                                                                     \n",
      " \n",
      "    \n",
      "                                                                                                                    \n",
      " \n",
      "    \n",
      "                                                                     \n",
      " \n",
      " \n",
      "    \n",
      "                                                                     \n",
      " \n",
      "                                                                                                                                                                                    \n",
      " \n",
      "                                                                                                                    \n",
      " \n",
      "\n",
      "                                                                                                                                                                                                                                                                                                                                                                                                                                                                                                                                                                             \n",
      "   \n",
      "    \n",
      "                                                                     \n",
      "   \n",
      "                                                                                                                                                                                                                                                                                                                                                                                                                                                                                                                                                                                                                                                                                                                                                                                                                                                                                                                                                                                                                            \n",
      "                                                                                                                                                                                     \n",
      "                                                      \n",
      "                                                                                                                                                                                                                                                 \n",
      " \n",
      "                                                  \n",
      " \n",
      "                                                 \n",
      "                                                                                                                                 \n",
      " \n",
      "    \n",
      "                                                                     \n",
      "     \n",
      " \n",
      "                                                                                                                                                                                                                                                    \n",
      " \n",
      "    \n",
      "                                                                     \n",
      " \n",
      " \n",
      "                                                                                                                    \n",
      " \n",
      "    \n",
      "                                                                     \n",
      " \n",
      " \n",
      "    \n",
      "                                                                     \n",
      " \n",
      "                                                                                                                                                                                    \n",
      " \n",
      "                                                                                                                    \n",
      " \n",
      "\n",
      "                                                                                                                                                                                                                                                                                                                                                                                                                                                                                                                                                                             \n",
      "   \n",
      "    \n",
      "                                                                     \n",
      "   \n",
      "                                                                                                                                                                                                                                                                                                                                                                                                                                                                                                                                                                                                                                                                                                                                                                                                                                                                                                                                                                                                                            \n",
      "                                                                                                                                                                                     \n",
      "                                                      \n",
      "                                                                                                                                                                                                                                                 \n",
      " \n",
      "                                                  \n",
      " \n",
      "                                                 \n",
      "                                                                                                                                 \n",
      " \n",
      "    \n",
      "                                                                     \n",
      "     \n",
      " \n",
      "                                                                                                                                                                                                                                                    \n",
      " \n",
      "    \n",
      "                                                                     \n",
      " \n",
      " \n",
      "                                                                                                                    \n",
      " \n",
      "    \n",
      "                                                                     \n",
      " \n",
      "    \n",
      "                                                                                                                    \n",
      " \n",
      "    \n",
      "                                                                     \n",
      " \n",
      " \n",
      "    \n",
      "                                                                     \n",
      " \n",
      "                                                                                                                                                                                    \n",
      " \n",
      "                                                                                                                    \n",
      " \n",
      "\n",
      "                                                                                                                                                                                                                                                                                                                                                                                                                                                                                                                                                                             \n",
      "   \n",
      "    \n",
      "                                                                     \n",
      "   \n",
      "                                                                                                                                                                                                                                                                                                                                                                                                                                                                                                                                                                                                                                                                                                                                                                                                                                                                                                                                                                                                                            \n",
      "                                                                                                                                                                                     \n",
      "                                                      \n",
      "                                                                                                                                                                                                                                                 \n",
      " \n",
      "                                                  \n",
      " \n",
      "                                                 \n",
      "                                                                                                                                 \n",
      " \n",
      "    \n",
      "                                                                     \n",
      "     \n",
      " \n",
      "                                                                                                                                                                                                                                                    \n",
      " \n",
      "    \n",
      "                                                                     \n",
      "  \n",
      "                                                                                                                                                                                                                  \n",
      " \n",
      "    \n",
      "                                                                     \n",
      "    \n",
      " \n",
      "                                                                                                                                                                       \n",
      " \n",
      "                                                                                                                                          \n",
      " \n",
      "    \n",
      "                                                                     \n",
      "    \n",
      " \n",
      "                                                                                                                                                                                         \n",
      " \n",
      "    \n",
      "                                                                     \n",
      " \n",
      " \n",
      "                                                                                                          \n",
      " \n",
      "                                                                                                          \n",
      " \n",
      "                                                                                                          \n",
      "                                                                                                          \n",
      " \n",
      "                                                                                                                                                    \n",
      " \n",
      "    \n",
      "                                                                     \n",
      " \n",
      " \n",
      "                                                                                                                                                                       \n",
      " \n",
      "                                                                                                                                          \n",
      " \n",
      "    \n",
      "                                                                     \n",
      "                                                                                                                                                                                                                                                     \n",
      " \n",
      "                                                                                                                    \n",
      " \n",
      "                                                                                                                                                                                                                                                                                                                                                                                       \n",
      " \n",
      "                                                                                                          \n",
      " \n",
      "                                                                                                          \n",
      " \n",
      "                                                                                                          \n",
      " \n",
      "                                                                                                                                           \n",
      " \n",
      "                                                                                                          \n",
      " \n",
      "                                                                                                          \n",
      " \n",
      "                                                                                                          \n",
      "                                                                                                          \n",
      " \n",
      "                                                                                                                                                                                                                                                          \n",
      "                                                                                                                                                                                                                                                                                            \n",
      " \n",
      "                                                                                                                                                                                                                                                                                                                                             \n",
      "                                                                                                                                                                                                                                                                \n"
     ]
    },
    {
     "name": "stderr",
     "output_type": "stream",
     "text": [
      "  3%|▎         | 29/841 [03:02<6:09:57, 27.34s/it]"
     ]
    },
    {
     "name": "stdout",
     "output_type": "stream",
     "text": [
      "{\n",
      "  \"poste\": {\n",
      "    \"type_contrat\": \"CDI\",\n",
      "    \"teletravail_possible\": null,\n",
      "    \"experience_pro_requise\": 3,\n",
      "    \"diplomes\": [\"pas de diplome\"],\n",
      "    \"spe_diplomes\": [null],\n",
      "    \"langues\": [null],\n",
      "    \"stack_technique\": [\"Collibra\", \"gestion des données\", \"métadonnées\", \"interopérabilité\", \"intégration\"]\n",
      "  }\n",
      "}\n"
     ]
    },
    {
     "name": "stderr",
     "output_type": "stream",
     "text": [
      "  4%|▎         | 30/841 [03:04<4:25:36, 19.65s/it]"
     ]
    },
    {
     "name": "stdout",
     "output_type": "stream",
     "text": [
      "{\n",
      "  \"poste\": {\n",
      "    \"type_contrat\": \"CDI\",\n",
      "    \"teletravail_possible\": true,\n",
      "    \"experience_requise\": 5,\n",
      "    \"diplome\": \"Bac+5\",\n",
      "    \"spe_diplome\": null,\n",
      "    \"langue\": [\"Anglais\"],\n",
      "    \"stack_technique\": [\"Python\", \"Java\", \"Scala\", \"Spark\", \"Kafka\", \"Hadoop\", \"Azure\", \"AWS\", \"GCP\", \"Dataiku\", \"Airflow\"]\n",
      "  }\n",
      "}\n"
     ]
    },
    {
     "name": "stderr",
     "output_type": "stream",
     "text": [
      "  4%|▎         | 31/841 [03:06<3:13:32, 14.34s/it]"
     ]
    },
    {
     "name": "stdout",
     "output_type": "stream",
     "text": [
      "{\n",
      "  \"poste\": {\n",
      "    \"type_contrat\": \"CDI\",\n",
      "    \"teletravail_possible\": true,\n",
      "    \"experience_pro_requise\": 6,\n",
      "    \"diplomes\": [\"Bac+5\"],\n",
      "    \"spe_diplomes\": [\"Ingénierie\"],\n",
      "    \"langues\": [\"Anglais\", \"Francais\"],\n",
      "    \"stack_technique\": [\"Azure Blob Storage\", \"Azure Log Analytics & Metrics\", \"Event hub\", \"KQL\", \"ElasticSearch\", \"Logstash\", \"SQL\"]\n",
      "  }\n",
      "}\n"
     ]
    },
    {
     "name": "stderr",
     "output_type": "stream",
     "text": [
      "  4%|▍         | 32/841 [03:08<2:24:32, 10.72s/it]"
     ]
    },
    {
     "name": "stdout",
     "output_type": "stream",
     "text": [
      "{\n",
      "  \"poste\": {\n",
      "    \"type_contrat\": \"CDI\",\n",
      "    \"teletravail_possible\": true,\n",
      "    \"experience_pro_requise\": 3,\n",
      "    \"diplomes\": [\n",
      "      \"Licence\"\n",
      "    ],\n",
      "    \"spe_diplomes\": [\n",
      "      \"Informatique\",\n",
      "      \"Data Science\"\n",
      "    ],\n",
      "    \"langues\": [\n",
      "      \"Anglais\"\n",
      "    ],\n",
      "    \"stack_technique\": [\n",
      "      \"Python\",\n",
      "      \"Git\",\n",
      "      \"Kubernetes\",\n",
      "      \"Kafka\",\n",
      "      \"Spark\",\n",
      "      \"Azure DEVOPS\",\n",
      "      \"Azure ML\"\n",
      "    ]\n",
      "  }\n",
      "}\n"
     ]
    },
    {
     "name": "stderr",
     "output_type": "stream",
     "text": [
      "  4%|▍         | 33/841 [03:10<1:50:03,  8.17s/it]"
     ]
    },
    {
     "name": "stdout",
     "output_type": "stream",
     "text": [
      "{\n",
      "  \"poste\": {\n",
      "    \"type_contrat\": \"CDI\",\n",
      "    \"teletravail_possible\": true,\n",
      "    \"experience_pro_requise\": 3,\n",
      "    \"diplomes\": [null],\n",
      "    \"spe_diplomes\": [null],\n",
      "    \"langues\": [\"Anglais\"],\n",
      "    \"stack_technique\": [\"Vue.js\", \"IA\", \"Machine Learning\"]\n",
      "  }\n",
      "}\n"
     ]
    },
    {
     "name": "stderr",
     "output_type": "stream",
     "text": [
      "  4%|▍         | 34/841 [03:12<1:24:45,  6.30s/it]"
     ]
    },
    {
     "name": "stdout",
     "output_type": "stream",
     "text": [
      "{\n",
      "  \"poste\": {\n",
      "    \"type_contrat\": \"stage\",\n",
      "    \"teletravail_possible\": false,\n",
      "    \"experience_pro_requise\": 1,\n",
      "    \"diplomes\": [\"Master\"],\n",
      "    \"spe_diplomes\": [\"artificial intelligence\", \"computer science\"],\n",
      "    \"langues\": [\"Anglais\"],\n",
      "    \"stack_technique\": [\"Python\", \"Pytorch\", \"Transformer\", \"Pandas\", \"Scikit Learn\", \"OpenCV\", \"Streamlit\", \"Docker\"]\n",
      "  }\n",
      "}\n"
     ]
    },
    {
     "name": "stderr",
     "output_type": "stream",
     "text": [
      "  4%|▍         | 35/841 [03:14<1:06:26,  4.95s/it]"
     ]
    },
    {
     "name": "stdout",
     "output_type": "stream",
     "text": [
      "{\n",
      "  \"poste\": {\n",
      "    \"type_contrat\": \"stage\",\n",
      "    \"teletravail_possible\": false,\n",
      "    \"experience_pro_requise\": 1,\n",
      "    \"diplomes\": [\"Master\"],\n",
      "    \"spe_diplomes\": [\"Engineering\"],\n",
      "    \"langues\": [\"Anglais\", \"Francais\"],\n",
      "    \"stack_technique\": [\"Python\", \"C++\", \"Computer Vision\", \"Deep Learning\", \"Image Processing\", \"Signal Processing\", \"Applied Mathematics\"]\n",
      "  }\n",
      "}\n"
     ]
    },
    {
     "name": "stderr",
     "output_type": "stream",
     "text": [
      "  4%|▍         | 36/841 [03:16<54:08,  4.04s/it]  "
     ]
    },
    {
     "name": "stdout",
     "output_type": "stream",
     "text": [
      "{\n",
      "  \"poste\": {\n",
      "    \"type_contrat\": \"freelance\",\n",
      "    \"teletravail_possible\": true,\n",
      "    \"experience_pro_requise\": 5,\n",
      "    \"diplomes\": [\"Master\", null],\n",
      "    \"spe_diplomes\": [\"Computer Science\", \"AI\"],\n",
      "    \"langues\": [\"Anglais\", \"Francais\", \"autre\"],\n",
      "    \"stack_technique\": [\"Hugging Face\", \"Sinequa\", \"Amazon SageMaker\", \"Python\", \"NLP libraries\"]\n",
      "  }\n",
      "}\n"
     ]
    },
    {
     "name": "stderr",
     "output_type": "stream",
     "text": [
      "  4%|▍         | 37/841 [03:18<46:27,  3.47s/it]"
     ]
    },
    {
     "name": "stdout",
     "output_type": "stream",
     "text": [
      "{\n",
      "  \"poste\": {\n",
      "    \"type_contrat\": \"CDI\",\n",
      "    \"teletravail_possible\": false,\n",
      "    \"experience_pro_requise\": 1,\n",
      "    \"diplomes\": [\"Bac+5\"],\n",
      "    \"spe_diplomes\": [\"Mathematique\", \"Informatique\"],\n",
      "    \"langues\": null,\n",
      "    \"stack_technique\": [\"Python\", \"SQL\", \"Excel\", \"Numpy\", \"Pandas\", \"Scipy\", \"Scikit-learn\", \"Matplotlib\", \"Seaborn\", \"Plotly\", \"VBA\", \"Windows\"]\n",
      "  }\n",
      "}\n"
     ]
    },
    {
     "name": "stderr",
     "output_type": "stream",
     "text": [
      "  5%|▍         | 38/841 [03:20<39:05,  2.92s/it]"
     ]
    },
    {
     "name": "stdout",
     "output_type": "stream",
     "text": [
      "{\n",
      "  \"poste\": {\n",
      "    \"type_contrat\": \"CDI\",\n",
      "    \"teletravail_possible\": true,\n",
      "    \"experience_pro_requise\": 2,\n",
      "    \"diplomes\": [\"Master\", \"Doctorat\"],\n",
      "    \"spe_diplomes\": [\"Data Science\", \"Mathématiques Appliquées\", \"Économie\"],\n",
      "    \"langues\": [null],\n",
      "    \"stack_technique\": [\"Python\", \"times series\", \"données géospatiales\"]\n",
      "  }\n",
      "}\n"
     ]
    },
    {
     "name": "stderr",
     "output_type": "stream",
     "text": [
      "  5%|▍         | 39/841 [03:25<47:26,  3.55s/it]"
     ]
    },
    {
     "name": "stdout",
     "output_type": "stream",
     "text": [
      "{\n",
      "  \"poste\": {\n",
      "    \"type_contrat\": \"alternance\",\n",
      "    \"teletravail_possible\": false,\n",
      "    \"experience_pro_requise\": 1,\n",
      "    \"diplomes\": [\"pas de diplome\"],\n",
      "    \"spe_diplomes\": [],\n",
      "    \"langues\": [\"Anglais\", \"Francais\", \"autre\"],\n",
      "    \"stack_technique\": [\"Python\", \"R\", \"SQL\", \"apprentissage automatique\", \"statistiques\"]\n",
      "  }\n",
      "}\n"
     ]
    },
    {
     "name": "stderr",
     "output_type": "stream",
     "text": [
      "  5%|▍         | 40/841 [03:27<41:47,  3.13s/it]"
     ]
    },
    {
     "name": "stdout",
     "output_type": "stream",
     "text": [
      "{\n",
      "  \"poste\": {\n",
      "    \"type_contrat\": \"CDI\",\n",
      "    \"teletravail_possible\": true,\n",
      "    \"experience_pro_requise\": 1,\n",
      "    \"diplomes\": [\"Doctorat\"],\n",
      "    \"spe_diplomes\": [\"Data Science\", \"Machine Learning\", \"Intelligence Artificielle\"],\n",
      "    \"langues\": [\"Anglais\", \"Francais\"],\n",
      "    \"stack_technique\": [\"API Rest\", \"CI/CD\", \"Data Science\", \"Machine Learning\", \"Intelligence Artificielle\"]\n",
      "  }\n",
      "}\n"
     ]
    },
    {
     "name": "stderr",
     "output_type": "stream",
     "text": [
      "  5%|▍         | 41/841 [03:29<36:48,  2.76s/it]"
     ]
    },
    {
     "name": "stdout",
     "output_type": "stream",
     "text": [
      "{\n",
      "  \"poste\": {\n",
      "    \"type_contrat\": \"freelance\",\n",
      "    \"teletravail_possible\": true,\n",
      "    \"experience_pro_requise\": 5,\n",
      "    \"diplomes\": [\"Master\", null],\n",
      "    \"spe_diplomes\": [\"Computer Science\", \"AI\"],\n",
      "    \"langues\": [\"Anglais\", \"Francais\", \"autre\"],\n",
      "    \"stack_technique\": [\"Hugging Face\", \"Sinequa\", \"Amazon SageMaker\", \"Python\", \"NLP libraries\"]\n",
      "  }\n",
      "}\n"
     ]
    },
    {
     "name": "stderr",
     "output_type": "stream",
     "text": [
      "  5%|▍         | 42/841 [03:30<30:40,  2.30s/it]"
     ]
    },
    {
     "name": "stdout",
     "output_type": "stream",
     "text": [
      "{\n",
      "  \"poste\": {\n",
      "    \"type_contrat\": \"CDI\",\n",
      "    \"teletravail_possible\": true,\n",
      "    \"experience_pro_requise\": 3,\n",
      "    \"diplomes\": [\"Bac+5\"],\n",
      "    \"spe_diplomes\": [],\n",
      "    \"langues\": [\"Anglais\"],\n",
      "    \"stack_technique\": [\"Python\"]\n",
      "  }\n",
      "}\n"
     ]
    },
    {
     "name": "stderr",
     "output_type": "stream",
     "text": [
      "  5%|▌         | 43/841 [03:31<27:53,  2.10s/it]"
     ]
    },
    {
     "name": "stdout",
     "output_type": "stream",
     "text": [
      "{\n",
      "  \"poste\": {\n",
      "    \"type_contrat\": \"CDI\",\n",
      "    \"teletravail_possible\": true,\n",
      "    \"experience_pro_requise\": 5,\n",
      "    \"diplomes\": [\"Master\"],\n",
      "    \"spe_diplomes\": [\"informatique\", \"mathématique appliquée\"],\n",
      "    \"langues\": [\"Francais\", \"Anglais\"],\n",
      "    \"stack_technique\": [\"machine learning\", \"data science\", \"cloud\", \"base de données\"]\n",
      "  }\n",
      "}\n"
     ]
    },
    {
     "name": "stderr",
     "output_type": "stream",
     "text": [
      "  5%|▌         | 44/841 [03:33<26:02,  1.96s/it]"
     ]
    },
    {
     "name": "stdout",
     "output_type": "stream",
     "text": [
      "{\n",
      "  \"poste\": {\n",
      "    \"type_contrat\": \"alternance\",\n",
      "    \"teletravail_possible\": false,\n",
      "    \"experience_pro_requise\": 1,\n",
      "    \"diplomes\": [\"pas de diplome\"],\n",
      "    \"spe_diplomes\": [],\n",
      "    \"langues\": [\"Francais\"],\n",
      "    \"stack_technique\": [\"Hadoop\", \"Spark\", \"Python\", \"SQL\", \"machine learning\"]\n",
      "  }\n",
      "}\n"
     ]
    },
    {
     "name": "stderr",
     "output_type": "stream",
     "text": [
      "  5%|▌         | 45/841 [03:35<26:36,  2.01s/it]"
     ]
    },
    {
     "name": "stdout",
     "output_type": "stream",
     "text": [
      "{\n",
      "  \"poste\": {\n",
      "    \"type_contrat\": \"CDI\",\n",
      "    \"teletravail_possible\": true,\n",
      "    \"experience_pro_requise\": 3,\n",
      "    \"diplomes\": [\"Bac+5\"],\n",
      "    \"spe_diplomes\": [\"informatique en école d'Ingénieurs\"],\n",
      "    \"langues\": [\"Anglais\"],\n",
      "    \"stack_technique\": [\"Hadoop\", \"HDFS\", \"YARN\", \"Hive\", \"Hue\", \"Oozie\", \"PySpark\", \"Python\", \"NoSQL\", \"Mongo\", \"HBase\", \"Couchbase\", \"Marklogic\"]\n",
      "  }\n",
      "}\n"
     ]
    },
    {
     "name": "stderr",
     "output_type": "stream",
     "text": [
      "  5%|▌         | 46/841 [03:37<27:40,  2.09s/it]"
     ]
    },
    {
     "name": "stdout",
     "output_type": "stream",
     "text": [
      "{\n",
      "  \"poste\": {\n",
      "    \"type_contrat\": \"CDI\",\n",
      "    \"teletravail_possible\": true,\n",
      "    \"experience_pro_requise\": 2,\n",
      "    \"diplomes\": [\"Bac+3\", \"Bac+5\"],\n",
      "    \"spe_diplomes\": [\"Data Science\", \"Informatique\"],\n",
      "    \"langues\": [\"Anglais\"],\n",
      "    \"stack_technique\": [\"Javascript\", \"Scala\", \"Python\", \"SQL\", \"NoSQL\", \"Talend\", \"Informatica\", \"Datastage\", \"Qlik\", \"PowerBI\", \"Tableau\", \"Hadoop\", \"Spark\", \"Kafka\", \"Databricks\", \"Azure Data Factory\", \"Azure\", \"AWS\", \"GCP\", \"Snowflake\", \"UNIX\", \"Linux\", \"Windows\"]\n",
      "  }\n",
      "}\n"
     ]
    },
    {
     "name": "stderr",
     "output_type": "stream",
     "text": [
      "  6%|▌         | 47/841 [03:39<25:53,  1.96s/it]"
     ]
    },
    {
     "name": "stdout",
     "output_type": "stream",
     "text": [
      "{\n",
      "  \"poste\": {\n",
      "    \"type_contrat\": \"alternance\",\n",
      "    \"teletravail_possible\": false,\n",
      "    \"experience_pro_requise\": 1,\n",
      "    \"diplomes\": [\"Bac+3\", \"autre\"],\n",
      "    \"spe_diplomes\": [],\n",
      "    \"langues\": [\"Francais\", \"Anglais\", \"autre\"],\n",
      "    \"stack_technique\": [\"Python\", \"R\", \"SQL\", \"analyse de données\", \"apprentissage automatique\"]\n",
      "  }\n",
      "}\n"
     ]
    },
    {
     "name": "stderr",
     "output_type": "stream",
     "text": [
      "  6%|▌         | 48/841 [03:41<24:58,  1.89s/it]"
     ]
    },
    {
     "name": "stdout",
     "output_type": "stream",
     "text": [
      "{\n",
      "  \"poste\": {\n",
      "    \"type_contrat\": \"alternance\",\n",
      "    \"teletravail_possible\": false,\n",
      "    \"experience_pro_requise\": 1,\n",
      "    \"diplomes\": [\"Master\"],\n",
      "    \"spe_diplomes\": [\"Data Science\", \"Ingénierie\"],\n",
      "    \"langues\": [\"Anglais\"],\n",
      "    \"stack_technique\": [\"Microsoft Excel\", \"Microsoft Power Apps\", \"Python\", \"SQL\", \"Power BI\"]\n",
      "  }\n",
      "}\n"
     ]
    },
    {
     "name": "stderr",
     "output_type": "stream",
     "text": [
      "  6%|▌         | 49/841 [03:44<29:19,  2.22s/it]"
     ]
    },
    {
     "name": "stdout",
     "output_type": "stream",
     "text": [
      "{\n",
      "  \"poste\": {\n",
      "    \"type_contrat\": \"CDI\",\n",
      "    \"teletravail_possible\": true,\n",
      "    \"experience_pro_requise\": 6,\n",
      "    \"diplomes\": [\"Bac+5\"],\n",
      "    \"spe_diplomes\": [],\n",
      "    \"langues\": [\"Francais\", \"Anglais\"],\n",
      "    \"stack_technique\": [\"Python\", \"Spark\", \"Git\", \"CI-CD\", \"Big Data\", \"GCP\"]\n",
      "  }\n",
      "}\n"
     ]
    },
    {
     "name": "stderr",
     "output_type": "stream",
     "text": [
      "  6%|▌         | 50/841 [03:51<49:23,  3.75s/it]"
     ]
    },
    {
     "name": "stdout",
     "output_type": "stream",
     "text": [
      "{\n",
      "  \"poste\": {\n",
      "    \"type_contrat\": \"alternance\",\n",
      "    \"teletravail_possible\": false,\n",
      "    \"experience_pro_requise\": 1,\n",
      "    \"diplomes\": [\"pas de diplome\"],\n",
      "    \"spe_diplomes\": [null],\n",
      "    \"langues\": [null],\n",
      "    \"stack_technique\": [null]\n",
      "  }\n",
      "}\n"
     ]
    },
    {
     "name": "stderr",
     "output_type": "stream",
     "text": [
      "  6%|▌         | 51/841 [03:53<42:38,  3.24s/it]"
     ]
    },
    {
     "name": "stdout",
     "output_type": "stream",
     "text": [
      "{\n",
      "  \"poste\": {\n",
      "    \"type_contrat\": \"alternance\",\n",
      "    \"teletravail_possible\": false,\n",
      "    \"experience_pro_requise\": 1,\n",
      "    \"diplomes\": [\"pas de diplome\"],\n",
      "    \"spe_diplomes\": [null],\n",
      "    \"langues\": [null],\n",
      "    \"stack_technique\": [\"compréhension des enjeux business & marketing\", \"aisance avec les données chiffrées et la modélisation de données\", \"langages de programmation et de requêtage\", \"forte orientation business et use cases\"]\n",
      "  }\n",
      "}\n"
     ]
    },
    {
     "name": "stderr",
     "output_type": "stream",
     "text": [
      "  6%|▌         | 52/841 [03:56<40:18,  3.06s/it]"
     ]
    },
    {
     "name": "stdout",
     "output_type": "stream",
     "text": [
      "{\n",
      "  \"poste\": {\n",
      "    \"type_contrat\": \"alternance\",\n",
      "    \"teletravail_possible\": true,\n",
      "    \"experience_pro_requise\": 1,\n",
      "    \"diplomes\": [\"Master\"],\n",
      "    \"spe_diplomes\": [\"Data\"],\n",
      "    \"langues\": [\"Anglais\", \"Francais\", \"autre\"],\n",
      "    \"stack_technique\": [\"R\", \"Python\", \"Power BI\", \"MS Office\"]\n",
      "  }\n",
      "}\n"
     ]
    },
    {
     "name": "stderr",
     "output_type": "stream",
     "text": [
      "  6%|▋         | 53/841 [03:58<34:59,  2.66s/it]"
     ]
    },
    {
     "name": "stdout",
     "output_type": "stream",
     "text": [
      "{\n",
      "  \"poste\": {\n",
      "    \"type_contrat\": \"stage\",\n",
      "    \"teletravail_possible\": false,\n",
      "    \"experience_pro_requise\": 1,\n",
      "    \"diplomes\": [\"Master\", \"Bac+5\"],\n",
      "    \"spe_diplomes\": [\"Statistiques\", \"Analyse de données\"],\n",
      "    \"langues\": [\"Anglais\", \"Francais\"],\n",
      "    \"stack_technique\": [\"Python\", \"Machine Learning\", \"Statistiques\"]\n",
      "  }\n",
      "}\n"
     ]
    },
    {
     "name": "stderr",
     "output_type": "stream",
     "text": [
      "  6%|▋         | 54/841 [04:00<32:09,  2.45s/it]"
     ]
    },
    {
     "name": "stdout",
     "output_type": "stream",
     "text": [
      "{\n",
      "  \"poste\": {\n",
      "    \"type_contrat\": \"alternance\",\n",
      "    \"teletravail_possible\": false,\n",
      "    \"experience_pro_requise\": 1,\n",
      "    \"diplomes\": [\"Licence\"],\n",
      "    \"spe_diplomes\": [],\n",
      "    \"langues\": [\"Francais\", \"Anglais\", \"autre\"],\n",
      "    \"stack_technique\": [\"Excel\", \"VBA\", \"Power BI\", \"DAX\"]\n",
      "  }\n",
      "}\n"
     ]
    },
    {
     "name": "stderr",
     "output_type": "stream",
     "text": [
      "  7%|▋         | 55/841 [04:02<30:54,  2.36s/it]"
     ]
    },
    {
     "name": "stdout",
     "output_type": "stream",
     "text": [
      "{\n",
      "  \"poste\": {\n",
      "    \"type_contrat\": \"alternance\",\n",
      "    \"teletravail_possible\": false,\n",
      "    \"experience_pro_requise\": 1,\n",
      "    \"diplomes\": [\"Bac+3\"],\n",
      "    \"spe_diplomes\": [\"Sciences\", \"Informatique\", \"Gestion\", \"Finance\", \"Mathématiques\"],\n",
      "    \"langues\": [\"Anglais\"],\n",
      "    \"stack_technique\": [\"Data analyse\", \"R\", \"Python\", \"SQL\"]\n",
      "  }\n",
      "}\n"
     ]
    },
    {
     "name": "stderr",
     "output_type": "stream",
     "text": [
      "  7%|▋         | 56/841 [04:05<32:45,  2.50s/it]"
     ]
    },
    {
     "name": "stdout",
     "output_type": "stream",
     "text": [
      "{\n",
      "  \"poste\": {\n",
      "    \"type_contrat\": \"alternance\",\n",
      "    \"teletravail_possible\": false,\n",
      "    \"experience_pro_requise\": 1,\n",
      "    \"diplomes\": [\"pas de diplome\"],\n",
      "    \"spe_diplomes\": [null],\n",
      "    \"langues\": [null],\n",
      "    \"stack_technique\": [\"Langages informatiques\", \"BI\", \"Web analytics\"]\n",
      "  }\n",
      "}\n"
     ]
    },
    {
     "name": "stderr",
     "output_type": "stream",
     "text": [
      "  7%|▋         | 57/841 [04:06<30:02,  2.30s/it]"
     ]
    },
    {
     "name": "stdout",
     "output_type": "stream",
     "text": [
      "{\n",
      "  \"poste\": {\n",
      "    \"type_contrat\": \"CDI\",\n",
      "    \"teletravail_possible\": false,\n",
      "    \"experience_pro_requise\": 1,\n",
      "    \"diplomes\": [\"Bac+3\", \"Bac+5\", \"Doctorat\", \"autre\"],\n",
      "    \"spe_diplomes\": [\"Data Science\", \"Analyse de données\", \"Business Intelligence\"],\n",
      "    \"langues\": [\"Anglais\", \"Francais\", \"autre\"],\n",
      "    \"stack_technique\": [\"SAS\", \"SQL\", \"R\", \"Python\", \"Business Object\", \"Spotfire\", \"Qualtrics\"]\n",
      "  }\n",
      "}\n"
     ]
    },
    {
     "name": "stderr",
     "output_type": "stream",
     "text": [
      "  7%|▋         | 58/841 [04:08<27:49,  2.13s/it]"
     ]
    },
    {
     "name": "stdout",
     "output_type": "stream",
     "text": [
      "{\n",
      "  \"poste\": {\n",
      "    \"type_contrat\": \"CDI\",\n",
      "    \"teletravail_possible\": true,\n",
      "    \"experience_pro_requise\": 5,\n",
      "    \"diplomes\": [\"pas de diplome\"],\n",
      "    \"spe_diplomes\": [\"Informatique\", \"Statistique\", \"Data Science\", \"domaine connexe\"],\n",
      "    \"langues\": [\"Anglais\"],\n",
      "    \"stack_technique\": [\"méthodologies agiles\", \"gestion de projet\"]\n",
      "  }\n",
      "}\n"
     ]
    },
    {
     "name": "stderr",
     "output_type": "stream",
     "text": [
      "  7%|▋         | 59/841 [04:10<27:00,  2.07s/it]"
     ]
    },
    {
     "name": "stdout",
     "output_type": "stream",
     "text": [
      "{\n",
      "  \"poste\": {\n",
      "    \"type_contrat\": \"CDI\",\n",
      "    \"teletravail_possible\": true,\n",
      "    \"experience_pro_requise\": 5,\n",
      "    \"diplomes\": [\"Bac+5\"],\n",
      "    \"spe_diplomes\": [\"Data Science\"],\n",
      "    \"langues\": [\"Francais\"],\n",
      "    \"stack_technique\": [\"SQL\", \"Python\", \"Spark\", \"Dataiku\"]\n",
      "  }\n",
      "}\n"
     ]
    },
    {
     "name": "stderr",
     "output_type": "stream",
     "text": [
      "  7%|▋         | 60/841 [04:13<29:41,  2.28s/it]"
     ]
    },
    {
     "name": "stdout",
     "output_type": "stream",
     "text": [
      "{\n",
      "  \"poste\": {\n",
      "    \"type_contrat\": \"alternance\",\n",
      "    \"teletravail_possible\": false,\n",
      "    \"experience_pro_requise\": 1,\n",
      "    \"diplomes\": [\"Master\", \"autre\"],\n",
      "    \"spe_diplomes\": [\"Data\"],\n",
      "    \"langues\": [\"Francais\", \"Anglais\", \"autre\"],\n",
      "    \"stack_technique\": [\"R\", \"Python\", \"Power BI\"]\n",
      "  }\n",
      "}\n"
     ]
    },
    {
     "name": "stderr",
     "output_type": "stream",
     "text": [
      "  7%|▋         | 61/841 [04:15<29:56,  2.30s/it]"
     ]
    },
    {
     "name": "stdout",
     "output_type": "stream",
     "text": [
      "{\n",
      "  \"poste\": {\n",
      "    \"type_contrat\": null,\n",
      "    \"teletravail_possible\": null,\n",
      "    \"experience_pro_requise\": 3,\n",
      "    \"diplomes\": [\"Master\", \"Doctorat\"],\n",
      "    \"spe_diplomes\": [\"Data Science\", \"Informatique\", \"Business\"],\n",
      "    \"langues\": [\"Anglais\", \"Francais\"],\n",
      "    \"stack_technique\": [\"Agile\", \"Data Science\", \"Informatique\"]\n",
      "  }\n",
      "}\n"
     ]
    },
    {
     "name": "stderr",
     "output_type": "stream",
     "text": [
      "  7%|▋         | 62/841 [04:17<29:08,  2.24s/it]"
     ]
    },
    {
     "name": "stdout",
     "output_type": "stream",
     "text": [
      "{\n",
      "  \"poste\": {\n",
      "    \"type_contrat\": \"CDI\",\n",
      "    \"teletravail_possible\": false,\n",
      "    \"experience_pro_requise\": 4,\n",
      "    \"diplomes\": [\"Bac+3\", \"Bac+5\"],\n",
      "    \"spe_diplomes\": [],\n",
      "    \"langues\": [\"Anglais\"],\n",
      "    \"stack_technique\": [\"SQL\", \"Python\", \"Agile\"]\n",
      "  }\n",
      "}\n"
     ]
    },
    {
     "name": "stderr",
     "output_type": "stream",
     "text": [
      "  7%|▋         | 63/841 [04:19<27:52,  2.15s/it]"
     ]
    },
    {
     "name": "stdout",
     "output_type": "stream",
     "text": [
      "{\n",
      "  \"poste\": {\n",
      "    \"type_contrat\": \"CDI\",\n",
      "    \"teletravail_possible\": null,\n",
      "    \"experience_pro_requise\": 4,\n",
      "    \"diplomes\": [\"pas de diplome\"],\n",
      "    \"spe_diplomes\": null,\n",
      "    \"langues\": [\"Francais\", \"Anglais\", \"autre\"],\n",
      "    \"stack_technique\": [\"SQL\", \"R\", \"Python\", \"machine learning\", \"modélisation\", \"analyses factorielles\", \"clustering\"]\n",
      "  }\n",
      "}\n"
     ]
    },
    {
     "name": "stderr",
     "output_type": "stream",
     "text": [
      "  8%|▊         | 64/841 [04:21<27:06,  2.09s/it]"
     ]
    },
    {
     "name": "stdout",
     "output_type": "stream",
     "text": [
      "{\n",
      "  \"poste\": {\n",
      "    \"type_contrat\": \"stage\",\n",
      "    \"teletravail_possible\": null,\n",
      "    \"experience_pro_requise\": 1,\n",
      "    \"diplomes\": [\n",
      "      \"Licence\"\n",
      "    ],\n",
      "    \"spe_diplomes\": [\n",
      "      \"école d'ingénierie\"\n",
      "    ],\n",
      "    \"langues\": [\n",
      "      \"Anglais\",\n",
      "      \"Francais\",\n",
      "      \"autre\"\n",
      "    ],\n",
      "    \"stack_technique\": [\n",
      "      \"Dataiku\",\n",
      "      \"R\",\n",
      "      \"Python\",\n",
      "      \"SQL\"\n",
      "    ]\n",
      "  }\n",
      "}\n"
     ]
    },
    {
     "name": "stderr",
     "output_type": "stream",
     "text": [
      "  8%|▊         | 65/841 [04:23<27:04,  2.09s/it]"
     ]
    },
    {
     "name": "stdout",
     "output_type": "stream",
     "text": [
      "{\n",
      "  \"poste\": {\n",
      "    \"type_contrat\": \"stage\",\n",
      "    \"teletravail_possible\": false,\n",
      "    \"experience_pro_requise\": 1,\n",
      "    \"diplomes\": [\"Licence\"],\n",
      "    \"spe_diplomes\": [],\n",
      "    \"langues\": [\"Francais\", \"Anglais\"],\n",
      "    \"stack_technique\": [\"Excel\", \"Spotfire\", \"SAS WPS\", \"PowerBI\"]\n",
      "  }\n",
      "}\n"
     ]
    },
    {
     "name": "stderr",
     "output_type": "stream",
     "text": [
      "  8%|▊         | 66/841 [04:25<25:19,  1.96s/it]"
     ]
    },
    {
     "name": "stdout",
     "output_type": "stream",
     "text": [
      "{\n",
      "  \"poste\": {\n",
      "    \"type_contrat\": \"alternance\",\n",
      "    \"teletravail_possible\": false,\n",
      "    \"experience_pro_requise\": 1,\n",
      "    \"diplomes\": [\"Bac+5\"],\n",
      "    \"spe_diplomes\": [\"Statistiques\", \"Informatique\"],\n",
      "    \"langues\": [\"Francais\", \"Anglais\", \"autre\"],\n",
      "    \"stack_technique\": [\"SAS\", \"Power BI\"]\n",
      "  }\n",
      "}\n"
     ]
    },
    {
     "name": "stderr",
     "output_type": "stream",
     "text": [
      "  8%|▊         | 67/841 [04:28<30:12,  2.34s/it]"
     ]
    },
    {
     "name": "stdout",
     "output_type": "stream",
     "text": [
      "{\n",
      "  \"poste\": {\n",
      "    \"type_contrat\": \"alternance\",\n",
      "    \"teletravail_possible\": false,\n",
      "    \"experience_pro_requise\": 1,\n",
      "    \"diplomes\": [\"Bac+4\", \"Bac+5\"],\n",
      "    \"spe_diplomes\": [\"Data\"],\n",
      "    \"langues\": [\"Francais\", \"Anglais\"],\n",
      "    \"stack_technique\": [\"Dataiku\", \"DATA VIZ BLENDING ANALYTICS Tableau\", \"OUTILS DE REQUÊTE\", \"PACK MS OFFICE MICROSOFT EXCEL / POWERPOINT / WORD\"]\n",
      "  }\n",
      "}\n"
     ]
    },
    {
     "name": "stderr",
     "output_type": "stream",
     "text": [
      "  8%|▊         | 68/841 [04:30<27:33,  2.14s/it]"
     ]
    },
    {
     "name": "stdout",
     "output_type": "stream",
     "text": [
      "{\n",
      "  \"poste\": {\n",
      "    \"type_contrat\": \"alternance\",\n",
      "    \"teletravail_possible\": false,\n",
      "    \"experience_pro_requise\": 1,\n",
      "    \"diplomes\": [\"Bac+3\"],\n",
      "    \"spe_diplomes\": null,\n",
      "    \"langues\": [\"Anglais\", \"Francais\"],\n",
      "    \"stack_technique\": [\"Hadoop\", \"Spark\", \"Python\", \"SQL\", \"machine learning\"]\n",
      "  }\n",
      "}\n"
     ]
    },
    {
     "name": "stderr",
     "output_type": "stream",
     "text": [
      "  8%|▊         | 69/841 [04:32<26:51,  2.09s/it]"
     ]
    },
    {
     "name": "stdout",
     "output_type": "stream",
     "text": [
      "{\n",
      "  \"poste\": {\n",
      "    \"type_contrat\": \"CDI\",\n",
      "    \"teletravail_possible\": true,\n",
      "    \"experience_pro_requise\": 5,\n",
      "    \"diplomes\": [\"pas de diplome\"],\n",
      "    \"spe_diplomes\": [null],\n",
      "    \"langues\": [null],\n",
      "    \"stack_technique\": [\"requêtage des bases de données\", \"connaissance du domaine de l'assurance Santé / Prévoyance\", \"maîtrise des principes agiles (SCRUM, SAFe)\"]\n",
      "  }\n",
      "}\n"
     ]
    },
    {
     "name": "stderr",
     "output_type": "stream",
     "text": [
      "  8%|▊         | 70/841 [04:34<28:02,  2.18s/it]"
     ]
    },
    {
     "name": "stdout",
     "output_type": "stream",
     "text": [
      "{\n",
      "  \"poste\": {\n",
      "    \"type_contrat\": \"CDI\",\n",
      "    \"teletravail_possible\": null,\n",
      "    \"experience_pro_requise\": 1,\n",
      "    \"diplomes\": [\"Master\"],\n",
      "    \"spe_diplomes\": [\"Business\", \"Data Analytics\"],\n",
      "    \"langues\": [\"Francais\", \"Anglais\", \"Espagnol\", \"Allemand\", \"Italien\", \"Portuguais\"],\n",
      "    \"stack_technique\": [\"POWER BI\", \"POWER QUERY\", \"POWER APPS\", \"DAX\", \"PYTHON\", \"R\", \"SAS\", \"VBA\", \"SQL\", \"EXCEL\"]\n",
      "  }\n",
      "}\n"
     ]
    },
    {
     "name": "stderr",
     "output_type": "stream",
     "text": [
      "  8%|▊         | 71/841 [04:36<26:32,  2.07s/it]"
     ]
    },
    {
     "name": "stdout",
     "output_type": "stream",
     "text": [
      "{\n",
      "  \"poste\": {\n",
      "    \"type_contrat\": \"CDI\",\n",
      "    \"teletravail_possible\": false,\n",
      "    \"experience_pro_requise\": 1,\n",
      "    \"diplomes\": [\"BUT\"],\n",
      "    \"spe_diplomes\": [\"Sciences des données\", \"MIAGE\", \"équivalent\"],\n",
      "    \"langues\": [\"Anglais\"],\n",
      "    \"stack_technique\": [\"Business Intelligence\", \"Microsoft Excel\"]\n",
      "  }\n",
      "}\n"
     ]
    },
    {
     "name": "stderr",
     "output_type": "stream",
     "text": [
      "  9%|▊         | 72/841 [04:38<26:03,  2.03s/it]"
     ]
    },
    {
     "name": "stdout",
     "output_type": "stream",
     "text": [
      "{\n",
      "  \"poste\": {\n",
      "    \"type_contrat\": \"alternance\",\n",
      "    \"teletravail_possible\": true,\n",
      "    \"experience_pro_requise\": 1,\n",
      "    \"diplomes\": [\"Bac+3\", \"Bac+5\"],\n",
      "    \"spe_diplomes\": [\"Économie\", \"Économétrie\", \"Statistiques\", \"Data science\"],\n",
      "    \"langues\": [\"Anglais\"],\n",
      "    \"stack_technique\": [\"PowerBi\", \"Microsoft Office Suite\"]\n",
      "  }\n",
      "}\n"
     ]
    },
    {
     "name": "stderr",
     "output_type": "stream",
     "text": [
      "  9%|▊         | 73/841 [04:40<26:05,  2.04s/it]"
     ]
    },
    {
     "name": "stdout",
     "output_type": "stream",
     "text": [
      "{\n",
      "  \"poste\": {\n",
      "    \"type_contrat\": \"alternance\",\n",
      "    \"teletravail_possible\": false,\n",
      "    \"experience_pro_requise\": 1,\n",
      "    \"diplomes\": [\"Bac+5\"],\n",
      "    \"spe_diplomes\": [\"informatique\"],\n",
      "    \"langues\": [\"Anglais\", \"Francais\"],\n",
      "    \"stack_technique\": [\"data science\", \"development\"]\n",
      "  }\n",
      "}\n"
     ]
    },
    {
     "name": "stderr",
     "output_type": "stream",
     "text": [
      "  9%|▉         | 74/841 [04:42<27:15,  2.13s/it]"
     ]
    },
    {
     "name": "stdout",
     "output_type": "stream",
     "text": [
      "{\n",
      "  \"poste\": {\n",
      "    \"type_contrat\": \"CDI\",\n",
      "    \"teletravail_possible\": true,\n",
      "    \"experience_pro_requise\": 3,\n",
      "    \"diplomes\": [\"pas de diplome\"],\n",
      "    \"spe_diplomes\": [\"Finance\", \"Administration Des Ventes\", \"Monitoring de données\"],\n",
      "    \"langues\": [\"Francais\", \"Anglais\"],\n",
      "    \"stack_technique\": [\"Power BI\", \"programmation statistique\", \"ingénierie des données\", \"analyses de données\"]\n",
      "  }\n",
      "}\n"
     ]
    },
    {
     "name": "stderr",
     "output_type": "stream",
     "text": [
      "  9%|▉         | 75/841 [04:45<30:44,  2.41s/it]"
     ]
    },
    {
     "name": "stdout",
     "output_type": "stream",
     "text": [
      "{\n",
      "  \"poste\": {\n",
      "    \"type_contrat\": \"CDI\",\n",
      "    \"teletravail_possible\": false,\n",
      "    \"experience_pro_requise\": 5,\n",
      "    \"diplomes\": [\"Bac+3\"],\n",
      "    \"spe_diplomes\": [\"informatique\", \"mathématiques\"],\n",
      "    \"langues\": [\"Francais\", \"Anglais\", \"Espagnol\", \"Allemand\", \"Italien\", \"Portuguais\", \"autre\"],\n",
      "    \"stack_technique\": [\"marketing digital\"]\n",
      "  }\n",
      "}\n"
     ]
    },
    {
     "name": "stderr",
     "output_type": "stream",
     "text": [
      "  9%|▉         | 76/841 [04:47<28:22,  2.23s/it]"
     ]
    },
    {
     "name": "stdout",
     "output_type": "stream",
     "text": [
      "{\n",
      "  \"poste\": {\n",
      "    \"type_contrat\": \"CDI\",\n",
      "    \"teletravail_possible\": null,\n",
      "    \"experience_pro_requise\": 3,\n",
      "    \"diplomes\": [\"pas de diplome\"],\n",
      "    \"spe_diplomes\": [null],\n",
      "    \"langues\": [\"Anglais\"],\n",
      "    \"stack_technique\": [\"Data Management\", \"eTMF\"]\n",
      "  }\n",
      "}\n"
     ]
    },
    {
     "name": "stderr",
     "output_type": "stream",
     "text": [
      "  9%|▉         | 77/841 [04:49<27:26,  2.16s/it]"
     ]
    },
    {
     "name": "stdout",
     "output_type": "stream",
     "text": [
      "{\n",
      "  \"poste\": {\n",
      "    \"type_contrat\": \"stage\",\n",
      "    \"teletravail_possible\": false,\n",
      "    \"experience_pro_requise\": 1,\n",
      "    \"diplomes\": [\"pas de diplome\"],\n",
      "    \"spe_diplomes\": [null],\n",
      "    \"langues\": [\"Anglais\", \"autre\"],\n",
      "    \"stack_technique\": [\"SQL\", \"Python\", \"Mixpanel\", \"Amplitude\", \"Tableau\", \"Periscope\", \"PowerBI\"]\n",
      "  }\n",
      "}\n"
     ]
    },
    {
     "name": "stderr",
     "output_type": "stream",
     "text": [
      "  9%|▉         | 78/841 [04:52<30:58,  2.44s/it]"
     ]
    },
    {
     "name": "stdout",
     "output_type": "stream",
     "text": [
      "{\n",
      "  \"poste\": {\n",
      "    \"type_contrat\": \"CDI\",\n",
      "    \"teletravail_possible\": true,\n",
      "    \"experience_pro_requise\": 5,\n",
      "    \"diplomes\": [\"Bac+5\"],\n",
      "    \"spe_diplomes\": [\"Data\"],\n",
      "    \"langues\": [\"Anglais\", \"Francais\"],\n",
      "    \"stack_technique\": [\"Python\", \"R\", \"Power BI\", \"Talend\", \"Hadoop\", \"Kafka\", \"Spark\", \"Scala\"]\n",
      "  }\n",
      "}\n"
     ]
    },
    {
     "name": "stderr",
     "output_type": "stream",
     "text": [
      "  9%|▉         | 79/841 [04:54<29:31,  2.33s/it]"
     ]
    },
    {
     "name": "stdout",
     "output_type": "stream",
     "text": [
      "{\n",
      "  \"poste\": {\n",
      "    \"type_contrat\": \"freelance\",\n",
      "    \"teletravail_possible\": false,\n",
      "    \"experience_pro_requise\": 10,\n",
      "    \"diplomes\": [\"pas de diplome\"],\n",
      "    \"spe_diplomes\": [null],\n",
      "    \"langues\": [\"Francais\", \"Anglais\"],\n",
      "    \"stack_technique\": [\n",
      "      \"log management\",\n",
      "      \"playbook usage\",\n",
      "      \"SIEM / SOAR solutions\",\n",
      "      \"monitoring\",\n",
      "      \"detection\",\n",
      "      \"analysis\",\n",
      "      \"incident response\"\n",
      "    ]\n",
      "  }\n",
      "}\n"
     ]
    },
    {
     "name": "stderr",
     "output_type": "stream",
     "text": [
      " 10%|▉         | 80/841 [04:56<28:36,  2.26s/it]"
     ]
    },
    {
     "name": "stdout",
     "output_type": "stream",
     "text": [
      "{\n",
      "  \"poste\": {\n",
      "    \"type_contrat\": \"CDI\",\n",
      "    \"teletravail_possible\": true,\n",
      "    \"experience_pro_requise\": 3,\n",
      "    \"diplomes\": [\"Bac+5\"],\n",
      "    \"spe_diplomes\": [\"Data\", \"Statistiques\"],\n",
      "    \"langues\": [\"Francais\", \"Anglais\"],\n",
      "    \"stack_technique\": [\"SQL\", \"Python\", \"R\", \"SAS\", \"SPSS\"]\n",
      "  }\n",
      "}\n"
     ]
    },
    {
     "name": "stderr",
     "output_type": "stream",
     "text": [
      " 10%|▉         | 81/841 [04:58<26:54,  2.12s/it]"
     ]
    },
    {
     "name": "stdout",
     "output_type": "stream",
     "text": [
      "{\n",
      "  \"poste\": {\n",
      "    \"type_contrat\": \"CDD\",\n",
      "    \"teletravail_possible\": false,\n",
      "    \"experience_pro_requise\": 1,\n",
      "    \"diplomes\": [\"pas de diplome\"],\n",
      "    \"spe_diplomes\": [null],\n",
      "    \"langues\": [\"Anglais\", \"Francais\"],\n",
      "    \"stack_technique\": [\"SAP\", \"Microsoft Office\", \"Excel\", \"Access\"]\n",
      "  }\n",
      "}\n"
     ]
    },
    {
     "name": "stderr",
     "output_type": "stream",
     "text": [
      " 10%|▉         | 82/841 [05:01<30:03,  2.38s/it]"
     ]
    },
    {
     "name": "stdout",
     "output_type": "stream",
     "text": [
      "{\n",
      "  \"poste\": {\n",
      "    \"type_contrat\": \"stage\",\n",
      "    \"teletravail_possible\": false,\n",
      "    \"experience_pro_requise\": 1,\n",
      "    \"diplomes\": [\"Master\"],\n",
      "    \"spe_diplomes\": [\"Traitement de Données en lien avec des données financières\"],\n",
      "    \"langues\": [\"Francais\", \"Anglais\"],\n",
      "    \"stack_technique\": [\"SAS\", \"R\", \"Python\"]\n",
      "  }\n",
      "}\n"
     ]
    },
    {
     "name": "stderr",
     "output_type": "stream",
     "text": [
      " 10%|▉         | 83/841 [05:03<27:57,  2.21s/it]"
     ]
    },
    {
     "name": "stdout",
     "output_type": "stream",
     "text": [
      "{\n",
      "  \"poste\": {\n",
      "    \"type_contrat\": \"alternance\",\n",
      "    \"teletravail_possible\": false,\n",
      "    \"experience_pro_requise\": 1,\n",
      "    \"diplomes\": [\"Bac+5\"],\n",
      "    \"spe_diplomes\": [\"informatique\"],\n",
      "    \"langues\": [null],\n",
      "    \"stack_technique\": [\"analyse fonctionnelle\", \"analyse technique\", \"développement\", \"conception\", \"optimisation\", \"recettage\"]\n",
      "  }\n",
      "}\n"
     ]
    },
    {
     "name": "stderr",
     "output_type": "stream",
     "text": [
      " 10%|▉         | 84/841 [05:05<25:25,  2.01s/it]"
     ]
    },
    {
     "name": "stdout",
     "output_type": "stream",
     "text": [
      "{\n",
      "  \"poste\": {\n",
      "    \"type_contrat\": \"CDI\",\n",
      "    \"teletravail_possible\": true,\n",
      "    \"experience_pro_requise\": 3,\n",
      "    \"diplomes\": [\"Licence\"],\n",
      "    \"spe_diplomes\": [\"Informatique\"],\n",
      "    \"langues\": [\"Anglais\"],\n",
      "    \"stack_technique\": [\"SQL Server\", \"Azure\", \"Databricks\", \"Data Factory\", \"Synapse\", \"Power BI\"]\n",
      "  }\n",
      "}\n"
     ]
    },
    {
     "name": "stderr",
     "output_type": "stream",
     "text": [
      " 10%|█         | 85/841 [05:12<47:15,  3.75s/it]"
     ]
    },
    {
     "name": "stdout",
     "output_type": "stream",
     "text": [
      "{\n",
      "  \"poste\": {\n",
      "    \"type_contrat\": \"CDI\",\n",
      "    \"teletravail_possible\": false,\n",
      "    \"experience_pro_requise\": 5,\n",
      "    \"diplomes\": [\"Bac+5\"],\n",
      "    \"spe_diplomes\": [\"statistique\", \"Data Science\", \"Data Analyse\"],\n",
      "    \"langues\": [\"Francais\", \"Anglais\"],\n",
      "    \"stack_technique\": [\"R\", \"Python\", \"BIG DATA\", \"Excel\", \"Word\"]\n",
      "  }\n",
      "}\n"
     ]
    },
    {
     "name": "stderr",
     "output_type": "stream",
     "text": [
      " 10%|█         | 86/841 [05:15<44:10,  3.51s/it]"
     ]
    },
    {
     "name": "stdout",
     "output_type": "stream",
     "text": [
      "{\n",
      "  \"poste\": {\n",
      "    \"type_contrat\": \"CDI\",\n",
      "    \"teletravail_possible\": false,\n",
      "    \"experience_pro_requise\": 1,\n",
      "    \"diplomes\": [\"Bac+3\"],\n",
      "    \"spe_diplomes\": [\"Statistique\", \"informatique orienté Data\"],\n",
      "    \"langues\": [null],\n",
      "    \"stack_technique\": [\"Pack Office\", \"PowerBI\", \"R\", \"Python\", \"SQL\"]\n",
      "  }\n",
      "}\n"
     ]
    },
    {
     "name": "stderr",
     "output_type": "stream",
     "text": [
      " 10%|█         | 87/841 [05:18<41:05,  3.27s/it]"
     ]
    },
    {
     "name": "stdout",
     "output_type": "stream",
     "text": [
      "{\n",
      "  \"poste\": {\n",
      "    \"type_contrat\": \"alternance\",\n",
      "    \"teletravail_possible\": true,\n",
      "    \"experience_pro_requise\": 1,\n",
      "    \"diplomes\": [\"Master\"],\n",
      "    \"spe_diplomes\": [\"école de commerce\", \"école d’ingénieur\", \"école spécialisée en Big Data\"],\n",
      "    \"langues\": [\"Francais\", \"Anglais\"],\n",
      "    \"stack_technique\": [\"SQL\", \"Python\"],\n",
      "    \"date_debut\": \"02/09/2024\",\n",
      "    \"duree\": \"1 an\",\n",
      "    \"lieu\": \"Massy\"\n",
      "  }\n",
      "}\n"
     ]
    },
    {
     "name": "stderr",
     "output_type": "stream",
     "text": [
      " 10%|█         | 88/841 [05:20<36:53,  2.94s/it]"
     ]
    },
    {
     "name": "stdout",
     "output_type": "stream",
     "text": [
      "{\n",
      "  \"poste\": {\n",
      "    \"type_contrat\": \"alternance\",\n",
      "    \"teletravail_possible\": true,\n",
      "    \"experience_pro_requise\": 1,\n",
      "    \"diplomes\": [\"Bac+3\", \"Bac+4\", \"Bac+5\"],\n",
      "    \"spe_diplomes\": [\"statistiques\", \"datamining\", \"contrôle de gestion\"],\n",
      "    \"langues\": [\"Francais\", \"Anglais\", \"Autre\"],\n",
      "    \"stack_technique\": [\"SAS\", \"SQL\", \"Excel (VBA)\"]\n",
      "  }\n",
      "}\n"
     ]
    },
    {
     "name": "stderr",
     "output_type": "stream",
     "text": [
      " 11%|█         | 89/841 [05:22<33:17,  2.66s/it]"
     ]
    },
    {
     "name": "stdout",
     "output_type": "stream",
     "text": [
      "{\n",
      "  \"poste\": {\n",
      "    \"type_contrat\": \"CDI\",\n",
      "    \"teletravail_possible\": null,\n",
      "    \"experience_pro_requise\": 5,\n",
      "    \"diplomes\": [\"Bac+5\"],\n",
      "    \"spe_diplomes\": [\"Statistics\", \"Mathematics\", \"Economics\", \"Computer Science\", \"Information Management\"],\n",
      "    \"langues\": [\"Anglais\"],\n",
      "    \"stack_technique\": [\"SAS\", \"SAP BO\"]\n",
      "  }\n",
      "}\n"
     ]
    },
    {
     "name": "stderr",
     "output_type": "stream",
     "text": [
      " 11%|█         | 90/841 [05:26<36:27,  2.91s/it]"
     ]
    },
    {
     "name": "stdout",
     "output_type": "stream",
     "text": [
      "{\n",
      "  \"poste\": {\n",
      "    \"type_contrat\": \"CDI\",\n",
      "    \"teletravail_possible\": null,\n",
      "    \"experience_pro_requise\": 2,\n",
      "    \"diplomes\": [\"Licence\", \"Master\", \"Doctorat\", \"Bac+3\", \"Bac+5\", \"Bac+7\"],\n",
      "    \"spe_diplomes\": [\"mathématiques\", \"économétrie\", \"ingénierie\", \"statistiques\", \"science des données\", \"physique\", \"chaîne d'approvisionnement\", \"opérations logistiques\"],\n",
      "    \"langues\": [\"Anglais\"],\n",
      "    \"stack_technique\": [\"SQL\", \"Python\"]\n",
      "  }\n",
      "}\n"
     ]
    },
    {
     "name": "stderr",
     "output_type": "stream",
     "text": [
      " 11%|█         | 91/841 [05:29<36:20,  2.91s/it]"
     ]
    },
    {
     "name": "stdout",
     "output_type": "stream",
     "text": [
      "{\n",
      "  \"poste\": {\n",
      "    \"type_contrat\": \"CDI\",\n",
      "    \"teletravail_possible\": true,\n",
      "    \"experience_pro_requise\": 1,\n",
      "    \"diplomes\": [\"Master\", \"autre\"],\n",
      "    \"spe_diplomes\": [\"RH\", \"International Business\", \"MIAGE\"],\n",
      "    \"langues\": [\"Anglais\", \"Francais\"],\n",
      "    \"stack_technique\": [\"Excel\", \"PPT\", \"SQL\", \"PowerBI\", \"PowerAutomate\", \"Python\"]\n",
      "  }\n",
      "}\n"
     ]
    },
    {
     "name": "stderr",
     "output_type": "stream",
     "text": [
      " 11%|█         | 92/841 [05:32<36:26,  2.92s/it]"
     ]
    },
    {
     "name": "stdout",
     "output_type": "stream",
     "text": [
      "{\n",
      "  \"poste\": {\n",
      "    \"type_contrat\": \"CDI\",\n",
      "    \"teletravail_possible\": true,\n",
      "    \"experience_pro_requise\": 2,\n",
      "    \"diplomes\": [\"Bac+5\"],\n",
      "    \"spe_diplomes\": [\"informatique\", \"BI / Data Analytics\"],\n",
      "    \"langues\": [\"Anglais\"],\n",
      "    \"stack_technique\": [\"Tableau\", \"SQL\", \"Python\", \"Power BI\", \"QlickView\", \"Qlick sense\", \"Azure\", \"AWS\", \"GCP\"]\n",
      "  }\n",
      "}\n"
     ]
    },
    {
     "name": "stderr",
     "output_type": "stream",
     "text": [
      " 11%|█         | 93/841 [05:37<45:24,  3.64s/it]"
     ]
    },
    {
     "name": "stdout",
     "output_type": "stream",
     "text": [
      "{\n",
      "  \"poste\": {\n",
      "    \"type_contrat\": \"CDI\",\n",
      "    \"teletravail_possible\": false,\n",
      "    \"experience_pro_requise\": 2,\n",
      "    \"diplomes\": [\"Licence\", \"Master\", \"Doctorat\", \"Bac+3\", \"Bac+5\", \"Bac+7\", \"pas de diplome\", \"autre\"],\n",
      "    \"spe_diplomes\": [\"mathématiques\", \"informatique\", \"gestion de l'information\", \"statistiques\", \"ingénierie\", \"business\"],\n",
      "    \"langues\": [\"Anglais\", \"Francais\", \"Espagnol\", \"Allemand\", \"Italien\", \"Portuguais\", \"autre\"],\n",
      "    \"stack_technique\": [\"MS Word\", \"Outlook\", \"PowerPoint\", \"Excel\", \"Power BI\"]\n",
      "  }\n",
      "}\n"
     ]
    },
    {
     "name": "stderr",
     "output_type": "stream",
     "text": [
      " 11%|█         | 94/841 [05:43<52:46,  4.24s/it]"
     ]
    },
    {
     "name": "stdout",
     "output_type": "stream",
     "text": [
      "{\n",
      "  \"poste\": {\n",
      "    \"type_contrat\": \"CDI\",\n",
      "    \"teletravail_possible\": true,\n",
      "    \"experience_pro_requise\": 2,\n",
      "    \"diplomes\": [\"pas de diplome\"],\n",
      "    \"spe_diplomes\": [\"Ingénierie\", \"Commerce\"],\n",
      "    \"langues\": [\"Anglais\", \"autre\"],\n",
      "    \"stack_technique\": [\"Google Data Cloud\", \"Google Data Studio\", \"Tableau\"]\n",
      "  }\n",
      "}\n"
     ]
    },
    {
     "name": "stderr",
     "output_type": "stream",
     "text": [
      " 11%|█▏        | 95/841 [05:52<1:12:53,  5.86s/it]"
     ]
    },
    {
     "name": "stdout",
     "output_type": "stream",
     "text": [
      "{\n",
      "  \"poste\": {\n",
      "    \"type_contrat\": \"CDI\",\n",
      "    \"teletravail_possible\": true,\n",
      "    \"experience_pro_requise\": 1,\n",
      "    \"diplomes\": [\"Bac+5\"],\n",
      "    \"spe_diplomes\": [\"Ecole d'ingénieur\", \"statistiques\", \"analyse de données\"],\n",
      "    \"langues\": [\"Francais\"],\n",
      "    \"stack_technique\": [\"SQL\", \"Power BI\", \"Alteryx\", \"Python\"]\n",
      "  }\n",
      "}\n"
     ]
    },
    {
     "name": "stderr",
     "output_type": "stream",
     "text": [
      " 11%|█▏        | 96/841 [06:00<1:20:39,  6.50s/it]"
     ]
    },
    {
     "name": "stdout",
     "output_type": "stream",
     "text": [
      "{\n",
      "  \"poste\": {\n",
      "    \"type_contrat\": \"alternance\",\n",
      "    \"teletravail_possible\": false,\n",
      "    \"experience_pro_requise\": null,\n",
      "    \"diplomes\": [\"Master\"],\n",
      "    \"spe_diplomes\": [\"statistiques\", \"informatique\"],\n",
      "    \"langues\": [\"Francais\", \"Anglais\"],\n",
      "    \"stack_technique\": [\"SQLDeveloper\", \"datavisualisation\", \"audit interne\"]\n",
      "  }\n",
      "}\n"
     ]
    },
    {
     "name": "stderr",
     "output_type": "stream",
     "text": [
      " 12%|█▏        | 97/841 [06:06<1:16:46,  6.19s/it]"
     ]
    },
    {
     "name": "stdout",
     "output_type": "stream",
     "text": [
      "{\n",
      "  \"poste\": {\n",
      "    \"type_contrat\": \"CDI\",\n",
      "    \"teletravail_possible\": null,\n",
      "    \"experience_pro_requise\": 3,\n",
      "    \"diplomes\": [\"Bac+5\"],\n",
      "    \"spe_diplomes\": [\"Finance\", \"Commerce\", \"Econométrie\"],\n",
      "    \"langues\": [\"Anglais\"],\n",
      "    \"stack_technique\": [\"SQL\", \"SAS\", \"Excel\", \"VBA\"]\n",
      "  }\n",
      "}\n"
     ]
    },
    {
     "name": "stderr",
     "output_type": "stream",
     "text": [
      " 12%|█▏        | 98/841 [06:07<59:33,  4.81s/it]  "
     ]
    },
    {
     "name": "stdout",
     "output_type": "stream",
     "text": [
      "{\n",
      "  \"poste\": {\n",
      "    \"type_contrat\": \"stage\",\n",
      "    \"teletravail_possible\": false,\n",
      "    \"experience_pro_requise\": 1,\n",
      "    \"diplomes\": [\"Master\"],\n",
      "    \"spe_diplomes\": [\"Traitement de Données\"],\n",
      "    \"langues\": [\"Francais\", \"Anglais\", \"Espagnol\", \"Allemand\"],\n",
      "    \"stack_technique\": [\"SAS\", \"R\", \"Python\"]\n",
      "  }\n",
      "}\n"
     ]
    },
    {
     "name": "stderr",
     "output_type": "stream",
     "text": [
      " 12%|█▏        | 99/841 [06:09<49:49,  4.03s/it]"
     ]
    },
    {
     "name": "stdout",
     "output_type": "stream",
     "text": [
      "{\n",
      "  \"poste\": {\n",
      "    \"type_contrat\": \"CDI\",\n",
      "    \"teletravail_possible\": false,\n",
      "    \"experience_pro_requise\": 1,\n",
      "    \"diplomes\": [\"pas de diplome\"],\n",
      "    \"spe_diplomes\": [null],\n",
      "    \"langues\": [\"Anglais\"],\n",
      "    \"stack_technique\": [\"SQL\", \"Excel\", \"langages de programmation/analyse\", \"Visio/draw-io\"]\n",
      "  }\n",
      "}\n"
     ]
    },
    {
     "name": "stderr",
     "output_type": "stream",
     "text": [
      " 12%|█▏        | 100/841 [06:11<41:22,  3.35s/it]"
     ]
    },
    {
     "name": "stdout",
     "output_type": "stream",
     "text": [
      "{\n",
      "  \"poste\": {\n",
      "    \"type_contrat\": \"stage\",\n",
      "    \"teletravail_possible\": null,\n",
      "    \"experience_pro_requise\": 1,\n",
      "    \"diplomes\": [\"Master\"],\n",
      "    \"spe_diplomes\": [\"IAE\", \"Ecole de commerce\"],\n",
      "    \"langues\": [\"Anglais\"],\n",
      "    \"stack_technique\": [\"EPM\", \"BI\", \"RPA\", \"Power BI\"]\n",
      "  }\n",
      "}\n"
     ]
    },
    {
     "name": "stderr",
     "output_type": "stream",
     "text": [
      " 12%|█▏        | 101/841 [06:13<36:47,  2.98s/it]"
     ]
    },
    {
     "name": "stdout",
     "output_type": "stream",
     "text": [
      "{\n",
      "  \"poste\": {\n",
      "    \"type_contrat\": \"CDD\",\n",
      "    \"teletravail_possible\": false,\n",
      "    \"experience_pro_requise\": 1,\n",
      "    \"diplomes\": [\"Licence\", \"Master\"],\n",
      "    \"spe_diplomes\": [\"Big Data\", \"Analyse de données\", \"Gestion et Traitement Informatique de Données Massives\"],\n",
      "    \"langues\": [\"Anglais\"],\n",
      "    \"stack_technique\": [\"développement informatique\"]\n",
      "  }\n",
      "}\n"
     ]
    },
    {
     "name": "stderr",
     "output_type": "stream",
     "text": [
      " 12%|█▏        | 102/841 [06:15<33:13,  2.70s/it]"
     ]
    },
    {
     "name": "stdout",
     "output_type": "stream",
     "text": [
      "{\n",
      "  \"poste\": {\n",
      "    \"type_contrat\": \"CDI\",\n",
      "    \"teletravail_possible\": true,\n",
      "    \"experience_pro_requise\": 1,\n",
      "    \"diplomes\": [\"Licence\", \"Master\", \"Doctorat\", \"Bac+3\", \"Bac+5\", \"Bac+7\", \"pas de diplome\", \"autre\"],\n",
      "    \"spe_diplomes\": null,\n",
      "    \"langues\": [\"Anglais\", \"Francais\", \"Espagnol\", \"Allemand\", \"Italien\", \"Portuguais\", \"autre\"],\n",
      "    \"stack_technique\": [\"Tableau\", \"Snowflake\", \"SQL\", \"Python\"]\n",
      "  }\n",
      "}\n"
     ]
    },
    {
     "name": "stderr",
     "output_type": "stream",
     "text": [
      " 12%|█▏        | 103/841 [06:17<30:09,  2.45s/it]"
     ]
    },
    {
     "name": "stdout",
     "output_type": "stream",
     "text": [
      "{\n",
      "  \"poste\": {\n",
      "    \"type_contrat\": \"CDI\",\n",
      "    \"teletravail_possible\": true,\n",
      "    \"experience_pro_requise\": 6,\n",
      "    \"diplomes\": [\"Bac+5\"],\n",
      "    \"spe_diplomes\": [],\n",
      "    \"langues\": [\"Anglais\", \"Francais\", \"autre\"],\n",
      "    \"stack_technique\": [\"Python\", \"Spark\", \"Git\", \"CI-CD\", \"GCP\"]\n",
      "  }\n",
      "}\n"
     ]
    },
    {
     "name": "stderr",
     "output_type": "stream",
     "text": [
      " 12%|█▏        | 104/841 [06:19<28:51,  2.35s/it]"
     ]
    },
    {
     "name": "stdout",
     "output_type": "stream",
     "text": [
      "{\n",
      "  \"poste\": {\n",
      "    \"type_contrat\": \"CDI\",\n",
      "    \"teletravail_possible\": true,\n",
      "    \"experience_pro_requise\": 5,\n",
      "    \"diplomes\": [\n",
      "      \"pas de diplome\"\n",
      "    ],\n",
      "    \"spe_diplomes\": [\n",
      "      null\n",
      "    ],\n",
      "    \"langues\": [\n",
      "      \"Anglais\"\n",
      "    ],\n",
      "    \"stack_technique\": [\n",
      "      \"SQL\",\n",
      "      \"Python\",\n",
      "      \"GCP\",\n",
      "      \"Airflow\"\n",
      "    ]\n",
      "  }\n",
      "}\n"
     ]
    },
    {
     "name": "stderr",
     "output_type": "stream",
     "text": [
      " 12%|█▏        | 105/841 [06:21<26:45,  2.18s/it]"
     ]
    },
    {
     "name": "stdout",
     "output_type": "stream",
     "text": [
      "{\n",
      "  \"poste\": {\n",
      "    \"type_contrat\": \"CDI\",\n",
      "    \"teletravail_possible\": true,\n",
      "    \"experience_pro_requise\": 5,\n",
      "    \"diplomes\": [\"pas de diplome\"],\n",
      "    \"spe_diplomes\": [null],\n",
      "    \"langues\": [\"Anglais\", \"Francais\"],\n",
      "    \"stack_technique\": [\"Python\", \"Spark\", \"Hadoop\"]\n",
      "  }\n",
      "}\n"
     ]
    },
    {
     "name": "stderr",
     "output_type": "stream",
     "text": [
      " 13%|█▎        | 106/841 [06:23<27:11,  2.22s/it]"
     ]
    },
    {
     "name": "stdout",
     "output_type": "stream",
     "text": [
      "{\n",
      "  \"poste\": {\n",
      "    \"type_contrat\": \"CDI\",\n",
      "    \"teletravail_possible\": true,\n",
      "    \"experience_pro_requise\": 2,\n",
      "    \"diplomes\": [\"Bac+5\"],\n",
      "    \"spe_diplomes\": [\"Ingénierie logicielle\", \"BDD\", \"BI\", \"Big Data\"],\n",
      "    \"langues\": [\"Francais\", \"Anglais\", \"autre\"],\n",
      "    \"stack_technique\": [\"Informatica Power Center 10.x\", \"SGBDR SQL Server\", \"SAS macro\"]\n",
      "  }\n",
      "}\n"
     ]
    },
    {
     "name": "stderr",
     "output_type": "stream",
     "text": [
      " 13%|█▎        | 107/841 [06:25<24:13,  1.98s/it]"
     ]
    },
    {
     "name": "stdout",
     "output_type": "stream",
     "text": [
      "{\n",
      "  \"poste\": {\n",
      "    \"type_contrat\": \"CDI\",\n",
      "    \"teletravail_possible\": false,\n",
      "    \"experience_pro_requise\": 3,\n",
      "    \"diplomes\": [\"Bac+5\"],\n",
      "    \"spe_diplomes\": [\"Informatique\"],\n",
      "    \"langues\": [\"Anglais\"],\n",
      "    \"stack_technique\": [\"BI\", \"Cloud Azure\", \"ETL\"]\n",
      "  }\n",
      "}\n"
     ]
    },
    {
     "name": "stderr",
     "output_type": "stream",
     "text": [
      " 13%|█▎        | 108/841 [06:27<24:44,  2.03s/it]"
     ]
    },
    {
     "name": "stdout",
     "output_type": "stream",
     "text": [
      "{\n",
      "  \"poste\": {\n",
      "    \"type_contrat\": \"CDI\",\n",
      "    \"teletravail_possible\": false,\n",
      "    \"experience_pro_requise\": 1,\n",
      "    \"diplomes\": [\"Master\"],\n",
      "    \"spe_diplomes\": [\"Ingénieur Télécom\"],\n",
      "    \"langues\": [\"Francais\"],\n",
      "    \"stack_technique\": [\"Java\", \"Unix/Linux\", \"SQL\", \"Teradata\", \"MongoDB\", \"Hadoop\", \"Elasticsearch\", \"Spark\", \"Spotfire\", \"PowerBI\", \"Qlik\", \"Kibana\", \"GCP\", \"Kanban\", \"Scrum\", \"Anglais\"]\n",
      "  }\n",
      "}\n"
     ]
    },
    {
     "name": "stderr",
     "output_type": "stream",
     "text": [
      " 13%|█▎        | 109/841 [06:30<26:38,  2.18s/it]"
     ]
    },
    {
     "name": "stdout",
     "output_type": "stream",
     "text": [
      "{\n",
      "  \"poste\": {\n",
      "    \"type_contrat\": \"CDI\",\n",
      "    \"teletravail_possible\": true,\n",
      "    \"experience_pro_requise\": 5,\n",
      "    \"diplomes\": [\"pas de diplome\"],\n",
      "    \"spe_diplomes\": [\"Sciences Informatiques\"],\n",
      "    \"langues\": [\"Anglais\", \"Francais\"],\n",
      "    \"stack_technique\": [\"SQL\", \"Big Data\", \"Spark\", \"Python\", \"Java\", \"Scala\", \"AWS\", \"EMR\", \"Lambda\", \"Kinesis\", \"DynamoDB\", \"Athena\", \"Airflow\", \"Elasticsearch\", \"Azure Data Warehouse\", \"Azure SQL database\", \"Power BI\", \"machine learning\"]\n",
      "  }\n",
      "}\n"
     ]
    },
    {
     "name": "stderr",
     "output_type": "stream",
     "text": [
      " 13%|█▎        | 110/841 [06:32<29:13,  2.40s/it]"
     ]
    },
    {
     "name": "stdout",
     "output_type": "stream",
     "text": [
      "{\n",
      "  \"poste\": {\n",
      "    \"type_contrat\": \"CDI\",\n",
      "    \"teletravail_possible\": true,\n",
      "    \"experience_pro_requise\": 1,\n",
      "    \"diplomes\": [\"Bac+3\", \"Bac+5\", \"autre\"],\n",
      "    \"spe_diplomes\": [\"informatique\"],\n",
      "    \"langues\": [\"Francais\", \"Anglais\", \"autre\"],\n",
      "    \"stack_technique\": [\"Power BI\", \"MicroStrategy\", \"Tableau\", \"Cognos\", \"SQL\", \"Python\", \"DAX\", \"R\", \"Azure\", \"Snowflake\", \"Databricks\", \"AWS\", \"Oracle\", \"PostgreSQL\", \"MySQL\", \"Mongo db\", \"Sybase\", \"Datastage\", \"Talend\", \"Informatica (PowerCenter)\"]\n",
      "  }\n",
      "}\n"
     ]
    },
    {
     "name": "stderr",
     "output_type": "stream",
     "text": [
      " 13%|█▎        | 111/841 [06:34<27:48,  2.29s/it]"
     ]
    },
    {
     "name": "stdout",
     "output_type": "stream",
     "text": [
      "{\n",
      "  \"poste\": {\n",
      "    \"type_contrat\": \"CDI\",\n",
      "    \"teletravail_possible\": null,\n",
      "    \"experience_pro_requise\": 7,\n",
      "    \"diplomes\": [\"pas de diplome\"],\n",
      "    \"spe_diplomes\": null,\n",
      "    \"langues\": [\"Anglais\", \"Francais\"],\n",
      "    \"stack_technique\": [\"métallurgie\", \"chaudronnerie\"]\n",
      "  }\n",
      "}\n"
     ]
    },
    {
     "name": "stderr",
     "output_type": "stream",
     "text": [
      " 13%|█▎        | 112/841 [06:37<27:24,  2.26s/it]"
     ]
    },
    {
     "name": "stdout",
     "output_type": "stream",
     "text": [
      "{\n",
      "  \"poste\": {\n",
      "    \"type_contrat\": \"CDI\",\n",
      "    \"teletravail_possible\": false,\n",
      "    \"experience_pro_requise\": 1,\n",
      "    \"diplomes\": [\"pas de diplome\"],\n",
      "    \"spe_diplomes\": [null],\n",
      "    \"langues\": [\"Anglais\"],\n",
      "    \"stack_technique\": [\"Hadoop\", \"Hortonworks\", \"Spark\", \"Python\", \"Scala\", \"Git\", \"Docker\"]\n",
      "  }\n",
      "}\n"
     ]
    },
    {
     "name": "stderr",
     "output_type": "stream",
     "text": [
      " 13%|█▎        | 113/841 [06:38<25:37,  2.11s/it]"
     ]
    },
    {
     "name": "stdout",
     "output_type": "stream",
     "text": [
      "{\n",
      "  \"poste\": {\n",
      "    \"type_contrat\": \"alternance\",\n",
      "    \"teletravail_possible\": false,\n",
      "    \"experience_pro_requise\": 1,\n",
      "    \"diplomes\": [\"Bac+3\", \"Bac+5\"],\n",
      "    \"spe_diplomes\": null,\n",
      "    \"langues\": [\"Anglais\", \"Francais\", \"autre\"],\n",
      "    \"stack_technique\": [\"Python\", \"R\", \"SQL\"]\n",
      "  }\n",
      "}\n"
     ]
    },
    {
     "name": "stderr",
     "output_type": "stream",
     "text": [
      " 14%|█▎        | 114/841 [06:40<25:22,  2.09s/it]"
     ]
    },
    {
     "name": "stdout",
     "output_type": "stream",
     "text": [
      "{\n",
      "  \"poste\": {\n",
      "    \"type_contrat\": \"CDI\",\n",
      "    \"teletravail_possible\": null,\n",
      "    \"experience_pro_requise\": 1,\n",
      "    \"diplomes\": [\"Master\"],\n",
      "    \"spe_diplomes\": null,\n",
      "    \"langues\": [null],\n",
      "    \"stack_technique\": [\n",
      "      \"Python\",\n",
      "      \"MLOps\",\n",
      "      \"IA générative\",\n",
      "      \"CICD\",\n",
      "      \"Agilité\",\n",
      "      \"intégration continue\",\n",
      "      \"déploiement continu\",\n",
      "      \"scalabilité\",\n",
      "      \"FinOps\",\n",
      "      \"veille technologique\"\n",
      "    ]\n",
      "  }\n",
      "}\n"
     ]
    },
    {
     "name": "stderr",
     "output_type": "stream",
     "text": [
      " 14%|█▎        | 115/841 [06:42<23:23,  1.93s/it]"
     ]
    },
    {
     "name": "stdout",
     "output_type": "stream",
     "text": [
      "{\n",
      "  \"poste\": {\n",
      "    \"type_contrat\": \"CDI\",\n",
      "    \"teletravail_possible\": null,\n",
      "    \"experience_pro_requise\": 3,\n",
      "    \"diplomes\": [\"Bac+5\"],\n",
      "    \"spe_diplomes\": null,\n",
      "    \"langues\": [\"Anglais\"],\n",
      "    \"stack_technique\": [\"Python\", \"JavaScript\", \"Big Data\", \"Machine Learning\", \"AWS\"]\n",
      "  }\n",
      "}\n"
     ]
    },
    {
     "name": "stderr",
     "output_type": "stream",
     "text": [
      " 14%|█▍        | 116/841 [06:47<34:21,  2.84s/it]"
     ]
    },
    {
     "name": "stdout",
     "output_type": "stream",
     "text": [
      "{\n",
      "  \"poste\": {\n",
      "    \"type_contrat\": \"CDI\",\n",
      "    \"teletravail_possible\": false,\n",
      "    \"experience_pro_requise\": 1,\n",
      "    \"diplomes\": [\"Master\", \"pas de diplome\"],\n",
      "    \"spe_diplomes\": [\"Ingeniería Aeronáutica\", \"Técnico de Mantenimiento de Aeronaves\"],\n",
      "    \"langues\": [\"Anglais\"],\n",
      "    \"stack_technique\": [\"Airbus A330\", \"Airbus A350\", \"Airbus A320\", \"TRAX\"]\n",
      "  }\n",
      "}\n"
     ]
    },
    {
     "name": "stderr",
     "output_type": "stream",
     "text": [
      " 14%|█▍        | 117/841 [06:50<34:51,  2.89s/it]"
     ]
    },
    {
     "name": "stdout",
     "output_type": "stream",
     "text": [
      "{\n",
      "  \"poste\": {\n",
      "    \"type_contrat\": \"CDI\",\n",
      "    \"teletravail_possible\": true,\n",
      "    \"experience_pro_requise\": 5,\n",
      "    \"diplomes\": [\"Bac+5\"],\n",
      "    \"spe_diplomes\": [\"Computer Science\", \"Management Information Systems\", \"STEM field\"],\n",
      "    \"langues\": [\"Anglais\", \"autre\"],\n",
      "    \"stack_technique\": [\"JavaScript\", \"CSS\", \"PHP\", \"Vue.js\", \"React\", \"data science\", \"machine learning\", \"AI\", \"natural language processing\"]\n",
      "  }\n",
      "}\n"
     ]
    },
    {
     "name": "stderr",
     "output_type": "stream",
     "text": [
      " 14%|█▍        | 118/841 [06:53<36:16,  3.01s/it]"
     ]
    },
    {
     "name": "stdout",
     "output_type": "stream",
     "text": [
      "{\n",
      "  \"poste\": {\n",
      "    \"type_contrat\": \"CDI\",\n",
      "    \"teletravail_possible\": true,\n",
      "    \"experience_pro_requise\": 2,\n",
      "    \"diplomes\": [\"Bac+5\"],\n",
      "    \"spe_diplomes\": [\"développement informatique\", \"data engineering\"],\n",
      "    \"langues\": [\"Anglais\"],\n",
      "    \"stack_technique\": [\"Cloud Azure (DataFactory, ADLS)\", \"Databricks\", \"Spark\", \"Scala\", \"Python\", \"SQL\"]\n",
      "  }\n",
      "}\n"
     ]
    },
    {
     "name": "stderr",
     "output_type": "stream",
     "text": [
      " 14%|█▍        | 119/841 [06:55<31:27,  2.61s/it]"
     ]
    },
    {
     "name": "stdout",
     "output_type": "stream",
     "text": [
      "{\n",
      "  \"poste\": {\n",
      "    \"type_contrat\": \"freelance\",\n",
      "    \"teletravail_possible\": true,\n",
      "    \"experience_pro_requise\": 1,\n",
      "    \"diplomes\": [\"pas de diplome\"],\n",
      "    \"spe_diplomes\": [null],\n",
      "    \"langues\": [\"Anglais\"],\n",
      "    \"stack_technique\": [\"Snowflake\", \"SQL\", \"AWS S3\", \"Informatica\", \"ETL\", \"Oracle\", \"MySQL\"]\n",
      "  }\n",
      "}\n"
     ]
    },
    {
     "name": "stderr",
     "output_type": "stream",
     "text": [
      " 14%|█▍        | 120/841 [06:58<33:13,  2.77s/it]"
     ]
    },
    {
     "name": "stdout",
     "output_type": "stream",
     "text": [
      "{\n",
      "  \"poste\": {\n",
      "    \"type_contrat\": \"alternance\",\n",
      "    \"teletravail_possible\": true,\n",
      "    \"experience_pro_requise\": 1,\n",
      "    \"diplomes\": [\"Bac+4\", \"Bac+5\"],\n",
      "    \"spe_diplomes\": [\"Développement informatique\"],\n",
      "    \"langues\": [\"Francais\", \"Anglais\"],\n",
      "    \"stack_technique\": [\"Java\", \"Big Data\", \"SQL\", \"Eclipse\", \"Micro-service\"]\n",
      "  }\n",
      "}\n"
     ]
    },
    {
     "name": "stderr",
     "output_type": "stream",
     "text": [
      " 14%|█▍        | 121/841 [07:00<29:49,  2.49s/it]"
     ]
    },
    {
     "name": "stdout",
     "output_type": "stream",
     "text": [
      "{\n",
      "  \"poste\": {\n",
      "    \"type_contrat\": \"alternance\",\n",
      "    \"teletravail_possible\": false,\n",
      "    \"experience_pro_requise\": 1,\n",
      "    \"diplomes\": [\"Master\"],\n",
      "    \"spe_diplomes\": [],\n",
      "    \"langues\": [\"Anglais\"],\n",
      "    \"stack_technique\": null\n",
      "  }\n",
      "}\n"
     ]
    },
    {
     "name": "stderr",
     "output_type": "stream",
     "text": [
      " 15%|█▍        | 122/841 [07:02<27:34,  2.30s/it]"
     ]
    },
    {
     "name": "stdout",
     "output_type": "stream",
     "text": [
      "{\n",
      "  \"poste\": {\n",
      "    \"type_contrat\": \"CDI\",\n",
      "    \"teletravail_possible\": true,\n",
      "    \"experience_pro_requise\": 1,\n",
      "    \"diplomes\": [\"Master\"],\n",
      "    \"spe_diplomes\": [\"data\", \"ingénieur\", \"MBA\", \"école de commerce\"],\n",
      "    \"langues\": [null],\n",
      "    \"stack_technique\": [\"Business Intelligence\", \"Intelligence Artificielle\", \"Data Gouvernance\", \"Computer Vision\", \"Machine Learning\", \"Data Engineering\"]\n",
      "  }\n",
      "}\n"
     ]
    },
    {
     "name": "stderr",
     "output_type": "stream",
     "text": [
      " 15%|█▍        | 123/841 [07:03<25:08,  2.10s/it]"
     ]
    },
    {
     "name": "stdout",
     "output_type": "stream",
     "text": [
      "{\n",
      "  \"poste\": {\n",
      "    \"type_contrat\": \"CDI\",\n",
      "    \"teletravail_possible\": true,\n",
      "    \"experience_pro_requise\": 3,\n",
      "    \"diplomes\": [\"pas de diplome\"],\n",
      "    \"spe_diplomes\": [null],\n",
      "    \"langues\": [\"Anglais\", \"Francais\", \"autre\"],\n",
      "    \"stack_technique\": [\"Python\", \"Spark\", \"Snowflake\"]\n",
      "  }\n",
      "}\n"
     ]
    },
    {
     "name": "stderr",
     "output_type": "stream",
     "text": [
      " 15%|█▍        | 124/841 [07:05<23:53,  2.00s/it]"
     ]
    },
    {
     "name": "stdout",
     "output_type": "stream",
     "text": [
      "{\n",
      "  \"poste\": {\n",
      "    \"type_contrat\": \"CDI\",\n",
      "    \"teletravail_possible\": null,\n",
      "    \"experience_pro_requise\": 5,\n",
      "    \"diplomes\": [null],\n",
      "    \"spe_diplomes\": [\"Ingénieur aéronautique\", \"Ingénieur aérospatial\"],\n",
      "    \"langues\": [\"Anglais\"],\n",
      "    \"stack_technique\": [\"Airworthiness\", \"Safety\", \"PPS\", \"RCA\"]\n",
      "  }\n",
      "}\n"
     ]
    },
    {
     "name": "stderr",
     "output_type": "stream",
     "text": [
      " 15%|█▍        | 125/841 [07:08<25:26,  2.13s/it]"
     ]
    },
    {
     "name": "stdout",
     "output_type": "stream",
     "text": [
      "{\n",
      "  \"poste\": {\n",
      "    \"type_contrat\": \"alternance\",\n",
      "    \"teletravail_possible\": true,\n",
      "    \"experience_pro_requise\": 1,\n",
      "    \"diplomes\": [\"Bac+3\", \"Bac+5\"],\n",
      "    \"spe_diplomes\": [\"informatique\"],\n",
      "    \"langues\": [\"Anglais\", \"Francais\", \"autre\"],\n",
      "    \"stack_technique\": [\"Talend/DBT\", \"Tableau Software\", \"MySQL\", \"MongoDB\", \"Java\", \"Shell\", \"SQL\", \"OPS\", \"Docker\", \"Gitlab\", \"GCP\"]\n",
      "  }\n",
      "}\n"
     ]
    },
    {
     "name": "stderr",
     "output_type": "stream",
     "text": [
      " 15%|█▍        | 126/841 [07:10<25:27,  2.14s/it]"
     ]
    },
    {
     "name": "stdout",
     "output_type": "stream",
     "text": [
      "{\n",
      "  \"poste\": {\n",
      "    \"type_contrat\": \"CDI\",\n",
      "    \"teletravail_possible\": true,\n",
      "    \"experience_pro_requise\": 5,\n",
      "    \"diplomes\": [\"pas de diplome\"],\n",
      "    \"spe_diplomes\": [null],\n",
      "    \"langues\": [null],\n",
      "    \"stack_technique\": [\"PySpark\", \"Microsoft Azure\", \"PowerBI\", \"Azure DevOps\", \"Azure Pipeline\", \"GIT\", \"JIRA\", \"Azure Databricks\", \"Azure Data Lake Storage\", \"Azure Data Factory\"]\n",
      "  }\n",
      "}\n"
     ]
    },
    {
     "name": "stderr",
     "output_type": "stream",
     "text": [
      " 15%|█▌        | 127/841 [07:12<24:43,  2.08s/it]"
     ]
    },
    {
     "name": "stdout",
     "output_type": "stream",
     "text": [
      "{\n",
      "  \"poste\": {\n",
      "    \"type_contrat\": \"CDI\",\n",
      "    \"teletravail_possible\": false,\n",
      "    \"experience_pro_requise\": 1,\n",
      "    \"diplomes\": [\"pas de diplome\"],\n",
      "    \"spe_diplomes\": [null],\n",
      "    \"langues\": [\"Anglais\"],\n",
      "    \"stack_technique\": [\"Hadoop\", \"Hortonworks\", \"Spark\", \"Python\", \"Scala\", \"Git\", \"Docker\"]\n",
      "  }\n",
      "}\n"
     ]
    },
    {
     "name": "stderr",
     "output_type": "stream",
     "text": [
      " 15%|█▌        | 128/841 [07:14<24:52,  2.09s/it]"
     ]
    },
    {
     "name": "stdout",
     "output_type": "stream",
     "text": [
      "{\n",
      "  \"poste\": {\n",
      "    \"type_contrat\": \"CDI\",\n",
      "    \"teletravail_possible\": false,\n",
      "    \"experience_pro_requise\": 1,\n",
      "    \"diplomes\": [\"pas de diplome\"],\n",
      "    \"spe_diplomes\": [null],\n",
      "    \"langues\": [null],\n",
      "    \"stack_technique\": [\"Hadoop\", \"Pig\", \"Hive\", \"Hbase\", \"Spark\", \"Shell\", \"Scala\", \"HQL\", \"GitLab\", \"Nexus\", \"Maven\", \"Jenkins\", \"Sonar\"]\n",
      "  }\n",
      "}\n"
     ]
    },
    {
     "name": "stderr",
     "output_type": "stream",
     "text": [
      " 15%|█▌        | 129/841 [07:16<25:01,  2.11s/it]"
     ]
    },
    {
     "name": "stdout",
     "output_type": "stream",
     "text": [
      "{\n",
      "  \"poste\": {\n",
      "    \"type_contrat\": \"CDI\",\n",
      "    \"teletravail_possible\": true,\n",
      "    \"experience_pro_requise\": 1,\n",
      "    \"diplomes\": [\"pas de diplome\"],\n",
      "    \"spe_diplomes\": [null],\n",
      "    \"langues\": [\"Anglais\", null],\n",
      "    \"stack_technique\": [\"VMware\", \"VCenter\", \"Vsphere\", \"NSX\", \"Vsan\", \"Veeam\", \"Zerto\", \"Windows\", \"Linux\", \"réseaux\", \"Python\", \"ITIL\"]\n",
      "  }\n",
      "}\n"
     ]
    },
    {
     "name": "stderr",
     "output_type": "stream",
     "text": [
      " 15%|█▌        | 130/841 [07:19<27:45,  2.34s/it]"
     ]
    },
    {
     "name": "stdout",
     "output_type": "stream",
     "text": [
      "{\n",
      "  \"poste\": {\n",
      "    \"type_contrat\": \"CDI\",\n",
      "    \"teletravail_possible\": true,\n",
      "    \"experience_pro_requise\": 3,\n",
      "    \"diplomes\": [\"Bac+5\", \"Master\"],\n",
      "    \"spe_diplomes\": [\"Informatique\", \"Ingénierie des systèmes d'information\"],\n",
      "    \"langues\": [\"Anglais\"],\n",
      "    \"stack_technique\": [\"Cloudera CDP\", \"Ansible\", \"Terraform\", \"big data\", \"administration système\"]\n",
      "  }\n",
      "}\n"
     ]
    },
    {
     "name": "stderr",
     "output_type": "stream",
     "text": [
      " 16%|█▌        | 131/841 [07:21<26:42,  2.26s/it]"
     ]
    },
    {
     "name": "stdout",
     "output_type": "stream",
     "text": [
      "{\n",
      "  \"poste\": {\n",
      "    \"type_contrat\": \"CDI\",\n",
      "    \"teletravail_possible\": true,\n",
      "    \"experience_pro_requise\": 1,\n",
      "    \"diplomes\": [\"Master\"],\n",
      "    \"spe_diplomes\": [\"génie électrique\", \"informatique industrielle\", \"électronique\", \"télécom\", \"data analysis\", \"traitement du signal\"],\n",
      "    \"langues\": [null],\n",
      "    \"stack_technique\": [\"contrôle commande\", \"études et plans techniques\", \"systèmes\", \"développement de produits\", \"chef de projets\", \"data scientist\", \"data engineer\"]\n",
      "  }\n",
      "}\n"
     ]
    },
    {
     "name": "stderr",
     "output_type": "stream",
     "text": [
      " 16%|█▌        | 132/841 [07:24<29:19,  2.48s/it]"
     ]
    },
    {
     "name": "stdout",
     "output_type": "stream",
     "text": [
      "{\n",
      "  \"poste\": {\n",
      "    \"type_contrat\": \"CDI\",\n",
      "    \"teletravail_possible\": true,\n",
      "    \"experience_pro_requise\": 3,\n",
      "    \"diplomes\": [\"pas de diplome\"],\n",
      "    \"spe_diplomes\": [null],\n",
      "    \"langues\": [\"Anglais\", \"Francais\"],\n",
      "    \"stack_technique\": [\"Springboot\", \"NestJs\", \"Angular\", \"React\", \"PostgreSQL\", \"MS SQL server\", \"MongoDB\", \"Azure Cosmos DB\", \"APIs REST\", \"GraphQL\", \"git\", \"CI/CD\", \"Azure\", \"AWS\"]\n",
      "  }\n",
      "}\n"
     ]
    },
    {
     "name": "stderr",
     "output_type": "stream",
     "text": [
      " 16%|█▌        | 133/841 [07:26<26:14,  2.22s/it]"
     ]
    },
    {
     "name": "stdout",
     "output_type": "stream",
     "text": [
      "{\n",
      "  \"poste\": {\n",
      "    \"type_contrat\": \"CDI\",\n",
      "    \"teletravail_possible\": true,\n",
      "    \"experience_pro_requise\": 3,\n",
      "    \"diplomes\": [\"pas de diplome\"],\n",
      "    \"spe_diplomes\": [null],\n",
      "    \"langues\": [null],\n",
      "    \"stack_technique\": [\"Azure\", \"Kubernetes\", \"Terraform\", \"Azure DevOps\", \"Flux\"]\n",
      "  }\n",
      "}\n"
     ]
    },
    {
     "name": "stderr",
     "output_type": "stream",
     "text": [
      " 16%|█▌        | 134/841 [07:30<33:58,  2.88s/it]"
     ]
    },
    {
     "name": "stdout",
     "output_type": "stream",
     "text": [
      "{\n",
      "  \"poste\": {\n",
      "    \"type_contrat\": \"CDI\",\n",
      "    \"teletravail_possible\": true,\n",
      "    \"experience_pro_requise\": 4,\n",
      "    \"diplomes\": [\"Bac+5\"],\n",
      "    \"spe_diplomes\": [\"Data Engineering\"],\n",
      "    \"langues\": [\"Anglais\"],\n",
      "    \"stack_technique\": [\"Git\", \"CI/CD\", \"NoSQL\", \"Python\", \"Spark\"]\n",
      "  }\n",
      "}\n"
     ]
    },
    {
     "name": "stderr",
     "output_type": "stream",
     "text": [
      " 16%|█▌        | 135/841 [07:34<36:19,  3.09s/it]"
     ]
    },
    {
     "name": "stdout",
     "output_type": "stream",
     "text": [
      "{\n",
      "  \"poste\": {\n",
      "    \"type_contrat\": \"CDI\",\n",
      "    \"teletravail_possible\": true,\n",
      "    \"experience_pro_requise\": 5,\n",
      "    \"diplomes\": [\"Master\", \"Doctorat\"],\n",
      "    \"spe_diplomes\": [\"Computer Science\", \"Electrical Engineering\", \"Computer Vision\"],\n",
      "    \"langues\": [\"Anglais\"],\n",
      "    \"stack_technique\": [\"Python\", \"CNN\", \"RNN/LSTM/GRU\", \"Transformer models\", \"AWS\", \"Postgres/MySQL\", \"Pytorch/Tensorflow\"]\n",
      "  }\n",
      "}\n"
     ]
    },
    {
     "name": "stderr",
     "output_type": "stream",
     "text": [
      " 16%|█▌        | 136/841 [07:36<34:51,  2.97s/it]"
     ]
    },
    {
     "name": "stdout",
     "output_type": "stream",
     "text": [
      "{\n",
      "  \"poste\": {\n",
      "    \"type_contrat\": \"CDI\",\n",
      "    \"teletravail_possible\": true,\n",
      "    \"experience_pro_requise\": 5,\n",
      "    \"diplomes\": [\"BSc\", \"MS degree\"],\n",
      "    \"spe_diplomes\": [\"Computer Science\", \"Computer Architecture\", \"related technical field\"],\n",
      "    \"langues\": [\"Anglais\", \"autre\"],\n",
      "    \"stack_technique\": [\"Python\", \"OOP\", \"Flask\", \"FastAPI\", \"Django\", \"JS\", \"React\", \"Vue\", \"Dash\", \"Streamlit\", \"CI/CD\", \"Docker\", \"Jenkins\", \"DevOps\", \"Kubernetes\"]\n",
      "  }\n",
      "}\n"
     ]
    },
    {
     "name": "stderr",
     "output_type": "stream",
     "text": [
      " 16%|█▋        | 137/841 [07:39<33:14,  2.83s/it]"
     ]
    },
    {
     "name": "stdout",
     "output_type": "stream",
     "text": [
      "{\n",
      "  \"poste\": {\n",
      "    \"type_contrat\": \"CDI\",\n",
      "    \"teletravail_possible\": false,\n",
      "    \"experience_pro_requise\": 4,\n",
      "    \"diplomes\": [\"Bachelor's degree\"],\n",
      "    \"spe_diplomes\": [\"Computer Science\", \"Information Systems\", \"Engineering\", \"related field\"],\n",
      "    \"langues\": [\"Anglais\"],\n",
      "    \"stack_technique\": [\"Python3\", \"Pyspark\", \"Bash/Python scripting\", \"Hadoop\", \"SQL\", \"S3\"]\n",
      "  }\n",
      "}\n"
     ]
    },
    {
     "name": "stderr",
     "output_type": "stream",
     "text": [
      " 16%|█▋        | 138/841 [07:41<29:26,  2.51s/it]"
     ]
    },
    {
     "name": "stdout",
     "output_type": "stream",
     "text": [
      "{\n",
      "  \"poste\": {\n",
      "    \"type_contrat\": \"alternance\",\n",
      "    \"teletravail_possible\": null,\n",
      "    \"experience_pro_requise\": 1,\n",
      "    \"diplomes\": [\"Bac+3\", \"Bac+5\"],\n",
      "    \"spe_diplomes\": [\"Informatique\", \"Data Science\", \"Statistiques\"],\n",
      "    \"langues\": [\"Anglais\", \"Francais\"],\n",
      "    \"stack_technique\": [\"Machine Learning\", \"Python\", \"R\", \"Deep Learning\"]\n",
      "  }\n",
      "}\n"
     ]
    },
    {
     "name": "stderr",
     "output_type": "stream",
     "text": [
      " 17%|█▋        | 139/841 [07:43<29:05,  2.49s/it]"
     ]
    },
    {
     "name": "stdout",
     "output_type": "stream",
     "text": [
      "{\n",
      "  \"poste\": {\n",
      "    \"type_contrat\": \"CDI\",\n",
      "    \"teletravail_possible\": true,\n",
      "    \"experience_pro_requise\": 1,\n",
      "    \"diplomes\": [\"Master\"],\n",
      "    \"spe_diplomes\": [\"Engineering\", \"Computer Science\"],\n",
      "    \"langues\": [\"Anglais\", \"Francais\"],\n",
      "    \"stack_technique\": [\"Big Data\", \"Hadoop\", \"MapReduce\", \"LongoDB\", \"Cassandra\", \"Cloud\", \"SQL\", \"Oracle\", \"MySql\", \"PostgreSQL\", \"DevOps\", \"DevSecOps\", \"Mathematics\", \"Statistics\", \"Probability\", \"Modeling\", \"C\", \"Python\", \"PHP\", \"ASP\", \"C++\", \"C#\", \"Java\", \"Ruby\", \"REST\", \"MongoDB\", \"PaaS\", \"IaaS\", \"CaaS\"]\n",
      "  }\n",
      "}\n"
     ]
    },
    {
     "name": "stderr",
     "output_type": "stream",
     "text": [
      " 17%|█▋        | 140/841 [07:45<29:09,  2.50s/it]"
     ]
    },
    {
     "name": "stdout",
     "output_type": "stream",
     "text": [
      "{\n",
      "  \"poste\": {\n",
      "    \"type_contrat\": \"CDI\",\n",
      "    \"teletravail_possible\": true,\n",
      "    \"experience_pro_requise\": null,\n",
      "    \"diplomes\": [\"Master\", \"Doctorat\"],\n",
      "    \"spe_diplomes\": [\"Ingénierie\"],\n",
      "    \"langues\": [\"Anglais\", \"Francais\", \"autre\"],\n",
      "    \"stack_technique\": [\"Algorithm design\", \"Cooperative Human/Machine dialog\", \"Data Driven AI\", \"Symbolic AI and reasoning\", \"Systems Analysis\", \"Mathematics and statistics\", \"Natural Language Processing (NLP)\", \"Understanding (NLU)\"]\n",
      "  }\n",
      "}\n"
     ]
    },
    {
     "name": "stderr",
     "output_type": "stream",
     "text": [
      " 17%|█▋        | 141/841 [07:51<38:27,  3.30s/it]"
     ]
    },
    {
     "name": "stdout",
     "output_type": "stream",
     "text": [
      "{\n",
      "  \"poste\": {\n",
      "    \"type_contrat\": \"CDI\",\n",
      "    \"teletravail_possible\": true,\n",
      "    \"experience_pro_requise\": 1,\n",
      "    \"diplomes\": [\"pas de diplome\"],\n",
      "    \"spe_diplomes\": [null],\n",
      "    \"langues\": [null],\n",
      "    \"stack_technique\": [\n",
      "      \"Python\", \n",
      "      \"PySpark\", \n",
      "      \"Scala Spark\", \n",
      "      \"Scikit-learn\", \n",
      "      \"MLlib\", \n",
      "      \"Tensorflow\", \n",
      "      \"Keras\", \n",
      "      \"PyTorch\", \n",
      "      \"LightGBM\", \n",
      "      \"XGBoost\", \n",
      "      \"Docker\", \n",
      "      \"Containerd\", \n",
      "      \"Serverless\", \n",
      "      \"Lambda\", \n",
      "      \"ECS\", \n",
      "      \"Kubernetes\", \n",
      "      \"DevOps\",\n",
      "      \"Git\", \n",
      "      \"GitLab CI\", \n",
      "      \"Jenkins\", \n",
      "      \"Ansible\", \n",
      "      \"Terraform\", \n",
      "      \"ML Flow\", \n",
      "      \"Airflow\",\n",
      "      \"Cloud AWS\",\n",
      "      \"OpenAI\",\n",
      "      \"AWS Bedrock\", \n",
      "      \"AWS Titan\", \n",
      "      \"AWS SageMaker\", \n",
      "      \"Kubeflow\"\n",
      "    ]\n",
      "  }\n",
      "}\n"
     ]
    },
    {
     "name": "stderr",
     "output_type": "stream",
     "text": [
      " 17%|█▋        | 142/841 [07:54<39:36,  3.40s/it]"
     ]
    },
    {
     "name": "stdout",
     "output_type": "stream",
     "text": [
      "{\n",
      "  \"poste\": {\n",
      "    \"type_contrat\": \"CDI\",\n",
      "    \"teletravail_possible\": true,\n",
      "    \"experience_pro_requise\": 5,\n",
      "    \"diplomes\": [\"Bac+5\"],\n",
      "    \"spe_diplomes\": [\"informatique\"],\n",
      "    \"langues\": [\"Anglais\", \"Francais\"],\n",
      "    \"stack_technique\": [\"Conception d'algorithmes\", \"Dialogue coopératif homme/machine\", \"IA basée sur les données\", \"IA et raisonnement symboliques\", \"Pure Back - Langages et frameworks de programmation\", \"Mathématiques et statistiques\", \"Machine Learning\", \"Neural Network - NN\", \"CNN\", \"RNN\", \"Deep Learning\", \"Reinforcement Learning\", \"Frugal Learning\", \"Random Forest\", \"Evolutionary Algorithms\", \"PHP\", \"ASP\", \"C++\", \"C#\", \"Java\", \"Python\", \"Ruby\", \"REST\", \"MongoDB\", \"PaaS\", \"modélisation statistique\", \"algèbre linéaire\", \"optimisation\"]\n",
      "  }\n",
      "}\n"
     ]
    },
    {
     "name": "stderr",
     "output_type": "stream",
     "text": [
      " 17%|█▋        | 143/841 [07:57<37:27,  3.22s/it]"
     ]
    },
    {
     "name": "stdout",
     "output_type": "stream",
     "text": [
      "{\n",
      "  \"poste\": {\n",
      "    \"type_contrat\": \"CDI\",\n",
      "    \"teletravail_possible\": true,\n",
      "    \"experience_pro_requise\": 7,\n",
      "    \"diplomes\": [\"Master\", \"Doctorat\", \"Bac+5\"],\n",
      "    \"spe_diplomes\": [\"Machine Learning\", \"PHD en ML\"],\n",
      "    \"langues\": [\"Anglais\", \"Francais\"],\n",
      "    \"stack_technique\": [\"Python\", \"SQL\", \"R\", \"Scala\", \"Java\", \"Scikit-learn\", \"TensorFlow/Keras\", \"TFx\", \"PyTorch\", \"Docker\", \"Kubeflow\", \"Airflow\", \"Kubernetes\", \"Git\", \"Gitlab CI/CD\", \"Google Cloud Platform\", \"MLOps\"]\n",
      "  }\n",
      "}\n"
     ]
    },
    {
     "name": "stderr",
     "output_type": "stream",
     "text": [
      " 17%|█▋        | 144/841 [07:59<31:56,  2.75s/it]"
     ]
    },
    {
     "name": "stdout",
     "output_type": "stream",
     "text": [
      "{\n",
      "  \"poste\": {\n",
      "    \"type_contrat\": \"CDI\",\n",
      "    \"teletravail_possible\": null,\n",
      "    \"experience_pro_requise\": 8,\n",
      "    \"diplomes\": [null],\n",
      "    \"spe_diplomes\": [null],\n",
      "    \"langues\": [null],\n",
      "    \"stack_technique\": [\"Python\", \"AWS\", \"Azure\", \"Dataiku\", \"MLOPS\"]\n",
      "  }\n",
      "}\n"
     ]
    },
    {
     "name": "stderr",
     "output_type": "stream",
     "text": [
      " 17%|█▋        | 145/841 [08:01<29:43,  2.56s/it]"
     ]
    },
    {
     "name": "stdout",
     "output_type": "stream",
     "text": [
      "{\n",
      "  \"poste\": {\n",
      "    \"type_contrat\": \"CDI\",\n",
      "    \"teletravail_possible\": false,\n",
      "    \"experience_pro_requise\": 5,\n",
      "    \"diplomes\": [\"Bac+5\"],\n",
      "    \"spe_diplomes\": [],\n",
      "    \"langues\": [\"Francais\", \"Anglais\"],\n",
      "    \"stack_technique\": [\"SQL\", \"Python\", \"ETL\", \"BI\", \"Architecture de base de données\", \"Architectures Big Data / Datalake\", \"Modélisation\", \"Exploitation\"]\n",
      "  }\n",
      "}\n"
     ]
    },
    {
     "name": "stderr",
     "output_type": "stream",
     "text": [
      " 17%|█▋        | 146/841 [08:03<28:55,  2.50s/it]"
     ]
    },
    {
     "name": "stdout",
     "output_type": "stream",
     "text": [
      "{\n",
      "  \"poste\": {\n",
      "    \"type_contrat\": \"CDI\",\n",
      "    \"teletravail_possible\": null,\n",
      "    \"experience_pro_requise\": 5,\n",
      "    \"diplomes\": [\"Master\"],\n",
      "    \"spe_diplomes\": [\"IA\", \"statistiques\", \"mathématiques\"],\n",
      "    \"langues\": null,\n",
      "    \"stack_technique\": [\"Python\", \"Java\", \"Spark\", \"Scala\", \"TensorFlow\", \"PyTorch\", \"Gitlab\", \"Docker\", \"MLOps\"]\n",
      "  }\n",
      "}\n"
     ]
    },
    {
     "name": "stderr",
     "output_type": "stream",
     "text": [
      " 17%|█▋        | 147/841 [08:07<33:59,  2.94s/it]"
     ]
    },
    {
     "name": "stdout",
     "output_type": "stream",
     "text": [
      "{\n",
      "  \"poste\": {\n",
      "    \"type_contrat\": \"CDI\",\n",
      "    \"teletravail_possible\": false,\n",
      "    \"experience_pro_requise\": 2,\n",
      "    \"diplomes\": [\"Bac+5\"],\n",
      "    \"spe_diplomes\": [\"Data Science\", \"Data Ingénierie\"],\n",
      "    \"langues\": [\"Francais\", \"Anglais\"],\n",
      "    \"stack_technique\": [\"Python 3\", \"SQL\", \"Spark\", \"Docker\", \"GIT\", \"Flask\", \"AWS\", \"GCP\", \"Azure\", \"Datawarehouse\", \"Data Pipelines\", \"BI\", \"MLOps\"]\n",
      "  }\n",
      "}\n"
     ]
    },
    {
     "name": "stderr",
     "output_type": "stream",
     "text": [
      " 18%|█▊        | 148/841 [08:11<35:16,  3.05s/it]"
     ]
    },
    {
     "name": "stdout",
     "output_type": "stream",
     "text": [
      "{\n",
      "  \"poste\": {\n",
      "    \"type_contrat\": null,\n",
      "    \"teletravail_possible\": null,\n",
      "    \"experience_pro_requise\": 1,\n",
      "    \"diplomes\": [\"Master\", \"Doctorat\", \"Bac+3\", \"Bac+5\", \"Bac+7\", \"pas de diplome\", \"autre\"],\n",
      "    \"spe_diplomes\": [\"Ingénierie\", \"Informatique\", \"Bio-informatique\", \"Cybersécurité\", \"Télécommunications\", \"Robotique\", \"Biologie\"],\n",
      "    \"langues\": [\"Anglais\", \"Francais\", \"autre\"],\n",
      "    \"stack_technique\": [\"modélisation\", \"simulation numérique\", \"big data\", \"gestion de projets\", \"expérimentation\", \"développement technologique\", \"système nucléaire\", \"5G\", \"innovation thérapeutique\"]\n",
      "  }\n",
      "}\n"
     ]
    },
    {
     "name": "stderr",
     "output_type": "stream",
     "text": [
      " 18%|█▊        | 149/841 [08:14<36:55,  3.20s/it]"
     ]
    },
    {
     "name": "stdout",
     "output_type": "stream",
     "text": [
      "{\n",
      "  \"poste\": {\n",
      "    \"type_contrat\": \"CDI\",\n",
      "    \"teletravail_possible\": true,\n",
      "    \"experience_pro_requise\": 1,\n",
      "    \"diplomes\": [\"Bac+3\", \"Bac+5\"],\n",
      "    \"spe_diplomes\": [\"informatique\", \"ingénierie commerciale\", \"informatique\", \"discipline technique connexe\"],\n",
      "    \"langues\": [\"Francais\", \"Anglais\"],\n",
      "    \"stack_technique\": [\"Azure SQL\", \"Azure Data Lake\", \"Azure Databricks\", \"Azure Data Factory\", \"Azure Analysis Services\", \"SQL\", \"Python\", \"ETL\", \"ELT\", \"Spark\"]\n",
      "  }\n",
      "}\n"
     ]
    },
    {
     "name": "stderr",
     "output_type": "stream",
     "text": [
      " 18%|█▊        | 150/841 [08:21<49:46,  4.32s/it]"
     ]
    },
    {
     "name": "stdout",
     "output_type": "stream",
     "text": [
      "{\n",
      "  \"poste\": {\n",
      "    \"type_contrat\": \"CDI\",\n",
      "    \"teletravail_possible\": false,\n",
      "    \"experience_pro_requise\": 1,\n",
      "    \"diplomes\": [\"Master\"],\n",
      "    \"spe_diplomes\": [\"Ingénieur\"],\n",
      "    \"langues\": [\"Anglais\", \"Francais\"],\n",
      "    \"stack_technique\": [\"Hadoop\", \"MapReduce\", \"MongoDB\", \"Cassandra\", \"C\", \"Python\", \"Java\", \"Jenkins\", \"GitLab CI\", \"Docker\"]\n",
      "  }\n",
      "}\n"
     ]
    },
    {
     "name": "stderr",
     "output_type": "stream",
     "text": [
      " 18%|█▊        | 151/841 [08:24<44:33,  3.87s/it]"
     ]
    },
    {
     "name": "stdout",
     "output_type": "stream",
     "text": [
      "{\n",
      "  \"poste\": {\n",
      "    \"type_contrat\": \"CDI\",\n",
      "    \"teletravail_possible\": true,\n",
      "    \"experience_pro_requise\": 3,\n",
      "    \"diplomes\": [\"pas de diplome\"],\n",
      "    \"spe_diplomes\": [null],\n",
      "    \"langues\": [null],\n",
      "    \"stack_technique\": [\n",
      "      \"Python\",\n",
      "      \"Git\",\n",
      "      \"SQL\",\n",
      "      \"Pandas\",\n",
      "      \"Dask\",\n",
      "      \"Spark\",\n",
      "      \"AWS\",\n",
      "      \"GCP\",\n",
      "      \"Azure\",\n",
      "      \"Airflow\",\n",
      "      \"Dagster\",\n",
      "      \"Snowflake\",\n",
      "      \"Databricks\",\n",
      "      \"DBT\",\n",
      "      \"Terraform\",\n",
      "      \"CloudFormation\",\n",
      "      \"Gitlab-Ci\",\n",
      "      \"Github Actions\",\n",
      "      \"Jenkins\"\n",
      "    ]\n",
      "  }\n",
      "}\n"
     ]
    },
    {
     "name": "stderr",
     "output_type": "stream",
     "text": [
      " 18%|█▊        | 152/841 [08:26<37:17,  3.25s/it]"
     ]
    },
    {
     "name": "stdout",
     "output_type": "stream",
     "text": [
      "{\n",
      "  \"poste\": {\n",
      "    \"type_contrat\": null,\n",
      "    \"teletravail_possible\": null,\n",
      "    \"experience_pro_requise\": null,\n",
      "    \"diplomes\": [null],\n",
      "    \"spe_diplomes\": [null],\n",
      "    \"langues\": [null],\n",
      "    \"stack_technique\": [\"Data Science\", \"Agile\"]\n",
      "  }\n",
      "}\n"
     ]
    },
    {
     "name": "stderr",
     "output_type": "stream",
     "text": [
      " 18%|█▊        | 153/841 [08:27<32:25,  2.83s/it]"
     ]
    },
    {
     "name": "stdout",
     "output_type": "stream",
     "text": [
      "{\n",
      "  \"poste\": {\n",
      "    \"type_contrat\": \"stage\",\n",
      "    \"teletravail_possible\": true,\n",
      "    \"experience_pro_requise\": 1,\n",
      "    \"diplomes\": [\"Bac+3/4\"],\n",
      "    \"spe_diplomes\": [\"data science\", \"Big Data\", \"statistiques appliquées\"],\n",
      "    \"langues\": [\"Francais\", \"Anglais\"],\n",
      "    \"stack_technique\": [\"Python\", \"SciKit-Learn\", \"R\", \"SQL\"]\n",
      "  }\n",
      "}\n"
     ]
    },
    {
     "name": "stderr",
     "output_type": "stream",
     "text": [
      " 18%|█▊        | 154/841 [08:29<29:42,  2.59s/it]"
     ]
    },
    {
     "name": "stdout",
     "output_type": "stream",
     "text": [
      "{\n",
      "  \"poste\": {\n",
      "    \"type_contrat\": \"stage\",\n",
      "    \"teletravail_possible\": false,\n",
      "    \"experience_pro_requise\": 1,\n",
      "    \"diplomes\": [\"Bac+3\"],\n",
      "    \"spe_diplomes\": [\"Data\", \"Informatique\"],\n",
      "    \"langues\": [\"Francais\", \"Anglais\"],\n",
      "    \"stack_technique\": [\"Python 3\", \"Bash\", \"Bitbucket\", \"Cloud interne\"]\n",
      "  }\n",
      "}\n"
     ]
    },
    {
     "name": "stderr",
     "output_type": "stream",
     "text": [
      " 18%|█▊        | 155/841 [08:32<27:44,  2.43s/it]"
     ]
    },
    {
     "name": "stdout",
     "output_type": "stream",
     "text": [
      "{\n",
      "  \"poste\": {\n",
      "    \"type_contrat\": \"CDI\",\n",
      "    \"teletravail_possible\": true,\n",
      "    \"experience_pro_requise\": 3,\n",
      "    \"diplomes\": [\"Doctorat\", \"autre\"],\n",
      "    \"spe_diplomes\": [\"Computer Vision\", \"Imagerie Médicale\"],\n",
      "    \"langues\": [\"Francais\", \"Anglais\", \"autre\"],\n",
      "    \"stack_technique\": [\"Python\", \"Pytorch\", \"TensorFlow\", \"DICOM\", \"NIfTI\", \"SQL\", \"Docker\", \"ML Flow\", \"Fast API\", \"AWS\", \"GCP\"]\n",
      "  }\n",
      "}\n"
     ]
    },
    {
     "name": "stderr",
     "output_type": "stream",
     "text": [
      " 19%|█▊        | 156/841 [08:39<43:49,  3.84s/it]"
     ]
    },
    {
     "name": "stdout",
     "output_type": "stream",
     "text": [
      "{\n",
      "  \"poste\": {\n",
      "    \"type_contrat\": \"alternance\",\n",
      "    \"teletravail_possible\": false,\n",
      "    \"experience_pro_requise\": 1,\n",
      "    \"diplomes\": [\"Bac+5\"],\n",
      "    \"spe_diplomes\": [\"Data Science\"],\n",
      "    \"langues\": [\"Francais\", \"Anglais\"],\n",
      "    \"stack_technique\": [\"Python\", \"R\", \"SQL\", \"Data visualisation\", \"Machine learning\", \"Deep learning\", \"Cloud\", \"Cloudera\"]\n",
      "  }\n",
      "}\n"
     ]
    },
    {
     "name": "stderr",
     "output_type": "stream",
     "text": [
      " 19%|█▊        | 157/841 [08:41<37:25,  3.28s/it]"
     ]
    },
    {
     "name": "stdout",
     "output_type": "stream",
     "text": [
      "{\n",
      "  \"poste\": {\n",
      "    \"type_contrat\": \"CDI\",\n",
      "    \"teletravail_possible\": false,\n",
      "    \"experience_pro_requise\": 5,\n",
      "    \"diplomes\": [\"Master\"],\n",
      "    \"spe_diplomes\": [\"Data Science\", \"Machine Learning\"],\n",
      "    \"langues\": [\"Anglais\"],\n",
      "    \"stack_technique\": [\"Python\", \"SQL\", \"RandomForest\", \"XGBOOST\", \"LightGBM\", \"LSTM\", \"Dataiku DSS\", \"Cloud Data Platforms (GCP)\"]\n",
      "  }\n",
      "}\n"
     ]
    },
    {
     "name": "stderr",
     "output_type": "stream",
     "text": [
      " 19%|█▉        | 158/841 [08:43<32:33,  2.86s/it]"
     ]
    },
    {
     "name": "stdout",
     "output_type": "stream",
     "text": [
      "{\n",
      "  \"poste\": {\n",
      "    \"type_contrat\": \"CDD\",\n",
      "    \"teletravail_possible\": true,\n",
      "    \"experience_pro_requise\": 1,\n",
      "    \"diplomes\": [\"Master\"],\n",
      "    \"spe_diplomes\": [\"Data Science\"],\n",
      "    \"langues\": [\"Anglais\"],\n",
      "    \"stack_technique\": [\"Mathématiques\", \"Machine Learning\", \"Python\", \"SQL\", \"Data Analyse (Power BI)\"]\n",
      "  }\n",
      "}\n"
     ]
    },
    {
     "name": "stderr",
     "output_type": "stream",
     "text": [
      " 19%|█▉        | 159/841 [08:49<45:17,  3.99s/it]"
     ]
    },
    {
     "name": "stdout",
     "output_type": "stream",
     "text": [
      "{\n",
      "  \"poste\": {\n",
      "    \"type_contrat\": \"CDI\",\n",
      "    \"teletravail_possible\": true,\n",
      "    \"experience_pro_requise\": 3,\n",
      "    \"diplomes\": [\"Bac+5\"],\n",
      "    \"spe_diplomes\": [],\n",
      "    \"langues\": [\"Anglais\"],\n",
      "    \"stack_technique\": [\"Python\"]\n",
      "  }\n",
      "}\n"
     ]
    },
    {
     "name": "stderr",
     "output_type": "stream",
     "text": [
      " 19%|█▉        | 160/841 [08:51<38:59,  3.44s/it]"
     ]
    },
    {
     "name": "stdout",
     "output_type": "stream",
     "text": [
      "{\n",
      "  \"poste\": {\n",
      "    \"type_contrat\": \"freelance\",\n",
      "    \"teletravail_possible\": true,\n",
      "    \"experience_pro_requise\": 3,\n",
      "    \"diplomes\": [\"pas de diplome\"],\n",
      "    \"spe_diplomes\": [null],\n",
      "    \"langues\": [null],\n",
      "    \"stack_technique\": [\"Python\", \"FastAPI\", \"Git\", \"GENAI\", \"ChatGPT\", \"langchain\", \"OpenAI\", \"Chainlit\"]\n",
      "  }\n",
      "}\n"
     ]
    },
    {
     "name": "stderr",
     "output_type": "stream",
     "text": [
      " 19%|█▉        | 161/841 [08:53<33:32,  2.96s/it]"
     ]
    },
    {
     "name": "stdout",
     "output_type": "stream",
     "text": [
      "{\n",
      "  \"poste\": {\n",
      "    \"type_contrat\": \"CDI\",\n",
      "    \"teletravail_possible\": true,\n",
      "    \"experience_pro_requise\": 2,\n",
      "    \"diplomes\": [\"Bac+5\"],\n",
      "    \"spe_diplomes\": [\"statistiques\", \"informatique\", \"mathématiques appliquées\"],\n",
      "    \"langues\": [\"Francais\"],\n",
      "    \"stack_technique\": [\"Python\", \"SQL\", \"Talend\", \"Tableau\"]\n",
      "  }\n",
      "}\n"
     ]
    },
    {
     "name": "stderr",
     "output_type": "stream",
     "text": [
      " 19%|█▉        | 162/841 [08:55<31:09,  2.75s/it]"
     ]
    },
    {
     "name": "stdout",
     "output_type": "stream",
     "text": [
      "{\n",
      "  \"poste\": {\n",
      "    \"type_contrat\": \"alternance\",\n",
      "    \"teletravail_possible\": true,\n",
      "    \"experience_pro_requise\": 1,\n",
      "    \"diplomes\": [\"Bac+5\"],\n",
      "    \"spe_diplomes\": [\"Data Science\", \"Ingénierie\"],\n",
      "    \"langues\": [\"Francais\", \"Anglais\"],\n",
      "    \"stack_technique\": [\"Python\", \"R\", \"Base de données\", \"NoSQL\", \"Hadoop\"]\n",
      "  }\n",
      "}\n"
     ]
    },
    {
     "name": "stderr",
     "output_type": "stream",
     "text": [
      " 19%|█▉        | 163/841 [08:58<28:53,  2.56s/it]"
     ]
    },
    {
     "name": "stdout",
     "output_type": "stream",
     "text": [
      "{\n",
      "  \"poste\": {\n",
      "    \"type_contrat\": \"stage\",\n",
      "    \"teletravail_possible\": false,\n",
      "    \"experience_pro_requise\": 1,\n",
      "    \"diplomes\": [\"Bac+3\", \"Bac+5\"],\n",
      "    \"spe_diplomes\": [\"Data Science\"],\n",
      "    \"langues\": [\"Anglais\", \"Francais\"],\n",
      "    \"stack_technique\": [\"Collecte de données\", \"Stockage de données\", \"Préparation de données\", \"Visualisation de données\", \"Modèles prédictifs\"]\n",
      "  }\n",
      "}\n"
     ]
    },
    {
     "name": "stderr",
     "output_type": "stream",
     "text": [
      " 20%|█▉        | 164/841 [08:59<26:52,  2.38s/it]"
     ]
    },
    {
     "name": "stdout",
     "output_type": "stream",
     "text": [
      "{\n",
      "  \"poste\": {\n",
      "    \"type_contrat\": \"alternance\",\n",
      "    \"teletravail_possible\": true,\n",
      "    \"experience_pro_requise\": 2,\n",
      "    \"diplomes\": [\"pas de diplome\"],\n",
      "    \"spe_diplomes\": [\"ingénieur\"],\n",
      "    \"langues\": [\"Francais\"],\n",
      "    \"stack_technique\": [\"Power BI\", \"bases de données\"]\n",
      "  }\n",
      "}\n"
     ]
    },
    {
     "name": "stderr",
     "output_type": "stream",
     "text": [
      " 20%|█▉        | 165/841 [09:07<43:37,  3.87s/it]"
     ]
    },
    {
     "name": "stdout",
     "output_type": "stream",
     "text": [
      "{\n",
      "  \"poste\": {\n",
      "    \"type_contrat\": \"CDI\",\n",
      "    \"teletravail_possible\": true,\n",
      "    \"experience_pro_requise\": 3,\n",
      "    \"diplomes\": [\"Bac+5\"],\n",
      "    \"spe_diplomes\": [\"data\"],\n",
      "    \"langues\": [\"Francais\", \"Anglais\"],\n",
      "    \"stack_technique\": [\"SQL\", \"SAS\", \"Excel-VBA\", \"SAS-Viya\", \"Dataiku\", \"Power BI\"]\n",
      "  }\n",
      "}\n"
     ]
    },
    {
     "name": "stderr",
     "output_type": "stream",
     "text": [
      " 20%|█▉        | 166/841 [09:09<37:40,  3.35s/it]"
     ]
    },
    {
     "name": "stdout",
     "output_type": "stream",
     "text": [
      "{\n",
      "  \"poste\": {\n",
      "    \"type_contrat\": \"alternance\",\n",
      "    \"teletravail_possible\": true,\n",
      "    \"experience_pro_requise\": 1,\n",
      "    \"diplomes\": [\"Bac+5\"],\n",
      "    \"spe_diplomes\": [\"Mathématiques\", \"Statistiques\", \"Informatique\"],\n",
      "    \"langues\": [\"Francais\", \"Anglais\"],\n",
      "    \"stack_technique\": [\"Python\", \"R\"]\n",
      "  }\n",
      "}\n"
     ]
    },
    {
     "name": "stderr",
     "output_type": "stream",
     "text": [
      " 20%|█▉        | 167/841 [09:11<33:10,  2.95s/it]"
     ]
    },
    {
     "name": "stdout",
     "output_type": "stream",
     "text": [
      "{\n",
      "  \"poste\": {\n",
      "    \"type_contrat\": \"alternance\",\n",
      "    \"teletravail_possible\": false,\n",
      "    \"experience_pro_requise\": 1,\n",
      "    \"diplomes\": [\"Master\"],\n",
      "    \"spe_diplomes\": [\"analyse de données\"],\n",
      "    \"langues\": [\"Anglais\"],\n",
      "    \"stack_technique\": [\"Pack Office\", \"Excel\", \"Qlikview\", \"PowerBI\"]\n",
      "  }\n",
      "}\n"
     ]
    },
    {
     "name": "stderr",
     "output_type": "stream",
     "text": [
      " 20%|█▉        | 168/841 [09:13<31:37,  2.82s/it]"
     ]
    },
    {
     "name": "stdout",
     "output_type": "stream",
     "text": [
      "{\n",
      "  \"poste\": {\n",
      "    \"type_contrat\": \"freelance\",\n",
      "    \"teletravail_possible\": null,\n",
      "    \"experience_pro_requise\": 1,\n",
      "    \"diplomes\": [\"Bac+5\"],\n",
      "    \"spe_diplomes\": [\"informatique\"],\n",
      "    \"langues\": [\"Anglais\", \"Francais\", \"autre\"],\n",
      "    \"stack_technique\": [\"Python\", \"lambda\", \"Step Function\", \"AWS RDS\", \"PostgreSQL\", \"snowflake\", \"Spark\", \"Agile\", \"SCRUM\", \"SAFe\", \"Revues de code\"]\n",
      "  }\n",
      "}\n"
     ]
    },
    {
     "name": "stderr",
     "output_type": "stream",
     "text": [
      " 20%|██        | 169/841 [09:20<44:35,  3.98s/it]"
     ]
    },
    {
     "name": "stdout",
     "output_type": "stream",
     "text": [
      "{\n",
      "  \"poste\": {\n",
      "    \"type_contrat\": \"CDI\",\n",
      "    \"teletravail_possible\": true,\n",
      "    \"experience_pro_requise\": 2,\n",
      "    \"diplomes\": [\"pas de diplome\"],\n",
      "    \"spe_diplomes\": [\"informatique\", \"management\", \"statistique\"],\n",
      "    \"langues\": [\"Anglais\"],\n",
      "    \"stack_technique\": [\"Azure Devops\", \"Github\", \"Python\", \"SQL\", \"Hadoop\", \"Spark\"]\n",
      "  }\n",
      "}\n"
     ]
    },
    {
     "name": "stderr",
     "output_type": "stream",
     "text": [
      " 20%|██        | 170/841 [09:22<36:38,  3.28s/it]"
     ]
    },
    {
     "name": "stdout",
     "output_type": "stream",
     "text": [
      "{\n",
      "  \"poste\": {\n",
      "    \"type_contrat\": \"freelance\",\n",
      "    \"teletravail_possible\": true,\n",
      "    \"experience_pro_requise\": 2,\n",
      "    \"diplomes\": [\"pas de diplome\"],\n",
      "    \"spe_diplomes\": [null],\n",
      "    \"langues\": [\"Anglais\"],\n",
      "    \"stack_technique\": [\"Python\", \"FastAPI\", \"ChatGPT\", \"langchain\", \"chainlit\", \"GENAI\"]\n",
      "  }\n",
      "}\n"
     ]
    },
    {
     "name": "stderr",
     "output_type": "stream",
     "text": [
      " 20%|██        | 171/841 [09:30<52:20,  4.69s/it]"
     ]
    },
    {
     "name": "stdout",
     "output_type": "stream",
     "text": [
      "{\n",
      "  \"poste\": {\n",
      "    \"type_contrat\": \"CDI\",\n",
      "    \"teletravail_possible\": true,\n",
      "    \"experience_pro_requise\": 3,\n",
      "    \"diplomes\": [\"Master\"],\n",
      "    \"spe_diplomes\": [\"Data Science\"],\n",
      "    \"langues\": [\"Anglais\"],\n",
      "    \"stack_technique\": [\"Python\", \"Machine Learning\", \"Statistiques\", \"Modélisation de séries temporelles\", \"Spark\", \"SQL\", \"Plotly\", \"Dash\", \"Streamlit\"],\n",
      "    \"mindset\": \"La réussite en équipe est votre priorité et votre rigueur se ressent dans votre code. Vous travaillez de manière autonome et savez gérer plusieurs projets en parallèle. Vous vous maintenez activement à jour sur les dernières technologies et méthodes en Data Science.\"\n",
      "  }\n",
      "}\n"
     ]
    },
    {
     "name": "stderr",
     "output_type": "stream",
     "text": [
      " 20%|██        | 172/841 [09:38<1:02:37,  5.62s/it]"
     ]
    },
    {
     "name": "stdout",
     "output_type": "stream",
     "text": [
      "{\n",
      "  \"poste\": {\n",
      "    \"type_contrat\": \"CDI\",\n",
      "    \"teletravail_possible\": true,\n",
      "    \"experience_pro_requise\": 3,\n",
      "    \"diplomes\": [\"Bac+3\", \"Bac+5\"],\n",
      "    \"spe_diplomes\": [\"Analyse de données\"],\n",
      "    \"langues\": [\"Anglais\"],\n",
      "    \"stack_technique\": [\"Python\", \"Spark/Databricks\", \"Grafana/PowerBI\", \"SQL\"]\n",
      "  }\n",
      "}\n"
     ]
    },
    {
     "name": "stderr",
     "output_type": "stream",
     "text": [
      " 21%|██        | 173/841 [09:40<51:50,  4.66s/it]  "
     ]
    },
    {
     "name": "stdout",
     "output_type": "stream",
     "text": [
      "{\n",
      "  \"poste\": {\n",
      "    \"type_contrat\": \"CDI\",\n",
      "    \"teletravail_possible\": true,\n",
      "    \"experience_pro_requise\": 4,\n",
      "    \"diplomes\": [\"Master\"],\n",
      "    \"spe_diplomes\": [\"Mathématiques\", \"Statistiques\"],\n",
      "    \"langues\": [\"Anglais\"],\n",
      "    \"stack_technique\": [\"Python\", \"Java\", \"Hadoop\", \"HDFS\", \"Spark\", \"NiFi\", \"base de données relationnelle\", \"moteur de recherche\", \"Machine Learning\", \"Deep Learning\", \"NLP\", \"LLM\"]\n",
      "  }\n",
      "}\n"
     ]
    },
    {
     "name": "stderr",
     "output_type": "stream",
     "text": [
      " 21%|██        | 174/841 [09:42<42:55,  3.86s/it]"
     ]
    },
    {
     "name": "stdout",
     "output_type": "stream",
     "text": [
      "{\n",
      "  \"poste\": {\n",
      "    \"type_contrat\": \"CDI\",\n",
      "    \"teletravail_possible\": true,\n",
      "    \"experience_pro_requise\": 3,\n",
      "    \"diplomes\": [\"Bac+5\", \"Doctorat\"],\n",
      "    \"spe_diplomes\": [],\n",
      "    \"langues\": [\"Anglais\"],\n",
      "    \"stack_technique\": [\"Python\", \"Machine Learning\", \"Deep Learning\", \"Image Processing\", \"Numpy\", \"OpenCV\", \"PyTorch\", \"Linux\", \"Git\"]\n",
      "  }\n",
      "}\n"
     ]
    },
    {
     "name": "stderr",
     "output_type": "stream",
     "text": [
      " 21%|██        | 175/841 [09:44<38:06,  3.43s/it]"
     ]
    },
    {
     "name": "stdout",
     "output_type": "stream",
     "text": [
      "{\n",
      "  \"poste\": {\n",
      "    \"type_contrat\": \"CDI\",\n",
      "    \"teletravail_possible\": true,\n",
      "    \"experience_pro_requise\": 1,\n",
      "    \"diplomes\": [\"pas de diplome\"],\n",
      "    \"spe_diplomes\": [\"mathematique\", \"statistique\"],\n",
      "    \"langues\": [\"Anglais\"],\n",
      "    \"stack_technique\": [\"SQL\", \"Python\", \"data visualisation\", \"AWS\", \"Azure\", \"GCP\", \"Machine Learning\"]\n",
      "  }\n",
      "}\n"
     ]
    },
    {
     "name": "stderr",
     "output_type": "stream",
     "text": [
      " 21%|██        | 176/841 [09:46<32:57,  2.97s/it]"
     ]
    },
    {
     "name": "stdout",
     "output_type": "stream",
     "text": [
      "{\n",
      "  \"poste\": {\n",
      "    \"type_contrat\": \"alternance\",\n",
      "    \"teletravail_possible\": false,\n",
      "    \"experience_pro_requise\": 1,\n",
      "    \"diplomes\": [\"pas de diplome\"],\n",
      "    \"spe_diplomes\": [null],\n",
      "    \"langues\": [null],\n",
      "    \"stack_technique\": [\"data science\", \"algorithmes\", \"modélisation de données\", \"marketing\", \"langages de programmation\"]\n",
      "  }\n",
      "}\n"
     ]
    },
    {
     "name": "stderr",
     "output_type": "stream",
     "text": [
      " 21%|██        | 177/841 [09:48<28:50,  2.61s/it]"
     ]
    },
    {
     "name": "stdout",
     "output_type": "stream",
     "text": [
      "{\n",
      "  \"poste\": {\n",
      "    \"type_contrat\": \"alternance\",\n",
      "    \"teletravail_possible\": false,\n",
      "    \"experience_pro_requise\": 1,\n",
      "    \"diplomes\": [\"Master\"],\n",
      "    \"spe_diplomes\": [\"Data Science\", \"Big Data\", \"IA\"],\n",
      "    \"langues\": [\"Francais\"],\n",
      "    \"stack_technique\": [\"Python\"]\n",
      "  }\n",
      "}\n"
     ]
    },
    {
     "name": "stderr",
     "output_type": "stream",
     "text": [
      " 21%|██        | 178/841 [09:50<26:27,  2.39s/it]"
     ]
    },
    {
     "name": "stdout",
     "output_type": "stream",
     "text": [
      "{\n",
      "  \"poste\": {\n",
      "    \"type_contrat\": \"CDI\",\n",
      "    \"teletravail_possible\": false,\n",
      "    \"experience_pro_requise\": 3,\n",
      "    \"diplomes\": [\"Licence\", \"Master\", \"Doctorat\"],\n",
      "    \"spe_diplomes\": [\"statistiques\", \"informatique\", \"domaine connexe\"],\n",
      "    \"langues\": [\"Anglais\", \"Francais\", \"autre\"],\n",
      "    \"stack_technique\": [\"R\", \"Python\", \"Tableau\", \"Dataiku\"]\n",
      "  }\n",
      "}\n"
     ]
    },
    {
     "name": "stderr",
     "output_type": "stream",
     "text": [
      " 21%|██▏       | 179/841 [09:52<25:36,  2.32s/it]"
     ]
    },
    {
     "name": "stdout",
     "output_type": "stream",
     "text": [
      "{\n",
      "  \"poste\": {\n",
      "    \"type_contrat\": \"CDI\",\n",
      "    \"teletravail_possible\": true,\n",
      "    \"experience_pro_requise\": 5,\n",
      "    \"diplomes\": [\"pas de diplome\"],\n",
      "    \"spe_diplomes\": [null],\n",
      "    \"langues\": [\"Anglais\"],\n",
      "    \"stack_technique\": [\"Python\", \"Scala\", \"Spark\", \"AWS\", \"GCP\", \"Azure\", \"Power Bi\", \"Tableau Software\", \"Qlik\"]\n",
      "  }\n",
      "}\n"
     ]
    },
    {
     "name": "stderr",
     "output_type": "stream",
     "text": [
      " 21%|██▏       | 180/841 [09:54<24:38,  2.24s/it]"
     ]
    },
    {
     "name": "stdout",
     "output_type": "stream",
     "text": [
      "{\n",
      "  \"poste\": {\n",
      "    \"type_contrat\": \"alternance\",\n",
      "    \"teletravail_possible\": false,\n",
      "    \"experience_pro_requise\": 1,\n",
      "    \"diplomes\": [\"Bac+4\", \"Bac+5\"],\n",
      "    \"spe_diplomes\": [\"Data analyst\", \"BIG DATA\", \"Expert en ingénierie des données\"],\n",
      "    \"langues\": [\"Francais\", \"Anglais\"],\n",
      "    \"stack_technique\": [\"SQL\", \"PYTHON\", \"Excel\", \"Microstrategy\", \"Power BI\", \"Tableau\"]\n",
      "  }\n",
      "}\n"
     ]
    },
    {
     "name": "stderr",
     "output_type": "stream",
     "text": [
      " 22%|██▏       | 181/841 [09:57<27:42,  2.52s/it]"
     ]
    },
    {
     "name": "stdout",
     "output_type": "stream",
     "text": [
      "{\n",
      "  \"poste\": {\n",
      "    \"type_contrat\": \"CDI\",\n",
      "    \"teletravail_possible\": true,\n",
      "    \"experience_pro_requise\": 3,\n",
      "    \"diplomes\": [\"Master\"],\n",
      "    \"spe_diplomes\": [\"Engineering\", \"Business\", \"Mathematics\", \"Economics\", \"Computer Science\", \"Information Management\", \"Statistics\"],\n",
      "    \"langues\": [\"Anglais\", \"Francais\"],\n",
      "    \"stack_technique\": [\"SQL\", \"Python\", \"Excel\", \"DBT\", \"Power BI\"]\n",
      "  }\n",
      "}\n"
     ]
    },
    {
     "name": "stderr",
     "output_type": "stream",
     "text": [
      " 22%|██▏       | 182/841 [10:00<26:26,  2.41s/it]"
     ]
    },
    {
     "name": "stdout",
     "output_type": "stream",
     "text": [
      "{\n",
      "  \"poste\": {\n",
      "    \"type_contrat\": \"alternance\",\n",
      "    \"teletravail_possible\": false,\n",
      "    \"experience_pro_requise\": 1,\n",
      "    \"diplomes\": [\"Bac+3\", \"autre\"],\n",
      "    \"spe_diplomes\": [\"informatique\"],\n",
      "    \"langues\": [\"Francais\", \"Anglais\", \"autre\"],\n",
      "    \"stack_technique\": [\"SQL\", \"BI\", \"Metabase\", \"Python\"]\n",
      "  }\n",
      "}\n"
     ]
    },
    {
     "name": "stderr",
     "output_type": "stream",
     "text": [
      " 22%|██▏       | 183/841 [10:03<29:03,  2.65s/it]"
     ]
    },
    {
     "name": "stdout",
     "output_type": "stream",
     "text": [
      "{\n",
      "  \"poste\": {\n",
      "    \"type_contrat\": \"alternance\",\n",
      "    \"teletravail_possible\": false,\n",
      "    \"experience_pro_requise\": 1,\n",
      "    \"diplomes\": [\"Bac+5\"],\n",
      "    \"spe_diplomes\": [\"Développement des SI\", \"Informatique\", \"Data\"],\n",
      "    \"langues\": [null],\n",
      "    \"stack_technique\": [\"Power BI\", \"Sharepoint\", \"SAP\"]\n",
      "  }\n",
      "}\n"
     ]
    },
    {
     "name": "stderr",
     "output_type": "stream",
     "text": [
      " 22%|██▏       | 184/841 [10:06<29:26,  2.69s/it]"
     ]
    },
    {
     "name": "stdout",
     "output_type": "stream",
     "text": [
      "{\n",
      "  \"poste\": {\n",
      "    \"type_contrat\": \"CDI\",\n",
      "    \"teletravail_possible\": true,\n",
      "    \"experience_pro_requise\": 3,\n",
      "    \"diplomes\": [\"Bac+3\", \"Bac+5\", \"pas de diplome\"],\n",
      "    \"spe_diplomes\": [\"ingénieur\", \"école de commerce\", null],\n",
      "    \"langues\": [\"Anglais\", \"Francais\", \"autre\"],\n",
      "    \"stack_technique\": [\"Python\", \"Tableau\", \"SQL\", \"BigQuery\", \"Github\", \"Airflow\", \"Google Cloud Platform\", \"R\"]\n",
      "  }\n",
      "}\n"
     ]
    },
    {
     "name": "stderr",
     "output_type": "stream",
     "text": [
      " 22%|██▏       | 185/841 [10:07<26:25,  2.42s/it]"
     ]
    },
    {
     "name": "stdout",
     "output_type": "stream",
     "text": [
      "{\n",
      "  \"poste\": {\n",
      "    \"type_contrat\": \"CDI\",\n",
      "    \"teletravail_possible\": true,\n",
      "    \"experience_pro_requise\": 5,\n",
      "    \"diplomes\": [\"Bac+5\"],\n",
      "    \"spe_diplomes\": [\"Mathematiques\", \"Statistiques\", \"Economie\", \"Marketing\", \"Informatique\"],\n",
      "    \"langues\": [\"Anglais\"],\n",
      "    \"stack_technique\": [\"SAS\", \"SPSS\", \"VBA\", \"ACCES\", \"R\", \"SQL\", \"Power BI\", \"Microsoft Dynamics\", \"AT internet/Piano\", \"Content Square\", \"AB Tasty\"]\n",
      "  }\n",
      "}\n"
     ]
    },
    {
     "name": "stderr",
     "output_type": "stream",
     "text": [
      " 22%|██▏       | 186/841 [10:14<39:18,  3.60s/it]"
     ]
    },
    {
     "name": "stdout",
     "output_type": "stream",
     "text": [
      "{\n",
      "  \"poste\": {\n",
      "    \"type_contrat\": \"alternance\",\n",
      "    \"teletravail_possible\": false,\n",
      "    \"experience_pro_requise\": 1,\n",
      "    \"diplomes\": [\"pas de diplome\"],\n",
      "    \"spe_diplomes\": [\"Data Analyst\"],\n",
      "    \"langues\": [null],\n",
      "    \"stack_technique\": [null]\n",
      "  }\n",
      "}\n"
     ]
    },
    {
     "name": "stderr",
     "output_type": "stream",
     "text": [
      " 22%|██▏       | 187/841 [10:15<32:56,  3.02s/it]"
     ]
    },
    {
     "name": "stdout",
     "output_type": "stream",
     "text": [
      "{\n",
      "  \"poste\": {\n",
      "    \"type_contrat\": \"CDI\",\n",
      "    \"teletravail_possible\": true,\n",
      "    \"experience_pro_requise\": 3,\n",
      "    \"diplomes\": [\"autre\"],\n",
      "    \"spe_diplomes\": [null],\n",
      "    \"langues\": [\"Francais\", \"Anglais\"],\n",
      "    \"stack_technique\": [\"Power BI\"]\n",
      "  }\n",
      "}\n"
     ]
    },
    {
     "name": "stderr",
     "output_type": "stream",
     "text": [
      " 22%|██▏       | 188/841 [10:17<28:41,  2.64s/it]"
     ]
    },
    {
     "name": "stdout",
     "output_type": "stream",
     "text": [
      "{\n",
      "  \"poste\": {\n",
      "    \"type_contrat\": \"CDI\",\n",
      "    \"teletravail_possible\": true,\n",
      "    \"experience_pro_requise\": 3,\n",
      "    \"diplomes\": [\"pas de diplome\"],\n",
      "    \"spe_diplomes\": [\"développement et analyse de données\"],\n",
      "    \"langues\": [\"Francais\", \"Anglais\"],\n",
      "    \"stack_technique\": [\"PowerBI\", \"python\", \"Azure\", \"API\"]\n",
      "  }\n",
      "}\n"
     ]
    },
    {
     "name": "stderr",
     "output_type": "stream",
     "text": [
      " 22%|██▏       | 189/841 [10:19<25:53,  2.38s/it]"
     ]
    },
    {
     "name": "stdout",
     "output_type": "stream",
     "text": [
      "{\n",
      "  \"poste\": {\n",
      "    \"type_contrat\": \"CDI\",\n",
      "    \"teletravail_possible\": false,\n",
      "    \"experience_pro_requise\": 2,\n",
      "    \"diplomes\": [\"pas de diplome\"],\n",
      "    \"spe_diplomes\": [\"Data Analyst\"],\n",
      "    \"langues\": [\"Anglais\"],\n",
      "    \"stack_technique\": [\"SQL\", \"Power BI\", \"SAS\", \"Qlik\"]\n",
      "  }\n",
      "}\n"
     ]
    },
    {
     "name": "stderr",
     "output_type": "stream",
     "text": [
      " 23%|██▎       | 190/841 [10:21<24:10,  2.23s/it]"
     ]
    },
    {
     "name": "stdout",
     "output_type": "stream",
     "text": [
      "{\n",
      "  \"poste\": {\n",
      "    \"type_contrat\": \"CDI\",\n",
      "    \"teletravail_possible\": true,\n",
      "    \"experience_pro_requise\": 3,\n",
      "    \"diplomes\": [\"Bac+5\", \"autre\"],\n",
      "    \"spe_diplomes\": [\"Data Analyst\", \"Marketing\"],\n",
      "    \"langues\": [\"Francais\", \"Anglais\"],\n",
      "    \"stack_technique\": [\"Excel\", \"SAS\", \"SQL\", \"QlikSense\", \"QlikView\", \"Dataiku\"]\n",
      "  }\n",
      "}\n"
     ]
    },
    {
     "name": "stderr",
     "output_type": "stream",
     "text": [
      " 23%|██▎       | 191/841 [10:24<26:11,  2.42s/it]"
     ]
    },
    {
     "name": "stdout",
     "output_type": "stream",
     "text": [
      "{\n",
      "  \"poste\": {\n",
      "    \"type_contrat\": \"CDI\",\n",
      "    \"teletravail_possible\": true,\n",
      "    \"experience_pro_requise\": 1,\n",
      "    \"diplomes\": [\"pas de diplome\"],\n",
      "    \"spe_diplomes\": [\"DATA Analyst\"],\n",
      "    \"langues\": [\"Anglais\"],\n",
      "    \"stack_technique\": [\"Python\", \"Javascript\", \"VBA\", \"R\", \"O365\"]\n",
      "  }\n",
      "}\n"
     ]
    },
    {
     "name": "stderr",
     "output_type": "stream",
     "text": [
      " 23%|██▎       | 192/841 [10:27<27:59,  2.59s/it]"
     ]
    },
    {
     "name": "stdout",
     "output_type": "stream",
     "text": [
      "{\n",
      "  \"poste\": {\n",
      "    \"type_contrat\": \"CDI\",\n",
      "    \"teletravail_possible\": true,\n",
      "    \"experience_pro_requise\": 2,\n",
      "    \"diplomes\": [\"Master\"],\n",
      "    \"spe_diplomes\": [\"statistiques\", \"sciences économiques et sociales\"],\n",
      "    \"langues\": [\"Francais\", \"Anglais\"],\n",
      "    \"stack_technique\": [\"Databricks\", \"Python\", \"PySpark\", \"PowerBI\", \"SQL\"]\n",
      "  }\n",
      "}\n"
     ]
    },
    {
     "name": "stderr",
     "output_type": "stream",
     "text": [
      " 23%|██▎       | 193/841 [10:29<28:29,  2.64s/it]"
     ]
    },
    {
     "name": "stdout",
     "output_type": "stream",
     "text": [
      "{\n",
      "  \"poste\": {\n",
      "    \"type_contrat\": \"alternance\",\n",
      "    \"teletravail_possible\": false,\n",
      "    \"experience_pro_requise\": 1,\n",
      "    \"diplomes\": [\"Master\", null],\n",
      "    \"spe_diplomes\": [\"École d'ingénieur\"],\n",
      "    \"langues\": [null],\n",
      "    \"stack_technique\": [\"Excel\", \"Pack Office\", \"Access\", \"Power BI\", \"VBA\", \"Python\", \"SQL\"]\n",
      "  }\n",
      "}\n"
     ]
    },
    {
     "name": "stderr",
     "output_type": "stream",
     "text": [
      " 23%|██▎       | 194/841 [10:31<26:35,  2.47s/it]"
     ]
    },
    {
     "name": "stdout",
     "output_type": "stream",
     "text": [
      "{\n",
      "  \"poste\": {\n",
      "    \"type_contrat\": \"CDI\",\n",
      "    \"teletravail_possible\": null,\n",
      "    \"experience_pro_requise\": 5,\n",
      "    \"diplomes\": [\"pas de diplome\"],\n",
      "    \"spe_diplomes\": [null],\n",
      "    \"langues\": [null],\n",
      "    \"stack_technique\": [\"Big Data\", \"Requêtage de bases de données\", \"Agile (SCRUM, SAFe)\"]\n",
      "  }\n",
      "}\n"
     ]
    },
    {
     "name": "stderr",
     "output_type": "stream",
     "text": [
      " 23%|██▎       | 195/841 [10:33<24:28,  2.27s/it]"
     ]
    },
    {
     "name": "stdout",
     "output_type": "stream",
     "text": [
      "{\n",
      "  \"poste\": {\n",
      "    \"type_contrat\": \"CDI\",\n",
      "    \"teletravail_possible\": true,\n",
      "    \"experience_pro_requise\": 3,\n",
      "    \"diplomes\": [\"pas de diplome\"],\n",
      "    \"spe_diplomes\": [null],\n",
      "    \"langues\": [\"Francais\", \"Anglais\"],\n",
      "    \"stack_technique\": [\"recherche et extraction de données\", \"analyse statistique\", \"data visualisation\"]\n",
      "  }\n",
      "}\n"
     ]
    },
    {
     "name": "stderr",
     "output_type": "stream",
     "text": [
      " 23%|██▎       | 196/841 [10:35<22:55,  2.13s/it]"
     ]
    },
    {
     "name": "stdout",
     "output_type": "stream",
     "text": [
      "{\n",
      "  \"poste\": {\n",
      "    \"type_contrat\": \"alternance\",\n",
      "    \"teletravail_possible\": false,\n",
      "    \"experience_pro_requise\": 1,\n",
      "    \"diplomes\": [\"Master\"],\n",
      "    \"spe_diplomes\": [\"Systèmes d’information et gestion de données\", \"Maths Appliquées\", \"Statistiques\", \"Informatique décisionnelle\"],\n",
      "    \"langues\": [null],\n",
      "    \"stack_technique\": [\"SAS\", \"Business Object\", \"Microstrategy\"]\n",
      "  }\n",
      "}\n"
     ]
    },
    {
     "name": "stderr",
     "output_type": "stream",
     "text": [
      " 23%|██▎       | 197/841 [10:37<22:54,  2.14s/it]"
     ]
    },
    {
     "name": "stdout",
     "output_type": "stream",
     "text": [
      "{\n",
      "  \"poste\": {\n",
      "    \"type_contrat\": \"stage\",\n",
      "    \"teletravail_possible\": false,\n",
      "    \"experience_pro_requise\": 1,\n",
      "    \"diplomes\": [\"pas de diplome\"],\n",
      "    \"spe_diplomes\": [null],\n",
      "    \"langues\": [\"Anglais\", \"Francais\", \"autre\"],\n",
      "    \"stack_technique\": [\"Power BI\", \"BigQuery\", \"Python\", \"SQL\", \"Data Science\"]\n",
      "  }\n",
      "}\n"
     ]
    },
    {
     "name": "stderr",
     "output_type": "stream",
     "text": [
      " 24%|██▎       | 198/841 [10:39<21:35,  2.01s/it]"
     ]
    },
    {
     "name": "stdout",
     "output_type": "stream",
     "text": [
      "{\n",
      "  \"poste\": {\n",
      "    \"type_contrat\": \"alternance\",\n",
      "    \"teletravail_possible\": false,\n",
      "    \"experience_pro_requise\": 1,\n",
      "    \"diplomes\": [\"pas de diplome\"],\n",
      "    \"spe_diplomes\": [null],\n",
      "    \"langues\": [null],\n",
      "    \"stack_technique\": [\"analyse de données\", \"Excel\", \"Power BI\"]\n",
      "  }\n",
      "}\n"
     ]
    },
    {
     "name": "stderr",
     "output_type": "stream",
     "text": [
      " 24%|██▎       | 199/841 [10:40<20:11,  1.89s/it]"
     ]
    },
    {
     "name": "stdout",
     "output_type": "stream",
     "text": [
      "{\n",
      "  \"poste\": {\n",
      "    \"type_contrat\": \"apprentissage\",\n",
      "    \"teletravail_possible\": false,\n",
      "    \"experience_pro_requise\": 1,\n",
      "    \"diplomes\": [\"Bac+5\"],\n",
      "    \"spe_diplomes\": [\"digital\"],\n",
      "    \"langues\": [\"Francais\"],\n",
      "    \"stack_technique\": [\"Python\", \"Pack Office\"]\n",
      "  }\n",
      "}\n"
     ]
    },
    {
     "name": "stderr",
     "output_type": "stream",
     "text": [
      " 24%|██▍       | 200/841 [10:42<19:32,  1.83s/it]"
     ]
    },
    {
     "name": "stdout",
     "output_type": "stream",
     "text": [
      "{\n",
      "  \"poste\": {\n",
      "    \"type_contrat\": \"alternance\",\n",
      "    \"teletravail_possible\": false,\n",
      "    \"experience_pro_requise\": 1,\n",
      "    \"diplomes\": [\"Bac+3\", \"Bac+5\"],\n",
      "    \"spe_diplomes\": [\"informatique\", \"statistiques\", \"mathématiques appliquées\"],\n",
      "    \"langues\": [\"Anglais\"],\n",
      "    \"stack_technique\": [\"Excel\", \"SQL\"]\n",
      "  }\n",
      "}\n"
     ]
    },
    {
     "name": "stderr",
     "output_type": "stream",
     "text": [
      " 24%|██▍       | 201/841 [10:44<20:52,  1.96s/it]"
     ]
    },
    {
     "name": "stdout",
     "output_type": "stream",
     "text": [
      "{\n",
      "  \"poste\": {\n",
      "    \"type_contrat\": \"alternance\",\n",
      "    \"teletravail_possible\": false,\n",
      "    \"experience_pro_requise\": 1,\n",
      "    \"diplomes\": [\"Bac+4 - Bac+5\"],\n",
      "    \"spe_diplomes\": [\"mathématiques\", \"statistiques\", \"informatique\"],\n",
      "    \"langues\": [\"Francais\", \"Anglais\"],\n",
      "    \"stack_technique\": [\"SQL\", \"Python\", \"Javascript\", \"GCP\"]\n",
      "  }\n",
      "}\n"
     ]
    },
    {
     "name": "stderr",
     "output_type": "stream",
     "text": [
      " 24%|██▍       | 202/841 [10:46<20:15,  1.90s/it]"
     ]
    },
    {
     "name": "stdout",
     "output_type": "stream",
     "text": [
      "{\n",
      "  \"poste\": {\n",
      "    \"type_contrat\": \"alternance\",\n",
      "    \"teletravail_possible\": true,\n",
      "    \"experience_pro_requise\": 1,\n",
      "    \"diplomes\": [\"Bac+5\"],\n",
      "    \"spe_diplomes\": [\"data\", \"risques financiers\"],\n",
      "    \"langues\": [\"Francais\", \"Anglais\"],\n",
      "    \"stack_technique\": [\"Python\", \"SQL\"]\n",
      "  }\n",
      "}\n"
     ]
    },
    {
     "name": "stderr",
     "output_type": "stream",
     "text": [
      " 24%|██▍       | 203/841 [10:48<21:21,  2.01s/it]"
     ]
    },
    {
     "name": "stdout",
     "output_type": "stream",
     "text": [
      "{\n",
      "  \"poste\": {\n",
      "    \"type_contrat\": \"CDI\",\n",
      "    \"teletravail_possible\": true,\n",
      "    \"experience_pro_requise\": 2,\n",
      "    \"diplomes\": [\"Bac+3\", \"Bac+5\"],\n",
      "    \"spe_diplomes\": [],\n",
      "    \"langues\": [\"Anglais\"],\n",
      "    \"stack_technique\": [\"Talend\", \"MSSQL\", \"MYSQL\", \"PostgreSQL\", \"Oracle\"]\n",
      "  }\n",
      "}\n"
     ]
    },
    {
     "name": "stderr",
     "output_type": "stream",
     "text": [
      " 24%|██▍       | 204/841 [10:50<20:31,  1.93s/it]"
     ]
    },
    {
     "name": "stdout",
     "output_type": "stream",
     "text": [
      "{\n",
      "  \"poste\": {\n",
      "    \"type_contrat\": \"CDI\",\n",
      "    \"teletravail_possible\": true,\n",
      "    \"experience_pro_requise\": 2,\n",
      "    \"diplomes\": [\"pas de diplome\"],\n",
      "    \"spe_diplomes\": [null],\n",
      "    \"langues\": [\"Anglais\"],\n",
      "    \"stack_technique\": [\"Python\", \"Argo\", \"Kafka\", \"PostgreSQL\", \"Cloud\"]\n",
      "  }\n",
      "}\n"
     ]
    },
    {
     "name": "stderr",
     "output_type": "stream",
     "text": [
      " 24%|██▍       | 205/841 [10:54<25:05,  2.37s/it]"
     ]
    },
    {
     "name": "stdout",
     "output_type": "stream",
     "text": [
      "{\n",
      "  \"poste\": {\n",
      "    \"type_contrat\": \"CDI\",\n",
      "    \"teletravail_possible\": true,\n",
      "    \"experience_pro_requise\": 5,\n",
      "    \"diplomes\": [\"pas de diplome\"],\n",
      "    \"spe_diplomes\": [null],\n",
      "    \"langues\": [null],\n",
      "    \"stack_technique\": [\"connaissance du domaine de l'assurance Santé/Prévoyance\", \"sensibilisation aux évolutions règlementaires et éthique dans l'usage de données (RGPD)\", \"maitrise des techniques d'extraction, d'analyse et de traitement de la donnée\", \"maitrise des principes agiles (SCRUM, SAFe, ...)\", \"travail en équipe et mode collaboratif\", \"capacités d'analyse et de synthèse\", \"capacité à comprendre le besoin du métier afin de produire une solution adaptée\", \"maitrises des langages informatiques de traitement de données\", \"connaissance d'outils de mise en œuvre de tableau de bord\", \"capacité à expliquer sa démarche et à présenter ses résultats d'analyse\", \"capacité à utiliser les outils transverses de travail en équipe\", \"excellent relationnel, qualité d'écoute\", \"sens du service, disponibilité, pédagogie\"]\n",
      "  }\n",
      "}\n"
     ]
    },
    {
     "name": "stderr",
     "output_type": "stream",
     "text": [
      " 24%|██▍       | 206/841 [10:55<23:00,  2.17s/it]"
     ]
    },
    {
     "name": "stdout",
     "output_type": "stream",
     "text": [
      "{\n",
      "  \"poste\": {\n",
      "    \"type_contrat\": \"alternance\",\n",
      "    \"teletravail_possible\": true,\n",
      "    \"experience_pro_requise\": 1,\n",
      "    \"diplomes\": [\"pas de diplome\"],\n",
      "    \"spe_diplomes\": [\"Data Analyst\", \"Audit Interne\"],\n",
      "    \"langues\": [\"Anglais\", \"Francais\", \"autre\"],\n",
      "    \"stack_technique\": [\"Tableau\", \"Power BI\", \"SQL\", \"Python\"]\n",
      "  }\n",
      "}\n"
     ]
    },
    {
     "name": "stderr",
     "output_type": "stream",
     "text": [
      " 25%|██▍       | 207/841 [10:57<21:29,  2.03s/it]"
     ]
    },
    {
     "name": "stdout",
     "output_type": "stream",
     "text": [
      "{\n",
      "  \"poste\": {\n",
      "    \"type_contrat\": \"CDI\",\n",
      "    \"teletravail_possible\": null,\n",
      "    \"experience_pro_requise\": 1,\n",
      "    \"diplomes\": [\"Bac+3\", null],\n",
      "    \"spe_diplomes\": [\"Informatique\", \"Mathematiques\", \"Statistiques\", null],\n",
      "    \"langues\": [null],\n",
      "    \"stack_technique\": [\"Analyse de données\"]\n",
      "  }\n",
      "}\n"
     ]
    },
    {
     "name": "stderr",
     "output_type": "stream",
     "text": [
      " 25%|██▍       | 208/841 [10:59<22:29,  2.13s/it]"
     ]
    },
    {
     "name": "stdout",
     "output_type": "stream",
     "text": [
      "{\n",
      "  \"poste\": {\n",
      "    \"type_contrat\": \"CDI\",\n",
      "    \"teletravail_possible\": false,\n",
      "    \"experience_pro_requise\": 5,\n",
      "    \"diplomes\": [\"Bac+5\"],\n",
      "    \"spe_diplomes\": [\"statistiques\", \"mathématiques\"],\n",
      "    \"langues\": [null],\n",
      "    \"stack_technique\": [\"Microsoft VBA\", \"SQL\", \"R\", \"PowerBI\"]\n",
      "  }\n",
      "}\n"
     ]
    },
    {
     "name": "stderr",
     "output_type": "stream",
     "text": [
      " 25%|██▍       | 209/841 [11:01<21:09,  2.01s/it]"
     ]
    },
    {
     "name": "stdout",
     "output_type": "stream",
     "text": [
      "{\n",
      "  \"poste\": {\n",
      "    \"type_contrat\": \"CDI\",\n",
      "    \"teletravail_possible\": null,\n",
      "    \"experience_pro_requise\": 3,\n",
      "    \"diplomes\": [\"Bachelor\"],\n",
      "    \"spe_diplomes\": [\"Data science\"],\n",
      "    \"langues\": [\"Anglais\", \"Francais\"],\n",
      "    \"stack_technique\": [\"SQL\", \"Google Data Studio\", \"Qlik Sense\"]\n",
      "  }\n",
      "}\n"
     ]
    },
    {
     "name": "stderr",
     "output_type": "stream",
     "text": [
      " 25%|██▍       | 210/841 [11:03<22:02,  2.10s/it]"
     ]
    },
    {
     "name": "stdout",
     "output_type": "stream",
     "text": [
      "{\n",
      "  \"poste\": {\n",
      "    \"type_contrat\": \"stage\",\n",
      "    \"teletravail_possible\": false,\n",
      "    \"experience_pro_requise\": 1,\n",
      "    \"diplomes\": [\"Licence\", \"Master\", \"Doctorat\", \"Bac+3\", \"Bac+5\", \"Bac+7\", \"pas de diplome\", \"autre\"],\n",
      "    \"spe_diplomes\": [\"data science\", \"Big Data\", \"statistiques appliquées\"],\n",
      "    \"langues\": [\"Anglais\", \"Francais\", \"Espagnol\", \"Allemand\", \"Italien\", \"Portuguais\", \"autre\"],\n",
      "    \"stack_technique\": [\"Python\", \"SciKit-Learn\", \"R\", \"SQL\", \"Machine Learning\", \"data science\"]\n",
      "  }\n",
      "}\n"
     ]
    },
    {
     "name": "stderr",
     "output_type": "stream",
     "text": [
      " 25%|██▌       | 211/841 [11:05<21:05,  2.01s/it]"
     ]
    },
    {
     "name": "stdout",
     "output_type": "stream",
     "text": [
      "{\n",
      "  \"poste\": {\n",
      "    \"type_contrat\": \"CDI\",\n",
      "    \"teletravail_possible\": true,\n",
      "    \"experience_pro_requise\": 6,\n",
      "    \"diplomes\": [\"Bac+5\"],\n",
      "    \"spe_diplomes\": [],\n",
      "    \"langues\": [\"Anglais\", \"Francais\"],\n",
      "    \"stack_technique\": [\"Python\", \"Spark\", \"Git\", \"CI-CD\", \"GCP\"]\n",
      "  }\n",
      "}\n"
     ]
    },
    {
     "name": "stderr",
     "output_type": "stream",
     "text": [
      " 25%|██▌       | 212/841 [11:07<20:55,  2.00s/it]"
     ]
    },
    {
     "name": "stdout",
     "output_type": "stream",
     "text": [
      "{\n",
      "  \"poste\": {\n",
      "    \"type_contrat\": \"CDI\",\n",
      "    \"teletravail_possible\": false,\n",
      "    \"experience_pro_requise\": 5,\n",
      "    \"diplomes\": [\"Master\"],\n",
      "    \"spe_diplomes\": [\"Informatique\", \"Supply Chain\"],\n",
      "    \"langues\": [\"Anglais\", \"Francais\"],\n",
      "    \"stack_technique\": [\"SAP\", \"Skywise\", \"Hdata\", \"Python\", \"VBA\", \"Javascript\", \"Spotfire\"]\n",
      "  }\n",
      "}\n"
     ]
    },
    {
     "name": "stderr",
     "output_type": "stream",
     "text": [
      " 25%|██▌       | 213/841 [11:09<19:33,  1.87s/it]"
     ]
    },
    {
     "name": "stdout",
     "output_type": "stream",
     "text": [
      "{\n",
      "  \"poste\": {\n",
      "    \"type_contrat\": \"alternance\",\n",
      "    \"teletravail_possible\": true,\n",
      "    \"experience_pro_requise\": 1,\n",
      "    \"diplomes\": [\"Master\", \"autre\"],\n",
      "    \"spe_diplomes\": [\"Data Management\", \"IT\"],\n",
      "    \"langues\": [null],\n",
      "    \"stack_technique\": [\"Power BI\", \"SQL\", \"R\"]\n",
      "  }\n",
      "}\n"
     ]
    },
    {
     "name": "stderr",
     "output_type": "stream",
     "text": [
      " 25%|██▌       | 214/841 [11:11<19:25,  1.86s/it]"
     ]
    },
    {
     "name": "stdout",
     "output_type": "stream",
     "text": [
      "{\n",
      "  \"poste\": {\n",
      "    \"type_contrat\": \"CDI\",\n",
      "    \"teletravail_possible\": true,\n",
      "    \"experience_pro_requise\": 3,\n",
      "    \"diplomes\": [\"Bac+3\", \"Bac+5\"],\n",
      "    \"spe_diplomes\": [\"Informatique\", \"Statistiques\"],\n",
      "    \"langues\": [\"Anglais\"],\n",
      "    \"stack_technique\": [\"Business Intelligence (BI)\", \"Data Management\", \"Data Modeling\", \"Data Visualization\", \"Project Management\", \"Metrology\", \"Stakeholder Relationship Management\"]\n",
      "  }\n",
      "}\n"
     ]
    },
    {
     "name": "stderr",
     "output_type": "stream",
     "text": [
      " 26%|██▌       | 215/841 [11:12<18:39,  1.79s/it]"
     ]
    },
    {
     "name": "stdout",
     "output_type": "stream",
     "text": [
      "{\n",
      "  \"poste\": {\n",
      "    \"type_contrat\": \"alternance\",\n",
      "    \"teletravail_possible\": null,\n",
      "    \"experience_pro_requise\": 1,\n",
      "    \"diplomes\": [\"Bac+3\"],\n",
      "    \"spe_diplomes\": [\"Informatique\"],\n",
      "    \"langues\": [null],\n",
      "    \"stack_technique\": [\"PostgreSQL\", \"Python\", \"Git\"]\n",
      "  }\n",
      "}\n"
     ]
    },
    {
     "name": "stderr",
     "output_type": "stream",
     "text": [
      " 26%|██▌       | 216/841 [11:14<18:11,  1.75s/it]"
     ]
    },
    {
     "name": "stdout",
     "output_type": "stream",
     "text": [
      "{\n",
      "  \"poste\": {\n",
      "    \"type_contrat\": null,\n",
      "    \"teletravail_possible\": null,\n",
      "    \"experience_pro_requise\": 3,\n",
      "    \"diplomes\": [\"pas de diplome\"],\n",
      "    \"spe_diplomes\": [null],\n",
      "    \"langues\": [null],\n",
      "    \"stack_technique\": [\n",
      "      \"Business Analyst\",\n",
      "      \"WebServices\",\n",
      "      \"APIs\",\n",
      "      \"Jira\"\n",
      "    ]\n",
      "  }\n",
      "}\n"
     ]
    },
    {
     "name": "stderr",
     "output_type": "stream",
     "text": [
      " 26%|██▌       | 217/841 [11:16<18:08,  1.74s/it]"
     ]
    },
    {
     "name": "stdout",
     "output_type": "stream",
     "text": [
      "{\n",
      "  \"poste\": {\n",
      "    \"type_contrat\": \"CDI\",\n",
      "    \"teletravail_possible\": null,\n",
      "    \"experience_pro_requise\": null,\n",
      "    \"diplomes\": [\"Bac+5\"],\n",
      "    \"spe_diplomes\": [\"ingénierie\"],\n",
      "    \"langues\": [\"Francais\"],\n",
      "    \"stack_technique\": [\"ACCESS\", \"Python\", \"Excel\", \"VBA\"]\n",
      "  }\n",
      "}\n"
     ]
    },
    {
     "name": "stderr",
     "output_type": "stream",
     "text": [
      " 26%|██▌       | 218/841 [11:17<17:57,  1.73s/it]"
     ]
    },
    {
     "name": "stdout",
     "output_type": "stream",
     "text": [
      "{\n",
      "  \"poste\": {\n",
      "    \"type_contrat\": \"alternance\",\n",
      "    \"teletravail_possible\": false,\n",
      "    \"experience_pro_requise\": 1,\n",
      "    \"diplomes\": [\"Bac+5\"],\n",
      "    \"spe_diplomes\": [\"Data Analyst\", \"Scientific\"],\n",
      "    \"langues\": [\"Anglais\"],\n",
      "    \"stack_technique\": [\"Python\", \"SQL\", \"machine learning\", \"Git\", \"CI/CD\", \"Docker\"]\n",
      "  }\n",
      "}\n"
     ]
    },
    {
     "name": "stderr",
     "output_type": "stream",
     "text": [
      " 26%|██▌       | 219/841 [11:19<19:15,  1.86s/it]"
     ]
    },
    {
     "name": "stdout",
     "output_type": "stream",
     "text": [
      "{\n",
      "  \"poste\": {\n",
      "    \"type_contrat\": \"CDI\",\n",
      "    \"teletravail_possible\": true,\n",
      "    \"experience_pro_requise\": 3,\n",
      "    \"diplomes\": [\"Bac+2\", \"Bac+3\", \"Bac+5\"],\n",
      "    \"spe_diplomes\": [\"informatique\"],\n",
      "    \"langues\": [\"Francais\", \"Anglais\", \"autre\"],\n",
      "    \"stack_technique\": [\n",
      "      \"Tableau\",\n",
      "      \"PowerBI\",\n",
      "      \"Dataiku\",\n",
      "      \"SQL\",\n",
      "      \"PostgreSQL\",\n",
      "      \"Oracle\",\n",
      "      \"MSSQL\",\n",
      "      \"Kafka\",\n",
      "      \"ELK\",\n",
      "      \"S3 storage\",\n",
      "      \"Talend Data Catalogue\",\n",
      "      \"Jira\",\n",
      "      \"Confluence\",\n",
      "      \"Gitlab\",\n",
      "      \"Jenkins\"\n",
      "    ]\n",
      "  }\n",
      "}\n"
     ]
    },
    {
     "name": "stderr",
     "output_type": "stream",
     "text": [
      " 26%|██▌       | 220/841 [11:21<19:08,  1.85s/it]"
     ]
    },
    {
     "name": "stdout",
     "output_type": "stream",
     "text": [
      "{\n",
      "  \"poste\": {\n",
      "    \"type_contrat\": \"CDI\",\n",
      "    \"teletravail_possible\": null,\n",
      "    \"experience_pro_requise\": 2,\n",
      "    \"diplomes\": [\"Bac+5\"],\n",
      "    \"spe_diplomes\": [],\n",
      "    \"langues\": [\"Francais\", \"Anglais\"],\n",
      "    \"stack_technique\": [\"Javascript\", \"Node JS\", \"Angular JS\", \"PostgresSQL\", \"SQLSERVER\", \"Outils bureautiques\"]\n",
      "  }\n",
      "}\n"
     ]
    },
    {
     "name": "stderr",
     "output_type": "stream",
     "text": [
      " 26%|██▋       | 221/841 [11:23<18:49,  1.82s/it]"
     ]
    },
    {
     "name": "stdout",
     "output_type": "stream",
     "text": [
      "{\n",
      "  \"poste\": {\n",
      "    \"type_contrat\": \"CDI\",\n",
      "    \"teletravail_possible\": true,\n",
      "    \"experience_pro_requise\": 1,\n",
      "    \"diplomes\": [\"Bac+5\"],\n",
      "    \"spe_diplomes\": [\"Informatique\"],\n",
      "    \"langues\": [\"Anglais\", \"Francais\"],\n",
      "    \"stack_technique\": [\"CRM\", \"BI\", \"Microsoft Office\"]\n",
      "  }\n",
      "}\n"
     ]
    },
    {
     "name": "stderr",
     "output_type": "stream",
     "text": [
      " 26%|██▋       | 222/841 [11:25<18:59,  1.84s/it]"
     ]
    },
    {
     "name": "stdout",
     "output_type": "stream",
     "text": [
      "{\n",
      "  \"poste\": {\n",
      "    \"type_contrat\": \"CDI\",\n",
      "    \"teletravail_possible\": true,\n",
      "    \"experience_pro_requise\": 3,\n",
      "    \"diplomes\": [\"Bac+5\"],\n",
      "    \"spe_diplomes\": [\"informatique\", \"statistique\", \"marketing\"],\n",
      "    \"langues\": [null],\n",
      "    \"stack_technique\": [\"Google Analytics\", \"Data Studio\", \"Tag commander\", \"Seenaptic\", \"Big Query\", \"Contentsquare\"]\n",
      "  }\n",
      "}\n"
     ]
    },
    {
     "name": "stderr",
     "output_type": "stream",
     "text": [
      " 27%|██▋       | 223/841 [11:27<20:50,  2.02s/it]"
     ]
    },
    {
     "name": "stdout",
     "output_type": "stream",
     "text": [
      "{\n",
      "  \"poste\": {\n",
      "    \"type_contrat\": \"CDI\",\n",
      "    \"teletravail_possible\": false,\n",
      "    \"experience_pro_requise\": 3,\n",
      "    \"diplomes\": [\"pas de diplome\"],\n",
      "    \"spe_diplomes\": [null],\n",
      "    \"langues\": [\"Anglais\"],\n",
      "    \"stack_technique\": [\"Oracle\", \"SQL Server\", \"PostgreSQL\", \"Hive\", \"Informatica\", \"Talend\", \"Datastage\", \"SSIS\", \"SAP HANA\", \"Python\", \"R\", \"SQL\", \"Alteryx\", \"QlikSense\", \"PowerBI\", \"TIBCO Spotfire\", \"SAP Analytics Cloud\", \"Azure\", \"AWS\", \"GCP\"]\n",
      "  }\n",
      "}\n"
     ]
    },
    {
     "name": "stderr",
     "output_type": "stream",
     "text": [
      " 27%|██▋       | 224/841 [11:30<21:20,  2.08s/it]"
     ]
    },
    {
     "name": "stdout",
     "output_type": "stream",
     "text": [
      "{\n",
      "  \"poste\": {\n",
      "    \"type_contrat\": \"stage\",\n",
      "    \"teletravail_possible\": true,\n",
      "    \"experience_pro_requise\": 1,\n",
      "    \"diplomes\": [\"Master\"],\n",
      "    \"spe_diplomes\": [],\n",
      "    \"langues\": [\"Anglais\"],\n",
      "    \"stack_technique\": [\"Power BI\", \"Python\", \"SQL\", \"ETL\", \"DEVOPS\", \"Git\", \"CI/CD\"]\n",
      "  }\n",
      "}\n"
     ]
    },
    {
     "name": "stderr",
     "output_type": "stream",
     "text": [
      " 27%|██▋       | 225/841 [11:31<20:20,  1.98s/it]"
     ]
    },
    {
     "name": "stdout",
     "output_type": "stream",
     "text": [
      "{\n",
      "  \"poste\": {\n",
      "    \"type_contrat\": \"stage\",\n",
      "    \"teletravail_possible\": false,\n",
      "    \"experience_pro_requise\": 1,\n",
      "    \"diplomes\": [\"Bac+5\"],\n",
      "    \"spe_diplomes\": [],\n",
      "    \"langues\": [\"Francais\"],\n",
      "    \"stack_technique\": [\"Power BI\", \"méthodologies statistiques\"]\n",
      "  }\n",
      "}\n"
     ]
    },
    {
     "name": "stderr",
     "output_type": "stream",
     "text": [
      " 27%|██▋       | 226/841 [11:33<20:38,  2.01s/it]"
     ]
    },
    {
     "name": "stdout",
     "output_type": "stream",
     "text": [
      "{\n",
      "  \"poste\": {\n",
      "    \"type_contrat\": \"CDI\",\n",
      "    \"teletravail_possible\": true,\n",
      "    \"experience_pro_requise\": 3,\n",
      "    \"diplomes\": [\"Bac+5\"],\n",
      "    \"spe_diplomes\": null,\n",
      "    \"langues\": [\"Anglais\"],\n",
      "    \"stack_technique\": [\"Data Gouvernance\", \"Architecture Data\", \"Analytics\", \"IA\"]\n",
      "  }\n",
      "}\n"
     ]
    },
    {
     "name": "stderr",
     "output_type": "stream",
     "text": [
      " 27%|██▋       | 227/841 [11:35<20:31,  2.01s/it]"
     ]
    },
    {
     "name": "stdout",
     "output_type": "stream",
     "text": [
      "{\n",
      "  \"poste\": {\n",
      "    \"type_contrat\": \"alternance\",\n",
      "    \"teletravail_possible\": false,\n",
      "    \"experience_pro_requise\": 1,\n",
      "    \"diplomes\": [\"Bac+4/5\"],\n",
      "    \"spe_diplomes\": [\"Informatique\", \"Mathematique\", \"Ecole d'Ingenieur\"],\n",
      "    \"langues\": [\"Francais\"],\n",
      "    \"stack_technique\": [\"Data Analyse\", \"Dataviz\", \"Prédictif\", \"Data catalogue\", \"Extraction de données\"]\n",
      "  }\n",
      "}\n"
     ]
    },
    {
     "name": "stderr",
     "output_type": "stream",
     "text": [
      " 27%|██▋       | 228/841 [11:38<23:30,  2.30s/it]"
     ]
    },
    {
     "name": "stdout",
     "output_type": "stream",
     "text": [
      "{\n",
      "  \"poste\": {\n",
      "    \"type_contrat\": \"CDI\",\n",
      "    \"teletravail_possible\": true,\n",
      "    \"experience_pro_requise\": 3,\n",
      "    \"diplomes\": [\"Bac+3\", \"Bac+5\"],\n",
      "    \"spe_diplomes\": [\"Formation Universitaire\", \"Ecoles d'ingénieurs\"],\n",
      "    \"langues\": [\"Anglais\"],\n",
      "    \"stack_technique\": [\"SGBD : Oracle, DB2 BLU, SQL Server, Teradata\", \"ETL : Informatica, Talend, Information Server, Datastage, SSIS\", \"Outils de reporting : Power BI, SAP BO, SAP BI4, Cognos, Microstrategy, SSRS\", \"Analyses de données : QlikView, QlikSense, Tableau\"]\n",
      "  }\n",
      "}\n"
     ]
    },
    {
     "name": "stderr",
     "output_type": "stream",
     "text": [
      " 27%|██▋       | 229/841 [11:40<22:03,  2.16s/it]"
     ]
    },
    {
     "name": "stdout",
     "output_type": "stream",
     "text": [
      "{\n",
      "  \"poste\": {\n",
      "    \"type_contrat\": \"CDI\",\n",
      "    \"teletravail_possible\": true,\n",
      "    \"experience_pro_requise\": 3,\n",
      "    \"diplomes\": [\"pas de diplome\"],\n",
      "    \"spe_diplomes\": [null],\n",
      "    \"langues\": [null],\n",
      "    \"stack_technique\": [\"SQL\"]\n",
      "  }\n",
      "}\n"
     ]
    },
    {
     "name": "stderr",
     "output_type": "stream",
     "text": [
      " 27%|██▋       | 230/841 [11:42<20:48,  2.04s/it]"
     ]
    },
    {
     "name": "stdout",
     "output_type": "stream",
     "text": [
      "{\n",
      "  \"poste\": {\n",
      "    \"type_contrat\": \"CDI\",\n",
      "    \"teletravail_possible\": true,\n",
      "    \"experience_pro_requise\": 1,\n",
      "    \"diplomes\": [\"pas de diplome\"],\n",
      "    \"spe_diplomes\": [null],\n",
      "    \"langues\": [null],\n",
      "    \"stack_technique\": [\"Tableau\", \"Snowflake\", \"SQL\", \"Python\"]\n",
      "  }\n",
      "}\n"
     ]
    },
    {
     "name": "stderr",
     "output_type": "stream",
     "text": [
      " 27%|██▋       | 231/841 [11:44<21:06,  2.08s/it]"
     ]
    },
    {
     "name": "stdout",
     "output_type": "stream",
     "text": [
      "{\n",
      "  \"poste\": {\n",
      "    \"type_contrat\": \"CDD\",\n",
      "    \"teletravail_possible\": false,\n",
      "    \"experience_pro_requise\": 1,\n",
      "    \"diplomes\": [\"Licence\", \"Master\"],\n",
      "    \"spe_diplomes\": [\"Big Data\", \"Analyse de données\", \"Gestion et Traitement Informatique de Données Massives\", \"Informatique générale\"],\n",
      "    \"langues\": [\"Anglais\"],\n",
      "    \"stack_technique\": [\"développement informatique\"],\n",
      "  \"affectation\": \"unité\"\n",
      "  }\n",
      "}\n"
     ]
    },
    {
     "name": "stderr",
     "output_type": "stream",
     "text": [
      " 28%|██▊       | 232/841 [11:46<20:06,  1.98s/it]"
     ]
    },
    {
     "name": "stdout",
     "output_type": "stream",
     "text": [
      "{\n",
      "  \"poste\": {\n",
      "    \"type_contrat\": \"CDI\",\n",
      "    \"teletravail_possible\": true,\n",
      "    \"experience_pro_requise\": 7,\n",
      "    \"diplomes\": [\"pas de diplome\"],\n",
      "    \"spe_diplomes\": [null],\n",
      "    \"langues\": [null],\n",
      "    \"stack_technique\": [\"Requêtages SQL\", \"Base de données\", \"Méthode Agile\"]\n",
      "  }\n",
      "}\n"
     ]
    },
    {
     "name": "stderr",
     "output_type": "stream",
     "text": [
      " 28%|██▊       | 233/841 [11:48<21:13,  2.09s/it]"
     ]
    },
    {
     "name": "stdout",
     "output_type": "stream",
     "text": [
      "{\n",
      "  \"poste\": {\n",
      "    \"type_contrat\": \"CDI\",\n",
      "    \"teletravail_possible\": true,\n",
      "    \"experience_requise\": 1,\n",
      "    \"diplome\": \"pas de diplome\",\n",
      "    \"spe_diplome\": null,\n",
      "    \"langue\": [\"Francais\", \"Anglais\", \"autre\"],\n",
      "    \"stack_technique\": [\"Spark\", \"Hive\", \"Hadoop\", \"NiFi\", \"Kafka\", \"Elastic\", \"Kibana\", \"Scala\", \"Python\", \"Java\", \"Devops\", \"CI/CD\", \"microservice\", \"API\", \"modèle en étoile\", \"modèle Data Vault\", \"architecture technique Big Data\"]\n",
      "  }\n",
      "}\n"
     ]
    },
    {
     "name": "stderr",
     "output_type": "stream",
     "text": [
      " 28%|██▊       | 234/841 [11:50<20:14,  2.00s/it]"
     ]
    },
    {
     "name": "stdout",
     "output_type": "stream",
     "text": [
      "{\n",
      "  \"poste\": {\n",
      "    \"type_contrat\": \"CDI\",\n",
      "    \"teletravail_possible\": false,\n",
      "    \"experience_pro_requise\": 6,\n",
      "    \"diplomes\": [\"pas de diplome\"],\n",
      "    \"spe_diplomes\": [null],\n",
      "    \"langues\": [null],\n",
      "    \"stack_technique\": [\"Elasticsearch\", \"Linux\", \"Kafka\", \"Ansible\", \"Python\"]\n",
      "  }\n",
      "}\n"
     ]
    },
    {
     "name": "stderr",
     "output_type": "stream",
     "text": [
      " 28%|██▊       | 235/841 [11:53<22:59,  2.28s/it]"
     ]
    },
    {
     "name": "stdout",
     "output_type": "stream",
     "text": [
      "{\n",
      "  \"poste\": {\n",
      "    \"type_contrat\": \"CDI\",\n",
      "    \"teletravail_possible\": true,\n",
      "    \"experience_pro_requise\": null,\n",
      "    \"diplomes\": [\"Bac+5\"],\n",
      "    \"spe_diplomes\": [\"informatique\", \"scientifique\"],\n",
      "    \"langues\": [\"Francais\", \"Anglais\"],\n",
      "    \"stack_technique\": [\"Big Data\", \"bases de données\", \"pipeline de données\"]\n",
      "  }\n",
      "}\n"
     ]
    },
    {
     "name": "stderr",
     "output_type": "stream",
     "text": [
      " 28%|██▊       | 236/841 [12:02<41:56,  4.16s/it]"
     ]
    },
    {
     "name": "stdout",
     "output_type": "stream",
     "text": [
      "{\n",
      "  \"poste\": {\n",
      "    \"type_contrat\": \"CDI\",\n",
      "    \"teletravail_possible\": true,\n",
      "    \"experience_pro_requise\": 3,\n",
      "    \"diplomes\": [\"Licence\", \"Master\", \"Doctorat\"],\n",
      "    \"spe_diplomes\": [\"Data engineering\", \"Programming\", \"Informatics\", \"Data science\", \"Artificial intelligence\", \"Mathematics\", \"Computer science\"],\n",
      "    \"langues\": [\"Anglais\", \"Francais\", \"Espagnol\", \"Allemand\", \"Italien\", \"Portuguais\", \"autre\"],\n",
      "    \"stack_technique\": [\"Generative AI\", \"Responsible AI\", \"Conversational AI\", \"AWS\", \"Microsoft Azure\", \"Google Cloud\", \"DevOps\", \"GiT\", \"R/Python\", \"SQL\", \"Databricks\", \"ADS\", \"Azure Webapps\", \"Scrum\"]\n",
      "  }\n",
      "}\n"
     ]
    },
    {
     "name": "stderr",
     "output_type": "stream",
     "text": [
      " 28%|██▊       | 237/841 [12:04<35:41,  3.55s/it]"
     ]
    },
    {
     "name": "stdout",
     "output_type": "stream",
     "text": [
      "{\n",
      "  \"poste\": {\n",
      "    \"type_contrat\": \"freelance\",\n",
      "    \"teletravail_possible\": true,\n",
      "    \"experience_pro_requise\": 2,\n",
      "    \"diplomes\": [\"Bac+5\"],\n",
      "    \"spe_diplomes\": null,\n",
      "    \"langues\": [\"Francais\", \"Anglais\"],\n",
      "    \"stack_technique\": [\"Informatica Power Center\", \"SQL Server\", \"SAS macro\"]\n",
      "  }\n",
      "}\n"
     ]
    },
    {
     "name": "stderr",
     "output_type": "stream",
     "text": [
      " 28%|██▊       | 238/841 [12:07<34:45,  3.46s/it]"
     ]
    },
    {
     "name": "stdout",
     "output_type": "stream",
     "text": [
      "{\n",
      "  \"poste\": {\n",
      "    \"type_contrat\": \"alternance\",\n",
      "    \"teletravail_possible\": false,\n",
      "    \"experience_requise\": 1,\n",
      "    \"diplomes\": [\"Bac+5\"],\n",
      "    \"spe_diplomes\": [\"Ingénieur\"],\n",
      "    \"langues\": [\"Anglais\", \"Francais\", \"autre\"],\n",
      "    \"stack_technique\": [\"SQL\", \"No SQL\", \"Python\", \"Java\", \"Spark\", \"Big Data\", \"Data Analysis\", \"Data Visualisation\"]\n",
      "  }\n",
      "}\n"
     ]
    },
    {
     "name": "stderr",
     "output_type": "stream",
     "text": [
      " 28%|██▊       | 239/841 [12:08<28:47,  2.87s/it]"
     ]
    },
    {
     "name": "stdout",
     "output_type": "stream",
     "text": [
      "{\n",
      "  \"poste\": {\n",
      "    \"type_contrat\": \"CDI\",\n",
      "    \"teletravail_possible\": true,\n",
      "    \"experience_pro_requise\": 3,\n",
      "    \"diplomes\": [\"pas de diplome\"],\n",
      "    \"spe_diplomes\": [\"Informatique\"],\n",
      "    \"langues\": [null],\n",
      "    \"stack_technique\": [\"SQL\", \"ETL\", \"Python\"]\n",
      "  }\n",
      "}\n"
     ]
    },
    {
     "name": "stderr",
     "output_type": "stream",
     "text": [
      " 29%|██▊       | 240/841 [12:10<26:08,  2.61s/it]"
     ]
    },
    {
     "name": "stdout",
     "output_type": "stream",
     "text": [
      "{\n",
      "  \"poste\": {\n",
      "    \"type_contrat\": \"CDI\",\n",
      "    \"teletravail_possible\": true,\n",
      "    \"experience_pro_requise\": 5,\n",
      "    \"diplomes\": [\"pas de diplome\"],\n",
      "    \"spe_diplomes\": [null],\n",
      "    \"langues\": [\"Anglais\", \"Francais\"],\n",
      "    \"stack_technique\": [\"DataBricks\", \"Spark\", \"Azure\", \"AWS\", \"Python\", \"Scala\", \"SQL\", \"Kubernetes\", \"Docker\", \"OpenDataSoft\", \"Github\", \"Terraform\"]\n",
      "  }\n",
      "}\n"
     ]
    },
    {
     "name": "stderr",
     "output_type": "stream",
     "text": [
      " 29%|██▊       | 241/841 [12:12<24:14,  2.42s/it]"
     ]
    },
    {
     "name": "stdout",
     "output_type": "stream",
     "text": [
      "{\n",
      "  \"poste\": {\n",
      "    \"type_contrat\": null,\n",
      "    \"teletravail_possible\": null,\n",
      "    \"experience_pro_requise\": 1,\n",
      "    \"diplomes\": [\"pas de diplome\"],\n",
      "    \"spe_diplomes\": [null],\n",
      "    \"langues\": [null],\n",
      "    \"stack_technique\": [\"Azure Datalake\", \"Azure Data functions\", \"Azure Data Factory\", \"SQL\", \"ETL\", \"ELT\", \"Power BI\", \"DAX\", \"DP 203\", \"DP 200\"]\n",
      "  }\n",
      "}\n"
     ]
    },
    {
     "name": "stderr",
     "output_type": "stream",
     "text": [
      " 29%|██▉       | 242/841 [12:14<22:54,  2.29s/it]"
     ]
    },
    {
     "name": "stdout",
     "output_type": "stream",
     "text": [
      "{\n",
      "  \"poste\": {\n",
      "    \"type_contrat\": \"CDI\",\n",
      "    \"teletravail_possible\": true,\n",
      "    \"experience_pro_requise\": 3,\n",
      "    \"diplomes\": [\"Bac+5\"],\n",
      "    \"spe_diplomes\": [\"ingénieur\"],\n",
      "    \"langues\": [\"Francais\", \"Anglais\"],\n",
      "    \"stack_technique\": [\"Python\", \"Kafka\", \"Docker\", \"Kubernetes\", \"MongoDB\", \"Pinot\"]\n",
      "  }\n",
      "}\n"
     ]
    },
    {
     "name": "stderr",
     "output_type": "stream",
     "text": [
      " 29%|██▉       | 243/841 [12:17<25:00,  2.51s/it]"
     ]
    },
    {
     "name": "stdout",
     "output_type": "stream",
     "text": [
      "{\n",
      "  \"poste\": {\n",
      "    \"type_contrat\": \"CDI\",\n",
      "    \"teletravail_possible\": true,\n",
      "    \"experience_pro_requise\": 7,\n",
      "    \"diplomes\": [\"pas de diplome\"],\n",
      "    \"spe_diplomes\": [null],\n",
      "    \"langues\": [null],\n",
      "    \"stack_technique\": [\"Scala\", \"Rust\", \"Git\", \"SQL\", \"NoSQL\", \"systèmes distribués\", \"stream processing\", \"Akka\", \"Kafka\", \"Spark\", \"Cloud Provider\", \"AWS\", \"GCP\", \"Azure\", \"IBM\", \"Kubernetes\", \"Docker\", \"Airflow\"]\n",
      "  }\n",
      "}\n"
     ]
    },
    {
     "name": "stderr",
     "output_type": "stream",
     "text": [
      " 29%|██▉       | 244/841 [12:20<25:54,  2.60s/it]"
     ]
    },
    {
     "name": "stdout",
     "output_type": "stream",
     "text": [
      "{\n",
      "  \"poste\": {\n",
      "    \"type_contrat\": \"CDI\",\n",
      "    \"teletravail_possible\": true,\n",
      "    \"experience_pro_requise\": 3,\n",
      "    \"diplomes\": [\"Bac+5\"],\n",
      "    \"spe_diplomes\": [\"informatique\"],\n",
      "    \"langues\": [\"Anglais\"],\n",
      "    \"stack_technique\": [\"Java\", \"Spring-Boot\", \"Angular\", \"scripts shell\", \"Flowable\", \"ELK\", \"Scala\", \"Hadoop\", \"Cloudera\", \"Hortonworks\", \"Hive\", \"HBase\", \"HDFS\", \"Yarn\", \"Spark\", \"Kafka\", \"Ranger\", \"Solr\", \"Cloudera Manager\", \"Impala\", \"Linux\", \"Windows\", \"serveur\", \"réseau\", \"progiciel\", \"stockage\", \"Azure\", \"HDInsight\", \"Synapse\", \"Databricks\"]\n",
      "  }\n",
      "}\n"
     ]
    },
    {
     "name": "stderr",
     "output_type": "stream",
     "text": [
      " 29%|██▉       | 245/841 [12:22<22:58,  2.31s/it]"
     ]
    },
    {
     "name": "stdout",
     "output_type": "stream",
     "text": [
      "{\n",
      "  \"poste\": {\n",
      "    \"type_contrat\": null,\n",
      "    \"teletravail_possible\": null,\n",
      "    \"experience_pro_requise\": null,\n",
      "    \"diplomes\": [null],\n",
      "    \"spe_diplomes\": [null],\n",
      "    \"langues\": [null],\n",
      "    \"stack_technique\": [\"Spark/Scala\", \"HIVE\", \"environnements hadoop\", \"Agile\", \"Scrum\", \"Data Engineering\"]\n",
      "  }\n",
      "}\n"
     ]
    },
    {
     "name": "stderr",
     "output_type": "stream",
     "text": [
      " 29%|██▉       | 246/841 [12:24<21:06,  2.13s/it]"
     ]
    },
    {
     "name": "stdout",
     "output_type": "stream",
     "text": [
      "{\n",
      "  \"poste\": {\n",
      "    \"type_contrat\": \"CDI\",\n",
      "    \"teletravail_possible\": true,\n",
      "    \"experience_pro_requise\": 1,\n",
      "    \"diplomes\": [\"pas de diplome\"],\n",
      "    \"spe_diplomes\": [\"informatique\", \"Data\"],\n",
      "    \"langues\": [\"Francais\", \"Anglais\"],\n",
      "    \"stack_technique\": [\"SQL\", \"PowerBI\", \"Great Expectations\", \"Python\", \"Linux\"]\n",
      "  }\n",
      "}\n"
     ]
    },
    {
     "name": "stderr",
     "output_type": "stream",
     "text": [
      " 29%|██▉       | 247/841 [12:25<20:12,  2.04s/it]"
     ]
    },
    {
     "name": "stdout",
     "output_type": "stream",
     "text": [
      "{\n",
      "  \"poste\": {\n",
      "    \"type_contrat\": null,\n",
      "    \"teletravail_possible\": null,\n",
      "    \"experience_pro_requise\": 1,\n",
      "    \"diplomes\": [null],\n",
      "    \"spe_diplomes\": [null],\n",
      "    \"langues\": [\"Anglais\"],\n",
      "    \"stack_technique\": [\"Big Data\", \"REST APIs\", \"Kafka\", \"Ansible\", \"Confluence\", \"JIRA\", \"Git\", \"Bitbucket\"]\n",
      "  }\n",
      "}\n"
     ]
    },
    {
     "name": "stderr",
     "output_type": "stream",
     "text": [
      " 29%|██▉       | 248/841 [12:27<18:38,  1.89s/it]"
     ]
    },
    {
     "name": "stdout",
     "output_type": "stream",
     "text": [
      "{\n",
      "  \"poste\": {\n",
      "    \"type_contrat\": \"freelance\",\n",
      "    \"teletravail_possible\": true,\n",
      "    \"experience_pro_requise\": 1,\n",
      "    \"diplomes\": [null],\n",
      "    \"spe_diplomes\": [null],\n",
      "    \"langues\": [null],\n",
      "    \"stack_technique\": [null]\n",
      "  }\n",
      "}\n"
     ]
    },
    {
     "name": "stderr",
     "output_type": "stream",
     "text": [
      " 30%|██▉       | 249/841 [12:29<18:21,  1.86s/it]"
     ]
    },
    {
     "name": "stdout",
     "output_type": "stream",
     "text": [
      "{\n",
      "  \"poste\": {\n",
      "    \"type_contrat\": \"CDI\",\n",
      "    \"teletravail_possible\": false,\n",
      "    \"experience_pro_requise\": 5,\n",
      "    \"diplomes\": [\"Bac+3\", \"Bac+5\"],\n",
      "    \"spe_diplomes\": [\"Computer Science\", \"Information Systems\", \"Engineering\", \"related field\"],\n",
      "    \"langues\": null,\n",
      "    \"stack_technique\": [\"Scala\", \"Spark\", \"Java\", \"Golang\", \"Python3\", \"Bash\", \"Python\", \"Hadoop\", \"SQL\", \"S3\"]\n",
      "  }\n",
      "}\n"
     ]
    },
    {
     "name": "stderr",
     "output_type": "stream",
     "text": [
      " 30%|██▉       | 250/841 [12:31<18:38,  1.89s/it]"
     ]
    },
    {
     "name": "stdout",
     "output_type": "stream",
     "text": [
      "{\n",
      "  \"poste\": {\n",
      "    \"type_contrat\": \"CDI\",\n",
      "    \"teletravail_possible\": true,\n",
      "    \"experience_pro_requise\": 2,\n",
      "    \"diplomes\": [\"Bac+5\"],\n",
      "    \"spe_diplomes\": [\"informatique\"],\n",
      "    \"langues\": [\"Anglais\", \"Francais\", \"autre\"],\n",
      "    \"stack_technique\": [\"Python\", \"SQL\", \"Azure Data Factory\", \"Azure Databricks\", \"Azure Synapse\", \"Power BI Datasets\", \"Azure Datalake\", \"Azure DevOps\", \"ITIL\"]\n",
      "  }\n",
      "}\n"
     ]
    },
    {
     "name": "stderr",
     "output_type": "stream",
     "text": [
      " 30%|██▉       | 251/841 [12:32<17:56,  1.83s/it]"
     ]
    },
    {
     "name": "stdout",
     "output_type": "stream",
     "text": [
      "{\n",
      "  \"poste\": {\n",
      "    \"type_contrat\": null,\n",
      "    \"teletravail_possible\": null,\n",
      "    \"experience_pro_requise\": 1,\n",
      "    \"diplomes\": [null],\n",
      "    \"spe_diplomes\": [null],\n",
      "    \"langues\": [null],\n",
      "    \"stack_technique\": [\"Spark\", \"Scala\", \"Hive\", \"Hadoop\", \"Agile\", \"Scrum\", \"PostGreSQL\", \"Python\"]\n",
      "  }\n",
      "}\n"
     ]
    },
    {
     "name": "stderr",
     "output_type": "stream",
     "text": [
      " 30%|██▉       | 252/841 [12:34<18:10,  1.85s/it]"
     ]
    },
    {
     "name": "stdout",
     "output_type": "stream",
     "text": [
      "{\n",
      "  \"poste\": {\n",
      "    \"type_contrat\": \"CDI\",\n",
      "    \"teletravail_possible\": true,\n",
      "    \"experience_pro_requise\": 4,\n",
      "    \"diplomes\": [\"pas de diplome\"],\n",
      "    \"spe_diplomes\": [null],\n",
      "    \"langues\": [null],\n",
      "    \"stack_technique\": [\"Microsoft Azure Data Lake Storage\", \"Spark / Scala\", \"Git / Azure DevOps\", \"Airflow / DataDog / Nifi\"]\n",
      "  }\n",
      "}\n"
     ]
    },
    {
     "name": "stderr",
     "output_type": "stream",
     "text": [
      " 30%|███       | 253/841 [12:41<32:50,  3.35s/it]"
     ]
    },
    {
     "name": "stdout",
     "output_type": "stream",
     "text": [
      "{\n",
      "  \"poste\": {\n",
      "    \"type_contrat\": \"CDI\",\n",
      "    \"teletravail_possible\": true,\n",
      "    \"experience_pro_requise\": 5,\n",
      "    \"diplomes\": [\"Bac+5\", \"Master\", \"Doctorat\"],\n",
      "    \"spe_diplomes\": [\"Data Science\", \"Intelligence Artificielle\", \"Science des données\"],\n",
      "    \"langues\": [\"Anglais\", \"Francais\"],\n",
      "    \"stack_technique\": [\"Data Science\", \"Performance Marketing\", \"Science des données\", \"Technologies de l'information\"]\n",
      "  }\n",
      "}\n"
     ]
    },
    {
     "name": "stderr",
     "output_type": "stream",
     "text": [
      " 30%|███       | 254/841 [12:44<30:12,  3.09s/it]"
     ]
    },
    {
     "name": "stdout",
     "output_type": "stream",
     "text": [
      "{\n",
      "  \"poste\": {\n",
      "    \"type_contrat\": \"CDI\",\n",
      "    \"teletravail_possible\": true,\n",
      "    \"experience_pro_requise\": 3,\n",
      "    \"diplomes\": [\"Bac+3\", \"Bac+5\"],\n",
      "    \"spe_diplomes\": [\"Informatique\", \"Ingénierie\"],\n",
      "    \"langues\": [\"Francais\", \"Anglais\"],\n",
      "    \"stack_technique\": [\"Java\", \"Scala\", \"Python\", \"Ansible\", \"Terraform\", \"Kubernetes\", \"Hadoop\", \"Spark\", \"Kafka\", \"ElasticSearch\"]\n",
      "  }\n",
      "}\n"
     ]
    },
    {
     "name": "stderr",
     "output_type": "stream",
     "text": [
      " 30%|███       | 255/841 [12:45<26:13,  2.68s/it]"
     ]
    },
    {
     "name": "stdout",
     "output_type": "stream",
     "text": [
      "{\n",
      "  \"poste\": {\n",
      "    \"type_contrat\": null,\n",
      "    \"teletravail_possible\": true,\n",
      "    \"experience_pro_requise\": 3,\n",
      "    \"diplomes\": [\"pas de diplome\"],\n",
      "    \"spe_diplomes\": [null],\n",
      "    \"langues\": [null],\n",
      "    \"stack_technique\": [\"DevOps\", \"MLOps\", \"IA générative\", \"CICD\", \"Agilité\", \"Python\", \"FinOps\", \"architecture data\", \"datascience\", \"open-source\"]\n",
      "  }\n",
      "}\n"
     ]
    },
    {
     "name": "stderr",
     "output_type": "stream",
     "text": [
      " 30%|███       | 256/841 [12:47<23:42,  2.43s/it]"
     ]
    },
    {
     "name": "stdout",
     "output_type": "stream",
     "text": [
      "{\n",
      "  \"poste\": {\n",
      "    \"type_contrat\": \"CDI\",\n",
      "    \"teletravail_possible\": true,\n",
      "    \"experience_pro_requise\": 3,\n",
      "    \"diplomes\": [\"pas de diplome\"],\n",
      "    \"spe_diplomes\": [null],\n",
      "    \"langues\": [null],\n",
      "    \"stack_technique\": [\"Google Cloud Platform\", \"Big Query\", \"Python\", \"Node JS\"]\n",
      "  }\n",
      "}\n"
     ]
    },
    {
     "name": "stderr",
     "output_type": "stream",
     "text": [
      " 31%|███       | 257/841 [12:50<23:26,  2.41s/it]"
     ]
    },
    {
     "name": "stdout",
     "output_type": "stream",
     "text": [
      "{\n",
      "  \"poste\": {\n",
      "    \"type_contrat\": \"CDI\",\n",
      "    \"teletravail_possible\": true,\n",
      "    \"experience_pro_requise\": 1,\n",
      "    \"diplomes\": [\"Master\"],\n",
      "    \"spe_diplomes\": [\"école de commerce\", \"ingénieur\", \"informatique\"],\n",
      "    \"langues\": [\"Francais\", \"Anglais\", \"Russe\", \"Ukrainien\"],\n",
      "    \"stack_technique\": [\"Deep Learning\", \"Computer Vision\"]\n",
      "  }\n",
      "}\n"
     ]
    },
    {
     "name": "stderr",
     "output_type": "stream",
     "text": [
      " 31%|███       | 258/841 [12:51<21:51,  2.25s/it]"
     ]
    },
    {
     "name": "stdout",
     "output_type": "stream",
     "text": [
      "{\n",
      "  \"poste\": {\n",
      "    \"type_contrat\": \"alternance\",\n",
      "    \"teletravail_possible\": true,\n",
      "    \"experience_pro_requise\": 1,\n",
      "    \"diplomes\": [\"Bac+5\"],\n",
      "    \"spe_diplomes\": [\"Big Data\"],\n",
      "    \"langues\": [\"Anglais\"],\n",
      "    \"stack_technique\": [\"Hadoop\", \"Spark\", \"Scala\", \"Cloud\"]\n",
      "  }\n",
      "}\n"
     ]
    },
    {
     "name": "stderr",
     "output_type": "stream",
     "text": [
      " 31%|███       | 259/841 [12:53<20:46,  2.14s/it]"
     ]
    },
    {
     "name": "stdout",
     "output_type": "stream",
     "text": [
      "{\n",
      "  \"poste\": {\n",
      "    \"type_contrat\": \"CDI\",\n",
      "    \"teletravail_possible\": null,\n",
      "    \"experience_pro_requise\": 7,\n",
      "    \"diplomes\": [\"pas de diplome\"],\n",
      "    \"spe_diplomes\": [null],\n",
      "    \"langues\": [null],\n",
      "    \"stack_technique\": [\"Google-cloud-platform\", \"Microsoft-azure\", \"Python\", \"Amazon-web-services\", \"Kafka\", \"Agile\"]\n",
      "  }\n",
      "}\n"
     ]
    },
    {
     "name": "stderr",
     "output_type": "stream",
     "text": [
      " 31%|███       | 260/841 [12:56<21:47,  2.25s/it]"
     ]
    },
    {
     "name": "stdout",
     "output_type": "stream",
     "text": [
      "{\n",
      "  \"poste\": {\n",
      "    \"type_contrat\": \"CDI\",\n",
      "    \"teletravail_possible\": false,\n",
      "    \"experience_pro_requise\": 5,\n",
      "    \"diplomes\": [\"pas de diplome\"],\n",
      "    \"spe_diplomes\": [null],\n",
      "    \"langues\": [null],\n",
      "    \"stack_technique\": [\n",
      "      \"Culture technique générale\",\n",
      "      \"Capacité à appréhender les problèmes\",\n",
      "      \"Capacité à analyser\",\n",
      "      \"Capacité de synthèse\",\n",
      "      \"Capacité d'écoute et de communication\",\n",
      "      \"Capacité de coordination\",\n",
      "      \"Qualités rédactionnelles\"\n",
      "    ]\n",
      "  }\n",
      "}\n"
     ]
    },
    {
     "name": "stderr",
     "output_type": "stream",
     "text": [
      " 31%|███       | 261/841 [13:03<34:44,  3.59s/it]"
     ]
    },
    {
     "name": "stdout",
     "output_type": "stream",
     "text": [
      "{\n",
      "  \"poste\": {\n",
      "    \"type_contrat\": \"CDI\",\n",
      "    \"teletravail_possible\": true,\n",
      "    \"experience_pro_requise\": 5,\n",
      "    \"diplomes\": [\"Bac+5\"],\n",
      "    \"spe_diplomes\": [],\n",
      "    \"langues\": [\"Anglais\", \"Francais\"],\n",
      "    \"stack_technique\": [\"DataStage\", \"ETL\", \"SQL\", \"Python\", \"Spark\", \"Scala\", \"DevOps\", \"IBM InfoSphere\"]\n",
      "  }\n",
      "}\n"
     ]
    },
    {
     "name": "stderr",
     "output_type": "stream",
     "text": [
      " 31%|███       | 262/841 [13:10<45:54,  4.76s/it]"
     ]
    },
    {
     "name": "stdout",
     "output_type": "stream",
     "text": [
      "{\n",
      "  \"poste\": {\n",
      "    \"type_contrat\": \"CDI\",\n",
      "    \"teletravail_possible\": true,\n",
      "    \"experience_pro_requise\": 1,\n",
      "    \"diplome\": \"Master\",\n",
      "    \"spe_diplome\": [\"informatique\"],\n",
      "    \"langue\": [\"Francais\", \"Anglais\"],\n",
      "    \"stack_technique\": [\"Terraform\", \"Ansible\", \"PowerShell\", \"Python\", \"Windows Server\", \"Linux\", \"Kubernetes\"]\n",
      "  }\n",
      "}\n"
     ]
    },
    {
     "name": "stderr",
     "output_type": "stream",
     "text": [
      " 31%|███▏      | 263/841 [13:12<37:04,  3.85s/it]"
     ]
    },
    {
     "name": "stdout",
     "output_type": "stream",
     "text": [
      "{\n",
      "  \"poste\": {\n",
      "    \"type_contrat\": \"CDI\",\n",
      "    \"teletravail_possible\": true,\n",
      "    \"experience_pro_requise\": 1,\n",
      "    \"diplomes\": [\"Licence\"],\n",
      "    \"spe_diplomes\": [\"informatique\", \"sciences des données\", \"domaine connexe\"],\n",
      "    \"langues\": [\"Anglais\", \"Francais\", \"autre\"],\n",
      "    \"stack_technique\": [\"SQL\", \"Python\", \"ITIL\"]\n",
      "  }\n",
      "}\n"
     ]
    },
    {
     "name": "stderr",
     "output_type": "stream",
     "text": [
      " 31%|███▏      | 264/841 [13:14<31:20,  3.26s/it]"
     ]
    },
    {
     "name": "stdout",
     "output_type": "stream",
     "text": [
      "{\n",
      "  \"poste\": {\n",
      "    \"type_contrat\": \"CDI\",\n",
      "    \"teletravail_possible\": true,\n",
      "    \"experience_pro_requise\": 3,\n",
      "    \"diplomes\": [\"Bac+3\"],\n",
      "    \"spe_diplomes\": [\"IT\", \"Computer Science\"],\n",
      "    \"langues\": [\"Anglais\", \"Francais\"],\n",
      "    \"stack_technique\": [\"SharePoint\", \"Office 365\", \"Power Platform\", \"Power Apps\", \"Power Automate\", \"Power BI\", \"Microsoft Search\", \"Delve\"]\n",
      "  }\n",
      "}\n"
     ]
    },
    {
     "name": "stderr",
     "output_type": "stream",
     "text": [
      " 32%|███▏      | 265/841 [13:16<27:35,  2.87s/it]"
     ]
    },
    {
     "name": "stdout",
     "output_type": "stream",
     "text": [
      "{\n",
      "  \"poste\": {\n",
      "    \"type_contrat\": \"CDI\",\n",
      "    \"teletravail_possible\": null,\n",
      "    \"experience_pro_requise\": 2,\n",
      "    \"diplomes\": [\"Bac+3\"],\n",
      "    \"spe_diplomes\": [\"informatique\", \"Big Data\", \"Data\"],\n",
      "    \"langues\": [\"Francais\", \"Anglais\"],\n",
      "    \"stack_technique\": [\"Python\", \"Scala\", \"Node\", \"Apache Spark\", \"Pandas\", \"Hadoop\", \"Kafka\", \"Databricks\", \"Snowflake\", \"AWS\", \"Azure\"]\n",
      "  }\n",
      "}\n"
     ]
    },
    {
     "name": "stderr",
     "output_type": "stream",
     "text": [
      " 32%|███▏      | 266/841 [13:18<26:12,  2.74s/it]"
     ]
    },
    {
     "name": "stdout",
     "output_type": "stream",
     "text": [
      "{\n",
      "  \"poste\": {\n",
      "    \"type_contrat\": \"CDI\",\n",
      "    \"teletravail_possible\": true,\n",
      "    \"experience_pro_requise\": 3,\n",
      "    \"diplomes\": [\"pas de diplome\"],\n",
      "    \"spe_diplomes\": null,\n",
      "    \"langues\": [\"Francais\", \"Anglais\", \"autre\"],\n",
      "    \"stack_technique\": [\"Linux\", \"HDP\", \"HDF\", \"ELK\", \"Hadoop\", \"Spark\", \"Scala\", \"Shell\", \"Python\", \"GCP\", \"AWS\", \"Cassandra\", \"Mongo DB\", \"Ansible\", \"Power BI\", \"Kibana\"]\n",
      "  }\n",
      "}\n"
     ]
    },
    {
     "name": "stderr",
     "output_type": "stream",
     "text": [
      " 32%|███▏      | 267/841 [13:20<23:05,  2.41s/it]"
     ]
    },
    {
     "name": "stdout",
     "output_type": "stream",
     "text": [
      "{\n",
      "  \"poste\": {\n",
      "    \"type_contrat\": \"CDI\",\n",
      "    \"teletravail_possible\": true,\n",
      "    \"experience_pro_requise\": 2,\n",
      "    \"diplomes\": [\"pas de diplome\"],\n",
      "    \"spe_diplomes\": [null],\n",
      "    \"langues\": [\"Francais\", \"Anglais\"],\n",
      "    \"stack_technique\": [\"Big Data\"]\n",
      "  }\n",
      "}\n"
     ]
    },
    {
     "name": "stderr",
     "output_type": "stream",
     "text": [
      " 32%|███▏      | 268/841 [13:27<35:47,  3.75s/it]"
     ]
    },
    {
     "name": "stdout",
     "output_type": "stream",
     "text": [
      "{\n",
      "  \"poste\": {\n",
      "    \"type_contrat\": \"CDI\",\n",
      "    \"teletravail_possible\": true,\n",
      "    \"experience_pro_requise\": 2,\n",
      "    \"diplomes\": [\"pas de diplome\"],\n",
      "    \"spe_diplomes\": [],\n",
      "    \"langues\": [\"Francais\", \"Anglais\"],\n",
      "    \"stack_technique\": [\"Hadoop\", \"Spark\", \"Hive\", \"Kafka\", \"MongoDB\", \"Java\", \"Scala\", \"Python\", \"DevOps\", \"Git\", \"CI/CD\", \"NoSQL\", \"Neo4j\", \"Cassandra\"]\n",
      "  }\n",
      "}\n"
     ]
    },
    {
     "name": "stderr",
     "output_type": "stream",
     "text": [
      " 32%|███▏      | 269/841 [13:36<52:03,  5.46s/it]"
     ]
    },
    {
     "name": "stdout",
     "output_type": "stream",
     "text": [
      "{\n",
      "  \"poste\": {\n",
      "    \"type_contrat\": \"CDI\",\n",
      "    \"teletravail_possible\": true,\n",
      "    \"experience_pro_requise\": 2,\n",
      "    \"diplomes\": [\"pas de diplome\"],\n",
      "    \"spe_diplomes\": [null],\n",
      "    \"langues\": [null],\n",
      "    \"stack_technique\": [\"DevOps\", \"DataOps\", \"mysql\", \"mongoDB\", \"SQLserver\", \"MariaDB\", \"PostgreSQL\", \"CI/CD\"]\n",
      "  }\n",
      "}\n"
     ]
    },
    {
     "name": "stderr",
     "output_type": "stream",
     "text": [
      " 32%|███▏      | 270/841 [13:38<42:25,  4.46s/it]"
     ]
    },
    {
     "name": "stdout",
     "output_type": "stream",
     "text": [
      "{\n",
      "  \"poste\": {\n",
      "    \"type_contrat\": \"CDI\",\n",
      "    \"teletravail_possible\": true,\n",
      "    \"experience_pro_requise\": 5,\n",
      "    \"diplomes\": [\"pas de diplome\"],\n",
      "    \"spe_diplomes\": [null],\n",
      "    \"langues\": [\"Anglais\"],\n",
      "    \"stack_technique\": [\"Node\", \"Python\", \"Scala\", \"Typescript\", \"React\", \"DevOps\", \"AWS\", \"Terraform\", \"gitops\", \"Airflow\", \"Elastic Search\", \"GraphQL\", \"SQL\", \"Kubernetes\"]\n",
      "  }\n",
      "}\n"
     ]
    },
    {
     "name": "stderr",
     "output_type": "stream",
     "text": [
      " 32%|███▏      | 271/841 [13:40<35:38,  3.75s/it]"
     ]
    },
    {
     "name": "stdout",
     "output_type": "stream",
     "text": [
      "{\n",
      "  \"poste\": {\n",
      "    \"type_contrat\": \"CDI\",\n",
      "    \"teletravail_possible\": true,\n",
      "    \"experience_pro_requise\": 6,\n",
      "    \"diplomes\": [\"Bac+5\"],\n",
      "    \"spe_diplomes\": [\"informatique\", \"école d'ingénieur\", \"universitaire\"],\n",
      "    \"langues\": [\"Anglais\"],\n",
      "    \"stack_technique\": [\"JETBRAINS INTELIJ IDEA\", \"DevOps\", \"Micro Services\"]\n",
      "  }\n",
      "}\n"
     ]
    },
    {
     "name": "stderr",
     "output_type": "stream",
     "text": [
      " 32%|███▏      | 272/841 [13:41<28:35,  3.01s/it]"
     ]
    },
    {
     "name": "stdout",
     "output_type": "stream",
     "text": [
      "{\n",
      "  \"poste\": {\n",
      "    \"type_contrat\": null,\n",
      "    \"teletravail_possible\": true,\n",
      "    \"experience_pro_requise\": 1,\n",
      "    \"diplomes\": [\"pas de diplome\"],\n",
      "    \"spe_diplomes\": [null],\n",
      "    \"langues\": [null],\n",
      "    \"stack_technique\": [\"GCP\", \"Datalog\"]\n",
      "  }\n",
      "}\n"
     ]
    },
    {
     "name": "stderr",
     "output_type": "stream",
     "text": [
      " 32%|███▏      | 273/841 [13:46<31:48,  3.36s/it]"
     ]
    },
    {
     "name": "stdout",
     "output_type": "stream",
     "text": [
      "{\n",
      "  \"poste\": {\n",
      "    \"type_contrat\": \"CDI\",\n",
      "    \"teletravail_possible\": true,\n",
      "    \"experience_pro_requise\": 2,\n",
      "    \"diplomes\": [\"Bac+5\", \"autre\"],\n",
      "    \"spe_diplomes\": [\"Informatique\", \"Data Science\"],\n",
      "    \"langues\": [\"Anglais\", \"Francais\"],\n",
      "    \"stack_technique\": [\"Talend\", \"Microsoft Azure\", \"Data Lake\", \"Data Warehouse\", \"Business Objects\"]\n",
      "  }\n",
      "}\n"
     ]
    },
    {
     "name": "stderr",
     "output_type": "stream",
     "text": [
      " 33%|███▎      | 274/841 [13:48<27:55,  2.96s/it]"
     ]
    },
    {
     "name": "stdout",
     "output_type": "stream",
     "text": [
      "{\n",
      "  \"poste\": {\n",
      "    \"type_contrat\": \"CDI\",\n",
      "    \"teletravail_possible\": true,\n",
      "    \"experience_pro_requise\": 5,\n",
      "    \"diplomes\": [\"Bac+3\", \"Bac+5\"],\n",
      "    \"spe_diplomes\": [\"Machine Learning\", \"Data Science\", \"IA\"],\n",
      "    \"langues\": [\"Anglais\", \"autre\"],\n",
      "    \"stack_technique\": [\"sklearn\", \"pytorch\", \"tensorflow\", \"NLP\", \"RL\", \"optimization\", \"regression\", \"transformers\", \"large language models\", \"transfer learning\"]\n",
      "  }\n",
      "}\n"
     ]
    },
    {
     "name": "stderr",
     "output_type": "stream",
     "text": [
      " 33%|███▎      | 275/841 [13:50<25:42,  2.73s/it]"
     ]
    },
    {
     "name": "stdout",
     "output_type": "stream",
     "text": [
      "{\n",
      "  \"poste\": {\n",
      "    \"type_contrat\": \"alternance\",\n",
      "    \"teletravail_possible\": true,\n",
      "    \"experience_pro_requise\": 1,\n",
      "    \"diplomes\": [\"Bac+5\", \"pas de diplome\"],\n",
      "    \"spe_diplomes\": [\"Data Analytics\", \"Data Science and Artificial Intelligence\", \"Data Engineering for Artificial Intelligence\"],\n",
      "    \"langues\": [\"Anglais\", \"Francais\"],\n",
      "    \"stack_technique\": [\"Data Visualisation\", \"Data model\", \"Data Warehouse\", \"Big Data\", \"ETL\"]\n",
      "  }\n",
      "}\n"
     ]
    },
    {
     "name": "stderr",
     "output_type": "stream",
     "text": [
      " 33%|███▎      | 276/841 [13:52<23:30,  2.50s/it]"
     ]
    },
    {
     "name": "stdout",
     "output_type": "stream",
     "text": [
      "{\n",
      "  \"poste\": {\n",
      "    \"type_contrat\": \"alternance\",\n",
      "    \"teletravail_possible\": false,\n",
      "    \"experience_pro_requise\": 1,\n",
      "    \"diplomes\": [\"pas de diplome\"],\n",
      "    \"spe_diplomes\": [\"internet\", \"digital\", \"ecommerce\"],\n",
      "    \"langues\": [\"Anglais\", \"Francais\", \"autre\"],\n",
      "    \"stack_technique\": [\"Google Analytics\", \"Google BigQuery\", \"Google Data Studio\", \"SQL\", \"MySQL\", \"Python\", \"R\", \"BI\", \"Datavisualisation\", \"Notebooks\", \"modélisation statistique\", \"Machine learning\"]\n",
      "  }\n",
      "}\n"
     ]
    },
    {
     "name": "stderr",
     "output_type": "stream",
     "text": [
      " 33%|███▎      | 277/841 [13:54<22:14,  2.37s/it]"
     ]
    },
    {
     "name": "stdout",
     "output_type": "stream",
     "text": [
      "{\n",
      "  \"poste\": {\n",
      "    \"type_contrat\": \"CDI\",\n",
      "    \"teletravail_possible\": true,\n",
      "    \"experience_pro_requise\": 1,\n",
      "    \"diplomes\": [\"Master\"],\n",
      "    \"spe_diplomes\": [\"Informatique\", \"Data Science\", \"Machine Learning\"],\n",
      "    \"langues\": [\"Anglais\"],\n",
      "    \"stack_technique\": [\".NET\", \"C#\", \"REST API\", \"IIS\", \"HTML5\", \"Javascript/Typescript\", \"REACT\", \"Oracle\", \"SQL Server\", \"PostgreSQL\", \"ML.NET\", \"ONNX\", \"Jupyter\", \"Python\"]\n",
      "  }\n",
      "}\n"
     ]
    },
    {
     "name": "stderr",
     "output_type": "stream",
     "text": [
      " 33%|███▎      | 278/841 [13:56<21:15,  2.27s/it]"
     ]
    },
    {
     "name": "stdout",
     "output_type": "stream",
     "text": [
      "{\n",
      "  \"poste\": {\n",
      "    \"type_contrat\": \"CDD\",\n",
      "    \"teletravail_possible\": false,\n",
      "    \"experience_pro_requise\": 1,\n",
      "    \"diplomes\": [\"Licence\", \"Master\", \"Doctorat\"],\n",
      "    \"spe_diplomes\": [\"Informatique\", \"Science des données\", \"Statistiques\", \"Santé\"],\n",
      "    \"langues\": [\"Francais\", \"Anglais\"],\n",
      "    \"stack_technique\": [\"VBA\", \"Python\", \"TensorFlow\", \"Spark\", \"Machine Learning\", \"Deep Learning\", \"Big Data\", \"NLP\"]\n",
      "  }\n",
      "}\n"
     ]
    },
    {
     "name": "stderr",
     "output_type": "stream",
     "text": [
      " 33%|███▎      | 279/841 [13:57<19:09,  2.05s/it]"
     ]
    },
    {
     "name": "stdout",
     "output_type": "stream",
     "text": [
      "{\n",
      "  \"poste\": {\n",
      "    \"type_contrat\": \"stage\",\n",
      "    \"teletravail_possible\": true,\n",
      "    \"experience_pro_requise\": 1,\n",
      "    \"diplomes\": [\"pas de diplome\"],\n",
      "    \"spe_diplomes\": [null],\n",
      "    \"langues\": [\"Anglais\"],\n",
      "    \"stack_technique\": [\"Python\", \"Java\", \"SQL\", \"Git\", \"Machine Learning\", \"Containers\", \"Orchestration\", \"Kubernetes\"]\n",
      "  }\n",
      "}\n"
     ]
    },
    {
     "name": "stderr",
     "output_type": "stream",
     "text": [
      " 33%|███▎      | 280/841 [13:59<18:59,  2.03s/it]"
     ]
    },
    {
     "name": "stdout",
     "output_type": "stream",
     "text": [
      "{\n",
      "  \"poste\": {\n",
      "    \"type_contrat\": \"stage\",\n",
      "    \"teletravail_possible\": false,\n",
      "    \"experience_pro_requise\": 1,\n",
      "    \"diplomes\": [\"Master\", \"Doctorat\", \"Bac+5\"],\n",
      "    \"spe_diplomes\": [\"Data science\", \"Informatique\"],\n",
      "    \"langues\": [\"Anglais\", \"Francais\"],\n",
      "    \"stack_technique\": [\"data visualisation\", \"statistiques\", \"machine learning\", \"deep Learning\", \"surrogate models\"]\n",
      "  }\n",
      "}\n"
     ]
    },
    {
     "name": "stderr",
     "output_type": "stream",
     "text": [
      " 33%|███▎      | 281/841 [14:01<18:29,  1.98s/it]"
     ]
    },
    {
     "name": "stdout",
     "output_type": "stream",
     "text": [
      "{\n",
      "  \"poste\": {\n",
      "    \"type_contrat\": \"alternance\",\n",
      "    \"teletravail_possible\": false,\n",
      "    \"experience_pro_requise\": 1,\n",
      "    \"diplomes\": [\"Bac+5\", \"Bac+3/4\"],\n",
      "    \"spe_diplomes\": [\"Informatique\", \"Cloud\", \"Intelligence Artificielle\"],\n",
      "    \"langues\": [\"Anglais\"],\n",
      "    \"stack_technique\": [\"Django\", \"Python\", \"Linux\", \"DevOps\", \"PySpark\", \"GitHub\"]\n",
      "  }\n",
      "}\n"
     ]
    },
    {
     "name": "stderr",
     "output_type": "stream",
     "text": [
      " 34%|███▎      | 282/841 [14:03<17:57,  1.93s/it]"
     ]
    },
    {
     "name": "stdout",
     "output_type": "stream",
     "text": [
      "{\n",
      "  \"poste\": {\n",
      "    \"type_contrat\": \"stage\",\n",
      "    \"teletravail_possible\": true,\n",
      "    \"experience_pro_requise\": 1,\n",
      "    \"diplomes\": [\"Master\"],\n",
      "    \"spe_diplomes\": [\"Innovation\", \"Domaine Bancaire\"],\n",
      "    \"langues\": [\"Anglais\", \"Francais\"],\n",
      "    \"stack_technique\": [\"IA générative\", \"machine learning\", \"intelligence artificielle\"]\n",
      "  }\n",
      "}\n"
     ]
    },
    {
     "name": "stderr",
     "output_type": "stream",
     "text": [
      " 34%|███▎      | 283/841 [14:06<20:12,  2.17s/it]"
     ]
    },
    {
     "name": "stdout",
     "output_type": "stream",
     "text": [
      "{\n",
      "  \"poste\": {\n",
      "    \"type_contrat\": \"Full-Time\",\n",
      "    \"teletravail_possible\": true,\n",
      "    \"experience_pro_requise\": 0,\n",
      "    \"diplomes\": [\"Licence\", \"Master\", \"Doctorat\", \"Bac+3\", \"Bac+5\", \"Bac+7\", \"pas de diplome\", \"autre\"],\n",
      "    \"spe_diplomes\": [\"SW development\", \"Embedded SW\"],\n",
      "    \"langues\": [\"Anglais\", \"Francais\", \"autre\"],\n",
      "    \"stack_technique\": [\"Python\", \"OOP\", \"Git\", \"Linux\", \"InfluxDB\", \"MongoDB\", \"Grafana\", \"VHDL\", \"Verilog\", \"System Verilog\"]\n",
      "  }\n",
      "}\n"
     ]
    },
    {
     "name": "stderr",
     "output_type": "stream",
     "text": [
      " 34%|███▍      | 284/841 [14:13<32:59,  3.55s/it]"
     ]
    },
    {
     "name": "stdout",
     "output_type": "stream",
     "text": [
      "{\n",
      "  \"poste\": {\n",
      "    \"type_contrat\": \"CDI\",\n",
      "    \"teletravail_possible\": null,\n",
      "    \"experience_pro_requise\": 5,\n",
      "    \"diplomes\": [\"Bac+5\"],\n",
      "    \"spe_diplomes\": null,\n",
      "    \"langues\": [null],\n",
      "    \"stack_technique\": [\"Hadoop\", \"Spark\", \"Python\", \"Excel\"]\n",
      "  }\n",
      "}\n"
     ]
    },
    {
     "name": "stderr",
     "output_type": "stream",
     "text": [
      " 34%|███▍      | 285/841 [14:15<28:21,  3.06s/it]"
     ]
    },
    {
     "name": "stdout",
     "output_type": "stream",
     "text": [
      "{\n",
      "  \"poste\": {\n",
      "    \"type_contrat\": \"CDI\",\n",
      "    \"teletravail_possible\": true,\n",
      "    \"experience_pro_requise\": 3,\n",
      "    \"diplomes\": [\"Master\", \"Doctorat\"],\n",
      "    \"spe_diplomes\": [\"Traitement du langage naturel\", \"NLP\"],\n",
      "    \"langues\": [\"Anglais\", \"Francais\"],\n",
      "    \"stack_technique\": [\"NLP\", \"LLMs\", \"Python\", \"Machine Learning\", \"Traitement de données\"]\n",
      "  }\n",
      "}\n"
     ]
    },
    {
     "name": "stderr",
     "output_type": "stream",
     "text": [
      " 34%|███▍      | 286/841 [14:21<38:41,  4.18s/it]"
     ]
    },
    {
     "name": "stdout",
     "output_type": "stream",
     "text": [
      "{\n",
      "  \"poste\": {\n",
      "    \"type_contrat\": \"CDI\",\n",
      "    \"teletravail_possible\": true,\n",
      "    \"experience_pro_requise\": 1,\n",
      "    \"diplomes\": [\"Bac+5\"],\n",
      "    \"spe_diplomes\": [\"Data science\", \"statistiques\", \"informatique\"],\n",
      "    \"langues\": [null],\n",
      "    \"stack_technique\": [\"Python\", \"Machine Learning\", \"Deep Learning\", \"SQL\", \"Hadoop\", \"Spark\", \"SAS\"]\n",
      "  }\n",
      "}\n"
     ]
    },
    {
     "name": "stderr",
     "output_type": "stream",
     "text": [
      " 34%|███▍      | 287/841 [14:25<38:31,  4.17s/it]"
     ]
    },
    {
     "name": "stdout",
     "output_type": "stream",
     "text": [
      "{\n",
      "  \"poste\": {\n",
      "    \"type_contrat\": \"stage\",\n",
      "    \"teletravail_possible\": true,\n",
      "    \"experience_pro_requise\": 1,\n",
      "    \"diplomes\": [\"pas de diplome\"],\n",
      "    \"spe_diplomes\": [\"data-science\"],\n",
      "    \"langues\": [\"Francais\", \"Anglais\"],\n",
      "    \"stack_technique\": [\"Python\", \"programmation orienté objet\", \"cloud computing\", \"machine learning\"]\n",
      "  }\n",
      "}\n"
     ]
    },
    {
     "name": "stderr",
     "output_type": "stream",
     "text": [
      " 34%|███▍      | 288/841 [14:28<33:01,  3.58s/it]"
     ]
    },
    {
     "name": "stdout",
     "output_type": "stream",
     "text": [
      "{\n",
      "  \"poste\": {\n",
      "    \"type_contrat\": \"CDI\",\n",
      "    \"teletravail_possible\": true,\n",
      "    \"experience_pro_requise\": 1,\n",
      "    \"diplomes\": [\"Bac+5\"],\n",
      "    \"spe_diplomes\": [\"Systèmes d'information\", \"Mathématiques appliquées\"],\n",
      "    \"langues\": [\"Anglais\"],\n",
      "    \"stack_technique\": [\"Python\", \"sklearn\", \"tensorflow\", \"keras\", \"statsmodel\", \"pandas\", \"matplotlib\"]\n",
      "  }\n",
      "}\n"
     ]
    },
    {
     "name": "stderr",
     "output_type": "stream",
     "text": [
      " 34%|███▍      | 289/841 [14:30<29:53,  3.25s/it]"
     ]
    },
    {
     "name": "stdout",
     "output_type": "stream",
     "text": [
      "{\n",
      "  \"poste\": {\n",
      "    \"type_contrat\": \"CDI\",\n",
      "    \"teletravail_possible\": null,\n",
      "    \"experience_pro_requise\": 1,\n",
      "    \"diplomes\": [\"Bac+5\"],\n",
      "    \"spe_diplomes\": [\"statistiques\", \"mathématiques\", \"informatique\", \"science des données\", \"Intelligence Artificielle\"],\n",
      "    \"langues\": [\"Anglais\"],\n",
      "    \"stack_technique\": [\"Python\", \"R\", \"SAS\", \"SQL\", \"TensorFlow\", \"PyTorch\", \"Scikit-Learn\", \"NLP\", \"GPT\"]\n",
      "  }\n",
      "}\n"
     ]
    },
    {
     "name": "stderr",
     "output_type": "stream",
     "text": [
      " 34%|███▍      | 290/841 [14:32<25:13,  2.75s/it]"
     ]
    },
    {
     "name": "stdout",
     "output_type": "stream",
     "text": [
      "{\n",
      "  \"poste\": {\n",
      "    \"type_contrat\": \"stage\",\n",
      "    \"teletravail_possible\": true,\n",
      "    \"experience_pro_requise\": 1,\n",
      "    \"diplomes\": [\"Master\", null],\n",
      "    \"spe_diplomes\": [\"editoriale\", \"Data\", null],\n",
      "    \"langues\": [\"Anglais\", null],\n",
      "    \"stack_technique\": [\"Machine Learning\", \"IA\", \"communication\", \"gestion de projet\", \"stratégie éditoriale\", \"qualification des données\", \"anglais\"]\n",
      "  }\n",
      "}\n"
     ]
    },
    {
     "name": "stderr",
     "output_type": "stream",
     "text": [
      " 35%|███▍      | 291/841 [14:33<22:11,  2.42s/it]"
     ]
    },
    {
     "name": "stdout",
     "output_type": "stream",
     "text": [
      "{\n",
      "  \"poste\": {\n",
      "    \"type_contrat\": \"CDI\",\n",
      "    \"teletravail_possible\": true,\n",
      "    \"experience_pro_requise\": 1,\n",
      "    \"diplomes\": [\"Master\", \"Doctorat\"],\n",
      "    \"spe_diplomes\": [\"Machine Learning\", \"Computer Science\"],\n",
      "    \"langues\": [\"Anglais\"],\n",
      "    \"stack_technique\": [\"Python\", \"Java\", \"C++\", \"Hadoop\"]\n",
      "  }\n",
      "}\n"
     ]
    },
    {
     "name": "stderr",
     "output_type": "stream",
     "text": [
      " 35%|███▍      | 292/841 [14:36<21:38,  2.37s/it]"
     ]
    },
    {
     "name": "stdout",
     "output_type": "stream",
     "text": [
      "{\n",
      "  \"poste\": {\n",
      "    \"type_contrat\": \"CDI\",\n",
      "    \"teletravail_possible\": true,\n",
      "    \"experience_pro_requise\": 5,\n",
      "    \"diplomes\": [\"pas de diplome\"],\n",
      "    \"spe_diplomes\": [null],\n",
      "    \"langues\": [null],\n",
      "    \"stack_technique\": [\"SPARK\", \"PySpark\", \"Azure\", \"AWS\", \"GCP\", \"Azure DevOps\", \"Azure Pipeline\", \"GIT\", \"JIRA\", \"Azure Databricks\", \"Azure Data Lake Storage\", \"Azure Data Factory\"]\n",
      "  }\n",
      "}\n"
     ]
    },
    {
     "name": "stderr",
     "output_type": "stream",
     "text": [
      " 35%|███▍      | 293/841 [14:38<20:45,  2.27s/it]"
     ]
    },
    {
     "name": "stdout",
     "output_type": "stream",
     "text": [
      "{\n",
      "  \"poste\": {\n",
      "    \"type_contrat\": \"CDI\",\n",
      "    \"teletravail_possible\": null,\n",
      "    \"experience_pro_requise\": 1,\n",
      "    \"diplomes\": [\"Bac+5\"],\n",
      "    \"spe_diplomes\": [\"statistiques\", \"mathématiques\", \"informatique\", \"science des données\", \"Intelligence Artificielle ou un domaine connexe\"],\n",
      "    \"langues\": [\"Anglais\"],\n",
      "    \"stack_technique\": [\"Python\", \"R\", \"SAS\", \"SQL\", \"TensorFlow\", \"PyTorch\", \"Scikit-Learn\", \"NLP\", \"GPT\"]\n",
      "  }\n",
      "}\n"
     ]
    },
    {
     "name": "stderr",
     "output_type": "stream",
     "text": [
      " 35%|███▍      | 294/841 [14:39<19:22,  2.13s/it]"
     ]
    },
    {
     "name": "stdout",
     "output_type": "stream",
     "text": [
      "{\n",
      "  \"poste\": {\n",
      "    \"type_contrat\": \"CDI\",\n",
      "    \"teletravail_possible\": true,\n",
      "    \"experience_pro_requise\": 2,\n",
      "    \"diplomes\": [\"Master\", \"Doctorat\"],\n",
      "    \"spe_diplomes\": [\"Data Science\", \"Analyse de données\"],\n",
      "    \"langues\": [\"Anglais\", \"Francais\"],\n",
      "    \"stack_technique\": [\"SAS Viya\", \"DATAIKU\"]\n",
      "  }\n",
      "}\n"
     ]
    },
    {
     "name": "stderr",
     "output_type": "stream",
     "text": [
      " 35%|███▌      | 295/841 [14:42<20:39,  2.27s/it]"
     ]
    },
    {
     "name": "stdout",
     "output_type": "stream",
     "text": [
      "{\n",
      "  \"poste\": {\n",
      "    \"type_contrat\": \"CDI\",\n",
      "    \"teletravail_possible\": false,\n",
      "    \"experience_pro_requise\": 1,\n",
      "    \"diplomes\": [\"pas de diplome\"],\n",
      "    \"spe_diplomes\": [null],\n",
      "    \"langues\": [\"Anglais\", \"Francais\"],\n",
      "    \"stack_technique\": [\"Machine Learning\", \"Deep Learning\", \"NLP\"]\n",
      "  }\n",
      "}\n"
     ]
    },
    {
     "name": "stderr",
     "output_type": "stream",
     "text": [
      " 35%|███▌      | 296/841 [14:44<20:01,  2.20s/it]"
     ]
    },
    {
     "name": "stdout",
     "output_type": "stream",
     "text": [
      "{\n",
      "  \"poste\": {\n",
      "    \"type_contrat\": \"CDI\",\n",
      "    \"teletravail_possible\": true,\n",
      "    \"experience_pro_requise\": 1,\n",
      "    \"diplomes\": [\"pas de diplome\"],\n",
      "    \"spe_diplomes\": [\"Ingénieur\"],\n",
      "    \"langues\": [\"Anglais\", \"Francais\"],\n",
      "    \"stack_technique\": [\"Python\", \"Big Data\", \"Spark\", \"Scala\", \"Hadoop\", \"Cloud Providers\", \"AWS\", \"Google Cloud Platform\", \"Microsoft Azure\"]\n",
      "  }\n",
      "}\n"
     ]
    },
    {
     "name": "stderr",
     "output_type": "stream",
     "text": [
      " 35%|███▌      | 297/841 [14:46<19:01,  2.10s/it]"
     ]
    },
    {
     "name": "stdout",
     "output_type": "stream",
     "text": [
      "{\n",
      "  \"poste\": {\n",
      "    \"type_contrat\": \"CDI\",\n",
      "    \"teletravail_possible\": null,\n",
      "    \"experience_pro_requise\": 2,\n",
      "    \"diplomes\": [\"Master\"],\n",
      "    \"spe_diplomes\": [\"Data Science\", \"Génie Statistique\", \"Apprentissage Automatique\", \"Mathématiques Appliquées\", \"Génie des Procédés\"],\n",
      "    \"langues\": [\"Anglais\", null],\n",
      "    \"stack_technique\": [\"Python\", \"R\", \"Matlab\", \"Java\", \"C#\", \"C++\", \"Knime\", \"Dataiku\", \"Azure\", \"MLOPS\", \"Git\"]\n",
      "  }\n",
      "}\n"
     ]
    },
    {
     "name": "stderr",
     "output_type": "stream",
     "text": [
      " 35%|███▌      | 298/841 [14:48<18:59,  2.10s/it]"
     ]
    },
    {
     "name": "stdout",
     "output_type": "stream",
     "text": [
      "{\n",
      "  \"poste\": {\n",
      "    \"type_contrat\": \"CDI\",\n",
      "    \"teletravail_possible\": true,\n",
      "    \"experience_pro_requise\": 3,\n",
      "    \"diplomes\": [\"pas de diplome\"],\n",
      "    \"spe_diplomes\": [null],\n",
      "    \"langues\": [\"Anglais\", \"Francais\"],\n",
      "    \"stack_technique\": [\"Machine Learning\", \"scikit-learn\", \"TensorFlow\", \"PyTorch\"]\n",
      "  }\n",
      "}\n"
     ]
    },
    {
     "name": "stderr",
     "output_type": "stream",
     "text": [
      " 36%|███▌      | 299/841 [14:51<20:19,  2.25s/it]"
     ]
    },
    {
     "name": "stdout",
     "output_type": "stream",
     "text": [
      "{\n",
      "  \"poste\": {\n",
      "    \"type_contrat\": \"stage/alternance\",\n",
      "    \"teletravail_possible\": false,\n",
      "    \"experience_pro_requise\": 1,\n",
      "    \"diplomes\": [\"Licence\", \"Master\", \"Doctorat\", \"Bac+3\", \"Bac+5\", \"Bac+7\", \"pas de diplome\", \"autre\"],\n",
      "    \"spe_diplomes\": [\"Ingénierie\"],\n",
      "    \"langues\": [\"Anglais\", \"Francais\", \"Espagnol\", \"Allemand\", \"Italien\", \"Portuguais\", \"autre\"],\n",
      "    \"stack_technique\": [\"Intelligence Artificielle\", \"Data Science\", \"Réseaux de neurones\", \"Analyse de données\"]\n",
      "  }\n",
      "}\n"
     ]
    },
    {
     "name": "stderr",
     "output_type": "stream",
     "text": [
      " 36%|███▌      | 300/841 [14:52<18:23,  2.04s/it]"
     ]
    },
    {
     "name": "stdout",
     "output_type": "stream",
     "text": [
      "{\n",
      "  \"poste\": {\n",
      "    \"type_contrat\": \"CDI\",\n",
      "    \"teletravail_possible\": true,\n",
      "    \"experience_pro_requise\": 8,\n",
      "    \"diplomes\": [\"pas de diplome\"],\n",
      "    \"spe_diplomes\": [null],\n",
      "    \"langues\": [null],\n",
      "    \"stack_technique\": [\"Python\", \"AWS\", \"Azure\", \"Dataiku\"]\n",
      "  }\n",
      "}\n"
     ]
    },
    {
     "name": "stderr",
     "output_type": "stream",
     "text": [
      " 36%|███▌      | 301/841 [14:54<18:12,  2.02s/it]"
     ]
    },
    {
     "name": "stdout",
     "output_type": "stream",
     "text": [
      "{\n",
      "  \"poste\": {\n",
      "    \"type_contrat\": \"CDI\",\n",
      "    \"teletravail_possible\": null,\n",
      "    \"experience_pro_requise\": 1,\n",
      "    \"diplomes\": [\"Licence\", null],\n",
      "    \"spe_diplomes\": [\"Biologie Moléculaire\", \"Biostatistiques\", \"Epidémiologie\", \"Registre du cancer\", \"Centre de ressources biologiques\"],\n",
      "    \"langues\": [null],\n",
      "    \"stack_technique\": [\"Business Intelligence\", \"Analyse de données\"]\n",
      "  }\n",
      "}\n"
     ]
    },
    {
     "name": "stderr",
     "output_type": "stream",
     "text": [
      " 36%|███▌      | 302/841 [14:56<17:50,  1.99s/it]"
     ]
    },
    {
     "name": "stdout",
     "output_type": "stream",
     "text": [
      "{\n",
      "  \"poste\": {\n",
      "    \"type_contrat\": \"stage\",\n",
      "    \"teletravail_possible\": true,\n",
      "    \"experience_pro_requise\": 1,\n",
      "    \"diplomes\": [\"Master\"],\n",
      "    \"spe_diplomes\": [\"Data Science\", \"Statistiques\"],\n",
      "    \"langues\": [\"Anglais\"],\n",
      "    \"stack_technique\": [\"Python\", \"SQL\", \"Hadoop\", \"Spark\", \"PowerBi\", \"Dataiku\"]\n",
      "  }\n",
      "}\n"
     ]
    },
    {
     "name": "stderr",
     "output_type": "stream",
     "text": [
      " 36%|███▌      | 303/841 [14:58<16:58,  1.89s/it]"
     ]
    },
    {
     "name": "stdout",
     "output_type": "stream",
     "text": [
      "{\n",
      "  \"poste\": {\n",
      "    \"type_contrat\": \"alternance\",\n",
      "    \"teletravail_possible\": false,\n",
      "    \"experience_pro_requise\": 1,\n",
      "    \"diplomes\": [\"Master\"],\n",
      "    \"spe_diplomes\": [\"Data Science\", \"ingénieurs\"],\n",
      "    \"langues\": [\"Anglais\"],\n",
      "    \"stack_technique\": [\"Microsoft Excel\", \"Microsoft Power Apps\", \"Python\", \"SQL\", \"Power BI\"]\n",
      "  }\n",
      "}\n"
     ]
    },
    {
     "name": "stderr",
     "output_type": "stream",
     "text": [
      " 36%|███▌      | 304/841 [15:00<17:56,  2.01s/it]"
     ]
    },
    {
     "name": "stdout",
     "output_type": "stream",
     "text": [
      "{\n",
      "  \"poste\": {\n",
      "    \"type_contrat\": \"alternance\",\n",
      "    \"teletravail_possible\": false,\n",
      "    \"experience_pro_requise\": 1,\n",
      "    \"diplomes\": [\"Master\"],\n",
      "    \"spe_diplomes\": [\"Data Science\", \"École d'ingénieurs\"],\n",
      "    \"langues\": [\"Anglais\"],\n",
      "    \"stack_technique\": [\"Microsoft Excel\", \"Microsoft Power Apps\", \"Python\", \"SQL\", \"Power BI\"]\n",
      "  }\n",
      "}\n"
     ]
    },
    {
     "name": "stderr",
     "output_type": "stream",
     "text": [
      " 36%|███▋      | 305/841 [15:02<18:15,  2.04s/it]"
     ]
    },
    {
     "name": "stdout",
     "output_type": "stream",
     "text": [
      "{\n",
      "  \"poste\": {\n",
      "    \"type_contrat\": \"CDI\",\n",
      "    \"teletravail_possible\": null,\n",
      "    \"experience_pro_requise\": 1,\n",
      "    \"diplomes\": [\"Master\"],\n",
      "    \"spe_diplomes\": [\"informatique\"],\n",
      "    \"langues\": [\"Anglais\", \"Francais\", \"autre\"],\n",
      "    \"stack_technique\": [\"Python\", \"SQL\", \"NLP\", \"NLTK\", \"Spark\", \"NoSQL\", \"Pandas\", \"NumPy\", \"TensorFlow\"]\n",
      "  }\n",
      "}\n"
     ]
    },
    {
     "name": "stderr",
     "output_type": "stream",
     "text": [
      " 36%|███▋      | 306/841 [15:04<18:05,  2.03s/it]"
     ]
    },
    {
     "name": "stdout",
     "output_type": "stream",
     "text": [
      "{\n",
      "  \"poste\": {\n",
      "    \"type_contrat\": \"CDI\",\n",
      "    \"teletravail_possible\": true,\n",
      "    \"experience_pro_requise\": 8,\n",
      "    \"diplomes\": [\"pas de diplome\"],\n",
      "    \"spe_diplomes\": [null],\n",
      "    \"langues\": [\"Anglais\", \"Francais\"],\n",
      "    \"stack_technique\": [\"AWS\", \"Azure\", \"Python\", \"Dataiku\"]\n",
      "  }\n",
      "}\n"
     ]
    },
    {
     "name": "stderr",
     "output_type": "stream",
     "text": [
      " 37%|███▋      | 307/841 [15:06<18:24,  2.07s/it]"
     ]
    },
    {
     "name": "stdout",
     "output_type": "stream",
     "text": [
      "{\n",
      "  \"poste\": {\n",
      "    \"type_contrat\": \"CDI\",\n",
      "    \"teletravail_possible\": null,\n",
      "    \"experience_pro_requise\": 5,\n",
      "    \"diplomes\": [\"Bac+5\"],\n",
      "    \"spe_diplomes\": [\"école d'ingénieur\"],\n",
      "    \"langues\": [null],\n",
      "    \"stack_technique\": [\"Architecture décisionnelle\", \"Qliksense\", \"Microsoft SSIS\"]\n",
      "  }\n",
      "}\n"
     ]
    },
    {
     "name": "stderr",
     "output_type": "stream",
     "text": [
      " 37%|███▋      | 308/841 [15:09<20:22,  2.29s/it]"
     ]
    },
    {
     "name": "stdout",
     "output_type": "stream",
     "text": [
      "{\n",
      "  \"poste\": {\n",
      "    \"type_contrat\": \"alternance\",\n",
      "    \"teletravail_possible\": false,\n",
      "    \"experience_pro_requise\": 1,\n",
      "    \"diplomes\": [\"pas de diplome\"],\n",
      "    \"spe_diplomes\": [null],\n",
      "    \"langues\": [null],\n",
      "    \"stack_technique\": [\n",
      "      \"PHP\",\n",
      "      \"JavaScript\",\n",
      "      \"React\",\n",
      "      \"Angular\",\n",
      "      \"Vue JS\",\n",
      "      \"Kotlin\",\n",
      "      \"Java 11\",\n",
      "      \"HTTP\",\n",
      "      \"API REST\",\n",
      "      \"OAuth2\",\n",
      "      \"Microservices\",\n",
      "      \"Git\",\n",
      "      \"Gitlab\",\n",
      "      \"Postgresql\",\n",
      "      \"Couchbase\",\n",
      "      \"S3\",\n",
      "      \"nosql\",\n",
      "      \"Cloud AWS\",\n",
      "      \"Docker\",\n",
      "      \"Git\",\n",
      "      \"Terraform\",\n",
      "      \"Python\",\n",
      "      \"Shell\",\n",
      "      \"Linux\"\n",
      "    ]\n",
      "  }\n",
      "}\n"
     ]
    },
    {
     "name": "stderr",
     "output_type": "stream",
     "text": [
      " 37%|███▋      | 309/841 [15:12<20:49,  2.35s/it]"
     ]
    },
    {
     "name": "stdout",
     "output_type": "stream",
     "text": [
      "{\n",
      "  \"poste\": {\n",
      "    \"type_contrat\": \"CDI\",\n",
      "    \"teletravail_possible\": true,\n",
      "    \"experience_pro_requise\": 2,\n",
      "    \"diplomes\": [\"Bac+3\", \"Bac+5\"],\n",
      "    \"spe_diplomes\": [\"Data Science\", \"Statistiques\", \"Marketing\"],\n",
      "    \"langues\": [\"Anglais\", \"Francais\"],\n",
      "    \"stack_technique\": [\"Excel\", \"SAS\", \"SQL\", \"QlikSense\", \"QlikView\", \"Dataiku\"]\n",
      "  }\n",
      "}\n"
     ]
    },
    {
     "name": "stderr",
     "output_type": "stream",
     "text": [
      " 37%|███▋      | 310/841 [15:14<20:06,  2.27s/it]"
     ]
    },
    {
     "name": "stdout",
     "output_type": "stream",
     "text": [
      "{\n",
      "  \"poste\": {\n",
      "    \"type_contrat\": \"CDI\",\n",
      "    \"teletravail_possible\": true,\n",
      "    \"experience_pro_requise\": 5,\n",
      "    \"diplomes\": [\"Doctorat\"],\n",
      "    \"spe_diplomes\": [\"Information Retrieval\", \"Natural Language Processing\", \"Recommender Systems\", \"Machine Learning\"],\n",
      "    \"langues\": [\"Francais\", \"Anglais\"],\n",
      "    \"stack_technique\": [\"Python\", \"Pytorch\", \"scikit-learn\", \"PySpark\", \"Kubernetes\", \"Argo Workflow\", \"Vespa\"]\n",
      "  }\n",
      "}\n"
     ]
    },
    {
     "name": "stderr",
     "output_type": "stream",
     "text": [
      " 37%|███▋      | 311/841 [15:16<19:51,  2.25s/it]"
     ]
    },
    {
     "name": "stdout",
     "output_type": "stream",
     "text": [
      "{\n",
      "  \"poste\": {\n",
      "    \"type_contrat\": \"alternance\",\n",
      "    \"teletravail_possible\": false,\n",
      "    \"experience_pro_requise\": 1,\n",
      "    \"diplomes\": [\"Master\"],\n",
      "    \"spe_diplomes\": [\"Data Science\", \"Ingénierie\"],\n",
      "    \"langues\": [\"Anglais\"],\n",
      "    \"stack_technique\": [\"Microsoft Excel\", \"Microsoft Power Apps\", \"Python\", \"SQL\", \"Power BI\"]\n",
      "  }\n",
      "}\n"
     ]
    },
    {
     "name": "stderr",
     "output_type": "stream",
     "text": [
      " 37%|███▋      | 312/841 [15:18<18:56,  2.15s/it]"
     ]
    },
    {
     "name": "stdout",
     "output_type": "stream",
     "text": [
      "{\n",
      "  \"poste\": {\n",
      "    \"type_contrat\": \"alternance\",\n",
      "    \"teletravail_possible\": true,\n",
      "    \"experience_pro_requise\": 1,\n",
      "    \"diplomes\": [\"Master\"],\n",
      "    \"spe_diplomes\": [\"Data\", \"Statistiques\"],\n",
      "    \"langues\": [\"Francais\", \"Anglais\"],\n",
      "    \"stack_technique\": [\"SQL\", \"Python\", \"SAS\", \"Tableau\", \"VBA\"]\n",
      "  }\n",
      "}\n"
     ]
    },
    {
     "name": "stderr",
     "output_type": "stream",
     "text": [
      " 37%|███▋      | 313/841 [15:20<19:09,  2.18s/it]"
     ]
    },
    {
     "name": "stdout",
     "output_type": "stream",
     "text": [
      "{\n",
      "  \"poste\": {\n",
      "    \"type_contrat\": \"CDI\",\n",
      "    \"teletravail_possible\": true,\n",
      "    \"experience_pro_requise\": 1,\n",
      "    \"diplomes\": [\"Bac+5\"],\n",
      "    \"spe_diplomes\": [\"Data science\", \"IA\"],\n",
      "    \"langues\": [\"Anglais\", \"Francais\", \"autre\"],\n",
      "    \"stack_technique\": [\"AZURE\", \"OpenAI\", \"AI studio\", \"AWS\", \"SQL\", \"Python\", \"VScode\", \"conda\", \"NLP\", \"GPT-4\", \"Mistral-large\", \"Claude 3\", \"SaaS\", \"MaaS\", \"NLP\", \"embedding\", \"RAG\", \"boto3\", \"workflow\", \"call to action\", \"cloud\"]\n",
      "  }\n",
      "}\n"
     ]
    },
    {
     "name": "stderr",
     "output_type": "stream",
     "text": [
      " 37%|███▋      | 314/841 [15:23<21:21,  2.43s/it]"
     ]
    },
    {
     "name": "stdout",
     "output_type": "stream",
     "text": [
      "{\n",
      "  \"poste\": {\n",
      "    \"type_contrat\": \"alternance\",\n",
      "    \"teletravail_possible\": false,\n",
      "    \"experience_pro_requise\": 1,\n",
      "    \"diplomes\": [\"pas de diplome\"],\n",
      "    \"spe_diplomes\": [\"Digital\"],\n",
      "    \"langues\": [\"Francais\"],\n",
      "    \"stack_technique\": [\"infrastructure informatique\", \"codage\", \"data analyse\", \"traitement de la data\"]\n",
      "  }\n",
      "}\n"
     ]
    },
    {
     "name": "stderr",
     "output_type": "stream",
     "text": [
      " 37%|███▋      | 315/841 [15:25<20:31,  2.34s/it]"
     ]
    },
    {
     "name": "stdout",
     "output_type": "stream",
     "text": [
      "{\n",
      "  \"poste\": {\n",
      "    \"type_contrat\": \"CDI\",\n",
      "    \"teletravail_possible\": true,\n",
      "    \"experience_pro_requise\": 3,\n",
      "    \"diplomes\": [\"Master\"],\n",
      "    \"spe_diplomes\": [\"Informatique\", \"Mathématiques\", \"Statistiques\"],\n",
      "    \"langues\": [\"Francais\", \"Anglais\", \"autre\"],\n",
      "    \"stack_technique\": [\"MS SQL\", \"MySQL\", \"Oracle\", \"Python\", \"Azure ML\"]\n",
      "  }\n",
      "}\n"
     ]
    },
    {
     "name": "stderr",
     "output_type": "stream",
     "text": [
      " 38%|███▊      | 316/841 [15:28<20:29,  2.34s/it]"
     ]
    },
    {
     "name": "stdout",
     "output_type": "stream",
     "text": [
      "{\n",
      "  \"poste\": {\n",
      "    \"type_contrat\": \"alternance\",\n",
      "    \"teletravail_possible\": true,\n",
      "    \"experience_pro_requise\": 1,\n",
      "    \"diplomes\": [\"Bac+5\", \"Bac+3\"],\n",
      "    \"spe_diplomes\": [\"Data Science\", \"Ingénierie\"],\n",
      "    \"langues\": [\"Anglais\", \"Francais\"],\n",
      "    \"stack_technique\": [\"SQL\", \"PowerBI\", \"Alteryx\", \"Python\", \"R\"],\n",
      "    \"localisation\": \"Bordeaux - 33, France\",\n",
      "    \"salaire\": null,\n",
      "    \"fonction\": \"Informatique - Systèmes d'Information, Achat\",\n",
      "    \"secteur\": \"Enseignement/Formation, Industrie Auto/Meca/Navale\"\n",
      "  }\n",
      "}\n"
     ]
    },
    {
     "name": "stderr",
     "output_type": "stream",
     "text": [
      " 38%|███▊      | 317/841 [15:30<20:23,  2.33s/it]"
     ]
    },
    {
     "name": "stdout",
     "output_type": "stream",
     "text": [
      "{\n",
      "  \"poste\": {\n",
      "    \"type_contrat\": \"CDI\",\n",
      "    \"teletravail_possible\": true,\n",
      "    \"experience_pro_requise\": 1,\n",
      "    \"diplomes\": [\"Master\"],\n",
      "    \"spe_diplomes\": [\"Data Science\", \"Intelligence Artificielle\"],\n",
      "    \"langues\": [\"Anglais\", \"Francais\", \"autre\"],\n",
      "    \"stack_technique\": [\"Python\", \"Git\", \"Machine Learning\", \"Deep Learning\", \"Statistiques\", \"Cloud\", \"Data Visualisation\", \"Docker\"]\n",
      "  }\n",
      "}\n"
     ]
    },
    {
     "name": "stderr",
     "output_type": "stream",
     "text": [
      " 38%|███▊      | 318/841 [15:33<22:48,  2.62s/it]"
     ]
    },
    {
     "name": "stdout",
     "output_type": "stream",
     "text": [
      "{\n",
      "  \"poste\": {\n",
      "    \"type_contrat\": \"CDI\",\n",
      "    \"teletravail_possible\": true,\n",
      "    \"experience_pro_requise\": 1,\n",
      "    \"diplomes\": [\"Licence\", \"Master\", \"Doctorat\", \"Bac+3\", \"Bac+5\", \"Bac+7\", \"pas de diplome\", \"autre\"],\n",
      "    \"spe_diplomes\": [\"Data Science\", \"Intelligence Artificielle\", \"Ingénierie\"],\n",
      "    \"langues\": [\"Anglais\", \"Francais\", \"Espagnol\", \"Allemand\", \"Italien\", \"Portuguais\", \"autre\"],\n",
      "    \"stack_technique\": [\"Python\", \"Git\", \"Machine Learning\", \"Deep Learning\", \"Statistiques\", \"Data Visualisation\", \"Power BI\", \"Tableau\", \"Qlik\", \"Cloud (Azure, GCP, AWS)\", \"Docker\", \"Dataiku\", \"Anaplan\"]\n",
      "  }\n",
      "}\n"
     ]
    },
    {
     "name": "stderr",
     "output_type": "stream",
     "text": [
      " 38%|███▊      | 319/841 [15:36<23:29,  2.70s/it]"
     ]
    },
    {
     "name": "stdout",
     "output_type": "stream",
     "text": [
      "{\n",
      "  \"poste\": {\n",
      "    \"type_contrat\": \"alternance\",\n",
      "    \"teletravail_possible\": false,\n",
      "    \"experience_pro_requise\": 1,\n",
      "    \"diplomes\": [\"Licence\", \"Master\", \"Doctorat\", \"autre\"],\n",
      "    \"spe_diplomes\": [\"Intelligence artificielle\", \"Data science\"],\n",
      "    \"langues\": [\"Anglais\", \"Francais\", \"Espagnol\", \"Allemand\", \"Italien\", \"Portuguais\", \"autre\"],\n",
      "    \"stack_technique\": [\"Python\", \"R\", \"Dataiku\", \"GCP\", \"Flask\", \"Tableau\", \"PowerBI\", \"RShiny\"]\n",
      "  }\n",
      "}\n"
     ]
    },
    {
     "name": "stderr",
     "output_type": "stream",
     "text": [
      " 38%|███▊      | 320/841 [15:38<20:46,  2.39s/it]"
     ]
    },
    {
     "name": "stdout",
     "output_type": "stream",
     "text": [
      "{\n",
      "  \"poste\":{\n",
      "    \"type_contrat\":\"CDI\",\n",
      "    \"teletravail_possible\":true,\n",
      "    \"experience_pro_requise\":5,\n",
      "    \"diplomes\":[\"Bac+5\"],\n",
      "    \"spe_diplomes\":[\"Mathematique\"],\n",
      "    \"langues\":[\"Francais\",\"Anglais\"],\n",
      "    \"stack_technique\":[\"Python\",\"SAS\",\"R\"]\n",
      "  }\n",
      "}\n"
     ]
    },
    {
     "name": "stderr",
     "output_type": "stream",
     "text": [
      " 38%|███▊      | 321/841 [15:45<33:02,  3.81s/it]"
     ]
    },
    {
     "name": "stdout",
     "output_type": "stream",
     "text": [
      "{\n",
      "  \"poste\": {\n",
      "    \"type_contrat\": \"stage\",\n",
      "    \"teletravail_possible\": true,\n",
      "    \"experience_pro_requise\": 1,\n",
      "    \"diplomes\": [\"Bac+3\"],\n",
      "    \"spe_diplomes\": [\"Data\", \"Informatique\"],\n",
      "    \"langues\": [\"Francais\", \"Anglais\", \"autre\"],\n",
      "    \"stack_technique\": [\"Python 3\", \"Bash\", \"Bitbucket\", \"Cloud interne\", \"Machine Learning\", \"Statistique\"]\n",
      "  }\n",
      "}\n"
     ]
    },
    {
     "name": "stderr",
     "output_type": "stream",
     "text": [
      " 38%|███▊      | 322/841 [15:50<36:50,  4.26s/it]"
     ]
    },
    {
     "name": "stdout",
     "output_type": "stream",
     "text": [
      "{\n",
      "  \"poste\": {\n",
      "    \"type_contrat\": \"CDI\",\n",
      "    \"teletravail_possible\": false,\n",
      "    \"experience_pro_requise\": 5,\n",
      "    \"diplomes\": [\"Master\", \"Doctorat\"],\n",
      "    \"spe_diplomes\": [\"Data Science\", \"Computer Science\", \"Statistics\"],\n",
      "    \"langues\": [\"Anglais\", \"Francais\"],\n",
      "    \"stack_technique\": [\"Python\", \"R\", \"Java\", \"Scala\"]\n",
      "  }\n",
      "}\n"
     ]
    },
    {
     "name": "stderr",
     "output_type": "stream",
     "text": [
      " 38%|███▊      | 323/841 [15:53<31:51,  3.69s/it]"
     ]
    },
    {
     "name": "stdout",
     "output_type": "stream",
     "text": [
      "{\n",
      "  \"poste\": {\n",
      "    \"type_contrat\": \"stage\",\n",
      "    \"teletravail_possible\": false,\n",
      "    \"experience_pro_requise\": 1,\n",
      "    \"diplomes\": [\"Licence\", \"Master\", \"Doctorat\", \"Bac+3\", \"Bac+5\", \"Bac+7\", \"pas de diplome\", \"autre\"],\n",
      "    \"spe_diplomes\": [\"Web Data Analyst\"],\n",
      "    \"langues\": [\"Anglais\", \"Francais\", \"Espagnol\", \"Allemand\", \"Italien\", \"Portuguais\", \"autre\"],\n",
      "    \"stack_technique\": [\"Google Tag Manager\"]\n",
      "  }\n",
      "}\n"
     ]
    },
    {
     "name": "stderr",
     "output_type": "stream",
     "text": [
      " 39%|███▊      | 324/841 [15:55<29:14,  3.39s/it]"
     ]
    },
    {
     "name": "stdout",
     "output_type": "stream",
     "text": [
      "{\n",
      "  \"poste\": {\n",
      "    \"type_contrat\": \"alternance\",\n",
      "    \"teletravail_possible\": true,\n",
      "    \"experience_pro_requise\": 1,\n",
      "    \"diplomes\": [\"Licence\", \"Master\", \"Doctorat\", \"Bac+3\", \"Bac+5\", \"Bac+7\", \"pas de diplome\", \"autre\"],\n",
      "    \"spe_diplomes\": [\"ingénieur systèmes de production\", \"systèmes des informations\", \"Data Scientist\"],\n",
      "    \"langues\": [\"Anglais\", \"Francais\", \"Espagnol\", \"Allemand\", \"Italien\", \"Portuguais\", \"autre\"],\n",
      "    \"stack_technique\": [\"Power BI\"]\n",
      "  }\n",
      "}\n"
     ]
    },
    {
     "name": "stderr",
     "output_type": "stream",
     "text": [
      " 39%|███▊      | 325/841 [15:57<24:56,  2.90s/it]"
     ]
    },
    {
     "name": "stdout",
     "output_type": "stream",
     "text": [
      "{\n",
      "  \"poste\": {\n",
      "    \"type_contrat\": \"stage\",\n",
      "    \"teletravail_possible\": true,\n",
      "    \"experience_pro_requise\": 1,\n",
      "    \"diplomes\": [\"pas de diplome\"],\n",
      "    \"spe_diplomes\": [\"Data Science\", \"Analytics\", \"BI\"],\n",
      "    \"langues\": [\"Francais\", \"Anglais\"],\n",
      "    \"stack_technique\": [\"Python\", \"SQL\", \"Power BI\", \"Looker Studio\", \"Tableau\"]\n",
      "  }\n",
      "}\n"
     ]
    },
    {
     "name": "stderr",
     "output_type": "stream",
     "text": [
      " 39%|███▉      | 326/841 [15:59<21:57,  2.56s/it]"
     ]
    },
    {
     "name": "stdout",
     "output_type": "stream",
     "text": [
      "{\n",
      "  \"poste\": {\n",
      "    \"type_contrat\": \"CDI\",\n",
      "    \"teletravail_possible\": true,\n",
      "    \"experience_pro_requise\": 2,\n",
      "    \"diplomes\": [\"Bac+3\", \"Bac+5\", \"Master\", \"Doctorat\"],\n",
      "    \"spe_diplomes\": [\"Science des données\", \"Statistiques\", \"Analyse de données\"],\n",
      "    \"langues\": [\"Anglais\", \"Francais\"],\n",
      "    \"stack_technique\": null\n",
      "  }\n",
      "}\n"
     ]
    },
    {
     "name": "stderr",
     "output_type": "stream",
     "text": [
      " 39%|███▉      | 327/841 [16:03<25:15,  2.95s/it]"
     ]
    },
    {
     "name": "stdout",
     "output_type": "stream",
     "text": [
      "{\n",
      "  \"poste\": {\n",
      "    \"type_contrat\": \"alternance\",\n",
      "    \"teletravail_possible\": false,\n",
      "    \"experience_pro_requise\": 1,\n",
      "    \"diplomes\": [\"Bac+3\", \"autre\"],\n",
      "    \"spe_diplomes\": [\"informatique\", \"DATA\"],\n",
      "    \"langues\": [null],\n",
      "    \"stack_technique\": [\"langages SQL\", \"technologies DATA (dataprep + dataviz)\", \"analyse statistiques\", \"utilisation avancée des outils bureautique (Excel notamment)\"]\n",
      "  }\n",
      "}\n"
     ]
    },
    {
     "name": "stderr",
     "output_type": "stream",
     "text": [
      " 39%|███▉      | 328/841 [16:04<22:25,  2.62s/it]"
     ]
    },
    {
     "name": "stdout",
     "output_type": "stream",
     "text": [
      "{\n",
      "  \"poste\": {\n",
      "    \"type_contrat\": \"alternance\",\n",
      "    \"teletravail_possible\": false,\n",
      "    \"experience_pro_requise\": 1,\n",
      "    \"diplomes\": [\"Bac+5\"],\n",
      "    \"spe_diplomes\": [\"DATA\"],\n",
      "    \"langues\": [\"Anglais\", null],\n",
      "    \"stack_technique\": [\"Python\", \"Git\", \"Postgres\", \"APIs\", \"Docker\", \"Openshift\", \"Azure\", \"Jenkins\", \"Kibana\", \"Grafana\"]\n",
      "  }\n",
      "}\n"
     ]
    },
    {
     "name": "stderr",
     "output_type": "stream",
     "text": [
      " 39%|███▉      | 329/841 [16:13<36:42,  4.30s/it]"
     ]
    },
    {
     "name": "stdout",
     "output_type": "stream",
     "text": [
      "{\n",
      "  \"poste\": {\n",
      "    \"type_contrat\": \"CDI\",\n",
      "    \"teletravail_possible\": true,\n",
      "    \"experience_pro_requise\": 5,\n",
      "    \"diplomes\": [\n",
      "      \"Licence\",\n",
      "      \"Master\",\n",
      "      \"Doctorat\"\n",
      "    ],\n",
      "    \"spe_diplomes\": [\n",
      "      \"informatique\",\n",
      "      \"data science\",\n",
      "      \"Ecoles d'Ingénieurs\",\n",
      "      \"Universités\"\n",
      "    ],\n",
      "    \"langues\": [\"Anglais\", \"Francais\", \"Espagnol\", \"Allemand\", \"Italien\", \"Portuguais\"],\n",
      "    \"stack_technique\": [\"Python\", \"Azure\", \"GCP\", \"pySpark\", \"R\", \"Scala\", \"ML\", \"IA\", \"NLP\", \"scikit-learn\"]\n",
      "  }\n",
      "}\n"
     ]
    },
    {
     "name": "stderr",
     "output_type": "stream",
     "text": [
      " 39%|███▉      | 330/841 [16:20<44:19,  5.21s/it]"
     ]
    },
    {
     "name": "stdout",
     "output_type": "stream",
     "text": [
      "{\n",
      "  \"poste\": {\n",
      "    \"type_contrat\": \"CDI\",\n",
      "    \"teletravail_possible\": true,\n",
      "    \"experience_pro_requise\": 5,\n",
      "    \"diplomes\": [\"Bac+5\"],\n",
      "    \"spe_diplomes\": [\"Ecole d’ingénieur\", \"Master Big Data\", \"Mathématiques/Statistiques\"],\n",
      "    \"langues\": [\"Anglais\"],\n",
      "    \"stack_technique\": [\"Google Cloud Platform (GCP)\", \"BigQuery\", \"DataFrom\", \"LookerStudio\", \"PowerBI\", \"Notebooks (Python/R)\", \"MySQL\", \"Redshift\", \"SnowFlake\", \"Cloud Dataprep\", \"DataIku\", \"Alteryx\", \"R\", \"Python\", \"Javascript\", \"Machine learning\"]\n",
      "  }\n",
      "}\n"
     ]
    },
    {
     "name": "stderr",
     "output_type": "stream",
     "text": [
      " 39%|███▉      | 331/841 [16:21<34:42,  4.08s/it]"
     ]
    },
    {
     "name": "stdout",
     "output_type": "stream",
     "text": [
      "{\n",
      "  \"poste\": {\n",
      "    \"type_contrat\": \"alternance\",\n",
      "    \"teletravail_possible\": false,\n",
      "    \"experience_pro_requise\": 1,\n",
      "    \"diplomes\": [\"Master\", \"pas de diplome\"],\n",
      "    \"spe_diplomes\": [\"ingénieur généraliste\", \"école d'ingénieur\"],\n",
      "    \"langues\": [null],\n",
      "    \"stack_technique\": [\"Excel\", \"Power BI\"]\n",
      "  }\n",
      "}\n"
     ]
    },
    {
     "name": "stderr",
     "output_type": "stream",
     "text": [
      " 39%|███▉      | 332/841 [16:23<28:32,  3.37s/it]"
     ]
    },
    {
     "name": "stdout",
     "output_type": "stream",
     "text": [
      "{\n",
      "  \"poste\": {\n",
      "    \"type_contrat\": \"alternance\",\n",
      "    \"teletravail_possible\": true,\n",
      "    \"experience_pro_requise\": 1,\n",
      "    \"diplomes\": [\"Bac+4\", \"Bac+5\"],\n",
      "    \"spe_diplomes\": [\"Data\", \"Mathématiques\", \"Statistiques\"],\n",
      "    \"langues\": [null],\n",
      "    \"stack_technique\": [\"SAS\", \"Python\"]\n",
      "  }\n",
      "}\n"
     ]
    },
    {
     "name": "stderr",
     "output_type": "stream",
     "text": [
      " 40%|███▉      | 333/841 [16:25<24:45,  2.92s/it]"
     ]
    },
    {
     "name": "stdout",
     "output_type": "stream",
     "text": [
      "{\n",
      "  \"poste\": {\n",
      "    \"type_contrat\": \"alternance\",\n",
      "    \"teletravail_possible\": false,\n",
      "    \"experience_pro_requise\": 1,\n",
      "    \"diplomes\": [\"Master\"],\n",
      "    \"spe_diplomes\": [\"Data\"],\n",
      "    \"langues\": [\"Francais\", \"Anglais\"],\n",
      "    \"stack_technique\": [\"Python\", \"Tableau\", \"Azure DevOps\", \"Data Lake\"]\n",
      "  }\n",
      "}\n"
     ]
    },
    {
     "name": "stderr",
     "output_type": "stream",
     "text": [
      " 40%|███▉      | 334/841 [16:27<22:04,  2.61s/it]"
     ]
    },
    {
     "name": "stdout",
     "output_type": "stream",
     "text": [
      "{\n",
      "  \"poste\": {\n",
      "    \"type_contrat\": \"CDI\",\n",
      "    \"teletravail_possible\": false,\n",
      "    \"experience_pro_requise\": 4,\n",
      "    \"diplomes\": [\"Bac+5\"],\n",
      "    \"spe_diplomes\": [],\n",
      "    \"langues\": [\"Anglais\"],\n",
      "    \"stack_technique\": [\"SQL\", \"NoSQL\", \"Tableau\", \"Qlikview\", \"PowerBI\", \"Dataiku\"]\n",
      "  }\n",
      "}\n"
     ]
    },
    {
     "name": "stderr",
     "output_type": "stream",
     "text": [
      " 40%|███▉      | 335/841 [16:29<21:38,  2.57s/it]"
     ]
    },
    {
     "name": "stdout",
     "output_type": "stream",
     "text": [
      "{\n",
      "  \"poste\": {\n",
      "    \"type_contrat\": \"CDI\",\n",
      "    \"teletravail_possible\": true,\n",
      "    \"experience_pro_requise\": 3,\n",
      "    \"diplome\": \"pas de diplome\",\n",
      "    \"spe_diplome\": [\"Informatique\", \"Data Science\"],\n",
      "    \"langue\": [\"Anglais\", \"Francais\"],\n",
      "    \"stack_technique\": [\"Tableau Software\", \"SQL\", \"PL/SQL\", \"Oracle\", \"SQL Server\", \"PostgreSQL\", \"JIRA\", \"Confluence\", \"Power BI\", \"DataIku\"]\n",
      "  }\n",
      "}\n"
     ]
    },
    {
     "name": "stderr",
     "output_type": "stream",
     "text": [
      " 40%|███▉      | 336/841 [16:31<19:09,  2.28s/it]"
     ]
    },
    {
     "name": "stdout",
     "output_type": "stream",
     "text": [
      "{\n",
      "  \"poste\": {\n",
      "    \"type_contrat\": \"alternance\",\n",
      "    \"teletravail_possible\": false,\n",
      "    \"experience_pro_requise\": 1,\n",
      "    \"diplomes\": [\"Master\"],\n",
      "    \"spe_diplomes\": [\"Data Analyst\"],\n",
      "    \"langues\": [\"Anglais\", \"Francais\"],\n",
      "    \"stack_technique\": [\"Excel\", \"Power Bi\", \"Phyton\", \"R\", \"VBA\"]\n",
      "  }\n",
      "}\n"
     ]
    },
    {
     "name": "stderr",
     "output_type": "stream",
     "text": [
      " 40%|████      | 337/841 [16:33<17:58,  2.14s/it]"
     ]
    },
    {
     "name": "stdout",
     "output_type": "stream",
     "text": [
      "{\n",
      "  \"poste\": {\n",
      "    \"type_contrat\": \"alternance\",\n",
      "    \"teletravail_possible\": false,\n",
      "    \"experience_pro_requise\": 1,\n",
      "    \"diplomes\": [\"Master\", \"Bac+4\"],\n",
      "    \"spe_diplomes\": null,\n",
      "    \"langues\": [\"Francais\", \"Anglais\"],\n",
      "    \"stack_technique\": [\"SQL\", \"Python\", \"GCP\"]\n",
      "  }\n",
      "}\n"
     ]
    },
    {
     "name": "stderr",
     "output_type": "stream",
     "text": [
      " 40%|████      | 338/841 [16:35<17:01,  2.03s/it]"
     ]
    },
    {
     "name": "stdout",
     "output_type": "stream",
     "text": [
      "{\n",
      "  \"poste\": {\n",
      "    \"type_contrat\": \"alternance\",\n",
      "    \"teletravail_possible\": false,\n",
      "    \"experience_pro_requise\": 1,\n",
      "    \"diplomes\": [\"Master\"],\n",
      "    \"spe_diplomes\": [\"MIAGE\"],\n",
      "    \"langues\": [\"Francais\", \"Anglais\"],\n",
      "    \"stack_technique\": [\"traitement statistique\", \"analyse de données\", \"Excel\", \"BI\", \"AWS\", \"Datalake\"]\n",
      "  }\n",
      "}\n"
     ]
    },
    {
     "name": "stderr",
     "output_type": "stream",
     "text": [
      " 40%|████      | 339/841 [16:36<16:11,  1.93s/it]"
     ]
    },
    {
     "name": "stdout",
     "output_type": "stream",
     "text": [
      "{\n",
      "  \"poste\": {\n",
      "    \"type_contrat\": \"alternance\",\n",
      "    \"teletravail_possible\": false,\n",
      "    \"experience_pro_requise\": 1,\n",
      "    \"diplomes\": [\"Master\", null],\n",
      "    \"spe_diplomes\": [\"Data Analyst\", null],\n",
      "    \"langues\": [\"Francais\", null],\n",
      "    \"stack_technique\": [\"Excel\", \"Pack Office\", \"Access\", \"Power BI\", \"VBA\", \"Python\", \"SQL\"]\n",
      "  }\n",
      "}\n"
     ]
    },
    {
     "name": "stderr",
     "output_type": "stream",
     "text": [
      " 40%|████      | 340/841 [16:38<16:12,  1.94s/it]"
     ]
    },
    {
     "name": "stdout",
     "output_type": "stream",
     "text": [
      "{\n",
      "  \"poste\": {\n",
      "    \"type_contrat\": \"alternance\",\n",
      "    \"teletravail_possible\": false,\n",
      "    \"experience_pro_requise\": 1,\n",
      "    \"diplomes\": [\"Master\"],\n",
      "    \"spe_diplomes\": [\"Ressources Humaines\"],\n",
      "    \"langues\": [\"Anglais\"],\n",
      "    \"stack_technique\": [\"Excel\", \"VBA\", \"Power BI\", \"PowerQuery\", \"Microsoft 365\"]\n",
      "  }\n",
      "}\n"
     ]
    },
    {
     "name": "stderr",
     "output_type": "stream",
     "text": [
      " 41%|████      | 341/841 [16:40<15:40,  1.88s/it]"
     ]
    },
    {
     "name": "stdout",
     "output_type": "stream",
     "text": [
      "{\n",
      "  \"poste\": {\n",
      "    \"type_contrat\": \"CDI\",\n",
      "    \"teletravail_possible\": true,\n",
      "    \"experience_pro_requise\": 3,\n",
      "    \"diplomes\": [\"Bac+5\"],\n",
      "    \"spe_diplomes\": [\"Finance\", \"Supply chain\", \"Engineering\"],\n",
      "    \"langues\": [\"Anglais\", \"Francais\"],\n",
      "    \"stack_technique\": [\"Excel\", \"PowerBI\", \"Tableau\", \"VBA\", \"Domo\"]\n",
      "  }\n",
      "}\n"
     ]
    },
    {
     "name": "stderr",
     "output_type": "stream",
     "text": [
      " 41%|████      | 342/841 [16:43<17:29,  2.10s/it]"
     ]
    },
    {
     "name": "stdout",
     "output_type": "stream",
     "text": [
      "{\n",
      "  \"poste\": {\n",
      "    \"type_contrat\": \"CDI\",\n",
      "    \"teletravail_possible\": true,\n",
      "    \"experience_pro_requise\": 1,\n",
      "    \"diplomes\": [\"Bac+5\"],\n",
      "    \"spe_diplomes\": [],\n",
      "    \"langues\": [\"Francais\"],\n",
      "    \"stack_technique\": [\"SAS\", \"Python\", \"statistiques\", \"traitement de la données\"]\n",
      "  }\n",
      "}\n"
     ]
    },
    {
     "name": "stderr",
     "output_type": "stream",
     "text": [
      " 41%|████      | 343/841 [16:44<16:25,  1.98s/it]"
     ]
    },
    {
     "name": "stdout",
     "output_type": "stream",
     "text": [
      "{\n",
      "  \"poste\": {\n",
      "    \"type_contrat\": \"alternance\",\n",
      "    \"teletravail_possible\": false,\n",
      "    \"experience_pro_requise\": 1,\n",
      "    \"diplomes\": [\"Bac+5\"],\n",
      "    \"spe_diplomes\": [\"informatique\"],\n",
      "    \"langues\": [\"Anglais\", \"Francais\"],\n",
      "    \"stack_technique\": [\"data science\", \"développement\"]\n",
      "  }\n",
      "}\n"
     ]
    },
    {
     "name": "stderr",
     "output_type": "stream",
     "text": [
      " 41%|████      | 344/841 [16:47<18:14,  2.20s/it]"
     ]
    },
    {
     "name": "stdout",
     "output_type": "stream",
     "text": [
      "{\n",
      "  \"poste\": {\n",
      "    \"type_contrat\": \"CDI\",\n",
      "    \"teletravail_possible\": false,\n",
      "    \"experience_pro_requise\": 1,\n",
      "    \"diplomes\": [\"pas de diplome\"],\n",
      "    \"spe_diplomes\": [null],\n",
      "    \"langues\": [null],\n",
      "    \"stack_technique\": [\"Python\", \"SQL\", \"Tableau\", \"Power BI\", \"Oracle BI\", \"git\"]\n",
      "  }\n",
      "}\n"
     ]
    },
    {
     "name": "stderr",
     "output_type": "stream",
     "text": [
      " 41%|████      | 345/841 [16:49<16:45,  2.03s/it]"
     ]
    },
    {
     "name": "stdout",
     "output_type": "stream",
     "text": [
      "{\n",
      "  \"poste\": {\n",
      "    \"type_contrat\": \"CDI\",\n",
      "    \"teletravail_possible\": true,\n",
      "    \"experience_pro_requise\": 3,\n",
      "    \"diplomes\": [\"Master\"],\n",
      "    \"spe_diplomes\": [\"Data science\", \"Data management\", \"Data engineering\"],\n",
      "    \"langues\": [\"Anglais\"],\n",
      "    \"stack_technique\": [\"Python\", \"R\", \"SQL\", \"Tableau\", \"Power BI\"],\n",
      "  \"teletravail_possible\": true\n",
      "  }\n",
      "}\n"
     ]
    },
    {
     "name": "stderr",
     "output_type": "stream",
     "text": [
      " 41%|████      | 346/841 [16:51<16:56,  2.05s/it]"
     ]
    },
    {
     "name": "stdout",
     "output_type": "stream",
     "text": [
      "{\n",
      "  \"poste\": {\n",
      "    \"type_contrat\": \"alternance\",\n",
      "    \"teletravail_possible\": false,\n",
      "    \"experience_pro_requise\": 1,\n",
      "    \"diplomes\": [\"Bac+3\", \"Master\"],\n",
      "    \"spe_diplomes\": [\"science des données\", \"informatique décisionnelle et statistiques\", \"Big Data\"],\n",
      "    \"langues\": [null],\n",
      "    \"stack_technique\": [\"base de données\", \"SQL\", \"ETL\", \"Talend\", \"low-code\"]\n",
      "  }\n",
      "}\n"
     ]
    },
    {
     "name": "stderr",
     "output_type": "stream",
     "text": [
      " 41%|████▏     | 347/841 [16:52<16:00,  1.94s/it]"
     ]
    },
    {
     "name": "stdout",
     "output_type": "stream",
     "text": [
      "{\n",
      "  \"poste\": {\n",
      "    \"type_contrat\": \"alternance\",\n",
      "    \"teletravail_possible\": false,\n",
      "    \"experience_pro_requise\": 1,\n",
      "    \"diplomes\": [\"pas de diplome\"],\n",
      "    \"spe_diplomes\": [\"Data Analyst\"],\n",
      "    \"langues\": [\"Anglais\", \"Francais\"],\n",
      "    \"stack_technique\": null\n",
      "  }\n",
      "}\n"
     ]
    },
    {
     "name": "stderr",
     "output_type": "stream",
     "text": [
      " 41%|████▏     | 348/841 [16:56<20:16,  2.47s/it]"
     ]
    },
    {
     "name": "stdout",
     "output_type": "stream",
     "text": [
      "{\n",
      "  \"poste\": {\n",
      "    \"type_contrat\": \"CDI\",\n",
      "    \"teletravail_possible\": false,\n",
      "    \"experience_pro_requise\": 1,\n",
      "    \"diplomes\": [\"Licence\", \"Master\", \"Doctorat\", \"autre\"],\n",
      "    \"spe_diplomes\": [\"Data Science\", \"Analytics\"],\n",
      "    \"langues\": [\"Anglais\", \"Francais\", \"autre\"],\n",
      "    \"stack_technique\": [\"SQL\", \"PostGreSQL\", \"MySQL\", \"MongoDB\", \"SSIS\", \"Talend\", \"Informatica\", \"Hadoop\", \"Spark\", \"Hive\", \"Hortonworks HDP\", \"Cloudera\", \"SQL\", \"SAS\", \"R\", \"SPSS\", \"Python\", \"C#\", \"Java\", \"QlikView\", \"QlikSense\", \"Tableau\", \"PowerBI\", \"D3.js\"]\n",
      "  }\n",
      "}\n"
     ]
    },
    {
     "name": "stderr",
     "output_type": "stream",
     "text": [
      " 41%|████▏     | 349/841 [16:58<18:59,  2.32s/it]"
     ]
    },
    {
     "name": "stdout",
     "output_type": "stream",
     "text": [
      "{\n",
      "  \"poste\": {\n",
      "    \"type_contrat\": \"Alternance\",\n",
      "    \"teletravail_possible\": false,\n",
      "    \"experience_pro_requise\": 1,\n",
      "    \"diplomes\": [\"Bac+5\"],\n",
      "    \"spe_diplomes\": [\"Business Analyse\"],\n",
      "    \"langues\": [\"Francais\"],\n",
      "    \"stack_technique\": [\"SQL\", \"SAS\", \"Microstrategy\", \"Power BI\", \"Data Warehouse\"]\n",
      "  }\n",
      "}\n"
     ]
    },
    {
     "name": "stderr",
     "output_type": "stream",
     "text": [
      " 42%|████▏     | 350/841 [17:00<17:14,  2.11s/it]"
     ]
    },
    {
     "name": "stdout",
     "output_type": "stream",
     "text": [
      "{\n",
      "  \"poste\": {\n",
      "    \"type_contrat\": \"alternance\",\n",
      "    \"teletravail_possible\": false,\n",
      "    \"experience_pro_requise\": 1,\n",
      "    \"diplomes\": [\"Licence\", \"pas de diplome\"],\n",
      "    \"spe_diplomes\": [\"Informatique\", \"Data Science\"],\n",
      "    \"langues\": [\"Anglais\", \"Francais\"],\n",
      "    \"stack_technique\": [\"SQL\", \"Excel\", \"Power BI\", \"Alteryx\", \"QGIS\"]\n",
      "  }\n",
      "}\n"
     ]
    },
    {
     "name": "stderr",
     "output_type": "stream",
     "text": [
      " 42%|████▏     | 351/841 [17:02<17:01,  2.08s/it]"
     ]
    },
    {
     "name": "stdout",
     "output_type": "stream",
     "text": [
      "{\n",
      "  \"poste\": {\n",
      "    \"type_contrat\": \"alternance\",\n",
      "    \"teletravail_possible\": true,\n",
      "    \"experience_pro_requise\": 1,\n",
      "    \"diplomes\": [\"Bac+3\", \"Bac+5\"],\n",
      "    \"spe_diplomes\": [\"informatique\", \"statistiques\", \"mathématiques\"],\n",
      "    \"langues\": [\"Anglais\"],\n",
      "    \"stack_technique\": [\"audit\", \"auditIT\", \"SI\", \"risques\", \"automatisation\", \"RPA\", \"data\"]\n",
      "  }\n",
      "}\n"
     ]
    },
    {
     "name": "stderr",
     "output_type": "stream",
     "text": [
      " 42%|████▏     | 352/841 [17:04<16:49,  2.07s/it]"
     ]
    },
    {
     "name": "stdout",
     "output_type": "stream",
     "text": [
      "{\n",
      "  \"poste\": {\n",
      "    \"type_contrat\": \"CDI\",\n",
      "    \"teletravail_possible\": false,\n",
      "    \"experience_pro_requise\": 1,\n",
      "    \"diplomes\": [\"Bac+3\", \"Bac+5\"],\n",
      "    \"spe_diplomes\": [\"Data Science\", \"IA\"],\n",
      "    \"langues\": [\"Anglais\", \"Francais\"],\n",
      "    \"stack_technique\": [\"Data Science\", \"Analyse de données\", \"Statistiques\", \"Data visualisation\"]\n",
      "  }\n",
      "}\n"
     ]
    },
    {
     "name": "stderr",
     "output_type": "stream",
     "text": [
      " 42%|████▏     | 353/841 [17:06<16:37,  2.04s/it]"
     ]
    },
    {
     "name": "stdout",
     "output_type": "stream",
     "text": [
      "{\n",
      "  \"poste\": {\n",
      "    \"type_contrat\": \"CDI\",\n",
      "    \"teletravail_possible\": true,\n",
      "    \"experience_pro_requise\": 1,\n",
      "    \"diplomes\": [\"Bac+5\"],\n",
      "    \"spe_diplomes\": [\"informatiques\", \"statistiques\"],\n",
      "    \"langues\": [\"Francais\", \"Anglais\"],\n",
      "    \"stack_technique\": [\n",
      "      \"Requête SQL\",\n",
      "      \"Excel\",\n",
      "      \"SAP Business Object\",\n",
      "      \"DigDash\",\n",
      "      \"Power BI\",\n",
      "      \"Qlik\",\n",
      "      \"tableau DigDash\"\n",
      "    ]\n",
      "  }\n",
      "}\n"
     ]
    },
    {
     "name": "stderr",
     "output_type": "stream",
     "text": [
      " 42%|████▏     | 354/841 [17:08<16:23,  2.02s/it]"
     ]
    },
    {
     "name": "stdout",
     "output_type": "stream",
     "text": [
      "{\n",
      "  \"poste\": {\n",
      "    \"type_contrat\": \"CDI\",\n",
      "    \"teletravail_possible\": false,\n",
      "    \"experience_pro_requise\": 2,\n",
      "    \"diplomes\": [\"Bac+5\"],\n",
      "    \"spe_diplomes\": [\"data\", \"traitement de données\"],\n",
      "    \"langues\": [\"Anglais\", \"Francais\"],\n",
      "    \"stack_technique\": [\"collecte et analyse de données\", \"mise en place de KPIs\", \"reporting des performances\", \"traitements automatisés de données\", \"conceptions d'algorithmes\", \"communication technique\"]\n",
      "  }\n",
      "}\n"
     ]
    },
    {
     "name": "stderr",
     "output_type": "stream",
     "text": [
      " 42%|████▏     | 355/841 [17:10<16:28,  2.03s/it]"
     ]
    },
    {
     "name": "stdout",
     "output_type": "stream",
     "text": [
      "{\n",
      "  \"poste\": {\n",
      "    \"type_contrat\": \"CDI\",\n",
      "    \"teletravail_possible\": true,\n",
      "    \"experience_pro_requise\": 5,\n",
      "    \"diplomes\": [\"Bac+5\"],\n",
      "    \"spe_diplomes\": [\"Ingénieur\", \"Université\"],\n",
      "    \"langues\": [\"Anglais\"],\n",
      "    \"stack_technique\": [\"Qlik Sense\", \"Power BI\", \"Big Data\", \"Data Visualisation\", \"Data Engineering\", \"Data Science\", \"pratiques agiles\"]\n",
      "  }\n",
      "}\n"
     ]
    },
    {
     "name": "stderr",
     "output_type": "stream",
     "text": [
      " 42%|████▏     | 356/841 [17:12<16:46,  2.08s/it]"
     ]
    },
    {
     "name": "stdout",
     "output_type": "stream",
     "text": [
      "{\n",
      "  \"poste\": {\n",
      "    \"type_contrat\": \"stage\",\n",
      "    \"teletravail_possible\": false,\n",
      "    \"experience_pro_requise\": null,\n",
      "    \"diplomes\": [\"Bac+5\"],\n",
      "    \"spe_diplomes\": [\"Informatique\", \"Data engineering\"],\n",
      "    \"langues\": [\"Francais\", \"Anglais\"],\n",
      "    \"stack_technique\": [\"Python\", \"SQL\", \"Javascript\", \"SQL Server/PostgreSQL\", \"QGIS\", \"Power BI / GDS\", \"Excel\", \"AngularJS\"]\n",
      "  }\n",
      "}\n"
     ]
    },
    {
     "name": "stderr",
     "output_type": "stream",
     "text": [
      " 42%|████▏     | 357/841 [17:14<16:43,  2.07s/it]"
     ]
    },
    {
     "name": "stdout",
     "output_type": "stream",
     "text": [
      "{\n",
      "  \"poste\": {\n",
      "    \"type_contrat\": \"CDI\",\n",
      "    \"teletravail_possible\": true,\n",
      "    \"experience_pro_requise\": 1,\n",
      "    \"diplomes\": [\"Licence\"],\n",
      "    \"spe_diplomes\": [\"informatique\", \"data science\", \"statistiques\"],\n",
      "    \"langues\": [\"Francais\", \"Anglais\"],\n",
      "    \"stack_technique\": [\"Qlik Sense\", \"Python\", \"Snowflake\", \"SQL\"]\n",
      "  }\n",
      "}\n"
     ]
    },
    {
     "name": "stderr",
     "output_type": "stream",
     "text": [
      " 43%|████▎     | 358/841 [17:16<15:42,  1.95s/it]"
     ]
    },
    {
     "name": "stdout",
     "output_type": "stream",
     "text": [
      "{\n",
      "  \"poste\": {\n",
      "    \"type_contrat\": \"CDI\",\n",
      "    \"teletravail_possible\": true,\n",
      "    \"experience_pro_requise\": 1,\n",
      "    \"diplomes\": [\"Master\", \"autre\"],\n",
      "    \"spe_diplomes\": [\"statistiques\", \"Ingénierie mathématique\", \"actuariat\", \"études quantitatives\"],\n",
      "    \"langues\": [\"Francais\", \"Anglais\"],\n",
      "    \"stack_technique\": [\"SQL\", \"MYSQL\", \"Microsoft Office\", \"Tableau\", \"Machine Learning\"]\n",
      "  }\n",
      "}\n"
     ]
    },
    {
     "name": "stderr",
     "output_type": "stream",
     "text": [
      " 43%|████▎     | 359/841 [17:17<15:00,  1.87s/it]"
     ]
    },
    {
     "name": "stdout",
     "output_type": "stream",
     "text": [
      "{\n",
      "  \"poste\": {\n",
      "    \"type_contrat\": \"alternance\",\n",
      "    \"teletravail_possible\": false,\n",
      "    \"experience_pro_requise\": 1,\n",
      "    \"diplomes\": [\"Bac+5\"],\n",
      "    \"spe_diplomes\": [\"digital\"],\n",
      "    \"langues\": [\"Anglais\", \"Francais\"],\n",
      "    \"stack_technique\": [\"Python\", \"SQL\", \"IA\", \"Gestion de projet\"]\n",
      "  }\n",
      "}\n"
     ]
    },
    {
     "name": "stderr",
     "output_type": "stream",
     "text": [
      " 43%|████▎     | 360/841 [17:19<15:01,  1.87s/it]"
     ]
    },
    {
     "name": "stdout",
     "output_type": "stream",
     "text": [
      "{\n",
      "  \"poste\": {\n",
      "    \"type_contrat\": \"CDI\",\n",
      "    \"teletravail_possible\": false,\n",
      "    \"experience_pro_requise\": 3,\n",
      "    \"diplomes\": [\"Master\"],\n",
      "    \"spe_diplomes\": [\"Statistiques\", \"Informatique\", \"Data\"],\n",
      "    \"langues\": [\"Anglais\"],\n",
      "    \"stack_technique\": [\"SQL\", \"SAS\", \"Python\", \"R\"]\n",
      "  }\n",
      "}\n"
     ]
    },
    {
     "name": "stderr",
     "output_type": "stream",
     "text": [
      " 43%|████▎     | 361/841 [17:21<14:54,  1.86s/it]"
     ]
    },
    {
     "name": "stdout",
     "output_type": "stream",
     "text": [
      "{\n",
      "  \"poste\": {\n",
      "    \"type_contrat\": \"CDI\",\n",
      "    \"teletravail_possible\": true,\n",
      "    \"experience_pro_requise\": 1,\n",
      "    \"diplomes\": [\"pas de diplome\"],\n",
      "    \"spe_diplomes\": [null],\n",
      "    \"langues\": [\"Anglais\", \"Francais\"],\n",
      "    \"stack_technique\": [\"SQL\", \"Python\", \"R\", \"Tableau\", \"Power BI\"]\n",
      "  }\n",
      "}\n"
     ]
    },
    {
     "name": "stderr",
     "output_type": "stream",
     "text": [
      " 43%|████▎     | 362/841 [17:23<15:14,  1.91s/it]"
     ]
    },
    {
     "name": "stdout",
     "output_type": "stream",
     "text": [
      "{\n",
      "  \"poste\": {\n",
      "    \"type_contrat\": \"CDI\",\n",
      "    \"teletravail_possible\": true,\n",
      "    \"experience_pro_requise\": 2,\n",
      "    \"diplomes\": [\"Bac+5\"],\n",
      "    \"spe_diplomes\": [\"Informatique\"],\n",
      "    \"langues\": [\"Anglais\", \"Francais\", \"autre\"],\n",
      "    \"stack_technique\": [\"SQL\", \"GCP\", \"BigQuery\", \"Google Data Studio\"]\n",
      "  }\n",
      "}\n"
     ]
    },
    {
     "name": "stderr",
     "output_type": "stream",
     "text": [
      " 43%|████▎     | 363/841 [17:25<16:10,  2.03s/it]"
     ]
    },
    {
     "name": "stdout",
     "output_type": "stream",
     "text": [
      "{\n",
      "  \"poste\": {\n",
      "    \"type_contrat\": \"CDD\",\n",
      "    \"teletravail_possible\": true,\n",
      "    \"experience_pro_requise\": 1,\n",
      "    \"diplomes\": [\"Bac+5\"],\n",
      "    \"spe_diplomes\": [null],\n",
      "    \"langues\": [null],\n",
      "    \"stack_technique\": [null]\n",
      "  }\n",
      "}\n"
     ]
    },
    {
     "name": "stderr",
     "output_type": "stream",
     "text": [
      " 43%|████▎     | 364/841 [17:27<14:54,  1.88s/it]"
     ]
    },
    {
     "name": "stdout",
     "output_type": "stream",
     "text": [
      "{\n",
      "  \"poste\": {\n",
      "    \"type_contrat\": \"stage\",\n",
      "    \"teletravail_possible\": false,\n",
      "    \"experience_pro_requise\": 1,\n",
      "    \"diplomes\": [\"pas de diplome\"],\n",
      "    \"spe_diplomes\": [null],\n",
      "    \"langues\": [\"Anglais\", \"Francais\", \"autre\"],\n",
      "    \"stack_technique\": [\"Tableau\"]\n",
      "  }\n",
      "}\n"
     ]
    },
    {
     "name": "stderr",
     "output_type": "stream",
     "text": [
      " 43%|████▎     | 365/841 [17:30<18:28,  2.33s/it]"
     ]
    },
    {
     "name": "stdout",
     "output_type": "stream",
     "text": [
      "{\n",
      "  \"poste\": {\n",
      "    \"type_contrat\": \"CDD\",\n",
      "    \"teletravail_possible\": false,\n",
      "    \"experience_pro_requise\": 1,\n",
      "    \"diplomes\": [\"Licence\", \"Master\"],\n",
      "    \"spe_diplomes\": [\"Big Data\", \"Analyse de données\", \"Gestion et Traitement Informatique de Données Massives\"],\n",
      "    \"langues\": [\"Anglais\"],\n",
      "    \"stack_technique\": [\"développement informatique\"],\n",
      "    \"autres\": {\n",
      "      \"habilitation_requise\": true,\n",
      "      \"age_requis\": \"Entre 18 et 26 ans\",\n",
      "      \"parcours_recrutement\": [\"Candidature sur lamarinerecrute.fr\", \"Entretien de motivation\", \"Tests d'aptitudes\", \"Entretien avec l'unité\", \"Affectation en unité\"]\n",
      "    }\n",
      "  }\n",
      "}\n"
     ]
    },
    {
     "name": "stderr",
     "output_type": "stream",
     "text": [
      " 44%|████▎     | 366/841 [17:32<17:22,  2.20s/it]"
     ]
    },
    {
     "name": "stdout",
     "output_type": "stream",
     "text": [
      "{\n",
      "  \"poste\": {\n",
      "    \"type_contrat\": \"CDI\",\n",
      "    \"teletravail_possible\": true,\n",
      "    \"experience_pro_requise\": 2,\n",
      "    \"diplomes\": [\"Bac+3\", \"Bac+5\"],\n",
      "    \"spe_diplomes\": [\"Statistiques\"],\n",
      "    \"langues\": [\"Anglais\"],\n",
      "    \"stack_technique\": [\"Google Cloud Platform\", \"SQL\", \"Python\", \"Pandas\", \"Scikit learn\", \"Git\"]\n",
      "  }\n",
      "}\n"
     ]
    },
    {
     "name": "stderr",
     "output_type": "stream",
     "text": [
      " 44%|████▎     | 367/841 [17:34<15:59,  2.03s/it]"
     ]
    },
    {
     "name": "stdout",
     "output_type": "stream",
     "text": [
      "{\n",
      "  \"poste\": {\n",
      "    \"type_contrat\": null,\n",
      "    \"teletravail_possible\": null,\n",
      "    \"experience_pro_requise\": 1,\n",
      "    \"diplomes\": [\"pas de diplome\"],\n",
      "    \"spe_diplomes\": [null],\n",
      "    \"langues\": [null],\n",
      "    \"stack_technique\": [null]\n",
      "  }\n",
      "}\n"
     ]
    },
    {
     "name": "stderr",
     "output_type": "stream",
     "text": [
      " 44%|████▍     | 368/841 [17:36<15:57,  2.02s/it]"
     ]
    },
    {
     "name": "stdout",
     "output_type": "stream",
     "text": [
      "{\n",
      "  \"poste\": {\n",
      "    \"type_contrat\": \"CDI\",\n",
      "    \"teletravail_possible\": false,\n",
      "    \"experience_pro_requise\": 2,\n",
      "    \"diplomes\": [\"pas de diplome\"],\n",
      "    \"spe_diplomes\": null,\n",
      "    \"langues\": [\"Francais\", \"Anglais\"],\n",
      "    \"stack_technique\": [\"Excel/Gsheets\", \"SQL\", \"Tableau\", \"Python\"]\n",
      "  }\n",
      "}\n"
     ]
    },
    {
     "name": "stderr",
     "output_type": "stream",
     "text": [
      " 44%|████▍     | 369/841 [17:38<16:02,  2.04s/it]"
     ]
    },
    {
     "name": "stdout",
     "output_type": "stream",
     "text": [
      "{\n",
      "  \"poste\": {\n",
      "    \"type_contrat\": \"alternance\",\n",
      "    \"teletravail_possible\": false,\n",
      "    \"experience_pro_requise\": 1,\n",
      "    \"diplomes\": [\"Bac+3\", \"Bac+5\"],\n",
      "    \"spe_diplomes\": [\"Marketing\"],\n",
      "    \"langues\": [\"Anglais\"],\n",
      "    \"stack_technique\": [\"NPS\", \"Marketing omnicanales\", \"Analyse de données\"]\n",
      "  }\n",
      "}\n"
     ]
    },
    {
     "name": "stderr",
     "output_type": "stream",
     "text": [
      " 44%|████▍     | 370/841 [17:40<15:50,  2.02s/it]"
     ]
    },
    {
     "name": "stdout",
     "output_type": "stream",
     "text": [
      "{\n",
      "  \"poste\": {\n",
      "    \"type_contrat\": \"CDI\",\n",
      "    \"teletravail_possible\": false,\n",
      "    \"experience_pro_requise\": 1,\n",
      "    \"diplomes\": [\"Bac+3\"],\n",
      "    \"spe_diplomes\": [\"Informatique décisionnelle\", \"Data analyst\"],\n",
      "    \"langues\": [null],\n",
      "    \"stack_technique\": [\"ETL\", \"Talend\", \"MSSQL\", \"MYSQL\", \"POSTGRESQL\", \"Oracle\"]\n",
      "  }\n",
      "}\n"
     ]
    },
    {
     "name": "stderr",
     "output_type": "stream",
     "text": [
      " 44%|████▍     | 371/841 [17:43<18:07,  2.31s/it]"
     ]
    },
    {
     "name": "stdout",
     "output_type": "stream",
     "text": [
      "{\n",
      "  \"poste\": {\n",
      "    \"type_contrat\": \"CDI\",\n",
      "    \"teletravail_possible\": true,\n",
      "    \"experience_pro_requise\": 1,\n",
      "    \"diplomes\": [\"Bac+5\"],\n",
      "    \"spe_diplomes\": null,\n",
      "    \"langues\": [\"Francais\", \"Anglais\", \"autre\"],\n",
      "    \"stack_technique\": [\"SAS\", \"Python\", \"statistiques\"]\n",
      "  }\n",
      "}\n"
     ]
    },
    {
     "name": "stderr",
     "output_type": "stream",
     "text": [
      " 44%|████▍     | 372/841 [17:46<21:00,  2.69s/it]"
     ]
    },
    {
     "name": "stdout",
     "output_type": "stream",
     "text": [
      "{\n",
      "  \"poste\": {\n",
      "    \"type_contrat\": \"CDI\",\n",
      "    \"teletravail_possible\": true,\n",
      "    \"experience_pro_requise\": 2,\n",
      "    \"diplomes\": [\"Bac+3\", \"Bac+5\"],\n",
      "    \"spe_diplomes\": [\"Informatique\"],\n",
      "    \"langues\": [\"Anglais\", \"Francais\"],\n",
      "    \"stack_technique\": [\"ERP\", \"WMS\", \"Business Intelligence\", \"PIM\"]\n",
      "  }\n",
      "}\n"
     ]
    },
    {
     "name": "stderr",
     "output_type": "stream",
     "text": [
      " 44%|████▍     | 373/841 [17:49<19:40,  2.52s/it]"
     ]
    },
    {
     "name": "stdout",
     "output_type": "stream",
     "text": [
      "{\n",
      "  \"poste\": {\n",
      "    \"type_contrat\": \"alternance\",\n",
      "    \"teletravail_possible\": false,\n",
      "    \"experience_pro_requise\": 1,\n",
      "    \"diplomes\": [\"Bac+3\", \"Bac+4\", \"Bac+5\"],\n",
      "    \"spe_diplomes\": [\"mathématiques\", \"statistiques\", \"informatique\"],\n",
      "    \"langues\": [\"Francais\"],\n",
      "    \"stack_technique\": [\"SQL\", \"Python\", \"Javascript\"]\n",
      "  }\n",
      "}\n"
     ]
    },
    {
     "name": "stderr",
     "output_type": "stream",
     "text": [
      " 44%|████▍     | 374/841 [17:51<18:57,  2.43s/it]"
     ]
    },
    {
     "name": "stdout",
     "output_type": "stream",
     "text": [
      "{\n",
      "  \"poste\": {\n",
      "    \"type_contrat\": \"CDI\",\n",
      "    \"teletravail_possible\": true,\n",
      "    \"experience_pro_requise\": 3,\n",
      "    \"diplomes\": [\"Bac+3\", \"Bac+5\"],\n",
      "    \"spe_diplomes\": [\"Marketing\", \"Statistique\", \"Informatique\"],\n",
      "    \"langues\": [\"Anglais\", \"Francais\"],\n",
      "    \"stack_technique\": [\"Excel\", \"SAS\", \"SQL\", \"QlikSense\", \"QlikView\", \"Dataiku\"]\n",
      "  }\n",
      "}\n"
     ]
    },
    {
     "name": "stderr",
     "output_type": "stream",
     "text": [
      " 45%|████▍     | 375/841 [17:53<17:27,  2.25s/it]"
     ]
    },
    {
     "name": "stdout",
     "output_type": "stream",
     "text": [
      "{\n",
      "  \"poste\": {\n",
      "    \"type_contrat\": \"CDI\",\n",
      "    \"teletravail_possible\": true,\n",
      "    \"experience_pro_requise\": 1,\n",
      "    \"diplomes\": [\"Bac+5\"],\n",
      "    \"spe_diplomes\": [\"Mathématiques\", \"Statistiques\", \"Informatique\"],\n",
      "    \"langues\": [\"Anglais\"],\n",
      "    \"stack_technique\": [\"Python\"]\n",
      "  }\n",
      "}\n"
     ]
    },
    {
     "name": "stderr",
     "output_type": "stream",
     "text": [
      " 45%|████▍     | 376/841 [17:55<17:10,  2.22s/it]"
     ]
    },
    {
     "name": "stdout",
     "output_type": "stream",
     "text": [
      "{\n",
      "  \"poste\": {\n",
      "    \"type_contrat\": \"alternance\",\n",
      "    \"teletravail_possible\": true,\n",
      "    \"experience_pro_requise\": 1,\n",
      "    \"diplomes\": [\"Master\"],\n",
      "    \"spe_diplomes\": [\"Data Science\", \"Marketing\", \"Communication Digitale\"],\n",
      "    \"langues\": [\"Francais\", \"Anglais\", \"Espagnol\", \"Italien\", \"autre\"],\n",
      "    \"stack_technique\": [\"Canva\", \"WordPress\", \"MailJet\", \"SalesForce\", \"Pardot\", \"Adobe Suite\", \"SEO\", \"SEA\", \"Google Business\", \"Google Maps\", \"Apple Maps\", \"Matomo\"]\n",
      "  }\n",
      "}\n"
     ]
    },
    {
     "name": "stderr",
     "output_type": "stream",
     "text": [
      " 45%|████▍     | 377/841 [17:57<15:57,  2.06s/it]"
     ]
    },
    {
     "name": "stdout",
     "output_type": "stream",
     "text": [
      "{\n",
      "  \"poste\": {\n",
      "    \"type_contrat\": \"alternance\",\n",
      "    \"teletravail_possible\": false,\n",
      "    \"experience_pro_requise\": 1,\n",
      "    \"diplomes\": [\"Bac+5\"],\n",
      "    \"spe_diplomes\": [\"digital\"],\n",
      "    \"langues\": [\"Anglais\", \"Francais\"],\n",
      "    \"stack_technique\": [\"Python\", \"SQL\"]\n",
      "  }\n",
      "}\n"
     ]
    },
    {
     "name": "stderr",
     "output_type": "stream",
     "text": [
      " 45%|████▍     | 378/841 [17:59<17:23,  2.25s/it]"
     ]
    },
    {
     "name": "stdout",
     "output_type": "stream",
     "text": [
      "{\n",
      "  \"poste\": {\n",
      "    \"type_contrat\": \"alternance\",\n",
      "    \"teletravail_possible\": false,\n",
      "    \"experience_pro_requise\": 1,\n",
      "    \"diplomes\": [null],\n",
      "    \"spe_diplomes\": [\"école de commerce\", \"école d’ingénieur\"],\n",
      "    \"langues\": [null],\n",
      "    \"stack_technique\": [\"Excel\", \"Powerpoint\", \"Qlikview\"]\n",
      "  }\n",
      "}\n"
     ]
    },
    {
     "name": "stderr",
     "output_type": "stream",
     "text": [
      " 45%|████▌     | 379/841 [18:01<15:44,  2.04s/it]"
     ]
    },
    {
     "name": "stdout",
     "output_type": "stream",
     "text": [
      "{\n",
      "  \"poste\": {\n",
      "    \"type_contrat\": \"CDI\",\n",
      "    \"teletravail_possible\": true,\n",
      "    \"experience_pro_requise\": 5,\n",
      "    \"diplomes\": [\"Bac+5\"],\n",
      "    \"spe_diplomes\": [\"informatique\"],\n",
      "    \"langues\": [null],\n",
      "    \"stack_technique\": [\"SQL\", \"Qlik\", \"Snowflakel\", \"Gitlab\"]\n",
      "  }\n",
      "}\n"
     ]
    },
    {
     "name": "stderr",
     "output_type": "stream",
     "text": [
      " 45%|████▌     | 380/841 [18:02<14:53,  1.94s/it]"
     ]
    },
    {
     "name": "stdout",
     "output_type": "stream",
     "text": [
      "{\n",
      "  \"poste\": {\n",
      "    \"type_contrat\": \"alternance\",\n",
      "    \"teletravail_possible\": false,\n",
      "    \"experience_pro_requise\": 1,\n",
      "    \"diplomes\": [\"Bac+3\", \"Bac+5\"],\n",
      "    \"spe_diplomes\": [\"Marketing\"],\n",
      "    \"langues\": [\"Anglais\"],\n",
      "    \"stack_technique\": null\n",
      "  }\n",
      "}\n"
     ]
    },
    {
     "name": "stderr",
     "output_type": "stream",
     "text": [
      " 45%|████▌     | 381/841 [18:04<14:59,  1.96s/it]"
     ]
    },
    {
     "name": "stdout",
     "output_type": "stream",
     "text": [
      "{\n",
      "  \"poste\": {\n",
      "    \"type_contrat\": \"alternance\",\n",
      "    \"teletravail_possible\": true,\n",
      "    \"experience_pro_requise\": 1,\n",
      "    \"diplomes\": [\"Bac+5\"],\n",
      "    \"spe_diplomes\": [\"Finance\", \"Banque\", \"Informatique\", \"Data\"],\n",
      "    \"langues\": [\"Anglais\"],\n",
      "    \"stack_technique\": [\"Excel\", \"Power BI\"]\n",
      "  }\n",
      "}\n"
     ]
    },
    {
     "name": "stderr",
     "output_type": "stream",
     "text": [
      " 45%|████▌     | 382/841 [18:06<14:18,  1.87s/it]"
     ]
    },
    {
     "name": "stdout",
     "output_type": "stream",
     "text": [
      "{\n",
      "  \"poste\": {\n",
      "    \"type_contrat\": \"alternance\",\n",
      "    \"teletravail_possible\": false,\n",
      "    \"experience_pro_requise\": 1,\n",
      "    \"diplomes\": [\"pas de diplome\"],\n",
      "    \"spe_diplomes\": [\"Data Analyst\"],\n",
      "    \"langues\": [null],\n",
      "    \"stack_technique\": [\"Excel\", \"Power BI\"]\n",
      "  }\n",
      "}\n"
     ]
    },
    {
     "name": "stderr",
     "output_type": "stream",
     "text": [
      " 46%|████▌     | 383/841 [18:08<14:34,  1.91s/it]"
     ]
    },
    {
     "name": "stdout",
     "output_type": "stream",
     "text": [
      "{\n",
      "  \"poste\": {\n",
      "    \"type_contrat\": \"CDI\",\n",
      "    \"teletravail_possible\": true,\n",
      "    \"experience_pro_requise\": 5,\n",
      "    \"diplomes\": [\"Bac+5\"],\n",
      "    \"spe_diplomes\": [\"sciences\", \"business\"],\n",
      "    \"langues\": [\"Anglais\", \"Francais\"],\n",
      "    \"stack_technique\": [\"Sales Force CRM\", \"SQL\", \"Python\", \"Tableau\"]\n",
      "  }\n",
      "}\n"
     ]
    },
    {
     "name": "stderr",
     "output_type": "stream",
     "text": [
      " 46%|████▌     | 384/841 [18:12<18:46,  2.46s/it]"
     ]
    },
    {
     "name": "stdout",
     "output_type": "stream",
     "text": [
      "{\n",
      "  \"poste\": {\n",
      "    \"type_contrat\": \"CDI\",\n",
      "    \"teletravail_possible\": null,\n",
      "    \"experience_pro_requise\": 2,\n",
      "    \"diplomes\": [\"Bac+3\"],\n",
      "    \"spe_diplomes\": [\"Analyse de données\"],\n",
      "    \"langues\": [\"Anglais\", \"Francais\"],\n",
      "    \"stack_technique\": null\n",
      "  }\n",
      "}\n"
     ]
    },
    {
     "name": "stderr",
     "output_type": "stream",
     "text": [
      " 46%|████▌     | 385/841 [18:19<29:11,  3.84s/it]"
     ]
    },
    {
     "name": "stdout",
     "output_type": "stream",
     "text": [
      "{\n",
      "  \"poste\": {\n",
      "    \"type_contrat\": \"alternance\",\n",
      "    \"teletravail_possible\": false,\n",
      "    \"experience_pro_requise\": 1,\n",
      "    \"diplomes\": [\"Bac+5\"],\n",
      "    \"spe_diplomes\": [\"informatique\"],\n",
      "    \"langues\": [\"Anglais\", \"Francais\"],\n",
      "    \"stack_technique\": [\"data science\", \"développement\"]\n",
      "  }\n",
      "}\n"
     ]
    },
    {
     "name": "stderr",
     "output_type": "stream",
     "text": [
      " 46%|████▌     | 386/841 [18:22<28:28,  3.76s/it]"
     ]
    },
    {
     "name": "stdout",
     "output_type": "stream",
     "text": [
      "{\n",
      "  \"poste\": {\n",
      "    \"type_contrat\": \"alternance\",\n",
      "    \"teletravail_possible\": false,\n",
      "    \"experience_pro_requise\": 1,\n",
      "    \"diplomes\": [\"Licence\", \"Master\", \"Doctorat\", \"Bac+3\", \"Bac+5\", \"Bac+7\", \"pas de diplome\", \"autre\"],\n",
      "    \"spe_diplomes\": [],\n",
      "    \"langues\": [null],\n",
      "    \"stack_technique\": [null]\n",
      "  }\n",
      "}\n"
     ]
    },
    {
     "name": "stderr",
     "output_type": "stream",
     "text": [
      " 46%|████▌     | 387/841 [18:25<24:40,  3.26s/it]"
     ]
    },
    {
     "name": "stdout",
     "output_type": "stream",
     "text": [
      "{\n",
      "  \"poste\": {\n",
      "    \"type_contrat\": \"alternance\",\n",
      "    \"teletravail_possible\": false,\n",
      "    \"experience_pro_requise\": 1,\n",
      "    \"diplomes\": [\"Master\"],\n",
      "    \"spe_diplomes\": [\"Data Science\", \"Ingénierie\"],\n",
      "    \"langues\": [\"Anglais\"],\n",
      "    \"stack_technique\": [\"Python\", \"SQL\", \"Microsoft Excel\", \"Microsoft Power Apps\", \"Power BI\"]\n",
      "  }\n",
      "}\n"
     ]
    },
    {
     "name": "stderr",
     "output_type": "stream",
     "text": [
      " 46%|████▌     | 388/841 [18:27<21:39,  2.87s/it]"
     ]
    },
    {
     "name": "stdout",
     "output_type": "stream",
     "text": [
      "{\n",
      "  \"poste\": {\n",
      "    \"type_contrat\": \"CDI\",\n",
      "    \"teletravail_possible\": true,\n",
      "    \"experience_pro_requise\": 5,\n",
      "    \"diplomes\": [\"Bac+5\"],\n",
      "    \"spe_diplomes\": [\"informatique\"],\n",
      "    \"langues\": [\"Anglais\"],\n",
      "    \"stack_technique\": [\"QRadar\", \"SOAR/SIRP\", \"Proofpoint TAP\", \"Zscaler\", \"EDR\"]\n",
      "  }\n",
      "}\n"
     ]
    },
    {
     "name": "stderr",
     "output_type": "stream",
     "text": [
      " 46%|████▋     | 389/841 [18:29<19:40,  2.61s/it]"
     ]
    },
    {
     "name": "stdout",
     "output_type": "stream",
     "text": [
      "{\n",
      "  \"poste\": {\n",
      "    \"type_contrat\": \"freelance\",\n",
      "    \"teletravail_possible\": false,\n",
      "    \"experience_pro_requise\": null,\n",
      "    \"diplomes\": [null],\n",
      "    \"spe_diplomes\": [null],\n",
      "    \"langues\": [null],\n",
      "    \"stack_technique\": [\n",
      "      \"Azure DevOps\",\n",
      "      \"Git\",\n",
      "      \"ETL\",\n",
      "      \"Microsoft Azure DataFactory\",\n",
      "      \"Power BI\",\n",
      "      \"SAP BO\"\n",
      "    ]\n",
      "  }\n",
      "}\n"
     ]
    },
    {
     "name": "stderr",
     "output_type": "stream",
     "text": [
      " 46%|████▋     | 390/841 [18:31<20:03,  2.67s/it]"
     ]
    },
    {
     "name": "stdout",
     "output_type": "stream",
     "text": [
      "{\n",
      "  \"poste\": {\n",
      "    \"type_contrat\": \"CDI\",\n",
      "    \"teletravail_possible\": true,\n",
      "    \"experience_pro_requise\": 1,\n",
      "    \"diplomes\": [\"pas de diplome\"],\n",
      "    \"spe_diplomes\": [null],\n",
      "    \"langues\": [null],\n",
      "    \"stack_technique\": [\"Spark\", \"Hive\", \"Hadoop\", \"NiFi\", \"Kafka\", \"Elastic\", \"Kibana\", \"Scala\", \"Python\", \"Java\", \"Devops\", \"CI/CD\", \"microservice\", \"API\", \"modèle en étoile\", \"modèle Data Vault\", \"architecture technique Big Data\"]\n",
      "  }\n",
      "}\n"
     ]
    },
    {
     "name": "stderr",
     "output_type": "stream",
     "text": [
      " 46%|████▋     | 391/841 [18:34<18:58,  2.53s/it]"
     ]
    },
    {
     "name": "stdout",
     "output_type": "stream",
     "text": [
      "{\n",
      "  \"poste\": {\n",
      "    \"type_contrat\": \"CDI\",\n",
      "    \"teletravail_possible\": true,\n",
      "    \"experience_pro_requise\": 3,\n",
      "    \"diplome\": \"Bac+5\",\n",
      "    \"spe_diplome\": [\"Informatique\", \"Ingénierie des données\"],\n",
      "    \"langue\": [\"Anglais\", \"Francais\"],\n",
      "    \"stack_technique\": [\"Big Data\", \"Scala\", \"Spark\", \"HDFS\", \"Kubernetes\", \"OpenShift\", \"MySQL\", \"Airflow\", \"GitLab\", \"DockerHub\"]\n",
      "  }\n",
      "}\n"
     ]
    },
    {
     "name": "stderr",
     "output_type": "stream",
     "text": [
      " 47%|████▋     | 392/841 [18:35<17:13,  2.30s/it]"
     ]
    },
    {
     "name": "stdout",
     "output_type": "stream",
     "text": [
      "{\n",
      "  \"poste\": {\n",
      "    \"type_contrat\": \"alternance\",\n",
      "    \"teletravail_possible\": false,\n",
      "    \"experience_pro_requise\": 1,\n",
      "    \"diplomes\": [\"Bac+5\"],\n",
      "    \"spe_diplomes\": [\"Ingénieur\"],\n",
      "    \"langues\": [\"Anglais\", \"Francais\"],\n",
      "    \"stack_technique\": [\n",
      "      \"SQL\",\n",
      "      \"No SQL\",\n",
      "      \"Python\",\n",
      "      \"Java\",\n",
      "      \"Spark\"\n",
      "    ]\n",
      "  }\n",
      "}\n"
     ]
    },
    {
     "name": "stderr",
     "output_type": "stream",
     "text": [
      " 47%|████▋     | 393/841 [18:37<15:58,  2.14s/it]"
     ]
    },
    {
     "name": "stdout",
     "output_type": "stream",
     "text": [
      "{\n",
      "  \"poste\": {\n",
      "    \"type_contrat\": \"CDI\",\n",
      "    \"teletravail_possible\": true,\n",
      "    \"experience_pro_requise\": 3,\n",
      "    \"diplomes\": [\"pas de diplome\"],\n",
      "    \"spe_diplomes\": [null],\n",
      "    \"langues\": [\"Anglais\", \"Francais\"],\n",
      "    \"stack_technique\": [\"DATABRICKS\", \"Python\", \"SQL\", \"Spark\", \"Airflow\"]\n",
      "  }\n",
      "}\n"
     ]
    },
    {
     "name": "stderr",
     "output_type": "stream",
     "text": [
      " 47%|████▋     | 394/841 [18:39<14:55,  2.00s/it]"
     ]
    },
    {
     "name": "stdout",
     "output_type": "stream",
     "text": [
      "{\n",
      "  \"poste\": {\n",
      "    \"type_contrat\": \"alternance\",\n",
      "    \"teletravail_possible\": false,\n",
      "    \"experience_pro_requise\": 1,\n",
      "    \"diplomes\": [\"Master\", \"autre\"],\n",
      "    \"spe_diplomes\": [\"système d'information\"],\n",
      "    \"langues\": [\"Anglais\"],\n",
      "    \"stack_technique\": [\"python\", \"SQL\", \"NoSQL\", \"Power BI\", \"SAP BO\", \"API\"]\n",
      "  }\n",
      "}\n"
     ]
    },
    {
     "name": "stderr",
     "output_type": "stream",
     "text": [
      " 47%|████▋     | 395/841 [18:40<14:11,  1.91s/it]"
     ]
    },
    {
     "name": "stdout",
     "output_type": "stream",
     "text": [
      "{\n",
      "  \"poste\": {\n",
      "    \"type_contrat\": \"CDI\",\n",
      "    \"teletravail_possible\": null,\n",
      "    \"experience_pro_requise\": 3,\n",
      "    \"diplomes\": [\"Bac+5\"],\n",
      "    \"spe_diplomes\": [],\n",
      "    \"langues\": [\"Anglais\"],\n",
      "    \"stack_technique\": [\"Data Lake\", \"Data Warehouse\", \"sécurité des données\"]\n",
      "  }\n",
      "}\n"
     ]
    },
    {
     "name": "stderr",
     "output_type": "stream",
     "text": [
      " 47%|████▋     | 396/841 [18:44<17:59,  2.42s/it]"
     ]
    },
    {
     "name": "stdout",
     "output_type": "stream",
     "text": [
      "{\n",
      "  \"poste\": {\n",
      "    \"type_contrat\": \"alternance\",\n",
      "    \"teletravail_possible\": false,\n",
      "    \"experience_pro_requise\": 1,\n",
      "    \"diplomes\": [\"Bac+4\"],\n",
      "    \"spe_diplomes\": [\"Data Science\", \"Informatique\"],\n",
      "    \"langues\": [\"Anglais\", \"Francais\"],\n",
      "    \"stack_technique\": [\"PostgreSQL\", \"MongoDB\", \"SQL Server\", \"MySQL\", \"WSO2\", \"SSIS\", \"Talend\", \"Biwee\", \"Power BI\", \"PL/pgSQL\", \"Java\", \"Python\", \"PowerShell\"]\n",
      "  }\n",
      "}\n"
     ]
    },
    {
     "name": "stderr",
     "output_type": "stream",
     "text": [
      " 47%|████▋     | 397/841 [18:46<16:48,  2.27s/it]"
     ]
    },
    {
     "name": "stdout",
     "output_type": "stream",
     "text": [
      "{\n",
      "  \"poste\": {\n",
      "    \"type_contrat\": \"CDI\",\n",
      "    \"teletravail_possible\": true,\n",
      "    \"experience_pro_requise\": 3,\n",
      "    \"diplomes\": [\"Master\"],\n",
      "    \"spe_diplomes\": [\"informatique\", \"statistiques\", \"sciences des données\"],\n",
      "    \"langues\": [\"Francais\", \"Anglais\"],\n",
      "    \"stack_technique\": [\"DBT (Data Build Tool)\", \"SQL (BigQuery)\", \"Python\", \"Metabase\", \"Airbyte\"],\n",
      "  \"salaires\": {\n",
      "    \"min\": 45000.00,\n",
      "    \"max\": 55000.00\n",
      "  }\n",
      "  }\n",
      "}\n"
     ]
    },
    {
     "name": "stderr",
     "output_type": "stream",
     "text": [
      " 47%|████▋     | 398/841 [18:48<15:51,  2.15s/it]"
     ]
    },
    {
     "name": "stdout",
     "output_type": "stream",
     "text": [
      "{\n",
      "  \"poste\": {\n",
      "    \"type_contrat\": \"CDI\",\n",
      "    \"teletravail_possible\": null,\n",
      "    \"experience_pro_requise\": 3,\n",
      "    \"diplomes\": [\"pas de diplome\"],\n",
      "    \"spe_diplomes\": [null],\n",
      "    \"langues\": [\"Anglais\"],\n",
      "    \"stack_technique\": [\"Python\", \"Pandas\", \"Scirpting Big Data\", \"Jenkins\", \"Maven\", \"Ansible\"]\n",
      "  }\n",
      "}\n"
     ]
    },
    {
     "name": "stderr",
     "output_type": "stream",
     "text": [
      " 47%|████▋     | 399/841 [18:49<14:05,  1.91s/it]"
     ]
    },
    {
     "name": "stdout",
     "output_type": "stream",
     "text": [
      "{\n",
      "  \"poste\": {\n",
      "    \"type_contrat\": \"CDI\",\n",
      "    \"teletravail_possible\": true,\n",
      "    \"experience_pro_requise\": 3,\n",
      "    \"diplomes\": [\"pas de diplome\"],\n",
      "    \"spe_diplomes\": [null],\n",
      "    \"langues\": [null],\n",
      "    \"stack_technique\": [\"Python\", \"Scala\", \"Hadoop\", \"Spark\", \"Git\", \"Jenkins\", \"Ansible\"]\n",
      "  }\n",
      "}\n"
     ]
    },
    {
     "name": "stderr",
     "output_type": "stream",
     "text": [
      " 48%|████▊     | 400/841 [18:51<14:10,  1.93s/it]"
     ]
    },
    {
     "name": "stdout",
     "output_type": "stream",
     "text": [
      "{\n",
      "  \"poste\": {\n",
      "    \"type_contrat\": \"CDI\",\n",
      "    \"teletravail_possible\": false,\n",
      "    \"experience_pro_requise\": 5,\n",
      "    \"diplomes\": [\"pas de diplome\"],\n",
      "    \"spe_diplomes\": [null],\n",
      "    \"langues\": [\"Anglais\", \"Francais\"],\n",
      "    \"stack_technique\": [\"Python\", \"API\", \"Technologies Big Data\", \"AWS\"]\n",
      "  }\n",
      "}\n"
     ]
    },
    {
     "name": "stderr",
     "output_type": "stream",
     "text": [
      " 48%|████▊     | 401/841 [18:53<14:24,  1.96s/it]"
     ]
    },
    {
     "name": "stdout",
     "output_type": "stream",
     "text": [
      "{\n",
      "  \"poste\": {\n",
      "    \"type_contrat\": null,\n",
      "    \"teletravail_possible\": null,\n",
      "    \"experience_pro_requise\": null,\n",
      "    \"diplomes\": [null],\n",
      "    \"spe_diplomes\": [null],\n",
      "    \"langues\": [null],\n",
      "    \"stack_technique\": [\"Data Engineering\", \"collecte de données\", \"organisation de données\", \"stockage de données\", \"diffusion de données\", \"maintenance\", \"conception\", \"modélisation\", \"développement\", \"tests unitaires\", \"déploiement\", \"gestion de la documentation\", \"communication\"]\n",
      "  }\n",
      "}\n"
     ]
    },
    {
     "name": "stderr",
     "output_type": "stream",
     "text": [
      " 48%|████▊     | 402/841 [18:56<16:26,  2.25s/it]"
     ]
    },
    {
     "name": "stdout",
     "output_type": "stream",
     "text": [
      "{\n",
      "  \"poste\": {\n",
      "    \"type_contrat\": \"CDI\",\n",
      "    \"teletravail_possible\": true,\n",
      "    \"experience_pro_requise\": 3,\n",
      "    \"diplomes\": [\"Licence\"],\n",
      "    \"spe_diplomes\": [\"Computer Science\", \"Data related\"],\n",
      "    \"langues\": [\"Anglais\"],\n",
      "    \"stack_technique\": [\"Python\", \"API\", \"Microservices\", \"PostgreSQL\", \"MongoDB\", \"NoSQL\", \"AWS\", \"Azure\", \"GCP\", \"Airflow\", \"Luigi\", \"Kedro\", \"Tableu\", \"Alteryx\", \"Celonis\", \"Angular\", \"React\"]\n",
      "  }\n",
      "}\n"
     ]
    },
    {
     "name": "stderr",
     "output_type": "stream",
     "text": [
      " 48%|████▊     | 403/841 [18:59<17:37,  2.41s/it]"
     ]
    },
    {
     "name": "stdout",
     "output_type": "stream",
     "text": [
      "{\n",
      "  \"poste\": {\n",
      "    \"type_contrat\": \"CDI\",\n",
      "    \"teletravail_possible\": true,\n",
      "    \"experience_pro_requise\": 1,\n",
      "    \"diplomes\": [\"Bac+3\", \"autre\"],\n",
      "    \"spe_diplomes\": [\"informatique\"],\n",
      "    \"langues\": [\"Anglais\", \"Francais\", \"autre\"],\n",
      "    \"stack_technique\": [\n",
      "      \"Spark\",\n",
      "      \"Hive\",\n",
      "      \"Hadoop\",\n",
      "      \"NiFi\",\n",
      "      \"Kafka\",\n",
      "      \"Elastic\",\n",
      "      \"Kibana\",\n",
      "      \"Scala\",\n",
      "      \"Python\",\n",
      "      \"Java\",\n",
      "      \"Devops\",\n",
      "      \"CI/CD\",\n",
      "      \"microservice\",\n",
      "      \"API\",\n",
      "      \"modèle en étoile\",\n",
      "      \"modèle Data Vault\",\n",
      "      \"architecture technique Big Data\"\n",
      "    ]\n",
      "  }\n",
      "}\n"
     ]
    },
    {
     "name": "stderr",
     "output_type": "stream",
     "text": [
      " 48%|████▊     | 404/841 [19:01<17:46,  2.44s/it]"
     ]
    },
    {
     "name": "stdout",
     "output_type": "stream",
     "text": [
      "{\n",
      "  \"poste\": {\n",
      "    \"type_contrat\": \"CDI\",\n",
      "    \"teletravail_possible\": true,\n",
      "    \"experience_pro_requise\": 5,\n",
      "    \"diplomes\": [\"pas de diplome\"],\n",
      "    \"spe_diplomes\": [null],\n",
      "    \"langues\": [\"Anglais\", \"Francais\", \"autre\"],\n",
      "    \"stack_technique\": [\n",
      "      \"Python\",\n",
      "      \"Kotlin\",\n",
      "      \"Flask\",\n",
      "      \"WebSocket\",\n",
      "      \"Pandas\",\n",
      "      \"numpy\",\n",
      "      \"ZMQ\",\n",
      "      \"GraphQL\",\n",
      "      \"PostgreSQL\",\n",
      "      \"Redis\",\n",
      "      \"RabbitMQ\",\n",
      "      \"ElasticSearch\",\n",
      "      \"InfluxDB\",\n",
      "      \"Airflow\",\n",
      "      \"Gitlab\",\n",
      "      \"Yubikeys\",\n",
      "      \"Gsuite SSO\"\n",
      "    ]\n",
      "  }\n",
      "}\n"
     ]
    },
    {
     "name": "stderr",
     "output_type": "stream",
     "text": [
      " 48%|████▊     | 405/841 [19:03<16:45,  2.31s/it]"
     ]
    },
    {
     "name": "stdout",
     "output_type": "stream",
     "text": [
      "{\n",
      "  \"poste\": {\n",
      "    \"type_contrat\": \"CDI\",\n",
      "    \"teletravail_possible\": true,\n",
      "    \"experience_pro_requise\": 3,\n",
      "    \"diplomes\": [\"Master\"],\n",
      "    \"spe_diplomes\": [\"informatique\", \"statistiques\", \"sciences des données\"],\n",
      "    \"langues\": [\"null\"],\n",
      "    \"stack_technique\": [\"DBT (Data Build Tool)\", \"SQL (BigQuery)\", \"Python\", \"Metabase\", \"Airbyte\", \"Asana\"]\n",
      "  }\n",
      "}\n"
     ]
    },
    {
     "name": "stderr",
     "output_type": "stream",
     "text": [
      " 48%|████▊     | 406/841 [19:06<18:12,  2.51s/it]"
     ]
    },
    {
     "name": "stdout",
     "output_type": "stream",
     "text": [
      "{\n",
      "  \"poste\": {\n",
      "    \"type_contrat\": \"CDI\",\n",
      "    \"teletravail_possible\": false,\n",
      "    \"experience_pro_requise\": 1,\n",
      "    \"diplomes\": [\"Master\"],\n",
      "    \"spe_diplomes\": [\"Data\"],\n",
      "    \"langues\": [\"Francais\", \"Anglais\", \"autre\"],\n",
      "    \"stack_technique\": [\"Databricks\", \"Spark\", \"AWS\", \"SQL Server 2019\", \"SSRS\", \"Power BI\", \"VS Code\", \"PyCharm\", \"IntelliJ\", \"Github\", \"Jira\"]\n",
      "  }\n",
      "}\n"
     ]
    },
    {
     "name": "stderr",
     "output_type": "stream",
     "text": [
      " 48%|████▊     | 407/841 [19:08<16:40,  2.31s/it]"
     ]
    },
    {
     "name": "stdout",
     "output_type": "stream",
     "text": [
      "{\n",
      "  \"poste\": {\n",
      "    \"type_contrat\": \"CDI\",\n",
      "    \"teletravail_possible\": null,\n",
      "    \"experience_pro_requise\": 5,\n",
      "    \"diplomes\": [\"autre\"],\n",
      "    \"spe_diplomes\": [\"Chartered Data Engineer\"],\n",
      "    \"langues\": [\"Anglais\"],\n",
      "    \"stack_technique\": [\"AVEVA\", \"HEXAGON\"]\n",
      "  }\n",
      "}\n"
     ]
    },
    {
     "name": "stderr",
     "output_type": "stream",
     "text": [
      " 49%|████▊     | 408/841 [19:11<16:40,  2.31s/it]"
     ]
    },
    {
     "name": "stdout",
     "output_type": "stream",
     "text": [
      "{\n",
      "  \"poste\": {\n",
      "    \"type_contrat\": \"CDI\",\n",
      "    \"teletravail_possible\": true,\n",
      "    \"experience_pro_requise\": 1,\n",
      "    \"diplomes\": [\"Bac+5\", \"Master\", \"autre\"],\n",
      "    \"spe_diplomes\": [\"Ingénieur Informatique\"],\n",
      "    \"langues\": [\"Anglais\"],\n",
      "    \"stack_technique\": [\"Microsoft AZURE\", \"Devops\", \"ADF\", \"ML Studio\", \"Databricks\", \"Power BI\", \"SAP (BO et Data services)\", \"Scrum\"]\n",
      "  }\n",
      "}\n"
     ]
    },
    {
     "name": "stderr",
     "output_type": "stream",
     "text": [
      " 49%|████▊     | 409/841 [19:13<17:50,  2.48s/it]"
     ]
    },
    {
     "name": "stdout",
     "output_type": "stream",
     "text": [
      "{\n",
      "  \"poste\": {\n",
      "    \"type_contrat\": \"alternance\",\n",
      "    \"teletravail_possible\": true,\n",
      "    \"experience_pro_requise\": 1,\n",
      "    \"diplomes\": [\"Bac+3\", \"Bac+4\", \"Bac+5\"],\n",
      "    \"spe_diplomes\": [\"Informatique\", \"Cloud\", \"Intelligence Artificielle\"],\n",
      "    \"langues\": [\"Francais\", \"Anglais\"],\n",
      "    \"stack_technique\": [\"Data Analyst\", \"Data Engineer\", \"Data Scientist\", \"Data Visualisation\", \"Data model\", \"Data Warehouse\", \"Big Data\", \"IA\"]\n",
      "  }\n",
      "}\n"
     ]
    },
    {
     "name": "stderr",
     "output_type": "stream",
     "text": [
      " 49%|████▉     | 410/841 [19:15<16:48,  2.34s/it]"
     ]
    },
    {
     "name": "stdout",
     "output_type": "stream",
     "text": [
      "{\n",
      "  \"poste\": {\n",
      "    \"type_contrat\": \"CDI\",\n",
      "    \"teletravail_possible\": false,\n",
      "    \"experience_pro_requise\": 5,\n",
      "    \"diplomes\": [\"Master\", \"autre\"],\n",
      "    \"spe_diplomes\": [\"informatique\", \"domaine technique associé\"],\n",
      "    \"langues\": [\"Anglais\"],\n",
      "    \"stack_technique\": [\"Python\", \"GCP\", \"Big Data\", \"Hadoop\", \"Spark\", \"Snowflakes\", \"Bigquery\"]\n",
      "  }\n",
      "}\n"
     ]
    },
    {
     "name": "stderr",
     "output_type": "stream",
     "text": [
      " 49%|████▉     | 411/841 [19:17<15:36,  2.18s/it]"
     ]
    },
    {
     "name": "stdout",
     "output_type": "stream",
     "text": [
      "{\n",
      "  \"poste\": {\n",
      "    \"type_contrat\": \"CDI\",\n",
      "    \"teletravail_possible\": true,\n",
      "    \"experience_pro_requise\": 6,\n",
      "    \"diplomes\": [\"pas de diplome\"],\n",
      "    \"spe_diplomes\": [null],\n",
      "    \"langues\": [null],\n",
      "    \"stack_technique\": [\"Elasticsearch\", \"Linux\", \"Kafka\", \"Ansible\", \"Python\"]\n",
      "  }\n",
      "}\n"
     ]
    },
    {
     "name": "stderr",
     "output_type": "stream",
     "text": [
      " 49%|████▉     | 412/841 [19:19<15:27,  2.16s/it]"
     ]
    },
    {
     "name": "stdout",
     "output_type": "stream",
     "text": [
      "{\n",
      "  \"poste\": {\n",
      "    \"type_contrat\": \"CDI\",\n",
      "    \"teletravail_possible\": false,\n",
      "    \"experience_pro_requise\": 3,\n",
      "    \"diplomes\": [\"Bac+3\", \"Bac+5\"],\n",
      "    \"spe_diplomes\": [\"Informatique\", \"Data Science\"],\n",
      "    \"langues\": [\"Anglais\", \"Francais\"],\n",
      "    \"stack_technique\": [\"ETL (TALEND)\", \"base de données décisionnelles\"]\n",
      "  }\n",
      "}\n"
     ]
    },
    {
     "name": "stderr",
     "output_type": "stream",
     "text": [
      " 49%|████▉     | 413/841 [19:21<15:11,  2.13s/it]"
     ]
    },
    {
     "name": "stdout",
     "output_type": "stream",
     "text": [
      "{\n",
      "  \"poste\": {\n",
      "    \"type_contrat\": \"CDI\",\n",
      "    \"teletravail_possible\": true,\n",
      "    \"experience_pro_requise\": 5,\n",
      "    \"diplomes\": [\"pas de diplome\"],\n",
      "    \"spe_diplomes\": [null],\n",
      "    \"langues\": [\"Francais\", \"Anglais\"],\n",
      "    \"stack_technique\": [\"Zookeeper\", \"Ambari\", \"Kafka\", \"Hadoop\", \"Kubernetes\", \"OpenShift\", \"Scala\", \"Spark\", \"Zabbix\"]\n",
      "  }\n",
      "}\n"
     ]
    },
    {
     "name": "stderr",
     "output_type": "stream",
     "text": [
      " 49%|████▉     | 414/841 [19:24<15:33,  2.19s/it]"
     ]
    },
    {
     "name": "stdout",
     "output_type": "stream",
     "text": [
      "{\n",
      "  \"poste\": {\n",
      "    \"type_contrat\": \"CDI\",\n",
      "    \"teletravail_possible\": true,\n",
      "    \"experience_pro_requise\": 3,\n",
      "    \"diplomes\": [\"pas de diplome\"],\n",
      "    \"spe_diplomes\": [\"Informatique\"],\n",
      "    \"langues\": [\"Francais\"],\n",
      "    \"stack_technique\": [\n",
      "      \"PYTHON\",\n",
      "      \"JAVA\",\n",
      "      \"SCALA\",\n",
      "      \"HADOOP\",\n",
      "      \"SPARK\",\n",
      "      \"YARN\",\n",
      "      \"PIG\",\n",
      "      \"HIVE\",\n",
      "      \"KAFKA\",\n",
      "      \"FLINK\",\n",
      "      \"SPLUNK\",\n",
      "      \"DB2\",\n",
      "      \"ORACLE\",\n",
      "      \"SQL SERVER\",\n",
      "      \"HDFS\",\n",
      "      \"MONGODB\",\n",
      "      \"NEO4J\",\n",
      "      \"COUCHBASE\",\n",
      "      \"HBASE\",\n",
      "      \"CASSANDRA\"\n",
      "    ]\n",
      "  }\n",
      "}\n"
     ]
    },
    {
     "name": "stderr",
     "output_type": "stream",
     "text": [
      " 49%|████▉     | 415/841 [19:26<15:04,  2.12s/it]"
     ]
    },
    {
     "name": "stdout",
     "output_type": "stream",
     "text": [
      "{\n",
      "  \"poste\": {\n",
      "    \"type_contrat\": null,\n",
      "    \"teletravail_possible\": true,\n",
      "    \"experience_pro_requise\": 4,\n",
      "    \"diplomes\": [\"Bac+3\", \"Bac+5\"],\n",
      "    \"spe_diplomes\": [\"informatique\"],\n",
      "    \"langues\": [\"Anglais\"],\n",
      "    \"stack_technique\": [\"API Scala Spark\", \"techniques d’optimisation Spark\", \"développement Scala\", \"Maven\", \"environnement cloud\", \"Databricks\", \"Azure\", \"ELK\"]\n",
      "  }\n",
      "}\n"
     ]
    },
    {
     "name": "stderr",
     "output_type": "stream",
     "text": [
      " 49%|████▉     | 416/841 [19:28<14:30,  2.05s/it]"
     ]
    },
    {
     "name": "stdout",
     "output_type": "stream",
     "text": [
      "{\n",
      "  \"poste\": {\n",
      "    \"type_contrat\": \"CDI\",\n",
      "    \"teletravail_possible\": true,\n",
      "    \"experience_pro_requise\": 8,\n",
      "    \"diplomes\": [\"Master\", \"Doctorat\", \"autre\"],\n",
      "    \"spe_diplomes\": [\"mathématiques\", \"ingénierie\"],\n",
      "    \"langues\": [\"Anglais\", \"Francais\", \"autre\"],\n",
      "    \"stack_technique\": [\"Python\", \"Pandas\", \"SQL\", \"AWS\"]\n",
      "  }\n",
      "}\n"
     ]
    },
    {
     "name": "stderr",
     "output_type": "stream",
     "text": [
      " 50%|████▉     | 417/841 [19:30<14:50,  2.10s/it]"
     ]
    },
    {
     "name": "stdout",
     "output_type": "stream",
     "text": [
      "{\n",
      "  \"poste\": {\n",
      "    \"type_contrat\": \"CDI\",\n",
      "    \"teletravail_possible\": true,\n",
      "    \"experience_pro_requise\": 4,\n",
      "    \"diplomes\": [\"Licence\", \"Master\", \"Doctorat\", \"autre\"],\n",
      "    \"spe_diplomes\": [\"Computer Science\", \"Engineering\", \"autre\"],\n",
      "    \"langues\": [\"Anglais\", \"autre\"],\n",
      "    \"stack_technique\": [\"Python\", \"SQL\", \"Kafka\", \"Pub/Sub\"]\n",
      "  }\n",
      "}\n"
     ]
    },
    {
     "name": "stderr",
     "output_type": "stream",
     "text": [
      " 50%|████▉     | 418/841 [19:32<15:11,  2.16s/it]"
     ]
    },
    {
     "name": "stdout",
     "output_type": "stream",
     "text": [
      "{\n",
      "  \"poste\": {\n",
      "    \"type_contrat\": \"CDI\",\n",
      "    \"teletravail_possible\": true,\n",
      "    \"experience_pro_requise\": 3,\n",
      "    \"diplomes\": [\"Licence\", \"Master\", \"Doctorat\"],\n",
      "    \"spe_diplomes\": [\"Informatique\", \"Mathématiques\", \"Autre\"],\n",
      "    \"langues\": [\"Allemand\", \"Anglais\", \"Francais\"],\n",
      "    \"stack_technique\": [\"Qlik Sense\", \"SQL\", \"Data Warehousing\", \"Business Intelligence\", \"QlikView\"]\n",
      "  }\n",
      "}\n"
     ]
    },
    {
     "name": "stderr",
     "output_type": "stream",
     "text": [
      " 50%|████▉     | 419/841 [19:34<13:36,  1.94s/it]"
     ]
    },
    {
     "name": "stdout",
     "output_type": "stream",
     "text": [
      "{\n",
      "  \"poste\": {\n",
      "    \"type_contrat\": \"alternance\",\n",
      "    \"teletravail_possible\": false,\n",
      "    \"experience_pro_requise\": 1,\n",
      "    \"diplomes\": [\"Master\"],\n",
      "    \"spe_diplomes\": [\"computer science\"],\n",
      "    \"langues\": [\"Anglais\"],\n",
      "    \"stack_technique\": [\"SQL\"]\n",
      "  }\n",
      "}\n"
     ]
    },
    {
     "name": "stderr",
     "output_type": "stream",
     "text": [
      " 50%|████▉     | 420/841 [19:35<12:58,  1.85s/it]"
     ]
    },
    {
     "name": "stdout",
     "output_type": "stream",
     "text": [
      "{\n",
      "  \"poste\": {\n",
      "    \"type_contrat\": null,\n",
      "    \"teletravail_possible\": false,\n",
      "    \"experience_pro_requise\": 1,\n",
      "    \"diplomes\": [\"pas de diplome\"],\n",
      "    \"spe_diplomes\": [null],\n",
      "    \"langues\": [null],\n",
      "    \"stack_technique\": [\"Spark\", \"Scala\", \"Hive\", \"Agile Scrum\", \"PostGreSQL\", \"Python\"]\n",
      "  }\n",
      "}\n"
     ]
    },
    {
     "name": "stderr",
     "output_type": "stream",
     "text": [
      " 50%|█████     | 421/841 [19:38<14:44,  2.11s/it]"
     ]
    },
    {
     "name": "stdout",
     "output_type": "stream",
     "text": [
      "{\n",
      "  \"poste\": {\n",
      "    \"type_contrat\": \"CDI\",\n",
      "    \"teletravail_possible\": true,\n",
      "    \"experience_pro_requise\": 1,\n",
      "    \"diplomes\": [\"Licence\", \"Master\", \"Doctorat\", \"Bac+3\", \"Bac+5\", \"pas de diplome\", \"autre\"],\n",
      "    \"spe_diplomes\": [\"Informatique\", \"Mathématiques\", \"Physique\", \"autre\"],\n",
      "    \"langues\": [\"Anglais\", \"Francais\", \"Allemand\", \"Espagnol\", \"Italien\", \"Portuguais\", \"autre\"],\n",
      "    \"stack_technique\": [\"Java\", \"SQL\", \"ETL\", \"Data Engineering\", \"Relational Databases\", \"Cloud Computing\", \"Agile Methods\", \"Business Intelligence\"]\n",
      "  }\n",
      "}\n"
     ]
    },
    {
     "name": "stderr",
     "output_type": "stream",
     "text": [
      " 50%|█████     | 422/841 [19:42<19:00,  2.72s/it]"
     ]
    },
    {
     "name": "stdout",
     "output_type": "stream",
     "text": [
      "{\n",
      "  \"poste\": {\n",
      "    \"type_contrat\": \"CDI\",\n",
      "    \"teletravail_possible\": true,\n",
      "    \"experience_pro_requise\": 5,\n",
      "    \"diplomes\": [\"pas de diplome\"],\n",
      "    \"spe_diplomes\": [],\n",
      "    \"langues\": [\"Anglais\", \"Francais\"],\n",
      "    \"stack_technique\": [\n",
      "      \"SQL\",\n",
      "      \"Python\",\n",
      "      \"JAVA\",\n",
      "      \"Scala\",\n",
      "      \"Kafka\",\n",
      "      \"RabbitMQ\",\n",
      "      \"Talend\",\n",
      "      \"Matillion\",\n",
      "      \"Stambia\",\n",
      "      \"ElasticSearch\",\n",
      "      \"Logstash\",\n",
      "      \"Kibana\",\n",
      "      \"SolR\",\n",
      "      \"AWS\",\n",
      "      \"GCP\",\n",
      "      \"Azure\",\n",
      "      \"Hortonworks\",\n",
      "      \"Cloudera\",\n",
      "      \"Datastax\",\n",
      "      \"HDFS\",\n",
      "      \"deltalake\",\n",
      "      \"blob/S3\",\n",
      "      \"Git\",\n",
      "      \"JUnit\",\n",
      "      \"SonarQube\",\n",
      "      \"Jenkins\"\n",
      "    ]\n",
      "  }\n",
      "}\n"
     ]
    },
    {
     "name": "stderr",
     "output_type": "stream",
     "text": [
      " 50%|█████     | 423/841 [19:44<17:31,  2.52s/it]"
     ]
    },
    {
     "name": "stdout",
     "output_type": "stream",
     "text": [
      "{\n",
      "  \"poste\": {\n",
      "    \"type_contrat\": \"CDI\",\n",
      "    \"teletravail_possible\": true,\n",
      "    \"experience_pro_requise\": 3,\n",
      "    \"diplomes\": [\"Master\"],\n",
      "    \"spe_diplomes\": [\"Informatique\"],\n",
      "    \"langues\": [\"Francais\", \"Anglais\"],\n",
      "    \"stack_technique\": [\"Linux\", \"RedHat\", \"CentOS\", \"TerraForm\", \"Python\", \"GITLab\"]\n",
      "  }\n",
      "}\n"
     ]
    },
    {
     "name": "stderr",
     "output_type": "stream",
     "text": [
      " 50%|█████     | 424/841 [19:46<15:47,  2.27s/it]"
     ]
    },
    {
     "name": "stdout",
     "output_type": "stream",
     "text": [
      "{\n",
      "  \"poste\": {\n",
      "    \"type_contrat\": \"CDI\",\n",
      "    \"teletravail_possible\": false,\n",
      "    \"experience_pro_requise\": 3,\n",
      "    \"diplomes\": [\"pas de diplome\"],\n",
      "    \"spe_diplomes\": [null],\n",
      "    \"langues\": [\"Anglais\", \"Francais\"],\n",
      "    \"stack_technique\": [\"Power BI\", \"SQL Server\", \"SSIS\", \"Azure\"]\n",
      "  }\n",
      "}\n"
     ]
    },
    {
     "name": "stderr",
     "output_type": "stream",
     "text": [
      " 51%|█████     | 425/841 [19:48<14:33,  2.10s/it]"
     ]
    },
    {
     "name": "stdout",
     "output_type": "stream",
     "text": [
      "{\n",
      "  \"poste\": {\n",
      "    \"type_contrat\": \"CDI\",\n",
      "    \"teletravail_possible\": false,\n",
      "    \"experience_pro_requise\": 2,\n",
      "    \"diplomes\": [\"pas de diplome\"],\n",
      "    \"spe_diplomes\": [null],\n",
      "    \"langues\": [\"Anglais\", \"Francais\"],\n",
      "    \"stack_technique\": [\"AWS\", \"Python\", \"SQL\", \"PostgreSQL\", \"PySpark\", \"Git\"]\n",
      "  }\n",
      "}\n"
     ]
    },
    {
     "name": "stderr",
     "output_type": "stream",
     "text": [
      " 51%|█████     | 426/841 [19:51<16:38,  2.41s/it]"
     ]
    },
    {
     "name": "stdout",
     "output_type": "stream",
     "text": [
      "{\n",
      "  \"poste\": {\n",
      "    \"type_contrat\": \"CDI\",\n",
      "    \"teletravail_possible\": true,\n",
      "    \"experience_pro_requise\": 4,\n",
      "    \"diplomes\": [\"pas de diplome\"],\n",
      "    \"spe_diplomes\": [null],\n",
      "    \"langues\": [\"Anglais\"],\n",
      "    \"stack_technique\": [\"SQL\", \"Python\", \"DBT\", \"AWS\", \"Azure\", \"GCP\", \"Airflow\", \"Redshift\", \"Big Query\", \"Snowflake\", \"Tableau\", \"Looker\"]\n",
      "  }\n",
      "}\n"
     ]
    },
    {
     "name": "stderr",
     "output_type": "stream",
     "text": [
      " 51%|█████     | 427/841 [19:52<15:27,  2.24s/it]"
     ]
    },
    {
     "name": "stdout",
     "output_type": "stream",
     "text": [
      "{\n",
      "  \"poste\": {\n",
      "    \"type_contrat\": \"CDI\",\n",
      "    \"teletravail_possible\": true,\n",
      "    \"experience_pro_requise\": 4,\n",
      "    \"diplomes\": [\"Bac+3\", \"Bac+5\"],\n",
      "    \"spe_diplomes\": [\"informatique\"],\n",
      "    \"langues\": [\"Anglais\"],\n",
      "    \"stack_technique\": [\"Scala\", \"Spark\", \"API\", \"Maven\", \"Azure\", \"Databricks\", \"ELK\"]\n",
      "  }\n",
      "}\n"
     ]
    },
    {
     "name": "stderr",
     "output_type": "stream",
     "text": [
      " 51%|█████     | 428/841 [19:55<15:56,  2.32s/it]"
     ]
    },
    {
     "name": "stdout",
     "output_type": "stream",
     "text": [
      "{\n",
      "  \"poste\": {\n",
      "    \"type_contrat\": \"CDD\",\n",
      "    \"teletravail_possible\": true,\n",
      "    \"experience_pro_requise\": 1,\n",
      "    \"diplomes\": [\"pas de diplome\"],\n",
      "    \"spe_diplomes\": [null],\n",
      "    \"langues\": [\"Francais\", \"Anglais\", \"autre\"],\n",
      "    \"stack_technique\": [\"Python\", \"statistiques\", \"mathematiques appliquees\", \"machine learning\", \"traitement de donnees\", \"apprentissage automatique\", \"visualisation de donnees\"]\n",
      "  }\n",
      "}\n"
     ]
    },
    {
     "name": "stderr",
     "output_type": "stream",
     "text": [
      " 51%|█████     | 429/841 [19:57<14:44,  2.15s/it]"
     ]
    },
    {
     "name": "stdout",
     "output_type": "stream",
     "text": [
      "{\n",
      "  \"poste\": {\n",
      "    \"type_contrat\": \"CDI\",\n",
      "    \"teletravail_possible\": true,\n",
      "    \"experience_pro_requise\": 5,\n",
      "    \"diplomes\": [\"Bac+5\"],\n",
      "    \"spe_diplomes\": [],\n",
      "    \"langues\": [\"Anglais\"],\n",
      "    \"stack_technique\": [\"DevOps\", \"Infrastructure as Code\", \"Architectures Cloud\"]\n",
      "  }\n",
      "}\n"
     ]
    },
    {
     "name": "stderr",
     "output_type": "stream",
     "text": [
      " 51%|█████     | 430/841 [20:00<17:06,  2.50s/it]"
     ]
    },
    {
     "name": "stdout",
     "output_type": "stream",
     "text": [
      "{\n",
      "  \"poste\": {\n",
      "    \"type_contrat\": \"CDI\",\n",
      "    \"teletravail_possible\": true,\n",
      "    \"experience_pro_requise\": 5,\n",
      "    \"diplomes\": [\"Doctorat\", \"autre\"],\n",
      "    \"spe_diplomes\": [\"Machine Learning\", \"informatique\"],\n",
      "    \"langues\": [\"Anglais\"],\n",
      "    \"stack_technique\": [\"Computer Vision\", \"ML/DL\", \"Tensorfow/Keras\"]\n",
      "  }\n",
      "}\n"
     ]
    },
    {
     "name": "stderr",
     "output_type": "stream",
     "text": [
      " 51%|█████     | 431/841 [20:02<16:08,  2.36s/it]"
     ]
    },
    {
     "name": "stdout",
     "output_type": "stream",
     "text": [
      "{\n",
      "  \"poste\": {\n",
      "    \"type_contrat\": \"CDI\",\n",
      "    \"teletravail_possible\": true,\n",
      "    \"experience_pro_requise\": 3,\n",
      "    \"diplome\": \"Bac+3\",\n",
      "    \"spe_diplome\": [\"Informatique\", \"IA\"],\n",
      "    \"langue\": [\"Anglais\", \"Francais\"],\n",
      "    \"stack_technique\": [\"Python\", \"Pytorch\", \"Hugging Face\", \"OpenAI\", \"Typescript\", \"Node.js\", \"React\", \"MySQL\", \"PostgreSQL\"]\n",
      "  }\n",
      "}\n"
     ]
    },
    {
     "name": "stderr",
     "output_type": "stream",
     "text": [
      " 51%|█████▏    | 432/841 [20:04<15:05,  2.21s/it]"
     ]
    },
    {
     "name": "stdout",
     "output_type": "stream",
     "text": [
      "{\n",
      "  \"poste\": {\n",
      "    \"type_contrat\": \"alternance\",\n",
      "    \"teletravail_possible\": false,\n",
      "    \"experience_pro_requise\": 1,\n",
      "    \"diplomes\": [\"pas de diplome\"],\n",
      "    \"spe_diplomes\": [\"Data Analyst\"],\n",
      "    \"langues\": [\"Francais\", \"Anglais\", \"autre\"],\n",
      "    \"stack_technique\": [\"data preparation\", \"data visualisation\"]\n",
      "  }\n",
      "}\n"
     ]
    },
    {
     "name": "stderr",
     "output_type": "stream",
     "text": [
      " 51%|█████▏    | 433/841 [20:06<14:05,  2.07s/it]"
     ]
    },
    {
     "name": "stdout",
     "output_type": "stream",
     "text": [
      "{\n",
      "  \"poste\": {\n",
      "    \"type_contrat\": \"CDI\",\n",
      "    \"teletravail_possible\": false,\n",
      "    \"experience_pro_requise\": 1,\n",
      "    \"diplomes\": [\"Master\", \"Doctorat\"],\n",
      "    \"spe_diplomes\": [\"Data Science\"],\n",
      "    \"langues\": [\"Anglais\", \"Francais\"],\n",
      "    \"stack_technique\": [\"Big Data\", \"Machine Learning\", \"IA\", \"Python\", \"R\", \"Statistiques\"]\n",
      "  }\n",
      "}\n"
     ]
    },
    {
     "name": "stderr",
     "output_type": "stream",
     "text": [
      " 52%|█████▏    | 434/841 [20:07<13:09,  1.94s/it]"
     ]
    },
    {
     "name": "stdout",
     "output_type": "stream",
     "text": [
      "{\n",
      "  \"poste\": {\n",
      "    \"type_contrat\": \"alternance\",\n",
      "    \"teletravail_possible\": false,\n",
      "    \"experience_pro_requise\": 1,\n",
      "    \"diplomes\": [\"Bac+3\"],\n",
      "    \"spe_diplomes\": [\"informatique\", \"data management\", \"data analyse\"],\n",
      "    \"langues\": [\"Francais\"],\n",
      "    \"stack_technique\": [\"SAP\", \"SQL\", \"Qlik\", \"PowerBI\"]\n",
      "  }\n",
      "}\n"
     ]
    },
    {
     "name": "stderr",
     "output_type": "stream",
     "text": [
      " 52%|█████▏    | 435/841 [20:09<12:55,  1.91s/it]"
     ]
    },
    {
     "name": "stdout",
     "output_type": "stream",
     "text": [
      "{\n",
      "  \"poste\": {\n",
      "    \"type_contrat\": \"CDI\",\n",
      "    \"teletravail_possible\": null,\n",
      "    \"experience_pro_requise\": null,\n",
      "    \"diplomes\": [\"autre\"],\n",
      "    \"spe_diplomes\": [],\n",
      "    \"langues\": [\"Anglais\"],\n",
      "    \"stack_technique\": [\"AVEVA\", \"HEXAGON suite\"]\n",
      "  }\n",
      "}\n"
     ]
    },
    {
     "name": "stderr",
     "output_type": "stream",
     "text": [
      " 52%|█████▏    | 436/841 [20:12<14:51,  2.20s/it]"
     ]
    },
    {
     "name": "stdout",
     "output_type": "stream",
     "text": [
      "{\n",
      "  \"poste\": {\n",
      "    \"type_contrat\": \"CDI\",\n",
      "    \"teletravail_possible\": null,\n",
      "    \"experience_pro_requise\": 2,\n",
      "    \"diplomes\": [\"Licence\", \"Master\", \"Doctorat\", \"Bac+3\", \"Bac+5\", \"Bac+7\", \"pas de diplome\", \"autre\"],\n",
      "    \"spe_diplomes\": [null],\n",
      "    \"langues\": [null],\n",
      "    \"stack_technique\": [\n",
      "      \"Spark\",\n",
      "      \"Scala\",\n",
      "      \"Kafka\",\n",
      "      \"BigData\",\n",
      "      \"Bitbucket\",\n",
      "      \"GCP\",\n",
      "      \"Elasticsearch\",\n",
      "      \"Jenkins\",\n",
      "      \"Kubernetes\",\n",
      "      \"Docker\",\n",
      "      \"Ansible\",\n",
      "      \"GCS\",\n",
      "      \"BigQuery\",\n",
      "      \"GKE\",\n",
      "      \"Cloud Pub/Sub\",\n",
      "      \"Dataproc\",\n",
      "      \"BigTable\",\n",
      "      \"CI/CD\",\n",
      "      \"Git\",\n",
      "      \"Nexus\",\n",
      "      \"Docker Registry\",\n",
      "      \"Avro\"\n",
      "    ]\n",
      "  }\n",
      "}\n"
     ]
    },
    {
     "name": "stderr",
     "output_type": "stream",
     "text": [
      " 52%|█████▏    | 437/841 [20:19<24:04,  3.58s/it]"
     ]
    },
    {
     "name": "stdout",
     "output_type": "stream",
     "text": [
      "{\n",
      "  \"poste\": {\n",
      "    \"type_contrat\": \"CDI\",\n",
      "    \"teletravail_possible\": true,\n",
      "    \"experience_pro_requise\": 3,\n",
      "    \"diplomes\": [\"pas de diplome\"],\n",
      "    \"spe_diplomes\": [null],\n",
      "    \"langues\": [null],\n",
      "    \"stack_technique\": [\"Hadoop\", \"Spark\", \"Python\", \"Scala\", \"BDD SQL\"]\n",
      "  }\n",
      "}\n"
     ]
    },
    {
     "name": "stderr",
     "output_type": "stream",
     "text": [
      " 52%|█████▏    | 438/841 [20:21<20:19,  3.03s/it]"
     ]
    },
    {
     "name": "stdout",
     "output_type": "stream",
     "text": [
      "{\n",
      "  \"poste\": {\n",
      "    \"type_contrat\": \"CDI\",\n",
      "    \"teletravail_possible\": true,\n",
      "    \"experience_pro_requise\": 2,\n",
      "    \"diplomes\": [\"pas de diplome\"],\n",
      "    \"spe_diplomes\": [null],\n",
      "    \"langues\": [\"Anglais\", \"Francais\", \"autre\"],\n",
      "    \"stack_technique\": [\"Databricks\", \"Python\", \"Pyspark\", \"SQL\"]\n",
      "  }\n",
      "}\n"
     ]
    },
    {
     "name": "stderr",
     "output_type": "stream",
     "text": [
      " 52%|█████▏    | 439/841 [20:23<18:19,  2.74s/it]"
     ]
    },
    {
     "name": "stdout",
     "output_type": "stream",
     "text": [
      "{\n",
      "  \"poste\": {\n",
      "    \"type_contrat\": \"CDI\",\n",
      "    \"teletravail_possible\": true,\n",
      "    \"experience_pro_requise\": 3,\n",
      "    \"diplomes\": [\"Bac+3\"],\n",
      "    \"spe_diplomes\": [\"Informatique\", \"Ingénierie\"],\n",
      "    \"langues\": [\"Anglais\", \"Francais\"],\n",
      "    \"stack_technique\": [\"SQL\", \"ETL\", \"SSRS\", \"Power BI\"]\n",
      "  }\n",
      "}\n"
     ]
    },
    {
     "name": "stderr",
     "output_type": "stream",
     "text": [
      " 52%|█████▏    | 440/841 [20:25<16:37,  2.49s/it]"
     ]
    },
    {
     "name": "stdout",
     "output_type": "stream",
     "text": [
      "{\n",
      "  \"poste\": {\n",
      "    \"type_contrat\": \"CDI\",\n",
      "    \"teletravail_possible\": true,\n",
      "    \"experience_pro_requise\": 4,\n",
      "    \"diplomes\": [\"pas de diplome\"],\n",
      "    \"spe_diplomes\": [\"e-commerce/business\", \"mathématiques\", \"statistiques\"],\n",
      "    \"langues\": [\"Anglais\"],\n",
      "    \"stack_technique\": [\"SQL\"]\n",
      "  }\n",
      "}\n"
     ]
    },
    {
     "name": "stderr",
     "output_type": "stream",
     "text": [
      " 52%|█████▏    | 441/841 [20:28<18:01,  2.70s/it]"
     ]
    },
    {
     "name": "stdout",
     "output_type": "stream",
     "text": [
      "{\n",
      "  \"poste\": {\n",
      "    \"type_contrat\": \"CDI\",\n",
      "    \"teletravail_possible\": null,\n",
      "    \"experience_pro_requise\": 5,\n",
      "    \"diplomes\": [\"pas de diplome\"],\n",
      "    \"spe_diplomes\": [\"informatique\"],\n",
      "    \"langues\": [null],\n",
      "    \"stack_technique\": [\"SQL\", \"TABLEAU\", \"POWER BI\", \"Informatica\", \"VTOM\", \"Shell\", \"report builder\", \"SharePoint\", \"TERADATA\"]\n",
      "  }\n",
      "}\n"
     ]
    },
    {
     "name": "stderr",
     "output_type": "stream",
     "text": [
      " 53%|█████▎    | 442/841 [20:31<18:42,  2.81s/it]"
     ]
    },
    {
     "name": "stdout",
     "output_type": "stream",
     "text": [
      "{\n",
      "  \"poste\": {\n",
      "    \"type_contrat\": \"CDI\",\n",
      "    \"teletravail_possible\": true,\n",
      "    \"experience_pro_requise\": 4,\n",
      "    \"diplomes\": [\"Licence\", \"Master\", \"Doctorat\", \"Bac+3\", \"Bac+5\", \"Bac+7\", \"autre\"],\n",
      "    \"spe_diplomes\": [\"mathématiques\", \"statistiques\"],\n",
      "    \"langues\": [\"Anglais\"],\n",
      "    \"stack_technique\": [\"SQL\"]\n",
      "  }\n",
      "}\n"
     ]
    },
    {
     "name": "stderr",
     "output_type": "stream",
     "text": [
      " 53%|█████▎    | 443/841 [20:33<17:59,  2.71s/it]"
     ]
    },
    {
     "name": "stdout",
     "output_type": "stream",
     "text": [
      "{\n",
      "  \"poste\": {\n",
      "    \"type_contrat\": \"CDI\",\n",
      "    \"teletravail_possible\": null,\n",
      "    \"experience_pro_requise\": 2,\n",
      "    \"diplomes\": [\"pas de diplome\"],\n",
      "    \"spe_diplomes\": [\"Marketing\"],\n",
      "    \"langues\": [\"Francais\", \"Anglais\"],\n",
      "    \"stack_technique\": [\"modélisation de process\", \"conception de cahiers des changes\", \"gestion de projet\", \"Kanban\", \"Burndown\", \"Gantt\", \"statistiques avancées\", \"Data Mining\", \"Growth Hacking\", \"extraction et transformation des données\", \"analyse de données marketing\", \"méthodes et techniques de tests\"]\n",
      "  }\n",
      "}\n"
     ]
    },
    {
     "name": "stderr",
     "output_type": "stream",
     "text": [
      " 53%|█████▎    | 444/841 [20:36<17:06,  2.59s/it]"
     ]
    },
    {
     "name": "stdout",
     "output_type": "stream",
     "text": [
      "{\n",
      "  \"poste\": {\n",
      "    \"type_contrat\": \"CDI\",\n",
      "    \"teletravail_possible\": null,\n",
      "    \"experience_pro_requise\": 1,\n",
      "    \"diplomes\": [\"pas de diplome\"],\n",
      "    \"spe_diplomes\": [],\n",
      "    \"langues\": [\"Anglais\", \"Francais\"],\n",
      "    \"stack_technique\": [\"Python\", \"SQL\", \"GCP\", \"BigQuery\", \"ETL\", \"Apache Beam/Dataflow\", \"Apache Airflow\"]\n",
      "  }\n",
      "}\n"
     ]
    },
    {
     "name": "stderr",
     "output_type": "stream",
     "text": [
      " 53%|█████▎    | 445/841 [20:37<15:37,  2.37s/it]"
     ]
    },
    {
     "name": "stdout",
     "output_type": "stream",
     "text": [
      "{\n",
      "  \"poste\": {\n",
      "    \"type_contrat\": \"freelance\",\n",
      "    \"teletravail_possible\": true,\n",
      "    \"experience_pro_requise\": 1,\n",
      "    \"diplomes\": [\"pas de diplome\"],\n",
      "    \"spe_diplomes\": [null],\n",
      "    \"langues\": [null],\n",
      "    \"stack_technique\": [\"Machine Learning\", \"Deep Learning\", \"MLOps\", \"Databricks\"]\n",
      "  }\n",
      "}\n"
     ]
    },
    {
     "name": "stderr",
     "output_type": "stream",
     "text": [
      " 53%|█████▎    | 446/841 [20:40<16:12,  2.46s/it]"
     ]
    },
    {
     "name": "stdout",
     "output_type": "stream",
     "text": [
      "{\n",
      "  \"poste\": {\n",
      "    \"type_contrat\": \"CDI\",\n",
      "    \"teletravail_possible\": true,\n",
      "    \"experience_pro_requise\": 7,\n",
      "    \"diplomes\": [\"Master\", \"Doctorat\"],\n",
      "    \"spe_diplomes\": [\"Analytics\", \"Artificial Intelligence\", \"Data Science\"],\n",
      "    \"langues\": [\"Anglais\"],\n",
      "    \"stack_technique\": [\"NLP\", \"Generative AI\", \"LLM\", \"RAG\", \"Computer Vision\", \"Deep Learning\", \"Python\", \"DevOps\", \"Cloud (Azure ML, Databricks)\"]\n",
      "  }\n",
      "}\n"
     ]
    },
    {
     "name": "stderr",
     "output_type": "stream",
     "text": [
      " 53%|█████▎    | 447/841 [20:42<15:43,  2.39s/it]"
     ]
    },
    {
     "name": "stdout",
     "output_type": "stream",
     "text": [
      "{\n",
      "  \"poste\": {\n",
      "    \"type_contrat\": \"alternance\",\n",
      "    \"teletravail_possible\": false,\n",
      "    \"experience_pro_requise\": 1,\n",
      "    \"diplomes\": [\"Bac+3\"],\n",
      "    \"spe_diplomes\": [\"Ingénierie\"],\n",
      "    \"langues\": [\"Francais\", \"Anglais\"],\n",
      "    \"stack_technique\": [\"Java\", \"Python\", \"HTML\", \"PostgreSQL\", \"MySQL\", \"Machine Learning\"]\n",
      "  }\n",
      "}\n"
     ]
    },
    {
     "name": "stderr",
     "output_type": "stream",
     "text": [
      " 53%|█████▎    | 448/841 [20:45<15:51,  2.42s/it]"
     ]
    },
    {
     "name": "stdout",
     "output_type": "stream",
     "text": [
      "{\n",
      "  \"poste\": {\n",
      "    \"type_contrat\": \"CDI\",\n",
      "    \"teletravail_possible\": false,\n",
      "    \"experience_pro_requise\": 3,\n",
      "    \"diplomes\": [\"Master\", \"Doctorat\"],\n",
      "    \"spe_diplomes\": [\"Data Science\", \"Machine Learning\"],\n",
      "    \"langues\": [\"Anglais\"],\n",
      "    \"stack_technique\": [\"Graph ML\", \"PyTorch\", \"Tensorflow/Keras\", \"Numpy\", \"Pandas\", \"Scikit-Learn\", \"Python\"]\n",
      "  }\n",
      "}\n"
     ]
    },
    {
     "name": "stderr",
     "output_type": "stream",
     "text": [
      " 53%|█████▎    | 449/841 [20:47<15:20,  2.35s/it]"
     ]
    },
    {
     "name": "stdout",
     "output_type": "stream",
     "text": [
      "{\n",
      "  \"poste\": {\n",
      "    \"type_contrat\": \"alternance\",\n",
      "    \"teletravail_possible\": false,\n",
      "    \"experience_pro_requise\": 1,\n",
      "    \"diplomes\": [\"Master\"],\n",
      "    \"spe_diplomes\": [\"Machine Learning\"],\n",
      "    \"langues\": [\"Anglais\", \"Francais\"],\n",
      "    \"stack_technique\": [\"algorithmes de machine learning\", \"traitement et analyse de données volumineuses\", \"publicité en ligne\"]\n",
      "  }\n",
      "}\n"
     ]
    },
    {
     "name": "stderr",
     "output_type": "stream",
     "text": [
      " 54%|█████▎    | 450/841 [20:49<14:33,  2.23s/it]"
     ]
    },
    {
     "name": "stdout",
     "output_type": "stream",
     "text": [
      "{\n",
      "  \"poste\": {\n",
      "    \"type_contrat\": \"CDI\",\n",
      "    \"teletravail_possible\": true,\n",
      "    \"experience_pro_requise\": 5,\n",
      "    \"diplomes\": [\"Master\", \"autre\"],\n",
      "    \"spe_diplomes\": [\"informatique\", \"mathématique appliquée\"],\n",
      "    \"langues\": [\"Anglais\", \"Francais\", \"autre\"],\n",
      "    \"stack_technique\": [\"machine learning\", \"cloud\", \"data science\", \"séries temporelles\", \"base de données\"]\n",
      "  }\n",
      "}\n"
     ]
    },
    {
     "name": "stderr",
     "output_type": "stream",
     "text": [
      " 54%|█████▎    | 451/841 [20:51<13:33,  2.09s/it]"
     ]
    },
    {
     "name": "stdout",
     "output_type": "stream",
     "text": [
      "{\n",
      "  \"poste\": {\n",
      "    \"type_contrat\": \"CDI\",\n",
      "    \"teletravail_possible\": null,\n",
      "    \"experience_pro_requise\": 1,\n",
      "    \"diplomes\": [\"pas de diplome\"],\n",
      "    \"spe_diplomes\": [null],\n",
      "    \"langues\": [null],\n",
      "    \"stack_technique\": [\"Python\", \"R\", \"Hadoop\", \"Spark\"]\n",
      "  }\n",
      "}\n"
     ]
    },
    {
     "name": "stderr",
     "output_type": "stream",
     "text": [
      " 54%|█████▎    | 452/841 [20:53<14:20,  2.21s/it]"
     ]
    },
    {
     "name": "stdout",
     "output_type": "stream",
     "text": [
      "{\n",
      "  \"poste\": {\n",
      "    \"type_contrat\": \"CDI\",\n",
      "    \"teletravail_possible\": null,\n",
      "    \"experience_pro_requise\": 5,\n",
      "    \"diplomes\": [\"Bac+5\"],\n",
      "    \"spe_diplomes\": null,\n",
      "    \"langues\": [\"Anglais\", \"Francais\", \"autre\"],\n",
      "    \"stack_technique\": [\"R\", \"Python\", \"machine learning\", \"outil statistique\"]\n",
      "  }\n",
      "}\n"
     ]
    },
    {
     "name": "stderr",
     "output_type": "stream",
     "text": [
      " 54%|█████▍    | 453/841 [20:56<15:28,  2.39s/it]"
     ]
    },
    {
     "name": "stdout",
     "output_type": "stream",
     "text": [
      "{\n",
      "  \"poste\": {\n",
      "    \"type_contrat\": \"CDI\",\n",
      "    \"teletravail_possible\": true,\n",
      "    \"experience_pro_requise\": 7,\n",
      "    \"diplomes\": [\n",
      "      \"pas de diplome\",\n",
      "      \"Doctorat\"\n",
      "    ],\n",
      "    \"spe_diplomes\": [\n",
      "      \"Machine Learning\"\n",
      "    ],\n",
      "    \"langues\": [\"Anglais\"],\n",
      "    \"stack_technique\": [\n",
      "      \"GEN AI\",\n",
      "      \"LLM\",\n",
      "      \"RAG\",\n",
      "      \"Python\",\n",
      "      \"SQL\",\n",
      "      \"R\",\n",
      "      \"Scala\",\n",
      "      \"Java\",\n",
      "      \"Scikit-learn\",\n",
      "      \"TensorFlow/Keras\",\n",
      "      \"TFx\",\n",
      "      \"PyTorch\",\n",
      "      \"Docker\",\n",
      "      \"kubeflow\",\n",
      "      \"airflow\",\n",
      "      \"kubernetes\",\n",
      "      \"Git\",\n",
      "      \"Gitlab CI/CD\",\n",
      "      \"Google Cloud Platform\",\n",
      "      \"MLOps\"\n",
      "    ]\n",
      "  }\n",
      "}\n"
     ]
    },
    {
     "name": "stderr",
     "output_type": "stream",
     "text": [
      " 54%|█████▍    | 454/841 [20:58<14:22,  2.23s/it]"
     ]
    },
    {
     "name": "stdout",
     "output_type": "stream",
     "text": [
      "{\n",
      "  \"poste\": {\n",
      "    \"type_contrat\": \"CDI\",\n",
      "    \"teletravail_possible\": false,\n",
      "    \"experience_pro_requise\": null,\n",
      "    \"diplomes\": [\"Master\", \"Doctorat\", \"autre\"],\n",
      "    \"spe_diplomes\": [\"Biophysics\", \"Chemistry\", \"Biochemistry\", \"Computational Chemistry\", \"Biology\", \"any related scientific field\"],\n",
      "    \"langues\": [\"Anglais\", \"autre\"],\n",
      "    \"stack_technique\": [\"Python\", \"Docker\", \"Linux\", \"Git\"]\n",
      "  }\n",
      "}\n"
     ]
    },
    {
     "name": "stderr",
     "output_type": "stream",
     "text": [
      " 54%|█████▍    | 455/841 [21:01<16:12,  2.52s/it]"
     ]
    },
    {
     "name": "stdout",
     "output_type": "stream",
     "text": [
      "{\n",
      "  \"poste\": {\n",
      "    \"type_contrat\": \"CDI\",\n",
      "    \"teletravail_possible\": false,\n",
      "    \"experience_pro_requise\": 5,\n",
      "    \"diplomes\": [\"Master\"],\n",
      "    \"spe_diplomes\": [\"Machine Learning\", \"Data Science\", \"NLP\", \"Informatique\"],\n",
      "    \"langues\": [\"Francais\", \"Anglais\"],\n",
      "    \"stack_technique\": [\"Python\", \"scikit-learn\", \"PyTorch\", \"Tensorflow\", \"HuggingFace\", \"SQL\", \"Spark\"]\n",
      "  }\n",
      "}\n"
     ]
    },
    {
     "name": "stderr",
     "output_type": "stream",
     "text": [
      " 54%|█████▍    | 456/841 [21:03<14:33,  2.27s/it]"
     ]
    },
    {
     "name": "stdout",
     "output_type": "stream",
     "text": [
      "{\n",
      "  \"poste\": {\n",
      "    \"type_contrat\": null,\n",
      "    \"teletravail_possible\": null,\n",
      "    \"experience_pro_requise\": 1,\n",
      "    \"diplomes\": [\"pas de diplome\"],\n",
      "    \"spe_diplomes\": [null],\n",
      "    \"langues\": [null],\n",
      "    \"stack_technique\": [\"Data Engineering\", \"Machine Learning\", \"RPA\", \"BI\", \"DevOps\"]\n",
      "  }\n",
      "}\n"
     ]
    },
    {
     "name": "stderr",
     "output_type": "stream",
     "text": [
      " 54%|█████▍    | 457/841 [21:06<15:31,  2.43s/it]"
     ]
    },
    {
     "name": "stdout",
     "output_type": "stream",
     "text": [
      "{\n",
      "  \"poste\": {\n",
      "    \"type_contrat\": \"CDI\",\n",
      "    \"teletravail_possible\": true,\n",
      "    \"experience_pro_requise\": 5,\n",
      "    \"diplomes\": [\"Master\", \"Bac+5\"],\n",
      "    \"spe_diplomes\": [\"IA\", \"Machine Learning\", \"Deep Learning\", \"Statistiques\"],\n",
      "    \"langues\": [\"Anglais\", \"Francais\", \"autre\"],\n",
      "    \"stack_technique\": [\"Python\", \"TensorFlow\", \"PyTorch\", \"Java\", \"Spark\", \"Scala\", \"Gitlab\", \"Docker\", \"MLOps\"]\n",
      "  }\n",
      "}\n"
     ]
    },
    {
     "name": "stderr",
     "output_type": "stream",
     "text": [
      " 54%|█████▍    | 458/841 [21:08<16:14,  2.54s/it]"
     ]
    },
    {
     "name": "stdout",
     "output_type": "stream",
     "text": [
      "{\n",
      "  \"poste\": {\n",
      "    \"type_contrat\": \"alternance\",\n",
      "    \"teletravail_possible\": false,\n",
      "    \"experience_pro_requise\": 1,\n",
      "    \"diplomes\": [\"Master\"],\n",
      "    \"spe_diplomes\": [\"computer science\"],\n",
      "    \"langues\": [\"Francais\", \"Anglais\", \"autre\"],\n",
      "    \"stack_technique\": [\"SQL\"]\n",
      "  }\n",
      "}\n"
     ]
    },
    {
     "name": "stderr",
     "output_type": "stream",
     "text": [
      " 55%|█████▍    | 459/841 [21:11<17:02,  2.68s/it]"
     ]
    },
    {
     "name": "stdout",
     "output_type": "stream",
     "text": [
      "{\n",
      "  \"poste\": {\n",
      "    \"type_contrat\": \"CDI\",\n",
      "    \"teletravail_possible\": true,\n",
      "    \"experience_pro_requise\": 3,\n",
      "    \"diplomes\": [\"Master\"],\n",
      "    \"spe_diplomes\": [],\n",
      "    \"langues\": [\"Anglais\", \"Francais\", \"autre\"],\n",
      "    \"stack_technique\": [\"SQL\", \"Python\", \"Data Mesh\", \"Star Schema\", \"DataVault\", \"AWS\", \"GCP\", \"Azure\", \"OVH\", \"Databricks\", \"Snowflake\", \"Synapse\", \"Redshift\", \"HDFS\", \"S3\", \"Azure Data Lake Store\", \"DevOps\", \"DataOps\", \"FinOps\", \"Green Data\", \"Agilité\"]\n",
      "  }\n",
      "}\n"
     ]
    },
    {
     "name": "stderr",
     "output_type": "stream",
     "text": [
      " 55%|█████▍    | 460/841 [21:13<15:42,  2.47s/it]"
     ]
    },
    {
     "name": "stdout",
     "output_type": "stream",
     "text": [
      "{\n",
      "  \"poste\": {\n",
      "    \"type_contrat\": \"CDI\",\n",
      "    \"teletravail_possible\": true,\n",
      "    \"experience_pro_requise\": 3,\n",
      "    \"diplomes\": [\"Doctorat\", \"Bac+5\"],\n",
      "    \"spe_diplomes\": [\"Data Science\", \"Intelligence Artificielle\"],\n",
      "    \"langues\": [\"Anglais\"],\n",
      "    \"stack_technique\": [\"Python\", \"R\", \"RShiny\", \"SQL\", \"Git\", \"Docker\", \"Jenkins/Nexus\", \"pySpark\", \"Spark\", \"NoSQL\", \"Dataiku\", \"AWS SageMaker\", \"Azure ML\"]\n",
      "  }\n",
      "}\n"
     ]
    },
    {
     "name": "stderr",
     "output_type": "stream",
     "text": [
      " 55%|█████▍    | 461/841 [21:15<14:54,  2.35s/it]"
     ]
    },
    {
     "name": "stdout",
     "output_type": "stream",
     "text": [
      "{\n",
      "  \"poste\": {\n",
      "    \"type_contrat\": \"CDI\",\n",
      "    \"teletravail_possible\": true,\n",
      "    \"experience_pro_requise\": 2,\n",
      "    \"diplomes\": [\"Master\", \"Doctorat\"],\n",
      "    \"spe_diplomes\": [\"Informatique\", \"Statistiques\", \"Mathématiques\"],\n",
      "    \"langues\": [\"Anglais\", \"Francais\"],\n",
      "    \"stack_technique\": [\"Python\", \"Cloud computing\", \"Analyse de données\", \"Modélisation prédictive\", \"Visualisation de données\"]\n",
      "  }\n",
      "}\n"
     ]
    },
    {
     "name": "stderr",
     "output_type": "stream",
     "text": [
      " 55%|█████▍    | 462/841 [21:18<14:52,  2.36s/it]"
     ]
    },
    {
     "name": "stdout",
     "output_type": "stream",
     "text": [
      "{\n",
      "  \"poste\": {\n",
      "    \"type_contrat\": \"CDI\",\n",
      "    \"teletravail_possible\": true,\n",
      "    \"experience_pro_requise\": 5,\n",
      "    \"diplomes\": [\"pas de diplome\", \"autre\"],\n",
      "    \"spe_diplomes\": [null, null],\n",
      "    \"langues\": [\"Anglais\", \"Francais\"],\n",
      "    \"stack_technique\": [\"Python\", \"SQL\", \"PyTorch\", \"NLP\", \"Git\", \"CI/CD\", \"Scala\", \"Spark\", \"PySpark\", \"AWS\", \"Docker\", \"NodeJS\", \"GraphQL\", \"ScyllaDB\", \"MongoDB\", \"Postgres\", \"Gitlab\", \"Nomad\", \"Terraform\"]\n",
      "  }\n",
      "}\n"
     ]
    },
    {
     "name": "stderr",
     "output_type": "stream",
     "text": [
      " 55%|█████▌    | 463/841 [21:19<13:31,  2.15s/it]"
     ]
    },
    {
     "name": "stdout",
     "output_type": "stream",
     "text": [
      "{\n",
      "  \"poste\": {\n",
      "    \"type_contrat\": \"CDI\",\n",
      "    \"teletravail_possible\": false,\n",
      "    \"experience_pro_requise\": 3,\n",
      "    \"diplomes\": [\"pas de diplome\"],\n",
      "    \"spe_diplomes\": [null],\n",
      "    \"langues\": [\"Anglais\"],\n",
      "    \"stack_technique\": [\"Python\", \"Data & AI\"]\n",
      "  }\n",
      "}\n"
     ]
    },
    {
     "name": "stderr",
     "output_type": "stream",
     "text": [
      " 55%|█████▌    | 464/841 [21:22<14:45,  2.35s/it]"
     ]
    },
    {
     "name": "stdout",
     "output_type": "stream",
     "text": [
      "{\n",
      "  \"poste\": {\n",
      "    \"type_contrat\": \"CDI\",\n",
      "    \"teletravail_possible\": true,\n",
      "    \"experience_pro_requise\": 5,\n",
      "    \"diplomes\": [\"Bac+5\", \"autre\"],\n",
      "    \"spe_diplomes\": [\"école d'ingénieur\", \"école d'informatique\", \"statistique\"],\n",
      "    \"langues\": [\"Francais\", \"Anglais\", \"autre\"],\n",
      "    \"stack_technique\": [\"Python\", \"R\", \"SAS\", \"SQL\", \"NoSQL\", \"Cassandra\", \"Dataiku\", \"Databricks\", \"GCP\", \"AWS\", \"Azure\", \"Kubernetes\", \"Docker\", \"API Management\"]\n",
      "  }\n",
      "}\n"
     ]
    },
    {
     "name": "stderr",
     "output_type": "stream",
     "text": [
      " 55%|█████▌    | 465/841 [21:24<14:26,  2.31s/it]"
     ]
    },
    {
     "name": "stdout",
     "output_type": "stream",
     "text": [
      "{\n",
      "  \"poste\": {\n",
      "    \"type_contrat\": \"CDI\",\n",
      "    \"teletravail_possible\": true,\n",
      "    \"experience_pro_requise\": 5,\n",
      "    \"diplomes\": [\"Master\"],\n",
      "    \"spe_diplomes\": [\"Informatique\", \"Data Science\"],\n",
      "    \"langues\": [\"Anglais\", \"Francais\", \"autre\"],\n",
      "    \"stack_technique\": [\"Algorithmes\", \"IA\", \"Langages de programmation\", \"Mathématiques\", \"Statistiques\", \"Data visualisation\", \"Machine Learning\", \"Neural Network\", \"Deep Learning\", \"C++\", \"C#\", \"Java\", \"Python\", \"Ruby\", \"REST\", \"MongoDB\"]\n",
      "  }\n",
      "}\n"
     ]
    },
    {
     "name": "stderr",
     "output_type": "stream",
     "text": [
      " 55%|█████▌    | 466/841 [21:26<13:38,  2.18s/it]"
     ]
    },
    {
     "name": "stdout",
     "output_type": "stream",
     "text": [
      "{\n",
      "  \"poste\": {\n",
      "    \"type_contrat\": \"stage\",\n",
      "    \"teletravail_possible\": true,\n",
      "    \"experience_pro_requise\": 1,\n",
      "    \"diplomes\": [\"Master\"],\n",
      "    \"spe_diplomes\": [\"analyse de données\", \"statistiques\", \"big data\"],\n",
      "    \"langues\": [\"Anglais\"],\n",
      "    \"stack_technique\": [\"Python\", \"SQL\", \"Google Spreadsheet\"]\n",
      "  }\n",
      "}\n"
     ]
    },
    {
     "name": "stderr",
     "output_type": "stream",
     "text": [
      " 56%|█████▌    | 467/841 [21:29<15:02,  2.41s/it]"
     ]
    },
    {
     "name": "stdout",
     "output_type": "stream",
     "text": [
      "{\n",
      "  \"poste\": {\n",
      "    \"type_contrat\": \"CDI\",\n",
      "    \"teletravail_possible\": null,\n",
      "    \"experience_pro_requise\": 5,\n",
      "    \"diplomes\": [\"Master\"],\n",
      "    \"spe_diplomes\": [\"informatique\", \"mathématique\"],\n",
      "    \"langues\": [\"Francais\", \"Anglais\"],\n",
      "    \"stack_technique\": [\"machine learning\", \"data science\", \"cloud computing\", \"base de données\"]\n",
      "  }\n",
      "}\n"
     ]
    },
    {
     "name": "stderr",
     "output_type": "stream",
     "text": [
      " 56%|█████▌    | 468/841 [21:31<14:09,  2.28s/it]"
     ]
    },
    {
     "name": "stdout",
     "output_type": "stream",
     "text": [
      "{\n",
      "  \"poste\": {\n",
      "    \"type_contrat\": \"CDI\",\n",
      "    \"teletravail_possible\": true,\n",
      "    \"experience_pro_requise\": 3,\n",
      "    \"diplomes\": [\"pas de diplome\"],\n",
      "    \"spe_diplomes\": [\"informatique\", \"statistiques\", \"mathématiques\", \"sciences de l'information\"],\n",
      "    \"langues\": [\"Francais\", \"Anglais\", \"autre\"],\n",
      "    \"stack_technique\": [\"TensorFlow\", \"PyTorch\", \"Python\"]\n",
      "  }\n",
      "}\n"
     ]
    },
    {
     "name": "stderr",
     "output_type": "stream",
     "text": [
      " 56%|█████▌    | 469/841 [21:39<23:18,  3.76s/it]"
     ]
    },
    {
     "name": "stdout",
     "output_type": "stream",
     "text": [
      "{\n",
      "  \"poste\": {\n",
      "    \"type_contrat\": \"alternance\",\n",
      "    \"teletravail_possible\": false,\n",
      "    \"experience_pro_requise\": 1,\n",
      "    \"diplomes\": [\"Bac+5\"],\n",
      "    \"spe_diplomes\": [\"Data Science\", \"statistiques\", \"informatique\", \"ingénierie\", \"mathématiques\", \"autre\"],\n",
      "    \"langues\": [\"Francais\", \"Anglais\", \"autre\"],\n",
      "    \"stack_technique\": [\"Python\", \"machine learning\"]\n",
      "  }\n",
      "}\n"
     ]
    },
    {
     "name": "stderr",
     "output_type": "stream",
     "text": [
      " 56%|█████▌    | 470/841 [21:40<19:50,  3.21s/it]"
     ]
    },
    {
     "name": "stdout",
     "output_type": "stream",
     "text": [
      "{\n",
      "  \"poste\": {\n",
      "    \"type_contrat\": \"CDI\",\n",
      "    \"teletravail_possible\": true,\n",
      "    \"experience_pro_requise\": 2,\n",
      "    \"diplomes\": [\"Licence\", \"Bac+3\", \"autre\"],\n",
      "    \"spe_diplomes\": [\"ingénieur agroalimentaire\", \"data science\", \"fromagerie\", \"traitement de données\"],\n",
      "    \"langues\": [\"Anglais\"],\n",
      "    \"stack_technique\": [\"Base de données\"]\n",
      "  }\n",
      "}\n"
     ]
    },
    {
     "name": "stderr",
     "output_type": "stream",
     "text": [
      " 56%|█████▌    | 471/841 [21:42<17:22,  2.82s/it]"
     ]
    },
    {
     "name": "stdout",
     "output_type": "stream",
     "text": [
      "{\n",
      "  \"poste\": {\n",
      "    \"type_contrat\": \"stage\",\n",
      "    \"teletravail_possible\": null,\n",
      "    \"experience_pro_requise\": 1,\n",
      "    \"diplomes\": [\"pas de diplome\"],\n",
      "    \"spe_diplomes\": null,\n",
      "    \"langues\": [\"Anglais\"],\n",
      "    \"stack_technique\": [\"Python\", \"apprentissage automatique\", \"science des données\", \"probabilité\", \"statistique\", \"optimisation\"]\n",
      "  }\n",
      "}\n"
     ]
    },
    {
     "name": "stderr",
     "output_type": "stream",
     "text": [
      " 56%|█████▌    | 472/841 [21:44<15:49,  2.57s/it]"
     ]
    },
    {
     "name": "stdout",
     "output_type": "stream",
     "text": [
      "{\n",
      "  \"poste\": {\n",
      "    \"type_contrat\": \"CDI\",\n",
      "    \"teletravail_possible\": null,\n",
      "    \"experience_pro_requise\": 2,\n",
      "    \"diplomes\": [\"Bac+3\", \"Bac+5\"],\n",
      "    \"spe_diplomes\": [\"Data Science\"],\n",
      "    \"langues\": [\"Francais\"],\n",
      "    \"stack_technique\": [\"SAS Viya\", \"DATAIKU\"]\n",
      "  }\n",
      "}\n"
     ]
    },
    {
     "name": "stderr",
     "output_type": "stream",
     "text": [
      " 56%|█████▌    | 473/841 [21:46<14:09,  2.31s/it]"
     ]
    },
    {
     "name": "stdout",
     "output_type": "stream",
     "text": [
      "{\n",
      "  \"poste\": {\n",
      "    \"type_contrat\": \"CDI\",\n",
      "    \"teletravail_possible\": false,\n",
      "    \"experience_pro_requise\": 2,\n",
      "    \"diplomes\": [\"Bac+3\", \"Bac+5\"],\n",
      "    \"spe_diplomes\": [\"Ecole d'Ingénieur\"],\n",
      "    \"langues\": [\"Francais\", \"Anglais\"],\n",
      "    \"stack_technique\": [\"SAS Viya\", \"DATAIKU\"]\n",
      "  }\n",
      "}\n"
     ]
    },
    {
     "name": "stderr",
     "output_type": "stream",
     "text": [
      " 56%|█████▋    | 474/841 [21:47<12:31,  2.05s/it]"
     ]
    },
    {
     "name": "stdout",
     "output_type": "stream",
     "text": [
      "{\n",
      "  \"poste\": {\n",
      "    \"type_contrat\": \"CDI\",\n",
      "    \"teletravail_possible\": true,\n",
      "    \"experience_pro_requise\": 3,\n",
      "    \"diplomes\": [\"Master\"],\n",
      "    \"spe_diplomes\": [\"Ingénieur\"],\n",
      "    \"langues\": [\"Anglais\", \"Francais\"],\n",
      "    \"stack_technique\": [\"Data scientist\", \"python\", \"systèmes aéronautiques\", \"intelligence artificielle\"]\n",
      "  }\n",
      "}\n"
     ]
    },
    {
     "name": "stderr",
     "output_type": "stream",
     "text": [
      " 56%|█████▋    | 475/841 [21:50<12:27,  2.04s/it]"
     ]
    },
    {
     "name": "stdout",
     "output_type": "stream",
     "text": [
      "{\n",
      "  \"poste\": {\n",
      "    \"type_contrat\": \"CDI\",\n",
      "    \"teletravail_possible\": false,\n",
      "    \"experience_pro_requise\": 3,\n",
      "    \"diplomes\": [\"pas de diplome\"],\n",
      "    \"spe_diplomes\": [null],\n",
      "    \"langues\": [null],\n",
      "    \"stack_technique\": [\"SQL\", \"Power BI\", \"Tableau\", \"Qlik\", \"Talend\", \"SSIS\", \"Informatica\", \"Datastage\", \"SQL Server\", \"MySQL\", \"NoSQL\"]\n",
      "  }\n",
      "}\n"
     ]
    },
    {
     "name": "stderr",
     "output_type": "stream",
     "text": [
      " 57%|█████▋    | 476/841 [21:51<11:59,  1.97s/it]"
     ]
    },
    {
     "name": "stdout",
     "output_type": "stream",
     "text": [
      "{\n",
      "  \"poste\": {\n",
      "    \"type_contrat\": \"CDI\",\n",
      "    \"teletravail_possible\": null,\n",
      "    \"experience_pro_requise\": 3,\n",
      "    \"diplomes\": [\"Bac+5\"],\n",
      "    \"spe_diplomes\": [\"Statistiques\", \"Data Science\"],\n",
      "    \"langues\": [null],\n",
      "    \"stack_technique\": [\"Python\", \"SQL\", \"Spark\", \"SAS\", \"Dataiku\"]\n",
      "  }\n",
      "}\n"
     ]
    },
    {
     "name": "stderr",
     "output_type": "stream",
     "text": [
      " 57%|█████▋    | 477/841 [21:53<12:15,  2.02s/it]"
     ]
    },
    {
     "name": "stdout",
     "output_type": "stream",
     "text": [
      "{\n",
      "  \"poste\": {\n",
      "    \"type_contrat\": \"CDI\",\n",
      "    \"teletravail_possible\": false,\n",
      "    \"experience_pro_requise\": 5,\n",
      "    \"diplomes\": [\"pas de diplome\"],\n",
      "    \"spe_diplomes\": [null],\n",
      "    \"langues\": [\"Anglais\"],\n",
      "    \"stack_technique\": [\"SQL\", \"Python\", \"GCP\", \"Azure\", \"ERP\", \"BIRST\", \"Oracle BI\", \"Power BI\", \"méthodes agiles\"]\n",
      "  }\n",
      "}\n"
     ]
    },
    {
     "name": "stderr",
     "output_type": "stream",
     "text": [
      " 57%|█████▋    | 478/841 [21:55<11:21,  1.88s/it]"
     ]
    },
    {
     "name": "stdout",
     "output_type": "stream",
     "text": [
      "{\n",
      "  \"poste\": {\n",
      "    \"type_contrat\": \"CDI\",\n",
      "    \"teletravail_possible\": null,\n",
      "    \"experience_pro_requise\": 3,\n",
      "    \"diplomes\": [\"Master\"],\n",
      "    \"spe_diplomes\": [\"Computer Science\", \"Mathématiques Appliquées\"],\n",
      "    \"langues\": [\"Anglais\"],\n",
      "    \"stack_technique\": [\"Python\", \"SQL\", \"Azure cloud\", \"Git\", \"Docker\", \"Spark\"]\n",
      "  }\n",
      "}\n"
     ]
    },
    {
     "name": "stderr",
     "output_type": "stream",
     "text": [
      " 57%|█████▋    | 479/841 [21:58<13:51,  2.30s/it]"
     ]
    },
    {
     "name": "stdout",
     "output_type": "stream",
     "text": [
      "{\n",
      "  \"poste\": {\n",
      "    \"type_contrat\": \"CDI\",\n",
      "    \"teletravail_possible\": true,\n",
      "    \"experience_pro_requise\": 5,\n",
      "    \"diplomes\": [\"pas de diplome\", \"autre\"],\n",
      "    \"spe_diplomes\": null,\n",
      "    \"langues\": [\"Anglais\", \"Francais\"],\n",
      "    \"stack_technique\": [\"Python\", \"SQL\", \"Fivetran\", \"BigQuery\", \"dbt\", \"AWS\", \"Google Cloud\", \"Azure\"]\n",
      "  }\n",
      "}\n"
     ]
    },
    {
     "name": "stderr",
     "output_type": "stream",
     "text": [
      " 57%|█████▋    | 480/841 [22:01<15:06,  2.51s/it]"
     ]
    },
    {
     "name": "stdout",
     "output_type": "stream",
     "text": [
      "{\n",
      "  \"poste\": {\n",
      "    \"type_contrat\": \"alternance\",\n",
      "    \"teletravail_possible\": false,\n",
      "    \"experience_pro_requise\": 1,\n",
      "    \"diplomes\": [\"Licence\", \"Master\", \"Doctorat\"],\n",
      "    \"spe_diplomes\": [\"Économétrie\", \"Statistiques\", \"Big data\", \"IA\", \"Mathématique appliquée & modélisation\"],\n",
      "    \"langues\": [\"Anglais\", \"Francais\", \"autre\"],\n",
      "    \"stack_technique\": [\"Python\", \"Shell\", \"SQL\", \"No-SQL\", \"Data Viz\", \"Big Data\"]\n",
      "  }\n",
      "}\n"
     ]
    },
    {
     "name": "stderr",
     "output_type": "stream",
     "text": [
      " 57%|█████▋    | 481/841 [22:05<16:31,  2.75s/it]"
     ]
    },
    {
     "name": "stdout",
     "output_type": "stream",
     "text": [
      "{\n",
      "  \"poste\": {\n",
      "    \"type_contrat\": \"CDI\",\n",
      "    \"teletravail_possible\": true,\n",
      "    \"experience_pro_requise\": 1,\n",
      "    \"diplomes\": [\"Master\", \"Doctorat\"],\n",
      "    \"spe_diplomes\": [\"Informatique\", \"Intelligence Artificielle\"],\n",
      "    \"langues\": [\"Anglais\", \"Francais\", \"Autre\"],\n",
      "    \"stack_technique\": [\"Python\", \"JavaScript\", \"PHP\", \"HTML/CSS\", \"Elastic Search\", \"React\", \"Angular\", \"jQuery\", \"Ruby\", \"Django\", \"Node.js\", \"Cloud (AWS, GCP, Azure)\", \"MLOps\", \"CUDA for GPU optimization\"]\n",
      "  }\n",
      "}\n"
     ]
    },
    {
     "name": "stderr",
     "output_type": "stream",
     "text": [
      " 57%|█████▋    | 482/841 [22:06<14:53,  2.49s/it]"
     ]
    },
    {
     "name": "stdout",
     "output_type": "stream",
     "text": [
      "{\n",
      "  \"poste\": {\n",
      "    \"type_contrat\": \"stage\",\n",
      "    \"teletravail_possible\": false,\n",
      "    \"experience_pro_requise\": 1,\n",
      "    \"diplomes\": [\"Master\"],\n",
      "    \"spe_diplomes\": [\"Data Science\"],\n",
      "    \"langues\": [\"Anglais\", \"Francais\"],\n",
      "    \"stack_technique\": [\"Python\", \"Machine Learning\", \"Finance\", \"Assurance\"]\n",
      "  }\n",
      "}\n"
     ]
    },
    {
     "name": "stderr",
     "output_type": "stream",
     "text": [
      " 57%|█████▋    | 483/841 [22:08<13:57,  2.34s/it]"
     ]
    },
    {
     "name": "stdout",
     "output_type": "stream",
     "text": [
      "{\n",
      "  \"poste\": {\n",
      "    \"type_contrat\": \"alternance\",\n",
      "    \"teletravail_possible\": false,\n",
      "    \"experience_pro_requise\": 1,\n",
      "    \"diplomes\": [\"Bac+3\", \"Bac+5\"],\n",
      "    \"spe_diplomes\": [\"statistiques / économétrie\", \"informatique décisionnelle\"],\n",
      "    \"langues\": [\"Francais\", \"Anglais\"],\n",
      "    \"stack_technique\": [\"Python\", \"SAS\", \"SQL\", \"Power BI\", \"Office\", \"Gitlab\"]\n",
      "  }\n",
      "}\n"
     ]
    },
    {
     "name": "stderr",
     "output_type": "stream",
     "text": [
      " 58%|█████▊    | 484/841 [22:11<14:12,  2.39s/it]"
     ]
    },
    {
     "name": "stdout",
     "output_type": "stream",
     "text": [
      "{\n",
      "  \"poste\": {\n",
      "    \"type_contrat\": \"CDI\",\n",
      "    \"teletravail_possible\": null,\n",
      "    \"experience_pro_requise\": 1,\n",
      "    \"diplomes\": [null],\n",
      "    \"spe_diplomes\": [null],\n",
      "    \"langues\": [\"Anglais\", \"Francais\"],\n",
      "    \"stack_technique\": [\"Python\", \"Pytorch\", \"Scikit-learn\", \"Numpy\", \"Pandas\", \"OpenCV\", \"Transformers\", \"LightGBM\", \"Django\", \"UiPath\", \"GCP\", \"Document AI\", \"Microsoft Azure\", \"AI Builder\", \"Instabase\"]\n",
      "  }\n",
      "}\n"
     ]
    },
    {
     "name": "stderr",
     "output_type": "stream",
     "text": [
      " 58%|█████▊    | 485/841 [22:19<23:30,  3.96s/it]"
     ]
    },
    {
     "name": "stdout",
     "output_type": "stream",
     "text": [
      "{\n",
      "  \"poste\": {\n",
      "    \"type_contrat\": \"CDI\",\n",
      "    \"teletravail_possible\": false,\n",
      "    \"experience_pro_requise\": 1,\n",
      "    \"diplomes\": [\"pas de diplome\"],\n",
      "    \"spe_diplomes\": [null],\n",
      "    \"langues\": [null],\n",
      "    \"stack_technique\": [\n",
      "      \"ETL Talend\",\n",
      "      \"ETL Informatica\",\n",
      "      \"Analyse fonctionnelle\",\n",
      "      \"Résolution d'incident\",\n",
      "      \"Certification Google\",\n",
      "      \"GCP\",\n",
      "      \"Base de données Oracle\",\n",
      "      \"Base de données SQL\",\n",
      "      \"Qliksense\",\n",
      "      \"Qlikview\",\n",
      "      \"BITQUERY\"\n",
      "    ]\n",
      "  }\n",
      "}\n"
     ]
    },
    {
     "name": "stderr",
     "output_type": "stream",
     "text": [
      " 58%|█████▊    | 486/841 [22:21<20:04,  3.39s/it]"
     ]
    },
    {
     "name": "stdout",
     "output_type": "stream",
     "text": [
      "{\n",
      "  \"poste\": {\n",
      "    \"type_contrat\": \"alternance\",\n",
      "    \"teletravail_possible\": false,\n",
      "    \"experience_pro_requise\": 1,\n",
      "    \"diplomes\": [\"pas de diplome\"],\n",
      "    \"spe_diplomes\": [\"Data Science\"],\n",
      "    \"langues\": [\"Francais\", \"Anglais\"],\n",
      "    \"stack_technique\": [\"Deep Learning\", \"CFD\", \"mécanique des structures\", \"Azure\", \"Ubuntu\", \"Python\", \"automatisation\"]\n",
      "  }\n",
      "}\n"
     ]
    },
    {
     "name": "stderr",
     "output_type": "stream",
     "text": [
      " 58%|█████▊    | 487/841 [22:23<17:32,  2.97s/it]"
     ]
    },
    {
     "name": "stdout",
     "output_type": "stream",
     "text": [
      "{\n",
      "  \"poste\": {\n",
      "    \"type_contrat\": \"alternance\",\n",
      "    \"teletravail_possible\": false,\n",
      "    \"experience_pro_requise\": 1,\n",
      "    \"diplomes\": [\"pas de diplome\"],\n",
      "    \"spe_diplomes\": [\"Économétrie\", \"Statistiques\", \"Big data\", \"IA\", \"Mathématique appliquée & modélisation\"],\n",
      "    \"langues\": [\"Anglais\"],\n",
      "    \"stack_technique\": [\"Python\", \"Shell\", \"SQL\", \"No-SQL\", \"Data Viz\"]\n",
      "  }\n",
      "}\n"
     ]
    },
    {
     "name": "stderr",
     "output_type": "stream",
     "text": [
      " 58%|█████▊    | 488/841 [22:25<15:50,  2.69s/it]"
     ]
    },
    {
     "name": "stdout",
     "output_type": "stream",
     "text": [
      "{\n",
      "  \"poste\": {\n",
      "    \"type_contrat\": \"CDI\",\n",
      "    \"teletravail_possible\": true,\n",
      "    \"experience_pro_requise\": 5,\n",
      "    \"diplomes\": [\"pas de diplome\"],\n",
      "    \"spe_diplomes\": [null],\n",
      "    \"langues\": [\"Anglais\", \"Francais\"],\n",
      "    \"stack_technique\": [\"data analytics\", \"data engineering\", \"data management\", \"data culture\", \"client-facing\"]\n",
      "  }\n",
      "}\n"
     ]
    },
    {
     "name": "stderr",
     "output_type": "stream",
     "text": [
      " 58%|█████▊    | 489/841 [22:27<15:49,  2.70s/it]"
     ]
    },
    {
     "name": "stdout",
     "output_type": "stream",
     "text": [
      "{\n",
      "  \"poste\": {\n",
      "    \"type_contrat\": \"CDI\",\n",
      "    \"teletravail_possible\": null,\n",
      "    \"experience_pro_requise\": 1,\n",
      "    \"diplomes\": [\"Bac+5\"],\n",
      "    \"spe_diplomes\": [\"statistiques\", \"mathématiques\", \"informatique\", \"science des données\", \"Intelligence Artificielle\"],\n",
      "    \"langues\": [\"Anglais\"],\n",
      "    \"stack_technique\": [\"Python\", \"R\", \"SAS\", \"SQL\", \"TensorFlow\", \"PyTorch\", \"Scikit-Learn\", \"NLP\", \"GPT\"]\n",
      "  }\n",
      "}\n"
     ]
    },
    {
     "name": "stderr",
     "output_type": "stream",
     "text": [
      " 58%|█████▊    | 490/841 [22:29<13:55,  2.38s/it]"
     ]
    },
    {
     "name": "stdout",
     "output_type": "stream",
     "text": [
      "{\n",
      "  \"poste\": {\n",
      "    \"type_contrat\": \"stage\",\n",
      "    \"teletravail_possible\": false,\n",
      "    \"experience_pro_requise\": 1,\n",
      "    \"diplomes\": [\"Bac+5\"],\n",
      "    \"spe_diplomes\": [\"data science\"],\n",
      "    \"langues\": [\"Anglais\"],\n",
      "    \"stack_technique\": [\"ML\", \"DL\", \"AI\"]\n",
      "  }\n",
      "}\n"
     ]
    },
    {
     "name": "stderr",
     "output_type": "stream",
     "text": [
      " 58%|█████▊    | 491/841 [22:36<22:19,  3.83s/it]"
     ]
    },
    {
     "name": "stdout",
     "output_type": "stream",
     "text": [
      "{\n",
      "  \"poste\": {\n",
      "    \"type_contrat\": \"alternance\",\n",
      "    \"teletravail_possible\": null,\n",
      "    \"experience_pro_requise\": 1,\n",
      "    \"diplomes\": [\"Bac+5\"],\n",
      "    \"spe_diplomes\": [\"Data Analyste\", \"Data Scientist\"],\n",
      "    \"langues\": [\"Francais\", \"Anglais\"],\n",
      "    \"stack_technique\": [\"Python\", \"Power BI\", \"Excel\", \"PowerPoint\", \"Word\"]\n",
      "  }\n",
      "}\n"
     ]
    },
    {
     "name": "stderr",
     "output_type": "stream",
     "text": [
      " 59%|█████▊    | 492/841 [22:39<19:57,  3.43s/it]"
     ]
    },
    {
     "name": "stdout",
     "output_type": "stream",
     "text": [
      "{\n",
      "  \"poste\": {\n",
      "    \"type_contrat\": \"CDI\",\n",
      "    \"teletravail_possible\": true,\n",
      "    \"experience_pro_requise\": 2,\n",
      "    \"diplomes\": [\"Licence\", \"Master\", \"Doctorat\", \"Bac+3\", \"Bac+5\", \"Bac+7\", \"pas de diplome\", \"autre\"],\n",
      "    \"spe_diplomes\": [\"Informatique\", \"Data Science\", \"Gestion de projet\"],\n",
      "    \"langues\": [\"Anglais\", \"Francais\", \"autre\"],\n",
      "    \"stack_technique\": [\"Dataiku\", \"Tableau\", \"Project Management\"]\n",
      "  }\n",
      "}\n"
     ]
    },
    {
     "name": "stderr",
     "output_type": "stream",
     "text": [
      " 59%|█████▊    | 493/841 [22:41<17:38,  3.04s/it]"
     ]
    },
    {
     "name": "stdout",
     "output_type": "stream",
     "text": [
      "{\n",
      "  \"poste\": {\n",
      "    \"type_contrat\": \"alternance\",\n",
      "    \"teletravail_possible\": null,\n",
      "    \"experience_pro_requise\": 1,\n",
      "    \"diplomes\": [\"Master\", \"autre\"],\n",
      "    \"spe_diplomes\": [\"Ingénierie Mathématique\", \"Informatique de Gestion\"],\n",
      "    \"langues\": [\"Anglais\", \"Francais\", \"autre\"],\n",
      "    \"stack_technique\": [\"Python\", \"Oracle\", \"SAS\", \"Excel\", \"NLP\", \"Deep Learning\", \"data science\"]\n",
      "  }\n",
      "}\n"
     ]
    },
    {
     "name": "stderr",
     "output_type": "stream",
     "text": [
      " 59%|█████▊    | 494/841 [22:43<15:17,  2.64s/it]"
     ]
    },
    {
     "name": "stdout",
     "output_type": "stream",
     "text": [
      "{\n",
      "  \"poste\": {\n",
      "    \"type_contrat\": \"CDI\",\n",
      "    \"teletravail_possible\": true,\n",
      "    \"experience_pro_requise\": 3,\n",
      "    \"diplomes\": [\"Bac+5\"],\n",
      "    \"spe_diplomes\": [\"Informatique\", \"Data Science\"],\n",
      "    \"langues\": [\"Anglais\", \"Francais\"],\n",
      "    \"stack_technique\": [\"SQL\", \"Data warehousing\", \"Data modeling\"]\n",
      "  }\n",
      "}\n"
     ]
    },
    {
     "name": "stderr",
     "output_type": "stream",
     "text": [
      " 59%|█████▉    | 495/841 [22:44<13:57,  2.42s/it]"
     ]
    },
    {
     "name": "stdout",
     "output_type": "stream",
     "text": [
      "{\n",
      "  \"poste\": {\n",
      "    \"type_contrat\": \"CDI\",\n",
      "    \"teletravail_possible\": null,\n",
      "    \"experience_pro_requise\": 1,\n",
      "    \"diplomes\": [\"Master\", null],\n",
      "    \"spe_diplomes\": [\"Mathématiques\", null],\n",
      "    \"langues\": [null],\n",
      "    \"stack_technique\": [\"Python\", \"SQL\", \"Terraform\", \"Bitbucket\", \"Jenkins\", \"Airflow\", \"Docker\", \"Kubernetes\", \"GCP (BigQuery, Spark DataProc)\"]\n",
      "  }\n",
      "}\n"
     ]
    },
    {
     "name": "stderr",
     "output_type": "stream",
     "text": [
      " 59%|█████▉    | 496/841 [22:46<12:51,  2.24s/it]"
     ]
    },
    {
     "name": "stdout",
     "output_type": "stream",
     "text": [
      "{\n",
      "  \"poste\": {\n",
      "    \"type_contrat\": \"CDI\",\n",
      "    \"teletravail_possible\": true,\n",
      "    \"experience_pro_requise\": 1,\n",
      "    \"diplomes\": [\"pas de diplome\"],\n",
      "    \"spe_diplomes\": [null],\n",
      "    \"langues\": [\"Anglais\"],\n",
      "    \"stack_technique\": [\"SQL\", \"Python\", \"Tableau\", \"Databricks\", \"DBT\"]\n",
      "  }\n",
      "}\n"
     ]
    },
    {
     "name": "stderr",
     "output_type": "stream",
     "text": [
      " 59%|█████▉    | 497/841 [22:48<11:52,  2.07s/it]"
     ]
    },
    {
     "name": "stdout",
     "output_type": "stream",
     "text": [
      "{\n",
      "  \"poste\": {\n",
      "    \"type_contrat\": \"alternance\",\n",
      "    \"teletravail_possible\": false,\n",
      "    \"experience_pro_requise\": 1,\n",
      "    \"diplomes\": [\"Bac+3\", \"Bac+5\", \"autre\"],\n",
      "    \"spe_diplomes\": [\"Supply Chain\"],\n",
      "    \"langues\": [\"Francais\"],\n",
      "    \"stack_technique\": [\"Power BI\"]\n",
      "  }\n",
      "}\n"
     ]
    },
    {
     "name": "stderr",
     "output_type": "stream",
     "text": [
      " 59%|█████▉    | 498/841 [22:50<11:47,  2.06s/it]"
     ]
    },
    {
     "name": "stdout",
     "output_type": "stream",
     "text": [
      "{\n",
      "  \"poste\": {\n",
      "    \"type_contrat\": \"alternance\",\n",
      "    \"teletravail_possible\": false,\n",
      "    \"experience_pro_requise\": 1,\n",
      "    \"diplomes\": [\"Master\"],\n",
      "    \"spe_diplomes\": [\"Data\"],\n",
      "    \"langues\": [\"Francais\"],\n",
      "    \"stack_technique\": [\"SQL\", \"Tableau\", \"Python\", \"Machine Learning\"]\n",
      "  }\n",
      "}\n"
     ]
    },
    {
     "name": "stderr",
     "output_type": "stream",
     "text": [
      " 59%|█████▉    | 499/841 [22:52<10:46,  1.89s/it]"
     ]
    },
    {
     "name": "stdout",
     "output_type": "stream",
     "text": [
      "{\n",
      "  \"poste\": {\n",
      "    \"type_contrat\": \"alternance\",\n",
      "    \"teletravail_possible\": false,\n",
      "    \"experience_pro_requise\": 1,\n",
      "    \"diplomes\": [\"Master\"],\n",
      "    \"spe_diplomes\": [\"Data Science\", \"Ingénierie\"],\n",
      "    \"langues\": [\"Anglais\"],\n",
      "    \"stack_technique\": [\"Microsoft Excel\", \"Microsoft Power Apps\", \"Python\", \"SQL\", \"Power BI\"]\n",
      "  }\n",
      "}\n"
     ]
    },
    {
     "name": "stderr",
     "output_type": "stream",
     "text": [
      " 59%|█████▉    | 500/841 [22:53<10:11,  1.79s/it]"
     ]
    },
    {
     "name": "stdout",
     "output_type": "stream",
     "text": [
      "{\n",
      "  \"poste\": {\n",
      "    \"type_contrat\": \"stage\",\n",
      "    \"teletravail_possible\": true,\n",
      "    \"experience_pro_requise\": 1,\n",
      "    \"diplomes\": [\"Master\", \"autre\"],\n",
      "    \"spe_diplomes\": [\"data science\", \"Big Data\", \"statistiques appliquées\"],\n",
      "    \"langues\": [\"Anglais\"],\n",
      "    \"stack_technique\": [\"Python\", \"SciKit-Learn\", \"R\", \"SQL\"]\n",
      "  }\n",
      "}\n"
     ]
    },
    {
     "name": "stderr",
     "output_type": "stream",
     "text": [
      " 60%|█████▉    | 501/841 [22:55<09:41,  1.71s/it]"
     ]
    },
    {
     "name": "stdout",
     "output_type": "stream",
     "text": [
      "{\n",
      "  \"poste\": {\n",
      "    \"type_contrat\": \"CDI\",\n",
      "    \"teletravail_possible\": false,\n",
      "    \"experience_pro_requise\": 3,\n",
      "    \"diplomes\": [\"Master\", \"autre\"],\n",
      "    \"spe_diplomes\": [\"Data\"],\n",
      "    \"langues\": [\"Anglais\"],\n",
      "    \"stack_technique\": [\"TALEND\", \"SQL\", \"Excel\", \"ERP (JDE)\"]\n",
      "  }\n",
      "}\n"
     ]
    },
    {
     "name": "stderr",
     "output_type": "stream",
     "text": [
      " 60%|█████▉    | 502/841 [22:56<09:32,  1.69s/it]"
     ]
    },
    {
     "name": "stdout",
     "output_type": "stream",
     "text": [
      "{\n",
      "  \"poste\": {\n",
      "    \"type_contrat\": \"CDI\",\n",
      "    \"teletravail_possible\": null,\n",
      "    \"experience_pro_requise\": 5,\n",
      "    \"diplomes\": [\"Bac+5\"],\n",
      "    \"spe_diplomes\": [\"informatique\"],\n",
      "    \"langues\": [null],\n",
      "    \"stack_technique\": [\"Big Data\", \"Spark\", \"Hadoop\", \"Data Engineer\", \"Data Scientist\", \"Data Analyst\"]\n",
      "  }\n",
      "}\n"
     ]
    },
    {
     "name": "stderr",
     "output_type": "stream",
     "text": [
      " 60%|█████▉    | 503/841 [22:58<09:49,  1.74s/it]"
     ]
    },
    {
     "name": "stdout",
     "output_type": "stream",
     "text": [
      "{\n",
      "  \"poste\": {\n",
      "    \"type_contrat\": \"CDI\",\n",
      "    \"teletravail_possible\": true,\n",
      "    \"experience_pro_requise\": 2,\n",
      "    \"diplomes\": [\"Bac+5\"],\n",
      "    \"spe_diplomes\": [\"Ingénierie\"],\n",
      "    \"langues\": [\"Francais\", \"Anglais\"],\n",
      "    \"stack_technique\": [\"SQL\", \"R\", \"Python\", \"SAS\", \"Tableau\", \"Qliksense\", \"Qlickview\", \"Microsoft Power BI\", \"dataiku\"]\n",
      "  }\n",
      "}\n"
     ]
    },
    {
     "name": "stderr",
     "output_type": "stream",
     "text": [
      " 60%|█████▉    | 504/841 [23:00<10:09,  1.81s/it]"
     ]
    },
    {
     "name": "stdout",
     "output_type": "stream",
     "text": [
      "{\n",
      "  \"poste\": {\n",
      "    \"type_contrat\": \"CDI\",\n",
      "    \"teletravail_possible\": null,\n",
      "    \"experience_pro_requise\": 1,\n",
      "    \"diplomes\": [\"Master\", \"Doctorat\", \"Bac+3\", \"Bac+5\", \"pas de diplome\"],\n",
      "    \"spe_diplomes\": null,\n",
      "    \"langues\": [\"Anglais\", \"Francais\", \"Espagnol\", \"Allemand\", \"Italien\", \"Portuguais\", \"autre\"],\n",
      "    \"stack_technique\": [\"Data Science\", \"Data Analysis\", \"Machine Learning\", \"Statistical Modeling\"]\n",
      "  }\n",
      "}\n"
     ]
    },
    {
     "name": "stderr",
     "output_type": "stream",
     "text": [
      " 60%|██████    | 505/841 [23:02<09:46,  1.75s/it]"
     ]
    },
    {
     "name": "stdout",
     "output_type": "stream",
     "text": [
      "{\n",
      "  \"poste\": {\n",
      "    \"type_contrat\": \"stage\",\n",
      "    \"teletravail_possible\": false,\n",
      "    \"experience_pro_requise\": 1,\n",
      "    \"diplomes\": [\"Master\"],\n",
      "    \"spe_diplomes\": [\"DATA\", \"IT\", \"SI\"],\n",
      "    \"langues\": [\"Anglais\"],\n",
      "    \"stack_technique\": [\"Data Analyst\", \"Data Scientist\"]\n",
      "  }\n",
      "}\n"
     ]
    },
    {
     "name": "stderr",
     "output_type": "stream",
     "text": [
      " 60%|██████    | 506/841 [23:03<09:51,  1.76s/it]"
     ]
    },
    {
     "name": "stdout",
     "output_type": "stream",
     "text": [
      "{\n",
      "  \"poste\": {\n",
      "    \"type_contrat\": \"stage\",\n",
      "    \"teletravail_possible\": false,\n",
      "    \"experience_pro_requise\": 1,\n",
      "    \"diplomes\": [\"Bac+5\"],\n",
      "    \"spe_diplomes\": [\"Data\", \"Statistiques\", \"Marketing Quantitatif\"],\n",
      "    \"langues\": [\"Anglais\", \"Francais\"],\n",
      "    \"stack_technique\": [\"Excel\", \"Python\", \"SQL\", \"Azure\", \"Databricks\"]\n",
      "  }\n",
      "}\n"
     ]
    },
    {
     "name": "stderr",
     "output_type": "stream",
     "text": [
      " 60%|██████    | 507/841 [23:07<12:58,  2.33s/it]"
     ]
    },
    {
     "name": "stdout",
     "output_type": "stream",
     "text": [
      "{\n",
      "  \"poste\": {\n",
      "    \"type_contrat\": \"CDI\",\n",
      "    \"teletravail_possible\": true,\n",
      "    \"experience_pro_requise\": 3,\n",
      "    \"diplomes\": [\"Master\", \"Doctorat\"],\n",
      "    \"spe_diplomes\": [\"bioinformatics\", \"biostatistics\", \"mathematics\", \"biological sciences\"],\n",
      "    \"langues\": [\"Anglais\"],\n",
      "    \"stack_technique\": [\"R/Shiny\", \"Python\", \"SQL\", \"statistical package\"],\n",
      "  \"properties\": {\n",
      "    \"type_contrat\": \"CDI\",\n",
      "    \"teletravail_possible\": true,\n",
      "    \"experience_pro_requise\": 3,\n",
      "    \"diplomes\": [\"Master\", \"Doctorat\"],\n",
      "    \"spe_diplomes\": [\"bioinformatics\", \"biostatistics\", \"mathematics\", \"biological sciences\"],\n",
      "    \"langues\": [\"Anglais\"],\n",
      "    \"stack_technique\": [\"R/Shiny\", \"Python\", \"SQL\", \"statistical package\"]\n",
      "  }\n",
      "}   }\n",
      "     \n"
     ]
    },
    {
     "name": "stderr",
     "output_type": "stream",
     "text": [
      " 60%|██████    | 508/841 [23:10<13:12,  2.38s/it]"
     ]
    },
    {
     "name": "stdout",
     "output_type": "stream",
     "text": [
      "{\n",
      "  \"poste\": {\n",
      "    \"type_contrat\": \"CDI\",\n",
      "    \"teletravail_possible\": true,\n",
      "    \"experience_pro_requise\": 2,\n",
      "    \"diplomes\": [\"pas de diplome\"],\n",
      "    \"spe_diplomes\": [null],\n",
      "    \"langues\": [\"Anglais\"],\n",
      "    \"stack_technique\": [\"R\", \"python\", \"SQL\", \"SAS\", \"HBase\", \"MongoDB\", \"Cassandra\", \"Knime\", \"RapidMiner\", \"dataiku\", \"Hadoop\", \"Spark\", \"Hive\", \"GCP\", \"AWS\", \"Azure\"]\n",
      "  }\n",
      "}\n"
     ]
    },
    {
     "name": "stderr",
     "output_type": "stream",
     "text": [
      " 61%|██████    | 509/841 [23:11<11:56,  2.16s/it]"
     ]
    },
    {
     "name": "stdout",
     "output_type": "stream",
     "text": [
      "{\n",
      "  \"poste\": {\n",
      "    \"type_contrat\": \"alternance\",\n",
      "    \"teletravail_possible\": false,\n",
      "    \"experience_pro_requise\": 1,\n",
      "    \"diplomes\": [\"pas de diplome\"],\n",
      "    \"spe_diplomes\": [],\n",
      "    \"langues\": [\"Francais\"],\n",
      "    \"stack_technique\": [\"PowerBI\", \"Data Lake\"]\n",
      "  }\n",
      "}\n"
     ]
    },
    {
     "name": "stderr",
     "output_type": "stream",
     "text": [
      " 61%|██████    | 510/841 [23:13<11:02,  2.00s/it]"
     ]
    },
    {
     "name": "stdout",
     "output_type": "stream",
     "text": [
      "{\n",
      "  \"poste\": {\n",
      "    \"type_contrat\": \"alternance\",\n",
      "    \"teletravail_possible\": true,\n",
      "    \"experience_pro_requise\": 1,\n",
      "    \"diplomes\": [\"Master\"],\n",
      "    \"spe_diplomes\": [\"Data science\", \"Statistiques\"],\n",
      "    \"langues\": [\"Anglais\"],\n",
      "    \"stack_technique\": [\"SQL\", \"SAS\", \"PowerBI\", \"Excel\"]\n",
      "  }\n",
      "}\n"
     ]
    },
    {
     "name": "stderr",
     "output_type": "stream",
     "text": [
      " 61%|██████    | 511/841 [23:15<11:01,  2.00s/it]"
     ]
    },
    {
     "name": "stdout",
     "output_type": "stream",
     "text": [
      "{\n",
      "  \"poste\": {\n",
      "    \"type_contrat\": \"stage\",\n",
      "    \"teletravail_possible\": false,\n",
      "    \"experience_pro_requise\": 1,\n",
      "    \"diplomes\": [\"Licence\", \"Master\", \"Doctorat\", \"Bac+3\", \"Bac+5\", \"Bac+7\", \"pas de diplome\", \"autre\"],\n",
      "    \"spe_diplomes\": [\"Data Science\", \"Analyse de données\", \"Informatique\"],\n",
      "    \"langues\": [\"Anglais\", \"Francais\", \"Espagnol\", \"Allemand\", \"Italien\", \"Portuguais\", \"autre\"],\n",
      "    \"stack_technique\": [\"Power BI\", \"Looker Studio\", \"Scraping de données\"]\n",
      "  }\n",
      "}\n"
     ]
    },
    {
     "name": "stderr",
     "output_type": "stream",
     "text": [
      " 61%|██████    | 512/841 [23:17<10:58,  2.00s/it]"
     ]
    },
    {
     "name": "stdout",
     "output_type": "stream",
     "text": [
      "{\n",
      "  \"poste\": {\n",
      "    \"type_contrat\": \"alternance\",\n",
      "    \"teletravail_possible\": true,\n",
      "    \"experience_pro_requise\": 1,\n",
      "    \"diplomes\": [\"Bac+4\", \"autre\"],\n",
      "    \"spe_diplomes\": [\"Data\", \"Analyse de données\"],\n",
      "    \"langues\": [\"Francais\", \"Anglais\", \"autre\"],\n",
      "    \"stack_technique\": [\"Excel\", \"Power BI\", \"VBA\", \"SQL\"]\n",
      "  }\n",
      "}\n"
     ]
    },
    {
     "name": "stderr",
     "output_type": "stream",
     "text": [
      " 61%|██████    | 513/841 [23:19<10:16,  1.88s/it]"
     ]
    },
    {
     "name": "stdout",
     "output_type": "stream",
     "text": [
      "{\n",
      "  \"poste\": {\n",
      "    \"type_contrat\": \"stage\",\n",
      "    \"teletravail_possible\": true,\n",
      "    \"experience_pro_requise\": 1,\n",
      "    \"diplomes\": [\"Bac+5\"],\n",
      "    \"spe_diplomes\": [\"Informatique\", \"Data analyse\"],\n",
      "    \"langues\": [\"Anglais\", \"Francais\"],\n",
      "    \"stack_technique\": [\"SQL\"]\n",
      "  }\n",
      "}\n"
     ]
    },
    {
     "name": "stderr",
     "output_type": "stream",
     "text": [
      " 61%|██████    | 514/841 [23:21<10:44,  1.97s/it]"
     ]
    },
    {
     "name": "stdout",
     "output_type": "stream",
     "text": [
      "{\n",
      "  \"poste\": {\n",
      "    \"type_contrat\": \"CDI\",\n",
      "    \"teletravail_possible\": false,\n",
      "    \"experience_pro_requise\": 1,\n",
      "    \"diplomes\": [\"Bac+5\"],\n",
      "    \"spe_diplomes\": [\"ingénieur\", \"Statistiques\"],\n",
      "    \"langues\": [null],\n",
      "    \"stack_technique\": [\"DataiKu\", \"Power BI\", \"SQL\", \"Python\", \"R\", \"statistiques descriptives\", \"analyse exploratoire de données\", \"modèle prédictifs\", \"technologies DataLake\", \"mode projet Agile\"]\n",
      "  }\n",
      "}\n"
     ]
    },
    {
     "name": "stderr",
     "output_type": "stream",
     "text": [
      " 61%|██████    | 515/841 [23:22<10:17,  1.89s/it]"
     ]
    },
    {
     "name": "stdout",
     "output_type": "stream",
     "text": [
      "{\n",
      "  \"poste\": {\n",
      "    \"type_contrat\": \"alternance\",\n",
      "    \"teletravail_possible\": true,\n",
      "    \"experience_pro_requise\": 1,\n",
      "    \"diplomes\": [\"Bac+4\"],\n",
      "    \"spe_diplomes\": [\"data mining\", \"data science\", \"statistique\"],\n",
      "    \"langues\": [\"Anglais\"],\n",
      "    \"stack_technique\": [\"Excel\", \"Tableau\", \"Power BI\", \"QlikView\", \"Python\", \"Java\", \"VBA\"]\n",
      "  }\n",
      "}\n"
     ]
    },
    {
     "name": "stderr",
     "output_type": "stream",
     "text": [
      " 61%|██████▏   | 516/841 [23:25<10:44,  1.98s/it]"
     ]
    },
    {
     "name": "stdout",
     "output_type": "stream",
     "text": [
      "{\n",
      "  \"poste\": {\n",
      "    \"type_contrat\": \"CDI\",\n",
      "    \"teletravail_possible\": true,\n",
      "    \"experience_pro_requise\": 2,\n",
      "    \"diplomes\": [\"Bac+3\"],\n",
      "    \"spe_diplomes\": [\"Analyse de données\"],\n",
      "    \"langues\": [\"Anglais\", \"Francais\"],\n",
      "    \"stack_technique\": [\"SQL\", \"Python\", \"Tableau\", \"Power BI\"]\n",
      "  }\n",
      "}\n"
     ]
    },
    {
     "name": "stderr",
     "output_type": "stream",
     "text": [
      " 61%|██████▏   | 517/841 [23:26<10:09,  1.88s/it]"
     ]
    },
    {
     "name": "stdout",
     "output_type": "stream",
     "text": [
      "{\n",
      "  \"poste\": {\n",
      "    \"type_contrat\": \"alternance\",\n",
      "    \"teletravail_possible\": true,\n",
      "    \"experience_pro_requise\": 1,\n",
      "    \"diplomes\": [\"Master\"],\n",
      "    \"spe_diplomes\": [\"Data Science\"],\n",
      "    \"langues\": [\"Anglais\"],\n",
      "    \"stack_technique\": [\"Python\", \"R\", \"SQL\", \"HADOOP/SPARK\"]\n",
      "  }\n",
      "}\n"
     ]
    },
    {
     "name": "stderr",
     "output_type": "stream",
     "text": [
      " 62%|██████▏   | 518/841 [23:28<10:21,  1.93s/it]"
     ]
    },
    {
     "name": "stdout",
     "output_type": "stream",
     "text": [
      "{\n",
      "  \"poste\": {\n",
      "    \"type_contrat\": \"CDI\",\n",
      "    \"teletravail_possible\": false,\n",
      "    \"experience_pro_requise\": 3,\n",
      "    \"diplomes\": [\"pas de diplome\"],\n",
      "    \"spe_diplomes\": [null],\n",
      "    \"langues\": [null],\n",
      "    \"stack_technique\": [\"SQL\", \"Python\", \"R\", \"API REST\", \"JSON\", \"Power BI\", \"Tableau Software\", \"EXCEL\"]\n",
      "  }\n",
      "}\n"
     ]
    },
    {
     "name": "stderr",
     "output_type": "stream",
     "text": [
      " 62%|██████▏   | 519/841 [23:30<10:12,  1.90s/it]"
     ]
    },
    {
     "name": "stdout",
     "output_type": "stream",
     "text": [
      "{\n",
      "  \"poste\": {\n",
      "    \"type_contrat\": \"CDI\",\n",
      "    \"teletravail_possible\": true,\n",
      "    \"experience_pro_requise\": 3,\n",
      "    \"diplomes\": [\"Licence\"],\n",
      "    \"spe_diplomes\": [\"Data Science\", \"Analyse des Données\"],\n",
      "    \"langues\": [\"Anglais\", \"Francais\"],\n",
      "    \"stack_technique\": [\"outils d'automatisation\", \"gestion de la relation client\", \"analyse des données\"]\n",
      "  }\n",
      "}\n"
     ]
    },
    {
     "name": "stderr",
     "output_type": "stream",
     "text": [
      " 62%|██████▏   | 520/841 [23:32<10:06,  1.89s/it]"
     ]
    },
    {
     "name": "stdout",
     "output_type": "stream",
     "text": [
      "{\n",
      "  \"poste\": {\n",
      "    \"type_contrat\": \"CDI\",\n",
      "    \"teletravail_possible\": true,\n",
      "    \"experience_pro_requise\": 2,\n",
      "    \"diplomes\": [\"Bac+5\"],\n",
      "    \"spe_diplomes\": [\"statistiques\", \"informatique\", \"mathématiques appliquées\"],\n",
      "    \"langues\": [\"Francais\"],\n",
      "    \"stack_technique\": [\"Python\", \"SQL\", \"Talend\", \"Tableau\"]\n",
      "  }\n",
      "}\n"
     ]
    },
    {
     "name": "stderr",
     "output_type": "stream",
     "text": [
      " 62%|██████▏   | 521/841 [23:34<09:55,  1.86s/it]"
     ]
    },
    {
     "name": "stdout",
     "output_type": "stream",
     "text": [
      "{\n",
      "  \"poste\": {\n",
      "    \"type_contrat\": \"alternance\",\n",
      "    \"teletravail_possible\": false,\n",
      "    \"experience_pro_requise\": 1,\n",
      "    \"diplomes\": [\"pas de diplome\"],\n",
      "    \"spe_diplomes\": [null],\n",
      "    \"langues\": [null],\n",
      "    \"stack_technique\": [\n",
      "      \"SQL\",\n",
      "      \"Postgresql\",\n",
      "      \"Postgis\",\n",
      "      \"FME\",\n",
      "      \"QGIS\"\n",
      "    ]\n",
      "  }\n",
      "}\n"
     ]
    },
    {
     "name": "stderr",
     "output_type": "stream",
     "text": [
      " 62%|██████▏   | 522/841 [23:37<12:31,  2.36s/it]"
     ]
    },
    {
     "name": "stdout",
     "output_type": "stream",
     "text": [
      "{\n",
      "  \"poste\": {\n",
      "    \"type_contrat\": \"CDI\",\n",
      "    \"teletravail_possible\": true,\n",
      "    \"experience_pro_requise\": 3,\n",
      "    \"diplomes\": [\"Licence\", \"Master\", \"Doctorat\"],\n",
      "    \"spe_diplomes\": [\"Informatique\", \"Mathématiques\", \"Statistiques\"],\n",
      "    \"langues\": [\"Anglais\", \"Francais\", \"Espagnol\"],\n",
      "    \"stack_technique\": [\"Data Visualisation\", \"Zoho CRM\", \"Zoho Analytics\", \"GA4\", \"API\", \"WebServices\", \"Machine Learning\"]\n",
      "  }\n",
      "}\n"
     ]
    },
    {
     "name": "stderr",
     "output_type": "stream",
     "text": [
      " 62%|██████▏   | 523/841 [23:39<11:41,  2.20s/it]"
     ]
    },
    {
     "name": "stdout",
     "output_type": "stream",
     "text": [
      "{\n",
      "  \"poste\": {\n",
      "    \"type_contrat\": \"alternance\",\n",
      "    \"teletravail_possible\": false,\n",
      "    \"experience_pro_requise\": 1,\n",
      "    \"diplomes\": [\"Bac+3\", \"autre\"],\n",
      "    \"spe_diplomes\": [\"informatique\", \"DATA\"],\n",
      "    \"langues\": [\"null\"],\n",
      "    \"stack_technique\": [\"langages SQL\", \"technologies DATA (dataprep + dataviz)\", \"analyse statistiques\", \"utilisation avancée des outils bureautique (Excel notamment)\"]\n",
      "  }\n",
      "}\n"
     ]
    },
    {
     "name": "stderr",
     "output_type": "stream",
     "text": [
      " 62%|██████▏   | 524/841 [23:41<11:14,  2.13s/it]"
     ]
    },
    {
     "name": "stdout",
     "output_type": "stream",
     "text": [
      "{\n",
      "  \"poste\": {\n",
      "    \"type_contrat\": \"CDI\",\n",
      "    \"teletravail_possible\": true,\n",
      "    \"experience_pro_requise\": 5,\n",
      "    \"diplomes\": [\"Bac+5\"],\n",
      "    \"spe_diplomes\": [\"Ecole d'ingénieur\", \"universitaire\"],\n",
      "    \"langues\": [\"Francais\", \"Anglais\"],\n",
      "    \"stack_technique\": [\"SQL\", \"Tableau software\", \"Omniture/Adobe\", \"Google Analytics\", \"AT Internet Piano\", \"TMS\", \"tag commander\", \"GTM\"]\n",
      "  }\n",
      "}\n"
     ]
    },
    {
     "name": "stderr",
     "output_type": "stream",
     "text": [
      " 62%|██████▏   | 525/841 [23:43<10:30,  2.00s/it]"
     ]
    },
    {
     "name": "stdout",
     "output_type": "stream",
     "text": [
      "{\n",
      "  \"poste\": {\n",
      "    \"type_contrat\": \"alternance\",\n",
      "    \"teletravail_possible\": false,\n",
      "    \"experience_pro_requise\": 1,\n",
      "    \"diplomes\": [\"pas de diplome\"],\n",
      "    \"spe_diplomes\": [null],\n",
      "    \"langues\": [null],\n",
      "    \"stack_technique\": [null]\n",
      "  }\n",
      "}\n"
     ]
    },
    {
     "name": "stderr",
     "output_type": "stream",
     "text": [
      " 63%|██████▎   | 526/841 [23:46<12:16,  2.34s/it]"
     ]
    },
    {
     "name": "stdout",
     "output_type": "stream",
     "text": [
      "{\n",
      "  \"poste\": {\n",
      "    \"type_contrat\": \"alternance\",\n",
      "    \"teletravail_possible\": false,\n",
      "    \"experience_pro_requise\": 1,\n",
      "    \"diplomes\": [\"Master\"],\n",
      "    \"spe_diplomes\": [\"Ressources Humaines\", \"Contrôle de gestion sociale\", \"Data science\"],\n",
      "    \"langues\": [\"Anglais\", \"Francais\"],\n",
      "    \"stack_technique\": [\"Excel\", \"Formule SI\", \"Formule SI Imbriqués\", \"RechercheX (ou RechercheV)\", \"Fonction ET/OU\", \"tableaux croisés dynamiques\", \"macros\", \"Python\"]\n",
      "  }\n",
      "}\n"
     ]
    },
    {
     "name": "stderr",
     "output_type": "stream",
     "text": [
      " 63%|██████▎   | 527/841 [23:48<11:27,  2.19s/it]"
     ]
    },
    {
     "name": "stdout",
     "output_type": "stream",
     "text": [
      "{\n",
      "  \"poste\": {\n",
      "    \"type_contrat\": \"CDI\",\n",
      "    \"teletravail_possible\": true,\n",
      "    \"experience_pro_requise\": 5,\n",
      "    \"diplomes\": [\"Bac+5\"],\n",
      "    \"spe_diplomes\": [\"Décisionnel\", \"Data\"],\n",
      "    \"langues\": [\"Francais\", \"Anglais\"],\n",
      "    \"stack_technique\": [\"SQL\", \"Talend\", \"SSAS\", \"BO\", \"Qlik Sense\"]\n",
      "  }\n",
      "}\n"
     ]
    },
    {
     "name": "stderr",
     "output_type": "stream",
     "text": [
      " 63%|██████▎   | 528/841 [23:50<10:46,  2.06s/it]"
     ]
    },
    {
     "name": "stdout",
     "output_type": "stream",
     "text": [
      "{\n",
      "  \"poste\": {\n",
      "    \"type_contrat\": \"CDI\",\n",
      "    \"teletravail_possible\": null,\n",
      "    \"experience_pro_requise\": 2,\n",
      "    \"diplomes\": [\"Bac+5\"],\n",
      "    \"spe_diplomes\": [\"informatique\"],\n",
      "    \"langues\": [\"Anglais\"],\n",
      "    \"stack_technique\": [\"Python\", \"R\", \"SQL\", \"Power Bi\", \"Databricks\", \"SSIS\", \"SSAS\"]\n",
      "  }\n",
      "}\n"
     ]
    },
    {
     "name": "stderr",
     "output_type": "stream",
     "text": [
      " 63%|██████▎   | 529/841 [23:52<11:05,  2.13s/it]"
     ]
    },
    {
     "name": "stdout",
     "output_type": "stream",
     "text": [
      "{\n",
      "  \"poste\": {\n",
      "    \"type_contrat\": \"CDD\",\n",
      "    \"teletravail_possible\": false,\n",
      "    \"experience_pro_requise\": 1,\n",
      "    \"diplomes\": [\"Licence\", \"Master\", \"Doctorat\", \"Bac+3\", \"Bac+5\", \"Bac+7\", \"pas de diplome\", \"autre\"],\n",
      "    \"spe_diplomes\": [\"Engineering\", \"Business School\"],\n",
      "    \"langues\": [\"Anglais\", \"Swedish\", \"Danish\", \"autre\"],\n",
      "    \"stack_technique\": [\"PowerBI\", \"Python\", \"R\", \"Javascript\", \"Google Script\", \"SQL\"]\n",
      "  }\n",
      "}\n"
     ]
    },
    {
     "name": "stderr",
     "output_type": "stream",
     "text": [
      " 63%|██████▎   | 530/841 [23:54<10:30,  2.03s/it]"
     ]
    },
    {
     "name": "stdout",
     "output_type": "stream",
     "text": [
      "{\n",
      "  \"poste\": {\n",
      "    \"type_contrat\": \"stage\",\n",
      "    \"teletravail_possible\": true,\n",
      "    \"experience_pro_requise\": 1,\n",
      "    \"diplomes\": [\"Master\"],\n",
      "    \"spe_diplomes\": [\"Data Analyst\"],\n",
      "    \"langues\": [\"Anglais\"],\n",
      "    \"stack_technique\": [\"Tableau\", \"Power BI\", \"SQL\", \"Alteryx\", \"Knime\"]\n",
      "  }\n",
      "}\n"
     ]
    },
    {
     "name": "stderr",
     "output_type": "stream",
     "text": [
      " 63%|██████▎   | 531/841 [23:56<10:46,  2.08s/it]"
     ]
    },
    {
     "name": "stdout",
     "output_type": "stream",
     "text": [
      "{\n",
      "  \"poste\": {\n",
      "    \"type_contrat\": \"CDI\",\n",
      "    \"teletravail_possible\": true,\n",
      "    \"experience_pro_requise\": 1,\n",
      "    \"diplomes\": [\"Bac+3\"],\n",
      "    \"spe_diplomes\": [\"statistiques\", \"analyse des données\", \"traitement des données\"],\n",
      "    \"langues\": [\"Francais\", \"Anglais\", \"autre\"],\n",
      "    \"stack_technique\": [\"SAS\", \"R\", \"SQL\", \"PowerBi\", \"Microstrategy\"]\n",
      "  }\n",
      "}\n"
     ]
    },
    {
     "name": "stderr",
     "output_type": "stream",
     "text": [
      " 63%|██████▎   | 532/841 [23:58<10:17,  2.00s/it]"
     ]
    },
    {
     "name": "stdout",
     "output_type": "stream",
     "text": [
      "{\n",
      "  \"poste\": {\n",
      "    \"type_contrat\": \"CDI\",\n",
      "    \"teletravail_possible\": true,\n",
      "    \"experience_pro_requise\": 1,\n",
      "    \"diplomes\": [\"Bac+5\"],\n",
      "    \"spe_diplomes\": [\"informatique\"],\n",
      "    \"langues\": [\"Anglais\"],\n",
      "    \"stack_technique\": [\"Maitrise SQL\", \"Connaissance de Looker\", \"Connaissance de Power BI\", \"Connaissance de Python\"]\n",
      "  }\n",
      "}\n"
     ]
    },
    {
     "name": "stderr",
     "output_type": "stream",
     "text": [
      " 63%|██████▎   | 533/841 [24:00<10:16,  2.00s/it]"
     ]
    },
    {
     "name": "stdout",
     "output_type": "stream",
     "text": [
      "{\n",
      "  \"poste\": {\n",
      "    \"type_contrat\": \"CDI\",\n",
      "    \"teletravail_possible\": false,\n",
      "    \"experience_pro_requise\": 3,\n",
      "    \"diplomes\": [\"pas de diplome\"],\n",
      "    \"spe_diplomes\": [null],\n",
      "    \"langues\": [\"Francais\", \"Anglais\", \"autre\"],\n",
      "    \"stack_technique\": [\"SQL\", \"Power BI\", \"Tableau\", \"Qlik\", \"Talend\", \"SSIS\", \"Informatica\", \"Datastage\", \"SQL Server\", \"MySQL\", \"NoSQL\"]\n",
      "  }\n",
      "}\n"
     ]
    },
    {
     "name": "stderr",
     "output_type": "stream",
     "text": [
      " 63%|██████▎   | 534/841 [24:01<09:45,  1.91s/it]"
     ]
    },
    {
     "name": "stdout",
     "output_type": "stream",
     "text": [
      "{\n",
      "  \"poste\": {\n",
      "    \"type_contrat\": \"stage\",\n",
      "    \"teletravail_possible\": true,\n",
      "    \"experience_pro_requise\": 1,\n",
      "    \"diplomes\": [\"pas de diplome\"],\n",
      "    \"spe_diplomes\": [null],\n",
      "    \"langues\": [\"Anglais\"],\n",
      "    \"stack_technique\": [\"Data Analytics\", \"Statistics\", \"Data modeling\", \"Data visualization tools\", \"Python\", \"R\", \"SQL\", \"Database management\", \"Machine learning algorithms\"]\n",
      "  }\n",
      "}\n"
     ]
    },
    {
     "name": "stderr",
     "output_type": "stream",
     "text": [
      " 64%|██████▎   | 535/841 [24:03<09:39,  1.89s/it]"
     ]
    },
    {
     "name": "stdout",
     "output_type": "stream",
     "text": [
      "{\n",
      "  \"poste\": {\n",
      "    \"type_contrat\": \"apprentissage\",\n",
      "    \"teletravail_possible\": true,\n",
      "    \"experience_pro_requise\": 1,\n",
      "    \"diplomes\": [\"pas de diplome\"],\n",
      "    \"spe_diplomes\": [\"Data Science\", \"Développement SAS\", \"Python\"],\n",
      "    \"langues\": [null],\n",
      "    \"stack_technique\": [\"SAS GUIDE\", \"Python\"]\n",
      "  }\n",
      "}\n"
     ]
    },
    {
     "name": "stderr",
     "output_type": "stream",
     "text": [
      " 64%|██████▎   | 536/841 [24:05<09:29,  1.87s/it]"
     ]
    },
    {
     "name": "stdout",
     "output_type": "stream",
     "text": [
      "{\n",
      "  \"poste\": {\n",
      "    \"type_contrat\": \"CDI\",\n",
      "    \"teletravail_possible\": true,\n",
      "    \"experience_pro_requise\": 3,\n",
      "    \"diplomes\": [\"Bac+3\", \"Bac+5\"],\n",
      "    \"spe_diplomes\": [\"Risques Financiers\", \"Data Analyst\"],\n",
      "    \"langues\": [\"Anglais\", \"Francais\"],\n",
      "    \"stack_technique\": [\"SQL\", \"BI\", \"statistiques\"]\n",
      "  }\n",
      "}\n"
     ]
    },
    {
     "name": "stderr",
     "output_type": "stream",
     "text": [
      " 64%|██████▍   | 537/841 [24:07<09:45,  1.93s/it]"
     ]
    },
    {
     "name": "stdout",
     "output_type": "stream",
     "text": [
      "{\n",
      "  \"poste\": {\n",
      "    \"type_contrat\": \"CDI\",\n",
      "    \"teletravail_possible\": false,\n",
      "    \"experience_pro_requise\": 2,\n",
      "    \"diplomes\": [\"Bac+2\", \"autre\"],\n",
      "    \"spe_diplomes\": [\"Informatique\", \"Mathématiques appliquées\"],\n",
      "    \"langues\": [\"Francais\", \"Anglais\", \"autre\"],\n",
      "    \"stack_technique\": [\"SQL\", \"R\", \"Python\", \"Matlab\", \"BO\", \"Cognos\", \"SAS\", \"Qlik\", \"Tableau\", \"PowerBI\"]\n",
      "  }\n",
      "}\n"
     ]
    },
    {
     "name": "stderr",
     "output_type": "stream",
     "text": [
      " 64%|██████▍   | 538/841 [24:09<09:32,  1.89s/it]"
     ]
    },
    {
     "name": "stdout",
     "output_type": "stream",
     "text": [
      "{\n",
      "  \"poste\": {\n",
      "    \"type_contrat\": \"CDI\",\n",
      "    \"teletravail_possible\": true,\n",
      "    \"experience_pro_requise\": 3,\n",
      "    \"diplomes\": [\"pas de diplome\"],\n",
      "    \"spe_diplomes\": [null],\n",
      "    \"langues\": [\"Anglais\", \"Francais\", \"autre\"],\n",
      "    \"stack_technique\": [\"SQL\", \"Python\", \"R\", \"API REST\", \"JSON\", \"Power BI\", \"Tableau Software\", \"EXCEL\"]\n",
      "  }\n",
      "}\n"
     ]
    },
    {
     "name": "stderr",
     "output_type": "stream",
     "text": [
      " 64%|██████▍   | 539/841 [24:11<09:16,  1.84s/it]"
     ]
    },
    {
     "name": "stdout",
     "output_type": "stream",
     "text": [
      "{\n",
      "  \"poste\": {\n",
      "    \"type_contrat\": \"alternance\",\n",
      "    \"teletravail_possible\": true,\n",
      "    \"experience_pro_requise\": 1,\n",
      "    \"diplomes\": [\"Bac+5\"],\n",
      "    \"spe_diplomes\": [\"Data science\", \"Statistiques\"],\n",
      "    \"langues\": [\"Anglais\"],\n",
      "    \"stack_technique\": [\"SQL\", \"SAS\", \"PowerBI\", \"Excel\"]\n",
      "  }\n",
      "}\n"
     ]
    },
    {
     "name": "stderr",
     "output_type": "stream",
     "text": [
      " 64%|██████▍   | 540/841 [24:13<09:52,  1.97s/it]"
     ]
    },
    {
     "name": "stdout",
     "output_type": "stream",
     "text": [
      "{\n",
      "  \"poste\": {\n",
      "    \"type_contrat\": \"alternance\",\n",
      "    \"teletravail_possible\": true,\n",
      "    \"experience_pro_requise\": 1,\n",
      "    \"diplomes\": [\"Bac+5\"],\n",
      "    \"spe_diplomes\": [\"Acoustique\"],\n",
      "    \"langues\": [\"Anglais\", \"Francais\"],\n",
      "    \"stack_technique\": [\"Compétences générales d'Ingénieur\", \"Connaissances générales en acoustique\", \"Connaissances des règlements de certification acoustique\"]\n",
      "  }\n",
      "}\n"
     ]
    },
    {
     "name": "stderr",
     "output_type": "stream",
     "text": [
      " 64%|██████▍   | 541/841 [24:16<11:29,  2.30s/it]"
     ]
    },
    {
     "name": "stdout",
     "output_type": "stream",
     "text": [
      "{\n",
      "  \"poste\": {\n",
      "    \"type_contrat\": \"CDI\",\n",
      "    \"teletravail_possible\": true,\n",
      "    \"experience_pro_requise\": 3,\n",
      "    \"diplomes\": [\"Bac+5\"],\n",
      "    \"spe_diplomes\": [\"statistiques\", \"informatique\", \"sciences des données\"],\n",
      "    \"langues\": [null],\n",
      "    \"stack_technique\": [\"SQL\", \"Python\", \"Tableau\", \"Power BI\", \"DigDash\"]\n",
      "  }\n",
      "}\n"
     ]
    },
    {
     "name": "stderr",
     "output_type": "stream",
     "text": [
      " 64%|██████▍   | 542/841 [24:18<11:19,  2.27s/it]"
     ]
    },
    {
     "name": "stdout",
     "output_type": "stream",
     "text": [
      "{\n",
      "  \"poste\": {\n",
      "    \"type_contrat\": \"CDI\",\n",
      "    \"teletravail_possible\": false,\n",
      "    \"experience_pro_requise\": 1,\n",
      "    \"diplomes\": [\"Licence\", \"Master\", \"Doctorat\", \"Bac+3\", \"Bac+5\", \"Bac+7\", \"pas de diplome\", \"autre\"],\n",
      "    \"spe_diplomes\": [\"audit\", \"contrôle de gestion\", \"comptabilité\", \"finance\"],\n",
      "    \"langues\": [null],\n",
      "    \"stack_technique\": [\"Excel\", \"VBA\", \"Word\", \"Powerpoint\", \"SQL\", \"Power BI\"]\n",
      "  }\n",
      "}\n"
     ]
    },
    {
     "name": "stderr",
     "output_type": "stream",
     "text": [
      " 65%|██████▍   | 543/841 [24:20<10:32,  2.12s/it]"
     ]
    },
    {
     "name": "stdout",
     "output_type": "stream",
     "text": [
      "{\n",
      "  \"poste\": {\n",
      "    \"type_contrat\": \"CDI\",\n",
      "    \"teletravail_possible\": true,\n",
      "    \"experience_pro_requise\": 4,\n",
      "    \"diplomes\": [\"Master\"],\n",
      "    \"spe_diplomes\": [\"Data\", \"Informatique\"],\n",
      "    \"langues\": [\"Anglais\"],\n",
      "    \"stack_technique\": [\"Python\", \"Databriks\", \"Tableau software\", \"SQL\", \"AWS\"]\n",
      "  }\n",
      "}\n"
     ]
    },
    {
     "name": "stderr",
     "output_type": "stream",
     "text": [
      " 65%|██████▍   | 544/841 [24:21<09:34,  1.93s/it]"
     ]
    },
    {
     "name": "stdout",
     "output_type": "stream",
     "text": [
      "{\n",
      "  \"poste\": {\n",
      "    \"type_contrat\": \"stage\",\n",
      "    \"teletravail_possible\": false,\n",
      "    \"experience_pro_requise\": 1,\n",
      "    \"diplomes\": [\"pas de diplome\"],\n",
      "    \"spe_diplomes\": [\"Business/Engineer school\"],\n",
      "    \"langues\": [\"Anglais\"],\n",
      "    \"stack_technique\": [\"SQL\", \"Data Visualization\", \"Python\"]\n",
      "  }\n",
      "}\n"
     ]
    },
    {
     "name": "stderr",
     "output_type": "stream",
     "text": [
      " 65%|██████▍   | 545/841 [24:23<08:47,  1.78s/it]"
     ]
    },
    {
     "name": "stdout",
     "output_type": "stream",
     "text": [
      "{\n",
      "  \"poste\": {\n",
      "    \"type_contrat\": \"alternance\",\n",
      "    \"teletravail_possible\": false,\n",
      "    \"experience_pro_requise\": 1,\n",
      "    \"diplomes\": [\"Bac+3\", \"Bac+5\"],\n",
      "    \"spe_diplomes\": [\"Marketing\"],\n",
      "    \"langues\": [\"Anglais\"],\n",
      "    \"stack_technique\": null\n",
      "  }\n",
      "}\n"
     ]
    },
    {
     "name": "stderr",
     "output_type": "stream",
     "text": [
      " 65%|██████▍   | 546/841 [24:25<08:59,  1.83s/it]"
     ]
    },
    {
     "name": "stdout",
     "output_type": "stream",
     "text": [
      "{\n",
      "  \"poste\": {\n",
      "    \"type_contrat\": \"stage\",\n",
      "    \"teletravail_possible\": true,\n",
      "    \"experience_pro_requise\": 1,\n",
      "    \"diplomes\": [\"Bac+5\"],\n",
      "    \"spe_diplomes\": [\"Finance\", \"Informatique\"],\n",
      "    \"langues\": [\"Anglais\"],\n",
      "    \"stack_technique\": [\"Python\", \"Django\", \"Excel\", \"Power BI\", \"Machine learning\", \"Deep learning\", \"Postman\", \"API REST\", \"Javascript\", \"GitHub\"]\n",
      "  }\n",
      "}\n"
     ]
    },
    {
     "name": "stderr",
     "output_type": "stream",
     "text": [
      " 65%|██████▌   | 547/841 [24:26<08:45,  1.79s/it]"
     ]
    },
    {
     "name": "stdout",
     "output_type": "stream",
     "text": [
      "{\n",
      "  \"poste\": {\n",
      "    \"type_contrat\": \"alternance\",\n",
      "    \"teletravail_possible\": false,\n",
      "    \"experience_pro_requise\": 1,\n",
      "    \"diplomes\": [\"Bac+5\"],\n",
      "    \"spe_diplomes\": [\"informatique décisionnelle\", \"data\", \"économétrie\"],\n",
      "    \"langues\": [\"Anglais\"],\n",
      "    \"stack_technique\": [\"SQL\", \"Python\", \"Microsoft Power BI\", \"Microsoft Azure\"]\n",
      "  }\n",
      "}\n"
     ]
    },
    {
     "name": "stderr",
     "output_type": "stream",
     "text": [
      " 65%|██████▌   | 548/841 [24:28<08:39,  1.77s/it]"
     ]
    },
    {
     "name": "stdout",
     "output_type": "stream",
     "text": [
      "{\n",
      "  \"poste\": {\n",
      "    \"type_contrat\": \"CDI\",\n",
      "    \"teletravail_possible\": false,\n",
      "    \"experience_pro_requise\": 3,\n",
      "    \"diplomes\": [\"Master\"],\n",
      "    \"spe_diplomes\": [\"Data\"],\n",
      "    \"langues\": [\"Anglais\"],\n",
      "    \"stack_technique\": [\"TALEND\", \"SQL\", \"Excel\", \"SGBD\", \"ETL\", \"JDE\"]\n",
      "  }\n",
      "}\n"
     ]
    },
    {
     "name": "stderr",
     "output_type": "stream",
     "text": [
      " 65%|██████▌   | 549/841 [24:35<16:39,  3.42s/it]"
     ]
    },
    {
     "name": "stdout",
     "output_type": "stream",
     "text": [
      "{\n",
      "  \"poste\": {\n",
      "    \"type_contrat\": \"CDI\",\n",
      "    \"teletravail_possible\": false,\n",
      "    \"experience_pro_requise\": 2,\n",
      "    \"diplomes\": [\"Master\", null],\n",
      "    \"spe_diplomes\": [\"système d'information\", \"Dataviz\", \"Datascience\"],\n",
      "    \"langues\": [\"Anglais\", \"Francais\", \"autre\"],\n",
      "    \"stack_technique\": [\"SQL\", \"JAVA\", \"PYTHON\", \"Tableau Software\", \"PowerBI\", \"Qlik\"]\n",
      "  }\n",
      "}\n"
     ]
    },
    {
     "name": "stderr",
     "output_type": "stream",
     "text": [
      " 65%|██████▌   | 550/841 [24:41<19:40,  4.06s/it]"
     ]
    },
    {
     "name": "stdout",
     "output_type": "stream",
     "text": [
      "{\n",
      "  \"poste\": {\n",
      "    \"type_contrat\": \"CDI\",\n",
      "    \"teletravail_possible\": true,\n",
      "    \"experience_pro_requise\": 5,\n",
      "    \"diplomes\": [\"Licence\", \"Master\", \"Doctorat\", \"autre\"],\n",
      "    \"spe_diplomes\": [\"statistiques\", \"économie\", \"sociologie quantitative\", \"sciences politiques\"],\n",
      "    \"langues\": null,\n",
      "    \"stack_technique\": [\"Cloudera\", \"Spark\", \"R\", \"Python\", \"Bitbucket\"]\n",
      "  }\n",
      "}\n"
     ]
    },
    {
     "name": "stderr",
     "output_type": "stream",
     "text": [
      " 66%|██████▌   | 551/841 [24:43<17:03,  3.53s/it]"
     ]
    },
    {
     "name": "stdout",
     "output_type": "stream",
     "text": [
      "{\n",
      "  \"poste\": {\n",
      "    \"type_contrat\": \"CDI\",\n",
      "    \"teletravail_possible\": true,\n",
      "    \"experience_pro_requise\": 3,\n",
      "    \"diplomes\": [\"Bac+3\", \"Bac+5\", \"pas de diplome\"],\n",
      "    \"spe_diplomes\": [\"informatique\", \"finance\"],\n",
      "    \"langues\": [\"Anglais\"],\n",
      "    \"stack_technique\": [\"Bloomberg\", \"Refinitiv\", \"Quanthouse\", \"Microsoft Office\"]\n",
      "  }\n",
      "}\n"
     ]
    },
    {
     "name": "stderr",
     "output_type": "stream",
     "text": [
      " 66%|██████▌   | 552/841 [24:45<14:43,  3.06s/it]"
     ]
    },
    {
     "name": "stdout",
     "output_type": "stream",
     "text": [
      "{\n",
      "  \"poste\": {\n",
      "    \"type_contrat\": \"CDI\",\n",
      "    \"teletravail_possible\": true,\n",
      "    \"experience_pro_requise\": 5,\n",
      "    \"diplomes\": [\"Bac+5\"],\n",
      "    \"spe_diplomes\": [\"Décisionnel\", \"Data\"],\n",
      "    \"langues\": [\"Francais\", \"Anglais\"],\n",
      "    \"stack_technique\": [\"SQL\", \"Talend\", \"SSAS\", \"BO\", \"Qlik Sense\"]\n",
      "  }\n",
      "}\n"
     ]
    },
    {
     "name": "stderr",
     "output_type": "stream",
     "text": [
      " 66%|██████▌   | 553/841 [24:49<15:55,  3.32s/it]"
     ]
    },
    {
     "name": "stdout",
     "output_type": "stream",
     "text": [
      "{\n",
      "  \"poste\": {\n",
      "    \"type_contrat\": \"stage\",\n",
      "    \"teletravail_possible\": true,\n",
      "    \"experience_pro_requise\": 1,\n",
      "    \"diplomes\": [\"Licence\", \"Master\", \"Doctorat\", \"Bac+3\", \"Bac+5\", \"Bac+7\", \"pas de diplome\", \"autre\"],\n",
      "    \"spe_diplomes\": [\"Finance\", \"Data Science\"],\n",
      "    \"langues\": [\"Anglais\", \"Francais\", \"Espagnol\", \"Allemand\", \"Italien\", \"Portuguais\", \"autre\"],\n",
      "    \"stack_technique\": [\"Machine Learning\", \"Data Science\", \"Finance Climat\", \"Banque de marchés\", \"Banque d'investissement\", \"Financements structurés\", \"Commerce international\"]\n",
      "  }\n",
      "}\n"
     ]
    },
    {
     "name": "stderr",
     "output_type": "stream",
     "text": [
      " 66%|██████▌   | 554/841 [24:51<14:23,  3.01s/it]"
     ]
    },
    {
     "name": "stdout",
     "output_type": "stream",
     "text": [
      "{\n",
      "  \"poste\": {\n",
      "    \"type_contrat\": \"alternance\",\n",
      "    \"teletravail_possible\": null,\n",
      "    \"experience_pro_requise\": 1,\n",
      "    \"diplomes\": [\"Bac+5\"],\n",
      "    \"spe_diplomes\": [\"ingénierie\", \"développement de logiciels\"],\n",
      "    \"langues\": [\"Anglais\", \"Francais\", \"Allemand\"],\n",
      "    \"stack_technique\": [\"gestion de projet\", \"méthodes de travail lean et agile\", \"Intrapreneurship\", \"design thinking\", \"IT Architecture Design\"]\n",
      "  }\n",
      "}\n"
     ]
    },
    {
     "name": "stderr",
     "output_type": "stream",
     "text": [
      " 66%|██████▌   | 555/841 [24:54<14:04,  2.95s/it]"
     ]
    },
    {
     "name": "stdout",
     "output_type": "stream",
     "text": [
      "{\n",
      "  \"poste\": {\n",
      "    \"type_contrat\": \"CDI\",\n",
      "    \"teletravail_possible\": true,\n",
      "    \"experience_pro_requise\": 2,\n",
      "    \"diplomes\": [\"Bac+3\"],\n",
      "    \"spe_diplomes\": [\"Informatique\"],\n",
      "    \"langues\": [\"Anglais\"],\n",
      "    \"stack_technique\": [\"SQL\", \"SQL Server\"]\n",
      "  }\n",
      "}\n"
     ]
    },
    {
     "name": "stderr",
     "output_type": "stream",
     "text": [
      " 66%|██████▌   | 556/841 [24:56<12:33,  2.64s/it]"
     ]
    },
    {
     "name": "stdout",
     "output_type": "stream",
     "text": [
      "{\n",
      "  \"poste\": {\n",
      "    \"type_contrat\": \"CDI\",\n",
      "    \"teletravail_possible\": null,\n",
      "    \"experience_pro_requise\": 7,\n",
      "    \"diplomes\": [\"Bac+5\"],\n",
      "    \"spe_diplomes\": [\"Statistiques\", \"Data Science\", \"Informatique Décisionnelle\", \"Data Management\"],\n",
      "    \"langues\": [\"Francais\", \"Anglais\"],\n",
      "    \"stack_technique\": [\"SQL\", \"Big Query\", \"Looker Studio\", \"Tableau\", \"Qlik\"]\n",
      "  }\n",
      "}\n"
     ]
    },
    {
     "name": "stderr",
     "output_type": "stream",
     "text": [
      " 66%|██████▌   | 557/841 [24:58<11:38,  2.46s/it]"
     ]
    },
    {
     "name": "stdout",
     "output_type": "stream",
     "text": [
      "{\n",
      "  \"poste\": {\n",
      "    \"type_contrat\": \"CDI\",\n",
      "    \"teletravail_possible\": false,\n",
      "    \"experience_pro_requise\": 1,\n",
      "    \"diplomes\": [\"Bac+4\", \"Bac+5\"],\n",
      "    \"spe_diplomes\": [\"Qlikview\"],\n",
      "    \"langues\": [\"Anglais\", \"Francais\", \"Espagnol\", \"Allemand\", \"Italien\", \"Portuguais\"],\n",
      "    \"stack_technique\": [\"SQL\", \"SAS\", \"Talend\", \"Informatica\"]\n",
      "  }\n",
      "}\n"
     ]
    },
    {
     "name": "stderr",
     "output_type": "stream",
     "text": [
      " 66%|██████▋   | 558/841 [25:00<10:43,  2.27s/it]"
     ]
    },
    {
     "name": "stdout",
     "output_type": "stream",
     "text": [
      "{\n",
      "  \"poste\": {\n",
      "    \"type_contrat\": \"alternance\",\n",
      "    \"teletravail_possible\": false,\n",
      "    \"experience_pro_requise\": 1,\n",
      "    \"diplomes\": [\"Bac+3\"],\n",
      "    \"spe_diplomes\": [\"Data Analyst\"],\n",
      "    \"langues\": [\"Francais\"],\n",
      "    \"stack_technique\": [\"analyse de données\", \"marketing omnicanales\"]\n",
      "  }\n",
      "}\n"
     ]
    },
    {
     "name": "stderr",
     "output_type": "stream",
     "text": [
      " 66%|██████▋   | 559/841 [25:02<10:45,  2.29s/it]"
     ]
    },
    {
     "name": "stdout",
     "output_type": "stream",
     "text": [
      "{\n",
      "  \"poste\": {\n",
      "    \"type_contrat\": \"CDI\",\n",
      "    \"teletravail_possible\": true,\n",
      "    \"experience_pro_requise\": 5,\n",
      "    \"diplomes\": [\"Bac+3\", \"Bac+5\"],\n",
      "    \"spe_diplomes\": null,\n",
      "    \"langues\": [\"Anglais\", \"Francais\", \"autre\"],\n",
      "    \"stack_technique\": [\"Data Crunching\", \"Big Data\", \"MySQL\"]\n",
      "  }\n",
      "}\n"
     ]
    },
    {
     "name": "stderr",
     "output_type": "stream",
     "text": [
      " 67%|██████▋   | 560/841 [25:04<10:09,  2.17s/it]"
     ]
    },
    {
     "name": "stdout",
     "output_type": "stream",
     "text": [
      "{\n",
      "  \"poste\": {\n",
      "    \"type_contrat\": \"CDI\",\n",
      "    \"teletravail_possible\": true,\n",
      "    \"experience_pro_requise\": 3,\n",
      "    \"diplomes\": [\"Bac+5\"],\n",
      "    \"spe_diplomes\": [\"statistiques\", \"marketing\", \"gestion de la donnée\"],\n",
      "    \"langues\": [null],\n",
      "    \"stack_technique\": [\"SQL\", \"SAS\", \"Teradata\", \"Microstrategy\", \"datamining\"]\n",
      "  }\n",
      "}\n"
     ]
    },
    {
     "name": "stderr",
     "output_type": "stream",
     "text": [
      " 67%|██████▋   | 561/841 [25:06<09:26,  2.02s/it]"
     ]
    },
    {
     "name": "stdout",
     "output_type": "stream",
     "text": [
      "{\n",
      "  \"poste\": {\n",
      "    \"type_contrat\": \"alternance\",\n",
      "    \"teletravail_possible\": false,\n",
      "    \"experience_pro_requise\": 1,\n",
      "    \"diplomes\": [\"Bac+5\"],\n",
      "    \"spe_diplomes\": [\"Diplôme en école de commerce\"],\n",
      "    \"langues\": [\"Francais\"],\n",
      "    \"stack_technique\": [\"Excel\", \"suite Google\"]\n",
      "  }\n",
      "}\n"
     ]
    },
    {
     "name": "stderr",
     "output_type": "stream",
     "text": [
      " 67%|██████▋   | 562/841 [25:09<10:51,  2.33s/it]"
     ]
    },
    {
     "name": "stdout",
     "output_type": "stream",
     "text": [
      "{\n",
      "  \"poste\": {\n",
      "    \"type_contrat\": \"alternance\",\n",
      "    \"teletravail_possible\": true,\n",
      "    \"experience_pro_requise\": 1,\n",
      "    \"diplomes\": [\"Licence\", \"Master\", \"Doctorat\", \"Bac+3\", \"Bac+5\", \"Bac+7\", \"pas de diplome\", \"autre\"],\n",
      "    \"spe_diplomes\": [\"informatique\"],\n",
      "    \"langues\": [\"Anglais\", \"Francais\", \"Espagnol\", \"Allemand\", \"Italien\", \"Portuguais\", \"autre\"],\n",
      "    \"stack_technique\": [\"Python\", \"powerBI\"]\n",
      "  }\n",
      "}\n"
     ]
    },
    {
     "name": "stderr",
     "output_type": "stream",
     "text": [
      " 67%|██████▋   | 563/841 [25:11<10:34,  2.28s/it]"
     ]
    },
    {
     "name": "stdout",
     "output_type": "stream",
     "text": [
      "{\n",
      "  \"poste\": {\n",
      "    \"type_contrat\": \"alternance\",\n",
      "    \"teletravail_possible\": false,\n",
      "    \"experience_pro_requise\": 1,\n",
      "    \"diplomes\": [\"pas de diplome\"],\n",
      "    \"spe_diplomes\": [null],\n",
      "    \"langues\": [null],\n",
      "    \"stack_technique\": [\"SIRH\", \"KPIs\", \"tableaux de bord\", \"analyse de données\", \"expérience utilisateur\"]\n",
      "  }\n",
      "}\n"
     ]
    },
    {
     "name": "stderr",
     "output_type": "stream",
     "text": [
      " 67%|██████▋   | 564/841 [25:14<11:07,  2.41s/it]"
     ]
    },
    {
     "name": "stdout",
     "output_type": "stream",
     "text": [
      "{\n",
      "  \"poste\": {\n",
      "    \"type_contrat\": \"alternance\",\n",
      "    \"teletravail_possible\": false,\n",
      "    \"experience_pro_requise\": 1,\n",
      "    \"diplomes\": [\"Bac+3\"],\n",
      "    \"spe_diplomes\": [\"Data Analyst\", \"Informatique\"],\n",
      "    \"langues\": [\"Francais\"],\n",
      "    \"stack_technique\": [\"Web cartographique\", \"Gestion de projets\"]\n",
      "  }\n",
      "}\n"
     ]
    },
    {
     "name": "stderr",
     "output_type": "stream",
     "text": [
      " 67%|██████▋   | 565/841 [25:16<10:06,  2.20s/it]"
     ]
    },
    {
     "name": "stdout",
     "output_type": "stream",
     "text": [
      "{\n",
      "  \"poste\": {\n",
      "    \"type_contrat\": \"CDI\",\n",
      "    \"teletravail_possible\": true,\n",
      "    \"experience_pro_requise\": 1,\n",
      "    \"diplomes\": [\"Master\", null],\n",
      "    \"spe_diplomes\": [\"gestion de la donnée\", \"data analyst\", \"data scientist\"],\n",
      "    \"langues\": [null],\n",
      "    \"stack_technique\": [\"Excel\", \"VBA\", \"Power BI\"]\n",
      "  }\n",
      "}\n"
     ]
    },
    {
     "name": "stderr",
     "output_type": "stream",
     "text": [
      " 67%|██████▋   | 566/841 [25:17<09:11,  2.00s/it]"
     ]
    },
    {
     "name": "stdout",
     "output_type": "stream",
     "text": [
      "{\n",
      "  \"poste\": {\n",
      "    \"type_contrat\": null,\n",
      "    \"teletravail_possible\": true,\n",
      "    \"experience_pro_requise\": null,\n",
      "    \"diplomes\": [\"Bac+3\", \"Bac+5\", \"Doctorat\", \"autre\"],\n",
      "    \"spe_diplomes\": null,\n",
      "    \"langues\": [\"Anglais\", \"Francais\", \"Espagnol\", \"Portuguais\", \"autre\"],\n",
      "    \"stack_technique\": null\n",
      "  }\n",
      "}\n"
     ]
    },
    {
     "name": "stderr",
     "output_type": "stream",
     "text": [
      " 67%|██████▋   | 567/841 [25:19<08:44,  1.91s/it]"
     ]
    },
    {
     "name": "stdout",
     "output_type": "stream",
     "text": [
      "{\n",
      "  \"poste\": {\n",
      "    \"type_contrat\": \"alternance\",\n",
      "    \"teletravail_possible\": true,\n",
      "    \"experience_pro_requise\": 1,\n",
      "    \"diplomes\": [\"Bac+5\"],\n",
      "    \"spe_diplomes\": [\"Informatique\"],\n",
      "    \"langues\": [\"Anglais\"],\n",
      "    \"stack_technique\": [\"Python\", \"Machine learning\", \"Big Data\"]\n",
      "  }\n",
      "}\n"
     ]
    },
    {
     "name": "stderr",
     "output_type": "stream",
     "text": [
      " 68%|██████▊   | 568/841 [25:21<08:26,  1.85s/it]"
     ]
    },
    {
     "name": "stdout",
     "output_type": "stream",
     "text": [
      "{\n",
      "  \"poste\": {\n",
      "    \"type_contrat\": \"alternance\",\n",
      "    \"teletravail_possible\": false,\n",
      "    \"experience_pro_requise\": 1,\n",
      "    \"diplomes\": [\"Bac+5\"],\n",
      "    \"spe_diplomes\": [\"informatique\", \"système d’information\"],\n",
      "    \"langues\": [\"Francais\"],\n",
      "    \"stack_technique\": [\"Data Engineer\"]\n",
      "  }\n",
      "}\n"
     ]
    },
    {
     "name": "stderr",
     "output_type": "stream",
     "text": [
      " 68%|██████▊   | 569/841 [25:22<08:22,  1.85s/it]"
     ]
    },
    {
     "name": "stdout",
     "output_type": "stream",
     "text": [
      "{\n",
      "  \"poste\": {\n",
      "    \"type_contrat\": \"CDI\",\n",
      "    \"teletravail_possible\": true,\n",
      "    \"experience_pro_requise\": 3,\n",
      "    \"diplomes\": [\"pas de diplome\"],\n",
      "    \"spe_diplomes\": [null],\n",
      "    \"langues\": [null],\n",
      "    \"stack_technique\": [\"AWS\", \"Databriks\", \"Python v3\", \"Sparks\", \"SQL\"]\n",
      "  }\n",
      "}\n"
     ]
    },
    {
     "name": "stderr",
     "output_type": "stream",
     "text": [
      " 68%|██████▊   | 570/841 [25:25<09:10,  2.03s/it]"
     ]
    },
    {
     "name": "stdout",
     "output_type": "stream",
     "text": [
      "{\n",
      "  \"poste\": {\n",
      "    \"type_contrat\": \"CDI\",\n",
      "    \"teletravail_possible\": null,\n",
      "    \"experience_pro_requise\": 3,\n",
      "    \"diplomes\": [\"Bac+5\"],\n",
      "    \"spe_diplomes\": [\"École d’Ingénieurs ou équivalent\"],\n",
      "    \"langues\": null,\n",
      "    \"stack_technique\": [\"Python\", \"Scala\", \"Java\", \"Spark\", \"AWS\", \"Glue\", \"Lambda\", \"S3\", \"EMR\", \"Kinesis\"]\n",
      "  }\n",
      "}\n"
     ]
    },
    {
     "name": "stderr",
     "output_type": "stream",
     "text": [
      " 68%|██████▊   | 571/841 [25:27<09:01,  2.01s/it]"
     ]
    },
    {
     "name": "stdout",
     "output_type": "stream",
     "text": [
      "{\n",
      "  \"poste\": {\n",
      "    \"type_contrat\": \"CDI\",\n",
      "    \"teletravail_possible\": true,\n",
      "    \"experience_pro_requise\": 3,\n",
      "    \"diplomes\": [\"Bac+5\"],\n",
      "    \"spe_diplomes\": [\"informatique\", \"data\"],\n",
      "    \"langues\": [\"Francais\", \"Anglais\"],\n",
      "    \"stack_technique\": [\"dbt\", \"Snowflake\", \"Gitlab\", \"Azure DEVOPS\", \"Big Data\", \"IoT\", \"Blockchain\", \"Intelligence Artificielle\"]\n",
      "  }\n",
      "}\n"
     ]
    },
    {
     "name": "stderr",
     "output_type": "stream",
     "text": [
      " 68%|██████▊   | 572/841 [25:30<10:19,  2.30s/it]"
     ]
    },
    {
     "name": "stdout",
     "output_type": "stream",
     "text": [
      "{\n",
      "  \"poste\": {\n",
      "    \"type_contrat\": \"CDI\",\n",
      "    \"teletravail_possible\": true,\n",
      "    \"experience_pro_requise\": 3,\n",
      "    \"diplomes\": [\"Master\", \"autre\"],\n",
      "    \"spe_diplomes\": [\"informatique\"],\n",
      "    \"langues\": [null],\n",
      "    \"stack_technique\": [\"Hadoop\", \"Spark\", \"DevOps\", \"Cloud\", \"DaaS\", \"SaaS\", \"DataOps\", \"AutoML\", \"API\", \"Java\", \"Scala\", \"Python\", \"Linux\", \"Ansible\", \"k8s\", \"Rest\", \"Microservices\", \"Azure\", \"Databricks\", \"Elastic.io\", \"Neo4J\", \"Kafka\", \"Cloudera\", \"Cassandra\", \"Docker\"]\n",
      "  }\n",
      "}\n"
     ]
    },
    {
     "name": "stderr",
     "output_type": "stream",
     "text": [
      " 68%|██████▊   | 573/841 [25:32<10:41,  2.39s/it]"
     ]
    },
    {
     "name": "stdout",
     "output_type": "stream",
     "text": [
      "{\n",
      "  \"poste\": {\n",
      "    \"type_contrat\": \"CDI\",\n",
      "    \"teletravail_possible\": true,\n",
      "    \"experience_pro_requise\": 3,\n",
      "    \"diplomes\": [\"Bac+5\"],\n",
      "    \"spe_diplomes\": [\"informatique\"],\n",
      "    \"langues\": [\"Anglais\"],\n",
      "    \"stack_technique\": [\"GCP\", \"Azure\", \"AWS\", \"CI/CD\", \"Jenkins\", \"GitLab CI\", \"CircleCI\", \"Python\", \"Bash\", \"DevOps\", \"DevSecOps\", \"Terraform\", \"Ansible\", \"CloudFormation\"]\n",
      "  }\n",
      "}\n"
     ]
    },
    {
     "name": "stderr",
     "output_type": "stream",
     "text": [
      " 68%|██████▊   | 574/841 [25:35<10:47,  2.43s/it]"
     ]
    },
    {
     "name": "stdout",
     "output_type": "stream",
     "text": [
      "{\n",
      "  \"poste\": {\n",
      "    \"type_contrat\": \"CDI\",\n",
      "    \"teletravail_possible\": true,\n",
      "    \"experience_pro_requise\": 3,\n",
      "    \"diplome\": \"pas de diplome\",\n",
      "    \"spe_diplome\": [\"Informatique\", \"Data Science\"],\n",
      "    \"langue\": [\"Francais\", \"Anglais\"],\n",
      "    \"stack_technique\": [\n",
      "      \"postgreSQL\",\n",
      "      \"Linux\",\n",
      "      \"Shell\",\n",
      "      \"Python\",\n",
      "      \"PGSQL\",\n",
      "      \"bash\",\n",
      "      \"GIT\",\n",
      "      \"JAVA\",\n",
      "      \"Cloudian S3\",\n",
      "      \"AWX\",\n",
      "      \"Ansible\",\n",
      "      \"DBeaver\",\n",
      "      \"Alteryx\",\n",
      "      \"Powercenter\",\n",
      "      \"Spotfire\",\n",
      "      \"BO\"\n",
      "    ]\n",
      "  }\n",
      "}\n"
     ]
    },
    {
     "name": "stderr",
     "output_type": "stream",
     "text": [
      " 68%|██████▊   | 575/841 [25:37<09:38,  2.18s/it]"
     ]
    },
    {
     "name": "stdout",
     "output_type": "stream",
     "text": [
      "{\n",
      "  \"poste\": {\n",
      "    \"type_contrat\": \"CDI\",\n",
      "    \"teletravail_possible\": true,\n",
      "    \"experience_pro_requise\": 3,\n",
      "    \"diplomes\": [\"Bac+5\"],\n",
      "    \"spe_diplomes\": [\"Informatique\", \"Statistiques\"],\n",
      "    \"langues\": [\"Anglais\"],\n",
      "    \"stack_technique\": [\"Big Data\", \"SQL\", \"bases de données\", \"modèles statistiques\"]\n",
      "  }\n",
      "}\n"
     ]
    },
    {
     "name": "stderr",
     "output_type": "stream",
     "text": [
      " 68%|██████▊   | 576/841 [25:39<09:30,  2.15s/it]"
     ]
    },
    {
     "name": "stdout",
     "output_type": "stream",
     "text": [
      "{\n",
      "  \"poste\": {\n",
      "    \"type_contrat\": \"CDI\",\n",
      "    \"teletravail_possible\": true,\n",
      "    \"experience_pro_requise\": 1,\n",
      "    \"diplomes\": [\"Bac+5\"],\n",
      "    \"spe_diplomes\": [\"ingénierie informatique\", \"science des données\", \"diplômes d’école d’ingénieur\"],\n",
      "    \"langues\": [null],\n",
      "    \"stack_technique\": [\"Python\", \"SQL\"]\n",
      "  }\n",
      "}\n"
     ]
    },
    {
     "name": "stderr",
     "output_type": "stream",
     "text": [
      " 69%|██████▊   | 577/841 [25:41<09:53,  2.25s/it]"
     ]
    },
    {
     "name": "stdout",
     "output_type": "stream",
     "text": [
      "{\n",
      "  \"poste\": {\n",
      "    \"type_contrat\": \"CDI\",\n",
      "    \"teletravail_possible\": true,\n",
      "    \"experience_pro_requise\": 3,\n",
      "    \"diplomes\": [\"pas de diplome\"],\n",
      "    \"spe_diplomes\": [null],\n",
      "    \"langues\": [\"Francais\"],\n",
      "    \"stack_technique\": [\"SQL\", \"Python\", \"Scala\", \"Teradata\", \"Kafka\", \"ElasticSearch\", \"SolR\", \"Unix\", \"Hadoop\", \"GitLab\", \"Jenkins\", \"Nexus\", \"MS BI\", \"Qlik Sens\", \"BO\", \"MEGA\", \"GIT\", \"Jira\", \"Confluence\", \"Teams\"]\n",
      "  }\n",
      "}\n"
     ]
    },
    {
     "name": "stderr",
     "output_type": "stream",
     "text": [
      " 69%|██████▊   | 578/841 [25:48<15:50,  3.62s/it]"
     ]
    },
    {
     "name": "stdout",
     "output_type": "stream",
     "text": [
      "{\n",
      "  \"poste\": {\n",
      "    \"type_contrat\": \"CDI\",\n",
      "    \"teletravail_possible\": true,\n",
      "    \"experience_pro_requise\": 3,\n",
      "    \"diplomes\": [\"Bac+5\"],\n",
      "    \"spe_diplomes\": [\"informatique spécialisée en DATA\"],\n",
      "    \"langues\": [\"Anglais\"],\n",
      "    \"stack_technique\": [\"PostgreSQL\", \"Oracle\", \"MongoDB\", \"Cassandra\", \"Hadoop\", \"Spark\", \"Kafka\", \"DevOps\", \"BI\", \"Kibana\", \"PowerBI\"]\n",
      "  }\n",
      "}\n"
     ]
    },
    {
     "name": "stderr",
     "output_type": "stream",
     "text": [
      " 69%|██████▉   | 579/841 [25:50<13:22,  3.06s/it]"
     ]
    },
    {
     "name": "stdout",
     "output_type": "stream",
     "text": [
      "{\n",
      "  \"poste\": {\n",
      "    \"type_contrat\": \"stage\",\n",
      "    \"teletravail_possible\": false,\n",
      "    \"experience_pro_requise\": 1,\n",
      "    \"diplomes\": [\"pas de diplome\"],\n",
      "    \"spe_diplomes\": [\"ingénierie\", \"animation 3D\"],\n",
      "    \"langues\": [null],\n",
      "    \"stack_technique\": [\"modélisation 3D\", \"génération d'images\", \"développement\", \"open-source\"]\n",
      "  }\n",
      "}\n"
     ]
    },
    {
     "name": "stderr",
     "output_type": "stream",
     "text": [
      " 69%|██████▉   | 580/841 [25:51<11:19,  2.60s/it]"
     ]
    },
    {
     "name": "stdout",
     "output_type": "stream",
     "text": [
      "{\n",
      "  \"poste\": {\n",
      "    \"type_contrat\": \"CDI\",\n",
      "    \"teletravail_possible\": true,\n",
      "    \"experience_pro_requise\": 4,\n",
      "    \"diplomes\": [\"Bac+3\"],\n",
      "    \"spe_diplomes\": [],\n",
      "    \"langues\": [\"Francais\"],\n",
      "    \"stack_technique\": [\"SQL\", \"Python\", \"Azure Data Factory\", \"API\"]\n",
      "  }\n",
      "}\n"
     ]
    },
    {
     "name": "stderr",
     "output_type": "stream",
     "text": [
      " 69%|██████▉   | 581/841 [25:53<10:06,  2.33s/it]"
     ]
    },
    {
     "name": "stdout",
     "output_type": "stream",
     "text": [
      "{\n",
      "  \"poste\": {\n",
      "    \"type_contrat\": \"CDI\",\n",
      "    \"teletravail_possible\": true,\n",
      "    \"experience_pro_requise\": 3,\n",
      "    \"diplomes\": [\"Bac+5\"],\n",
      "    \"spe_diplomes\": [\"informatique/DATA\"],\n",
      "    \"langues\": [\"Francais\", \"Anglais\"],\n",
      "    \"stack_technique\": [\"PYTHON\", \"SPARK\", \"POSTGRE\", \"MINIO\", \"Business Intelligence\"]\n",
      "  }\n",
      "}\n"
     ]
    },
    {
     "name": "stderr",
     "output_type": "stream",
     "text": [
      " 69%|██████▉   | 582/841 [25:55<09:25,  2.18s/it]"
     ]
    },
    {
     "name": "stdout",
     "output_type": "stream",
     "text": [
      "{\n",
      "  \"poste\": {\n",
      "    \"type_contrat\": \"CDI\",\n",
      "    \"teletravail_possible\": true,\n",
      "    \"experience_pro_requise\": 5,\n",
      "    \"diplomes\": [\"pas de diplome\"],\n",
      "    \"spe_diplomes\": [null],\n",
      "    \"langues\": [null],\n",
      "    \"stack_technique\": [\"Snowflake\", \"pipelines de données\", \"CI/CD\"]\n",
      "  }\n",
      "}\n"
     ]
    },
    {
     "name": "stderr",
     "output_type": "stream",
     "text": [
      " 69%|██████▉   | 583/841 [25:57<08:52,  2.06s/it]"
     ]
    },
    {
     "name": "stdout",
     "output_type": "stream",
     "text": [
      "{\n",
      "  \"poste\": {\n",
      "    \"type_contrat\": \"CDI\",\n",
      "    \"teletravail_possible\": true,\n",
      "    \"experience_pro_requise\": 5,\n",
      "    \"diplomes\": [\"pas de diplome\"],\n",
      "    \"spe_diplomes\": [null],\n",
      "    \"langues\": [\"Anglais\", \"Francais\"],\n",
      "    \"stack_technique\": [\"Spark\", \"Python\", \"Kafka\", \"Kubernetes\", \"GitLab\", \"Big Data\"]\n",
      "  }\n",
      "}\n"
     ]
    },
    {
     "name": "stderr",
     "output_type": "stream",
     "text": [
      " 69%|██████▉   | 584/841 [26:04<15:51,  3.70s/it]"
     ]
    },
    {
     "name": "stdout",
     "output_type": "stream",
     "text": [
      "{\n",
      "  \"poste\": {\n",
      "    \"type_contrat\": \"alternance\",\n",
      "    \"teletravail_possible\": false,\n",
      "    \"experience_pro_requise\": 1,\n",
      "    \"diplomes\": [\"Bac+5\"],\n",
      "    \"spe_diplomes\": [\"Développement\", \"Informatique\"],\n",
      "    \"langues\": [\"Anglais\"],\n",
      "    \"stack_technique\": [\"Python\", \"Kafka\", \"Hadoop\", \"Bigdata\", \"Elastic Search\", \"Druid\", \"CI/CD\", \"Jenkins\"]\n",
      "  }\n",
      "}\n"
     ]
    },
    {
     "name": "stderr",
     "output_type": "stream",
     "text": [
      " 70%|██████▉   | 585/841 [26:06<13:32,  3.17s/it]"
     ]
    },
    {
     "name": "stdout",
     "output_type": "stream",
     "text": [
      "{\n",
      "  \"poste\": {\n",
      "    \"type_contrat\": \"CDI\",\n",
      "    \"teletravail_possible\": true,\n",
      "    \"experience_pro_requise\": 6,\n",
      "    \"diplomes\": [\"Master\"],\n",
      "    \"spe_diplomes\": [\"Informatique\", \"Data Science\"],\n",
      "    \"langues\": [\"Anglais\", \"Francais\"],\n",
      "    \"stack_technique\": [\"SQL\", \"Python\", \"Snowflake\", \"AWS\"]\n",
      "  }\n",
      "}\n"
     ]
    },
    {
     "name": "stderr",
     "output_type": "stream",
     "text": [
      " 70%|██████▉   | 586/841 [26:09<12:44,  3.00s/it]"
     ]
    },
    {
     "name": "stdout",
     "output_type": "stream",
     "text": [
      "{\n",
      "  \"poste\": {\n",
      "    \"type_contrat\": \"CDI\",\n",
      "    \"teletravail_possible\": true,\n",
      "    \"experience_pro_requise\": 5,\n",
      "    \"diplomes\": [\"Bac+5\"],\n",
      "    \"spe_diplomes\": [\"Data Engineering\"],\n",
      "    \"langues\": [\"Francais\", \"Anglais\", \"Espagnol\", \"Allemand\", \"Italien\"],\n",
      "    \"stack_technique\": [\"Azure Data Factory\", \"Azure Synapse\", \"Azure IoT\", \"Event Hub\", \"Stream Analytics\", \"Azure IoT Edge\", \"Python\", \"Dotnet\", \"Docker\", \"AKS\", \"Azure DevOps\", \"SonarQube\", \"Jenkins\", \"git\", \"Github\", \"Apache Spark\", \"Hive\", \"Minio\", \"Apache Kafka\", \"Unix\", \"Shell\"]\n",
      "  }\n",
      "}\n"
     ]
    },
    {
     "name": "stderr",
     "output_type": "stream",
     "text": [
      " 70%|██████▉   | 587/841 [26:11<11:58,  2.83s/it]"
     ]
    },
    {
     "name": "stdout",
     "output_type": "stream",
     "text": [
      "{\n",
      "  \"poste\": {\n",
      "    \"type_contrat\": \"CDI\",\n",
      "    \"teletravail_possible\": true,\n",
      "    \"experience_pro_requise\": 5,\n",
      "    \"diplomes\": [\"Master\"],\n",
      "    \"spe_diplomes\": [\"Data\", \"Big Data\"],\n",
      "    \"langues\": [\"Anglais\"],\n",
      "    \"stack_technique\": [\n",
      "      \"Python\",\n",
      "      \"C#\",\n",
      "      \"SQL\",\n",
      "      \"NoSQL\",\n",
      "      \"Spark\",\n",
      "      \"Hadoop\",\n",
      "      \"Azure\",\n",
      "      \"Azure DevOps\",\n",
      "      \"ETL\",\n",
      "      \"Databricks\",\n",
      "      \"Machine Learning\",\n",
      "      \"AGILE\"\n",
      "    ]\n",
      "  }\n",
      "}\n"
     ]
    },
    {
     "name": "stderr",
     "output_type": "stream",
     "text": [
      " 70%|██████▉   | 588/841 [26:13<11:11,  2.66s/it]"
     ]
    },
    {
     "name": "stdout",
     "output_type": "stream",
     "text": [
      "{\n",
      "  \"poste\": {\n",
      "    \"type_contrat\": \"CDD\",\n",
      "    \"teletravail_possible\": true,\n",
      "    \"experience_pro_requise\": 5,\n",
      "    \"diplomes\": [\"pas de diplome\"],\n",
      "    \"spe_diplomes\": [null],\n",
      "    \"langues\": [null],\n",
      "    \"stack_technique\": [\"PostgreSql\", \"Elastic Search\", \"Spark\", \"Talend\", \"Kubernetes\", \"Docker\", \"SQL\", \"Python\", \"JavaScript\", \"Power BI\", \"Dataviz\"]\n",
      "  }\n",
      "}\n"
     ]
    },
    {
     "name": "stderr",
     "output_type": "stream",
     "text": [
      " 70%|███████   | 589/841 [26:15<10:13,  2.43s/it]"
     ]
    },
    {
     "name": "stdout",
     "output_type": "stream",
     "text": [
      "{\n",
      "  \"poste\": {\n",
      "    \"type_contrat\": \"CDI\",\n",
      "    \"teletravail_possible\": true,\n",
      "    \"experience_pro_requise\": 4,\n",
      "    \"diplomes\": [\"Bac+3\"],\n",
      "    \"spe_diplomes\": [],\n",
      "    \"langues\": [\"Francais\", \"Anglais\", \"autre\"],\n",
      "    \"stack_technique\": [\"SQL\", \"Python\", \"Azure Data Factory\", \"API\"]\n",
      "  }\n",
      "}\n"
     ]
    },
    {
     "name": "stderr",
     "output_type": "stream",
     "text": [
      " 70%|███████   | 590/841 [26:17<09:29,  2.27s/it]"
     ]
    },
    {
     "name": "stdout",
     "output_type": "stream",
     "text": [
      "{\n",
      "  \"poste\": {\n",
      "    \"type_contrat\": \"CDI\",\n",
      "    \"teletravail_possible\": true,\n",
      "    \"experience_pro_requise\": 2,\n",
      "    \"diplomes\": [\"Bac+5\"],\n",
      "    \"spe_diplomes\": [\"Informatique\", \"Data Science\"],\n",
      "    \"langues\": [\"Anglais\", \"Francais\"],\n",
      "    \"stack_technique\": [\"Big Data\", \"Data Science\", \"Sécurité des données\"]\n",
      "  }\n",
      "}\n"
     ]
    },
    {
     "name": "stderr",
     "output_type": "stream",
     "text": [
      " 70%|███████   | 591/841 [26:19<09:40,  2.32s/it]"
     ]
    },
    {
     "name": "stdout",
     "output_type": "stream",
     "text": [
      "{\n",
      "  \"poste\": {\n",
      "    \"type_contrat\": \"CDI\",\n",
      "    \"teletravail_possible\": true,\n",
      "    \"experience_pro_requise\": 5,\n",
      "    \"diplomes\": [\"pas de diplome\"],\n",
      "    \"spe_diplomes\": [null],\n",
      "    \"langues\": [null],\n",
      "    \"stack_technique\": [\n",
      "      \"Apache Spark\",\n",
      "      \"Hadoop\",\n",
      "      \"Hive\",\n",
      "      \"HDFS\",\n",
      "      \"Kafka\",\n",
      "      \"Scala\",\n",
      "      \"Python\",\n",
      "      \"Java\",\n",
      "      \"Spark SQL\",\n",
      "      \"Spark Streaming\",\n",
      "      \"Git\",\n",
      "      \"Jenkins\",\n",
      "      \"Docker\",\n",
      "      \"Kubernetes\"\n",
      "    ]\n",
      "  }\n",
      "}\n"
     ]
    },
    {
     "name": "stderr",
     "output_type": "stream",
     "text": [
      " 70%|███████   | 592/841 [26:21<09:07,  2.20s/it]"
     ]
    },
    {
     "name": "stdout",
     "output_type": "stream",
     "text": [
      "{\n",
      "  \"poste\": {\n",
      "    \"type_contrat\": \"CDI\",\n",
      "    \"teletravail_possible\": true,\n",
      "    \"experience_pro_requise\": 5,\n",
      "    \"diplomes\": [\"pas de diplome\"],\n",
      "    \"spe_diplomes\": [null],\n",
      "    \"langues\": [\"Anglais\"],\n",
      "    \"stack_technique\": [\"Python\", \"Google Cloud Platform (GCP)\", \"BigQuery\", \"Dataflow\", \"Dataproc\", \"Pub/Sub\"]\n",
      "  }\n",
      "}\n"
     ]
    },
    {
     "name": "stderr",
     "output_type": "stream",
     "text": [
      " 71%|███████   | 593/841 [26:24<09:23,  2.27s/it]"
     ]
    },
    {
     "name": "stdout",
     "output_type": "stream",
     "text": [
      "{\n",
      "  \"poste\": {\n",
      "    \"type_contrat\": \"CDI\",\n",
      "    \"teletravail_possible\": true,\n",
      "    \"experience_pro_requise\": 3,\n",
      "    \"diplomes\": [\"pas de diplome\"],\n",
      "    \"spe_diplomes\": [null],\n",
      "    \"langues\": [null],\n",
      "    \"stack_technique\": [\"GCP\", \"Composer\", \"Dataproc\", \"Cloud functions\", \"Cloud Pubsub\", \"Bigquery\", \"Dataflow\", \"Talend\", \"Bitbucket\", \"Jira\", \"Service now\", \"Python\", \"Pyspark\", \"GQL\"]\n",
      "  }\n",
      "}\n"
     ]
    },
    {
     "name": "stderr",
     "output_type": "stream",
     "text": [
      " 71%|███████   | 594/841 [26:26<08:45,  2.13s/it]"
     ]
    },
    {
     "name": "stdout",
     "output_type": "stream",
     "text": [
      "{\n",
      "  \"poste\": {\n",
      "    \"type_contrat\": \"CDI\",\n",
      "    \"teletravail_possible\": true,\n",
      "    \"experience_pro_requise\": 6,\n",
      "    \"diplomes\": [\"Master\"],\n",
      "    \"spe_diplomes\": [\"data\"],\n",
      "    \"langues\": [\"Francais\", \"Anglais\"],\n",
      "    \"stack_technique\": [\"Spark\", \"Python\", \"Scala\", \"ETL\"]\n",
      "  }\n",
      "}\n"
     ]
    },
    {
     "name": "stderr",
     "output_type": "stream",
     "text": [
      " 71%|███████   | 595/841 [26:27<08:21,  2.04s/it]"
     ]
    },
    {
     "name": "stdout",
     "output_type": "stream",
     "text": [
      "{\n",
      "  \"poste\": {\n",
      "    \"type_contrat\": \"CDI\",\n",
      "    \"teletravail_possible\": true,\n",
      "    \"experience_pro_requise\": 6,\n",
      "    \"diplomes\": [\"Master\"],\n",
      "    \"spe_diplomes\": [\"data\", \"ingénieur informatique\"],\n",
      "    \"langues\": [\"Francais\", \"Anglais\"],\n",
      "    \"stack_technique\": [\"Spark\", \"Python\", \"Scala\", \"ETL\"]\n",
      "  }\n",
      "}\n"
     ]
    },
    {
     "name": "stderr",
     "output_type": "stream",
     "text": [
      " 71%|███████   | 596/841 [26:29<07:59,  1.96s/it]"
     ]
    },
    {
     "name": "stdout",
     "output_type": "stream",
     "text": [
      "{\n",
      "  \"poste\": {\n",
      "    \"type_contrat\": \"CDI\",\n",
      "    \"teletravail_possible\": true,\n",
      "    \"experience_pro_requise\": 2,\n",
      "    \"diplomes\": [\"pas de diplome\"],\n",
      "    \"spe_diplomes\": [null],\n",
      "    \"langues\": [\"Anglais\", \"Francais\"],\n",
      "    \"stack_technique\": [\"GCP\", \"BigQuery\", \"Looker Studio\"]\n",
      "  }\n",
      "}\n"
     ]
    },
    {
     "name": "stderr",
     "output_type": "stream",
     "text": [
      " 71%|███████   | 597/841 [26:31<08:12,  2.02s/it]"
     ]
    },
    {
     "name": "stdout",
     "output_type": "stream",
     "text": [
      "{\n",
      "  \"poste\": {\n",
      "    \"type_contrat\": \"alternance\",\n",
      "    \"teletravail_possible\": true,\n",
      "    \"experience_pro_requise\": 1,\n",
      "    \"diplomes\": [\"Master\", \"autre\"],\n",
      "    \"spe_diplomes\": [\"data science\", \"data engineering\", \"statistique\", \"informatique\"],\n",
      "    \"langues\": [null],\n",
      "    \"stack_technique\": [\"SQL\", \"Python\", \"GCP\", \"Big Query\", \"Agile\"]\n",
      "  }\n",
      "}\n"
     ]
    },
    {
     "name": "stderr",
     "output_type": "stream",
     "text": [
      " 71%|███████   | 598/841 [26:33<08:12,  2.03s/it]"
     ]
    },
    {
     "name": "stdout",
     "output_type": "stream",
     "text": [
      "{\n",
      "  \"poste\": {\n",
      "    \"type_contrat\": \"CDI\",\n",
      "    \"teletravail_possible\": true,\n",
      "    \"experience_pro_requise\": 3,\n",
      "    \"diplomes\": [\"pas de diplome\"],\n",
      "    \"spe_diplomes\": [null],\n",
      "    \"langues\": [null],\n",
      "    \"stack_technique\": [\"Google Cloud Platform\", \"DBT\", \"Agile\"]\n",
      "  }\n",
      "}\n"
     ]
    },
    {
     "name": "stderr",
     "output_type": "stream",
     "text": [
      " 71%|███████   | 599/841 [26:36<08:17,  2.06s/it]"
     ]
    },
    {
     "name": "stdout",
     "output_type": "stream",
     "text": [
      "{\n",
      "  \"poste\": {\n",
      "    \"type_contrat\": \"CDI\",\n",
      "    \"teletravail_possible\": true,\n",
      "    \"experience_pro_requise\": 7,\n",
      "    \"diplomes\": [\"Master\"],\n",
      "    \"spe_diplomes\": [\"informatique\", \"école d'ingénieur\"],\n",
      "    \"langues\": [\"Anglais\"],\n",
      "    \"stack_technique\": [\"Angular\", \"NestJS\", \"Docker\", \"Node.js\", \"GitLab\", \"Jira\"]\n",
      "  }\n",
      "}\n"
     ]
    },
    {
     "name": "stderr",
     "output_type": "stream",
     "text": [
      " 71%|███████▏  | 600/841 [26:39<09:37,  2.40s/it]"
     ]
    },
    {
     "name": "stdout",
     "output_type": "stream",
     "text": [
      "{\n",
      "  \"poste\": {\n",
      "    \"type_contrat\": \"CDI\",\n",
      "    \"teletravail_possible\": true,\n",
      "    \"experience_pro_requise\": 2,\n",
      "    \"diplomes\": [\"Master\", \"Doctorat\", \"autre\"],\n",
      "    \"spe_diplomes\": [\"informatique\", \"ingenierie logicielle\", \"science des données\", \"genie des vehicules\", \"intelligence artificielle\", \"statistiques mathematiques\", \"autre\"],\n",
      "    \"langues\": [\"Anglais\", \"Francais\", \"autre\"],\n",
      "    \"stack_technique\": [\"Machine learning\", \"Deep learning\", \"AWS\", \"Azure\", \"Linux\", \"Spark\", \"Flink\", \"Storm\", \"Kafka\", \"Flume\", \"HDFS\", \"ClickHouse\", \"Greenplum\", \"Redis\", \"MonogoDB\", \"ElasticSearch\", \"Java\", \"Python\", \"R\"]\n",
      "  }\n",
      "}\n"
     ]
    },
    {
     "name": "stderr",
     "output_type": "stream",
     "text": [
      " 71%|███████▏  | 601/841 [26:41<09:25,  2.36s/it]"
     ]
    },
    {
     "name": "stdout",
     "output_type": "stream",
     "text": [
      "{\n",
      "  \"poste\": {\n",
      "    \"type_contrat\": \"CDI\",\n",
      "    \"teletravail_possible\": true,\n",
      "    \"experience_pro_requise\": 5,\n",
      "    \"diplomes\": [\"Bac+5\"],\n",
      "    \"spe_diplomes\": [\"informatique\"],\n",
      "    \"langues\": [\"Anglais\", \"Francais\", \"autre\"],\n",
      "    \"stack_technique\": [\"Spark\", \"Hadoop\", \"Big Data\", \"Data Engineer\", \"Data Science\", \"Data Analyst\"]\n",
      "  }\n",
      "}\n"
     ]
    },
    {
     "name": "stderr",
     "output_type": "stream",
     "text": [
      " 72%|███████▏  | 602/841 [26:44<09:40,  2.43s/it]"
     ]
    },
    {
     "name": "stdout",
     "output_type": "stream",
     "text": [
      "{\n",
      "  \"poste\": {\n",
      "    \"type_contrat\": \"CDI\",\n",
      "    \"teletravail_possible\": true,\n",
      "    \"experience_pro_requise\": 2,\n",
      "    \"diplomes\": [\"Bac+5\"],\n",
      "    \"spe_diplomes\": [],\n",
      "    \"langues\": [\"Anglais\"],\n",
      "    \"stack_technique\": [\"Git\", \"GitLab\", \"Docker\", \"Terraform\", \"Ansible\", \"Kubernetes\", \"OpenShift\", \"ITIL\", \"Cisco\", \"IBM Storage\", \"LAN\", \"WAN\", \"FreeBSD\", \"Linux\", \"Solaris\", \"Python\", \"Bash\", \"PHP\", \"Golang\", \"JAVA\", \"VMware\"]\n",
      "  }\n",
      "}\n"
     ]
    },
    {
     "name": "stderr",
     "output_type": "stream",
     "text": [
      " 72%|███████▏  | 603/841 [26:45<08:52,  2.24s/it]"
     ]
    },
    {
     "name": "stdout",
     "output_type": "stream",
     "text": [
      "{\n",
      "  \"poste\": {\n",
      "    \"type_contrat\": \"CDI\",\n",
      "    \"teletravail_possible\": false,\n",
      "    \"experience_pro_requise\": 3,\n",
      "    \"diplomes\": [\"pas de diplome\"],\n",
      "    \"spe_diplomes\": [null],\n",
      "    \"langues\": [\"Anglais\"],\n",
      "    \"stack_technique\": [\"C++\", \"scripting language\", \"Qt\", \"Squish\"]\n",
      "  }\n",
      "}\n"
     ]
    },
    {
     "name": "stderr",
     "output_type": "stream",
     "text": [
      " 72%|███████▏  | 604/841 [26:52<14:29,  3.67s/it]"
     ]
    },
    {
     "name": "stdout",
     "output_type": "stream",
     "text": [
      "{\n",
      "  \"poste\": {\n",
      "    \"type_contrat\": \"CDI\",\n",
      "    \"teletravail_possible\": true,\n",
      "    \"experience_pro_requise\": 2,\n",
      "    \"diplomes\": [\"Bac+5\"],\n",
      "    \"spe_diplomes\": [\"informatique\"],\n",
      "    \"langues\": [\"Anglais\"],\n",
      "    \"stack_technique\": [\"AWS\", \"Spark\", \"Python\", \"Scala\", \"Kafka\", \"Timescale\", \"Snowflake\"]\n",
      "  }\n",
      "}\n"
     ]
    },
    {
     "name": "stderr",
     "output_type": "stream",
     "text": [
      " 72%|███████▏  | 605/841 [26:55<12:56,  3.29s/it]"
     ]
    },
    {
     "name": "stdout",
     "output_type": "stream",
     "text": [
      "{\n",
      "  \"poste\": {\n",
      "    \"type_contrat\": \"CDI\",\n",
      "    \"teletravail_possible\": true,\n",
      "    \"experience_pro_requise\": 4,\n",
      "    \"diplomes\": [\"Bac+5\"],\n",
      "    \"spe_diplomes\": [\"informatique\"],\n",
      "    \"langues\": [\"Anglais\"],\n",
      "    \"stack_technique\": [\"Java\", \"Python\", \"Scala\", \"Spark\", \"Hadoop\", \"Palantir\", \"Big Data\", \"Machine Learning\", \"analyse de données\", \"sécurité des données\", \"acquisition de données\", \"intégration de données\", \"modélisation de données\", \"pipelines de données\", \"scientifiques de données\"]\n",
      "  }\n",
      "}\n"
     ]
    },
    {
     "name": "stderr",
     "output_type": "stream",
     "text": [
      " 72%|███████▏  | 606/841 [26:57<11:33,  2.95s/it]"
     ]
    },
    {
     "name": "stdout",
     "output_type": "stream",
     "text": [
      "{\n",
      "  \"poste\": {\n",
      "    \"type_contrat\": \"CDI\",\n",
      "    \"teletravail_possible\": true,\n",
      "    \"experience_pro_requise\": 5,\n",
      "    \"diplomes\": [\"Master\"],\n",
      "    \"spe_diplomes\": [\"informatique\"],\n",
      "    \"langues\": [\"Anglais\"],\n",
      "    \"stack_technique\": [\"Snowflake\", \"Azure\", \"SQL\", \"Javascript\", \"CI/CD\", \"ADLS Gen2\", \"Azure Data Factory\", \"Azure Function\", \"Azure Logicapp\", \"Azure batch\", \"MS SQL\", \"documentation\", \"tests unitaires\", \"déploiement\", \"optimisation de code\", \"JIRA\", \"méthodologie agile\"]\n",
      "  }\n",
      "}\n"
     ]
    },
    {
     "name": "stderr",
     "output_type": "stream",
     "text": [
      " 72%|███████▏  | 607/841 [26:59<10:25,  2.67s/it]"
     ]
    },
    {
     "name": "stdout",
     "output_type": "stream",
     "text": [
      "{\n",
      "  \"poste\": {\n",
      "    \"type_contrat\": \"CDI\",\n",
      "    \"teletravail_possible\": true,\n",
      "    \"experience_pro_requise\": 3,\n",
      "    \"diplome\": \"Bac+5\",\n",
      "    \"spe_diplome\": [\"Data Science\", \"Informatique\"],\n",
      "    \"langue\": [\"Anglais\", \"Francais\"],\n",
      "    \"stack_technique\": [\"Python\", \"Javascript\", \"API\", \"PySpark\", \"SQL\", \"Spark\", \"Airflow\", \"Databrick\"]\n",
      "  }\n",
      "}\n"
     ]
    },
    {
     "name": "stderr",
     "output_type": "stream",
     "text": [
      " 72%|███████▏  | 608/841 [27:01<09:43,  2.50s/it]"
     ]
    },
    {
     "name": "stdout",
     "output_type": "stream",
     "text": [
      "{\n",
      "  \"poste\": {\n",
      "    \"type_contrat\": \"CDI\",\n",
      "    \"teletravail_possible\": true,\n",
      "    \"experience_pro_requise\": 3,\n",
      "    \"diplomes\": [\"pas de diplome\"],\n",
      "    \"spe_diplomes\": [null],\n",
      "    \"langues\": [\"Anglais\", \"Francais\"],\n",
      "    \"stack_technique\": [\"Snowflake\", \"Cloud Publics\", \"NoSQL\", \"DW\", \"Hadoop\", \"Architectures Conteneurs\", \"Agile\", \"DevOps\", \"AWS\", \"BigData\"]\n",
      "  }\n",
      "}\n"
     ]
    },
    {
     "name": "stderr",
     "output_type": "stream",
     "text": [
      " 72%|███████▏  | 609/841 [27:09<15:38,  4.04s/it]"
     ]
    },
    {
     "name": "stdout",
     "output_type": "stream",
     "text": [
      "{\n",
      "  \"poste\": {\n",
      "    \"type_contrat\": \"freelance\",\n",
      "    \"teletravail_possible\": null,\n",
      "    \"experience_pro_requise\": 1,\n",
      "    \"diplomes\": [null],\n",
      "    \"spe_diplomes\": [null],\n",
      "    \"langues\": [null],\n",
      "    \"stack_technique\": [\n",
      "      \"Chromebook Suite\",\n",
      "      \"InstaDMG\",\n",
      "      \"Compser\",\n",
      "      \"Fseventer\",\n",
      "      \"Auto PKG\",\n",
      "      \"Imagining / Deployments of Chromebooks\",\n",
      "      \"Chromebook Connect\"\n",
      "    ]\n",
      "  }\n",
      "}\n"
     ]
    },
    {
     "name": "stderr",
     "output_type": "stream",
     "text": [
      " 73%|███████▎  | 610/841 [27:11<13:18,  3.46s/it]"
     ]
    },
    {
     "name": "stdout",
     "output_type": "stream",
     "text": [
      "{\n",
      "  \"poste\": {\n",
      "    \"type_contrat\": \"CDI\",\n",
      "    \"teletravail_possible\": true,\n",
      "    \"experience_pro_requise\": 3,\n",
      "    \"diplomes\": [\"pas de diplome\"],\n",
      "    \"spe_diplomes\": [null],\n",
      "    \"langues\": [\"Anglais\"],\n",
      "    \"stack_technique\": [\"Go Lang\", \"Postgresql\", \"Git\", \"Python\", \"Typescript\", \"Api\", \"Linux\", \"Docker\", \"Google Cloud Platform - Gcp\"]\n",
      "  }\n",
      "}\n"
     ]
    },
    {
     "name": "stderr",
     "output_type": "stream",
     "text": [
      " 73%|███████▎  | 611/841 [27:13<11:54,  3.11s/it]"
     ]
    },
    {
     "name": "stdout",
     "output_type": "stream",
     "text": [
      "{\n",
      "  \"poste\": {\n",
      "    \"type_contrat\": \"CDI\",\n",
      "    \"teletravail_possible\": null,\n",
      "    \"experience_pro_requise\": 3,\n",
      "    \"diplomes\": [\"Bac+5\"],\n",
      "    \"spe_diplomes\": [\"informatique\"],\n",
      "    \"langues\": [\"Anglais\", \"Francais\"],\n",
      "    \"stack_technique\": [\"Big Data\", \"Kubernetes\", \"Python\", \"Scala\", \"AWS\", \"S3\", \"Lambda\", \"Kinesis\", \"Dynamo\", \"SageMaker\", \"ECS Fargate\", \"CI/CD\", \"Github\", \"Jenkins\", \"Cloudwatch\", \"SonarQube\"]\n",
      "  }\n",
      "}\n"
     ]
    },
    {
     "name": "stderr",
     "output_type": "stream",
     "text": [
      " 73%|███████▎  | 612/841 [27:15<10:12,  2.67s/it]"
     ]
    },
    {
     "name": "stdout",
     "output_type": "stream",
     "text": [
      "{\n",
      "  \"poste\": {\n",
      "    \"type_contrat\": \"CDI\",\n",
      "    \"teletravail_possible\": true,\n",
      "    \"experience_pro_requise\": 3,\n",
      "    \"diplomes\": [\"Licence\"],\n",
      "    \"spe_diplomes\": [],\n",
      "    \"langues\": [\"Francais\", \"Anglais\"],\n",
      "    \"stack_technique\": [\"Kubernetes\", \"Langchain\", \"vllm\", \"cuda\", \"microservices\", \"API\", \"CI/CD\"]\n",
      "  }\n",
      "}\n"
     ]
    },
    {
     "name": "stderr",
     "output_type": "stream",
     "text": [
      " 73%|███████▎  | 613/841 [27:17<09:22,  2.47s/it]"
     ]
    },
    {
     "name": "stdout",
     "output_type": "stream",
     "text": [
      "{\n",
      "  \"poste\": {\n",
      "    \"type_contrat\": \"alternance\",\n",
      "    \"teletravail_possible\": false,\n",
      "    \"experience_pro_requise\": 1,\n",
      "    \"diplomes\": [\"Master\"],\n",
      "    \"spe_diplomes\": [\"Data Engineering\", \"Data Analytics\"],\n",
      "    \"langues\": [null],\n",
      "    \"stack_technique\": [\"SQL\", \"Google Cloud\", \"BigQuery\", \"Cloud Storage\", \"Power BI\", \"Git\", \"Jenkins\", \"Airflow\"]\n",
      "  }\n",
      "}\n"
     ]
    },
    {
     "name": "stderr",
     "output_type": "stream",
     "text": [
      " 73%|███████▎  | 614/841 [27:19<09:22,  2.48s/it]"
     ]
    },
    {
     "name": "stdout",
     "output_type": "stream",
     "text": [
      "{\n",
      "  \"poste\": {\n",
      "    \"type_contrat\": \"freelance\",\n",
      "    \"teletravail_possible\": false,\n",
      "    \"experience_pro_requise\": 10,\n",
      "    \"diplomes\": [\"pas de diplome\"],\n",
      "    \"spe_diplomes\": [null],\n",
      "    \"langues\": [null],\n",
      "    \"stack_technique\": [\n",
      "      \"OCP\",\n",
      "      \"Ansible\",\n",
      "      \"Redhat\",\n",
      "      \"VMWare\",\n",
      "      \"Ansible Tower\",\n",
      "      \"CEPH\",\n",
      "      \"Server hardware\",\n",
      "      \"Storage hardware\",\n",
      "      \"Zookeeper\",\n",
      "      \"Kafka\",\n",
      "      \"CI/CD\"\n",
      "    ]\n",
      "  }\n",
      "}\n"
     ]
    },
    {
     "name": "stderr",
     "output_type": "stream",
     "text": [
      " 73%|███████▎  | 615/841 [27:21<08:41,  2.31s/it]"
     ]
    },
    {
     "name": "stdout",
     "output_type": "stream",
     "text": [
      "{\n",
      "  \"poste\": {\n",
      "    \"type_contrat\": \"CDI\",\n",
      "    \"teletravail_possible\": false,\n",
      "    \"experience_pro_requise\": 8,\n",
      "    \"diplomes\": [\"Bachelors\", \"Masters\"],\n",
      "    \"spe_diplomes\": [\"Engineering\"],\n",
      "    \"langues\": [\"Anglais\"],\n",
      "    \"stack_technique\": [\"project management\", \"product design\", \"technical skills\"]\n",
      "  }\n",
      "}\n"
     ]
    },
    {
     "name": "stderr",
     "output_type": "stream",
     "text": [
      " 73%|███████▎  | 616/841 [27:24<08:39,  2.31s/it]"
     ]
    },
    {
     "name": "stdout",
     "output_type": "stream",
     "text": [
      "{\n",
      "  \"poste\": {\n",
      "    \"type_contrat\": \"CDI\",\n",
      "    \"teletravail_possible\": false,\n",
      "    \"experience_pro_requise\": 1,\n",
      "    \"diplomes\": [\"Master\", null],\n",
      "    \"spe_diplomes\": [\"Ingénieur\", \"IA Engineering\"],\n",
      "    \"langues\": [\"Anglais\", \"Francais\", \"autre\"],\n",
      "    \"stack_technique\": [\"Hadoop\", \"MapReduce\", \"MongoDB\", \"Cassandra\", \"C\", \"Python\", \"Java\", \"DevOps\", \"MLOps\", \"CI / CD\", \"Jenkins\", \"GitLab\", \"Docker\", \"Cloud computing\", \"IA\"]\n",
      "  }\n",
      "}\n"
     ]
    },
    {
     "name": "stderr",
     "output_type": "stream",
     "text": [
      " 73%|███████▎  | 617/841 [27:25<07:54,  2.12s/it]"
     ]
    },
    {
     "name": "stdout",
     "output_type": "stream",
     "text": [
      "{\n",
      "  \"poste\": {\n",
      "    \"type_contrat\": null,\n",
      "    \"teletravail_possible\": null,\n",
      "    \"experience_pro_requise\": 1,\n",
      "    \"diplomes\": [\"pas de diplome\"],\n",
      "    \"spe_diplomes\": [null],\n",
      "    \"langues\": [\"Anglais\", \"Francais\", \"Espagnol\", \"Portuguais\"],\n",
      "    \"stack_technique\": [\"Survey Engineering\", \"Geophysical Route Survey\"]\n",
      "  }\n",
      "}\n"
     ]
    },
    {
     "name": "stderr",
     "output_type": "stream",
     "text": [
      " 73%|███████▎  | 618/841 [27:27<07:31,  2.03s/it]"
     ]
    },
    {
     "name": "stdout",
     "output_type": "stream",
     "text": [
      "{\n",
      "  \"poste\": {\n",
      "    \"type_contrat\": \"CDI\",\n",
      "    \"teletravail_possible\": true,\n",
      "    \"experience_pro_requise\": 1,\n",
      "    \"diplomes\": [\"Bachelor\"],\n",
      "    \"spe_diplomes\": [\"Computer Science\", \"Data Engineering\"],\n",
      "    \"langues\": [\"Allemand\", \"Anglais\"],\n",
      "    \"stack_technique\": [\"Java\", \"Python\", \"SAS\", \"Hadoop\", \"Databases\"]\n",
      "  }\n",
      "}\n"
     ]
    },
    {
     "name": "stderr",
     "output_type": "stream",
     "text": [
      " 74%|███████▎  | 619/841 [27:29<07:34,  2.05s/it]"
     ]
    },
    {
     "name": "stdout",
     "output_type": "stream",
     "text": [
      "{\n",
      "  \"poste\": {\n",
      "    \"type_contrat\": \"CDI\",\n",
      "    \"teletravail_possible\": true,\n",
      "    \"experience_pro_requise\": 3,\n",
      "    \"diplomes\": [\"Licence\", \"Master\", \"Doctorat\"],\n",
      "    \"spe_diplomes\": [\"Informatique\", \"Data Science\"],\n",
      "    \"langues\": [\"Anglais\"],\n",
      "    \"stack_technique\": [\"Python\", \"Git\", \"Kubernetes\", \"Kafka\", \"Spark / pySpark\", \"Azure Devops\", \"Azure ML\"]\n",
      "  }\n",
      "}\n"
     ]
    },
    {
     "name": "stderr",
     "output_type": "stream",
     "text": [
      " 74%|███████▎  | 620/841 [27:31<07:14,  1.97s/it]"
     ]
    },
    {
     "name": "stdout",
     "output_type": "stream",
     "text": [
      "{\n",
      "  \"poste\": {\n",
      "    \"type_contrat\": \"CDI\",\n",
      "    \"teletravail_possible\": null,\n",
      "    \"experience_pro_requise\": 5,\n",
      "    \"diplomes\": [\"pas de diplome\"],\n",
      "    \"spe_diplomes\": [null],\n",
      "    \"langues\": [\"Francais\", \"Anglais\", \"autre\"],\n",
      "    \"stack_technique\": [\"Deep Learning\", \"IA\", \"GPU\", \"RAG\"]\n",
      "  }\n",
      "}\n"
     ]
    },
    {
     "name": "stderr",
     "output_type": "stream",
     "text": [
      " 74%|███████▍  | 621/841 [27:39<14:10,  3.86s/it]"
     ]
    },
    {
     "name": "stdout",
     "output_type": "stream",
     "text": [
      "{\n",
      "  \"poste\": {\n",
      "    \"type_contrat\": \"CDI\",\n",
      "    \"teletravail_possible\": false,\n",
      "    \"experience_pro_requise\": 5,\n",
      "    \"diplomes\": [\"Bac+5\"],\n",
      "    \"spe_diplomes\": [\"électricité\", \"électrotechnique\", \"climatisation\", \"maintenance industrielle\"],\n",
      "    \"langues\": [\"Anglais\"],\n",
      "    \"stack_technique\": [\"climatisation\", \"électricité\", \"électrotechnique\", \"maintenance industrielle\"]\n",
      "  }\n",
      "}\n"
     ]
    },
    {
     "name": "stderr",
     "output_type": "stream",
     "text": [
      " 74%|███████▍  | 622/841 [27:41<12:23,  3.39s/it]"
     ]
    },
    {
     "name": "stdout",
     "output_type": "stream",
     "text": [
      "{\n",
      "  \"poste\": {\n",
      "    \"type_contrat\": \"CDI\",\n",
      "    \"teletravail_possible\": false,\n",
      "    \"experience_pro_requise\": 1,\n",
      "    \"diplomes\": [\"Licence\", \"Master\", \"Doctorat\", \"Bac+3\", \"Bac+5\", \"Bac+7\", \"pas de diplome\", \"autre\"],\n",
      "    \"spe_diplomes\": [null],\n",
      "    \"langues\": [\"Anglais\", \"Francais\", \"Espagnol\", \"Allemand\", \"Italien\", \"Portuguais\", \"autre\"],\n",
      "    \"stack_technique\": [\"Data Analytics\", \"Data comptable\", \"Finance\", \"Gestion\"]\n",
      "  }\n",
      "}\n"
     ]
    },
    {
     "name": "stderr",
     "output_type": "stream",
     "text": [
      " 74%|███████▍  | 623/841 [27:44<11:23,  3.14s/it]"
     ]
    },
    {
     "name": "stdout",
     "output_type": "stream",
     "text": [
      "{\n",
      "  \"poste\": {\n",
      "    \"type_contrat\": \"CDI\",\n",
      "    \"teletravail_possible\": false,\n",
      "    \"experience_pro_requise\": 5,\n",
      "    \"diplomes\": [\"Bac+5\"],\n",
      "    \"spe_diplomes\": [],\n",
      "    \"langues\": [\"Francais\", \"Anglais\"],\n",
      "    \"stack_technique\": [\"data Engineer\", \"gestion de projet informatique\", \"architecture technique\", \"big-data\", \"SQL\", \"NoSQL\", \"analyse de données\"]\n",
      "  }\n",
      "}\n"
     ]
    },
    {
     "name": "stderr",
     "output_type": "stream",
     "text": [
      " 74%|███████▍  | 624/841 [27:46<10:25,  2.88s/it]"
     ]
    },
    {
     "name": "stdout",
     "output_type": "stream",
     "text": [
      "{\n",
      "  \"poste\": {\n",
      "    \"type_contrat\": \"stage\",\n",
      "    \"teletravail_possible\": false,\n",
      "    \"experience_pro_requise\": 1,\n",
      "    \"diplomes\": [\"Bac+5\"],\n",
      "    \"spe_diplomes\": [\"Digitale\"],\n",
      "    \"langues\": [\"Anglais\", \"Francais\"],\n",
      "    \"stack_technique\": [\"Google Ads\", \"Bing Ads\", \"Facebook Ads\", \"Snapchat Ads\", \"Tiktok Ads\", \"SEO\", \"Amazon\", \"Cdiscount\", \"Pack Office\"]\n",
      "  }\n",
      "}\n"
     ]
    },
    {
     "name": "stderr",
     "output_type": "stream",
     "text": [
      " 74%|███████▍  | 625/841 [27:49<10:14,  2.85s/it]"
     ]
    },
    {
     "name": "stdout",
     "output_type": "stream",
     "text": [
      "{\n",
      "  \"poste\": {\n",
      "    \"type_contrat\": \"stage\",\n",
      "    \"teletravail_possible\": true,\n",
      "    \"experience_pro_requise\": 1,\n",
      "    \"diplomes\": [\"Master\"],\n",
      "    \"spe_diplomes\": [\"Engineering\", \"Economics\", \"Business\"],\n",
      "    \"langues\": [\"Anglais\", \"Francais\", \"autre\"],\n",
      "    \"stack_technique\": [\"SQL\", \"Python\", \"R\", \"Tableau\", \"Excel\", \"PowerPoint\"]\n",
      "  }\n",
      "}\n"
     ]
    },
    {
     "name": "stderr",
     "output_type": "stream",
     "text": [
      " 74%|███████▍  | 626/841 [27:52<09:49,  2.74s/it]"
     ]
    },
    {
     "name": "stdout",
     "output_type": "stream",
     "text": [
      "{\n",
      "  \"poste\": {\n",
      "    \"type_contrat\": \"CDI\",\n",
      "    \"teletravail_possible\": true,\n",
      "    \"experience_pro_requise\": 3,\n",
      "    \"diplomes\": [\"Bac+5\"],\n",
      "    \"spe_diplomes\": [],\n",
      "    \"langues\": [\"Francais\", \"Anglais\"],\n",
      "    \"stack_technique\": [\"SQL\", \"PowerBI\", \"Tableau\"]\n",
      "  }\n",
      "}\n"
     ]
    },
    {
     "name": "stderr",
     "output_type": "stream",
     "text": [
      " 75%|███████▍  | 627/841 [27:55<10:02,  2.81s/it]"
     ]
    },
    {
     "name": "stdout",
     "output_type": "stream",
     "text": [
      "{\n",
      "  \"poste\": {\n",
      "    \"type_contrat\": \"stage\",\n",
      "    \"teletravail_possible\": true,\n",
      "    \"experience_pro_requise\": 1,\n",
      "    \"diplomes\": [\"Bac+5\"],\n",
      "    \"spe_diplomes\": [\"Finance\", \"Audit\", \"Conformité\"],\n",
      "    \"langues\": [\"Francais\", \"Anglais\"],\n",
      "    \"stack_technique\": null\n",
      "  }\n",
      "}\n"
     ]
    },
    {
     "name": "stderr",
     "output_type": "stream",
     "text": [
      " 75%|███████▍  | 628/841 [27:57<10:00,  2.82s/it]"
     ]
    },
    {
     "name": "stdout",
     "output_type": "stream",
     "text": [
      "{\n",
      "  \"poste\": {\n",
      "    \"type_contrat\": \"CDI\",\n",
      "    \"teletravail_possible\": true,\n",
      "    \"experience_pro_requise\": 3,\n",
      "    \"diplomes\": [\"Master\", \"Doctorat\"],\n",
      "    \"spe_diplomes\": [\"Informatique\", \"Mathématiques\"],\n",
      "    \"langues\": [\"Anglais\", \"Francais\"],\n",
      "    \"stack_technique\": [\"Python\", \"TensorFlow\", \"Scikit-learn\"]\n",
      "  }\n",
      "}\n"
     ]
    },
    {
     "name": "stderr",
     "output_type": "stream",
     "text": [
      " 75%|███████▍  | 629/841 [27:59<09:08,  2.59s/it]"
     ]
    },
    {
     "name": "stdout",
     "output_type": "stream",
     "text": [
      "{\n",
      "  \"poste\": {\n",
      "    \"type_contrat\": \"CDI\",\n",
      "    \"teletravail_possible\": true,\n",
      "    \"experience_pro_requise\": 5,\n",
      "    \"diplomes\": [\"pas de diplome\"],\n",
      "    \"spe_diplomes\": [null],\n",
      "    \"langues\": [\"Anglais\", \"Francais\", \"autre\"],\n",
      "    \"stack_technique\": [\"Deep Learning\", \"GPU\", \"RAG\", \"LLM\", \"Embedd Engineering\"]\n",
      "  }\n",
      "}\n"
     ]
    },
    {
     "name": "stderr",
     "output_type": "stream",
     "text": [
      " 75%|███████▍  | 630/841 [28:07<14:52,  4.23s/it]"
     ]
    },
    {
     "name": "stdout",
     "output_type": "stream",
     "text": [
      "{\n",
      "  \"poste\": {\n",
      "    \"type_contrat\": \"CDI\",\n",
      "    \"teletravail_possible\": true,\n",
      "    \"experience_pro_requise\": 3,\n",
      "    \"diplomes\": [\"pas de diplome\"],\n",
      "    \"spe_diplomes\": [null],\n",
      "    \"langues\": [\"Anglais\", \"Francais\"],\n",
      "    \"stack_technique\": [\"Machine learning\", \"Data Science\", \"Big data\", \"Hadoop\", \"Spark\", \"Hive\", \"Impala\", \"GCP\", \"Azure\", \"DEVOPS\", \"CI/CD\", \"Git\", \"Linux\", \"Python\", \"C\", \"Java\", \"bases de données\", \"Oracle\", \"DB2\", \"MySQL\", \"MongoDB\"]\n",
      "  }\n",
      "}\n"
     ]
    },
    {
     "name": "stderr",
     "output_type": "stream",
     "text": [
      " 75%|███████▌  | 631/841 [28:10<13:06,  3.75s/it]"
     ]
    },
    {
     "name": "stdout",
     "output_type": "stream",
     "text": [
      "{\n",
      "  \"poste\": {\n",
      "    \"type_contrat\": \"CDI\",\n",
      "    \"teletravail_possible\": true,\n",
      "    \"experience_pro_requise\": 2,\n",
      "    \"diplomes\": [\"Doctorat\", \"Master\", \"autre\"],\n",
      "    \"spe_diplomes\": [\"informatique\", \"développement logiciel\", \"IA\", \"ML\"],\n",
      "    \"langues\": [\"Anglais\"],\n",
      "    \"stack_technique\": [\"Python\", \"PyTorch\", \"NLP\", \"GPU\", \"CUDA\", \"systèmes distribués\", \"NCCL\"]\n",
      "  }\n",
      "}\n"
     ]
    },
    {
     "name": "stderr",
     "output_type": "stream",
     "text": [
      " 75%|███████▌  | 632/841 [28:12<11:33,  3.32s/it]"
     ]
    },
    {
     "name": "stdout",
     "output_type": "stream",
     "text": [
      "{\n",
      "  \"poste\": {\n",
      "    \"type_contrat\": \"CDI\",\n",
      "    \"teletravail_possible\": true,\n",
      "    \"experience_pro_requise\": 2,\n",
      "    \"diplomes\": [\"Master\", \"Doctorat\"],\n",
      "    \"spe_diplomes\": [\"Artificial Intelligence\", \"Operations Research\", \"Machine Learning\"],\n",
      "    \"langues\": [\"Anglais\"],\n",
      "    \"stack_technique\": [\"Python\", \"Artificial Intelligence\", \"MIP\", \"SAT\", \"PBO\", \"Mathematical Optimization\", \"Operations Research\", \"CI/CD\", \"Git\", \"Agile\", \"AWS\"]\n",
      "  }\n",
      "}\n"
     ]
    },
    {
     "name": "stderr",
     "output_type": "stream",
     "text": [
      " 75%|███████▌  | 633/841 [28:15<11:04,  3.19s/it]"
     ]
    },
    {
     "name": "stdout",
     "output_type": "stream",
     "text": [
      "{\n",
      "  \"poste\": {\n",
      "    \"type_contrat\": \"alternance\",\n",
      "    \"teletravail_possible\": null,\n",
      "    \"experience_pro_requise\": 1,\n",
      "    \"diplomes\": [\"pas de diplome\"],\n",
      "    \"spe_diplomes\": [null],\n",
      "    \"langues\": [null],\n",
      "    \"stack_technique\": [\"Machine learning\", \"Data Science\", \"Big data\", \"Hadoop\", \"Spark\", \"Hive\", \"Impala\", \"Cloud GCP\", \"Azure\", \"DevOps CI/CD\", \"Git\", \"Linux\", \"Python\", \"C\", \"Java\", \"bases de données\", \"Oracle\", \"DB2\", \"MySQL\", \"MongoDB\"]\n",
      "  }\n",
      "}\n"
     ]
    },
    {
     "name": "stderr",
     "output_type": "stream",
     "text": [
      " 75%|███████▌  | 634/841 [28:18<10:28,  3.04s/it]"
     ]
    },
    {
     "name": "stdout",
     "output_type": "stream",
     "text": [
      "{\n",
      "  \"poste\": {\n",
      "    \"type_contrat\": \"CDI\",\n",
      "    \"teletravail_possible\": true,\n",
      "    \"experience_pro_requise\": 3,\n",
      "    \"diplomes\": [\"pas de diplome\"],\n",
      "    \"spe_diplomes\": [null],\n",
      "    \"langues\": [null],\n",
      "    \"stack_technique\": [\"GCP\", \"Python\", \"Data Pipeline\", \"MicroServices\", \"CI/CD\", \"Machine learning\", \"Pandas\", \"Spark\", \"SQL\", \"GitLab\", \"Kafka\", \"ETL\", \"Terraform\", \"Looker\", \"BO\"]\n",
      "  }\n",
      "}\n"
     ]
    },
    {
     "name": "stderr",
     "output_type": "stream",
     "text": [
      " 76%|███████▌  | 635/841 [28:20<09:26,  2.75s/it]"
     ]
    },
    {
     "name": "stdout",
     "output_type": "stream",
     "text": [
      "{\n",
      "  \"poste\": {\n",
      "    \"type_contrat\": \"CDI\",\n",
      "    \"teletravail_possible\": false,\n",
      "    \"experience_pro_requise\": 1,\n",
      "    \"diplomes\": [\"Doctorat\", \"autre\"],\n",
      "    \"spe_diplomes\": [\"Laser-plasma acceleration\", \"Particle-In-Cell simulations of laser-plasma interaction\", \"Machine learning techniques\", \"High-performance computing and parallel programming\"],\n",
      "    \"langues\": [\"Anglais\"],\n",
      "    \"stack_technique\": [\"Python\", \"C++\"]\n",
      "  }\n",
      "}\n"
     ]
    },
    {
     "name": "stderr",
     "output_type": "stream",
     "text": [
      " 76%|███████▌  | 636/841 [28:22<09:02,  2.65s/it]"
     ]
    },
    {
     "name": "stdout",
     "output_type": "stream",
     "text": [
      "{\n",
      "  \"poste\": {\n",
      "    \"type_contrat\": \"CDI\",\n",
      "    \"teletravail_possible\": true,\n",
      "    \"experience_pro_requise\": 3,\n",
      "    \"diplomes\": [\"Licence\", \"Master\", \"Doctorat\", \"Bac+3\", \"Bac+5\", \"Bac+7\", \"pas de diplome\", \"autre\"],\n",
      "    \"spe_diplomes\": [\"Computer Vision\", \"Deep Learning\", \"Image and Video Analysis\"],\n",
      "    \"langues\": [\"Anglais\", \"Francais\", \"Espagnol\", \"Allemand\", \"Italien\", \"Portuguais\", \"autre\"],\n",
      "    \"stack_technique\": [\"Computer Vision\", \"Deep Learning\", \"Image and Video Analysis\", \"Algorithm Development\"]\n",
      "  }\n",
      "}\n"
     ]
    },
    {
     "name": "stderr",
     "output_type": "stream",
     "text": [
      " 76%|███████▌  | 637/841 [28:25<08:52,  2.61s/it]"
     ]
    },
    {
     "name": "stdout",
     "output_type": "stream",
     "text": [
      "{\n",
      "  \"poste\": {\n",
      "    \"type_contrat\": \"CDI\",\n",
      "    \"teletravail_possible\": true,\n",
      "    \"experience_pro_requise\": 5,\n",
      "    \"diplomes\": [\"Doctorat\"],\n",
      "    \"spe_diplomes\": [\"Machine Learning\", \"informatique\", \"imagerie médicale\"],\n",
      "    \"langues\": [\"Anglais\"],\n",
      "    \"stack_technique\": [\"Computer Vision\", \"Machine Learning\", \"Deep Learning\", \"Tensorflow\", \"Keras\"]\n",
      "  }\n",
      "}\n"
     ]
    },
    {
     "name": "stderr",
     "output_type": "stream",
     "text": [
      " 76%|███████▌  | 638/841 [28:27<08:29,  2.51s/it]"
     ]
    },
    {
     "name": "stdout",
     "output_type": "stream",
     "text": [
      "{\n",
      "  \"poste\": {\n",
      "    \"type_contrat\": \"CDI\",\n",
      "    \"teletravail_possible\": false,\n",
      "    \"experience_pro_requise\": null,\n",
      "    \"diplomes\": [\"Doctorat\"],\n",
      "    \"spe_diplomes\": [\"Data Science\", \"Intelligence Artificielle\"],\n",
      "    \"langues\": [\"Anglais\", \"Francais\"],\n",
      "    \"stack_technique\": [\"Python\", \"R\", \"SQL\", \"pySpark\", \"Spark\", \"NoSQL\", \"informatique quantique\"]\n",
      "  }\n",
      "}\n"
     ]
    },
    {
     "name": "stderr",
     "output_type": "stream",
     "text": [
      " 76%|███████▌  | 639/841 [28:29<07:43,  2.29s/it]"
     ]
    },
    {
     "name": "stdout",
     "output_type": "stream",
     "text": [
      "{\n",
      "  \"poste\": {\n",
      "    \"type_contrat\": \"CDI\",\n",
      "    \"teletravail_possible\": true,\n",
      "    \"experience_pro_requise\": 1,\n",
      "    \"diplomes\": [\"Licence\", \"Master\", \"Doctorat\", \"pas de diplome\"],\n",
      "    \"spe_diplomes\": [\"Ingénierie\"],\n",
      "    \"langues\": [\"Anglais\"],\n",
      "    \"stack_technique\": [\"Python\", \"API\", \"Flask\", \"FastAPI\", \"Cloud Computing\", \"TensorFlow\", \"PyTorch\"]\n",
      "  }\n",
      "}\n"
     ]
    },
    {
     "name": "stderr",
     "output_type": "stream",
     "text": [
      " 76%|███████▌  | 640/841 [28:31<07:15,  2.17s/it]"
     ]
    },
    {
     "name": "stdout",
     "output_type": "stream",
     "text": [
      "{\n",
      "  \"poste\": {\n",
      "    \"type_contrat\": \"alternance\",\n",
      "    \"teletravail_possible\": false,\n",
      "    \"experience_pro_requise\": 1,\n",
      "    \"diplomes\": [\"Bac+3\", \"pas de diplome\"],\n",
      "    \"spe_diplomes\": null,\n",
      "    \"langues\": [\"Francais\", \"Anglais\", \"autre\"],\n",
      "    \"stack_technique\": [\"SQL SERVER\", \"AZURE SQL SERVICE\", \"TABLEAU SOFTWARE\", \"POWER BI\", \"GOOGLE CHART\"]\n",
      "  }\n",
      "}\n"
     ]
    },
    {
     "name": "stderr",
     "output_type": "stream",
     "text": [
      " 76%|███████▌  | 641/841 [28:34<07:56,  2.38s/it]"
     ]
    },
    {
     "name": "stdout",
     "output_type": "stream",
     "text": [
      "{\n",
      "  \"poste\": {\n",
      "    \"type_contrat\": \"CDI\",\n",
      "    \"teletravail_possible\": true,\n",
      "    \"experience_pro_requise\": 1,\n",
      "    \"diplomes\": [\"pas de diplome\"],\n",
      "    \"spe_diplomes\": [null],\n",
      "    \"langues\": [\"Anglais\", \"Francais\", \"Allemand\", \"Espagnol\", \"Italien\", \"Portuguais\", \"autre\"],\n",
      "    \"stack_technique\": [\"statistics\", \"machine learning\", \"artificial intelligence\", \"data modelling\", \"data analysis\", \"structured data\", \"unstructured data\", \"databases\", \"data processing\", \"scientific methods\", \"controlled experiments\", \"software engineering\", \"AI solutions\", \"compliance risks\", \"integrity\", \"flexible working arrangements\"]\n",
      "  }\n",
      "}\n"
     ]
    },
    {
     "name": "stderr",
     "output_type": "stream",
     "text": [
      " 76%|███████▋  | 642/841 [28:36<07:48,  2.35s/it]"
     ]
    },
    {
     "name": "stdout",
     "output_type": "stream",
     "text": [
      "{\n",
      "  \"poste\": {\n",
      "    \"type_contrat\": \"CDI\",\n",
      "    \"teletravail_possible\": true,\n",
      "    \"experience_pro_requise\": 1,\n",
      "    \"diplomes\": [\"Master\"],\n",
      "    \"spe_diplomes\": [\"Data Science\", \"Machine Learning\"],\n",
      "    \"langues\": [\"Anglais\", \"Francais\"],\n",
      "    \"stack_technique\": [\"Python\", \"GitLab\", \"Jira\", \"Keras\", \"BERT/CAMEMBERT\", \"TensorFlow\"]\n",
      "  }\n",
      "}\n"
     ]
    },
    {
     "name": "stderr",
     "output_type": "stream",
     "text": [
      " 76%|███████▋  | 643/841 [28:38<07:16,  2.20s/it]"
     ]
    },
    {
     "name": "stdout",
     "output_type": "stream",
     "text": [
      "{\n",
      "  \"poste\": {\n",
      "    \"type_contrat\": \"CDI\",\n",
      "    \"teletravail_possible\": true,\n",
      "    \"experience_pro_requise\": 1,\n",
      "    \"diplomes\": [\"pas de diplome\"],\n",
      "    \"spe_diplomes\": [null],\n",
      "    \"langues\": [null],\n",
      "    \"stack_technique\": [\n",
      "      \"Python\",\n",
      "      \"Tensorflow\",\n",
      "      \"PyTorch\",\n",
      "      \"Keras\",\n",
      "      \"Pandas\",\n",
      "      \"SQL\",\n",
      "      \"NoSQL\",\n",
      "      \"Linux\",\n",
      "      \"Github\",\n",
      "      \"AWS\",\n",
      "      \"Azure\",\n",
      "      \"GCP\"\n",
      "    ]\n",
      "  }\n",
      "}\n"
     ]
    },
    {
     "name": "stderr",
     "output_type": "stream",
     "text": [
      " 77%|███████▋  | 644/841 [28:40<07:14,  2.21s/it]"
     ]
    },
    {
     "name": "stdout",
     "output_type": "stream",
     "text": [
      "{\n",
      "  \"poste\": {\n",
      "    \"type_contrat\": \"CDI\",\n",
      "    \"teletravail_possible\": true,\n",
      "    \"experience_pro_requise\": 5,\n",
      "    \"diplomes\": [\"pas de diplome\"],\n",
      "    \"spe_diplomes\": [\"Deep Learning\"],\n",
      "    \"langues\": [\"Anglais\", \"Francais\"],\n",
      "    \"stack_technique\": [\"GPU\", \"RAG\", \"LLM\", \"Embedded Engineering\"]\n",
      "  }\n",
      "}\n"
     ]
    },
    {
     "name": "stderr",
     "output_type": "stream",
     "text": [
      " 77%|███████▋  | 645/841 [28:42<06:58,  2.14s/it]"
     ]
    },
    {
     "name": "stdout",
     "output_type": "stream",
     "text": [
      "{\n",
      "  \"poste\": {\n",
      "    \"type_contrat\": \"CDI\",\n",
      "    \"teletravail_possible\": false,\n",
      "    \"experience_pro_requise\": 5,\n",
      "    \"diplomes\": [\"Master\"],\n",
      "    \"spe_diplomes\": [\"Machine Learning\", \"Data Science\", \"NLP\", \"Informatique\"],\n",
      "    \"langues\": [\"Anglais\", \"Francais\", \"Espagnol\", \"Allemand\", \"Italien\", \"Portugais\"],\n",
      "    \"stack_technique\": [\"Python\", \"scikit-learn\", \"PyTorch\", \"Tensorflow\", \"HuggingFace\", \"SQL\", \"Spark\"]\n",
      "  }\n",
      "}\n"
     ]
    },
    {
     "name": "stderr",
     "output_type": "stream",
     "text": [
      " 77%|███████▋  | 646/841 [28:44<06:59,  2.15s/it]"
     ]
    },
    {
     "name": "stdout",
     "output_type": "stream",
     "text": [
      "{\n",
      "  \"poste\": {\n",
      "    \"type_contrat\": \"CDI\",\n",
      "    \"teletravail_possible\": true,\n",
      "    \"experience_pro_requise\": 5,\n",
      "    \"diplomes\": [\"Doctorat\"],\n",
      "    \"spe_diplomes\": [\"Machine Learning\", \"informatique\"],\n",
      "    \"langues\": [\"Anglais\"],\n",
      "    \"stack_technique\": [\"Tensorflow\", \"Keras\", \"Computer Vision\", \"Deep Learning\", \"ISO 13485\", \"IEC 62304\"]\n",
      "  }\n",
      "}\n"
     ]
    },
    {
     "name": "stderr",
     "output_type": "stream",
     "text": [
      " 77%|███████▋  | 647/841 [28:47<07:07,  2.21s/it]"
     ]
    },
    {
     "name": "stdout",
     "output_type": "stream",
     "text": [
      "{\n",
      "  \"poste\": {\n",
      "    \"type_contrat\": \"CDI\",\n",
      "    \"teletravail_possible\": true,\n",
      "    \"experience_pro_requise\": 3,\n",
      "    \"diplomes\": [\"Master\"],\n",
      "    \"spe_diplomes\": [\"Data\"],\n",
      "    \"langues\": [\"Anglais\"],\n",
      "    \"stack_technique\": [\"SQL\", \"Java\"]\n",
      "  }\n",
      "}\n"
     ]
    },
    {
     "name": "stderr",
     "output_type": "stream",
     "text": [
      " 77%|███████▋  | 648/841 [28:51<08:54,  2.77s/it]"
     ]
    },
    {
     "name": "stdout",
     "output_type": "stream",
     "text": [
      "{\n",
      "  \"poste\": {\n",
      "    \"type_contrat\": \"CDI\",\n",
      "    \"teletravail_possible\": true,\n",
      "    \"experience_pro_requise\": 5,\n",
      "    \"diplomes\": [\"Bac+5\"],\n",
      "    \"spe_diplomes\": [\"Informatique\"],\n",
      "    \"langues\": [\"Anglais\", \"Francais\"],\n",
      "    \"stack_technique\": [\"Conception d'algorithmes\", \"Dialogue coopératif homme / machine\", \"IA basée sur les données\", \"IA et raisonnement symboliques\", \"Pure Back - Langages et frameworks de programmation\", \"Mathématiques et statistiques\", \"Exploration, utilisation et valorisation des données\", \"Storytelling\", \"Data visualisation\", \"Machine Learning\", \"Neural Network\", \"CNN\", \"RNN\", \"Deep Learning\", \"Renforcement Learning\", \"Frugal Learning\", \"Random Forest\", \"Evolutionary Algorithms\", \"Technologies Back End (PHP, ASP, C++, C#, Java, Python, Ruby, REST, MongoDB, PaaS)\", \"Concepts en mathématiques / sciences statistiques\", \"Modélisation statistique\", \"Algèbre linéaire\", \"Optimisation\"]\n",
      "  }\n",
      "}\n"
     ]
    },
    {
     "name": "stderr",
     "output_type": "stream",
     "text": [
      " 77%|███████▋  | 649/841 [28:58<12:54,  4.04s/it]"
     ]
    },
    {
     "name": "stdout",
     "output_type": "stream",
     "text": [
      "{\n",
      "  \"poste\": {\n",
      "    \"type_contrat\": \"CDI\",\n",
      "    \"teletravail_possible\": true,\n",
      "    \"experience_pro_requise\": 3,\n",
      "    \"diplomes\": [\"Licence\", \"Master\", \"Doctorat\"],\n",
      "    \"spe_diplomes\": [\"Mathématique\", \"Ingénierie\", \"Informatique\", \"Data Science\"],\n",
      "    \"langues\": [\"Anglais\", \"Francais\"],\n",
      "    \"stack_technique\": [\"SQL\", \"Spark\", \"dbt\", \"Python\", \"GCP\"]\n",
      "  }\n",
      "}\n"
     ]
    },
    {
     "name": "stderr",
     "output_type": "stream",
     "text": [
      " 77%|███████▋  | 650/841 [29:00<11:10,  3.51s/it]"
     ]
    },
    {
     "name": "stdout",
     "output_type": "stream",
     "text": [
      "{\n",
      "  \"poste\": {\n",
      "    \"type_contrat\": \"CDI\",\n",
      "    \"teletravail_possible\": true,\n",
      "    \"experience_pro_requise\": 6,\n",
      "    \"diplomes\": [\"Master\"],\n",
      "    \"spe_diplomes\": [\"ingénieur informatique\", \"spécialité data\"],\n",
      "    \"langues\": [\"Francais\", \"Anglais\"],\n",
      "    \"stack_technique\": [\"Spark\", \"Python\", \"Scala\", \"ETL\"]\n",
      "  }\n",
      "}\n"
     ]
    },
    {
     "name": "stderr",
     "output_type": "stream",
     "text": [
      " 77%|███████▋  | 651/841 [29:02<09:42,  3.06s/it]"
     ]
    },
    {
     "name": "stdout",
     "output_type": "stream",
     "text": [
      "{\n",
      "  \"poste\": {\n",
      "    \"type_contrat\": \"CDI\",\n",
      "    \"teletravail_possible\": true,\n",
      "    \"experience_pro_requise\": 5,\n",
      "    \"diplomes\": [\"Bac+5\"],\n",
      "    \"spe_diplomes\": [\"Data Science\", \"Machine Learning\", \"Ingénierie\"],\n",
      "    \"langues\": [\"Anglais\"],\n",
      "    \"stack_technique\": [\"Python\", \"Machine Learning\", \"Deep Learning\", \"Azure\", \"AWS\", \"GCP\", \"PySpark\"]\n",
      "  }\n",
      "}\n"
     ]
    },
    {
     "name": "stderr",
     "output_type": "stream",
     "text": [
      " 78%|███████▊  | 652/841 [29:04<08:40,  2.75s/it]"
     ]
    },
    {
     "name": "stdout",
     "output_type": "stream",
     "text": [
      "{\n",
      "  \"poste\": {\n",
      "    \"type_contrat\": \"alternance\",\n",
      "    \"teletravail_possible\": false,\n",
      "    \"experience_pro_requise\": 1,\n",
      "    \"diplomes\": [\"Bac+5\"],\n",
      "    \"spe_diplomes\": [\"Statistiques\", \"Data Science\"],\n",
      "    \"langues\": [\"Anglais\"],\n",
      "    \"stack_technique\": [\"SQL\", \"Python\", \"AWS\", \"Sagemaker\", \"PowerBI\"]\n",
      "  }\n",
      "}\n"
     ]
    },
    {
     "name": "stderr",
     "output_type": "stream",
     "text": [
      " 78%|███████▊  | 653/841 [29:07<08:34,  2.74s/it]"
     ]
    },
    {
     "name": "stdout",
     "output_type": "stream",
     "text": [
      "{\n",
      "  \"poste\": {\n",
      "    \"type_contrat\": \"CDI\",\n",
      "    \"teletravail_possible\": true,\n",
      "    \"experience_pro_requise\": 2,\n",
      "    \"diplomes\": [\"Master\", \"Doctorat\"],\n",
      "    \"spe_diplomes\": [\"Science des données\", \"Gestion de la chaîne d'approvisionnement\"],\n",
      "    \"langues\": [\"Anglais\", \"Francais\", \"autre\"],\n",
      "    \"stack_technique\": [\"Analyse de données\", \"Modèles prédictifs\", \"Algorithmes d'apprentissage automatique\", \"Optimisation\", \"Surveillance des modèles\"]\n",
      "  }\n",
      "}\n"
     ]
    },
    {
     "name": "stderr",
     "output_type": "stream",
     "text": [
      " 78%|███████▊  | 654/841 [29:08<07:32,  2.42s/it]"
     ]
    },
    {
     "name": "stdout",
     "output_type": "stream",
     "text": [
      "{\n",
      "  \"poste\": {\n",
      "    \"type_contrat\": \"CDI\",\n",
      "    \"teletravail_possible\": false,\n",
      "    \"experience_pro_requise\": 1,\n",
      "    \"diplomes\": [\"Master\"],\n",
      "    \"spe_diplomes\": [\"Data Science\"],\n",
      "    \"langues\": [\"Anglais\"],\n",
      "    \"stack_technique\": [\"Python\", \"SQL\", \"Hadoop\", \"Spark\", \"Dataiku\", \"PowerBi\"]\n",
      "  }\n",
      "}\n"
     ]
    },
    {
     "name": "stderr",
     "output_type": "stream",
     "text": [
      " 78%|███████▊  | 655/841 [29:11<07:35,  2.45s/it]"
     ]
    },
    {
     "name": "stdout",
     "output_type": "stream",
     "text": [
      "{\n",
      "  \"poste\": {\n",
      "    \"type_contrat\": \"CDI\",\n",
      "    \"teletravail_possible\": true,\n",
      "    \"experience_pro_requise\": 1,\n",
      "    \"diplomes\": [\"Licence\", null],\n",
      "    \"spe_diplomes\": [\"Data Science\", \"scientific field\", null],\n",
      "    \"langues\": [\"Anglais\", \"autre\"],\n",
      "    \"stack_technique\": [\"machine learning\", \"statistical techniques\", \"data pipelines\", \"high-scale systems\"]\n",
      "  }\n",
      "}\n"
     ]
    },
    {
     "name": "stderr",
     "output_type": "stream",
     "text": [
      " 78%|███████▊  | 656/841 [29:13<07:09,  2.32s/it]"
     ]
    },
    {
     "name": "stdout",
     "output_type": "stream",
     "text": [
      "{\n",
      "  \"poste\": {\n",
      "    \"type_contrat\": \"CDI\",\n",
      "    \"teletravail_possible\": true,\n",
      "    \"experience_pro_requise\": 3,\n",
      "    \"diplomes\": [\"Licence\", \"Master\", \"Doctorat\"],\n",
      "    \"spe_diplomes\": [\"informatique\", \"statistiques\", \"mathématiques\", \"sciences de l'information\", \"domaine connexe\"],\n",
      "    \"langues\": [\"Anglais\", \"Francais\", \"autre\"],\n",
      "    \"stack_technique\": [\"TensorFlow\", \"PyTorch\", \"Python\"]\n",
      "  }\n",
      "}\n"
     ]
    },
    {
     "name": "stderr",
     "output_type": "stream",
     "text": [
      " 78%|███████▊  | 657/841 [29:16<07:38,  2.49s/it]"
     ]
    },
    {
     "name": "stdout",
     "output_type": "stream",
     "text": [
      "{\n",
      "  \"poste\": {\n",
      "    \"type_contrat\": \"alternance\",\n",
      "    \"teletravail_possible\": true,\n",
      "    \"experience_pro_requise\": 1,\n",
      "    \"diplomes\": [\"Bac+5\"],\n",
      "    \"spe_diplomes\": [\"Data Science\"],\n",
      "    \"langues\": [\"Francais\", \"Anglais\"],\n",
      "    \"stack_technique\": [\"Python\", \"R\", \"SQL\", \"machine learning\", \"deep learning\"]\n",
      "  }\n",
      "}\n"
     ]
    },
    {
     "name": "stderr",
     "output_type": "stream",
     "text": [
      " 78%|███████▊  | 658/841 [29:20<09:06,  2.99s/it]"
     ]
    },
    {
     "name": "stdout",
     "output_type": "stream",
     "text": [
      "{\n",
      "  \"poste\": {\n",
      "    \"type_contrat\": \"alternance\",\n",
      "    \"teletravail_possible\": null,\n",
      "    \"experience_pro_requise\": 1,\n",
      "    \"diplomes\": [\"Bac+3\", \"Bac+5\"],\n",
      "    \"spe_diplomes\": [\"mathématiques\", \"statistiques\", \"science des données\"],\n",
      "    \"langues\": [\"Francais\", \"Anglais\"],\n",
      "    \"stack_technique\": [\"Python\", \"SQL\", \"machine learning\", \"Cloud\"]\n",
      "  }\n",
      "}\n"
     ]
    },
    {
     "name": "stderr",
     "output_type": "stream",
     "text": [
      " 78%|███████▊  | 659/841 [29:24<09:56,  3.28s/it]"
     ]
    },
    {
     "name": "stdout",
     "output_type": "stream",
     "text": [
      "{\n",
      "  \"poste\": {\n",
      "    \"type_contrat\": \"CDI\",\n",
      "    \"teletravail_possible\": true,\n",
      "    \"experience_pro_requise\": 2,\n",
      "    \"diplomes\": [\"Bac+3\", \"Bac+5\"],\n",
      "    \"spe_diplomes\": [\"Data Science\"],\n",
      "    \"langues\": [\"Anglais\", \"Francais\"],\n",
      "    \"stack_technique\": [\"SAS Viya\", \"DATAIKU\"]\n",
      "  }\n",
      "}\n"
     ]
    },
    {
     "name": "stderr",
     "output_type": "stream",
     "text": [
      " 78%|███████▊  | 660/841 [29:27<09:41,  3.21s/it]"
     ]
    },
    {
     "name": "stdout",
     "output_type": "stream",
     "text": [
      "{\n",
      "  \"poste\": {\n",
      "    \"type_contrat\": \"CDI\",\n",
      "    \"teletravail_possible\": false,\n",
      "    \"experience_pro_requise\": 3,\n",
      "    \"diplomes\": [\"pas de diplome\"],\n",
      "    \"spe_diplomes\": [],\n",
      "    \"langues\": [\"Anglais\", \"Francais\"],\n",
      "    \"stack_technique\": [\"Python\", \"Bash\", \"Scikit Learn\", \"Tensorflow\", \"Pytorch\"]\n",
      "  }\n",
      "}\n"
     ]
    },
    {
     "name": "stderr",
     "output_type": "stream",
     "text": [
      " 79%|███████▊  | 661/841 [29:29<08:44,  2.91s/it]"
     ]
    },
    {
     "name": "stdout",
     "output_type": "stream",
     "text": [
      "{\n",
      "  \"poste\": {\n",
      "    \"type_contrat\": \"alternance\",\n",
      "    \"teletravail_possible\": false,\n",
      "    \"experience_pro_requise\": 1,\n",
      "    \"diplomes\": [\"Bac+5\"],\n",
      "    \"spe_diplomes\": [\"Data Science\"],\n",
      "    \"langues\": [\"Francais\", \"Anglais\"],\n",
      "    \"stack_technique\": [\"Python\", \"R\", \"SQL\", \"Data visualisation\", \"Machine learning\", \"Deep learning\", \"Cloud\", \"Cloudera\"]\n",
      "  }\n",
      "}\n"
     ]
    },
    {
     "name": "stderr",
     "output_type": "stream",
     "text": [
      " 79%|███████▊  | 662/841 [29:32<08:45,  2.94s/it]"
     ]
    },
    {
     "name": "stdout",
     "output_type": "stream",
     "text": [
      "{\n",
      "  \"poste\": {\n",
      "    \"type_contrat\": \"CDI\",\n",
      "    \"teletravail_possible\": true,\n",
      "    \"experience_pro_requise\": 7,\n",
      "    \"diplomes\": [\"pas de diplome\"],\n",
      "    \"spe_diplomes\": [\"Machine Learning\", \"PHD en ML\"],\n",
      "    \"langues\": [\"Anglais\", null],\n",
      "    \"stack_technique\": [\"Python\", \"SQL\", \"R\", \"Scala\", \"Java\", \"Scikit-learn\", \"TensorFlow / Keras\", \"TFx\", \"PyTorch\", \"Docker\", \"kubeflow\", \"airflow\", \"kubernetes\", \"Git\", \"Gitlab CI / CD\", \"Google Cloud Platform\", \"MLOps\"]\n",
      "  }\n",
      "}\n"
     ]
    },
    {
     "name": "stderr",
     "output_type": "stream",
     "text": [
      " 79%|███████▉  | 663/841 [29:35<08:45,  2.95s/it]"
     ]
    },
    {
     "name": "stdout",
     "output_type": "stream",
     "text": [
      "{\n",
      "  \"poste\": {\n",
      "    \"type_contrat\": \"CDI\",\n",
      "    \"teletravail_possible\": null,\n",
      "    \"experience_pro_requise\": 7,\n",
      "    \"diplomes\": [\"Master\"],\n",
      "    \"spe_diplomes\": [\"Data\", \"Informatique\"],\n",
      "    \"langues\": [\"Anglais\"],\n",
      "    \"stack_technique\": [\"analyse statistique\", \"apprentissage automatique\", \"algorithmes d'optimisation\", \"MySQL\", \"Python\", \"Spark\", \"TensorFlow\", \"PyTorch\", \"pandas\", \"NumPy\", \"Matplotlib\", \"ggplot2\"]\n",
      "  }\n",
      "}\n"
     ]
    },
    {
     "name": "stderr",
     "output_type": "stream",
     "text": [
      " 79%|███████▉  | 664/841 [29:37<07:28,  2.53s/it]"
     ]
    },
    {
     "name": "stdout",
     "output_type": "stream",
     "text": [
      "{\n",
      "  \"poste\": {\n",
      "    \"type_contrat\": \"CDI\",\n",
      "    \"teletravail_possible\": true,\n",
      "    \"experience_pro_requise\": 3,\n",
      "    \"diplomes\": [\"pas de diplome\"],\n",
      "    \"spe_diplomes\": [null],\n",
      "    \"langues\": [null],\n",
      "    \"stack_technique\": [\"Cloud\", \"Infrastructure as Code\", \"Data Pipelines\", \"Security\"]\n",
      "  }\n",
      "}\n"
     ]
    },
    {
     "name": "stderr",
     "output_type": "stream",
     "text": [
      " 79%|███████▉  | 665/841 [29:39<06:45,  2.31s/it]"
     ]
    },
    {
     "name": "stdout",
     "output_type": "stream",
     "text": [
      "{\n",
      "  \"poste\": {\n",
      "    \"type_contrat\": \"alternance\",\n",
      "    \"teletravail_possible\": false,\n",
      "    \"experience_pro_requise\": 1,\n",
      "    \"diplomes\": [\"Master\"],\n",
      "    \"spe_diplomes\": [\"data analyse\", \"data science\"],\n",
      "    \"langues\": [\"Francais\", \"Anglais\"],\n",
      "    \"stack_technique\": [\"data analyse\", \"data science\", \"intelligence artificielle\", \"data vizualisation\"]\n",
      "  }\n",
      "}\n"
     ]
    },
    {
     "name": "stderr",
     "output_type": "stream",
     "text": [
      " 79%|███████▉  | 666/841 [29:41<06:24,  2.20s/it]"
     ]
    },
    {
     "name": "stdout",
     "output_type": "stream",
     "text": [
      "{\n",
      "  \"poste\": {\n",
      "    \"type_contrat\": \"alternance\",\n",
      "    \"teletravail_possible\": false,\n",
      "    \"experience_pro_requise\": 1,\n",
      "    \"diplomes\": [\"Master\", \"Doctorat\", \"autre\"],\n",
      "    \"spe_diplomes\": [\"Science des données\", \"Informatique\", \"Statistiques\", \"Machine Learning\"],\n",
      "    \"langues\": [\"Anglais\", \"Francais\", \"autre\"],\n",
      "    \"stack_technique\": [\"Python\", \"MLOps\", \"Data Engineering\", \"Software Engineering\"]\n",
      "  }\n",
      "}\n"
     ]
    },
    {
     "name": "stderr",
     "output_type": "stream",
     "text": [
      " 79%|███████▉  | 667/841 [29:42<06:04,  2.10s/it]"
     ]
    },
    {
     "name": "stdout",
     "output_type": "stream",
     "text": [
      "{\n",
      "  \"poste\": {\n",
      "    \"type_contrat\": \"CDI\",\n",
      "    \"teletravail_possible\": true,\n",
      "    \"experience_pro_requise\": 1,\n",
      "    \"diplomes\": [\"Licence\", \"Master\", \"Doctorat\", \"Bac+3\", \"Bac+5\", \"Bac+7\", \"pas de diplome\", \"autre\"],\n",
      "    \"spe_diplomes\": [\"Informatique\", \"Statistiques\"],\n",
      "    \"langues\": [\"Anglais\", \"Francais\"],\n",
      "    \"stack_technique\": [\"SQL\", \"ElasticSearch\", \"C#\"]\n",
      "  }\n",
      "}\n"
     ]
    },
    {
     "name": "stderr",
     "output_type": "stream",
     "text": [
      " 79%|███████▉  | 668/841 [29:45<06:10,  2.14s/it]"
     ]
    },
    {
     "name": "stdout",
     "output_type": "stream",
     "text": [
      "{\n",
      "  \"poste\": {\n",
      "    \"type_contrat\": \"CDI\",\n",
      "    \"teletravail_possible\": false,\n",
      "    \"experience_pro_requise\": 2,\n",
      "    \"diplomes\": [\"Bac+3\",\"Bac+5\"],\n",
      "    \"spe_diplomes\": [\"Data Science\", \"Ingénierie\"],\n",
      "    \"langues\": [\"Francais\", \"Anglais\"],\n",
      "    \"stack_technique\": [\"SAS Viya\", \"DATAIKU\"]\n",
      "  }\n",
      "}\n"
     ]
    },
    {
     "name": "stderr",
     "output_type": "stream",
     "text": [
      " 80%|███████▉  | 669/841 [29:46<05:33,  1.94s/it]"
     ]
    },
    {
     "name": "stdout",
     "output_type": "stream",
     "text": [
      "{\n",
      "  \"poste\": {\n",
      "    \"type_contrat\": \"alternance\",\n",
      "    \"teletravail_possible\": false,\n",
      "    \"experience_pro_requise\": 1,\n",
      "    \"diplomes\": [\"Master\"],\n",
      "    \"spe_diplomes\": null,\n",
      "    \"langues\": [\"Anglais\", \"Francais\"],\n",
      "    \"stack_technique\": [\"Python\", \"SQL\", \"Big Data\", \"Analyse statistique\"]\n",
      "  }\n",
      "}\n"
     ]
    },
    {
     "name": "stderr",
     "output_type": "stream",
     "text": [
      " 80%|███████▉  | 670/841 [29:48<05:24,  1.90s/it]"
     ]
    },
    {
     "name": "stdout",
     "output_type": "stream",
     "text": [
      "{\n",
      "  \"poste\": {\n",
      "    \"type_contrat\": \"CDI\",\n",
      "    \"teletravail_possible\": false,\n",
      "    \"experience_pro_requise\": 2,\n",
      "    \"diplomes\": [\"Licence\", \"Master\", \"pas de diplome\"],\n",
      "    \"spe_diplomes\": [\"Statistics\", \"Applied Mathematics\", null],\n",
      "    \"langues\": [\"Francais\"],\n",
      "    \"stack_technique\": [\"Tableau\", \"PowerBI\", \"Qliksense\", \"SQL\", \"Python\"]\n",
      "  }\n",
      "}\n"
     ]
    },
    {
     "name": "stderr",
     "output_type": "stream",
     "text": [
      " 80%|███████▉  | 671/841 [29:50<05:12,  1.84s/it]"
     ]
    },
    {
     "name": "stdout",
     "output_type": "stream",
     "text": [
      "{\n",
      "  \"poste\": {\n",
      "    \"type_contrat\": \"alternance\",\n",
      "    \"teletravail_possible\": true,\n",
      "    \"experience_pro_requise\": 1,\n",
      "    \"diplomes\": [\"pas de diplome\"],\n",
      "    \"spe_diplomes\": [\"Ecole d'ingénieur\", \"Ecole spécialisée DATA\"],\n",
      "    \"langues\": [\"Francais\"],\n",
      "    \"stack_technique\": [\"PYTHON\", \"SQL\", \"RPA\", \"API\"]\n",
      "  }\n",
      "}\n"
     ]
    },
    {
     "name": "stderr",
     "output_type": "stream",
     "text": [
      " 80%|███████▉  | 672/841 [29:51<05:00,  1.78s/it]"
     ]
    },
    {
     "name": "stdout",
     "output_type": "stream",
     "text": [
      "{\n",
      "  \"poste\": {\n",
      "    \"type_contrat\": \"CDI\",\n",
      "    \"teletravail_possible\": true,\n",
      "    \"experience_pro_requise\": 3,\n",
      "    \"diplomes\": [\"Bac+5\"],\n",
      "    \"spe_diplomes\": null,\n",
      "    \"langues\": [\"Francais\", \"Anglais\", \"autre\"],\n",
      "    \"stack_technique\": [\"IA\", \"ML\"]\n",
      "  }\n",
      "}\n"
     ]
    },
    {
     "name": "stderr",
     "output_type": "stream",
     "text": [
      " 80%|████████  | 673/841 [29:53<05:01,  1.79s/it]"
     ]
    },
    {
     "name": "stdout",
     "output_type": "stream",
     "text": [
      "{\n",
      "  \"poste\": {\n",
      "    \"type_contrat\": \"stage\",\n",
      "    \"teletravail_possible\": false,\n",
      "    \"experience_pro_requise\": 1,\n",
      "    \"diplomes\": [\"Bac+5\"],\n",
      "    \"spe_diplomes\": [\"Data\"],\n",
      "    \"langues\": [\"Francais\", \"Anglais\"],\n",
      "    \"stack_technique\": [\"Python\", \"Scala\", \"R\", \"Machine Learning / Deep Learning\", \"Hadoop\", \"NoSQL\", \"Kafka\", \"Spark\"]\n",
      "  }\n",
      "}\n"
     ]
    },
    {
     "name": "stderr",
     "output_type": "stream",
     "text": [
      " 80%|████████  | 674/841 [29:56<06:09,  2.21s/it]"
     ]
    },
    {
     "name": "stdout",
     "output_type": "stream",
     "text": [
      "{\n",
      "  \"poste\": {\n",
      "    \"type_contrat\": \"CDI\",\n",
      "    \"teletravail_possible\": true,\n",
      "    \"experience_pro_requise\": 3,\n",
      "    \"diplomes\": [\"Bac+5\", \"Doctorat\"],\n",
      "    \"spe_diplomes\": [\"Informatique\", \"Data Science\"],\n",
      "    \"langues\": [\"Anglais\", \"Francais\"],\n",
      "    \"stack_technique\": [\"Python\", \"PySpark\", \"Databricks\", \"Azure Cloud\"]\n",
      "  }\n",
      "}\n"
     ]
    },
    {
     "name": "stderr",
     "output_type": "stream",
     "text": [
      " 80%|████████  | 675/841 [29:58<06:09,  2.23s/it]"
     ]
    },
    {
     "name": "stdout",
     "output_type": "stream",
     "text": [
      "{\n",
      "  \"poste\": {\n",
      "    \"type_contrat\": \"CDI\",\n",
      "    \"teletravail_possible\": true,\n",
      "    \"experience_pro_requise\": 7,\n",
      "    \"diplomes\": [\"Master\"],\n",
      "    \"spe_diplomes\": [\"Data\", \"Informatique\"],\n",
      "    \"langues\": [\"Anglais\"],\n",
      "    \"stack_technique\": [\n",
      "      \"analyse statistique\",\n",
      "      \"apprentissage automatique\",\n",
      "      \"algorithmes d'optimisation\",\n",
      "      \"base de données\",\n",
      "      \"SQL\",\n",
      "      \"Python\",\n",
      "      \"Spark\",\n",
      "      \"TensorFlow\",\n",
      "      \"PyTorch\",\n",
      "      \"pandas\",\n",
      "      \"NumPy\",\n",
      "      \"Matplotlib\",\n",
      "      \"ggplot2\"\n",
      "    ]\n",
      "  }\n",
      "}\n"
     ]
    },
    {
     "name": "stderr",
     "output_type": "stream",
     "text": [
      " 80%|████████  | 676/841 [30:01<06:33,  2.39s/it]"
     ]
    },
    {
     "name": "stdout",
     "output_type": "stream",
     "text": [
      "{\n",
      "  \"poste\": {\n",
      "    \"type_contrat\": \"CDI\",\n",
      "    \"teletravail_possible\": true,\n",
      "    \"experience_pro_requise\": 1,\n",
      "    \"diplomes\": [\"Licence\", \"Master\", \"Doctorat\", \"Bac+3\", \"Bac+5\", \"Bac+7\", \"pas de diplome\", \"autre\"],\n",
      "    \"spe_diplomes\": [\"DataScience\", \"DataEngineering\"],\n",
      "    \"langues\": [\"Anglais\", \"Francais\", \"Espagnol\", \"Allemand\", \"Italien\", \"Portuguais\", \"autre\"],\n",
      "    \"stack_technique\": [\"Machine Learning\", \"Python\", \"Séries temporelles\", \"Déploiement en temps réel\"]\n",
      "  }\n",
      "}\n"
     ]
    },
    {
     "name": "stderr",
     "output_type": "stream",
     "text": [
      " 80%|████████  | 677/841 [30:04<07:04,  2.59s/it]"
     ]
    },
    {
     "name": "stdout",
     "output_type": "stream",
     "text": [
      "{\n",
      "  \"poste\": {\n",
      "    \"type_contrat\": \"CDI\",\n",
      "    \"teletravail_possible\": false,\n",
      "    \"experience_pro_requise\": 3,\n",
      "    \"diplomes\": [\"Master\"],\n",
      "    \"spe_diplomes\": [\"système d’information et data\"],\n",
      "    \"langues\": [\"Francais\"],\n",
      "    \"stack_technique\": [\"BI\", \"Datawares\", \"Datamarts\", \"SQL\"]\n",
      "  }\n",
      "}\n"
     ]
    },
    {
     "name": "stderr",
     "output_type": "stream",
     "text": [
      " 81%|████████  | 678/841 [30:06<06:37,  2.44s/it]"
     ]
    },
    {
     "name": "stdout",
     "output_type": "stream",
     "text": [
      "{\n",
      "  \"poste\": {\n",
      "    \"type_contrat\": \"CDI\",\n",
      "    \"teletravail_possible\": false,\n",
      "    \"experience_pro_requise\": 5,\n",
      "    \"diplomes\": [\"Doctorat\", \"Bac+5\"],\n",
      "    \"spe_diplomes\": null,\n",
      "    \"langues\": null,\n",
      "    \"stack_technique\": [\"Machine Learning\", \"Python\", \"SQL\", \"R\", \"biologie humaine\"]\n",
      "  }\n",
      "}\n"
     ]
    },
    {
     "name": "stderr",
     "output_type": "stream",
     "text": [
      " 81%|████████  | 679/841 [30:09<06:29,  2.41s/it]"
     ]
    },
    {
     "name": "stdout",
     "output_type": "stream",
     "text": [
      "{\n",
      "  \"poste\": {\n",
      "    \"type_contrat\": \"CDI\",\n",
      "    \"teletravail_possible\": true,\n",
      "    \"experience_pro_requise\": 1,\n",
      "    \"diplomes\": [\"Bac+5\"],\n",
      "    \"spe_diplomes\": [\"Data\", \"Algorithmie\", \"Machine Learning\"],\n",
      "    \"langues\": [\"Anglais\"],\n",
      "    \"stack_technique\": [\"Google Cloud Platform\", \"Spark\", \"AWS\", \"SageMaker\", \"DataBricks\", \"Git\", \"Github\", \"CI/CD\", \"VSCode\", \"Pycharm\", \"Terminal\"]\n",
      "  }\n",
      "}\n"
     ]
    },
    {
     "name": "stderr",
     "output_type": "stream",
     "text": [
      " 81%|████████  | 680/841 [30:11<06:32,  2.44s/it]"
     ]
    },
    {
     "name": "stdout",
     "output_type": "stream",
     "text": [
      "{\n",
      "  \"poste\": {\n",
      "    \"type_contrat\": \"alternance\",\n",
      "    \"teletravail_possible\": true,\n",
      "    \"experience_pro_requise\": 1,\n",
      "    \"diplomes\": [\"Bac+5\"],\n",
      "    \"spe_diplomes\": [\"Data Science\", \"Ecole d’ingénieur\", \"Master en Data Science\"],\n",
      "    \"langues\": [\"Anglais\"],\n",
      "    \"stack_technique\": [\"Python\", \"R\", \"SQL\", \"NLP\", \"Machine Learning\", \"Deep Learning\", \"HADOOP\", \"SPARK\"]\n",
      "  }\n",
      "}\n"
     ]
    },
    {
     "name": "stderr",
     "output_type": "stream",
     "text": [
      " 81%|████████  | 681/841 [30:14<06:39,  2.50s/it]"
     ]
    },
    {
     "name": "stdout",
     "output_type": "stream",
     "text": [
      "{\n",
      "  \"poste\": {\n",
      "    \"type_contrat\": \"CDI\",\n",
      "    \"teletravail_possible\": true,\n",
      "    \"experience_pro_requise\": 1,\n",
      "    \"diplomes\": [\"Master\", \"Doctorat\"],\n",
      "    \"spe_diplomes\": [\"statistiques\", \"science informatique\", \"mathématiques\", \"domaine technique\"],\n",
      "    \"langues\": [\"Francais\", \"Anglais\"],\n",
      "    \"stack_technique\": [\"Python\", \"R\", \"SQL\", \"Docker\", \"shiny\", \"Dash\", \"plotly\", \"ggplot\"]\n",
      "  }\n",
      "}\n"
     ]
    },
    {
     "name": "stderr",
     "output_type": "stream",
     "text": [
      " 81%|████████  | 682/841 [30:16<06:30,  2.46s/it]"
     ]
    },
    {
     "name": "stdout",
     "output_type": "stream",
     "text": [
      "{\n",
      "  \"poste\": {\n",
      "    \"type_contrat\": \"CDI\",\n",
      "    \"teletravail_possible\": true,\n",
      "    \"experience_pro_requise\": 3,\n",
      "    \"diplomes\": [\"Master\", \"Doctorat\"],\n",
      "    \"spe_diplomes\": [\"Data Science\", \"Mathématiques\", \"Statistiques\"],\n",
      "    \"langues\": [\"Anglais\", \"Francais\"],\n",
      "    \"stack_technique\": [\"R\", \"Python\", \"SQL\", \"Intelligence Artificielle\", \"Data Mining\"]\n",
      "  }\n",
      "}\n"
     ]
    },
    {
     "name": "stderr",
     "output_type": "stream",
     "text": [
      " 81%|████████  | 683/841 [30:18<05:48,  2.21s/it]"
     ]
    },
    {
     "name": "stdout",
     "output_type": "stream",
     "text": [
      "{\n",
      "  \"poste\": {\n",
      "    \"type_contrat\": \"alternance\",\n",
      "    \"teletravail_possible\": null,\n",
      "    \"experience_pro_requise\": 1,\n",
      "    \"diplomes\": [\"pas de diplome\"],\n",
      "    \"spe_diplomes\": [],\n",
      "    \"langues\": [null],\n",
      "    \"stack_technique\": [\"Data Science\"]\n",
      "  }\n",
      "}\n"
     ]
    },
    {
     "name": "stderr",
     "output_type": "stream",
     "text": [
      " 81%|████████▏ | 684/841 [30:20<05:20,  2.04s/it]"
     ]
    },
    {
     "name": "stdout",
     "output_type": "stream",
     "text": [
      "{\n",
      "  \"poste\": {\n",
      "    \"type_contrat\": \"CDI\",\n",
      "    \"teletravail_possible\": true,\n",
      "    \"experience_pro_requise\": 5,\n",
      "    \"diplomes\": [\"Bac+5\"],\n",
      "    \"spe_diplomes\": [\"Ingénieur\", \"Université de premier plan\"],\n",
      "    \"langues\": [\"Francais\", \"Anglais\"],\n",
      "    \"stack_technique\": [\"Python\", \"SQL\", \"C++\", \"Power BI\", \"Tableau\", \"AWS\", \"Azure\", \"GCP\"]\n",
      "  }\n",
      "}\n"
     ]
    },
    {
     "name": "stderr",
     "output_type": "stream",
     "text": [
      " 81%|████████▏ | 685/841 [30:24<07:06,  2.74s/it]"
     ]
    },
    {
     "name": "stdout",
     "output_type": "stream",
     "text": [
      "{\n",
      "  \"poste\": {\n",
      "    \"type_contrat\": \"stage\",\n",
      "    \"teletravail_possible\": false,\n",
      "    \"experience_pro_requise\": 1,\n",
      "    \"diplomes\": [\"Bac+5\"],\n",
      "    \"spe_diplomes\": [\"Data Science\"],\n",
      "    \"langues\": [\"Anglais\"],\n",
      "    \"stack_technique\": [\"Big Data\", \"reporting\"]\n",
      "  }\n",
      "}\n"
     ]
    },
    {
     "name": "stderr",
     "output_type": "stream",
     "text": [
      " 82%|████████▏ | 686/841 [30:25<06:09,  2.39s/it]"
     ]
    },
    {
     "name": "stdout",
     "output_type": "stream",
     "text": [
      "{\n",
      "  \"poste\": {\n",
      "    \"type_contrat\": \"apprentissage ou contrat de professionnalisation\",\n",
      "    \"teletravail_possible\": true,\n",
      "    \"experience_pro_requise\": 1,\n",
      "    \"diplomes\": [\"Bac+3\"],\n",
      "    \"spe_diplomes\": null,\n",
      "    \"langues\": null,\n",
      "    \"stack_technique\": [\"SAS (SAS GUIDE)\", \"Python\"]\n",
      "  }\n",
      "}\n"
     ]
    },
    {
     "name": "stderr",
     "output_type": "stream",
     "text": [
      " 82%|████████▏ | 687/841 [30:27<05:51,  2.28s/it]"
     ]
    },
    {
     "name": "stdout",
     "output_type": "stream",
     "text": [
      "{\n",
      "  \"poste\": {\n",
      "    \"type_contrat\": \"CDI\",\n",
      "    \"teletravail_possible\": true,\n",
      "    \"experience_pro_requise\": 3,\n",
      "    \"diplomes\": [\"Bac+5\", null],\n",
      "    \"spe_diplomes\": [null],\n",
      "    \"langues\": [null],\n",
      "    \"stack_technique\": [\"GCP\", \"Python\", \"SQL / BigQuery\", \"Docker\", \"Kubernetes\", \"Airflow (Cloud Composer)\", \"Git\"]\n",
      "  }\n",
      "}\n"
     ]
    },
    {
     "name": "stderr",
     "output_type": "stream",
     "text": [
      " 82%|████████▏ | 688/841 [30:30<05:57,  2.34s/it]"
     ]
    },
    {
     "name": "stdout",
     "output_type": "stream",
     "text": [
      "{\n",
      "  \"poste\": {\n",
      "    \"type_contrat\": \"CDI\",\n",
      "    \"teletravail_possible\": true,\n",
      "    \"experience_pro_requise\": null,\n",
      "    \"diplomes\": [null],\n",
      "    \"spe_diplomes\": [null],\n",
      "    \"langues\": [null],\n",
      "    \"stack_technique\": [null]\n",
      "  }\n",
      "}\n"
     ]
    },
    {
     "name": "stderr",
     "output_type": "stream",
     "text": [
      " 82%|████████▏ | 689/841 [30:32<05:56,  2.35s/it]"
     ]
    },
    {
     "name": "stdout",
     "output_type": "stream",
     "text": [
      "{\n",
      "  \"poste\": {\n",
      "    \"type_contrat\": \"CDI\",\n",
      "    \"teletravail_possible\": null,\n",
      "    \"experience_pro_requise\": 1,\n",
      "    \"diplomes\": [\"Doctorat\"],\n",
      "    \"spe_diplomes\": [\"Data Science\", \"Informatique\", \"Mathématiques appliquées\", \"Intelligence Artificielle\"],\n",
      "    \"langues\": null,\n",
      "    \"stack_technique\": [\"Machine Learning\", \"Deep Learning\", \"Computer Vision\", \"NLP\"]\n",
      "  }\n",
      "}\n"
     ]
    },
    {
     "name": "stderr",
     "output_type": "stream",
     "text": [
      " 82%|████████▏ | 690/841 [30:34<05:42,  2.27s/it]"
     ]
    },
    {
     "name": "stdout",
     "output_type": "stream",
     "text": [
      "{\n",
      "  \"poste\": {\n",
      "    \"type_contrat\": \"CDI\",\n",
      "    \"teletravail_possible\": true,\n",
      "    \"experience_pro_requise\": 5,\n",
      "    \"diplomes\": [\"Licence\", \"Master\", \"Doctorat\"],\n",
      "    \"spe_diplomes\": [\"Data Science\", \"Machine Learning\", \"IA\"],\n",
      "    \"langues\": [\"Anglais\", \"Francais\"],\n",
      "    \"stack_technique\": [\"TensorFlow\", \"PyTorch\", \"MLOps\", \"Azure\", \"AWS\", \"GCP\", \"Git\", \"Docker\", \"Kubernetes\", \"Terraform\"]\n",
      "  }\n",
      "}\n"
     ]
    },
    {
     "name": "stderr",
     "output_type": "stream",
     "text": [
      " 82%|████████▏ | 691/841 [30:36<05:06,  2.04s/it]"
     ]
    },
    {
     "name": "stdout",
     "output_type": "stream",
     "text": [
      "{\n",
      "  \"poste\": {\n",
      "    \"type_contrat\": \"CDI\",\n",
      "    \"teletravail_possible\": null,\n",
      "    \"experience_pro_requise\": 1,\n",
      "    \"diplomes\": [\"Master\", \"Doctorat\"],\n",
      "    \"spe_diplomes\": [\"Data Science\", \"Mathématiques\", \"Statistiques\"],\n",
      "    \"langues\": [\"Anglais\", \"Francais\"],\n",
      "    \"stack_technique\": null\n",
      "  }\n",
      "}\n"
     ]
    },
    {
     "name": "stderr",
     "output_type": "stream",
     "text": [
      " 82%|████████▏ | 692/841 [30:38<05:06,  2.06s/it]"
     ]
    },
    {
     "name": "stdout",
     "output_type": "stream",
     "text": [
      "{\n",
      "  \"poste\": {\n",
      "    \"type_contrat\": \"stage\",\n",
      "    \"teletravail_possible\": true,\n",
      "    \"experience_pro_requise\": 1,\n",
      "    \"diplomes\": [\"Master\", \"autre\"],\n",
      "    \"spe_diplomes\": [\"data marketing\", \"fundraising\", \"gestion des bases de données\"],\n",
      "    \"langues\": [\"Anglais\", \"autre\"],\n",
      "    \"stack_technique\": [\"Excel\", \"Word\", \"CRM\"]\n",
      "  }\n",
      "}\n"
     ]
    },
    {
     "name": "stderr",
     "output_type": "stream",
     "text": [
      " 82%|████████▏ | 693/841 [30:40<05:11,  2.10s/it]"
     ]
    },
    {
     "name": "stdout",
     "output_type": "stream",
     "text": [
      "{\n",
      "  \"poste\": {\n",
      "    \"type_contrat\": \"CDI\",\n",
      "    \"teletravail_possible\": false,\n",
      "    \"experience_pro_requise\": 2,\n",
      "    \"diplomes\": [\"Bac+3\", \"Bac+5\"],\n",
      "    \"spe_diplomes\": null,\n",
      "    \"langues\": [\"Anglais\"],\n",
      "    \"stack_technique\": [\"Tableau\", \"Looker\", \"JavaScript\", \"HTML\", \"CSS\", \"PHP\", \"Google Analytics 4\", \"Google Tag Manager\", \"AB Testing\", \"Meta\", \"Google Ads\", \"Native Ads\", \"SalesForce\"]\n",
      "  }\n",
      "}\n"
     ]
    },
    {
     "name": "stderr",
     "output_type": "stream",
     "text": [
      " 83%|████████▎ | 694/841 [30:42<04:47,  1.96s/it]"
     ]
    },
    {
     "name": "stdout",
     "output_type": "stream",
     "text": [
      "{\n",
      "  \"poste\": {\n",
      "    \"type_contrat\": \"CDI\",\n",
      "    \"teletravail_possible\": true,\n",
      "    \"experience_pro_requise\": 4,\n",
      "    \"diplomes\": [\"Bac+3\"],\n",
      "    \"spe_diplomes\": [\"informatique\"],\n",
      "    \"langues\": [\"Anglais\", \"Francais\"],\n",
      "    \"stack_technique\": [\"SAS\", \"Python\", \"R\", \"AWS\"]\n",
      "  }\n",
      "}\n"
     ]
    },
    {
     "name": "stderr",
     "output_type": "stream",
     "text": [
      " 83%|████████▎ | 695/841 [30:43<04:29,  1.85s/it]"
     ]
    },
    {
     "name": "stdout",
     "output_type": "stream",
     "text": [
      "{\n",
      "  \"poste\": {\n",
      "    \"type_contrat\": \"CDI\",\n",
      "    \"teletravail_possible\": true,\n",
      "    \"experience_pro_requise\": 3,\n",
      "    \"diplomes\": [\"pas de diplome\"],\n",
      "    \"spe_diplomes\": [null],\n",
      "    \"langues\": [null],\n",
      "    \"stack_technique\": [\"MICROSTRATEGY\", \"SID\"]\n",
      "  }\n",
      "}\n"
     ]
    },
    {
     "name": "stderr",
     "output_type": "stream",
     "text": [
      " 83%|████████▎ | 696/841 [30:45<04:23,  1.82s/it]"
     ]
    },
    {
     "name": "stdout",
     "output_type": "stream",
     "text": [
      "{\n",
      "  \"poste\": {\n",
      "    \"type_contrat\": \"CDI\",\n",
      "    \"teletravail_possible\": true,\n",
      "    \"experience_pro_requise\": 3,\n",
      "    \"diplomes\": [\"pas de diplome\"],\n",
      "    \"spe_diplomes\": [null],\n",
      "    \"langues\": [null],\n",
      "    \"stack_technique\": [\"Power BI\", \"SQL\", \"Python\", \"R\"]\n",
      "  }\n",
      "}\n"
     ]
    },
    {
     "name": "stderr",
     "output_type": "stream",
     "text": [
      " 83%|████████▎ | 697/841 [30:47<04:05,  1.70s/it]"
     ]
    },
    {
     "name": "stdout",
     "output_type": "stream",
     "text": [
      "{\n",
      "  \"poste\": {\n",
      "    \"type_contrat\": \"CDI\",\n",
      "    \"teletravail_possible\": false,\n",
      "    \"experience_pro_requise\": 4,\n",
      "    \"diplomes\": [\"pas de diplome\"],\n",
      "    \"spe_diplomes\": [null],\n",
      "    \"langues\": [null],\n",
      "    \"stack_technique\": [null]\n",
      "  }\n",
      "}\n"
     ]
    },
    {
     "name": "stderr",
     "output_type": "stream",
     "text": [
      " 83%|████████▎ | 698/841 [30:49<04:39,  1.95s/it]"
     ]
    },
    {
     "name": "stdout",
     "output_type": "stream",
     "text": [
      "{\n",
      "  \"poste\": {\n",
      "    \"type_contrat\": null,\n",
      "    \"teletravail_possible\": null,\n",
      "    \"experience_pro_requise\": 1,\n",
      "    \"diplomes\": [\"Bac+3\", \"Bac+5\", \"Bac+7\", \"autre\"],\n",
      "    \"spe_diplomes\": [\"Statistique\", \"Informatique\"],\n",
      "    \"langues\": [\"Francais\", \"Anglais\", \"autre\"],\n",
      "    \"stack_technique\": [\"analyse statistique\", \"modélisation\", \"informatique\"]\n",
      "  }\n",
      "}\n"
     ]
    },
    {
     "name": "stderr",
     "output_type": "stream",
     "text": [
      " 83%|████████▎ | 699/841 [30:51<04:24,  1.86s/it]"
     ]
    },
    {
     "name": "stdout",
     "output_type": "stream",
     "text": [
      "{\n",
      "  \"poste\": {\n",
      "    \"type_contrat\": \"alternance\",\n",
      "    \"teletravail_possible\": false,\n",
      "    \"experience_pro_requise\": 1,\n",
      "    \"diplomes\": [\"Bac+5\"],\n",
      "    \"spe_diplomes\": [\"data\"],\n",
      "    \"langues\": [null],\n",
      "    \"stack_technique\": [null]\n",
      "  }\n",
      "}\n"
     ]
    },
    {
     "name": "stderr",
     "output_type": "stream",
     "text": [
      " 83%|████████▎ | 700/841 [30:53<04:24,  1.87s/it]"
     ]
    },
    {
     "name": "stdout",
     "output_type": "stream",
     "text": [
      "{\n",
      "  \"poste\": {\n",
      "    \"type_contrat\": \"CDI\",\n",
      "    \"teletravail_possible\": true,\n",
      "    \"experience_pro_requise\": 3,\n",
      "    \"diplomes\": [\"Bac+3\", \"Bac+5\"],\n",
      "    \"spe_diplomes\": [\"Marketing\", \"Informatique\", \"Data Science\"],\n",
      "    \"langues\": [\"Anglais\", \"Francais\"],\n",
      "    \"stack_technique\": [\"UNICA\", \"CRM\", \"Data/Big data\", \"Analyse statistique\", \"Data science\"]\n",
      "  }\n",
      "}\n"
     ]
    },
    {
     "name": "stderr",
     "output_type": "stream",
     "text": [
      " 83%|████████▎ | 701/841 [30:54<04:09,  1.78s/it]"
     ]
    },
    {
     "name": "stdout",
     "output_type": "stream",
     "text": [
      "{\n",
      "  \"poste\": {\n",
      "    \"type_contrat\": \"stage\",\n",
      "    \"teletravail_possible\": false,\n",
      "    \"experience_pro_requise\": 1,\n",
      "    \"diplomes\": [\"pas de diplome\"],\n",
      "    \"spe_diplomes\": [null],\n",
      "    \"langues\": [\"Francais\"],\n",
      "    \"stack_technique\": [\"Power BI\", \"analytical tools\", \"digital technologies\", \"digital marketing\"]\n",
      "  }\n",
      "}\n"
     ]
    },
    {
     "name": "stderr",
     "output_type": "stream",
     "text": [
      " 83%|████████▎ | 702/841 [30:56<04:04,  1.76s/it]"
     ]
    },
    {
     "name": "stdout",
     "output_type": "stream",
     "text": [
      "{\n",
      "  \"poste\": {\n",
      "    \"type_contrat\": \"stage\",\n",
      "    \"teletravail_possible\": false,\n",
      "    \"experience_pro_requise\": 1,\n",
      "    \"diplomes\": [\"Master\"],\n",
      "    \"spe_diplomes\": [\"Actuarial\", \"Mathematics\", \"Natural Science\"],\n",
      "    \"langues\": [\"Francais\", \"Anglais\"],\n",
      "    \"stack_technique\": [\"SQL\"]\n",
      "  }\n",
      "}\n"
     ]
    },
    {
     "name": "stderr",
     "output_type": "stream",
     "text": [
      " 84%|████████▎ | 703/841 [30:58<04:00,  1.74s/it]"
     ]
    },
    {
     "name": "stdout",
     "output_type": "stream",
     "text": [
      "{\n",
      "  \"poste\": {\n",
      "    \"type_contrat\": \"CDI\",\n",
      "    \"teletravail_possible\": true,\n",
      "    \"experience_pro_requise\": 1,\n",
      "    \"diplomes\": [\"Bac+5\"],\n",
      "    \"spe_diplomes\": [],\n",
      "    \"langues\": [\"Francais\", \"Anglais\"],\n",
      "    \"stack_technique\": [\"SAS\", \"Python\"]\n",
      "  }\n",
      "}\n"
     ]
    },
    {
     "name": "stderr",
     "output_type": "stream",
     "text": [
      " 84%|████████▎ | 704/841 [31:01<04:51,  2.13s/it]"
     ]
    },
    {
     "name": "stdout",
     "output_type": "stream",
     "text": [
      "{\n",
      "  \"poste\": {\n",
      "    \"type_contrat\": \"alternance\",\n",
      "    \"teletravail_possible\": false,\n",
      "    \"experience_pro_requise\": 1,\n",
      "    \"diplomes\": [\"Bac+5\"],\n",
      "    \"spe_diplomes\": [\"ingénieur\"],\n",
      "    \"langues\": [\"Anglais\"],\n",
      "    \"stack_technique\": [\"Matlab\", \"Simulink\", \"conception de véhicules électriques\"]\n",
      "  }\n",
      "}\n"
     ]
    },
    {
     "name": "stderr",
     "output_type": "stream",
     "text": [
      " 84%|████████▍ | 705/841 [31:03<04:43,  2.09s/it]"
     ]
    },
    {
     "name": "stdout",
     "output_type": "stream",
     "text": [
      "{\n",
      "  \"poste\": {\n",
      "    \"type_contrat\": \"CDI\",\n",
      "    \"teletravail_possible\": true,\n",
      "    \"experience_pro_requise\": 3,\n",
      "    \"diplomes\": [\"Licence\"],\n",
      "    \"spe_diplomes\": [\"Statistics\", \"Mathematics\", \"Computer Science\", \"Engineering\", \"etc.\"],\n",
      "    \"langues\": [\"Anglais\"],\n",
      "    \"stack_technique\": [\"Python\", \"cloud-based platforms (AWS S3 and EC2)\", \"data modeling\", \"data governance\", \"systems architecture\", \"agile software development processes\", \"SDLC deliverables\"]\n",
      "  }\n",
      "}\n"
     ]
    },
    {
     "name": "stderr",
     "output_type": "stream",
     "text": [
      " 84%|████████▍ | 706/841 [31:04<04:14,  1.89s/it]"
     ]
    },
    {
     "name": "stdout",
     "output_type": "stream",
     "text": [
      "{\n",
      "  \"poste\": {\n",
      "    \"type_contrat\": \"CDI\",\n",
      "    \"teletravail_possible\": null,\n",
      "    \"experience_pro_requise\": 6,\n",
      "    \"diplomes\": [\"Master\", \"pas de diplome\"],\n",
      "    \"spe_diplomes\": [\"Statistiques\", \"Marketing\"],\n",
      "    \"langues\": [null],\n",
      "    \"stack_technique\": [\"Data science\"]\n",
      "  }\n",
      "}\n"
     ]
    },
    {
     "name": "stderr",
     "output_type": "stream",
     "text": [
      " 84%|████████▍ | 707/841 [31:06<04:03,  1.82s/it]"
     ]
    },
    {
     "name": "stdout",
     "output_type": "stream",
     "text": [
      "{\n",
      "  \"poste\": {\n",
      "    \"type_contrat\": \"alternance\",\n",
      "    \"teletravail_possible\": false,\n",
      "    \"experience_pro_requise\": 1,\n",
      "    \"diplomes\": [\"Bac+3\"],\n",
      "    \"spe_diplomes\": null,\n",
      "    \"langues\": [null],\n",
      "    \"stack_technique\": [\"Data Analyst\"]\n",
      "  }\n",
      "}\n"
     ]
    },
    {
     "name": "stderr",
     "output_type": "stream",
     "text": [
      " 84%|████████▍ | 708/841 [31:07<03:58,  1.79s/it]"
     ]
    },
    {
     "name": "stdout",
     "output_type": "stream",
     "text": [
      "{\n",
      "  \"poste\": {\n",
      "    \"type_contrat\": \"alternance\",\n",
      "    \"teletravail_possible\": null,\n",
      "    \"experience_pro_requise\": 1,\n",
      "    \"diplomes\": [\"Master\"],\n",
      "    \"spe_diplomes\": [\"Data Analyst\", \"Data Engineering\", \"Data Developper\"],\n",
      "    \"langues\": [\"Francais\", \"Anglais\"],\n",
      "    \"stack_technique\": [\"SQL\", \"Python\", \"Excel\", \"Power Query\", \"Tableaux Croisés Dynamiques\"]\n",
      "  }\n",
      "}\n"
     ]
    },
    {
     "name": "stderr",
     "output_type": "stream",
     "text": [
      " 84%|████████▍ | 709/841 [31:10<04:08,  1.88s/it]"
     ]
    },
    {
     "name": "stdout",
     "output_type": "stream",
     "text": [
      "{\n",
      "  \"poste\": {\n",
      "    \"type_contrat\": \"CDI\",\n",
      "    \"teletravail_possible\": true,\n",
      "    \"experience_pro_requise\": 3,\n",
      "    \"diplomes\": [\"Licence\", \"Master\", \"Doctorat\", \"Bac+3\", \"Bac+5\", \"Bac+7\", \"pas de diplome\", \"autre\"],\n",
      "    \"spe_diplomes\": [\"Data science\", \"Analyse financière\"],\n",
      "    \"langues\": [\"Anglais\", \"Francais\", \"Espagnol\", \"Allemand\", \"Italien\", \"Portuguais\", \"autre\"],\n",
      "    \"stack_technique\": [\"SQL\", \"Python\", \"R\", \"Tableau\", \"Power BI\", \"SAS\"]\n",
      "  }\n",
      "}\n"
     ]
    },
    {
     "name": "stderr",
     "output_type": "stream",
     "text": [
      " 84%|████████▍ | 710/841 [31:11<04:07,  1.89s/it]"
     ]
    },
    {
     "name": "stdout",
     "output_type": "stream",
     "text": [
      "{\n",
      "  \"poste\": {\n",
      "    \"type_contrat\": \"CDI\",\n",
      "    \"teletravail_possible\": true,\n",
      "    \"experience_pro_requise\": 2,\n",
      "    \"diplomes\": [\"Bac+3\", \"Bac+5\"],\n",
      "    \"spe_diplomes\": [\"Data Science\", \"Informatique\"],\n",
      "    \"langues\": [\"Anglais\", \"Francais\"],\n",
      "    \"stack_technique\": [\"SQL\", \"Python\", \"Tableau\", \"Power BI\", \"R\", \"SAS\"]\n",
      "  }\n",
      "}\n"
     ]
    },
    {
     "name": "stderr",
     "output_type": "stream",
     "text": [
      " 85%|████████▍ | 711/841 [31:18<07:20,  3.39s/it]"
     ]
    },
    {
     "name": "stdout",
     "output_type": "stream",
     "text": [
      "{\n",
      "  \"poste\": {\n",
      "    \"type_contrat\": \"CDI\",\n",
      "    \"teletravail_possible\": null,\n",
      "    \"experience_pro_requise\": 3,\n",
      "    \"diplomes\": [\"Bac+3\", null],\n",
      "    \"spe_diplomes\": [null],\n",
      "    \"langues\": [null],\n",
      "    \"stack_technique\": [\"ETL - Talend\", \"Informatica\", \"Google Cloud Platform (GCP)\", \"Base de données Oracle\", \"SQL\", \"BI Qliksense\", \"Qlikview\", \"BITQUERY\", null]\n",
      "  }\n",
      "}\n"
     ]
    },
    {
     "name": "stderr",
     "output_type": "stream",
     "text": [
      " 85%|████████▍ | 712/841 [31:21<06:39,  3.10s/it]"
     ]
    },
    {
     "name": "stdout",
     "output_type": "stream",
     "text": [
      "{\n",
      "  \"poste\": {\n",
      "    \"type_contrat\": \"CDI\",\n",
      "    \"teletravail_possible\": true,\n",
      "    \"experience_pro_requise\": 3,\n",
      "    \"diplomes\": [\"Bac+3\", \"Bac+5\", \"autre\"],\n",
      "    \"spe_diplomes\": [\"Informatique\", \"Data science\"],\n",
      "    \"langues\": [\"Anglais\"],\n",
      "    \"stack_technique\": [\"Oracle\", \"PostgreSQL\", \"PowerBI\", \"VB\", \"Python\"]\n",
      "  }\n",
      "}\n"
     ]
    },
    {
     "name": "stderr",
     "output_type": "stream",
     "text": [
      " 85%|████████▍ | 713/841 [31:23<06:00,  2.82s/it]"
     ]
    },
    {
     "name": "stdout",
     "output_type": "stream",
     "text": [
      "{\n",
      "  \"poste\": {\n",
      "    \"type_contrat\": \"alternance\",\n",
      "    \"teletravail_possible\": false,\n",
      "    \"experience_pro_requise\": 1,\n",
      "    \"diplomes\": [\"Master\", \"autre\"],\n",
      "    \"spe_diplomes\": [\"DATA\"],\n",
      "    \"langues\": [\"Francais\", \"Anglais\", \"autre\"],\n",
      "    \"stack_technique\": [\"Excel\", \"Power BI\"]\n",
      "  }\n",
      "}\n"
     ]
    },
    {
     "name": "stderr",
     "output_type": "stream",
     "text": [
      " 85%|████████▍ | 714/841 [31:25<05:16,  2.49s/it]"
     ]
    },
    {
     "name": "stdout",
     "output_type": "stream",
     "text": [
      "{\n",
      "  \"poste\": {\n",
      "    \"type_contrat\": \"CDI\",\n",
      "    \"teletravail_possible\": true,\n",
      "    \"experience_pro_requise\": 4,\n",
      "    \"diplomes\": [\"Bac+3\", null],\n",
      "    \"spe_diplomes\": [null],\n",
      "    \"langues\": [null],\n",
      "    \"stack_technique\": [\"analyse de données\", \"visualisation de données\", \"Tableau\", \"Power BI\", \"analyse statistique\", \"machine learning\", \"Agile\", \"Scrum\"]\n",
      "  }\n",
      "}\n"
     ]
    },
    {
     "name": "stderr",
     "output_type": "stream",
     "text": [
      " 85%|████████▌ | 715/841 [31:27<05:04,  2.42s/it]"
     ]
    },
    {
     "name": "stdout",
     "output_type": "stream",
     "text": [
      "{\n",
      "  \"poste\": {\n",
      "    \"type_contrat\": \"alternance\",\n",
      "    \"teletravail_possible\": false,\n",
      "    \"experience_pro_requise\": 1,\n",
      "    \"diplomes\": [\"Licence\", \"Master\", \"Doctorat\", \"Bac+3\", \"Bac+5\", \"Bac+7\", \"pas de diplome\", \"autre\"],\n",
      "    \"spe_diplomes\": [\"ingénieure spécialisée en Data\"],\n",
      "    \"langues\": [\"Anglais\", \"autre\"],\n",
      "    \"stack_technique\": [\"SAP BO/BW4H\", \"Azure Databricks\", \"Microsoft BI\", \"QlikSense\", \"Python\", \"SQL\"]\n",
      "  }\n",
      "}\n"
     ]
    },
    {
     "name": "stderr",
     "output_type": "stream",
     "text": [
      " 85%|████████▌ | 716/841 [31:30<05:37,  2.70s/it]"
     ]
    },
    {
     "name": "stdout",
     "output_type": "stream",
     "text": [
      "{\n",
      "  \"poste\": {\n",
      "    \"type_contrat\": null,\n",
      "    \"teletravail_possible\": null,\n",
      "    \"experience_pro_requise\": 3,\n",
      "    \"diplomes\": [\"Licence\", \"Master\", \"Doctorat\", \"Bac+3\", \"Bac+5\", \"Bac+7\", \"pas de diplome\", \"autre\"],\n",
      "    \"spe_diplomes\": [\"Informatique\", \"Statistiques\", \"Data Science\", \"Mathématiques\", \"Analyse de données\"],\n",
      "    \"langues\": [\"Anglais\", \"Francais\", \"Espagnol\", \"Allemand\", \"Italien\", \"Portuguais\", \"autre\"],\n",
      "    \"stack_technique\": [\"TABLEAU\", \"Data Discovery\", \"Prototypage\", \"Agile\", \"KPI\", \"Dashboard\"]\n",
      "  }\n",
      "}\n"
     ]
    },
    {
     "name": "stderr",
     "output_type": "stream",
     "text": [
      " 85%|████████▌ | 717/841 [31:32<04:58,  2.41s/it]"
     ]
    },
    {
     "name": "stdout",
     "output_type": "stream",
     "text": [
      "{\n",
      "  \"poste\": {\n",
      "    \"type_contrat\": \"alternance\",\n",
      "    \"teletravail_possible\": true,\n",
      "    \"experience_pro_requise\": 1,\n",
      "    \"diplomes\": [\"Bac+2\"],\n",
      "    \"spe_diplomes\": [\"Informatique\", \"Systèmes d'Information\"],\n",
      "    \"langues\": [\"Anglais\"],\n",
      "    \"stack_technique\": [\"SQL\", \"ETL\", \"base de données\", \"Qliksense\", \"Microsoft\"]\n",
      "  }\n",
      "}\n"
     ]
    },
    {
     "name": "stderr",
     "output_type": "stream",
     "text": [
      " 85%|████████▌ | 718/841 [31:34<04:32,  2.22s/it]"
     ]
    },
    {
     "name": "stdout",
     "output_type": "stream",
     "text": [
      "{\n",
      "  \"poste\": {\n",
      "    \"type_contrat\": \"alternance\",\n",
      "    \"teletravail_possible\": false,\n",
      "    \"experience_pro_requise\": 1,\n",
      "    \"diplomes\": [\"Bac+2\", \"Bac+3\", \"Bac+5\"],\n",
      "    \"spe_diplomes\": [],\n",
      "    \"langues\": [\"Francais\", \"Anglais\"],\n",
      "    \"stack_technique\": [\"SQL\", \"Excel\", \"Environnements Linux/Windows\", \"ETL (Talend)\", \"Dataviz (Qlik)\", \"Java\", \"SPBAA\"]\n",
      "  }\n",
      "}\n"
     ]
    },
    {
     "name": "stderr",
     "output_type": "stream",
     "text": [
      " 85%|████████▌ | 719/841 [31:36<04:14,  2.09s/it]"
     ]
    },
    {
     "name": "stdout",
     "output_type": "stream",
     "text": [
      "{\n",
      "  \"poste\": {\n",
      "    \"type_contrat\": \"CDI\",\n",
      "    \"teletravail_possible\": true,\n",
      "    \"experience_pro_requise\": 1,\n",
      "    \"diplomes\": [\"Licence\", \"Master\", \"Doctorat\", \"autre\"],\n",
      "    \"spe_diplomes\": [\"ingénieur\", \"finance d'entreprise\"],\n",
      "    \"langues\": [\"Anglais\", \"autre\"],\n",
      "    \"stack_technique\": [\"Excel\", \"Python\", \"R\", \"PowerQuery\", \"PowerPivot\", \"Tableau\", \"PowerBi\"]\n",
      "  }\n",
      "}\n"
     ]
    },
    {
     "name": "stderr",
     "output_type": "stream",
     "text": [
      " 86%|████████▌ | 720/841 [31:37<03:51,  1.91s/it]"
     ]
    },
    {
     "name": "stdout",
     "output_type": "stream",
     "text": [
      "{\n",
      "  \"poste\": {\n",
      "    \"type_contrat\": \"CDI\",\n",
      "    \"teletravail_possible\": false,\n",
      "    \"experience_pro_requise\": 2,\n",
      "    \"diplomes\": [\"pas de diplome\"],\n",
      "    \"spe_diplomes\": [null],\n",
      "    \"langues\": [null],\n",
      "    \"stack_technique\": [\"MS SQL\", \"VBA\", \"PowerBI\", \"WindeV\"]\n",
      "  }\n",
      "}\n"
     ]
    },
    {
     "name": "stderr",
     "output_type": "stream",
     "text": [
      " 86%|████████▌ | 721/841 [31:39<03:41,  1.84s/it]"
     ]
    },
    {
     "name": "stdout",
     "output_type": "stream",
     "text": [
      "{\n",
      "  \"poste\": {\n",
      "    \"type_contrat\": \"alternance\",\n",
      "    \"teletravail_possible\": false,\n",
      "    \"experience_pro_requise\": 1,\n",
      "    \"diplomes\": [\"pas de diplome\"],\n",
      "    \"spe_diplomes\": [null],\n",
      "    \"langues\": [\"Anglais\", null],\n",
      "    \"stack_technique\": [\"R\", \"Python\"]\n",
      "  }\n",
      "}\n"
     ]
    },
    {
     "name": "stderr",
     "output_type": "stream",
     "text": [
      " 86%|████████▌ | 722/841 [31:41<03:35,  1.81s/it]"
     ]
    },
    {
     "name": "stdout",
     "output_type": "stream",
     "text": [
      "{\n",
      "  \"poste\": {\n",
      "    \"type_contrat\": \"alternance\",\n",
      "    \"teletravail_possible\": false,\n",
      "    \"experience_pro_requise\": 1,\n",
      "    \"diplomes\": [\"pas de diplome\"],\n",
      "    \"spe_diplomes\": [],\n",
      "    \"langues\": [\"Anglais\"],\n",
      "    \"stack_technique\": [\"SQL\", \"Tableau\", \"PowerBI\", \"ETL\", \"Python\", \"R\"]\n",
      "  }\n",
      "}\n"
     ]
    },
    {
     "name": "stderr",
     "output_type": "stream",
     "text": [
      " 86%|████████▌ | 723/841 [31:42<03:26,  1.75s/it]"
     ]
    },
    {
     "name": "stdout",
     "output_type": "stream",
     "text": [
      "{\n",
      "  \"poste\": {\n",
      "    \"type_contrat\": \"alternance\",\n",
      "    \"teletravail_possible\": true,\n",
      "    \"experience_pro_requise\": 1,\n",
      "    \"diplomes\": [\"pas de diplome\"],\n",
      "    \"spe_diplomes\": [null],\n",
      "    \"langues\": [\"Francais\"],\n",
      "    \"stack_technique\": [\"Power BI\", \"Business Intelligence\", \"analyse de données\", \"modélisation statistique\"]\n",
      "  }\n",
      "}\n"
     ]
    },
    {
     "name": "stderr",
     "output_type": "stream",
     "text": [
      " 86%|████████▌ | 724/841 [31:44<03:27,  1.78s/it]"
     ]
    },
    {
     "name": "stdout",
     "output_type": "stream",
     "text": [
      "{\n",
      "  \"poste\": {\n",
      "    \"type_contrat\": \"CDI\",\n",
      "    \"teletravail_possible\": true,\n",
      "    \"experience_pro_requise\": 3,\n",
      "    \"diplomes\": [\"Bac+5\"],\n",
      "    \"spe_diplomes\": [\"économiste\", \"ingénieur\", \"mathématique\", \"économie appliquée\", \"data science\"],\n",
      "    \"langues\": [\"Anglais\", \"Francais\"],\n",
      "    \"stack_technique\": [\"Excel\", \"R\"]\n",
      "  }\n",
      "}\n"
     ]
    },
    {
     "name": "stderr",
     "output_type": "stream",
     "text": [
      " 86%|████████▌ | 725/841 [31:46<03:26,  1.78s/it]"
     ]
    },
    {
     "name": "stdout",
     "output_type": "stream",
     "text": [
      "{\n",
      "  \"poste\": {\n",
      "    \"type_contrat\": \"CDI\",\n",
      "    \"teletravail_possible\": false,\n",
      "    \"experience_pro_requise\": 3,\n",
      "    \"diplomes\": [\"Master\"],\n",
      "    \"spe_diplomes\": [\"Data science\", \"Data management\", \"Data engineering\"],\n",
      "    \"langues\": [\"Anglais\"],\n",
      "    \"stack_technique\": [\"Python\", \"R\", \"SQL\", \"Tableau\", \"Power BI\"]\n",
      "  }\n",
      "}\n"
     ]
    },
    {
     "name": "stderr",
     "output_type": "stream",
     "text": [
      " 86%|████████▋ | 726/841 [31:47<03:23,  1.77s/it]"
     ]
    },
    {
     "name": "stdout",
     "output_type": "stream",
     "text": [
      "{\n",
      "  \"poste\": {\n",
      "    \"type_contrat\": \"CDI\",\n",
      "    \"teletravail_possible\": false,\n",
      "    \"experience_pro_requise\": 3,\n",
      "    \"diplomes\": [\"Master\"],\n",
      "    \"spe_diplomes\": [\"Statistiques\", \"Informatique\", \"Data\"],\n",
      "    \"langues\": [\"Anglais\", \"Francais\", \"autre\"],\n",
      "    \"stack_technique\": [\"SQL\", \"SAS\", \"Python\", \"R\"]\n",
      "  }\n",
      "}\n"
     ]
    },
    {
     "name": "stderr",
     "output_type": "stream",
     "text": [
      " 86%|████████▋ | 727/841 [31:49<03:29,  1.84s/it]"
     ]
    },
    {
     "name": "stdout",
     "output_type": "stream",
     "text": [
      "{\n",
      "  \"poste\": {\n",
      "    \"type_contrat\": \"CDI\",\n",
      "    \"teletravail_possible\": false,\n",
      "    \"experience_pro_requise\": 3,\n",
      "    \"diplomes\": [\"pas de diplome\"],\n",
      "    \"spe_diplomes\": [null],\n",
      "    \"langues\": [null],\n",
      "    \"stack_technique\": [\"SQL\", \"Power BI\", \"Tableau\", \"Qlik\", \"Talend\", \"SSIS\", \"Informatica\", \"Datastage\", \"SQL Server\", \"MySQL\", \"NoSQL\"]\n",
      "  }\n",
      "}\n"
     ]
    },
    {
     "name": "stderr",
     "output_type": "stream",
     "text": [
      " 87%|████████▋ | 728/841 [31:51<03:25,  1.82s/it]"
     ]
    },
    {
     "name": "stdout",
     "output_type": "stream",
     "text": [
      "{\n",
      "  \"poste\": {\n",
      "    \"type_contrat\": \"CDI\",\n",
      "    \"teletravail_possible\": true,\n",
      "    \"experience_pro_requise\": 3,\n",
      "    \"diplomes\": [\"Bac+3\", \"Bac+5\"],\n",
      "    \"spe_diplomes\": [\"Informatique\", \"Ingénierie des données\"],\n",
      "    \"langues\": [\"Anglais\", \"Francais\"],\n",
      "    \"stack_technique\": [\"SQL\", \"ETL\", \"BI\", \"Modélisation de données\"]\n",
      "  }\n",
      "}\n"
     ]
    },
    {
     "name": "stderr",
     "output_type": "stream",
     "text": [
      " 87%|████████▋ | 729/841 [31:53<03:29,  1.87s/it]"
     ]
    },
    {
     "name": "stdout",
     "output_type": "stream",
     "text": [
      "{\n",
      "  \"poste\": {\n",
      "    \"type_contrat\": \"apprentissage\",\n",
      "    \"teletravail_possible\": false,\n",
      "    \"experience_pro_requise\": 1,\n",
      "    \"diplomes\": [\"Bac+4\", \"Bac+5\"],\n",
      "    \"spe_diplomes\": [\"Data analyst\", \"BIG DATA\", \"Expert en ingénierie des données\"],\n",
      "    \"langues\": [\"Francais\", \"Anglais\"],\n",
      "    \"stack_technique\": [\"SQL\", \"PYHTON\", \"PowerBI\", \"Microstrategy\", \"Tableau\"]\n",
      "  }\n",
      "}\n"
     ]
    },
    {
     "name": "stderr",
     "output_type": "stream",
     "text": [
      " 87%|████████▋ | 730/841 [31:55<03:23,  1.84s/it]"
     ]
    },
    {
     "name": "stdout",
     "output_type": "stream",
     "text": [
      "{\n",
      "  \"poste\": {\n",
      "    \"type_contrat\": \"CDI\",\n",
      "    \"teletravail_possible\": false,\n",
      "    \"experience_pro_requise\": 3,\n",
      "    \"diplomes\": [\"pas de diplome\"],\n",
      "    \"spe_diplomes\": [null],\n",
      "    \"langues\": [\"Anglais\"],\n",
      "    \"stack_technique\": [\"Power BI\", \"Office\", \"Teams\"]\n",
      "  }\n",
      "}\n"
     ]
    },
    {
     "name": "stderr",
     "output_type": "stream",
     "text": [
      " 87%|████████▋ | 731/841 [31:57<03:18,  1.81s/it]"
     ]
    },
    {
     "name": "stdout",
     "output_type": "stream",
     "text": [
      "{\n",
      "  \"poste\": {\n",
      "    \"type_contrat\": \"CDI\",\n",
      "    \"teletravail_possible\": false,\n",
      "    \"experience_pro_requise\": 1,\n",
      "    \"diplomes\": [\"Bac+3\", \"Bac+5\"],\n",
      "    \"spe_diplomes\": [\"Marketing\"],\n",
      "    \"langues\": [\"Anglais\"],\n",
      "    \"stack_technique\": null\n",
      "  }\n",
      "}\n"
     ]
    },
    {
     "name": "stderr",
     "output_type": "stream",
     "text": [
      " 87%|████████▋ | 732/841 [31:59<03:19,  1.83s/it]"
     ]
    },
    {
     "name": "stdout",
     "output_type": "stream",
     "text": [
      "{\n",
      "  \"poste\": {\n",
      "    \"type_contrat\": \"alternance\",\n",
      "    \"teletravail_possible\": true,\n",
      "    \"experience_pro_requise\": 1,\n",
      "    \"diplomes\": [\"Bac+5\"],\n",
      "    \"spe_diplomes\": [\"Data Big Data\"],\n",
      "    \"langues\": [\"Anglais\"],\n",
      "    \"stack_technique\": [\"Snowflake\"]\n",
      "  }\n",
      "}\n"
     ]
    },
    {
     "name": "stderr",
     "output_type": "stream",
     "text": [
      " 87%|████████▋ | 733/841 [32:01<03:31,  1.96s/it]"
     ]
    },
    {
     "name": "stdout",
     "output_type": "stream",
     "text": [
      "{\n",
      "  \"poste\": {\n",
      "    \"type_contrat\": \"CDI\",\n",
      "    \"teletravail_possible\": null,\n",
      "    \"experience_pro_requise\": 1,\n",
      "    \"diplomes\": [\"pas de diplome\"],\n",
      "    \"spe_diplomes\": [\"Supply Chain\"],\n",
      "    \"langues\": [\"Anglais\"],\n",
      "    \"stack_technique\": [\"SAP\", \"BI\", \"Futurmaster\", \"Supply Control Tower\"]\n",
      "  }\n",
      "}\n"
     ]
    },
    {
     "name": "stderr",
     "output_type": "stream",
     "text": [
      " 87%|████████▋ | 734/841 [32:03<03:24,  1.91s/it]"
     ]
    },
    {
     "name": "stdout",
     "output_type": "stream",
     "text": [
      "{\n",
      "  \"poste\": {\n",
      "    \"type_contrat\": \"CDD\",\n",
      "    \"teletravail_possible\": true,\n",
      "    \"experience_pro_requise\": 3,\n",
      "    \"diplomes\": [\"pas de diplome\"],\n",
      "    \"spe_diplomes\": [null],\n",
      "    \"langues\": [null],\n",
      "    \"stack_technique\": [\"RStudio\", \"SQL\", \"Talend Open Studio\", \"Tableau\", \"PHP\", \"Python\"]\n",
      "  }\n",
      "}\n"
     ]
    },
    {
     "name": "stderr",
     "output_type": "stream",
     "text": [
      " 87%|████████▋ | 735/841 [32:05<03:29,  1.98s/it]"
     ]
    },
    {
     "name": "stdout",
     "output_type": "stream",
     "text": [
      "{\n",
      "  \"poste\": {\n",
      "    \"type_contrat\": \"CDD\",\n",
      "    \"teletravail_possible\": false,\n",
      "    \"experience_pro_requise\": 3,\n",
      "    \"diplomes\": [\"Master\"],\n",
      "    \"spe_diplomes\": [\"RH\", \"Contrôle de Gestion\"],\n",
      "    \"langues\": [\"Anglais\"],\n",
      "    \"stack_technique\": [\"Excel\", \"GXP\", \"HRI\", \"Power BI\", \"Oracle\"]\n",
      "  }\n",
      "}\n"
     ]
    },
    {
     "name": "stderr",
     "output_type": "stream",
     "text": [
      " 88%|████████▊ | 736/841 [32:07<03:20,  1.91s/it]"
     ]
    },
    {
     "name": "stdout",
     "output_type": "stream",
     "text": [
      "{\n",
      "  \"poste\": {\n",
      "    \"type_contrat\": \"CDI\",\n",
      "    \"teletravail_possible\": true,\n",
      "    \"experience_pro_requise\": 1,\n",
      "    \"diplomes\": [\"pas de diplome\"],\n",
      "    \"spe_diplomes\": [null],\n",
      "    \"langues\": [null],\n",
      "    \"stack_technique\": [\"Microsoft Azure Data Factory\", \"PowerBI\", \"Excel\", \"SQL Server\", \"MySQL\", \"langage M\", \"Dax\"]\n",
      "  }\n",
      "}\n"
     ]
    },
    {
     "name": "stderr",
     "output_type": "stream",
     "text": [
      " 88%|████████▊ | 737/841 [32:09<03:40,  2.12s/it]"
     ]
    },
    {
     "name": "stdout",
     "output_type": "stream",
     "text": [
      "{\n",
      "  \"poste\": {\n",
      "    \"type_contrat\": \"CDI\",\n",
      "    \"teletravail_possible\": false,\n",
      "    \"experience_pro_requise\": 1,\n",
      "    \"diplomes\": [\"Master\", \"Doctorat\", \"Bac+5\", \"autre\"],\n",
      "    \"spe_diplomes\": [\"Data Science\", \"Statistiques\", \"Mathématiques\", \"Informatique\"],\n",
      "    \"langues\": [\"Anglais\", \"Francais\", \"autre\"],\n",
      "    \"stack_technique\": [\"Algorithmes\", \"Data Science\", \"Statistiques\"]\n",
      "  }\n",
      "}\n"
     ]
    },
    {
     "name": "stderr",
     "output_type": "stream",
     "text": [
      " 88%|████████▊ | 738/841 [32:11<03:42,  2.16s/it]"
     ]
    },
    {
     "name": "stdout",
     "output_type": "stream",
     "text": [
      "{\n",
      "  \"poste\": {\n",
      "    \"type_contrat\": \"CDI\",\n",
      "    \"teletravail_possible\": true,\n",
      "    \"experience_pro_requise\": 5,\n",
      "    \"diplomes\": [\"Master\"],\n",
      "    \"spe_diplomes\": [\"Traitement de Données Statistiques avec une composante financière ou actuarielle\"],\n",
      "    \"langues\": [\"Francais\"],\n",
      "    \"stack_technique\": [\"SAS\", \"SQL\", \"QLIK View\", \"QLIK Sense\"]\n",
      "  }\n",
      "}\n"
     ]
    },
    {
     "name": "stderr",
     "output_type": "stream",
     "text": [
      " 88%|████████▊ | 739/841 [32:13<03:19,  1.96s/it]"
     ]
    },
    {
     "name": "stdout",
     "output_type": "stream",
     "text": [
      "{\n",
      "  \"poste\": {\n",
      "    \"type_contrat\": null,\n",
      "    \"teletravail_possible\": null,\n",
      "    \"experience_pro_requise\": 1,\n",
      "    \"diplomes\": [null],\n",
      "    \"spe_diplomes\": [null],\n",
      "    \"langues\": [null],\n",
      "    \"stack_technique\": [null]\n",
      "  }\n",
      "}\n"
     ]
    },
    {
     "name": "stderr",
     "output_type": "stream",
     "text": [
      " 88%|████████▊ | 740/841 [32:15<03:12,  1.91s/it]"
     ]
    },
    {
     "name": "stdout",
     "output_type": "stream",
     "text": [
      "{\n",
      "  \"poste\": {\n",
      "    \"type_contrat\": \"alternance\",\n",
      "    \"teletravail_possible\": false,\n",
      "    \"experience_pro_requise\": 1,\n",
      "    \"diplomes\": [\"Bac+3\", \"autre\"],\n",
      "    \"spe_diplomes\": [\"DATA\", \"Mathématiques appliquées\", \"Statistiques\"],\n",
      "    \"langues\": [\"Anglais\"],\n",
      "    \"stack_technique\": [\"R\", \"Python\"]\n",
      "  }\n",
      "}\n"
     ]
    },
    {
     "name": "stderr",
     "output_type": "stream",
     "text": [
      " 88%|████████▊ | 741/841 [32:17<03:14,  1.95s/it]"
     ]
    },
    {
     "name": "stdout",
     "output_type": "stream",
     "text": [
      "{\n",
      "  \"poste\": {\n",
      "    \"type_contrat\": \"alternance\",\n",
      "    \"teletravail_possible\": false,\n",
      "    \"experience_pro_requise\": 1,\n",
      "    \"diplomes\": [\"Bac+4\", \"Bac+5\"],\n",
      "    \"spe_diplomes\": [\"université\", \"école d'ingénieur\"],\n",
      "    \"langues\": [\"Francais\", \"Anglais\", \"Espagnol\", \"Allemand\", \"Italien\", \"Portuguais\"],\n",
      "    \"stack_technique\": [\"Excel\", \"Power BI\"]\n",
      "  }\n",
      "}\n"
     ]
    },
    {
     "name": "stderr",
     "output_type": "stream",
     "text": [
      " 88%|████████▊ | 742/841 [32:19<03:08,  1.90s/it]"
     ]
    },
    {
     "name": "stdout",
     "output_type": "stream",
     "text": [
      "{\n",
      "  \"poste\": {\n",
      "    \"type_contrat\": \"alternance\",\n",
      "    \"teletravail_possible\": false,\n",
      "    \"experience_pro_requise\": 1,\n",
      "    \"diplomes\": [\"Master\", \"Doctorat\", \"Bac+5\"],\n",
      "    \"spe_diplomes\": [\"Informatique\", \"Cloud\", \"Intelligence Artificielle\"],\n",
      "    \"langues\": [\"Anglais\", \"Francais\", \"autre\"],\n",
      "    \"stack_technique\": [\"Data Scientist\", \"Data Analyst\", \"Data Engineer\"]\n",
      "  }\n",
      "}\n"
     ]
    },
    {
     "name": "stderr",
     "output_type": "stream",
     "text": [
      " 88%|████████▊ | 743/841 [32:20<02:58,  1.82s/it]"
     ]
    },
    {
     "name": "stdout",
     "output_type": "stream",
     "text": [
      "{\n",
      "  \"poste\": {\n",
      "    \"type_contrat\": \"alternance\",\n",
      "    \"teletravail_possible\": false,\n",
      "    \"experience_pro_requise\": 1,\n",
      "    \"diplomes\": [\"Bac+3\"],\n",
      "    \"spe_diplomes\": null,\n",
      "    \"langues\": [\"Anglais\", \"Francais\"],\n",
      "    \"stack_technique\": [\"analyse de données\"]\n",
      "  }\n",
      "}\n"
     ]
    },
    {
     "name": "stderr",
     "output_type": "stream",
     "text": [
      " 88%|████████▊ | 744/841 [32:22<02:49,  1.75s/it]"
     ]
    },
    {
     "name": "stdout",
     "output_type": "stream",
     "text": [
      "{\n",
      "  \"poste\": {\n",
      "    \"type_contrat\": \"Intérim\",\n",
      "    \"teletravail_possible\": false,\n",
      "    \"experience_pro_requise\": 1,\n",
      "    \"diplomes\": [\"Bac+5\"],\n",
      "    \"spe_diplomes\": [\"Master\", \"MBA\"],\n",
      "    \"langues\": [null],\n",
      "    \"stack_technique\": [null]\n",
      "  }\n",
      "}\n"
     ]
    },
    {
     "name": "stderr",
     "output_type": "stream",
     "text": [
      " 89%|████████▊ | 745/841 [32:24<02:59,  1.87s/it]"
     ]
    },
    {
     "name": "stdout",
     "output_type": "stream",
     "text": [
      "{\n",
      "  \"poste\": {\n",
      "    \"type_contrat\": \"CDI\",\n",
      "    \"teletravail_possible\": true,\n",
      "    \"experience_pro_requise\": 3,\n",
      "    \"diplomes\": [\"Bachelor\"],\n",
      "    \"spe_diplomes\": [\"Computer Science\", \"Math\", \"Statistics\", \"Economics\"],\n",
      "    \"langues\": [\"Anglais\", \"Francais\", \"Espagnol\", \"Allemand\", \"Italien\", \"Portuguais\"],\n",
      "    \"stack_technique\": [\"SQL\", \"Looker\", \"Python\", \"Snowflake\", \"Salesforce\", \"Hubspot\", \"Gainsight\", \"dbt\", \"Braze\", \"ETL tools\", \"Fivetran\", \"Funnel\"]\n",
      "  }\n",
      "}\n"
     ]
    },
    {
     "name": "stderr",
     "output_type": "stream",
     "text": [
      " 89%|████████▊ | 746/841 [32:26<02:55,  1.85s/it]"
     ]
    },
    {
     "name": "stdout",
     "output_type": "stream",
     "text": [
      "{\n",
      "  \"poste\": {\n",
      "    \"type_contrat\": \"interim\",\n",
      "    \"teletravail_possible\": true,\n",
      "    \"experience_pro_requise\": 2,\n",
      "    \"diplomes\": [\"pas de diplome\"],\n",
      "    \"spe_diplomes\": [null],\n",
      "    \"langues\": [\"Anglais\", \"Francais\"],\n",
      "    \"stack_technique\": [\"ERP (SAP, Oracle)\", \"Cash management\", \"Coordination d'équipe\"]\n",
      "  }\n",
      "}\n"
     ]
    },
    {
     "name": "stderr",
     "output_type": "stream",
     "text": [
      " 89%|████████▉ | 747/841 [32:28<02:53,  1.85s/it]"
     ]
    },
    {
     "name": "stdout",
     "output_type": "stream",
     "text": [
      "{\n",
      "  \"poste\": {\n",
      "    \"type_contrat\": \"CDI\",\n",
      "    \"teletravail_possible\": null,\n",
      "    \"experience_pro_requise\": 6,\n",
      "    \"diplomes\": [\"Bac+5\", \"Doctorat\"],\n",
      "    \"spe_diplomes\": [\"Mathématiques\", \"Statistiques\"],\n",
      "    \"langues\": [\"Anglais\"],\n",
      "    \"stack_technique\": [\"Python\", \"Databricks\", \"ML Ops\", \"AWS\"]\n",
      "  }\n",
      "}\n"
     ]
    },
    {
     "name": "stderr",
     "output_type": "stream",
     "text": [
      " 89%|████████▉ | 748/841 [32:30<03:00,  1.94s/it]"
     ]
    },
    {
     "name": "stdout",
     "output_type": "stream",
     "text": [
      "{\n",
      "  \"poste\": {\n",
      "    \"type_contrat\": \"alternance\",\n",
      "    \"teletravail_possible\": false,\n",
      "    \"experience_pro_requise\": 1,\n",
      "    \"diplomes\": [\"Master\"],\n",
      "    \"spe_diplomes\": [\"école de commerce\", \"école d'ingénieur\", \"école spécialisée en Big Data\"],\n",
      "    \"langues\": [\"Anglais\", \"Francais\", \"Espagnol\", \"Allemand\", \"Italien\", \"Portuguais\"],\n",
      "    \"stack_technique\": [\"SQL\", \"Python\", \"Excel\", \"Tableau Croisé Dynamique\", \"Data Studio\", \"Google Cloud Platform (Big Query, Google Cloud Storage)\"]\n",
      "  }\n",
      "}\n"
     ]
    },
    {
     "name": "stderr",
     "output_type": "stream",
     "text": [
      " 89%|████████▉ | 749/841 [32:32<02:56,  1.92s/it]"
     ]
    },
    {
     "name": "stdout",
     "output_type": "stream",
     "text": [
      "{\n",
      "  \"poste\": {\n",
      "    \"type_contrat\": \"CDI\",\n",
      "    \"teletravail_possible\": true,\n",
      "    \"experience_pro_requise\": 7,\n",
      "    \"diplomes\": [\"pas de diplome\"],\n",
      "    \"spe_diplomes\": [null],\n",
      "    \"langues\": [\"Anglais\"],\n",
      "    \"stack_technique\": [null]\n",
      "  }\n",
      "}\n"
     ]
    },
    {
     "name": "stderr",
     "output_type": "stream",
     "text": [
      " 89%|████████▉ | 750/841 [32:34<02:57,  1.95s/it]"
     ]
    },
    {
     "name": "stdout",
     "output_type": "stream",
     "text": [
      "{\n",
      "  \"poste\": {\n",
      "    \"type_contrat\": \"CDI\",\n",
      "    \"teletravail_possible\": true,\n",
      "    \"experience_pro_requise\": 3,\n",
      "    \"diplomes\": [\"Ecole de commerce\", \"Ingénieur\", \"Université\"],\n",
      "    \"spe_diplomes\": null,\n",
      "    \"langues\": [\"Francais\", \"Anglais\", \"Espagnol\", \"Allemand\"],\n",
      "    \"stack_technique\": [\"Pack Office (Excel et Word)\", \"Business Objects\", \"Qlik\", \"CRM\"]\n",
      "  }\n",
      "}\n"
     ]
    },
    {
     "name": "stderr",
     "output_type": "stream",
     "text": [
      " 89%|████████▉ | 751/841 [32:35<02:48,  1.87s/it]"
     ]
    },
    {
     "name": "stdout",
     "output_type": "stream",
     "text": [
      "{\n",
      "  \"poste\": {\n",
      "    \"type_contrat\": \"CDI\",\n",
      "    \"teletravail_possible\": true,\n",
      "    \"experience_pro_requise\": 1,\n",
      "    \"diplomes\": [\"Bac+3\", \"Bac+5\"],\n",
      "    \"spe_diplomes\": [\"informatique\"],\n",
      "    \"langues\": [\"Francais\", \"Anglais\"],\n",
      "    \"stack_technique\": [\"Microstrategy\", \"Gestion de projet\", \"BI\"]\n",
      "  }\n",
      "}\n"
     ]
    },
    {
     "name": "stderr",
     "output_type": "stream",
     "text": [
      " 89%|████████▉ | 752/841 [32:37<02:43,  1.84s/it]"
     ]
    },
    {
     "name": "stdout",
     "output_type": "stream",
     "text": [
      "{\n",
      "  \"poste\": {\n",
      "    \"type_contrat\": \"alternance\",\n",
      "    \"teletravail_possible\": false,\n",
      "    \"experience_pro_requise\": 1,\n",
      "    \"diplomes\": [\"Bac+3\", \"Bac+5\"],\n",
      "    \"spe_diplomes\": [\"Marketing\"],\n",
      "    \"langues\": [\"Anglais\"],\n",
      "    \"stack_technique\": [\"NPS\", \"Marketing omnicanales\"]\n",
      "  }\n",
      "}\n"
     ]
    },
    {
     "name": "stderr",
     "output_type": "stream",
     "text": [
      " 90%|████████▉ | 753/841 [32:39<02:37,  1.79s/it]"
     ]
    },
    {
     "name": "stdout",
     "output_type": "stream",
     "text": [
      "{\n",
      "  \"poste\": {\n",
      "    \"type_contrat\": \"stage\",\n",
      "    \"teletravail_possible\": null,\n",
      "    \"experience_pro_requise\": 1,\n",
      "    \"diplomes\": [\"Master\"],\n",
      "    \"spe_diplomes\": [\"Data\", \"Marketing\", \"Stratégie\"],\n",
      "    \"langues\": [\"Anglais\"],\n",
      "    \"stack_technique\": [\"Pack Office\", \"Excel\"]\n",
      "  }\n",
      "}\n"
     ]
    },
    {
     "name": "stderr",
     "output_type": "stream",
     "text": [
      " 90%|████████▉ | 754/841 [32:40<02:32,  1.75s/it]"
     ]
    },
    {
     "name": "stdout",
     "output_type": "stream",
     "text": [
      "{\n",
      "  \"poste\": {\n",
      "    \"type_contrat\": \"CDI\",\n",
      "    \"teletravail_possible\": true,\n",
      "    \"experience_pro_requise\": 5,\n",
      "    \"diplomes\": [\"pas de diplome\"],\n",
      "    \"spe_diplomes\": [null],\n",
      "    \"langues\": [\"Anglais\"],\n",
      "    \"stack_technique\": [\"Excel\", \"BI\", \"SQL\", \"ERP SAP\"]\n",
      "  }\n",
      "}\n"
     ]
    },
    {
     "name": "stderr",
     "output_type": "stream",
     "text": [
      " 90%|████████▉ | 755/841 [32:42<02:28,  1.73s/it]"
     ]
    },
    {
     "name": "stdout",
     "output_type": "stream",
     "text": [
      "{\n",
      "  \"poste\": {\n",
      "    \"type_contrat\": \"CDI\",\n",
      "    \"teletravail_possible\": true,\n",
      "    \"experience_pro_requise\": 2,\n",
      "    \"diplomes\": [\"pas de diplome\"],\n",
      "    \"spe_diplomes\": [\"ingénieur\", \"commerce\"],\n",
      "    \"langues\": [\"Anglais\", \"autre\"],\n",
      "    \"stack_technique\": [\"Google Data Cloud\", \"Google Data Studio\", \"Tableau\"]\n",
      "  }\n",
      "}\n"
     ]
    },
    {
     "name": "stderr",
     "output_type": "stream",
     "text": [
      " 90%|████████▉ | 756/841 [32:45<02:48,  1.98s/it]"
     ]
    },
    {
     "name": "stdout",
     "output_type": "stream",
     "text": [
      "{\n",
      "  \"poste\": {\n",
      "    \"type_contrat\": \"alternance\",\n",
      "    \"teletravail_possible\": false,\n",
      "    \"experience_pro_requise\": 1,\n",
      "    \"diplomes\": [\"Bac+3\"],\n",
      "    \"spe_diplomes\": [\"Data Science\", \"Statistiques avancés\"],\n",
      "    \"langues\": [\"Francais\"],\n",
      "    \"stack_technique\": [\"Data Visualisation\", \"Intelligence Artificielle\", \"Machine Learning\", \"Big Data\"]\n",
      "  }\n",
      "}\n"
     ]
    },
    {
     "name": "stderr",
     "output_type": "stream",
     "text": [
      " 90%|█████████ | 757/841 [32:48<03:13,  2.31s/it]"
     ]
    },
    {
     "name": "stdout",
     "output_type": "stream",
     "text": [
      "{\n",
      "  \"poste\": {\n",
      "    \"type_contrat\": \"CDI\",\n",
      "    \"teletravail_possible\": null,\n",
      "    \"experience_pro_requise\": 2,\n",
      "    \"diplomes\": [\"Master\"],\n",
      "    \"spe_diplomes\": [\"Statistiques\", \"Mathématiques\"],\n",
      "    \"langues\": null,\n",
      "    \"stack_technique\": [\"Python\", \"R\", \"SQL\", \"SAS\", \"Excel\", \"Qlik Sense\", \"Qlik View\"]\n",
      "  }\n",
      "}\n"
     ]
    },
    {
     "name": "stderr",
     "output_type": "stream",
     "text": [
      " 90%|█████████ | 758/841 [32:50<03:16,  2.37s/it]"
     ]
    },
    {
     "name": "stdout",
     "output_type": "stream",
     "text": [
      "{\n",
      "  \"poste\": {\n",
      "    \"type_contrat\": \"CDI\",\n",
      "    \"teletravail_possible\": false,\n",
      "    \"experience_pro_requise\": 1,\n",
      "    \"diplomes\": [\"Bac+5\"],\n",
      "    \"spe_diplomes\": [\"école de commerce\", \"Celsa\", \"IEP\"],\n",
      "    \"langues\": [\"Anglais\", \"Francais\", \"autre\"],\n",
      "    \"stack_technique\": [\"Excel\", \"Powerpoint\", \"Teams\", \"Microsoft 365\", \"AT Internet\", \"Google Analytics\", \"Adobe Analytics\", \"Power BI\", \"SEMRush\", \"Tubulars\", \"FB analytics\", \"YouTube analytics\"]\n",
      "  }\n",
      "}\n"
     ]
    },
    {
     "name": "stderr",
     "output_type": "stream",
     "text": [
      " 90%|█████████ | 759/841 [32:52<02:59,  2.19s/it]"
     ]
    },
    {
     "name": "stdout",
     "output_type": "stream",
     "text": [
      "{\n",
      "  \"poste\": {\n",
      "    \"type_contrat\": \"CDI\",\n",
      "    \"teletravail_possible\": true,\n",
      "    \"experience_pro_requise\": 4,\n",
      "    \"diplomes\": [\"pas de diplome\"],\n",
      "    \"spe_diplomes\": [null],\n",
      "    \"langues\": [null],\n",
      "    \"stack_technique\": [\"Python\", \"R\", \"SQL\", \"Pandas\", \"NumPy\", \"Tableau\", \"Power BI\", \"QlikView\"]\n",
      "  }\n",
      "}\n"
     ]
    },
    {
     "name": "stderr",
     "output_type": "stream",
     "text": [
      " 90%|█████████ | 760/841 [32:54<02:48,  2.08s/it]"
     ]
    },
    {
     "name": "stdout",
     "output_type": "stream",
     "text": [
      "{\n",
      "  \"poste\": {\n",
      "    \"type_contrat\": \"CDI\",\n",
      "    \"teletravail_possible\": true,\n",
      "    \"experience_pro_requise\": 8,\n",
      "    \"diplomes\": [\"Bac+5\"],\n",
      "    \"spe_diplomes\": [\"statistiques\", \"analyse de données\", \"école d’ingénieur\"],\n",
      "    \"langues\": [\"Francais\", \"Anglais\"],\n",
      "    \"stack_technique\": [\"SQL\", \"NoSQL\", \"Data Preparation\"]\n",
      "  }\n",
      "}\n"
     ]
    },
    {
     "name": "stderr",
     "output_type": "stream",
     "text": [
      " 90%|█████████ | 761/841 [32:55<02:36,  1.95s/it]"
     ]
    },
    {
     "name": "stdout",
     "output_type": "stream",
     "text": [
      "{\n",
      "  \"poste\": {\n",
      "    \"type_contrat\": \"freelance\",\n",
      "    \"teletravail_possible\": true,\n",
      "    \"experience_pro_requise\": 1,\n",
      "    \"diplomes\": [null],\n",
      "    \"spe_diplomes\": [null],\n",
      "    \"langues\": [null],\n",
      "    \"stack_technique\": [\n",
      "      \"Google Data Studio\"\n",
      "    ]\n",
      "  }\n",
      "}\n"
     ]
    },
    {
     "name": "stderr",
     "output_type": "stream",
     "text": [
      " 91%|█████████ | 762/841 [32:57<02:34,  1.95s/it]"
     ]
    },
    {
     "name": "stdout",
     "output_type": "stream",
     "text": [
      "{\n",
      "  \"poste\": {\n",
      "    \"type_contrat\": \"CDI\",\n",
      "    \"teletravail_possible\": null,\n",
      "    \"experience_pro_requise\": 10,\n",
      "    \"diplomes\": [\"Bac+5\"],\n",
      "    \"spe_diplomes\": [\"Business Analyst\"],\n",
      "    \"langues\": [\"Anglais\"],\n",
      "    \"stack_technique\": [\"Microsoft Power BI\", \"SAP Analytic Cloud\"]\n",
      "  }\n",
      "}\n"
     ]
    },
    {
     "name": "stderr",
     "output_type": "stream",
     "text": [
      " 91%|█████████ | 763/841 [32:59<02:32,  1.95s/it]"
     ]
    },
    {
     "name": "stdout",
     "output_type": "stream",
     "text": [
      "{\n",
      "  \"poste\": {\n",
      "    \"type_contrat\": \"CDI\",\n",
      "    \"teletravail_possible\": true,\n",
      "    \"experience_pro_requise\": 3,\n",
      "    \"diplomes\": [\"pas de diplome\"],\n",
      "    \"spe_diplomes\": [null],\n",
      "    \"langues\": [null],\n",
      "    \"stack_technique\": [\"SAS\"]\n",
      "  }\n",
      "}\n"
     ]
    },
    {
     "name": "stderr",
     "output_type": "stream",
     "text": [
      " 91%|█████████ | 764/841 [33:01<02:22,  1.85s/it]"
     ]
    },
    {
     "name": "stdout",
     "output_type": "stream",
     "text": [
      "{\n",
      "  \"poste\": {\n",
      "    \"type_contrat\": \"alternance\",\n",
      "    \"teletravail_possible\": false,\n",
      "    \"experience_pro_requise\": 1,\n",
      "    \"diplomes\": [\"Bac+5\"],\n",
      "    \"spe_diplomes\": [\"commerce\", \"ingénieur\"],\n",
      "    \"langues\": [\"Francais\", \"Anglais\"],\n",
      "    \"stack_technique\": [\"Excel\", \"Powerpoint\", \"CRM Salesforce\", \"Qlikview\"]\n",
      "  }\n",
      "}\n"
     ]
    },
    {
     "name": "stderr",
     "output_type": "stream",
     "text": [
      " 91%|█████████ | 765/841 [33:03<02:29,  1.97s/it]"
     ]
    },
    {
     "name": "stdout",
     "output_type": "stream",
     "text": [
      "{\n",
      "  \"poste\": {\n",
      "    \"type_contrat\": \"CDI\",\n",
      "    \"teletravail_possible\": true,\n",
      "    \"experience_pro_requise\": 1,\n",
      "    \"diplomes\": [\"Bac+5\"],\n",
      "    \"spe_diplomes\": [],\n",
      "    \"langues\": [\"Anglais\", \"Francais\", \"autre\"],\n",
      "    \"stack_technique\": [\"DevOps\", \"Data Engineering\", \"Business Intelligence\", \"Power BI\", \"Excel\", \"Power Query\", \"Power Pivot\", \"DAX\", \"Python\", \"R\", \"Machine Learning\", \"Microsoft Azur\", \"Google Cloud Platform\"]\n",
      "  }\n",
      "}\n"
     ]
    },
    {
     "name": "stderr",
     "output_type": "stream",
     "text": [
      " 91%|█████████ | 766/841 [33:05<02:29,  1.99s/it]"
     ]
    },
    {
     "name": "stdout",
     "output_type": "stream",
     "text": [
      "{\n",
      "  \"poste\": {\n",
      "    \"type_contrat\": \"alternance\",\n",
      "    \"teletravail_possible\": false,\n",
      "    \"experience_pro_requise\": 1,\n",
      "    \"diplomes\": [\"Master\"],\n",
      "    \"spe_diplomes\": [\"Supply Chain\", \"Logistics\", \"Engineering\", \"Computer Sciences\"],\n",
      "    \"langues\": [\"Anglais\", \"Francais\"],\n",
      "    \"stack_technique\": null\n",
      "  }\n",
      "}\n"
     ]
    },
    {
     "name": "stderr",
     "output_type": "stream",
     "text": [
      " 91%|█████████ | 767/841 [33:09<03:08,  2.55s/it]"
     ]
    },
    {
     "name": "stdout",
     "output_type": "stream",
     "text": [
      "{\n",
      "  \"poste\": {\n",
      "    \"type_contrat\": \"alternance\",\n",
      "    \"teletravail_possible\": false,\n",
      "    \"experience_pro_requise\": 1,\n",
      "    \"diplomes\": [\"Bac+5\"],\n",
      "    \"spe_diplomes\": [],\n",
      "    \"langues\": [\"Francais\"],\n",
      "    \"stack_technique\": [\"Power BI\", \"Excel\"]\n",
      "  }\n",
      "}\n"
     ]
    },
    {
     "name": "stderr",
     "output_type": "stream",
     "text": [
      " 91%|█████████▏| 768/841 [33:11<02:49,  2.33s/it]"
     ]
    },
    {
     "name": "stdout",
     "output_type": "stream",
     "text": [
      "{\n",
      "  \"poste\": {\n",
      "    \"type_contrat\": \"alternance\",\n",
      "    \"teletravail_possible\": false,\n",
      "    \"experience_pro_requise\": 1,\n",
      "    \"diplomes\": [\"Bac+5\"],\n",
      "    \"spe_diplomes\": [\"Data Science\"],\n",
      "    \"langues\": [\"Francais\", \"Anglais\", \"autre\"],\n",
      "    \"stack_technique\": [\"Python\", \"R\", \"SQL\", \"data visualisation\", \"Cloud\", \"Cloudera\"]\n",
      "  }\n",
      "}\n"
     ]
    },
    {
     "name": "stderr",
     "output_type": "stream",
     "text": [
      " 91%|█████████▏| 769/841 [33:13<02:39,  2.22s/it]"
     ]
    },
    {
     "name": "stdout",
     "output_type": "stream",
     "text": [
      "{\n",
      "  \"poste\": {\n",
      "    \"type_contrat\": \"CDI\",\n",
      "    \"teletravail_possible\": false,\n",
      "    \"experience_pro_requise\": 1,\n",
      "    \"diplomes\": [\"Bac+5\"],\n",
      "    \"spe_diplomes\": [\"Data\"],\n",
      "    \"langues\": [\"Francais\", \"Anglais\"],\n",
      "    \"stack_technique\": [\"SAS\", \"SQL\", \"Power BI\", \"Qlik Sense\", \"Python\", \"HTML\", \"CSS\", \"Java Script\", \"Excel\", \"Power point\"]\n",
      "  }\n",
      "}\n"
     ]
    },
    {
     "name": "stderr",
     "output_type": "stream",
     "text": [
      " 92%|█████████▏| 770/841 [33:15<02:27,  2.08s/it]"
     ]
    },
    {
     "name": "stdout",
     "output_type": "stream",
     "text": [
      "{\n",
      "  \"poste\": {\n",
      "    \"type_contrat\": null,\n",
      "    \"teletravail_possible\": null,\n",
      "    \"experience_pro_requise\": 3,\n",
      "    \"diplomes\": [null],\n",
      "    \"spe_diplomes\": [null],\n",
      "    \"langues\": [null],\n",
      "    \"stack_technique\": [\"HP ALM Quality Center\"]\n",
      "  }\n",
      "}\n"
     ]
    },
    {
     "name": "stderr",
     "output_type": "stream",
     "text": [
      " 92%|█████████▏| 771/841 [33:17<02:24,  2.06s/it]"
     ]
    },
    {
     "name": "stdout",
     "output_type": "stream",
     "text": [
      "{\n",
      "  \"poste\": {\n",
      "    \"type_contrat\": \"stage\",\n",
      "    \"teletravail_possible\": false,\n",
      "    \"experience_pro_requise\": 1,\n",
      "    \"diplomes\": [\"pas de diplome\"],\n",
      "    \"spe_diplomes\": [\"Human Resources\", \"Business Analytics\"],\n",
      "    \"langues\": [\"Francais\", \"Anglais\"],\n",
      "    \"stack_technique\": [\"Microsoft Office\", \"Excel\", \"Tableau\"]\n",
      "  }\n",
      "}\n"
     ]
    },
    {
     "name": "stderr",
     "output_type": "stream",
     "text": [
      " 92%|█████████▏| 772/841 [33:19<02:25,  2.11s/it]"
     ]
    },
    {
     "name": "stdout",
     "output_type": "stream",
     "text": [
      "{\n",
      "  \"poste\": {\n",
      "    \"type_contrat\": \"CDI\",\n",
      "    \"teletravail_possible\": false,\n",
      "    \"experience_pro_requise\": 1,\n",
      "    \"diplomes\": [\"Bac+3\", \"Bac+5\", \"pas de diplome\"],\n",
      "    \"spe_diplomes\": [\"Informatique\", \"Ingénierie\"],\n",
      "    \"langues\": [\"Anglais\", \"Francais\", \"autre\"],\n",
      "    \"stack_technique\": [\"Java\", \"JavaScript\", \"SQL\"]\n",
      "  }\n",
      "}\n"
     ]
    },
    {
     "name": "stderr",
     "output_type": "stream",
     "text": [
      " 92%|█████████▏| 773/841 [33:20<02:11,  1.93s/it]"
     ]
    },
    {
     "name": "stdout",
     "output_type": "stream",
     "text": [
      "{\n",
      "  \"poste\": {\n",
      "    \"type_contrat\": \"freelance\",\n",
      "    \"teletravail_possible\": true,\n",
      "    \"experience_pro_requise\": 2,\n",
      "    \"diplomes\": [\"pas de diplome\"],\n",
      "    \"spe_diplomes\": [null],\n",
      "    \"langues\": [null],\n",
      "    \"stack_technique\": [\"EDW\", \"digital\", \"IT\"]\n",
      "  }\n",
      "}\n"
     ]
    },
    {
     "name": "stderr",
     "output_type": "stream",
     "text": [
      " 92%|█████████▏| 774/841 [33:22<02:08,  1.92s/it]"
     ]
    },
    {
     "name": "stdout",
     "output_type": "stream",
     "text": [
      "{\n",
      "  \"poste\": {\n",
      "    \"type_contrat\": \"CDI\",\n",
      "    \"teletravail_possible\": false,\n",
      "    \"experience_pro_requise\": 3,\n",
      "    \"diplomes\": [\"pas de diplome\"],\n",
      "    \"spe_diplomes\": [null],\n",
      "    \"langues\": [\"Anglais\", \"autre\"],\n",
      "    \"stack_technique\": [\"Python\", \"SSIS\", \"SSAS\", \"SSRS\", \"MDM\"]\n",
      "  }\n",
      "}\n"
     ]
    },
    {
     "name": "stderr",
     "output_type": "stream",
     "text": [
      " 92%|█████████▏| 775/841 [33:25<02:20,  2.13s/it]"
     ]
    },
    {
     "name": "stdout",
     "output_type": "stream",
     "text": [
      "{\n",
      "  \"poste\": {\n",
      "    \"type_contrat\": \"CDI\",\n",
      "    \"teletravail_possible\": null,\n",
      "    \"experience_pro_requise\": 4,\n",
      "    \"diplomes\": [\"pas de diplome\"],\n",
      "    \"spe_diplomes\": [null],\n",
      "    \"langues\": [null],\n",
      "    \"stack_technique\": [\"Agile Scrum\", \"IBM Planning Analytics\", \"SQL\"]\n",
      "  }\n",
      "}\n"
     ]
    },
    {
     "name": "stderr",
     "output_type": "stream",
     "text": [
      " 92%|█████████▏| 776/841 [33:27<02:20,  2.16s/it]"
     ]
    },
    {
     "name": "stdout",
     "output_type": "stream",
     "text": [
      "{\n",
      "  \"poste\": {\n",
      "    \"type_contrat\": null,\n",
      "    \"teletravail_possible\": null,\n",
      "    \"experience_pro_requise\": 3,\n",
      "    \"diplomes\": [null],\n",
      "    \"spe_diplomes\": [null],\n",
      "    \"langues\": [null],\n",
      "    \"stack_technique\": [\"MCO\", \"TMA\", \"conception de modèle de données\", \"développement de pipelines de données\", \"optimisation des performances\", \"contrôles qualité des données\", \"rédaction de documents\", \"proposition d'amélioration de la stack Data\"]\n",
      "  }\n",
      "}\n"
     ]
    },
    {
     "name": "stderr",
     "output_type": "stream",
     "text": [
      " 92%|█████████▏| 777/841 [33:29<02:18,  2.17s/it]"
     ]
    },
    {
     "name": "stdout",
     "output_type": "stream",
     "text": [
      "{\n",
      "  \"poste\": {\n",
      "    \"type_contrat\": \"CDI\",\n",
      "    \"teletravail_possible\": true,\n",
      "    \"experience_pro_requise\": 1,\n",
      "    \"diplomes\": [\"Licence\", \"Master\", \"Doctorat\", \"Bac+3\", \"Bac+5\", \"Bac+7\", \"autre\"],\n",
      "    \"spe_diplomes\": [\"Data\"],\n",
      "    \"langues\": [\"Anglais\", \"autre\"],\n",
      "    \"stack_technique\": [\"Java\", \"Python\", \"Scala\", \"Hive\", \"Hadoop\", \"Spark\"]\n",
      "  }\n",
      "}\n"
     ]
    },
    {
     "name": "stderr",
     "output_type": "stream",
     "text": [
      " 93%|█████████▎| 778/841 [33:32<02:22,  2.26s/it]"
     ]
    },
    {
     "name": "stdout",
     "output_type": "stream",
     "text": [
      "{\n",
      "  \"poste\": {\n",
      "    \"type_contrat\": \"CDI\",\n",
      "    \"teletravail_possible\": true,\n",
      "    \"experience_pro_requise\": 5,\n",
      "    \"diplomes\": [\"Bac+5\", \"Master\"],\n",
      "    \"spe_diplomes\": [\"Data\", \"Big Data\"],\n",
      "    \"langues\": [\"Anglais\"],\n",
      "    \"stack_technique\": [\"Python\", \"C#\", \"SQL\", \"Neo4j\", \"MongoDB\", \"Spark\", \"Hadoop\", \"Azure\", \"Azure DevOps\", \"Machine Learning\", \"AGILE\"]\n",
      "  }\n",
      "}\n"
     ]
    },
    {
     "name": "stderr",
     "output_type": "stream",
     "text": [
      " 93%|█████████▎| 779/841 [33:36<02:51,  2.77s/it]"
     ]
    },
    {
     "name": "stdout",
     "output_type": "stream",
     "text": [
      "{\n",
      "  \"poste\": {\n",
      "    \"type_contrat\": \"stage\",\n",
      "    \"teletravail_possible\": null,\n",
      "    \"experience_pro_requise\": 1,\n",
      "    \"diplomes\": [\"Master\", \"autre\"],\n",
      "    \"spe_diplomes\": [\"école d'ingénieur\"],\n",
      "    \"langues\": [\"Anglais\", \"autre\"],\n",
      "    \"stack_technique\": [\"Data Engineer\", \"pipelines de données\", \"rapports financiers\", \"analyse de données\", \"documentation\"]\n",
      "  }\n",
      "}\n"
     ]
    },
    {
     "name": "stderr",
     "output_type": "stream",
     "text": [
      " 93%|█████████▎| 780/841 [33:38<02:38,  2.60s/it]"
     ]
    },
    {
     "name": "stdout",
     "output_type": "stream",
     "text": [
      "{\n",
      "  \"poste\": {\n",
      "    \"type_contrat\": \"CDI\",\n",
      "    \"teletravail_possible\": true,\n",
      "    \"experience_pro_requise\": 3,\n",
      "    \"diplomes\": [\"Bac+5\"],\n",
      "    \"spe_diplomes\": [\"informatique\"],\n",
      "    \"langues\": [\"Anglais\"],\n",
      "    \"stack_technique\": [\"PHP\", \"JavaScript\", \"SQL\", \"R\", \"Python\", \"Go\", \"Hadoop\", \"Spark\", \"HDFS\"]\n",
      "  }\n",
      "}\n"
     ]
    },
    {
     "name": "stderr",
     "output_type": "stream",
     "text": [
      " 93%|█████████▎| 781/841 [33:40<02:25,  2.42s/it]"
     ]
    },
    {
     "name": "stdout",
     "output_type": "stream",
     "text": [
      "{\n",
      "  \"poste\": {\n",
      "    \"type_contrat\": \"CDI\",\n",
      "    \"teletravail_possible\": null,\n",
      "    \"experience_pro_requise\": 3,\n",
      "    \"diplomes\": [\"Bac+5\", \"Doctorat\"],\n",
      "    \"spe_diplomes\": [\"IT\"],\n",
      "    \"langues\": [null],\n",
      "    \"stack_technique\": [\"Business intelligence\", \"Data Analyse\", \"Développement orienté objet\"]\n",
      "  }\n",
      "}\n"
     ]
    },
    {
     "name": "stderr",
     "output_type": "stream",
     "text": [
      " 93%|█████████▎| 782/841 [33:42<02:13,  2.26s/it]"
     ]
    },
    {
     "name": "stdout",
     "output_type": "stream",
     "text": [
      "{\n",
      "  \"poste\": {\n",
      "    \"type_contrat\": \"CDI\",\n",
      "    \"teletravail_possible\": true,\n",
      "    \"experience_pro_requise\": 3,\n",
      "    \"diplomes\": [\"Bac+5\"],\n",
      "    \"spe_diplomes\": [\"informatique\", \"école d'ingénieur\"],\n",
      "    \"langues\": [\"Anglais\"],\n",
      "    \"stack_technique\": [\"SQL\", \"Python\", \"Scala\", \"Kafka\", \"ETL\", \"base de données\", \"AWS\", \"Azure\", \"Google Cloud Platform\"]\n",
      "  }\n",
      "}\n"
     ]
    },
    {
     "name": "stderr",
     "output_type": "stream",
     "text": [
      " 93%|█████████▎| 783/841 [33:44<02:00,  2.07s/it]"
     ]
    },
    {
     "name": "stdout",
     "output_type": "stream",
     "text": [
      "{\n",
      "  \"poste\": {\n",
      "    \"type_contrat\": \"CDI\",\n",
      "    \"teletravail_possible\": true,\n",
      "    \"experience_pro_requise\": 4,\n",
      "    \"diplomes\": [\"Master\", \"Doctorat\", \"autre\"],\n",
      "    \"spe_diplomes\": [\"Computer Science\", \"Engineering\"],\n",
      "    \"langues\": [\"Anglais\"],\n",
      "    \"stack_technique\": [\"Python\", \"SQL\", \"Kafka\", \"Pub / Sub\"]\n",
      "  }\n",
      "}\n"
     ]
    },
    {
     "name": "stderr",
     "output_type": "stream",
     "text": [
      " 93%|█████████▎| 784/841 [33:46<01:56,  2.05s/it]"
     ]
    },
    {
     "name": "stdout",
     "output_type": "stream",
     "text": [
      "{\n",
      "  \"poste\": {\n",
      "    \"type_contrat\": \"alternance\",\n",
      "    \"teletravail_possible\": true,\n",
      "    \"experience_pro_requise\": 1,\n",
      "    \"diplomes\": [\"Master\"],\n",
      "    \"spe_diplomes\": [\"Informatique\"],\n",
      "    \"langues\": [\"Francais\"],\n",
      "    \"stack_technique\": [\"Java\", \"DEVOPS\", \"PowerBI\", \"Hdfs\", \"Ansible\", \"Jenkins\", \"SQL\"]\n",
      "  }\n",
      "}\n"
     ]
    },
    {
     "name": "stderr",
     "output_type": "stream",
     "text": [
      " 93%|█████████▎| 785/841 [33:48<01:55,  2.07s/it]"
     ]
    },
    {
     "name": "stdout",
     "output_type": "stream",
     "text": [
      "{\n",
      "  \"poste\": {\n",
      "    \"type_contrat\": \"CDI\",\n",
      "    \"teletravail_possible\": false,\n",
      "    \"experience_pro_requise\": 2,\n",
      "    \"diplomes\": [\"Bac+3\", null],\n",
      "    \"spe_diplomes\": [\"Informatique\", \"Data Science\"],\n",
      "    \"langues\": [\"Anglais\", null],\n",
      "    \"stack_technique\": [\"Azure Data Factory\", \"CI/CD\", \"SQL\"]\n",
      "  }\n",
      "}\n"
     ]
    },
    {
     "name": "stderr",
     "output_type": "stream",
     "text": [
      " 93%|█████████▎| 786/841 [33:50<02:00,  2.20s/it]"
     ]
    },
    {
     "name": "stdout",
     "output_type": "stream",
     "text": [
      "{\n",
      "  \"poste\": {\n",
      "    \"type_contrat\": \"CDI\",\n",
      "    \"teletravail_possible\": true,\n",
      "    \"experience_pro_requise\": 3,\n",
      "    \"diplomes\": [\"pas de diplome\"],\n",
      "    \"spe_diplomes\": [null],\n",
      "    \"langues\": [null],\n",
      "    \"stack_technique\": [\n",
      "      \"Azure\", \n",
      "      \"Google GCP\", \n",
      "      \"SQL\", \n",
      "      \"Python\", \n",
      "      \"Spark\", \n",
      "      \"PySpark\", \n",
      "      \"Airflow\", \n",
      "      \"Kafka\", \n",
      "      \"Jenkins\", \n",
      "      \"DevOps\", \n",
      "      \"Git\", \n",
      "      \"CI/CD\", \n",
      "      \"OpenShift\", \n",
      "      \"Docker\", \n",
      "      \"Kubernetes\", \n",
      "      \"NoSQL\"\n",
      "    ]  \n",
      "  }\n",
      "}\n"
     ]
    },
    {
     "name": "stderr",
     "output_type": "stream",
     "text": [
      " 94%|█████████▎| 787/841 [33:52<01:54,  2.12s/it]"
     ]
    },
    {
     "name": "stdout",
     "output_type": "stream",
     "text": [
      "{\n",
      "  \"poste\": {\n",
      "    \"type_contrat\": \"CDI\",\n",
      "    \"teletravail_possible\": null,\n",
      "    \"experience_pro_requise\": 5,\n",
      "    \"diplomes\": [\"pas de diplome\"],\n",
      "    \"spe_diplomes\": [null],\n",
      "    \"langues\": [null],\n",
      "    \"stack_technique\": [\"Spark\", \"Python\", \"Kafka\", \"Kubernetes\", \"GitLab\", \"Big Data\"]\n",
      "  }\n",
      "}\n"
     ]
    },
    {
     "name": "stderr",
     "output_type": "stream",
     "text": [
      " 94%|█████████▎| 788/841 [33:54<01:47,  2.03s/it]"
     ]
    },
    {
     "name": "stdout",
     "output_type": "stream",
     "text": [
      "{\n",
      "  \"poste\": {\n",
      "    \"type_contrat\": \"CDI\",\n",
      "    \"teletravail_possible\": null,\n",
      "    \"experience_pro_requise\": 3,\n",
      "    \"diplomes\": [null],\n",
      "    \"spe_diplomes\": [null],\n",
      "    \"langues\": [null],\n",
      "    \"stack_technique\": [\"SQL\", \"BigQuery\", \"Python\", \"Java\", \"Shell\"]\n",
      "  }\n",
      "}\n"
     ]
    },
    {
     "name": "stderr",
     "output_type": "stream",
     "text": [
      " 94%|█████████▍| 789/841 [33:56<01:52,  2.16s/it]"
     ]
    },
    {
     "name": "stdout",
     "output_type": "stream",
     "text": [
      "{\n",
      "  \"poste\": {\n",
      "    \"type_contrat\": \"CDI\",\n",
      "    \"teletravail_possible\": false,\n",
      "    \"experience_pro_requise\": 1,\n",
      "    \"diplomes\": [\"Bac+5\"],\n",
      "    \"spe_diplomes\": [\"Data Science\", \"Data Engineering\", \"Stockage\", \"Ingénierie logicielle\"],\n",
      "    \"langues\": [\"Anglais\"],\n",
      "    \"stack_technique\": [\"Kafka\", \"Spark\", \"Spark Streaming\", \"Flink\", \"Storm\", \"Hadoop\", \"HDFS\", \"Hive\", \"Pig\", \"HBase\", \"Oozie\", \"SQL\", \"NoSQL\", \"Cassandra\", \"MongoDB\", \"S3\", \"MinIO\", \"Scala\", \"Java\"]\n",
      "  }\n",
      "}\n"
     ]
    },
    {
     "name": "stderr",
     "output_type": "stream",
     "text": [
      " 94%|█████████▍| 790/841 [33:58<01:47,  2.11s/it]"
     ]
    },
    {
     "name": "stdout",
     "output_type": "stream",
     "text": [
      "{\n",
      "  \"poste\": {\n",
      "    \"type_contrat\": \"CDD\",\n",
      "    \"teletravail_possible\": true,\n",
      "    \"experience_pro_requise\": 2,\n",
      "    \"diplomes\": [\"pas de diplome\"],\n",
      "    \"spe_diplomes\": [null],\n",
      "    \"langues\": [null],\n",
      "    \"stack_technique\": [\"ETL Talend\", \"Base de données PostgreSQL\", \"Python\"]\n",
      "  }\n",
      "}\n"
     ]
    },
    {
     "name": "stderr",
     "output_type": "stream",
     "text": [
      " 94%|█████████▍| 791/841 [34:00<01:45,  2.11s/it]"
     ]
    },
    {
     "name": "stdout",
     "output_type": "stream",
     "text": [
      "{\n",
      "  \"poste\": {\n",
      "    \"type_contrat\": \"CDI\",\n",
      "    \"teletravail_possible\": false,\n",
      "    \"experience_pro_requise\": 1,\n",
      "    \"diplomes\": [\"Master\"],\n",
      "    \"spe_diplomes\": [\"Ingénieur\"],\n",
      "    \"langues\": [\"Anglais\", \"Francais\"],\n",
      "    \"stack_technique\": [\"Swift\", \"Kotlin\", \"Python\", \"Machine learning\", \"AR\", \"QGIS\", \"Bluetooth\", \"Rigour\"]\n",
      "  }\n",
      "}\n"
     ]
    },
    {
     "name": "stderr",
     "output_type": "stream",
     "text": [
      " 94%|█████████▍| 792/841 [34:03<01:45,  2.16s/it]"
     ]
    },
    {
     "name": "stdout",
     "output_type": "stream",
     "text": [
      "{\n",
      "  \"poste\": {\n",
      "    \"type_contrat\": \"CDI\",\n",
      "    \"teletravail_possible\": false,\n",
      "    \"experience_pro_requise\": 5,\n",
      "    \"diplomes\": [\"Bac+5\"],\n",
      "    \"spe_diplomes\": [\"informatique\"],\n",
      "    \"langues\": [\"Anglais\"],\n",
      "    \"stack_technique\": [\"Snowflake\", \"SQL\", \"JavaScript\", \"Azure SQL\", \"Azure DEVOPS\", \"ADLS Gen2\", \"Azure Data Factory\", \"Azure Function\", \"Azure Logicapp\", \"Azure batch\", \"Agile\", \"JIRA\"]\n",
      "  }\n",
      "}\n"
     ]
    },
    {
     "name": "stderr",
     "output_type": "stream",
     "text": [
      " 94%|█████████▍| 793/841 [34:05<01:42,  2.14s/it]"
     ]
    },
    {
     "name": "stdout",
     "output_type": "stream",
     "text": [
      "{\n",
      "  \"poste\": {\n",
      "    \"type_contrat\": \"CDI\",\n",
      "    \"teletravail_possible\": true,\n",
      "    \"experience_pro_requise\": 3,\n",
      "    \"diplomes\": [\"Bac+5\"],\n",
      "    \"spe_diplomes\": [\"informatique\", \"data\"],\n",
      "    \"langues\": [null],\n",
      "    \"stack_technique\": [\"Talend\", \"GitLab\", \"Azure DevOps\", \"DataLake\", \"DWH\", \"Datavault\", \"CI/CD\", \"Agile\"]\n",
      "  }\n",
      "}\n"
     ]
    },
    {
     "name": "stderr",
     "output_type": "stream",
     "text": [
      " 94%|█████████▍| 794/841 [34:07<01:40,  2.13s/it]"
     ]
    },
    {
     "name": "stdout",
     "output_type": "stream",
     "text": [
      "{\n",
      "  \"poste\": {\n",
      "    \"type_contrat\": null,\n",
      "    \"teletravail_possible\": null,\n",
      "    \"experience_pro_requise\": null,\n",
      "    \"diplomes\": {\n",
      "      \"type\": null\n",
      "    },\n",
      "    \"spe_diplomes\": {\n",
      "      \"type\": null\n",
      "    },\n",
      "    \"langues\": {\n",
      "      \"type\": null\n",
      "    },\n",
      "    \"stack_technique\": [\"Talend\", \"ETL\", \"ESB\", \"Power BI\"]\n",
      "  }\n",
      "}\n"
     ]
    },
    {
     "name": "stderr",
     "output_type": "stream",
     "text": [
      " 95%|█████████▍| 795/841 [34:10<01:51,  2.43s/it]"
     ]
    },
    {
     "name": "stdout",
     "output_type": "stream",
     "text": [
      "{\n",
      "  \"poste\": {\n",
      "    \"type_contrat\": \"CDI\",\n",
      "    \"teletravail_possible\": true,\n",
      "    \"experience_pro_requise\": 3,\n",
      "    \"diplomes\": [\"pas de diplome\"],\n",
      "    \"spe_diplomes\": [null],\n",
      "    \"langues\": [null],\n",
      "    \"stack_technique\": [\"Databricks\", \"Python\", \"SQL\", \"Spark\", \"Airflow\"]\n",
      "  }\n",
      "}\n"
     ]
    },
    {
     "name": "stderr",
     "output_type": "stream",
     "text": [
      " 95%|█████████▍| 796/841 [34:18<02:59,  4.00s/it]"
     ]
    },
    {
     "name": "stdout",
     "output_type": "stream",
     "text": [
      "{\n",
      "  \"poste\": {\n",
      "    \"type_contrat\": \"CDI\",\n",
      "    \"teletravail_possible\": null,\n",
      "    \"experience_pro_requise\": null,\n",
      "    \"diplomes\": [\"Bac+5\"],\n",
      "    \"spe_diplomes\": [\"ingénieur\"],\n",
      "    \"langues\": [\"Anglais\"],\n",
      "    \"stack_technique\": [\"Python\", \"SQL\", \"cloud\", \"AWS\", \"Google Cloud\", \"orchestrateur de données\", \"Airflow\", \"Dagster\", \"ETL\", \"RETL\", \"Docker\", \"Kubernetes\", \"datawarehouse\", \"MPP\", \"Redshift\", \"BigQuery\", \"DBT\", \"API\"]\n",
      "  }\n",
      "}\n"
     ]
    },
    {
     "name": "stderr",
     "output_type": "stream",
     "text": [
      " 95%|█████████▍| 797/841 [34:20<02:31,  3.45s/it]"
     ]
    },
    {
     "name": "stdout",
     "output_type": "stream",
     "text": [
      "{\n",
      "  \"poste\": {\n",
      "    \"type_contrat\": \"CDI\",\n",
      "    \"teletravail_possible\": true,\n",
      "    \"experience_pro_requise\": 5,\n",
      "    \"diplomes\": [\"Master\"],\n",
      "    \"spe_diplomes\": [\"Data engineering\"],\n",
      "    \"langues\": [\"Anglais\", \"Francais\"],\n",
      "    \"stack_technique\": [\"Python\", \"SQL\", \"DataOps\", \"DEVOPS\", \"Azure\", \"Databricks\", \"DBT\", \"Snowflake\", \"GCP\", \"PowerBI\"]\n",
      "  }\n",
      "}\n"
     ]
    },
    {
     "name": "stderr",
     "output_type": "stream",
     "text": [
      " 95%|█████████▍| 798/841 [34:24<02:34,  3.59s/it]"
     ]
    },
    {
     "name": "stdout",
     "output_type": "stream",
     "text": [
      "{\n",
      "  \"poste\": {\n",
      "    \"type_contrat\": \"CDI\",\n",
      "    \"teletravail_possible\": true,\n",
      "    \"experience_pro_requise\": 3,\n",
      "    \"diplomes\": [\"pas de diplome\"],\n",
      "    \"spe_diplomes\": [null],\n",
      "    \"langues\": [null],\n",
      "    \"stack_technique\": [\"Google Cloud Platform\", \"DBT\", \"Agile\"]\n",
      "  }\n",
      "}\n"
     ]
    },
    {
     "name": "stderr",
     "output_type": "stream",
     "text": [
      " 95%|█████████▌| 799/841 [34:27<02:24,  3.44s/it]"
     ]
    },
    {
     "name": "stdout",
     "output_type": "stream",
     "text": [
      "{\n",
      "  \"poste\": {\n",
      "    \"type_contrat\": \"CDD\",\n",
      "    \"teletravail_possible\": true,\n",
      "    \"experience_pro_requise\": 1,\n",
      "    \"diplomes\": [\"Bac+5\"],\n",
      "    \"spe_diplomes\": [\"computer science\"],\n",
      "    \"langues\": [\"Anglais\", \"Francais\", \"autre\"],\n",
      "    \"stack_technique\": [\"Linux\", \"Python\", \"C/C++\", \"git\", \"Dask\", \"Ray\", \"Numpy\", \"Pandas\", \"Scikit-learn\", \"MPI\", \"JAX\", \"Pytorch\"]\n",
      "  }\n",
      "}\n"
     ]
    },
    {
     "name": "stderr",
     "output_type": "stream",
     "text": [
      " 95%|█████████▌| 800/841 [34:29<02:04,  3.03s/it]"
     ]
    },
    {
     "name": "stdout",
     "output_type": "stream",
     "text": [
      "{\n",
      "  \"poste\": {\n",
      "    \"type_contrat\": \"CDI\",\n",
      "    \"teletravail_possible\": true,\n",
      "    \"experience_pro_requise\": 1,\n",
      "    \"diplomes\": [\"pas de diplome\"],\n",
      "    \"spe_diplomes\": [\"Data Architecture\", \"Data Engineering\"],\n",
      "    \"langues\": [\"Francais\"],\n",
      "    \"stack_technique\": [\"SQL\", \"Python\", \"API\"]\n",
      "  }\n",
      "}\n"
     ]
    },
    {
     "name": "stderr",
     "output_type": "stream",
     "text": [
      " 95%|█████████▌| 801/841 [34:32<02:01,  3.04s/it]"
     ]
    },
    {
     "name": "stdout",
     "output_type": "stream",
     "text": [
      "{\n",
      "  \"poste\": {\n",
      "    \"type_contrat\": \"CDI\",\n",
      "    \"teletravail_possible\": true,\n",
      "    \"experience_pro_requise\": 5,\n",
      "    \"diplomes\": [\"Bac+5\"],\n",
      "    \"spe_diplomes\": [\"ingénieur\", \"master spécialisé en data\", \"Big Data\"],\n",
      "    \"langues\": [\"Anglais\"],\n",
      "    \"stack_technique\": [\"Python\", \"C#\", \"SQL\", \"NoSQL\", \"Spark\", \"Hadoop\", \"Azure\", \"Azure DevOps\", \"Machine Learning\", \"AGILE\"]\n",
      "  }\n",
      "}\n"
     ]
    },
    {
     "name": "stderr",
     "output_type": "stream",
     "text": [
      " 95%|█████████▌| 802/841 [34:35<02:02,  3.13s/it]"
     ]
    },
    {
     "name": "stdout",
     "output_type": "stream",
     "text": [
      "{\n",
      "  \"poste\": {\n",
      "    \"type_contrat\": \"freelance\",\n",
      "    \"teletravail_possible\": true,\n",
      "    \"experience_pro_requise\": null,\n",
      "    \"diplomes\": [null],\n",
      "    \"spe_diplomes\": [null],\n",
      "    \"langues\": [null],\n",
      "    \"stack_technique\": [\n",
      "      \"SQL SERVER\",\n",
      "      \"ACTIVE DIRECTORY\",\n",
      "      \"BLOB STORAGE\",\n",
      "      \"DATAFACTORY\",\n",
      "      \"KEY VAULT\",\n",
      "      \"LOGIC APPS\",\n",
      "      \"POWER APPS\",\n",
      "      \"VM\",\n",
      "      \"POWER SHELL\",\n",
      "      \"DATA INTEGRATION\",\n",
      "      \"API\",\n",
      "      \"SQL\",\n",
      "      \"Fichiers plats\",\n",
      "      \"DataFactory\",\n",
      "      \"Dataiku\",\n",
      "      \"DATA PREPARATION\",\n",
      "      \"T-SQL\",\n",
      "      \"Python\",\n",
      "      \"GIT LAB\"\n",
      "    ]\n",
      "  }\n",
      "}\n"
     ]
    },
    {
     "name": "stderr",
     "output_type": "stream",
     "text": [
      " 95%|█████████▌| 803/841 [34:37<01:45,  2.78s/it]"
     ]
    },
    {
     "name": "stdout",
     "output_type": "stream",
     "text": [
      "{\n",
      "  \"poste\": {\n",
      "    \"type_contrat\": \"CDI\",\n",
      "    \"teletravail_possible\": false,\n",
      "    \"experience_pro_requise\": 1,\n",
      "    \"diplomes\": [\"Bac+5\"],\n",
      "    \"spe_diplomes\": [\"Informatique\"],\n",
      "    \"langues\": [\"Francais\", \"Anglais\"],\n",
      "    \"stack_technique\": [\"Azure data factory\", \"SSIS\", \"Azure Databricks\", \"architecture\", \"bases de données\", \"méthodologies de développement\"]\n",
      "  }\n",
      "}\n"
     ]
    },
    {
     "name": "stderr",
     "output_type": "stream",
     "text": [
      " 96%|█████████▌| 804/841 [34:40<01:37,  2.63s/it]"
     ]
    },
    {
     "name": "stdout",
     "output_type": "stream",
     "text": [
      "{\n",
      "  \"poste\": {\n",
      "    \"type_contrat\": \"CDI\",\n",
      "    \"teletravail_possible\": true,\n",
      "    \"experience_pro_requise\": 1,\n",
      "    \"diplomes\": [\"Bac+5\"],\n",
      "    \"spe_diplomes\": [\"Informatique\", \"Ingénierie\", \"Commerce\"],\n",
      "    \"langues\": [\"Anglais\"],\n",
      "    \"stack_technique\": [\"Azure Data Factory\", \"Azure Data Base\", \"Azure DevOps\", \"SSIS\", \"SSAS\", \"SSRS\", \"Power BI\", \"MDX\", \"DAX\", \"SQL\", \"Jira\", \"TFS\", \"Git\"]\n",
      "  }\n",
      "}\n"
     ]
    },
    {
     "name": "stderr",
     "output_type": "stream",
     "text": [
      " 96%|█████████▌| 805/841 [34:42<01:27,  2.42s/it]"
     ]
    },
    {
     "name": "stdout",
     "output_type": "stream",
     "text": [
      "{\n",
      "  \"poste\": {\n",
      "    \"type_contrat\": \"CDI\",\n",
      "    \"teletravail_possible\": true,\n",
      "    \"experience_pro_requise\": 3,\n",
      "    \"diplomes\": [\"pas de diplome\"],\n",
      "    \"spe_diplomes\": [null],\n",
      "    \"langues\": [null],\n",
      "    \"stack_technique\": [\"SPARK\", \"Scala\", \"UNIX\", \"Oracle\", \"ETL Informatica\", \"Qlik View/Sense\"]\n",
      "  }\n",
      "}\n"
     ]
    },
    {
     "name": "stderr",
     "output_type": "stream",
     "text": [
      " 96%|█████████▌| 806/841 [34:43<01:18,  2.24s/it]"
     ]
    },
    {
     "name": "stdout",
     "output_type": "stream",
     "text": [
      "{\n",
      "  \"poste\": {\n",
      "    \"type_contrat\": \"CDI\",\n",
      "    \"teletravail_possible\": null,\n",
      "    \"experience_pro_requise\": null,\n",
      "    \"diplomes\": [\"pas de diplome\"],\n",
      "    \"spe_diplomes\": [null],\n",
      "    \"langues\": [null],\n",
      "    \"stack_technique\": [\"SQL\", \"Snowflake\", \"ETL\", \"Python\", \"Spark\"]\n",
      "  }\n",
      "}\n"
     ]
    },
    {
     "name": "stderr",
     "output_type": "stream",
     "text": [
      " 96%|█████████▌| 807/841 [34:45<01:12,  2.14s/it]"
     ]
    },
    {
     "name": "stdout",
     "output_type": "stream",
     "text": [
      "{\n",
      "  \"poste\": {\n",
      "    \"type_contrat\": \"CDI\",\n",
      "    \"teletravail_possible\": false,\n",
      "    \"experience_pro_requise\": 5,\n",
      "    \"diplomes\": [\"Bac+5\"],\n",
      "    \"spe_diplomes\": [\"informatique\"],\n",
      "    \"langues\": [\"Francais\", \"Anglais\", \"autre\"],\n",
      "    \"stack_technique\": [\"Spark\", \"Hadoop\"]\n",
      "  }\n",
      "}\n"
     ]
    },
    {
     "name": "stderr",
     "output_type": "stream",
     "text": [
      " 96%|█████████▌| 808/841 [34:47<01:05,  1.98s/it]"
     ]
    },
    {
     "name": "stdout",
     "output_type": "stream",
     "text": [
      "{\n",
      "  \"poste\": {\n",
      "    \"type_contrat\": \"CDI\",\n",
      "    \"teletravail_possible\": true,\n",
      "    \"experience_pro_requise\": 5,\n",
      "    \"diplomes\": [\"pas de diplome\"],\n",
      "    \"spe_diplomes\": [null],\n",
      "    \"langues\": [\"Anglais\", \"Francais\"],\n",
      "    \"stack_technique\": [\"Python\", \"Spark\", \"Pandas\", \"Impala\", \"Influx Query Language\", \"SQL\", \"PowerBI\"]\n",
      "  }\n",
      "}\n"
     ]
    },
    {
     "name": "stderr",
     "output_type": "stream",
     "text": [
      " 96%|█████████▌| 809/841 [34:51<01:28,  2.77s/it]"
     ]
    },
    {
     "name": "stdout",
     "output_type": "stream",
     "text": [
      "{\n",
      "  \"poste\": {\n",
      "    \"type_contrat\": \"CDI\",\n",
      "    \"teletravail_possible\": true,\n",
      "    \"experience_pro_requise\": 10,\n",
      "    \"diplomes\": [\"pas de diplome\"],\n",
      "    \"spe_diplomes\": [\"Ingénieur\"],\n",
      "    \"langues\": [\"Anglais\", \"Francais\"],\n",
      "    \"stack_technique\": [\"Docker\", \"Kubernetes\", \"Pytorch\", \"Tensorflow\", \"HuggingFace\", \"Python\", \"SQL\", \"Git\", \"Unix\", \"Argo/Airflow\", \"AWS\", \"GCP\", \"Azure\", \"DataBricks\", \"Dataiku\", \"CUDA\"]\n",
      "  }\n",
      "}\n"
     ]
    },
    {
     "name": "stderr",
     "output_type": "stream",
     "text": [
      " 96%|█████████▋| 810/841 [34:54<01:20,  2.61s/it]"
     ]
    },
    {
     "name": "stdout",
     "output_type": "stream",
     "text": [
      "{\n",
      "  \"poste\": {\n",
      "    \"type_contrat\": \"CDI\",\n",
      "    \"teletravail_possible\": true,\n",
      "    \"experience_pro_requise\": 3,\n",
      "    \"diplomes\": [\"Master\"],\n",
      "    \"spe_diplomes\": [\"informatique\", \"statistiques\", \"sciences des données\"],\n",
      "    \"langues\": [\"Anglais\", \"Francais\", \"autre\"],\n",
      "    \"stack_technique\": [\"DBT (Data Build Tool)\", \"SQL (BigQuery)\", \"Python\", \"Metabase\", \"Airbyte\", \"Asana\"]\n",
      "  }\n",
      "}\n"
     ]
    },
    {
     "name": "stderr",
     "output_type": "stream",
     "text": [
      " 96%|█████████▋| 811/841 [34:56<01:10,  2.36s/it]"
     ]
    },
    {
     "name": "stdout",
     "output_type": "stream",
     "text": [
      "{\n",
      "  \"poste\": {\n",
      "    \"type_contrat\": \"freelance\",\n",
      "    \"teletravail_possible\": true,\n",
      "    \"experience_pro_requise\": 3,\n",
      "    \"diplomes\": [\"pas de diplome\"],\n",
      "    \"spe_diplomes\": [null],\n",
      "    \"langues\": [null],\n",
      "    \"stack_technique\": [\"AWS\", \"Python\", \"Pandas\", \"boto3\"]\n",
      "  }\n",
      "}\n"
     ]
    },
    {
     "name": "stderr",
     "output_type": "stream",
     "text": [
      " 97%|█████████▋| 812/841 [34:57<01:04,  2.22s/it]"
     ]
    },
    {
     "name": "stdout",
     "output_type": "stream",
     "text": [
      "{\n",
      "  \"poste\": {\n",
      "    \"type_contrat\": \"CDI\",\n",
      "    \"teletravail_possible\": true,\n",
      "    \"experience_pro_requise\": 3,\n",
      "    \"diplomes\": [\"pas de diplome\"],\n",
      "    \"spe_diplomes\": [null],\n",
      "    \"langues\": [null],\n",
      "    \"stack_technique\": [\"Hadoop\", \"Spark\", \"Python\", \"Scala\", \"BDD SQL\"]\n",
      "  }\n",
      "}\n"
     ]
    },
    {
     "name": "stderr",
     "output_type": "stream",
     "text": [
      " 97%|█████████▋| 813/841 [35:01<01:12,  2.58s/it]"
     ]
    },
    {
     "name": "stdout",
     "output_type": "stream",
     "text": [
      "{\n",
      "  \"poste\": {\n",
      "    \"type_contrat\": \"CDI\",\n",
      "    \"teletravail_possible\": true,\n",
      "    \"experience_pro_requise\": 5,\n",
      "    \"diplomes\": [\"pas de diplome\"],\n",
      "    \"spe_diplomes\": [null],\n",
      "    \"langues\": [null],\n",
      "    \"stack_technique\": [\"Python\", \"CI/CD\", \"Snowflake\", \"Spark\", \"Docker\", \"Modélisation Base de Données\", \"SQL\", \"Transformation Data en Python\", \"sas\"]\n",
      "  }\n",
      "}\n"
     ]
    },
    {
     "name": "stderr",
     "output_type": "stream",
     "text": [
      " 97%|█████████▋| 814/841 [35:03<01:06,  2.47s/it]"
     ]
    },
    {
     "name": "stdout",
     "output_type": "stream",
     "text": [
      "{\n",
      "  \"poste\": {\n",
      "    \"type_contrat\": \"stage\",\n",
      "    \"teletravail_possible\": false,\n",
      "    \"experience_pro_requise\": null,\n",
      "    \"diplomes\": [\"Bac+5\"],\n",
      "    \"spe_diplomes\": [\"Data Engineering\", \"Business Intelligence\"],\n",
      "    \"langues\": [\"Francais\", \"Anglais\"],\n",
      "    \"stack_technique\": [\"Python\", \"SQL\", \"T-SQL\", \"DevOps\", \"GitHub\", \"GitLab\", \"CI/CD\", \"Machine Learning\", \"IA\"]\n",
      "  }\n",
      "}\n"
     ]
    },
    {
     "name": "stderr",
     "output_type": "stream",
     "text": [
      " 97%|█████████▋| 815/841 [35:05<00:57,  2.22s/it]"
     ]
    },
    {
     "name": "stdout",
     "output_type": "stream",
     "text": [
      "{\n",
      "  \"poste\": {\n",
      "    \"type_contrat\": \"alternance\",\n",
      "    \"teletravail_possible\": false,\n",
      "    \"experience_pro_requise\": 1,\n",
      "    \"diplomes\": [\"Bac+3\"],\n",
      "    \"spe_diplomes\": [\"Mastère transition digitale spécialité Data Analyst\"],\n",
      "    \"langues\": [\"Francais\"],\n",
      "    \"stack_technique\": [\"SQL\", \"ETL\"]\n",
      "  }\n",
      "}\n"
     ]
    },
    {
     "name": "stderr",
     "output_type": "stream",
     "text": [
      " 97%|█████████▋| 816/841 [35:07<00:53,  2.15s/it]"
     ]
    },
    {
     "name": "stdout",
     "output_type": "stream",
     "text": [
      "{\n",
      "  \"poste\": {\n",
      "    \"type_contrat\": null,\n",
      "    \"teletravail_possible\": null,\n",
      "    \"experience_pro_requise\": 1,\n",
      "    \"diplomes\": [\"pas de diplome\"],\n",
      "    \"spe_diplomes\": [null],\n",
      "    \"langues\": [null],\n",
      "    \"stack_technique\": [\"Siebel\", \"Java\", \"PL/SQL\", \"Linux\", \"Shell\", \"Javascript\", \"Xml\", \"Oracle\"]\n",
      "  }\n",
      "}\n"
     ]
    },
    {
     "name": "stderr",
     "output_type": "stream",
     "text": [
      " 97%|█████████▋| 817/841 [35:09<00:52,  2.18s/it]"
     ]
    },
    {
     "name": "stdout",
     "output_type": "stream",
     "text": [
      "{\n",
      "  \"poste\": {\n",
      "    \"type_contrat\": null,\n",
      "    \"teletravail_possible\": true,\n",
      "    \"experience_pro_requise\": 5,\n",
      "    \"diplomes\": [\"Master\"],\n",
      "    \"spe_diplomes\": [\"Computer Science\"],\n",
      "    \"langues\": [\"Anglais\"],\n",
      "    \"stack_technique\": [\"Snowflake\", \"SQL\", \"Javascript\", \"Azure\", \"CI/CD\", \"Data Modeling\", \"Azure SQL\", \"MS SQL\", \"ADLS Gen2\", \"Azure Data Factory\", \"Azure Function\", \"Azure Logicapp\", \"Azure batch\"]\n",
      "  }\n",
      "}\n"
     ]
    },
    {
     "name": "stderr",
     "output_type": "stream",
     "text": [
      " 97%|█████████▋| 818/841 [35:11<00:50,  2.20s/it]"
     ]
    },
    {
     "name": "stdout",
     "output_type": "stream",
     "text": [
      "{\n",
      "  \"poste\": {\n",
      "    \"type_contrat\": \"CDI\",\n",
      "    \"teletravail_possible\": true,\n",
      "    \"experience_pro_requise\": 1,\n",
      "    \"diplomes\": [\"pas de diplome\"],\n",
      "    \"spe_diplomes\": [\"informatique\"],\n",
      "    \"langues\": [\"Francais\", \"Anglais\", \"autre\"],\n",
      "    \"stack_technique\": [\"DataLake\", \"Python\", \"PowerBI\", \"Spark\", \"Hadoop\", \"Scala\", \"Azure\", \"AWS\", \"GCP\"]\n",
      "  }\n",
      "}\n"
     ]
    },
    {
     "name": "stderr",
     "output_type": "stream",
     "text": [
      " 97%|█████████▋| 819/841 [35:14<00:49,  2.26s/it]"
     ]
    },
    {
     "name": "stdout",
     "output_type": "stream",
     "text": [
      "{\n",
      "  \"poste\": {\n",
      "    \"type_contrat\": \"alternance\",\n",
      "    \"teletravail_possible\": null,\n",
      "    \"experience_pro_requise\": 1,\n",
      "    \"diplomes\": [\"Bac+5\"],\n",
      "    \"spe_diplomes\": [\"Informatique\", \"Data Science\"],\n",
      "    \"langues\": [null],\n",
      "    \"stack_technique\": [\"SQL\", \"No SQL\", \"Python\", \"Java\", \"Spark\"]\n",
      "  }\n",
      "}\n"
     ]
    },
    {
     "name": "stderr",
     "output_type": "stream",
     "text": [
      " 98%|█████████▊| 820/841 [35:15<00:43,  2.06s/it]"
     ]
    },
    {
     "name": "stdout",
     "output_type": "stream",
     "text": [
      "{\n",
      "  \"poste\": {\n",
      "    \"type_contrat\": \"CDI\",\n",
      "    \"teletravail_possible\": true,\n",
      "    \"experience_pro_requise\": 7,\n",
      "    \"diplomes\": [\"pas de diplome\"],\n",
      "    \"spe_diplomes\": [null],\n",
      "    \"langues\": [\"Anglais\"],\n",
      "    \"stack_technique\": [\"Scala\", \"Spark\", \"AWS\", \"Kubernetes\", \"Python\"]\n",
      "  }\n",
      "}\n"
     ]
    },
    {
     "name": "stderr",
     "output_type": "stream",
     "text": [
      " 98%|█████████▊| 821/841 [35:17<00:38,  1.91s/it]"
     ]
    },
    {
     "name": "stdout",
     "output_type": "stream",
     "text": [
      "{\n",
      "  \"poste\": {\n",
      "    \"type_contrat\": \"CDI\",\n",
      "    \"teletravail_possible\": true,\n",
      "    \"experience_pro_requise\": 3,\n",
      "    \"diplomes\": [\"pas de diplome\"],\n",
      "    \"spe_diplomes\": [null],\n",
      "    \"langues\": [\"Francais\"],\n",
      "    \"stack_technique\": [\"Python\", \"cloud\"]\n",
      "  }\n",
      "}\n"
     ]
    },
    {
     "name": "stderr",
     "output_type": "stream",
     "text": [
      " 98%|█████████▊| 822/841 [35:18<00:34,  1.82s/it]"
     ]
    },
    {
     "name": "stdout",
     "output_type": "stream",
     "text": [
      "{\n",
      "  \"poste\": {\n",
      "    \"type_contrat\": \"CDI\",\n",
      "    \"teletravail_possible\": true,\n",
      "    \"experience_pro_requise\": 3,\n",
      "    \"diplomes\": [\"pas de diplome\"],\n",
      "    \"spe_diplomes\": [null],\n",
      "    \"langues\": [null],\n",
      "    \"stack_technique\": [\"SPARK\", \"SCALA\", \"Oracle\"]\n",
      "  }\n",
      "}\n"
     ]
    },
    {
     "name": "stderr",
     "output_type": "stream",
     "text": [
      " 98%|█████████▊| 823/841 [35:20<00:33,  1.85s/it]"
     ]
    },
    {
     "name": "stdout",
     "output_type": "stream",
     "text": [
      "{\n",
      "  \"poste\": {\n",
      "    \"type_contrat\": \"CDI\",\n",
      "    \"teletravail_possible\": null,\n",
      "    \"experience_pro_requise\": 5,\n",
      "    \"diplomes\": [\"Bac+5\"],\n",
      "    \"spe_diplomes\": [\"Informatique\"],\n",
      "    \"langues\": [\"Francais\"],\n",
      "    \"stack_technique\": [\"SQL Server\", \"SSIS\", \"SSMS\", \"Power BI\", \"Power Platform\", \"Dataverse\", \"Excel\"]\n",
      "  }\n",
      "}\n"
     ]
    },
    {
     "name": "stderr",
     "output_type": "stream",
     "text": [
      " 98%|█████████▊| 824/841 [35:22<00:30,  1.79s/it]"
     ]
    },
    {
     "name": "stdout",
     "output_type": "stream",
     "text": [
      "{\n",
      "  \"poste\": {\n",
      "    \"type_contrat\": \"CDI\",\n",
      "    \"teletravail_possible\": false,\n",
      "    \"experience_pro_requise\": 1,\n",
      "    \"diplomes\": [\"pas de diplome\", \"autre\"],\n",
      "    \"spe_diplomes\": [\"production cinématographique\", \"photographie\", \"arts\", \"design\"],\n",
      "    \"langues\": [\"Anglais\", \"Francais\", \"Chinois\", \"autre\"],\n",
      "    \"stack_technique\": [\"Photoshop\", \"Lightroom\"]\n",
      "  }\n",
      "}\n"
     ]
    },
    {
     "name": "stderr",
     "output_type": "stream",
     "text": [
      " 98%|█████████▊| 825/841 [35:24<00:31,  1.98s/it]"
     ]
    },
    {
     "name": "stdout",
     "output_type": "stream",
     "text": [
      "{\n",
      "  \"poste\": {\n",
      "    \"type_contrat\": \"stage\",\n",
      "    \"teletravail_possible\": false,\n",
      "    \"experience_pro_requise\": 1,\n",
      "    \"diplomes\": [\"Licence\"],\n",
      "    \"spe_diplomes\": [\"informatique\", \"DATA\"],\n",
      "    \"langues\": [null],\n",
      "    \"stack_technique\": [\"KPI\", \"BI\", \"veille technique\", \"prototypes\", \"développement\", \"collecte de données\", \"qualification des données\", \"stockage des données\", \"transformation des données\", \"publication des résultats\", \"pilotage de projets\", \"démarche agile\", \"efficience opérationnelle\"]\n",
      "  }\n",
      "}\n"
     ]
    },
    {
     "name": "stderr",
     "output_type": "stream",
     "text": [
      " 98%|█████████▊| 826/841 [35:26<00:30,  2.01s/it]"
     ]
    },
    {
     "name": "stdout",
     "output_type": "stream",
     "text": [
      "{\n",
      "  \"poste\": {\n",
      "    \"type_contrat\": \"CDI\",\n",
      "    \"teletravail_possible\": true,\n",
      "    \"experience_pro_requise\": 3,\n",
      "    \"diplomes\": [\"Master\"],\n",
      "    \"spe_diplomes\": [\"Computer Science\"],\n",
      "    \"langues\": [\"Francais\", \"Anglais\"],\n",
      "    \"stack_technique\": [\"Google Cloud\", \"Data stacks\", \"AI/ML\", \"Software development\"]\n",
      "  }\n",
      "}\n"
     ]
    },
    {
     "name": "stderr",
     "output_type": "stream",
     "text": [
      " 98%|█████████▊| 827/841 [35:28<00:28,  2.02s/it]"
     ]
    },
    {
     "name": "stdout",
     "output_type": "stream",
     "text": [
      "{\n",
      "  \"poste\": {\n",
      "    \"type_contrat\": \"CDI\",\n",
      "    \"teletravail_possible\": false,\n",
      "    \"experience_pro_requise\": null,\n",
      "    \"diplomes\": [\"Master\", \"autre\"],\n",
      "    \"spe_diplomes\": [\"bioinformatics\", \"data science\", \"applied mathematics\", \"biochemistry\"],\n",
      "    \"langues\": [\"Francais\", \"Anglais\", \"autre\"],\n",
      "    \"stack_technique\": [\"data analyses\", \"biological sciences\", \"molecular biology\", \"biochemistry\"]\n",
      "  }\n",
      "}\n"
     ]
    },
    {
     "name": "stderr",
     "output_type": "stream",
     "text": [
      " 98%|█████████▊| 828/841 [35:30<00:25,  2.00s/it]"
     ]
    },
    {
     "name": "stdout",
     "output_type": "stream",
     "text": [
      "{\n",
      "  \"poste\": {\n",
      "    \"type_contrat\": \"CDI\",\n",
      "    \"teletravail_possible\": true,\n",
      "    \"experience_pro_requise\": 3,\n",
      "    \"diplomes\": [\"Master\"],\n",
      "    \"spe_diplomes\": [\"informatique\"],\n",
      "    \"langues\": [\"Anglais\", \"Francais\"],\n",
      "    \"stack_technique\": [\"Python\", \"Scala\", \"Akka Stream\", \"AWS\", \"S3\", \"Lambda\", \"Kinesis\", \"Dynamo\", \"SageMaker\", \"ECS Fargate\", \"Github\", \"Jenkins\", \"Cloudwatch\", \"SonarQube\"]\n",
      "  }\n",
      "}\n"
     ]
    },
    {
     "name": "stderr",
     "output_type": "stream",
     "text": [
      " 99%|█████████▊| 829/841 [35:32<00:23,  1.95s/it]"
     ]
    },
    {
     "name": "stdout",
     "output_type": "stream",
     "text": [
      "{\n",
      "  \"poste\": {\n",
      "    \"type_contrat\": \"CDI\",\n",
      "    \"teletravail_possible\": true,\n",
      "    \"experience_pro_requise\": 3,\n",
      "    \"diplomes\": [\"Bac+3\"],\n",
      "    \"spe_diplomes\": [\"IT\", \"Engineering\"],\n",
      "    \"langues\": [\"Anglais\"],\n",
      "    \"stack_technique\": [\"API\", \"ETL Development\", \"Axway API Gateway\", \"Amplify Integration\", \"Talend\", \"Javascript\", \"Java\", \"Python\"]\n",
      "  }\n",
      "}\n"
     ]
    },
    {
     "name": "stderr",
     "output_type": "stream",
     "text": [
      " 99%|█████████▊| 830/841 [35:35<00:22,  2.05s/it]"
     ]
    },
    {
     "name": "stdout",
     "output_type": "stream",
     "text": [
      "{\n",
      "  \"poste\": {\n",
      "    \"type_contrat\": \"CDI\",\n",
      "    \"teletravail_possible\": true,\n",
      "    \"experience_pro_requise\": 2,\n",
      "    \"diplomes\": [\"Bac+5\"],\n",
      "    \"spe_diplomes\": null,\n",
      "    \"langues\": [\"Anglais\", \"Francais\", \"autre\"],\n",
      "    \"stack_technique\": [\"ETL\", \"Data Engineering\"]\n",
      "  }\n",
      "}\n"
     ]
    },
    {
     "name": "stderr",
     "output_type": "stream",
     "text": [
      " 99%|█████████▉| 831/841 [35:37<00:23,  2.31s/it]"
     ]
    },
    {
     "name": "stdout",
     "output_type": "stream",
     "text": [
      "{\n",
      "  \"poste\": {\n",
      "    \"type_contrat\": \"CDI\",\n",
      "    \"teletravail_possible\": true,\n",
      "    \"experience_pro_requise\": 3,\n",
      "    \"diplomes\": [\"Licence\", \"Master\", \"Doctorat\", \"Bac+3\", \"Bac+5\"],\n",
      "    \"spe_diplomes\": [],\n",
      "    \"langues\": [\"Anglais\"],\n",
      "    \"stack_technique\": [\"Python\", \"Golang\", \"Java\", \"JSON:API\"]\n",
      "  }\n",
      "}\n"
     ]
    },
    {
     "name": "stderr",
     "output_type": "stream",
     "text": [
      " 99%|█████████▉| 832/841 [35:40<00:22,  2.45s/it]"
     ]
    },
    {
     "name": "stdout",
     "output_type": "stream",
     "text": [
      "{\n",
      "  \"poste\": {\n",
      "    \"type_contrat\": \"CDI\",\n",
      "    \"teletravail_possible\": false,\n",
      "    \"experience_pro_requise\": 6,\n",
      "    \"diplomes\": [\"Master\", \"autre\"],\n",
      "    \"spe_diplomes\": [\"Scientifique\"],\n",
      "    \"langues\": [\"Anglais\", \"Francais\"],\n",
      "    \"stack_technique\": [\"Python\", \"Terraform\", \"API REST\", \"Infra/Réseaux\"]\n",
      "  }\n",
      "}\n"
     ]
    },
    {
     "name": "stderr",
     "output_type": "stream",
     "text": [
      " 99%|█████████▉| 833/841 [35:42<00:17,  2.24s/it]"
     ]
    },
    {
     "name": "stdout",
     "output_type": "stream",
     "text": [
      "{\n",
      "  \"poste\": {\n",
      "    \"type_contrat\": \"CDI\",\n",
      "    \"teletravail_possible\": false,\n",
      "    \"experience_pro_requise\": 5,\n",
      "    \"diplomes\": [\"Licence\", \"Master\", \"Doctorat\", \"pas de diplome\"],\n",
      "    \"spe_diplomes\": [\"Engineering\"],\n",
      "    \"langues\": [\"Anglais\"],\n",
      "    \"stack_technique\": [\"Leadership\", \"Project Management\", \"Problem Solving\"]\n",
      "  }\n",
      "}\n"
     ]
    },
    {
     "name": "stderr",
     "output_type": "stream",
     "text": [
      " 99%|█████████▉| 834/841 [35:44<00:14,  2.07s/it]"
     ]
    },
    {
     "name": "stdout",
     "output_type": "stream",
     "text": [
      "{\n",
      "  \"poste\": {\n",
      "    \"type_contrat\": \"CDI\",\n",
      "    \"teletravail_possible\": true,\n",
      "    \"experience_pro_requise\": 1,\n",
      "    \"diplomes\": [\"Master\"],\n",
      "    \"spe_diplomes\": [\"Génie Chimique\", \"Génie des procédés\"],\n",
      "    \"langues\": [\"Anglais\"],\n",
      "    \"stack_technique\": [\"Hysys\", \"Suite Office\"]\n",
      "  }\n",
      "}\n"
     ]
    },
    {
     "name": "stderr",
     "output_type": "stream",
     "text": [
      " 99%|█████████▉| 835/841 [35:45<00:11,  1.94s/it]"
     ]
    },
    {
     "name": "stdout",
     "output_type": "stream",
     "text": [
      "{\n",
      "  \"poste\": {\n",
      "    \"type_contrat\": \"CDI\",\n",
      "    \"teletravail_possible\": false,\n",
      "    \"experience_pro_requise\": 1,\n",
      "    \"diplomes\": [\"pas de diplome\"],\n",
      "    \"spe_diplomes\": [null],\n",
      "    \"langues\": [\"Anglais\", \"Francais\"],\n",
      "    \"stack_technique\": [\"Adobe Illustrator\", \"Adobe InDesign\"]\n",
      "  }\n",
      "}\n"
     ]
    },
    {
     "name": "stderr",
     "output_type": "stream",
     "text": [
      " 99%|█████████▉| 836/841 [35:49<00:12,  2.45s/it]"
     ]
    },
    {
     "name": "stdout",
     "output_type": "stream",
     "text": [
      "{\n",
      "  \"poste\": {\n",
      "    \"type_contrat\": \"CDI\",\n",
      "    \"teletravail_possible\": true,\n",
      "    \"experience_pro_requise\": 5,\n",
      "    \"diplomes\": [\"Bac+5\"],\n",
      "    \"spe_diplomes\": [\"Computer Science\"],\n",
      "    \"langues\": [\"Anglais\"],\n",
      "    \"stack_technique\": [\"AWS\", \"Azure\", \"GCP\", \"Terraform\", \"Cloud Formation\", \"K8s\", \"Github\", \"Jenkins\", \"Confluence\", \"Jira\", \"G-Suite\", \"Slack\", \"Datadog\", \"PagerDuty\", \"python\", \"powershell\", \"Bash\", \"Go\", \"Groovy\", \"Active Directory\", \"OKTA\", \"IAC\", \"Ansible\", \"Chef\", \"Salt\", \"Atlassian\", \"Jfrog Artifactory\", \"SAAS\", \"Sox\", \"CIS20\", \"SOC2\", \"ITAR\", \"FEDRAMP\"]\n",
      "  }\n",
      "}\n"
     ]
    },
    {
     "name": "stderr",
     "output_type": "stream",
     "text": [
      "100%|█████████▉| 837/841 [35:51<00:08,  2.24s/it]"
     ]
    },
    {
     "name": "stdout",
     "output_type": "stream",
     "text": [
      "{\n",
      "  \"poste\": {\n",
      "    \"type_contrat\": \"CDI\",\n",
      "    \"teletravail_possible\": true,\n",
      "    \"experience_pro_requise\": 1,\n",
      "    \"diplomes\": [\"Master\"],\n",
      "    \"spe_diplomes\": [\"Mechanical Engineering\", \"Chemical Engineering\", \"Aerospace Engineering\", \"Civil Engineering\"],\n",
      "    \"langues\": [\"Anglais\"],\n",
      "    \"stack_technique\": [\"Ansys Fluent\", \"Ansys Rocky\", \"CAD\", \"PLM\"]\n",
      "  }\n",
      "}\n"
     ]
    },
    {
     "name": "stderr",
     "output_type": "stream",
     "text": [
      "100%|█████████▉| 838/841 [35:53<00:06,  2.16s/it]"
     ]
    },
    {
     "name": "stdout",
     "output_type": "stream",
     "text": [
      "{\n",
      "  \"poste\": {\n",
      "    \"type_contrat\": \"CDI\",\n",
      "    \"teletravail_possible\": true,\n",
      "    \"experience_pro_requise\": 3,\n",
      "    \"diplomes\": [\"Master\", \"Doctorat\"],\n",
      "    \"spe_diplomes\": [\"machine learning\", \"computer science\", \"applied mathematics\"],\n",
      "    \"langues\": [\"Anglais\"],\n",
      "    \"stack_technique\": [\"Python\", \"PyTorch\", \"TensorFlow\", \"Rust\"]\n",
      "  }\n",
      "}\n"
     ]
    },
    {
     "name": "stderr",
     "output_type": "stream",
     "text": [
      "100%|█████████▉| 839/841 [35:54<00:04,  2.03s/it]"
     ]
    },
    {
     "name": "stdout",
     "output_type": "stream",
     "text": [
      "{\n",
      "  \"poste\": {\n",
      "    \"type_contrat\": \"CDI\",\n",
      "    \"teletravail_possible\": false,\n",
      "    \"experience_pro_requise\": 1,\n",
      "    \"diplomes\": [\"Master\", null],\n",
      "    \"spe_diplomes\": [\"Ingénierie\", null],\n",
      "    \"langues\": [\"Anglais\", \"Francais\", null],\n",
      "    \"stack_technique\": [\"Python\", \"Tensorflow\", \"Unity\", \"Pytorch\", \"Google Cloud\"]\n",
      "  }\n",
      "}\n"
     ]
    },
    {
     "name": "stderr",
     "output_type": "stream",
     "text": [
      "100%|█████████▉| 840/841 [35:56<00:01,  1.94s/it]"
     ]
    },
    {
     "name": "stdout",
     "output_type": "stream",
     "text": [
      "{\n",
      "  \"poste\": {\n",
      "    \"type_contrat\": \"CDI\",\n",
      "    \"teletravail_possible\": false,\n",
      "    \"experience_pro_requise\": 5,\n",
      "    \"diplomes\": [\"pas de diplome\"],\n",
      "    \"spe_diplomes\": [null],\n",
      "    \"langues\": [\"Anglais\", \"Francais\"],\n",
      "    \"stack_technique\": [\"Machine Learning\", \"AI\", \"Data Science\", \"Agile methodologies\"]\n",
      "  }\n",
      "}\n"
     ]
    },
    {
     "name": "stderr",
     "output_type": "stream",
     "text": [
      "100%|██████████| 841/841 [35:58<00:00,  2.57s/it]"
     ]
    },
    {
     "name": "stdout",
     "output_type": "stream",
     "text": [
      "{\n",
      "  \"poste\": {\n",
      "    \"type_contrat\": \"CDI\",\n",
      "    \"teletravail_possible\": true,\n",
      "    \"experience_pro_requise\": 7,\n",
      "    \"diplomes\": [\"Doctorat\"],\n",
      "    \"spe_diplomes\": [\"Data Science\", \"Intelligence Artificielle\"],\n",
      "    \"langues\": [\"Francais\", \"Anglais\"],\n",
      "    \"stack_technique\": [\"Python\", \"R\", \"SQL\", \"pySpark\", \"Spark\", \"NoSQL\"]\n",
      "  }\n",
      "}\n"
     ]
    },
    {
     "name": "stderr",
     "output_type": "stream",
     "text": [
      "\n"
     ]
    }
   ],
   "source": [
    "openai_outputs = [request_openai(instructions=instructions, input=datum, json_output=True, print_output=True, model='gpt-3.5-turbo-1106') for datum in tqdm(data_to_request)]"
   ]
  },
  {
   "cell_type": "markdown",
   "metadata": {},
   "source": [
    "### jsonschema validity"
   ]
  },
  {
   "cell_type": "code",
   "execution_count": 87,
   "metadata": {},
   "outputs": [],
   "source": [
    "validity_list = [validate_jsonschema(schema=json_schema, json_string=output) for output in openai_outputs]"
   ]
  },
  {
   "cell_type": "code",
   "execution_count": 88,
   "metadata": {},
   "outputs": [
    {
     "name": "stdout",
     "output_type": "stream",
     "text": [
      "(841, 4)\n"
     ]
    }
   ],
   "source": [
    "df = pd.DataFrame(data=[ids, data_to_request, openai_outputs, validity_list]).T.rename(columns={0:'id', 1:f'description', 2:f'{key}', 3:'jsonschema_validity'})\n",
    "\n",
    "print(df.shape) # 841, 4"
   ]
  },
  {
   "cell_type": "code",
   "execution_count": 89,
   "metadata": {},
   "outputs": [],
   "source": [
    "file_path = f'../../data/fine-tuning_data/{key}_RAW_ft_data.csv'\n",
    "df.to_csv(file_path, header=True, index=False)"
   ]
  },
  {
   "cell_type": "code",
   "execution_count": 100,
   "metadata": {},
   "outputs": [],
   "source": [
    "\n",
    "# path = \"../data/fine-tuning_data/json_finetuning_data_alpaca_format.jsonl\"\n",
    "# ft_data = []\n",
    "# with open(path, \"r\") as f:\n",
    "#     for line in f:\n",
    "#         json_str = json.loads(line)\n",
    "#         json_str['instruction'] = instructions\n",
    "#         ft_data.append(json_str)\n",
    "        \n",
    "# ft_data\n",
    "#     for instruction, (id, input_text, output_json_string) in list(zip([instructions]*len(filtered2), filtered2)):\n",
    "\n",
    "#             alpaca_format = {\n",
    "                \n",
    "#                 \"instruction\": instruction,  # Truncating prompt for brevity\n",
    "#                 \"input\": input_text,    # Truncating input for brevity\n",
    "#                 \"output\": output_json_string #str(output).replace(\"'\", '\"')\n",
    "#             }\n",
    "            \n",
    "#             print(alpaca_format)\n",
    "            \n",
    "#             # Serialize the entire object to a JSON string and append a newline\n",
    "#             jsonl_string = json.dumps(alpaca_format, ensure_ascii=False) + '\\n'\n",
    "            \n",
    "#             # Write the JSON string directly to the file\n",
    "#             f.write(jsonl_string)\n",
    "\n",
    "# read and split\n",
    "# tiger_llama =  pd.read_json('../data/fine-tuning_data/extracted_salaries_ft_data.jsonl', lines=True)\n",
    "# train_tiger, test_tiger = train_test_split(\n",
    "#     tiger_llama, test_size=0.15, random_state=42, shuffle=True\n",
    "# )\n",
    "\n",
    "# # push to hub\n",
    "# ft_data_df_hf = Dataset.from_pandas(ft_data_df)\n",
    "# ft_data_df_hf\n",
    "# ds = DatasetDict()\n",
    "# ds[\"train\"] = train_tiger\n",
    "# ds[\"test\"] = test_tiger\n",
    "\n",
    "# dataset_name = \"axel-rda/salary_extraction_ft_dataset\"\n",
    "# ds.push_to_hub(dataset_name, branch=\"main\", private=True, )"
   ]
  },
  {
   "cell_type": "code",
   "execution_count": 44,
   "metadata": {},
   "outputs": [],
   "source": [
    "# from jobsearch.ml_logic.lang_classifier import detect_language\n",
    "# from sklearn.metrics import classification_report, accuracy_score\n",
    "# from datasets import load_dataset\n",
    "\n",
    "# ### evaluate lang detection model accuracy\n",
    "\n",
    "# # dataset = load_dataset(\"papluca/language-identification\", split=\"test\")\n",
    "\n",
    "# # test_data = dataset['text'][0:100]\n",
    "\n",
    "# true_labels = df_lang\n",
    "# predicted_labels = detect_language(description_list.tolist())\n",
    "\n",
    "# print(classification_report(true_labels, predicted_labels))\n",
    "# print(f\"Accuracy: {accuracy_score(true_labels, predicted_labels)}\")"
   ]
  }
 ],
 "metadata": {
  "kernelspec": {
   "display_name": "ggjobsearch",
   "language": "python",
   "name": "python3"
  },
  "language_info": {
   "codemirror_mode": {
    "name": "ipython",
    "version": 3
   },
   "file_extension": ".py",
   "mimetype": "text/x-python",
   "name": "python",
   "nbconvert_exporter": "python",
   "pygments_lexer": "ipython3",
   "version": "3.11.5"
  }
 },
 "nbformat": 4,
 "nbformat_minor": 2
}
