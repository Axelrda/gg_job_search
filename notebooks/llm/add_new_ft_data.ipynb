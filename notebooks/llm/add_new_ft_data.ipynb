{
 "cells": [
  {
   "cell_type": "code",
   "execution_count": 61,
   "metadata": {},
   "outputs": [],
   "source": [
    "from openai import OpenAI\n",
    "from jobsearch.database import fetch_data_from_postgresql\n",
    "from jobsearch.params import OPENAI_API_KEY\n",
    "from tqdm import tqdm\n",
    "from jsonschema import validate\n",
    "\n",
    "from sklearn.model_selection import train_test_split\n",
    "from datasets import Dataset, DatasetDict, load_dataset, concatenate_datasets\n",
    "\n",
    "import numpy as np\n",
    "import pandas as pd\n",
    "import json\n",
    "\n",
    "# pd.options.display.max_colwidth = 100\n",
    "# pd.options.display.max_rows = 20"
   ]
  },
  {
   "cell_type": "code",
   "execution_count": 62,
   "metadata": {},
   "outputs": [],
   "source": [
    "# Load new ft data\n",
    "local_ft_data = pd.read_csv('../../data/fine-tuning_data/salary_ft_data_2.csv')\n",
    "\n",
    "# open prompt instructions\n",
    "with open(\"../../data/prompts/salary_extraction_prompt_instructions_only.txt\", \"r\") as f:\n",
    "    instructions = f.read()\n"
   ]
  },
  {
   "cell_type": "markdown",
   "metadata": {},
   "source": [
    "### PROCESS DATA"
   ]
  },
  {
   "cell_type": "code",
   "execution_count": 107,
   "metadata": {},
   "outputs": [],
   "source": [
    "# pd.options.display.max_colwidth = 100\n",
    "\n",
    "# # [json.loads(salary) for salary in local_ft_data['salary'] ]\n",
    "# # json.loads(local_ft_data['salary'][0])['salaire'][0]\n",
    "\n",
    "# # local_ft_data['salary'] = local_ft_data['salary'].apply(lambda x :json.loads(x))\n",
    "# # [salary for salary in local_ft_data.salary if salary['salaire']]\n",
    "\n",
    "# non_null_outputs = [(id, sal) for id, sal in enumerate(local_ft_data.salary) if sal['salaire'][0]['montant_min'] or sal['salaire'][0]['montant_max']]\n",
    "\n",
    "# duplicate_record_ids = set([123, 231])\n",
    "# non_null_ids = [id for id, sal in non_null_outputs]\n",
    "# ids = list(set(non_null_ids) - duplicate_record_ids)\n",
    "\n",
    "# non_null_df = local_ft_data.loc[ids]\n"
   ]
  },
  {
   "cell_type": "markdown",
   "metadata": {},
   "source": [
    "### CONVERT FT DATA TO ALPACA FORMAT"
   ]
  },
  {
   "cell_type": "code",
   "execution_count": 134,
   "metadata": {},
   "outputs": [],
   "source": [
    "with open(\"../../data/fine-tuning_data/salary_ft_data.jsonl\", \"a\") as f:\n",
    "    for row in non_null_df.iterrows():\n",
    "        \n",
    "        salary_dict = row[1]['salary']\n",
    "        salary_json_str = json.dumps(salary_dict)\n",
    "        \n",
    "        description = row[1]['description']\n",
    "        \n",
    "        # Create a dictionary\n",
    "        formatted_dict = {'instruction': instructions, 'input': description, 'output': salary_json_str}\n",
    "        \n",
    "        json_str = json.dumps(formatted_dict, ensure_ascii=False) + '\\n'\n",
    "        \n",
    "        f.write(json_str)\n",
    "        \n",
    "        # print(json_str)\n"
   ]
  },
  {
   "cell_type": "markdown",
   "metadata": {},
   "source": [
    "### PUSH DATASET"
   ]
  },
  {
   "cell_type": "code",
   "execution_count": 145,
   "metadata": {},
   "outputs": [
    {
     "name": "stderr",
     "output_type": "stream",
     "text": [
      "/home/axelus/anaconda3/envs/ggjobsearch/lib/python3.11/site-packages/datasets/dataset_dict.py:1681: FutureWarning: 'branch' was deprecated in favor of 'revision' in version 2.15.0 and will be removed in 3.0.0.\n",
      "You can remove this warning by passing 'revision=main' instead.\n",
      "  warnings.warn(\n"
     ]
    },
    {
     "data": {
      "application/vnd.jupyter.widget-view+json": {
       "model_id": "25dadc5e22014d4eb0c972da3ad2a100",
       "version_major": 2,
       "version_minor": 0
      },
      "text/plain": [
       "Uploading the dataset shards:   0%|          | 0/1 [00:00<?, ?it/s]"
      ]
     },
     "metadata": {},
     "output_type": "display_data"
    },
    {
     "data": {
      "application/vnd.jupyter.widget-view+json": {
       "model_id": "b887cd77a55f402590cfcffd1808d303",
       "version_major": 2,
       "version_minor": 0
      },
      "text/plain": [
       "Creating parquet from Arrow format:   0%|          | 0/1 [00:00<?, ?ba/s]"
      ]
     },
     "metadata": {},
     "output_type": "display_data"
    },
    {
     "data": {
      "application/vnd.jupyter.widget-view+json": {
       "model_id": "a21d9033f5a2499aa8bfff76460b7862",
       "version_major": 2,
       "version_minor": 0
      },
      "text/plain": [
       "Uploading the dataset shards:   0%|          | 0/1 [00:00<?, ?it/s]"
      ]
     },
     "metadata": {},
     "output_type": "display_data"
    },
    {
     "data": {
      "application/vnd.jupyter.widget-view+json": {
       "model_id": "454ef6410ce948f6879a88e492010964",
       "version_major": 2,
       "version_minor": 0
      },
      "text/plain": [
       "Creating parquet from Arrow format:   0%|          | 0/1 [00:00<?, ?ba/s]"
      ]
     },
     "metadata": {},
     "output_type": "display_data"
    },
    {
     "data": {
      "application/vnd.jupyter.widget-view+json": {
       "model_id": "4cab246eedf2485baa311fae4e0ea0c5",
       "version_major": 2,
       "version_minor": 0
      },
      "text/plain": [
       "README.md:   0%|          | 0.00/489 [00:00<?, ?B/s]"
      ]
     },
     "metadata": {},
     "output_type": "display_data"
    },
    {
     "data": {
      "text/plain": [
       "CommitInfo(commit_url='https://huggingface.co/datasets/axel-rda/salary_extraction_ft_dataset/commit/95d9f01d40f5ff79af790ea2471c750fd5194fe5', commit_message='Upload dataset', commit_description='', oid='95d9f01d40f5ff79af790ea2471c750fd5194fe5', pr_url=None, pr_revision=None, pr_num=None)"
      ]
     },
     "execution_count": 145,
     "metadata": {},
     "output_type": "execute_result"
    }
   ],
   "source": [
    "all_ft_data = pd.read_json('../../data/fine-tuning_data/salary_ft_data.jsonl', lines=True)\n",
    "\n",
    "# read and split\n",
    "train_df, test_df = train_test_split(all_ft_data, test_size=0.15, random_state=42, shuffle=True)\n",
    "\n",
    "# push to hub\n",
    "train_df = Dataset.from_pandas(train_df)\n",
    "test_df = Dataset.from_pandas(test_df)\n",
    "\n",
    "ds = DatasetDict()\n",
    "ds[\"train\"] = train_df\n",
    "ds[\"test\"] = test_df\n",
    "\n",
    "dataset_name = \"axel-rda/salary_extraction_ft_dataset\"\n",
    "ds.push_to_hub(dataset_name, branch=\"main\", private=True)"
   ]
  }
 ],
 "metadata": {
  "kernelspec": {
   "display_name": "ggjobsearch",
   "language": "python",
   "name": "python3"
  },
  "language_info": {
   "codemirror_mode": {
    "name": "ipython",
    "version": 3
   },
   "file_extension": ".py",
   "mimetype": "text/x-python",
   "name": "python",
   "nbconvert_exporter": "python",
   "pygments_lexer": "ipython3",
   "version": "3.11.5"
  }
 },
 "nbformat": 4,
 "nbformat_minor": 2
}
