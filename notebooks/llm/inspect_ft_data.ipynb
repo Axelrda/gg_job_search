{
 "cells": [
  {
   "cell_type": "code",
   "execution_count": 2,
   "metadata": {},
   "outputs": [],
   "source": [
    "import ipywidgets as widgets\n",
    "import pandas as pd\n",
    "from IPython.display import display, HTML\n",
    "\n",
    "from jobsearch.utils import validate_jsonschema\n",
    "from jobsearch.database import fetch_data_from_postgresql\n",
    "import pandas as pd\n",
    "\n",
    "LOCAL_SAVE_PATH = '../../data/fine-tuning_data/salary_ft_data_2.csv'\n"
   ]
  },
  {
   "cell_type": "code",
   "execution_count": 8,
   "metadata": {},
   "outputs": [],
   "source": [
    "data = pd.read_csv('../../data/fine-tuning_data/poste_RAW_ft_data.csv')"
   ]
  },
  {
   "cell_type": "code",
   "execution_count": 9,
   "metadata": {},
   "outputs": [
    {
     "data": {
      "text/html": [
       "<div>\n",
       "<style scoped>\n",
       "    .dataframe tbody tr th:only-of-type {\n",
       "        vertical-align: middle;\n",
       "    }\n",
       "\n",
       "    .dataframe tbody tr th {\n",
       "        vertical-align: top;\n",
       "    }\n",
       "\n",
       "    .dataframe thead th {\n",
       "        text-align: right;\n",
       "    }\n",
       "</style>\n",
       "<table border=\"1\" class=\"dataframe\">\n",
       "  <thead>\n",
       "    <tr style=\"text-align: right;\">\n",
       "      <th></th>\n",
       "      <th>id</th>\n",
       "      <th>description</th>\n",
       "      <th>poste</th>\n",
       "      <th>jsonschema_validity</th>\n",
       "    </tr>\n",
       "  </thead>\n",
       "  <tbody>\n",
       "    <tr>\n",
       "      <th>0</th>\n",
       "      <td>50166</td>\n",
       "      <td>Type de poste : CDI Salaire : En fonction de l...</td>\n",
       "      <td>{\\n  \"poste\": {\\n    \"type_contrat\": \"CDI\",\\n ...</td>\n",
       "      <td>'{\\n  \"poste\": {\\n    \"type\": \"object\",\\n    \"...</td>\n",
       "    </tr>\n",
       "    <tr>\n",
       "      <th>1</th>\n",
       "      <td>50216</td>\n",
       "      <td>Le Groupe DEMETER est un cabinet de recrutemen...</td>\n",
       "      <td>{\\n  \"poste\": {\\n    \"type_contrat\": \"CDI\",\\n ...</td>\n",
       "      <td>'{\\n  \"poste\": {\\n    \"type\": \"object\",\\n    \"...</td>\n",
       "    </tr>\n",
       "    <tr>\n",
       "      <th>2</th>\n",
       "      <td>50320</td>\n",
       "      <td>Critères de l'offre\\n• Data Engineer (H/F)\\n• ...</td>\n",
       "      <td>{\\n  \"poste\": {\\n    \"type_contrat\": \"CDI\",\\n ...</td>\n",
       "      <td>'{\\n  \"poste\": {\\n    \"type\": \"object\",\\n    \"...</td>\n",
       "    </tr>\n",
       "    <tr>\n",
       "      <th>3</th>\n",
       "      <td>50367</td>\n",
       "      <td>Connecting talent to the Energy industry. Cons...</td>\n",
       "      <td>{\\n  \"poste\": {\\n    \"type_contrat\": \"freelanc...</td>\n",
       "      <td>'{\\n  \"poste\": {\\n    \"type\": \"object\",\\n    \"...</td>\n",
       "    </tr>\n",
       "    <tr>\n",
       "      <th>4</th>\n",
       "      <td>50393</td>\n",
       "      <td>Company Description Who are we ? MANGOPAY’s vi...</td>\n",
       "      <td>{\\n  \"poste\": {\\n    \"type_contrat\": \"CDI\",\\n ...</td>\n",
       "      <td>'{\\n  \"poste\": {\\n    \"type\": \"object\",\\n    \"...</td>\n",
       "    </tr>\n",
       "  </tbody>\n",
       "</table>\n",
       "</div>"
      ],
      "text/plain": [
       "      id                                        description  \\\n",
       "0  50166  Type de poste : CDI Salaire : En fonction de l...   \n",
       "1  50216  Le Groupe DEMETER est un cabinet de recrutemen...   \n",
       "2  50320  Critères de l'offre\\n• Data Engineer (H/F)\\n• ...   \n",
       "3  50367  Connecting talent to the Energy industry. Cons...   \n",
       "4  50393  Company Description Who are we ? MANGOPAY’s vi...   \n",
       "\n",
       "                                               poste  \\\n",
       "0  {\\n  \"poste\": {\\n    \"type_contrat\": \"CDI\",\\n ...   \n",
       "1  {\\n  \"poste\": {\\n    \"type_contrat\": \"CDI\",\\n ...   \n",
       "2  {\\n  \"poste\": {\\n    \"type_contrat\": \"CDI\",\\n ...   \n",
       "3  {\\n  \"poste\": {\\n    \"type_contrat\": \"freelanc...   \n",
       "4  {\\n  \"poste\": {\\n    \"type_contrat\": \"CDI\",\\n ...   \n",
       "\n",
       "                                 jsonschema_validity  \n",
       "0  '{\\n  \"poste\": {\\n    \"type\": \"object\",\\n    \"...  \n",
       "1  '{\\n  \"poste\": {\\n    \"type\": \"object\",\\n    \"...  \n",
       "2  '{\\n  \"poste\": {\\n    \"type\": \"object\",\\n    \"...  \n",
       "3  '{\\n  \"poste\": {\\n    \"type\": \"object\",\\n    \"...  \n",
       "4  '{\\n  \"poste\": {\\n    \"type\": \"object\",\\n    \"...  "
      ]
     },
     "execution_count": 9,
     "metadata": {},
     "output_type": "execute_result"
    }
   ],
   "source": [
    "df = data.copy()\n",
    "df.head()"
   ]
  },
  {
   "cell_type": "code",
   "execution_count": 10,
   "metadata": {},
   "outputs": [
    {
     "data": {
      "text/html": [
       "\n",
       "<style>\n",
       "    .widget-textarea { width: 100% !important; }\n",
       "    .centered { display: flex; justify-content: center; }\n",
       "    .widget-label { min-width: 20ex; }\n",
       "    .hbox { align-items: center; }\n",
       "</style>\n"
      ],
      "text/plain": [
       "<IPython.core.display.HTML object>"
      ]
     },
     "metadata": {},
     "output_type": "display_data"
    },
    {
     "data": {
      "application/vnd.jupyter.widget-view+json": {
       "model_id": "9a80fe4a2c194cec84a6094ec8212549",
       "version_major": 2,
       "version_minor": 0
      },
      "text/plain": [
       "VBox(children=(HBox(children=(Dropdown(options=(0, 1, 2, 3, 4, 5, 6, 7, 8, 9, 10, 11, 12, 13, 14, 15, 16, 17, …"
      ]
     },
     "execution_count": 10,
     "metadata": {},
     "output_type": "execute_result"
    }
   ],
   "source": [
    "# Apply custom CSS to the notebook for widget styling\n",
    "display(HTML(\"\"\"\n",
    "<style>\n",
    "    .widget-textarea { width: 100% !important; }\n",
    "    .centered { display: flex; justify-content: center; }\n",
    "    .widget-label { min-width: 20ex; }\n",
    "    .hbox { align-items: center; }\n",
    "</style>\n",
    "\"\"\"))\n",
    "\n",
    "\n",
    "current_index = 0  # Initialize a variable to track the current record index\n",
    "\n",
    "# Function to save changes to the dataframe\n",
    "def save_changes(b):\n",
    "    # Update the dataframe with changes from the text areas\n",
    "    df.at[current_index, 'description'] = description_text.value\n",
    "    df.at[current_index, 'poste'] = salary_text.value\n",
    "    \n",
    "    df.to_csv(LOCAL_SAVE_PATH, index=False)\n",
    "    \n",
    "    with output:\n",
    "        output.clear_output()\n",
    "        print(\"Changes saved.\")\n",
    "\n",
    "# Function to load a new record into the text areas\n",
    "def load_record(index):\n",
    "    global current_index\n",
    "    \n",
    "    current_index = index\n",
    "    description_text.value = df.at[current_index, 'description']\n",
    "    salary_text.value = df.at[current_index, 'poste']\n",
    "\n",
    "# Update record index and load a new record on button click\n",
    "def update_record(change):\n",
    "    global current_index\n",
    "    \n",
    "    # Save the current record before moving to the next or previous one\n",
    "    save_changes(None)  # Passing None because we don't use the button argument\n",
    "    \n",
    "    # Move to the next or previous record if possible\n",
    "    if change == 'next' and current_index < len(df) - 1:\n",
    "        current_index += 1\n",
    "    elif change == 'prev' and current_index > 0:\n",
    "        current_index -= 1\n",
    "    record_dropdown.value = current_index  # This will update the dropdown value\n",
    "    load_record(current_index)  # Explicitly call the load record\n",
    "\n",
    "# Create text areas for the description and salary with a larger fixed height\n",
    "description_text = widgets.Textarea(value='', layout=widgets.Layout(width='auto', height='1000px')) # Adjust the height as needed\n",
    "salary_text = widgets.Textarea(value='', layout=widgets.Layout(width='auto', height='1000px')) # Adjust the height as needed\n",
    "\n",
    "# Create a button to save changes and assign the function to it\n",
    "save_button = widgets.Button(description=\"Save Changes\")\n",
    "save_button.on_click(save_changes)\n",
    "\n",
    "# Create navigation buttons for previous and next records\n",
    "prev_button = widgets.Button(description='Previous')\n",
    "next_button = widgets.Button(description='Next')\n",
    "prev_button.on_click(lambda b: update_record('prev'))\n",
    "next_button.on_click(lambda b: update_record('next'))\n",
    "\n",
    "# Create a dropdown to navigate records\n",
    "record_dropdown = widgets.Dropdown(options=list(df.index), value=0)\n",
    "record_dropdown.observe(lambda change: load_record(change['new']), names='value')\n",
    "\n",
    "# Create an output widget to display messages\n",
    "output = widgets.Output()\n",
    "\n",
    "# Arrange the widgets with proper styling\n",
    "navigation_buttons = widgets.HBox([prev_button, next_button], layout=widgets.Layout(justify_content='center'))\n",
    "selection_and_save = widgets.HBox([record_dropdown, save_button], layout=widgets.Layout(justify_content='center'))\n",
    "display_widgets = widgets.HBox([description_text, salary_text], layout=widgets.Layout(justify_content='center'))\n",
    "messages = widgets.HBox([output], layout=widgets.Layout(justify_content='center'))\n",
    "\n",
    "# Load the first record by default\n",
    "load_record(current_index)\n",
    "\n",
    "# Combine all the widgets into a VBox to display them vertically\n",
    "widgets.VBox([selection_and_save, display_widgets, navigation_buttons, messages])\n",
    "            "
   ]
  }
 ],
 "metadata": {
  "kernelspec": {
   "display_name": "ggjobsearch",
   "language": "python",
   "name": "python3"
  },
  "language_info": {
   "codemirror_mode": {
    "name": "ipython",
    "version": 3
   },
   "file_extension": ".py",
   "mimetype": "text/x-python",
   "name": "python",
   "nbconvert_exporter": "python",
   "pygments_lexer": "ipython3",
   "version": "3.11.5"
  }
 },
 "nbformat": 4,
 "nbformat_minor": 2
}
