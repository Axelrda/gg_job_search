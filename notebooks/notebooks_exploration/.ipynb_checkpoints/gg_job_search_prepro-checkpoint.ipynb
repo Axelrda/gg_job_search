{
 "cells": [
  {
   "cell_type": "markdown",
   "id": "16b0e086",
   "metadata": {
    "canvas": {
     "comments": [],
     "componentType": "CodeCell",
     "copiedOriginId": null,
     "diskcache": false,
     "headerColor": "none",
     "id": "3ba96d83-40fb-44da-afdf-a8b407c9453c",
     "isComponent": false,
     "name": "",
     "parents": []
    },
    "tags": []
   },
   "source": [
    "# Preparation of job postings for analysis "
   ]
  },
  {
   "cell_type": "markdown",
   "id": "81e6147d",
   "metadata": {
    "canvas": {
     "comments": [],
     "componentType": "CodeCell",
     "copiedOriginId": null,
     "diskcache": false,
     "headerColor": "none",
     "id": "50200be7-91b2-4942-80b5-4254f4430d9f",
     "isComponent": false,
     "name": "",
     "parents": []
    }
   },
   "source": [
    "In this notebook, we'll be preparing data for analysis in a project focused on predicting salaries from job postings. We'll be working with a dataset of scraped job postings from Google Job search results. \n",
    "\n",
    "The goal of this notebook is to clean and transform the data so that it is ready for modeling and further analysis."
   ]
  },
  {
   "cell_type": "markdown",
   "id": "0abe775b",
   "metadata": {
    "canvas": {
     "comments": [],
     "componentType": "CodeCell",
     "copiedOriginId": null,
     "diskcache": false,
     "headerColor": "none",
     "id": "cb3d5e4f-59d2-4369-8126-042f7044a6af",
     "isComponent": false,
     "name": "",
     "parents": []
    }
   },
   "source": [
    "## Load libraries"
   ]
  },
  {
   "cell_type": "code",
   "execution_count": 3,
   "id": "9487d252",
   "metadata": {
    "canvas": {
     "comments": [],
     "componentType": "CodeCell",
     "copiedOriginId": null,
     "diskcache": false,
     "headerColor": "none",
     "id": "2a68fb3e-6a83-4da6-b9c7-4041a91b3a91",
     "isComponent": false,
     "name": "",
     "parents": []
    },
    "tags": []
   },
   "outputs": [],
   "source": [
    "import pandas as pd\n",
    "import numpy as np\n",
    "import matplotlib.pyplot as plt\n",
    "import re\n",
    "\n",
    "# libraries used for tokenization\n",
    "from itertools import chain\n",
    "from collections import Counter\n",
    "from nltk.tokenize import sent_tokenize, word_tokenize, MWETokenizer\n",
    "\n",
    "# Libraries used to remove similar job description based on cosine similarity \n",
    "from sklearn.feature_extraction.text import CountVectorizer\n",
    "from sklearn.metrics.pairwise import cosine_similarity\n",
    "\n",
    "# libraries used for text normalization\n",
    "import string\n",
    "\n",
    "import nltk\n",
    "from nltk.corpus import stopwords\n",
    "from nltk.util import ngrams\n",
    "from nltk import FreqDist\n",
    "\n",
    "# lemmatization w/ spacy\n",
    "import spacy\n",
    "from spacy.symbols import ORTH, LEMMA\n",
    "from spacy import displacy\n",
    "\n",
    "from wordcloud import WordCloud\n",
    "\n",
    "# use to get USdollar / euro exchange rate from exchange rate API\n",
    "import requests\n",
    "\n",
    "import unicodedata\n",
    "\n",
    "\n",
    "# import my customs functions\n",
    "from preprocessing import preprocess as pp"
   ]
  },
  {
   "cell_type": "markdown",
   "id": "5dd10655",
   "metadata": {
    "canvas": {
     "comments": [],
     "componentType": "CodeCell",
     "copiedOriginId": null,
     "diskcache": false,
     "headerColor": "none",
     "id": "f812b570-77bc-4fec-8d39-f57ea0ffcb31",
     "isComponent": false,
     "name": "",
     "parents": []
    }
   },
   "source": [
    "## Load data"
   ]
  },
  {
   "cell_type": "code",
   "execution_count": 2,
   "id": "ced546c5",
   "metadata": {
    "canvas": {
     "comments": [],
     "componentType": "CodeCell",
     "copiedOriginId": null,
     "diskcache": false,
     "headerColor": "none",
     "id": "d147cfb5-c20c-4316-b77e-7f72f2839663",
     "isComponent": false,
     "name": "",
     "parents": []
    }
   },
   "outputs": [
    {
     "data": {
      "text/html": [
       "<div>\n",
       "<style scoped>\n",
       "    .dataframe tbody tr th:only-of-type {\n",
       "        vertical-align: middle;\n",
       "    }\n",
       "\n",
       "    .dataframe tbody tr th {\n",
       "        vertical-align: top;\n",
       "    }\n",
       "\n",
       "    .dataframe thead th {\n",
       "        text-align: right;\n",
       "    }\n",
       "</style>\n",
       "<table border=\"1\" class=\"dataframe\">\n",
       "  <thead>\n",
       "    <tr style=\"text-align: right;\">\n",
       "      <th></th>\n",
       "      <th>Unnamed: 0</th>\n",
       "      <th>title</th>\n",
       "      <th>company_name</th>\n",
       "      <th>location</th>\n",
       "      <th>via</th>\n",
       "      <th>description</th>\n",
       "      <th>job_highlights</th>\n",
       "      <th>related_links</th>\n",
       "      <th>thumbnail</th>\n",
       "      <th>extensions</th>\n",
       "      <th>job_id</th>\n",
       "      <th>posted_at</th>\n",
       "      <th>schedule_type</th>\n",
       "      <th>date_time</th>\n",
       "      <th>search_query</th>\n",
       "      <th>Unnamed: 0.1</th>\n",
       "    </tr>\n",
       "  </thead>\n",
       "  <tbody>\n",
       "    <tr>\n",
       "      <th>0</th>\n",
       "      <td>0</td>\n",
       "      <td>Data Scientist Lead H/F</td>\n",
       "      <td>Fifty-Five</td>\n",
       "      <td>Paris</td>\n",
       "      <td>via HelloWork</td>\n",
       "      <td>Fifty-Five recherche …\\n\\nDescription\\nData Sc...</td>\n",
       "      <td>[{'items': [\"Fifty-Five recherche …\\n\\nDescrip...</td>\n",
       "      <td>[{'link': 'https://www.google.fr/search?gl=fr&amp;...</td>\n",
       "      <td>https://encrypted-tbn0.gstatic.com/images?q=tb...</td>\n",
       "      <td>['il y a 16 heures', 'À plein temps']</td>\n",
       "      <td>eyJqb2JfdGl0bGUiOiJEYXRhIFNjaWVudGlzdCBMZWFkIE...</td>\n",
       "      <td>il y a 16 heures</td>\n",
       "      <td>À plein temps</td>\n",
       "      <td>2023-02-17 11:50:44.355114</td>\n",
       "      <td>data engineer</td>\n",
       "      <td>NaN</td>\n",
       "    </tr>\n",
       "    <tr>\n",
       "      <th>1</th>\n",
       "      <td>1</td>\n",
       "      <td>DATA SCIENTIST (IT) / Freelance</td>\n",
       "      <td>Société Free-Work</td>\n",
       "      <td>Gennevilliers</td>\n",
       "      <td>via LinkedIn</td>\n",
       "      <td>Contexte : Dans le cadre de plusieurs projets ...</td>\n",
       "      <td>[{'items': ['Contexte : Dans le cadre de plusi...</td>\n",
       "      <td>[{'link': 'https://www.google.fr/search?gl=fr&amp;...</td>\n",
       "      <td>https://encrypted-tbn0.gstatic.com/images?q=tb...</td>\n",
       "      <td>['il y a 17 heures', 'À plein temps']</td>\n",
       "      <td>eyJqb2JfdGl0bGUiOiJEQVRBIFNDSUVOVElTVCAoSVQpIC...</td>\n",
       "      <td>il y a 17 heures</td>\n",
       "      <td>À plein temps</td>\n",
       "      <td>2023-02-17 11:50:44.355114</td>\n",
       "      <td>data engineer</td>\n",
       "      <td>NaN</td>\n",
       "    </tr>\n",
       "    <tr>\n",
       "      <th>2</th>\n",
       "      <td>2</td>\n",
       "      <td>Data analyst / Data scientist H/F</td>\n",
       "      <td>GrandVision France</td>\n",
       "      <td>Châtenay-Malabry</td>\n",
       "      <td>via Figaro Emploi</td>\n",
       "      <td>Quelles sont les missions ?\\n\\nVous\\navez beso...</td>\n",
       "      <td>[{'items': [\"Quelles sont les missions ?\\n\\nVo...</td>\n",
       "      <td>[{'link': 'https://www.google.fr/search?gl=fr&amp;...</td>\n",
       "      <td>https://encrypted-tbn0.gstatic.com/images?q=tb...</td>\n",
       "      <td>['il y a 11 heures', 'À plein temps']</td>\n",
       "      <td>eyJqb2JfdGl0bGUiOiJEYXRhIGFuYWx5c3QgLyBEYXRhIH...</td>\n",
       "      <td>il y a 11 heures</td>\n",
       "      <td>À plein temps</td>\n",
       "      <td>2023-02-17 11:50:44.355114</td>\n",
       "      <td>data engineer</td>\n",
       "      <td>NaN</td>\n",
       "    </tr>\n",
       "    <tr>\n",
       "      <th>3</th>\n",
       "      <td>3</td>\n",
       "      <td>Data Scientist H/F</td>\n",
       "      <td>Consept Informatique</td>\n",
       "      <td>Nantes</td>\n",
       "      <td>via HelloWork</td>\n",
       "      <td>Consept Informatique recherche …\\n\\nIntégré(e)...</td>\n",
       "      <td>[{'items': [\"Consept Informatique recherche …\\...</td>\n",
       "      <td>[{'link': 'https://www.google.fr/search?gl=fr&amp;...</td>\n",
       "      <td>NaN</td>\n",
       "      <td>['il y a 11 heures', '35\\xa0k\\xa0€ à 40\\xa0k\\x...</td>\n",
       "      <td>eyJqb2JfdGl0bGUiOiJEYXRhIFNjaWVudGlzdCBIL0YiLC...</td>\n",
       "      <td>il y a 11 heures</td>\n",
       "      <td>À plein temps</td>\n",
       "      <td>2023-02-17 11:50:44.355114</td>\n",
       "      <td>data engineer</td>\n",
       "      <td>NaN</td>\n",
       "    </tr>\n",
       "    <tr>\n",
       "      <th>4</th>\n",
       "      <td>4</td>\n",
       "      <td>Data Scientist - Industrial Field</td>\n",
       "      <td>Fieldbox</td>\n",
       "      <td>Bordeaux</td>\n",
       "      <td>via LinkedIn</td>\n",
       "      <td>As part of the Data Science team, you work clo...</td>\n",
       "      <td>[{'items': ['As part of the Data Science team,...</td>\n",
       "      <td>[{'link': 'https://www.google.fr/search?gl=fr&amp;...</td>\n",
       "      <td>https://encrypted-tbn0.gstatic.com/images?q=tb...</td>\n",
       "      <td>['il y a 19 heures', 'À plein temps']</td>\n",
       "      <td>eyJqb2JfdGl0bGUiOiJEYXRhIFNjaWVudGlzdCAtIEluZH...</td>\n",
       "      <td>il y a 19 heures</td>\n",
       "      <td>À plein temps</td>\n",
       "      <td>2023-02-17 11:50:44.355114</td>\n",
       "      <td>data engineer</td>\n",
       "      <td>NaN</td>\n",
       "    </tr>\n",
       "  </tbody>\n",
       "</table>\n",
       "</div>"
      ],
      "text/plain": [
       "   Unnamed: 0                              title          company_name  \\\n",
       "0           0            Data Scientist Lead H/F            Fifty-Five   \n",
       "1           1    DATA SCIENTIST (IT) / Freelance     Société Free-Work   \n",
       "2           2  Data analyst / Data scientist H/F    GrandVision France   \n",
       "3           3                 Data Scientist H/F  Consept Informatique   \n",
       "4           4  Data Scientist - Industrial Field              Fieldbox   \n",
       "\n",
       "           location                via  \\\n",
       "0             Paris      via HelloWork   \n",
       "1     Gennevilliers       via LinkedIn   \n",
       "2  Châtenay-Malabry  via Figaro Emploi   \n",
       "3            Nantes      via HelloWork   \n",
       "4          Bordeaux       via LinkedIn   \n",
       "\n",
       "                                         description  \\\n",
       "0  Fifty-Five recherche …\\n\\nDescription\\nData Sc...   \n",
       "1  Contexte : Dans le cadre de plusieurs projets ...   \n",
       "2  Quelles sont les missions ?\\n\\nVous\\navez beso...   \n",
       "3  Consept Informatique recherche …\\n\\nIntégré(e)...   \n",
       "4  As part of the Data Science team, you work clo...   \n",
       "\n",
       "                                      job_highlights  \\\n",
       "0  [{'items': [\"Fifty-Five recherche …\\n\\nDescrip...   \n",
       "1  [{'items': ['Contexte : Dans le cadre de plusi...   \n",
       "2  [{'items': [\"Quelles sont les missions ?\\n\\nVo...   \n",
       "3  [{'items': [\"Consept Informatique recherche …\\...   \n",
       "4  [{'items': ['As part of the Data Science team,...   \n",
       "\n",
       "                                       related_links  \\\n",
       "0  [{'link': 'https://www.google.fr/search?gl=fr&...   \n",
       "1  [{'link': 'https://www.google.fr/search?gl=fr&...   \n",
       "2  [{'link': 'https://www.google.fr/search?gl=fr&...   \n",
       "3  [{'link': 'https://www.google.fr/search?gl=fr&...   \n",
       "4  [{'link': 'https://www.google.fr/search?gl=fr&...   \n",
       "\n",
       "                                           thumbnail  \\\n",
       "0  https://encrypted-tbn0.gstatic.com/images?q=tb...   \n",
       "1  https://encrypted-tbn0.gstatic.com/images?q=tb...   \n",
       "2  https://encrypted-tbn0.gstatic.com/images?q=tb...   \n",
       "3                                                NaN   \n",
       "4  https://encrypted-tbn0.gstatic.com/images?q=tb...   \n",
       "\n",
       "                                          extensions  \\\n",
       "0              ['il y a 16 heures', 'À plein temps']   \n",
       "1              ['il y a 17 heures', 'À plein temps']   \n",
       "2              ['il y a 11 heures', 'À plein temps']   \n",
       "3  ['il y a 11 heures', '35\\xa0k\\xa0€ à 40\\xa0k\\x...   \n",
       "4              ['il y a 19 heures', 'À plein temps']   \n",
       "\n",
       "                                              job_id         posted_at  \\\n",
       "0  eyJqb2JfdGl0bGUiOiJEYXRhIFNjaWVudGlzdCBMZWFkIE...  il y a 16 heures   \n",
       "1  eyJqb2JfdGl0bGUiOiJEQVRBIFNDSUVOVElTVCAoSVQpIC...  il y a 17 heures   \n",
       "2  eyJqb2JfdGl0bGUiOiJEYXRhIGFuYWx5c3QgLyBEYXRhIH...  il y a 11 heures   \n",
       "3  eyJqb2JfdGl0bGUiOiJEYXRhIFNjaWVudGlzdCBIL0YiLC...  il y a 11 heures   \n",
       "4  eyJqb2JfdGl0bGUiOiJEYXRhIFNjaWVudGlzdCAtIEluZH...  il y a 19 heures   \n",
       "\n",
       "   schedule_type                   date_time   search_query  Unnamed: 0.1  \n",
       "0  À plein temps  2023-02-17 11:50:44.355114  data engineer           NaN  \n",
       "1  À plein temps  2023-02-17 11:50:44.355114  data engineer           NaN  \n",
       "2  À plein temps  2023-02-17 11:50:44.355114  data engineer           NaN  \n",
       "3  À plein temps  2023-02-17 11:50:44.355114  data engineer           NaN  \n",
       "4  À plein temps  2023-02-17 11:50:44.355114  data engineer           NaN  "
      ]
     },
     "execution_count": 2,
     "metadata": {},
     "output_type": "execute_result"
    }
   ],
   "source": [
    "df = pd.read_csv('/home/axel/ds_projects/projects/gg_job_search/data/gg_job_search_all_RAW.csv')\n",
    "data = df.copy()\n",
    "\n",
    "data.head(5)"
   ]
  },
  {
   "cell_type": "markdown",
   "id": "962e1272",
   "metadata": {
    "canvas": {
     "comments": [],
     "componentType": "CodeCell",
     "copiedOriginId": null,
     "diskcache": false,
     "headerColor": "none",
     "id": "92e1a8ae-b74b-491d-a28f-6c806ee94933",
     "isComponent": false,
     "name": "",
     "parents": []
    }
   },
   "source": [
    "## General overview of data"
   ]
  },
  {
   "cell_type": "code",
   "execution_count": 3,
   "id": "0bcbba87",
   "metadata": {
    "canvas": {
     "comments": [],
     "componentType": "CodeCell",
     "copiedOriginId": null,
     "diskcache": false,
     "headerColor": "none",
     "id": "ac51a94d-0cb2-47dc-8c3e-51a254cb023d",
     "isComponent": false,
     "name": "",
     "parents": []
    },
    "scrolled": true,
    "tags": []
   },
   "outputs": [
    {
     "name": "stdout",
     "output_type": "stream",
     "text": [
      "<class 'pandas.core.frame.DataFrame'>\n",
      "RangeIndex: 24618 entries, 0 to 24617\n",
      "Data columns (total 16 columns):\n",
      " #   Column          Non-Null Count  Dtype  \n",
      "---  ------          --------------  -----  \n",
      " 0   Unnamed: 0      24618 non-null  int64  \n",
      " 1   title           24615 non-null  object \n",
      " 2   company_name    24615 non-null  object \n",
      " 3   location        24586 non-null  object \n",
      " 4   via             24618 non-null  object \n",
      " 5   description     24555 non-null  object \n",
      " 6   job_highlights  18282 non-null  object \n",
      " 7   related_links   24555 non-null  object \n",
      " 8   thumbnail       21395 non-null  object \n",
      " 9   extensions      24618 non-null  object \n",
      " 10  job_id          21702 non-null  object \n",
      " 11  posted_at       22622 non-null  object \n",
      " 12  schedule_type   24414 non-null  object \n",
      " 13  date_time       24618 non-null  object \n",
      " 14  search_query    24618 non-null  object \n",
      " 15  Unnamed: 0.1    6333 non-null   float64\n",
      "dtypes: float64(1), int64(1), object(14)\n",
      "memory usage: 3.0+ MB\n",
      "None \n",
      "\n",
      "====================================================================== \n",
      "\n",
      " Number of unique values :  \n",
      "\n",
      " Unnamed: 0        6333\n",
      "title             2028\n",
      "company_name      1667\n",
      "location           426\n",
      "via                163\n",
      "description       3584\n",
      "job_highlights    1716\n",
      "related_links     5458\n",
      "thumbnail         1126\n",
      "extensions        1398\n",
      "job_id            4330\n",
      "posted_at           54\n",
      "schedule_type        4\n",
      "date_time         2249\n",
      "search_query         4\n",
      "Unnamed: 0.1        10\n",
      "dtype: int64 \n",
      "\n",
      "\n",
      "====================================================================== \n",
      "\n",
      " Search query results : \n",
      "\n",
      " data engineer                8460\n",
      "data scientist               8103\n",
      "data analyst                 7831\n",
      "machine learning engineer     224\n",
      "Name: search_query, dtype: int64\n"
     ]
    }
   ],
   "source": [
    "print(data.info(), '\\n')\n",
    "print('='*70, '\\n'*2, 'Number of unique values : ', '\\n'*2,data.nunique(), '\\n'*2)\n",
    "print('='*70, '\\n'*2,'Search query results :', '\\n'*2, data.search_query.value_counts())"
   ]
  },
  {
   "cell_type": "markdown",
   "id": "88a01234",
   "metadata": {
    "canvas": {
     "comments": [],
     "componentType": "CodeCell",
     "copiedOriginId": null,
     "diskcache": false,
     "headerColor": "none",
     "id": "b90ed404-0bc1-4ffc-b117-df362aca9514",
     "isComponent": false,
     "name": "",
     "parents": []
    }
   },
   "source": [
    "### Checking for null values "
   ]
  },
  {
   "cell_type": "code",
   "execution_count": 4,
   "id": "b7e83723",
   "metadata": {
    "canvas": {
     "comments": [],
     "componentType": "CodeCell",
     "copiedOriginId": null,
     "diskcache": false,
     "headerColor": "none",
     "id": "0a0b0ab5-8866-4104-914a-465c5fefa0c1",
     "isComponent": false,
     "name": "",
     "parents": []
    },
    "scrolled": true,
    "tags": []
   },
   "outputs": [
    {
     "data": {
      "text/plain": [
       "title                 3\n",
       "company_name          3\n",
       "location             32\n",
       "description          63\n",
       "job_highlights     6336\n",
       "related_links        63\n",
       "thumbnail          3223\n",
       "job_id             2916\n",
       "posted_at          1996\n",
       "schedule_type       204\n",
       "Unnamed: 0.1      18285\n",
       "dtype: int64"
      ]
     },
     "execution_count": 4,
     "metadata": {},
     "output_type": "execute_result"
    }
   ],
   "source": [
    "data.isnull().sum()[data.isnull().sum() > 0]"
   ]
  },
  {
   "cell_type": "code",
   "execution_count": 5,
   "id": "0a238ecd-65c7-47c4-b5dd-c840e0a4f182",
   "metadata": {
    "canvas": {
     "comments": [],
     "componentType": "CodeCell",
     "copiedOriginId": null,
     "diskcache": false,
     "headerColor": "none",
     "id": "1990cc9c-b788-426c-997e-af0275d9442e",
     "isComponent": false,
     "name": "",
     "parents": []
    },
    "tags": []
   },
   "outputs": [],
   "source": [
    "data.fillna('unknown' , inplace=True)"
   ]
  },
  {
   "cell_type": "markdown",
   "id": "d47929c2",
   "metadata": {
    "canvas": {
     "comments": [],
     "componentType": "CodeCell",
     "copiedOriginId": null,
     "diskcache": false,
     "headerColor": "none",
     "id": "46659ac6-66b8-4737-949b-f05ce626c590",
     "isComponent": false,
     "name": "",
     "parents": []
    }
   },
   "source": [
    "### Removing duplicates"
   ]
  },
  {
   "cell_type": "code",
   "execution_count": 6,
   "id": "583af771",
   "metadata": {
    "canvas": {
     "comments": [],
     "componentType": "CodeCell",
     "copiedOriginId": null,
     "diskcache": false,
     "headerColor": "none",
     "id": "3a4d97d4-486e-4a1d-886a-7adcc69bdb98",
     "isComponent": false,
     "name": "",
     "parents": []
    },
    "scrolled": true
   },
   "outputs": [
    {
     "name": "stdout",
     "output_type": "stream",
     "text": [
      "Number of duplicates : 546\n",
      "Number of duplicates (based on identical job_id) : 20287 \n",
      " ======================================================================\n",
      "Search query results :\n",
      " data scientist               2850\n",
      "data analyst                  720\n",
      "data engineer                 615\n",
      "machine learning engineer     146\n",
      "Name: search_query, dtype: int64 \n",
      " ======================================================================\n",
      "Final number of rows :  4331\n",
      "Final number of columns :  17\n"
     ]
    }
   ],
   "source": [
    "print('Number of duplicates :',data[data.duplicated()].shape[0])\n",
    "print('Number of duplicates (based on identical job_id) :', data[data.duplicated(['job_id'])].shape[0],'\\n', '='*70) \n",
    "\n",
    "# removing duplicates based on job_id\n",
    "data = data.drop_duplicates(['job_id'])\n",
    "data.reset_index(inplace=True)\n",
    "\n",
    "print('Search query results :\\n', data.search_query.value_counts(), '\\n', '='*70)\n",
    "print('Final number of rows : ', data.shape[0])\n",
    "print('Final number of columns : ', data.shape[1])"
   ]
  },
  {
   "cell_type": "markdown",
   "id": "0c94e020",
   "metadata": {
    "canvas": {
     "comments": [],
     "componentType": "CodeCell",
     "copiedOriginId": null,
     "diskcache": false,
     "headerColor": "none",
     "id": "cf7c9502-c34d-4bcd-ad0f-5b3ca8819245",
     "isComponent": false,
     "name": "",
     "parents": []
    }
   },
   "source": [
    "Purely based job id, we can skim off a lots of duplicates. Nonetheless i still found a few of identical / near-identical job descriptions, maybe because [sometimes recruiters or companies post the same advert for a job which results in duplicate data.](https://medium.com/analytics-vidhya/data-science-job-search-using-nlp-and-lda-in-python-12ecbfac79f9)\n",
    "\n",
    "To get rid off these ones, i will use cosine similatity between job descriptions."
   ]
  },
  {
   "cell_type": "markdown",
   "id": "0dfdfec2",
   "metadata": {
    "canvas": {
     "comments": [],
     "componentType": "CodeCell",
     "copiedOriginId": null,
     "diskcache": false,
     "headerColor": "none",
     "id": "98aa8195-2b74-4f5b-bfc9-c9494f55e881",
     "isComponent": false,
     "name": "",
     "parents": []
    }
   },
   "source": [
    "### Removing remaining duplicates w/ Cosine Similarity"
   ]
  },
  {
   "cell_type": "markdown",
   "id": "2c825e4e-8626-4298-8b29-ead56daa7a7a",
   "metadata": {
    "canvas": {
     "comments": [],
     "componentType": "CodeCell",
     "copiedOriginId": null,
     "diskcache": false,
     "headerColor": "none",
     "id": "dd85e257-4a31-4bfa-9b5c-5c36fe07bde9",
     "isComponent": false,
     "name": "",
     "parents": []
    }
   },
   "source": [
    "There are several methods to consider to identify the remaining job postings not captured. We could group them in 3 :\n",
    "\n",
    "    * Fuzzy mathing methods\n",
    "    * Clustering methods\n",
    "    * Topic modeling methods\n",
    " \n",
    "Fuzzy matching methods can be a better choice for identifying job postings with minor variations because it can account for small spelling mistakes, typos and slight variations in the wording or phrasing of the job description. \n",
    "\n",
    "So i will go with cosine similarity which is a measure of the similarity between two non-zero vectors in a high-dimensional space, and is commonly used for comparing text documents\n"
   ]
  },
  {
   "cell_type": "markdown",
   "id": "b145dad6-92f4-4373-95c5-3747bc311bf3",
   "metadata": {
    "canvas": {
     "comments": [],
     "componentType": "CodeCell",
     "copiedOriginId": null,
     "diskcache": false,
     "headerColor": "none",
     "id": "71fb7c30-867b-4a53-ba7e-d7f18ff26f5a",
     "isComponent": false,
     "name": "",
     "parents": []
    }
   },
   "source": [
    "### removing duplicates based on cosine similarity between \n",
    "## job descriptions (code from Thomas Caffrey, see link above)\n",
    "\n",
    "# Defining our collection of job description texts to tokenize\n",
    "data.description = data['description'].fillna('')\n",
    "corpus = data['description']\n",
    "\n",
    "# instantiate CountVectorizer object\n",
    "count_vect = CountVectorizer()\n",
    "\n",
    "# Fit_transform to vectorize each job description (map terms to feature indices)\n",
    "X_train_counts = count_vect.fit_transform(corpus)\n",
    "\n",
    "# Compute cosine similarities and put it in dataframe\n",
    "cos_df = pd.DataFrame(cosine_similarity(X_train_counts))\n",
    "\n",
    "\n",
    "## reshape dataframe for easier comparison\n",
    "\n",
    "# get arrays of rows indices and col indices from col_df.shape\n",
    "i, j = np.indices(cos_df.shape).reshape(2,-1)\n",
    "\n",
    "# reshape values to get a 1D array \n",
    "cos_values = cos_df.values.reshape(-1)\n",
    "\n",
    "cos_sim_df = pd.DataFrame({'i': i, 'j': j, 'sim':cos_values})\n",
    "\n",
    "# get cosine similarity values only above 0.98 \n",
    "cos_rem = cos_sim_df[(cos_sim_df['sim'] > 0.90) & (i!=j)]\n",
    "\n",
    "# Method to remove duplicates but keep first instance:\n",
    "# Trying to drop duplicates on i and j columns won't work as the row numbers of duplicates are either in i or j not both.\n",
    "# Setting another column that combines the i & j values ensures that duplicates can be dropped.\n",
    "\n",
    "cos_rem['i*j'] = cos_rem['i'] * cos_rem['j']\n",
    "drop_rows = np.unique(cos_rem.drop_duplicates('i*j')['i'].values)\n",
    "\n",
    "# keep only non-duplicated job postings\n",
    "data = data[~data.index.isin(drop_rows)] \n",
    "data.reset_index(inplace=True)\n",
    "\n",
    "print('Search query results :\\n', data.search_query.value_counts(), '\\n', '='*70)\n",
    "print('Number of duplicates (based on cosine similarity) : ' ,drop_rows.shape[0])\n",
    "print('Final number of rows : ', data.shape[0])\n",
    "print('Final number of columns : ', data.shape[1])"
   ]
  },
  {
   "cell_type": "markdown",
   "id": "85242f91",
   "metadata": {
    "canvas": {
     "comments": [],
     "componentType": "CodeCell",
     "copiedOriginId": null,
     "diskcache": false,
     "headerColor": "none",
     "id": "35cb596f-91fa-41f4-a157-463a8d814e0e",
     "isComponent": false,
     "name": "",
     "parents": []
    }
   },
   "source": [
    "#### INSIGHTS :\n",
    "\n",
    "Based on this sample of job titles, we could create : \n",
    "    \n",
    "    * Contract_type (full-time, part-time ...) \n",
    "    * Contract_status (CDI, CDD, work-study, internship ...)\n",
    "    * Duration of Contract (Duration/Undetermined)\n",
    "    * Experience ( Senior, Junior ...)\n",
    "    * Data Specialization (Supply chain, Marketing, Clinical ...)\n",
    "    * Multiple titles (Analyst/Scientist, Scientist/ML Engineer, Manager/Analyst ...)\n",
    "    * Specific expertise asked for (Python, Power BI ...)\n",
    "    \n",
    "    "
   ]
  },
  {
   "cell_type": "markdown",
   "id": "cf1679e1",
   "metadata": {
    "canvas": {
     "comments": [],
     "componentType": "CodeCell",
     "copiedOriginId": null,
     "diskcache": false,
     "headerColor": "none",
     "id": "c48c73be-79c0-4a27-9180-c81296120997",
     "isComponent": false,
     "name": "",
     "parents": []
    }
   },
   "source": [
    "## Explore company_name"
   ]
  },
  {
   "cell_type": "code",
   "execution_count": 7,
   "id": "3400f598",
   "metadata": {
    "canvas": {
     "comments": [],
     "componentType": "CodeCell",
     "copiedOriginId": null,
     "diskcache": false,
     "headerColor": "none",
     "id": "d3c32ed0-27e2-47fc-8a2e-d57367794e26",
     "isComponent": false,
     "name": "",
     "parents": []
    }
   },
   "outputs": [
    {
     "name": "stdout",
     "output_type": "stream",
     "text": [
      "number of unique companies : 1542\n"
     ]
    }
   ],
   "source": [
    "print('number of unique companies :', data.company_name.nunique())\n",
    "#data.company_name.unique()"
   ]
  },
  {
   "cell_type": "code",
   "execution_count": 8,
   "id": "1583ec6d",
   "metadata": {
    "canvas": {
     "comments": [],
     "componentType": "CodeCell",
     "copiedOriginId": null,
     "diskcache": false,
     "headerColor": "none",
     "id": "f0eb150b-3e79-4738-afd3-1273aff40b1b",
     "isComponent": false,
     "name": "",
     "parents": []
    }
   },
   "outputs": [],
   "source": [
    "pd.options.display.max_colwidth = 20\n",
    "#data.loc[data['company_name'] == 'Unspecified', ['description']].iloc[0]"
   ]
  },
  {
   "cell_type": "markdown",
   "id": "4e05598b",
   "metadata": {
    "canvas": {
     "comments": [],
     "componentType": "CodeCell",
     "copiedOriginId": null,
     "diskcache": false,
     "headerColor": "none",
     "id": "2ca538cb-1fbc-4a61-9e38-699165d3d17f",
     "isComponent": false,
     "name": "",
     "parents": []
    }
   },
   "source": [
    "#### INSIGHTS :\n",
    "\n",
    "When ***Unspecified***, companies name can be found in description column.\n",
    "\n",
    "Possible new columns :\n",
    "\n",
    "    * Group/Holding (Y/N/NC)\n",
    "    * Interim company (Y/N/NC)\n",
    "\n",
    "Based on the number of job posting per company we could potentially infer about : **size of company ? / Amount of data to work on** / \n",
    "\n",
    "Adding a time variable and much more data, the number of similar / identical job postings for the same company could maybe give insights on the **company's turnover rate / company's growth / magnitude of need-urgency to hire** ...  \n",
    "\n",
    "It seems like extracting additional informations without more context will be difficult. Having access to each company's structure information we could create :\n",
    "\n",
    "    * Size of company\n",
    "    * Industry\n",
    "    * Public / Private\n",
    "    \n",
    "We'll see if can extract more related informations in the following columns. Otherwise, we could try to scrap **Glassdoor databases** (or similar) to get those informations.remains to be seen ..."
   ]
  },
  {
   "cell_type": "markdown",
   "id": "f2b0ce67",
   "metadata": {
    "canvas": {
     "comments": [],
     "componentType": "CodeCell",
     "copiedOriginId": null,
     "diskcache": false,
     "headerColor": "none",
     "id": "6e1ce413-3955-40bf-97f5-d460045ef60f",
     "isComponent": false,
     "name": "",
     "parents": []
    }
   },
   "source": [
    "## Explore location"
   ]
  },
  {
   "cell_type": "code",
   "execution_count": 9,
   "id": "f01afb6d",
   "metadata": {
    "canvas": {
     "comments": [],
     "componentType": "CodeCell",
     "copiedOriginId": null,
     "diskcache": false,
     "headerColor": "none",
     "id": "29b89ccc-8381-42b5-982d-9bc55a955193",
     "isComponent": false,
     "name": "",
     "parents": []
    }
   },
   "outputs": [
    {
     "name": "stdout",
     "output_type": "stream",
     "text": [
      "number of unique locations :  405\n"
     ]
    }
   ],
   "source": [
    "print('number of unique locations : ', data.location.nunique())\n",
    "#data.location.unique()"
   ]
  },
  {
   "cell_type": "code",
   "execution_count": 10,
   "id": "29d39825",
   "metadata": {
    "canvas": {
     "comments": [],
     "componentType": "CodeCell",
     "copiedOriginId": null,
     "diskcache": false,
     "headerColor": "none",
     "id": "6591b71f-0bf3-4016-bcf9-3094a7b67f52",
     "isComponent": false,
     "name": "",
     "parents": []
    }
   },
   "outputs": [],
   "source": [
    "pd.options.display.max_rows = 50\n",
    "#data.location.value_counts().head(20)"
   ]
  },
  {
   "cell_type": "markdown",
   "id": "ee0cabad",
   "metadata": {
    "canvas": {
     "comments": [],
     "componentType": "CodeCell",
     "copiedOriginId": null,
     "diskcache": false,
     "headerColor": "none",
     "id": "6868c971-6ec6-4226-a78d-2c1d082494df",
     "isComponent": false,
     "name": "",
     "parents": []
    }
   },
   "source": [
    "#### INSIGHTS :\n",
    "\n",
    "We could create a map of th repartition of job posting based on location provided.\n",
    "\n",
    "Some companies don't provide precise location *(ex : location = FRANCE)* and the information is not available in description column either. Further investigations will be needed for these companies, perhaps in conjunction with other databases *(GLASSDOOR / SIRENE databases for instance)*."
   ]
  },
  {
   "cell_type": "markdown",
   "id": "dea2d818",
   "metadata": {
    "canvas": {
     "comments": [],
     "componentType": "CodeCell",
     "copiedOriginId": null,
     "diskcache": false,
     "headerColor": "none",
     "id": "bdd3aaa9-7ed4-4f21-accb-59ed18840435",
     "isComponent": false,
     "name": "",
     "parents": []
    }
   },
   "source": [
    "## Explore via"
   ]
  },
  {
   "cell_type": "code",
   "execution_count": 11,
   "id": "79a48ca8",
   "metadata": {
    "canvas": {
     "comments": [],
     "componentType": "CodeCell",
     "copiedOriginId": null,
     "diskcache": false,
     "headerColor": "none",
     "id": "c10426ed-a9f4-4776-8c8c-fa0fb5597387",
     "isComponent": false,
     "name": "",
     "parents": []
    }
   },
   "outputs": [
    {
     "name": "stdout",
     "output_type": "stream",
     "text": [
      "number of unique job plateforms :  143\n"
     ]
    }
   ],
   "source": [
    "print('number of unique job plateforms : ', data.via.nunique())\n",
    "# data.via.unique()"
   ]
  },
  {
   "cell_type": "code",
   "execution_count": null,
   "id": "026d3e6d-aecd-4c78-9b32-9e0a8d62625d",
   "metadata": {
    "canvas": {
     "comments": [],
     "componentType": "CodeCell",
     "copiedOriginId": null,
     "diskcache": false,
     "headerColor": "none",
     "id": "678827ed-12b1-401d-9a91-ae35c30d0ab2",
     "isComponent": false,
     "name": "",
     "parents": []
    }
   },
   "outputs": [],
   "source": []
  },
  {
   "cell_type": "markdown",
   "id": "b5b57edd",
   "metadata": {
    "canvas": {
     "comments": [],
     "componentType": "CodeCell",
     "copiedOriginId": null,
     "diskcache": false,
     "headerColor": "none",
     "id": "47825c1b-0277-4b20-be9d-5889f3af2ac3",
     "isComponent": false,
     "name": "",
     "parents": []
    },
    "tags": []
   },
   "source": [
    "## Explore description"
   ]
  },
  {
   "cell_type": "code",
   "execution_count": 12,
   "id": "acda0f5c",
   "metadata": {
    "canvas": {
     "comments": [],
     "componentType": "CodeCell",
     "copiedOriginId": null,
     "diskcache": false,
     "headerColor": "none",
     "id": "0dfac044-8ff1-4967-b8e6-35aa307c25ad",
     "isComponent": false,
     "name": "",
     "parents": []
    }
   },
   "outputs": [
    {
     "name": "stdout",
     "output_type": "stream",
     "text": [
      "count     4264.000000\n",
      "mean      3050.658771\n",
      "std       1607.936929\n",
      "min          7.000000\n",
      "25%       1950.500000\n",
      "50%       2750.000000\n",
      "75%       3853.000000\n",
      "max      14170.000000\n",
      "Name: description, dtype: float64\n"
     ]
    },
    {
     "data": {
      "image/png": "[encoded data removed]",
      "text/plain": [
       "<Figure size 640x480 with 1 Axes>"
      ]
     },
     "metadata": {},
     "output_type": "display_data"
    }
   ],
   "source": [
    "print(data.description.str.len().describe())\n",
    "\n",
    "plt.hist(data.description.str.len(), bins=75)\n",
    "plt.show()"
   ]
  },
  {
   "cell_type": "markdown",
   "id": "391bf1f6",
   "metadata": {
    "canvas": {
     "comments": [],
     "componentType": "CodeCell",
     "copiedOriginId": null,
     "diskcache": false,
     "headerColor": "none",
     "id": "cffe4e39-6b95-434c-837d-2088f930f55b",
     "isComponent": false,
     "name": "",
     "parents": []
    }
   },
   "source": [
    "#### INSIGHTS :\n",
    "\n",
    "\n",
    "We could create :\n",
    "\n",
    "    * Lenght of description (dunno what informations it could provide yet)\n",
    "    * Toold required (Excel, Google Tag Manager ...)\n",
    "    * Coding languages required (R, Python, SQL ...)\n",
    "    * Skills required (reporting, data visualization)\n",
    "    * Required experience\n",
    "    * Duration of contract\n",
    "    * Avantages (ticket resto)\n"
   ]
  },
  {
   "cell_type": "markdown",
   "id": "95b3d5e5-f1a9-4f1f-a1c9-a11ea8ce97dc",
   "metadata": {
    "canvas": {
     "comments": [],
     "componentType": "CodeCell",
     "copiedOriginId": null,
     "diskcache": false,
     "headerColor": "none",
     "id": "256a270e-0fad-4b36-b3cf-e69f98bd621d",
     "isComponent": false,
     "name": "",
     "parents": []
    }
   },
   "source": [
    "data[\"all_bullets_string\"] = [' '.join(map(str, re.findall('•(.+)',data.description[i]))) for i, _ in enumerate(data.description)]"
   ]
  },
  {
   "cell_type": "markdown",
   "id": "cd4bcd7f-cf03-4f8f-b7ad-cbf74fa852a0",
   "metadata": {
    "canvas": {
     "comments": [],
     "componentType": "CodeCell",
     "copiedOriginId": null,
     "diskcache": false,
     "headerColor": "none",
     "id": "3cad0e9a-fb38-44ac-8adb-735758f1be15",
     "isComponent": false,
     "name": "",
     "parents": []
    }
   },
   "source": [
    "## Quick text processing"
   ]
  },
  {
   "cell_type": "markdown",
   "id": "9aac9330-d79c-4a6e-a1e0-b2e354147345",
   "metadata": {
    "canvas": {
     "comments": [],
     "componentType": "CodeCell",
     "copiedOriginId": null,
     "diskcache": false,
     "headerColor": "none",
     "id": "a6b154c4-2bc2-42a7-b194-eab6198f54e9",
     "isComponent": false,
     "name": "",
     "parents": []
    }
   },
   "source": [
    "Before creating new features and extractings keywords i'm going to do some simple text normalization for easier parsing and processing : lower cases, remove accents and useless columns."
   ]
  },
  {
   "cell_type": "code",
   "execution_count": 13,
   "id": "df76bedb-f2af-428a-800a-423002ac0a9c",
   "metadata": {
    "canvas": {
     "comments": [],
     "componentType": "CodeCell",
     "copiedOriginId": null,
     "diskcache": false,
     "headerColor": "none",
     "id": "f67dd88e-94e6-4683-96c1-6c7a62bc8323",
     "isComponent": false,
     "name": "",
     "parents": []
    },
    "tags": []
   },
   "outputs": [],
   "source": [
    "# removing useless columns\n",
    "def drop_useless_cols(df, cols):\n",
    "    df.drop(columns=cols, inplace=True)\n",
    "    return df\n",
    "\n",
    "cols_to_remove = ['index', 'Unnamed: 0', 'Unnamed: 0.1', 'related_links', 'job_id', 'posted_at', 'thumbnail', 'job_highlights']\n",
    "\n",
    "data = drop_useless_cols(data, cols_to_remove)\n",
    "\n",
    "# lowering cases\n",
    "data = data.applymap(lambda x: x.lower() if type(x) == str else x )\n",
    "\n",
    "# removing accents\n",
    "def remove_accents(text):\n",
    "    normalized = unicodedata.normalize('NFKD', text)\n",
    "    without_accents = [c for c in normalized if not unicodedata.combining(c)]\n",
    "    return ''.join(without_accents)\n",
    "\n",
    "# get columns to remove accents\n",
    "object_cols = set(data.select_dtypes(include='O').columns)\n",
    "accents_keeped_cols = {'extensions'} # i already worked on extensions before, don't wanna remake my code ...\n",
    "accents_removed_cols = list(object_cols - accents_keeped_cols)\n",
    "\n",
    "data[accents_removed_cols] = data[accents_removed_cols].applymap(lambda x: remove_accents(x))"
   ]
  },
  {
   "cell_type": "markdown",
   "id": "f2eb7016-0d6c-42ba-a288-6906e42d7db5",
   "metadata": {
    "canvas": {
     "comments": [],
     "componentType": "CodeCell",
     "copiedOriginId": null,
     "diskcache": false,
     "headerColor": "none",
     "id": "6d45708b-d872-45de-973d-f8bdd134122d",
     "isComponent": false,
     "name": "",
     "parents": []
    }
   },
   "source": [
    "## Extracting features from job titles & job descriptions"
   ]
  },
  {
   "cell_type": "markdown",
   "id": "4673551f-e3b3-44a4-bcb2-be79bfd3d7da",
   "metadata": {
    "canvas": {
     "comments": [],
     "componentType": "CodeCell",
     "copiedOriginId": null,
     "diskcache": false,
     "headerColor": "none",
     "id": "f45adcec-79de-4a30-b8db-a7eb65336ed6",
     "isComponent": false,
     "name": "",
     "parents": []
    }
   },
   "source": [
    "As keywords meaning in job descriptions tends to vary a lot more depending on context, i will only extract employment-related kw from it (after investigations employment kws seem to be quite constant in their meaning even in job descriptions).\n",
    "\n",
    "For example, senerioty level keywords contained in job titles are pretty straightforward in term of meaning (employer looking for a specific seniority level) but in job descriptions the same keyword could explain that \"as a junior data analyst you will be supervised by several senior data analyst\". \n",
    "\n",
    "To avoid extracting meaningless keywords i will leave aside job descriptions for now. It'll require fancier extracting methods."
   ]
  },
  {
   "cell_type": "code",
   "execution_count": 14,
   "id": "19a7620b-f19e-4e53-9678-aba9b09f6e1f",
   "metadata": {
    "canvas": {
     "comments": [],
     "componentType": "CodeCell",
     "copiedOriginId": null,
     "diskcache": false,
     "headerColor": "none",
     "id": "0eaaec6d-4bcb-4839-aa9e-6fd9ec344c93",
     "isComponent": false,
     "name": "",
     "parents": []
    },
    "tags": []
   },
   "outputs": [],
   "source": [
    "def create_employment_type(row):\n",
    "    employment_type_dict = {\n",
    "        'CDI': {'cdi'},\n",
    "        'internship': {'stage', 'internship', 'stagiaire'},\n",
    "        'apprenticeship': {'alternant', \"contrat d'apprentissage\", 'contrat de professionnalisation', 'alternance',\n",
    "                           \"(apprenti)\", \"en apprentissage\"},\n",
    "        'CDD': {'cdd'},\n",
    "        'freelance': {'freelance', 'prestataire', 'freelancer'},\n",
    "        'interim': {'poste en Intérim'}\n",
    "}\n",
    "    for employment_type, keywords in employment_type_dict.items():\n",
    "        regex = re.compile(r'\\b(?:%s)\\b' % '|'.join(keywords), re.I)\n",
    "        if regex.search(row['title']) or regex.search(row['description']):\n",
    "            return employment_type\n",
    "    return np.nan\n",
    "\n",
    "def create_seniority_level(row):\n",
    "    seniority_level_dict = {\n",
    "        'senior': {'senior', 'advanced', 'avance', 'sr', 'experimente'},\n",
    "        'mid-level': {'confirme'},\n",
    "        'junior': {'junior', 'debutant', 'jr', 'entry-level'},\n",
    "}\n",
    "    \n",
    "    for seniority_level, keywords in seniority_level_dict.items():\n",
    "        regex = re.compile(r'\\b(?:%s)\\b' % '|'.join(keywords), re.I)\n",
    "        if regex.search(row['title']):\n",
    "                return seniority_level\n",
    "    return np.nan\n",
    "\n",
    "def create_executive_title(row):\n",
    "    executive_title_dict = {\n",
    "        'lead': {'lead'},\n",
    "        'Director': {'director', 'directeur'},\n",
    "        'Manager': {'manager', 'project manager', 'chef de projet'},\n",
    "        'Assistant': {'assistant'},\n",
    "        'Chief': {'chief'},\n",
    "        'Head': {'head'},\n",
    "        'Supervisor': {'supervisor'},\n",
    "}\n",
    "    for executive_title, keywords in executive_title_dict.items():\n",
    "        regex = re.compile(r'\\b(?:%s)\\b' % '|'.join(keywords), re.I)\n",
    "        if regex.search(row['title']):\n",
    "            return executive_title\n",
    "    return np.nan\n",
    "\n",
    "def create_remote_availability(row):\n",
    "    remote_availability_dict = {\n",
    "        'full': {'100 % teletravail', 'remote role', 'full remote', 'teletravail complet', 'fully remote', \n",
    "                 'full-time remote', \"l'entreprise fonctionne en remote\", 'full tt' },\n",
    "        'partial_remote': {'teletravail/semaine', 'teletravail possible', 'jours / mois', '(2j / semaine)', \n",
    "                           'teletravail de','teletravail hybride', 'jours de teletravail','teletravail\\n\\npartiel',\n",
    "                           'teletravail partiel', 'jour de teletravail', 'teletravail par semaine', 'format hybride',\n",
    "                          'jour par semaine', 'jours par semaine', 'j de TT', 'j TT', 'j par semaine', 'jours de tt', 'jours de remote',\n",
    "                          'jour de remote'}\n",
    "}\n",
    "    for remote, keywords in remote_availability_dict.items():\n",
    "        regex = re.compile(r'(?:%s)' % '|'.join(keywords), re.I)\n",
    "        if regex.search(row['title']) or regex.search(row['description']):\n",
    "              return remote\n",
    "    return np.NaN\n",
    "\n",
    "data['employment_type'] = data.apply(create_employment_type, axis=1) \n",
    "data['seniority_level'] = data.apply(create_seniority_level, axis=1)\n",
    "data['executive_title'] = data.apply(create_executive_title, axis=1)\n",
    "data['remote_availability'] = data.apply(create_remote_availability, axis=1)\n"
   ]
  },
  {
   "cell_type": "markdown",
   "id": "23211e26-02b6-4492-b6ef-62be99d543da",
   "metadata": {
    "canvas": {
     "comments": [],
     "componentType": "CodeCell",
     "copiedOriginId": null,
     "diskcache": false,
     "headerColor": "none",
     "id": "34df29d6-e4a9-46f7-a74e-ea7883287b5e",
     "isComponent": false,
     "name": "",
     "parents": []
    },
    "tags": []
   },
   "source": [
    "## Extracting and preprocessing salaries"
   ]
  },
  {
   "cell_type": "markdown",
   "id": "9889d35a-8904-4ff0-a7cb-1974bf3e74a5",
   "metadata": {
    "canvas": {
     "comments": [],
     "componentType": "CodeCell",
     "copiedOriginId": null,
     "diskcache": false,
     "headerColor": "none",
     "id": "7a59762d-bc94-4d38-ab82-8b5bae63e2af",
     "isComponent": false,
     "name": "",
     "parents": []
    }
   },
   "source": []
  },
  {
   "cell_type": "code",
   "execution_count": 15,
   "id": "1b576ae3-5f4d-4387-85c9-20e2e71df59a",
   "metadata": {
    "canvas": {
     "comments": [],
     "componentType": "CodeCell",
     "copiedOriginId": null,
     "diskcache": false,
     "headerColor": "none",
     "id": "ea9b7f10-b16a-41b5-bef9-3a14aa7897f1",
     "isComponent": false,
     "name": "",
     "parents": []
    },
    "tags": []
   },
   "outputs": [],
   "source": [
    "def get_salary_col(df):\n",
    "    \n",
    "    # Extract salary from extensions col\n",
    "    df['extracted_salary'] = pd.Series(df.extensions.str.split(', ', expand=True)[1])\n",
    "       \n",
    "    # Replace non-salary values to np.NaN\n",
    "    df['extracted_salary'].replace([\"'à plein temps']\", \"'à temps partiel']\", \"'stage']\", \"'prestataire']\"], np.NaN, inplace=True)\n",
    "    \n",
    "    # Convert null values to Nothing_found to make parsing easier\n",
    "    df.at[df.extracted_salary.isnull(), 'extracted_salary'] = \"nothing_found\"\n",
    "    \n",
    "    return df\n",
    "\n",
    "\n",
    "def get_og_salary_currency(df):\n",
    "    df['og_salary_currency'] = df.extracted_salary.str.extract(r'(\\€|\\$us)', flags=re.IGNORECASE)\n",
    "    \n",
    "    return df\n",
    "\n",
    "\n",
    "def get_og_salary_period(df):\n",
    "    df['og_salary_period'] = df.extracted_salary.str.extract(r'(\\ban\\b|\\bmois\\b|\\bjour\\b)', flags=re.IGNORECASE)\n",
    "    \n",
    "    return df\n",
    "    \n",
    "\n",
    "def clean_salary(df):\n",
    "    \n",
    "    \n",
    "        ####### targeted clean for easier parsing #######\n",
    "\n",
    "        for index, salary_str in enumerate(df.extracted_salary):\n",
    "                \n",
    "                if 'nothing_found' not in salary_str:\n",
    "                    \n",
    "                    # split salary period from rest of string\n",
    "                    salary_str =  salary_str.split(' par')[0]\n",
    "                    \n",
    "                    # remove single quote\n",
    "                    salary_str = salary_str.split(\"'\")[1]\n",
    "\n",
    "                    # remove unicode chars\n",
    "                    salary_str = salary_str.replace(\"\\\\xa0\", \"\")\n",
    "                    salary_str = salary_str.replace(\"\\\\u202f\", \"\")\n",
    "\n",
    "                    #remove currency\n",
    "                    salary_str = salary_str.replace(\"€\", \"\")\n",
    "                    salary_str = salary_str.replace(\"$us\", \"\")\n",
    "\n",
    "                    df.at[index, 'extracted_salary'] = salary_str\n",
    "                    \n",
    "        return df\n",
    "\n",
    "def get_salary_range_and_mean(df):                    \n",
    "                 \n",
    "                                        \n",
    "        for index, row in df.iterrows():\n",
    "    \n",
    "            # extract boundaries of YEAR salaries given as a range + calculate mean salary\n",
    "            if (row['og_salary_period'] == 'an') and 'à' in row['extracted_salary']:\n",
    "\n",
    "                # remove k \n",
    "                row['extracted_salary'] = row['extracted_salary'].replace('k', '000')\n",
    "\n",
    "                # get upper and lower bounds\n",
    "                lower_bound = float(row.extracted_salary.split(' à ')[0].split(',')[0])\n",
    "                upper_bound = float(row.extracted_salary.split(' à ')[1].split(',')[0])\n",
    "\n",
    "                # re-establish a consistent value regarding to common year salaries\n",
    "                if lower_bound < 1000:\n",
    "                    lower_bound = lower_bound * 1000\n",
    "\n",
    "                if upper_bound < 1000:\n",
    "                    upper_bound = upper_bound * 1000\n",
    "                \n",
    "                # get upper / lower bound and discrete_salary columns\n",
    "                df.at[index, 'lower_bound'] = lower_bound\n",
    "                df.at[index, 'upper_bound'] = upper_bound\n",
    "                df.at[index, 'discrete_salary'] = np.mean([lower_bound, upper_bound])\n",
    "                \n",
    "                \n",
    "                \n",
    "            \n",
    "\n",
    "            # extract discrete YEAR salaries        \n",
    "            elif (row['og_salary_period'] == 'an') and 'à' not in row['extracted_salary']:\n",
    "\n",
    "                # remove k\n",
    "                row['extracted_salary'] = row['extracted_salary'].replace('k', '000')\n",
    "                row['extracted_salary'] = row['extracted_salary'].replace(',', '.')\n",
    "\n",
    "                # convert value to float\n",
    "                row['extracted_salary'] = float(row['extracted_salary'])\n",
    "\n",
    "                # re-establish a consistent value regarding to common year salaries\n",
    "                if row['extracted_salary'] < 1000:\n",
    "                    row['extracted_salary'] = row['extracted_salary'] * 1000\n",
    "\n",
    "                # assign result to discrete salary column\n",
    "                df.at[index, 'discrete_salary'] = row['extracted_salary']\n",
    "\n",
    "                \n",
    "\n",
    "            \n",
    "            # extract boundaries of MONTH salaries given as a range + calculate mean salary   \n",
    "            elif (row['og_salary_period'] == 'mois') and 'à' in row['extracted_salary']:\n",
    "\n",
    "                # remove k and replace commas\n",
    "                row['extracted_salary'] = row['extracted_salary'].replace('k', '00')\n",
    "                row['extracted_salary'] = row['extracted_salary'].replace(',', '.')\n",
    "\n",
    "                # get upper and lower bounds\n",
    "                lower_bound = float(row.extracted_salary.split(' à ')[0])\n",
    "                upper_bound = float(row.extracted_salary.split(' à ')[1])\n",
    "\n",
    "                # re-establish a consistent value regarding to common month salaries\n",
    "                if lower_bound < 10:\n",
    "                    lower_bound = lower_bound * 100\n",
    "\n",
    "                if lower_bound < 1000:\n",
    "                    lower_bound = lower_bound * 10\n",
    "\n",
    "                if upper_bound < 10:\n",
    "                    upper_bound = upper_bound * 100\n",
    "\n",
    "                if upper_bound < 1000:\n",
    "                    upper_bound = upper_bound * 10\n",
    "\n",
    "                # get upper / lower bound and discrete_salary columns\n",
    "                df.at[index, 'lower_bound'] = lower_bound\n",
    "                df.at[index, 'upper_bound'] = upper_bound\n",
    "                df.at[index, 'discrete_salary'] = np.mean([lower_bound, upper_bound])\n",
    "\n",
    "                \n",
    "\n",
    "\n",
    "            # extract discrete MONTH salaries        \n",
    "            elif (row['og_salary_period'] == 'mois') and 'à' not in row['extracted_salary']:\n",
    "\n",
    "                # remove k and replace commas\n",
    "                row['extracted_salary'] = row['extracted_salary'].replace('k', '00')\n",
    "                row['extracted_salary'] = row['extracted_salary'].replace(',', '.')\n",
    "\n",
    "                # convert value to float\n",
    "                row['extracted_salary'] = float(row['extracted_salary'])\n",
    "\n",
    "\n",
    "                # re-establish a consistent value regarding to common year salaries \n",
    "                if row['extracted_salary'] < 1000 and type(row['employment_type']) == str and row['employment_type'] not in ['internship', 'apprenticeship']:\n",
    "                    row['extracted_salary'] = row['extracted_salary'] * 1000\n",
    "                 \n",
    "                elif row['extracted_salary'] < 100:\n",
    "                    row['extracted_salary'] = row['extracted_salary'] * 1000\n",
    "            \n",
    "                elif row['extracted_salary'] < 1000 and type(row['employment_type']) == str and row['employment_type'] in ['internship', 'apprenticeship']:\n",
    "                    row['extracted_salary'] = row['extracted_salary']\n",
    "                \n",
    "                # assign result to discrete salary column\n",
    "                df.at[index, 'discrete_salary'] = row['extracted_salary']\n",
    "            \n",
    "            # extract boundaries of DAY salaries given as a range + calculate mean salary   \n",
    "            elif (row['og_salary_period'] == 'jour') and 'à' in row['extracted_salary']:\n",
    "                \n",
    "                # get upper and lower bounds\n",
    "                lower_bound = float(row.extracted_salary.split(' à ')[0])\n",
    "                upper_bound = float(row.extracted_salary.split(' à ')[1])\n",
    "\n",
    "                # get upper / lower bound and discrete_salary columns\n",
    "                df.at[index, 'lower_bound'] = lower_bound\n",
    "                df.at[index, 'upper_bound'] = upper_bound\n",
    "                df.at[index, 'discrete_salary'] = np.mean([lower_bound, upper_bound])\n",
    "                    \n",
    "                    \n",
    "        return df\n",
    "    \n",
    "            \n",
    " # Define a global variable to cache the exchange rate value\n",
    "cached_exchange_rate = None\n",
    "\n",
    "# Define a function to get the exchange rate value\n",
    "def get_exchange_rate():\n",
    "    # Declare the variable as global to modify its value in the function\n",
    "    global cached_exchange_rate\n",
    "    \n",
    "    try:\n",
    "        # Send a network request to get the exchange rate\n",
    "        response = requests.get('https://openexchangerates.org/api/latest.json?app_id=4820391575d04bdd8d07b7e15fb0a463')\n",
    "        response.raise_for_status()\n",
    "        \n",
    "        # Parse the response and calculate the exchange rate\n",
    "        data = response.json()\n",
    "        exchange_rate = data['rates']['EUR'] / data['rates']['USD']\n",
    "        \n",
    "        # Cache the exchange rate value\n",
    "        cached_exchange_rate = exchange_rate\n",
    "        \n",
    "    except (requests.exceptions.RequestException, json.decoder.JSONDecodeError) as e:\n",
    "        # Handle any exceptions that occur during the API request\n",
    "        # If the API request fails, use the cached exchange rate value if it exists\n",
    "        if cached_exchange_rate is not None:\n",
    "            exchange_rate = cached_exchange_rate\n",
    "        else:\n",
    "            # If there is no cached exchange rate value, raise the original exception\n",
    "            raise e\n",
    "    \n",
    "    return exchange_rate           \n",
    "            \n",
    "# This function converts salary values in US dollars to euro currency\n",
    "def convert_salary_currency(df):\n",
    "    \n",
    "    # Create a boolean mask to select rows where salary is in US dollars\n",
    "    mask = df['og_salary_currency'] == '$us'   \n",
    "    \n",
    "    # Multiply the 'discrete_salary' column by the exchange rate\n",
    "    df.loc[mask,'discrete_salary'] *= get_exchange_rate()\n",
    "    \n",
    "    # Return the modified dataframe\n",
    "    return df\n",
    "\n",
    "\n",
    "# This function converts salary values from their original period to yearly, monthly, and daily rates\n",
    "def convert_salary_period(df):\n",
    "    \n",
    "    # Define constants used in the conversion calculations\n",
    "    n_days_per_year = 250\n",
    "    n_days_per_month = 20\n",
    "        \n",
    "    # Create a boolean mask to select rows where salary is reported annually\n",
    "    mask = df['og_salary_period'] == 'an'\n",
    "\n",
    "    # Convert the 'discrete_salary' values in the selected rows to yearly, monthly, and daily rates\n",
    "    df.loc[mask, 'year_salary'] = df.loc[mask,'discrete_salary']\n",
    "    df.loc[mask, 'month_salary'] = df.loc[mask,'discrete_salary'] / 12\n",
    "    df.loc[mask, 'day_salary'] = df.loc[mask,'discrete_salary'] / n_days_per_year\n",
    "\n",
    "    # Create a boolean mask to select rows where salary is reported monthly\n",
    "    mask = df['og_salary_period'] == 'mois'\n",
    "\n",
    "    # Convert the 'discrete_salary' values in the selected rows to yearly, monthly, and daily rates\n",
    "    df.loc[mask, 'year_salary'] = df.loc[mask,'discrete_salary'] * 12\n",
    "    df.loc[mask, 'month_salary'] = df.loc[mask,'discrete_salary'] \n",
    "    df.loc[mask, 'day_salary'] = df.loc[mask,'discrete_salary'] / n_days_per_month\n",
    "\n",
    "    # Create a boolean mask to select rows where salary is reported daily\n",
    "    mask = df['og_salary_period'] == 'jour'\n",
    "\n",
    "    # Convert the 'discrete_salary' values in the selected rows to yearly, monthly, and daily rates\n",
    "    df.loc[mask, 'year_salary'] = df.loc[mask,'discrete_salary'] * n_days_per_year\n",
    "    df.loc[mask, 'month_salary'] = df.loc[mask,'discrete_salary'] * n_days_per_month\n",
    "    df.loc[mask, 'day_salary'] = df.loc[mask,'discrete_salary'] \n",
    "\n",
    "    # Return the modified dataframe\n",
    "    return df\n",
    "    \n",
    "def salary_prepro(df):\n",
    "    \n",
    "    df = get_salary_col(df)\n",
    "    df = get_og_salary_period(df)\n",
    "    df = get_og_salary_currency(df)\n",
    "    df = clean_salary(df)\n",
    "    df = get_salary_range_and_mean(df)\n",
    "    df = convert_salary_period(df)\n",
    "    df = convert_salary_currency(df)\n",
    "    \n",
    "    return df\n",
    "\n",
    "data = salary_prepro(data)"
   ]
  },
  {
   "cell_type": "code",
   "execution_count": 16,
   "id": "b0bc1237-d8b4-47d1-86fe-721213ed8d73",
   "metadata": {
    "canvas": {
     "comments": [],
     "componentType": "CodeCell",
     "copiedOriginId": null,
     "diskcache": false,
     "headerColor": "none",
     "id": "a8b5468d-0638-465d-8543-d555dd853ee6",
     "isComponent": false,
     "name": "",
     "parents": []
    },
    "tags": []
   },
   "outputs": [
    {
     "data": {
      "text/plain": [
       "Index(['title', 'company_name', 'location', 'via', 'description', 'extensions',\n",
       "       'schedule_type', 'date_time', 'search_query', 'employment_type',\n",
       "       'seniority_level', 'executive_title', 'remote_availability',\n",
       "       'extracted_salary', 'og_salary_period', 'og_salary_currency',\n",
       "       'lower_bound', 'upper_bound', 'discrete_salary', 'year_salary',\n",
       "       'month_salary', 'day_salary'],\n",
       "      dtype='object')"
      ]
     },
     "execution_count": 16,
     "metadata": {},
     "output_type": "execute_result"
    }
   ],
   "source": [
    "data.columns"
   ]
  },
  {
   "cell_type": "markdown",
   "id": "4f893224",
   "metadata": {
    "canvas": {
     "comments": [],
     "componentType": "CodeCell",
     "copiedOriginId": null,
     "diskcache": false,
     "headerColor": "none",
     "id": "702f5f80-e124-43ad-88e0-033db4c04edc",
     "isComponent": false,
     "name": "",
     "parents": []
    },
    "tags": []
   },
   "source": [
    "## Finding remaining salaries hidden in job descriptions"
   ]
  },
  {
   "cell_type": "markdown",
   "id": "181ab559-9163-43f9-a586-3cef570b6a5b",
   "metadata": {
    "canvas": {
     "comments": [],
     "componentType": "CodeCell",
     "copiedOriginId": null,
     "diskcache": false,
     "headerColor": "none",
     "id": "38d67a85-250a-4317-bf6f-bf64219f2405",
     "isComponent": false,
     "name": "",
     "parents": []
    }
   },
   "source": [
    "After thorough research, some salaries are not mentionned in extensions column but in the job descriptions one. Problem is that the salary information comes in many forms, hence the difficulty to extract it. To get a better sense of the many forms it can take i will extract n number of characters before and after a proxy keyword ('salaire').\n",
    "\n",
    "As per i hope to get the full sentence in which the salary information is for each description containing the proxy keyword."
   ]
  },
  {
   "cell_type": "code",
   "execution_count": 17,
   "id": "e62d8ca1",
   "metadata": {
    "canvas": {
     "comments": [],
     "componentType": "CodeCell",
     "copiedOriginId": null,
     "diskcache": false,
     "headerColor": "none",
     "id": "a072efa0-66de-4606-856d-d1a8bd4bf85d",
     "isComponent": false,
     "name": "",
     "parents": []
    },
    "tags": []
   },
   "outputs": [],
   "source": [
    "# defining constants\n",
    "keywords = ['salaire', 'remuneration']#, 'durée', 'stage', 'contrat', 'localisation|lieu|location', 'statut', 'formation', 'profil', \n",
    "            #'mission', 'avantage', 'experience', 'soft', 'langue']\n",
    "n_chars_after = 200\n",
    "m_chars_before = 150\n",
    "#col_name = f'charsss_around_{kw}'\n",
    "\n",
    "# loop over keywords list\n",
    "for kw in keywords:\n",
    "    \n",
    "    # define our new columns\n",
    "    data[f'chars_around_{kw}'] = 'NC '\n",
    "\n",
    "    # loop over each string in data.description\n",
    "    for i, text in zip(data.index, data['description']):\n",
    "        \n",
    "        # get iterator over all keywords matches in each string\n",
    "        search_obj = re.finditer(kw, text, re.I)\n",
    "\n",
    "        if search_obj: # ... is true, then ...\n",
    "\n",
    "            # get each keyword match in string\n",
    "            for match in search_obj:\n",
    "\n",
    "                # Find the start index of the keyword\n",
    "                start = match.span()[0]\n",
    "\n",
    "                # Find the end index of the keyword\n",
    "                end = match.span()[1]\n",
    "\n",
    "                # Truncate line to get only 'n' characters before and after the keyword\n",
    "                line = text[start-m_chars_before:end+n_chars_after]\n",
    "                \n",
    "                # add up ever line containing keyword match (if several) in corresponding cells\n",
    "                data.loc[i, f'chars_around_{kw}'] += line\n",
    "                \n",
    "                # get rid of by default 'NC' string\n",
    "                data.loc[i, f'chars_around_{kw}'] = data.loc[i, f'chars_around_{kw}'].replace('NC ', '')\n",
    "                \n",
    "        else:\n",
    "            \n",
    "            # if no keyword match then keep by default value\n",
    "            data.loc[i, f'chars_around_{kw}'] = data.loc[i, f'chars_around_{kw}']"
   ]
  },
  {
   "cell_type": "code",
   "execution_count": 18,
   "id": "a6dc52a2-ae00-4c08-90b7-b5413ebeca47",
   "metadata": {
    "canvas": {
     "comments": [],
     "componentType": "CodeCell",
     "copiedOriginId": null,
     "diskcache": false,
     "headerColor": "none",
     "id": "2a4ce602-4638-4a9e-8d66-af90c08ecca2",
     "isComponent": false,
     "name": "",
     "parents": []
    },
    "tags": []
   },
   "outputs": [
    {
     "name": "stdout",
     "output_type": "stream",
     "text": [
      "Number of salaire word found in descriptions :  291\n",
      "Number of remuneration word found in descriptions :  493\n",
      "NUmber of processed discrete salaries :  187\n",
      "Unexploited salary info w/ \"salaire\" :  268\n",
      "Unexploited salary info w/ \"rémunération\" :  402\n"
     ]
    }
   ],
   "source": [
    "pd.options.display.max_colwidth = 4500\n",
    "pd.options.display.max_rows = 144\n",
    "\n",
    "mask1 = data.discrete_salary.isnull()\n",
    "mask2 = ~data.discrete_salary.isnull()\n",
    "\n",
    "mask3 = data.description.str.contains(r'remuneration')\n",
    "\n",
    "mask4 = ~data.description.str.contains(r'salaire')\n",
    "mask5 = data.description.str.contains(r'salaire')\n",
    "\n",
    "mask6 = data.chars_around_salaire != 'NC '\n",
    "mask7 = data.chars_around_salaire == 'NC '\n",
    "\n",
    "mask8 = data.chars_around_remuneration != 'NC '\n",
    "mask9 = data.chars_around_remuneration == 'NC '\n",
    "\n",
    "\n",
    "print('Number of salaire word found in descriptions : ', mask5.sum())\n",
    "print('Number of remuneration word found in descriptions : ', mask3.sum())\n",
    "\n",
    "print('NUmber of processed discrete salaries : ', mask2.sum())\n",
    "print('Unexploited salary info w/ \"salaire\" : ',data[ mask1 & mask6]['chars_around_salaire'].shape[0])\n",
    "print('Unexploited salary info w/ \"rémunération\" : ', data[ mask1 & mask7 & mask3].shape[0] )"
   ]
  },
  {
   "cell_type": "code",
   "execution_count": 19,
   "id": "3550d5b1-9aeb-4508-a68c-dba9181f26d0",
   "metadata": {
    "canvas": {
     "comments": [],
     "componentType": "CodeCell",
     "copiedOriginId": null,
     "diskcache": false,
     "headerColor": "none",
     "id": "d2c63639-1526-4538-b6c3-ecb30e7cfae0",
     "isComponent": false,
     "name": "",
     "parents": []
    },
    "tags": []
   },
   "outputs": [
    {
     "data": {
      "text/html": [
       "<div>\n",
       "<style scoped>\n",
       "    .dataframe tbody tr th:only-of-type {\n",
       "        vertical-align: middle;\n",
       "    }\n",
       "\n",
       "    .dataframe tbody tr th {\n",
       "        vertical-align: top;\n",
       "    }\n",
       "\n",
       "    .dataframe thead th {\n",
       "        text-align: right;\n",
       "    }\n",
       "</style>\n",
       "<table border=\"1\" class=\"dataframe\">\n",
       "  <thead>\n",
       "    <tr style=\"text-align: right;\">\n",
       "      <th></th>\n",
       "      <th>chars_around_salaire</th>\n",
       "    </tr>\n",
       "  </thead>\n",
       "  <tbody>\n",
       "    <tr>\n",
       "      <th>115</th>\n",
       "      <td>bution des campagnes marketing\\n• evaluation de l'impact incremental de tel ou tel canal\\n✨ quelques avantages a travailler chez shine :\\n\\nune grille de salaire transparente qui prend en compte ton experience et ton organisation personnelle (colonne data)\\n\\n‍ 1 jour de freelancing par mois : l'occasion de se mettre dans la peau de nos client·es (avec un compt</td>\n",
       "    </tr>\n",
       "    <tr>\n",
       "      <th>668</th>\n",
       "      <td>ciee.\\n\\nfourchette de remuneration annuelle versee en 2018 pour ce poste apres au moins une annee de presence (remuneration brute globale, incluant le salaire et la part variable : primes, participation, interessement) : 50.000 a 100.000+ € selon experience.\\n\\nvotre profil :\\nvous etes un passionne de developpement . vous aimez developper.\\nvous etes rigoureu</td>\n",
       "    </tr>\n",
       "    <tr>\n",
       "      <th>865</th>\n",
       "      <td>ns l’objectif de developper vos competences et de construire votre avenir professionnel,\\n\\n- vous serez responsable, autonome et force de proposition\\n\\nsalaire :\\n\\nen tant que stagiaire, vous percevez une remuneration comprise entre 950€ et 1400€ par mois en fonction de votre niveau d’etude et de la duree de votre stage.\\n\\nensemble, nous vous proposons d’inno</td>\n",
       "    </tr>\n",
       "    <tr>\n",
       "      <th>883</th>\n",
       "      <td>muneration attractive\\n• remboursement du titre de transport (50%)\\n• tickets restaurant\\n\\ntype d'emploi : temps plein, stage\\nduree du contrat : 6 mois\\n\\nsalaire : 1 500,00€ a 2 500,00€ par mois\\n\\navantages :\\n• participation au transport\\n• titre-restaurant\\n\\nprogrammation :\\n• travail en journee\\n\\ntypes de primes et de gratifications :\\n• prime annuelle\\n• primes\\n\\n</td>\n",
       "    </tr>\n",
       "    <tr>\n",
       "      <th>1407</th>\n",
       "      <td>fixe + variable (10%)\\n• prime de participation\\n• 30j de conges\\n• ≈* 3j de teletravail *par semaine\\n\\ntype d'emploi : temps plein, cdi\\nstatut : cadre\\n\\nsalaire : a partir de 37 000,00€ par mois\\n\\nprogrammation :\\n• travail en journee\\n\\nlieu du poste : teletravail hybride (94000 creteil</td>\n",
       "    </tr>\n",
       "    <tr>\n",
       "      <th>1645</th>\n",
       "      <td>entre presence chez nos clients, dans nos bureaux ou en teletravail, en fonction des sujets a mener.\\n• pour ce poste de data engineer experimente le salaire indicatif que nous vous proposons a niort est compris entre 45 k€ et 60 k€ brut annuel, beneficiez de rtt et de titres restaurant. cette remuneration s'etudie en fonction de vos annees d'experiences</td>\n",
       "    </tr>\n",
       "    <tr>\n",
       "      <th>1737</th>\n",
       "      <td>vous maitrisez a un niveau avance (notions de js appreciees)\\n\\ncontrat et remuneration :\\n• type de contrat : cdi.\\n• temps de travail : 35h/ semaine.\\n• salaire entre 75,000 € et 90,000 € brut/an + 18% de variable ; negociable.\\n• teletravail.\\n\\nnotre client est un grand groupe francais leader specialise dans la distribution de biens d'equipements de la maison</td>\n",
       "    </tr>\n",
       "    <tr>\n",
       "      <th>1942</th>\n",
       "      <td>s et en anglais\\n\\n# data science\\n\\n# data scientist\\n\\n# ai artificial intelligence\\n\\n# machine learning\\n\\ntype d'emploi : temps plein, cdi\\nstatut : cadre\\n\\nsalaire : a partir de 50 000,00€ par an\\n\\navantages :\\n• horaires flexibles\\n• participation au transport\\n• rtt\\n• titre-restaurant\\n• travail a domicile\\n\\nprogrammation :\\n• du lundi au vendredi\\n• horaires flexibl</td>\n",
       "    </tr>\n",
       "    <tr>\n",
       "      <th>2593</th>\n",
       "      <td>vous maitrisez a un niveau avance (notions de js appreciees)\\n\\ncontrat et remuneration :\\n- type de contrat : cdi.\\n- temps de travail : 35h/ semaine.\\n- salaire entre 75, 000 € et 90, 000 € brut/an + 18% de variable ; negociable.\\n- teletravail.\\nen resume ...\\n• creteil - 94\\n• cdi - teletravail partiel\\n• services aux entreprises\\n• bac +5\\npubliee le 20/02/2023.</td>\n",
       "    </tr>\n",
       "    <tr>\n",
       "      <th>2830</th>\n",
       "      <td>vous maitrisez a un niveau avance (notions de js appreciees)\\n\\ncontrat et remuneration :\\n- type de contrat : cdi.\\n- temps de travail : 35h/ semaine.\\n- salaire entre 75, 000 € et 90, 000 € brut/an + 18% de variable ; negociable.\\n- teletravail.\\nen resume ...\\n• creteil - 94\\n• cdi - teletravail partiel\\n• services aux entreprises\\n• bac +5\\npubliee le 20/02/2023.</td>\n",
       "    </tr>\n",
       "    <tr>\n",
       "      <th>3058</th>\n",
       "      <td>s atouts pour reussir dans ce poste.\\n• vous voulez rejoindre notre equipe de data enthusiasts ?\\n• contactez-nous !\\n\\ntype d'emploi : temps plein, cdi\\n\\nsalaire : a partir de 36 000,00€ par an\\n\\navantages :\\n• epargne salariale\\n• participation au transport\\n• rtt\\n• titre-restaurant\\n\\nprogrammation :\\n• periodes de travail de 8 heures\\n• travail en journee\\n\\nlieu du</td>\n",
       "    </tr>\n",
       "    <tr>\n",
       "      <th>3168</th>\n",
       "      <td>s et en anglais\\n\\n# data science\\n\\n# data scientist\\n\\n# ai artificial intelligence\\n\\n# machine learning\\n\\ntype d'emploi : temps plein, cdi\\nstatut : cadre\\n\\nsalaire : a partir de 50 000,00€ par an\\n\\navantages :\\n• horaires flexibles\\n• participation au transport\\n• rtt\\n• titre-restaurant\\n• travail a domicile\\n\\nprogrammation :\\n• du lundi au vendredi\\n• horaires flexibl</td>\n",
       "    </tr>\n",
       "    <tr>\n",
       "      <th>3221</th>\n",
       "      <td>t le monde souhaite avancer, une serie d’entretiens en visio avec les personnes cles.\\n\\nduree du contrat : 6 mois\\n\\ntype d'emploi : temps plein, stage\\n\\nsalaire : a partir de 800,00€ par mois\\n\\navantages :\\n\\n- titre-restaurant\\n\\nhoraires :\\n\\n... horaires amenageables\\n\\n- periodes de travail de 8 heures\\n\\n- travail en journee\\n\\nteletravail:\\n\\n- oui</td>\n",
       "    </tr>\n",
       "    <tr>\n",
       "      <th>3270</th>\n",
       "      <td>iens\\n\\ncv + reponse a la question suivante : how do you see data play a role in digital marketing ?\\n\\nstatut : cadre\\n\\ntype d'emploi : temps plein, cdi\\n\\nsalaire : 2 289,00€ a 3 750,00€ par mois\\n\\navantages :\\n\\n- epargne salariale\\n\\n- horaires flexibles\\n\\n- participation au transport\\n\\n- rtt\\n\\n- titre-restaurant\\n\\n- travail a distance\\n\\nhoraires :\\n\\n- du lundi au vend</td>\n",
       "    </tr>\n",
       "    <tr>\n",
       "      <th>3276</th>\n",
       "      <td>sir dans ce poste.\\n\\n- vous voulez rejoindre notre equipe de data enthusiasts ?\\n\\n- contactez-nous !\\n\\nstatut : cadre\\n\\ntype d'emploi : temps plein, cdi\\n\\nsalaire : a partir de 45 000,00€ par an\\n\\navantages :\\n\\n- epargne salariale\\n\\n- participation au transport\\n\\n- rtt\\n\\n- titre-restaurant\\n\\n- travail a distance\\n\\nhoraires :\\n\\n- du lundi au vendredi\\n\\n- periodes de tra</td>\n",
       "    </tr>\n",
       "    <tr>\n",
       "      <th>3571</th>\n",
       "      <td>vous maitrisez a un niveau avance (notions de js appreciees)\\n\\ncontrat et remuneration :\\n• type de contrat : cdi.\\n• temps de travail : 35h/ semaine.\\n• salaire entre 75,000 € et 90,000 € brut/an + 18% de variable ; negociable.\\n• teletravail.\\n\\nnotre client est un grand groupe francais leader specialise dans la distribution de biens d’equipements de la maison</td>\n",
       "    </tr>\n",
       "    <tr>\n",
       "      <th>3691</th>\n",
       "      <td>nce integration au sein d'une equipe pluridisciplinaire large eventail de mission (connaissance client, fraude etc...)type d'emploi : temps plein, cdisalaire: 55000,00€a65000,00€par anavantages: horaires flexibles titre-restaurantprogrammation: du lundi au vendredi horaires flexiblestypes de primes et de gratifications: prime annuelle* primeslieu du poste</td>\n",
       "    </tr>\n",
       "    <tr>\n",
       "      <th>3701</th>\n",
       "      <td>ion en francais et en anglais data science data scientist ai artificial intelligence machine learning type d'emploi : temps plein, cdi statut : cadre salaire : a partir de 50 000,00€ par an avantages : horaires flexibles participation au transport rtt titre-restaurant travail a domicile programmation : du lundi au vendredi horaires flexibles travail en jo</td>\n",
       "    </tr>\n",
       "  </tbody>\n",
       "</table>\n",
       "</div>"
      ],
      "text/plain": [
       "                                                                                                                                                                                                                                                                                                                                                                                   chars_around_salaire\n",
       "115                         bution des campagnes marketing\\n• evaluation de l'impact incremental de tel ou tel canal\\n✨ quelques avantages a travailler chez shine :\\n\\nune grille de salaire transparente qui prend en compte ton experience et ton organisation personnelle (colonne data)\\n\\n‍ 1 jour de freelancing par mois : l'occasion de se mettre dans la peau de nos client·es (avec un compt\n",
       "668                         ciee.\\n\\nfourchette de remuneration annuelle versee en 2018 pour ce poste apres au moins une annee de presence (remuneration brute globale, incluant le salaire et la part variable : primes, participation, interessement) : 50.000 a 100.000+ € selon experience.\\n\\nvotre profil :\\nvous etes un passionne de developpement . vous aimez developper.\\nvous etes rigoureu\n",
       "865                       ns l’objectif de developper vos competences et de construire votre avenir professionnel,\\n\\n- vous serez responsable, autonome et force de proposition\\n\\nsalaire :\\n\\nen tant que stagiaire, vous percevez une remuneration comprise entre 950€ et 1400€ par mois en fonction de votre niveau d’etude et de la duree de votre stage.\\n\\nensemble, nous vous proposons d’inno\n",
       "883           muneration attractive\\n• remboursement du titre de transport (50%)\\n• tickets restaurant\\n\\ntype d'emploi : temps plein, stage\\nduree du contrat : 6 mois\\n\\nsalaire : 1 500,00€ a 2 500,00€ par mois\\n\\navantages :\\n• participation au transport\\n• titre-restaurant\\n\\nprogrammation :\\n• travail en journee\\n\\ntypes de primes et de gratifications :\\n• prime annuelle\\n• primes\\n\\n\n",
       "1407                                                                                              fixe + variable (10%)\\n• prime de participation\\n• 30j de conges\\n• ≈* 3j de teletravail *par semaine\\n\\ntype d'emploi : temps plein, cdi\\nstatut : cadre\\n\\nsalaire : a partir de 37 000,00€ par mois\\n\\nprogrammation :\\n• travail en journee\\n\\nlieu du poste : teletravail hybride (94000 creteil\n",
       "1645                              entre presence chez nos clients, dans nos bureaux ou en teletravail, en fonction des sujets a mener.\\n• pour ce poste de data engineer experimente le salaire indicatif que nous vous proposons a niort est compris entre 45 k€ et 60 k€ brut annuel, beneficiez de rtt et de titres restaurant. cette remuneration s'etudie en fonction de vos annees d'experiences \n",
       "1737                      vous maitrisez a un niveau avance (notions de js appreciees)\\n\\ncontrat et remuneration :\\n• type de contrat : cdi.\\n• temps de travail : 35h/ semaine.\\n• salaire entre 75,000 € et 90,000 € brut/an + 18% de variable ; negociable.\\n• teletravail.\\n\\nnotre client est un grand groupe francais leader specialise dans la distribution de biens d'equipements de la maison\n",
       "1942      s et en anglais\\n\\n# data science\\n\\n# data scientist\\n\\n# ai artificial intelligence\\n\\n# machine learning\\n\\ntype d'emploi : temps plein, cdi\\nstatut : cadre\\n\\nsalaire : a partir de 50 000,00€ par an\\n\\navantages :\\n• horaires flexibles\\n• participation au transport\\n• rtt\\n• titre-restaurant\\n• travail a domicile\\n\\nprogrammation :\\n• du lundi au vendredi\\n• horaires flexibl\n",
       "2593                  vous maitrisez a un niveau avance (notions de js appreciees)\\n\\ncontrat et remuneration :\\n- type de contrat : cdi.\\n- temps de travail : 35h/ semaine.\\n- salaire entre 75, 000 € et 90, 000 € brut/an + 18% de variable ; negociable.\\n- teletravail.\\nen resume ...\\n• creteil - 94\\n• cdi - teletravail partiel\\n• services aux entreprises\\n• bac +5\\npubliee le 20/02/2023.\n",
       "2830                  vous maitrisez a un niveau avance (notions de js appreciees)\\n\\ncontrat et remuneration :\\n- type de contrat : cdi.\\n- temps de travail : 35h/ semaine.\\n- salaire entre 75, 000 € et 90, 000 € brut/an + 18% de variable ; negociable.\\n- teletravail.\\nen resume ...\\n• creteil - 94\\n• cdi - teletravail partiel\\n• services aux entreprises\\n• bac +5\\npubliee le 20/02/2023.\n",
       "3058            s atouts pour reussir dans ce poste.\\n• vous voulez rejoindre notre equipe de data enthusiasts ?\\n• contactez-nous !\\n\\ntype d'emploi : temps plein, cdi\\n\\nsalaire : a partir de 36 000,00€ par an\\n\\navantages :\\n• epargne salariale\\n• participation au transport\\n• rtt\\n• titre-restaurant\\n\\nprogrammation :\\n• periodes de travail de 8 heures\\n• travail en journee\\n\\nlieu du\n",
       "3168      s et en anglais\\n\\n# data science\\n\\n# data scientist\\n\\n# ai artificial intelligence\\n\\n# machine learning\\n\\ntype d'emploi : temps plein, cdi\\nstatut : cadre\\n\\nsalaire : a partir de 50 000,00€ par an\\n\\navantages :\\n• horaires flexibles\\n• participation au transport\\n• rtt\\n• titre-restaurant\\n• travail a domicile\\n\\nprogrammation :\\n• du lundi au vendredi\\n• horaires flexibl\n",
       "3221                           t le monde souhaite avancer, une serie d’entretiens en visio avec les personnes cles.\\n\\nduree du contrat : 6 mois\\n\\ntype d'emploi : temps plein, stage\\n\\nsalaire : a partir de 800,00€ par mois\\n\\navantages :\\n\\n- titre-restaurant\\n\\nhoraires :\\n\\n... horaires amenageables\\n\\n- periodes de travail de 8 heures\\n\\n- travail en journee\\n\\nteletravail:\\n\\n- oui\n",
       "3270    iens\\n\\ncv + reponse a la question suivante : how do you see data play a role in digital marketing ?\\n\\nstatut : cadre\\n\\ntype d'emploi : temps plein, cdi\\n\\nsalaire : 2 289,00€ a 3 750,00€ par mois\\n\\navantages :\\n\\n- epargne salariale\\n\\n- horaires flexibles\\n\\n- participation au transport\\n\\n- rtt\\n\\n- titre-restaurant\\n\\n- travail a distance\\n\\nhoraires :\\n\\n- du lundi au vend\n",
       "3276  sir dans ce poste.\\n\\n- vous voulez rejoindre notre equipe de data enthusiasts ?\\n\\n- contactez-nous !\\n\\nstatut : cadre\\n\\ntype d'emploi : temps plein, cdi\\n\\nsalaire : a partir de 45 000,00€ par an\\n\\navantages :\\n\\n- epargne salariale\\n\\n- participation au transport\\n\\n- rtt\\n\\n- titre-restaurant\\n\\n- travail a distance\\n\\nhoraires :\\n\\n- du lundi au vendredi\\n\\n- periodes de tra\n",
       "3571                      vous maitrisez a un niveau avance (notions de js appreciees)\\n\\ncontrat et remuneration :\\n• type de contrat : cdi.\\n• temps de travail : 35h/ semaine.\\n• salaire entre 75,000 € et 90,000 € brut/an + 18% de variable ; negociable.\\n• teletravail.\\n\\nnotre client est un grand groupe francais leader specialise dans la distribution de biens d’equipements de la maison\n",
       "3691                              nce integration au sein d'une equipe pluridisciplinaire large eventail de mission (connaissance client, fraude etc...)type d'emploi : temps plein, cdisalaire: 55000,00€a65000,00€par anavantages: horaires flexibles titre-restaurantprogrammation: du lundi au vendredi horaires flexiblestypes de primes et de gratifications: prime annuelle* primeslieu du poste\n",
       "3701                              ion en francais et en anglais data science data scientist ai artificial intelligence machine learning type d'emploi : temps plein, cdi statut : cadre salaire : a partir de 50 000,00€ par an avantages : horaires flexibles participation au transport rtt titre-restaurant travail a domicile programmation : du lundi au vendredi horaires flexibles travail en jo"
      ]
     },
     "execution_count": 19,
     "metadata": {},
     "output_type": "execute_result"
    }
   ],
   "source": [
    "mask9 = data.description.str.contains(r'€')\n",
    "\n",
    "data.loc[ mask1 & mask6 & mask3 & mask9, ['chars_around_salaire']]"
   ]
  },
  {
   "cell_type": "markdown",
   "id": "8e38e611-45a2-47af-86b5-d27be66c8a22",
   "metadata": {
    "canvas": {
     "comments": [],
     "componentType": "CodeCell",
     "copiedOriginId": null,
     "diskcache": false,
     "headerColor": "none",
     "id": "a9caf84b-3510-47ea-9941-a19133a977f9",
     "isComponent": false,
     "name": "",
     "parents": []
    }
   },
   "source": [
    "The already formated data in discrete_salary being scarce, it is crucial to extract the most of salary information. "
   ]
  },
  {
   "cell_type": "code",
   "execution_count": 20,
   "id": "946b3015-c84f-4515-a0d4-92f56fdc796f",
   "metadata": {
    "canvas": {
     "comments": [],
     "componentType": "CodeCell",
     "copiedOriginId": null,
     "diskcache": false,
     "headerColor": "none",
     "id": "f724111b-07a7-4472-9f8c-106a85be2fdf",
     "isComponent": false,
     "name": "",
     "parents": []
    },
    "collapsed": true,
    "jupyter": {
     "outputs_hidden": true
    },
    "tags": []
   },
   "outputs": [
    {
     "data": {
      "text/plain": [
       "0                                                                                                                                                                                                                                                                                                                                                                                                                                                                                                                                                                                                                                                                                                                                                                                                                                                     igieuse.\\n\\nrencontrez l'equipe fifty-five ! https://bit.ly/2t8hlhx\\n\\nlocalisation : 5 rue d'athenes, 75009 paris\\n\\ndate de demarrage : des que possible\\n\\nsalaire : selon experience\\nen resume ...\\n• paris 1er - 75\\n• cdi\\n• secteur informatique • esn\\n• bac +5\\npubliee le 16/02/2023. ref : eb5f25ecbbf136f294e497b6a1b6d894\n",
       "8                                                                                                                                                                                                                                                                                                                                                                                                                                                                                                                                                                                                                                                                                                                                                                                                                 r recrute un data scientist - sql / python (h/f) en contrat pro / alternance a massy (91377). le profil ideal ? formation et experience de 1 - 2 ans. salaire : selon profil\\n\\ndescription de l'offre :\\n\\na propos de nous:\\n\\ncreateur de l'hypermarche et pionnier de la consommation de masse, carrefour reste fidele a ses racines tout en se reinventant chaque jour\n",
       "27                                                                                                                                                                                                                                                                                                                                                                                                                                                                                                                                                                                                                                                                                                                                                                                                                                                                                   patients et de la recherche. vous etes a l'aise avec des langages comme r ou python, avec le deep learning, et l'ecosysteme big data (hadoop, spark).\\nsalaire 45/55k€\\nposte en cdi a pourvoir sur rennes\\nsiege social\\nles jardins de la duranne\\n510 rue rene descartes bat d\\n13290 aix-en-provence\n",
       "79                                                                                                                                                                                                                                                                                                                                                                                                                                                                                                                                                                                                                                                                                                                                                                                                                      commerciale. anglais courant ecrit et oral car il y a des echanges reguliers avec le siege europe base en belgique. remuneration : entre 55ke et 65ke salaire fixe variable paye sur 13 mois selon le profil de la personne recrutee. mutuelle, tr. un parking est a disposition des salaries, le site est accessible par le rer c et le tramway 7 egalement. jusqu'a\n",
       "102                                                                                                                                                                                                                                                                                                                                                                                                                                                                                                                                                                                                                                                                                                                                                                                                                                                                                                                                                                                 vos debuts.\\n\\ndetails pratiques\\n\\ntype d'emploi : temps plein, cdi\\n\\nlieu de travail : boulogne-billancourt\\n\\nteletravail : plusieurs jours par semaine\\n\\nsalaire : 42 000,00€ par an - selon profil\n",
       "115                                                                                                                                                                                                                                                                                                                                                                                                                                                                                                                                                                                                                                                                                                                                                                                                               bution des campagnes marketing\\n• evaluation de l'impact incremental de tel ou tel canal\\n✨ quelques avantages a travailler chez shine :\\n\\nune grille de salaire transparente qui prend en compte ton experience et ton organisation personnelle (colonne data)\\n\\n‍ 1 jour de freelancing par mois : l'occasion de se mettre dans la peau de nos client·es (avec un compt\n",
       "116                                                                                                                                                                                                                                                                                                                                                                                                                                                                                                                                                                                                                                                                                                                                                                                         os experts en recrutement vous guident pour aller de l'avant et faire evoluer votre carriere vers la prochaine etape.\\n\\nautres offres de l'entreprise\\n\\nsalaire\\n\\na negocier\\n\\nprise de poste\\n\\ndes que possible\\n\\nexperience\\n\\ntous niveaux d'experience acceptes\\n\\nmetier\\n\\nweb analyst\\n\\nstatut du poste\\n\\ncadre du secteur prive\\n\\nzone de deplacement\\n\\npas de deplacement\\n\\ns\n",
       "117                                                                                                                                                                                                                                                                                                                                                                                                                                                                                                                                                                                                                                                                                                                                                                                                            s.\\ndes qualites redactionnelles et une capacite a travailler en equipe a distance.\\nlocalisation : site client paris\\n\\nce que nous vous proposons :\\n\\nun salaire en phase avec le marche actuel, determine selon votre experience\\ndu teletravail en format hybride (50%).\\nun apprentissage continu (formations et certifications disponibles)\\nun ce dynamique et avantag\n",
       "121                                                                                                                                          , notre culture forte (bienveillance, exigence, resilience et data-first) et notre innovation permanente en termes de modes de travail (ex. grille de salaire transparente, formation au changement climatique, transparence sur la strategie) sont les cles de notre reussite collective.... et de ta reussite avec nous\\njob description\\n\\nfoxintelligence recherche ipe data management\\n• test technique\\n• round 2 : entretien avec deux membres de l'equipe data management\\n\\nbenefits\\n\\navantages/ce que nous offrons :\\n• salaire et variable competitifs\\n• remote friendly (+ budget amenagement de l'espace de travail @home)\\n• bonus cooptation\\n• bonne assurance sante (alan)\\n• titres restaurants (swile) : pris en charge a 60% par subventionne par fox\\n• culture forte et pratiques de management a la pointe (strategie et resultats financiers transparents, feedback 360, grille de salaire innovante et transparente etc.)\\n• 4 jours par an offert pour faire du benevolat (partenariat avec la plateforme vendredi\n",
       "154                                                                                                                                                                                                                                                                                                                                                                                                                                                                                                                                                                                                                                                                                                                                                                                            p, decisionnel, crm, internet/intranet ...\\n\\nautres offres de l'entreprise\\n\\npersonne en charge du recrutement\\nmarc sorel - responsable des operations\\n\\nsalaire\\na partir de 45 k€ brut annuel\\n\\nprise de poste\\ndes que possible\\n\\nexperience\\nminimum 5 ans\\n\\nmetier\\ndata analyst\\n\\nstatut du poste\\ncadre du secteur prive\\n\\nzone de deplacement\\npas de deplacement\\n\\nsecteur \n",
       "155                                                                                                                                         , notre culture forte (bienveillance, exigence, resilience et data-first) et notre innovation permanente en termes de modes de travail (ex. grille de salaire transparente, formation au changement climatique, transparence sur la strategie) sont les cles de notre reussite collective.... et de ta reussite avec nous\\n\\njob description\\n\\nchez foxintelligence, l’ee head of strategy&operations\\n• test technique\\n• decision round : entretiens avec notre coo et notre ceo\\n\\nbenefits\\n\\navantages/ce que nous offrons :\\n• salaire et variable competitifs\\n• remote friendly (+ budget amenagement de l’espace de travail @home)\\n• bonus cooptation\\n• bonne assurance sante (alan)\\n• titres restaurants (swile) : pris en charge a 60% par subventionne par fox\\n• culture forte et pratiques de management a la pointe (strategie et resultats financiers transparents, feedback 360, grille de salaire innovante et transparente etc.)\\n• 4 jours par an offert pour faire du benevolat (partenariat avec la plateforme vendredi\n",
       "165                                                                                                                                                                                                                                                                                                                                                                                                                                                                                                                                                                                                                                                                                                                                                                                     , decisionnel, crm, internet/intranet ...\\n\\nautres offres de l'entreprise\\n\\npersonne en charge du recrutement\\n\\nmarc sorel - responsable des operations\\n\\nsalaire\\n\\na partir de 45 k€ brut annuel\\n\\nprise de poste\\n\\ndes que possible\\n\\nexperience\\n\\nminimum 5 ans\\n\\nmetier\\n\\ndata analyst\\n\\nstatut du poste\\n\\ncadre du secteur prive\\n\\nzone de deplacement\\n\\npas de deplacement\\n\\nse\n",
       "166                                                                                                                                                                                                                                                                                                                                                                                                                                                                                                                                                                                                                                                                                                                                                                                                                integrant un collectif de 7 charges d'analyses statistiques.\\n• vous serez un interlocuteur privilegie aupres de nos clients.\\n\\navantages du poste :\\n• salaire fixe (13eme mois mensualise) + primes interessement et participation attractives\\n• pee et pere collectif avec abondement\\n• forfait jours 200 jours travailles (environ 10,5 semaines de conges + possib\n",
       "173     ee a emsom@airbus.com.\\n\\nchez airbus, nous vous aidons a travailler, a vous connecter et a collaborer plus facilement et de maniere plus flexible....\\n\\nsalaire et avantages\\n\\nsalaire : salaire selon profil\\n\\nreference :\\n\\njr10145779\\n\\nvoir plus de contenus\\n\\ncreez votre profil pour postuler a cette offre\\n\\ne-mail\\n\\nprenom\\n\\nnom\\n\\nmot de passe\\n\\nj'accepte les conditio\\n\\nchez airbus, nous vous aidons a travailler, a vous connecter et a collaborer plus facilement et de maniere plus flexible....\\n\\nsalaire et avantages\\n\\nsalaire : salaire selon profil\\n\\nreference :\\n\\njr10145779\\n\\nvoir plus de contenus\\n\\ncreez votre profil pour postuler a cette offre\\n\\ne-mail\\n\\nprenom\\n\\nnom\\n\\nmot de passe\\n\\nj'accepte les conditions generales pour creebus, nous vous aidons a travailler, a vous connecter et a collaborer plus facilement et de maniere plus flexible....\\n\\nsalaire et avantages\\n\\nsalaire : salaire selon profil\\n\\nreference :\\n\\njr10145779\\n\\nvoir plus de contenus\\n\\ncreez votre profil pour postuler a cette offre\\n\\ne-mail\\n\\nprenom\\n\\nnom\\n\\nmot de passe\\n\\nj'accepte les conditions generales pour creer mon comp\n",
       "185                                                                                                                                                                                                                                                                                                                                                                                                                                                                                                                                                                                                                                                                                                                                                                                                              ns\\n• flexibilite de l'organisation (deux jours de teletravail par semaine)\\n• un cadre international dans une grande entreprise en transformation\\n• un salaire fixe complete par des primes de progres trimestrielles\\n• une politique de partage qui permet a 100% de nos collaborateurs d'etre actionnaires de l'entreprise\\n• mutuelle et autres avantages legaux\\n\\nni\n",
       "204                                                                                                                                                                                                                                                                                                                                                                                                                                                                                                                                                                                                                                                                                                                                                                                                             mmerciale.\\nanglais courant ecrit et oral car il y a des echanges reguliers avec le siege europe base en belgique.\\n\\nremuneration :\\n\\nentre 55ke et 65ke salaire fixe + variable paye sur 13 mois selon le profil de la personne recrutee.\\nmutuelle, tr.\\nun parking est a disposition des salaries, le site est accessible par le rer c et le tramway 7 egalement.\\njusqu\n",
       "258                                                                                                                                                                                                                                                                                                                                                                                                                                                                                                                                                                                                                                                                                                                                                                                                   er une valeur ajoutee a l’entreprise.\\n\\nc'est un projet de maintenance predictive dans le secteur de l'automobille.\\n\\ntype d'emploi : temps plein, cdi\\n\\nsalaire : a partir de 45 000,00€ par an\\n\\navantages :\\n• participation au transport\\n• rtt\\n• titre-restaurant\\n\\nprogrammation :\\n• du lundi au vendredi\\n• periodes de travail de 8 heures\\n• travail en journee\\n\\nlieu\n",
       "262                                                                                                                                                                                                                                                                                                                                                                                                                                                                                                                                                                                                                                                                                                                                                                                               ppement et de programmation\\n\\n\\* logique microservice, genie logiciel\\n\\n\\* utilisation de git\\n\\n\\* methodologie agile\\n\\ntype d'emploi : temps plein, cdi\\n\\nsalaire : a partir de 45 000,00€ par an\\n\\navantages :\\n• participation au transport\\n• rtt\\n• titre-restaurant\\n\\nprogrammation :\\n• du lundi au vendredi\\n• periodes de travail de 8 heures\\n• travail en journee\\n\\nlieu\n",
       "362                                                                                                                                                                                                                                                                                                                                                                                                                                                                                                                                                                                                                                                                                                                                                                                                                 , notre culture forte (bienveillance, exigence, resilience et data-first) et notre innovation permanente en termes de modes de travail (ex. grille de salaire transparente, formation au changement climatique, transparence sur la strategie) sont les cles de notre reussite collective.... et de ta reussite avec nous\\n\\nmission description\\n\\nfoxintelligence is co\n",
       "367                                                                                                                                                                                                                                                                                                                                                                                                                                                                                                                                                                                                                                                                                                                                                                                                                 , notre culture forte (bienveillance, exigence, resilience et data-first) et notre innovation permanente en termes de modes de travail (ex. grille de salaire transparente, formation au changement climatique, transparence sur la strategie) sont les cles de notre reussite collective.... et de ta reussite avec nous !\\n\\nmission description\\n\\nfoxintelligence is \n",
       "371                                                                                                                                                                                                                                                                                                                                                                                                                                                                                                                                                                                                                                                                                                                                                                                              l'arret emile-combe. poursuivre a pied jusqu'a l'entree pietons au 20 avenue descartes\\n\\nparking visiteurs disponible\\n\\nautres offres de l'entreprise\\n\\nsalaire\\na negocier\\n\\nprise de poste\\ndes que possible\\n\\nexperience\\nminimum 4 ans\\n\\nmetier\\ndata analyst\\n\\nstatut du poste\\ncadre du secteur prive\\n\\nzone de deplacement\\npas de deplacement\\n\\nsecteur d’activite du poste\n",
       "458                                                                                                                                                                                                                                                                                                                                                                                                                                                                                                                                                                                                                                                                                                                                                                                                                ues decisionnelles data localisation villeneuve d ascq (59)\\nniveau d'etudesbac + 4 valide, bac + 2 valide, bac + 3 valide niveau d'experienceetudiant salaire0-1 k € brut annuel fixe + interessement et participation date de publication24/01/2023 date de prise de poste referencea054503\\n\\nqui sommes-nous ?\\n\\ncofidis s’est construite en 1982 autour de 2 notions\n",
       "517         erne en collaboration avec l'equipe de developpement commercial, definir et mettre en œuvre des preuves de concept pour stimuler la qualification...\\n\\nsalaire et avantages\\n\\nsalaire : salaire selon profil\\n\\nreference :\\n\\njr10157082\\n\\nvoir plus de contenus\\n\\ncreez votre profil pour postuler a cette offre\\n\\ne-mail\\n\\nprenom\\n\\nnom\\n\\nmot de passe\\n\\nj'accepte les conditioavec l'equipe de developpement commercial, definir et mettre en œuvre des preuves de concept pour stimuler la qualification...\\n\\nsalaire et avantages\\n\\nsalaire : salaire selon profil\\n\\nreference :\\n\\njr10157082\\n\\nvoir plus de contenus\\n\\ncreez votre profil pour postuler a cette offre\\n\\ne-mail\\n\\nprenom\\n\\nnom\\n\\nmot de passe\\n\\nj'accepte les conditions generales pour creeipe de developpement commercial, definir et mettre en œuvre des preuves de concept pour stimuler la qualification...\\n\\nsalaire et avantages\\n\\nsalaire : salaire selon profil\\n\\nreference :\\n\\njr10157082\\n\\nvoir plus de contenus\\n\\ncreez votre profil pour postuler a cette offre\\n\\ne-mail\\n\\nprenom\\n\\nnom\\n\\nmot de passe\\n\\nj'accepte les conditions generales pour creer mon comp\n",
       "524                                                                                                                                                                                                                                                                                                                                                                                                                                                                                                                                                                                                                                                                                                                                                                                                                                                                       atients et de la recherche. vous etes a l’aise avec des langages comme r ou python, avec le deep learning, et l’ecosysteme big data (hadoop, spark).\\n\\nsalaire 45/55k€\\n\\nposte en cdi a pourvoir sur rennes\\n\\nsiege social\\n\\nles jardins de la duranne\\n\\n510 rue rene descartes bat d\\n\\n13290 aix-en-provence\n",
       "635                                                                                                                                                                                                                                                                                                                                                                                                                                                                                                                                                                                                                                                                                                                                                                                                                                                                                                                                                                                                                                                                                                                                                                                          \n",
       "662                                                                                                                                                                                                                                                                                                                                                                                                                                                                                                                                                                                                                                                                                                                                                                                                                    une priorite accordee au developpement des collaborateur.rice.s – un management qui aide les equipes a progresser, a reussir.\\ncote remuneration : ton salaire mais aussi de la participation, de l’interessement, un perco, une mutuelle, une carte restaurants, des conges supplementaires proportionnels a ton anciennete, un ce tres dynamique, un accord de telet\n",
       "668                                                                                                                                                                                                                                                                                                                                                                                                                                                                                                                                                                                                                                                                                                                                                                                                               ciee.\\n\\nfourchette de remuneration annuelle versee en 2018 pour ce poste apres au moins une annee de presence (remuneration brute globale, incluant le salaire et la part variable : primes, participation, interessement) : 50.000 a 100.000+ € selon experience.\\n\\nvotre profil :\\nvous etes un passionne de developpement . vous aimez developper.\\nvous etes rigoureu\n",
       "669                                                                                                                                                                                                                                                                                                                                                                                                                                                                                                                                                                                                                                                                                                                                                                                                     ail (2 jours par semaine maximum)\\n• de nombreuses opportunites de carriere par la suite, en france ou a l’etranger (vie... etc)\\n\\ntype d'emploi : cdi\\n\\nsalaire : 35 000,00€ a 38 000,00€ par an\\n\\navantages\\n• epargne salariale\\n• horaires flexibles\\n• participation au transport\\n• rtt\\n• titre-restaurant\\n\\nprogrammation\\n• du lundi au vendredi\\n• horaires amenageable\n",
       "674                                                                                                                                                                                                                                                                                                                                                                                                                                                                                                                                                                                                                                                                                                                                                                                             e membre qui manque a notre equipe !\\n\\nnous recherchons notre futur lead data engineer h-f pour rejoindre notre soc...\\n\\nautres offres de l'entreprise\\n\\nsalaire\\na partir de 21 k€ brut annuel\\n\\nprise de poste\\ndes que possible\\n\\nexperience\\nminimum 6 ans\\n\\nmetier\\ndata engineer\\n\\nstatut du poste\\ncadre du secteur prive\\n\\nzone de deplacement\\nregionale\\n\\nsecteur d’activi\n",
       "676                                                                                                                                                                                                                                                                                                                                                                                                                                                                                                                                                                                                                                                                                                                                                                                         sons pas nos talents sur des secteurs d'activite et que nous favorisons l'accompagnement et la montee en competences.\\n\\nautres offres de l'entreprise\\n\\nsalaire\\n\\na partir de 70 k€ brut annuel\\n\\nprise de poste\\n\\ndes que possible\\n\\nexperience\\n\\nminimum 5 ans\\n\\nmetier\\n\\ndata engineer\\n\\nstatut du poste\\n\\ncadre du secteur prive\\n\\nzone de deplacement\\n\\npas de deplacement\\n\\ns\n",
       "678                                                                                                                                                                                                                                                                                                                                                                                                                                                                                                                                                                                                                                                                                                                                                                                            s de recrutement\\n\\nentretien avec notre cabinet puis entretiens avec l'entreprise.\\n\\npersonne en charge du recrutement\\naurelie mocogni - assistante rh\\n\\nsalaire\\na partir de 35 k€ brut annuel\\n\\nprise de poste\\ndes que possible\\n\\nexperience\\nminimum 2 ans\\n\\nmetier\\ndata engineer\\n\\nstatut du poste\\ncadre du secteur prive\\n\\nzone de deplacement\\ndepartementale\\n\\nsecteur d’a\n",
       "681                                                                                                                                                                                                                                                                                                                                                                                                                                                                                                                                                                                                                                                                                                                                                                                                              voulez-vous discuter des possibilites de reconversion de carriere ou d'avancement ou simplement de trouver un emploi avec de meilleures conditions de salaires ou de travail? contactez-nous.\\n\\npoints incontournables\\n• une reelle expertise mysql / mariadb\\n• anglais technique\\n• experience dans un environnement critique (fortes volumetries, temps reel etc)\\n\\nle\n",
       "685                                                                                                                                                                                                                                                                                                                                                                                                                                                                                                                                                                                                                                                                                                                                                                                                                     ploiement continu via gitlab ci/cd, docker utilisation de services manages aws (bases de donnees, ecs fargate, alb) conditions de poste : contrat cdi salaire : 40 k a 55 k brut annuel (negociable en fonction du profil) teletravail possible : 2 a 3 jours par semaine avantages : souplesse des horaires primes ak recrutement est un cabinet de recrutement spec\n",
       "693                                                                                                                                                                                                                                                                                                                                                                                                                                                                                                                                                                                                                                                                                                                                                                                                           voulez-vous discuter des possibilites de reconversion de carriere ou d'avancement ou simplement de trouver un emploi avec de meilleures conditions de salaires ou de travail? contactez-nous.\\n\\npoints incontournables\\n\\nune reelle expertise mysql / mariadb\\n\\nanglais technique\\n\\nexperience dans un environnement critique (fortes volumetries, temps reel etc)\\n\\nle ro\n",
       "697                                                                                                                                                                                                                                                                                                                                                                                                                                                                                                                                                                                                                                                                                                                                                                                                                     nce en data engineering vous etes autonome, force de proposition et apte pour evoluer dans un contexte international.type d'emploi : cdistatut : cadresalaire : 50 000,00€ a 70 000,00€ par anavantages :* participation au transport* rtt* titre-restaurantprogrammation :* du lundi au vendreditypes de... primes et de gratifications :* commissions* primeslieu d\n",
       "732                                                                                                                                                                                                                                                                                                                                                                                                                                                                                                                                                                                                                                                                                                                                                                                                                     e... donnees, optimiser des requetes, extraire et exploiter les donnees.alors n'hesitez plus et postuleztype d'emploi : temps plein, cdistatut : cadresalaire : a partir de 50 000,00€ par anavantages :* epargne salariale* participation au transport* rtt* titre-restaurant* travail a domicileprogrammation :* du lundi au vendredi* travail en journeelieu du po\n",
       "737                                                                                                                                                                                                                                                                                                                                                                                                                                                                                                                                                                                                                                                                                                                                                                                                                     sibilite pour les univers techniques.vous appreciez le travail en equipe et vous etes rigoureux.se dans votre travail.type d'emploi : temps plein, cdisalaire : 25 000,00€ a 27 000,00€ par anavantages :* participation au transport* titre-restaurantprogrammation :* du lundi au vendredi* periodes de... travail de 8 heures* travail en journeetypes de primes e\n",
       "748                                                                                                                                                                                                                                                                                                                                                                                                                                                                                                                                                                                                                                                                                                                                                                                                               a pointe des cas d’usages metiers et des nouvelles technologies data.\\n\\nnos avantages ?\\n• integrer la communaute data en tant que cadre en cdi avec un salaire en lien avec ton experience.\\n• decouvrir un management de proximite.\\n• evoluer grace a notre plan d’accompagnement et de developpement des competences personnalise.\\n• se deplacer principalement en me\n",
       "776                                                                                                                                                                                                                                                                                                                                                                                                                                                                                                                                                                                                                                                                                                                                                                                                   enir le porte-etendard de la discipline (computer vision) au sein d'un grand groupe.\\n\\ncette annonce est pour vous.\\n\\ntype d'emploi : temps plein, cdi\\n\\nsalaire : 45 000,00€ a 55 000,00€ par an\\n\\navantages :\\n• participation au transport\\n• rtt\\n• titre-restaurant\\n\\nprogrammation :\\n• travail en journee\\n\\ntypes de primes et de gratifications :\\n• prime annuelle\\n• pr\n",
       "865                                                                                                                                                                                                                                                                                                                                                                                                                                                                                                                                                                                                                                                                                                                                                                                                             ns l’objectif de developper vos competences et de construire votre avenir professionnel,\\n\\n- vous serez responsable, autonome et force de proposition\\n\\nsalaire :\\n\\nen tant que stagiaire, vous percevez une remuneration comprise entre 950€ et 1400€ par mois en fonction de votre niveau d’etude et de la duree de votre stage.\\n\\nensemble, nous vous proposons d’inno\n",
       "868                                                                                                                                                                                                                                                                                                                                                                                                                                                                                                                                                                                                                                                                                                                                                                                                               h pour parler de tes attentes, ton projet, ton futur !\\n• puis les managers pour parler concret : missions, projets, parcours de carriere, et bien sur salaire et avantages j\\n• et tu discutes avec un de nos tech leads, pour evaluer tes competences/ te challenger.\\n\\ntu souhaites donner un nouvel elan a ta carriere ? rejoins la vie apsidienne !\\n\\npour en savoir\n",
       "873                                                                                                                                                                                                                                                                                                                                                                                                                                                                                                                                                                                                                                                                                                                                                                                                               ration & avantages\\n\\ntravailler chez derichebourg interim et recrutement vous donne acces a de nombreux avantages tels que :\\n- une majoration de votre salaire brut d'environ 20% (10% ifm - 10% conges payes)\\n- acces a des formations professionnelles, diplomantes ou qualifiantes\\n- le compte epargne temps : une epargne facile et rentable\\n- le coffre-fort coff\n",
       "883                                                                                                                                                                                                                                                                                                                                                                                                                                                                                                                                                                                                                                                                                                                                                                                                 muneration attractive\\n• remboursement du titre de transport (50%)\\n• tickets restaurant\\n\\ntype d'emploi : temps plein, stage\\nduree du contrat : 6 mois\\n\\nsalaire : 1 500,00€ a 2 500,00€ par mois\\n\\navantages :\\n• participation au transport\\n• titre-restaurant\\n\\nprogrammation :\\n• travail en journee\\n\\ntypes de primes et de gratifications :\\n• prime annuelle\\n• primes\\n\\n\n",
       "895                                                                                                                                                                                                                                                                                                                                                                                                                                                                                                                                                                                                                                                                                                                                                                                                                                                                                           ion des problematiques techniques technos principales / environnement : sgbd sql, etl, bi : myreport, powerbi, tableau, qlikview conditions de travailsalaire : 45 000 a 55 000€ / an pour le profil attenduremote : 2 jours / semaines localisation : crespin (59)echange en anglais reguliers\n",
       "918                                                                                                                                                                                                                                                                                                                                                                                                                                                                                                                                                                                                                                                                                                                                                                                                                                                                                                                                                                                      is\\nexperience souhaitee\\nniveau d'etude requis\\n\\naucun diplome exige\\n\\npermis requis\\n• permis non obligatoire\\n\\nprise de poste\\n\\ndes que possible\\n\\ntype de salaire\\n\\na definir selon profil\n",
       "930                                                                                                                                                                                                                                                                                                                                                                                                                                                                                                                                                                                                                                                                                                                                                                                                                 pourrez partager vos savoirs, etre formes, utiliser nos incubateurs pour innover. si vous vous reconnaissez, postulez\\n\\ncote remuneration certes votre salaire mais aussi de la participation, de l'interessement, un perco, une mutuelle, des tr, des conges d'anciennete, un catalogue ce, un accord de teletravail et de parentalite et des horaires modulables.\\n\\nc\n",
       "932                                                                                                                                                                                                                                                                                                                                                                                                                                                                                                                                                                                                                                                                                                                                                                                                                  , notre culture forte (bienveillance, exigence, resilience et data-first) et notre innovation permanente en termes de modes de travail (ex. grille de salaire transparente, formation au changement climatique, transparence sur la strategie) sont les cles de notre reussite collective... et de ta reussite avec nous !\\n\\njob description\\nchez h/fintelligence, l'e\n",
       "940                                                                                                                                                                                                                                                                                                                                                                                                                                                                                                                                                                                                                                                                                                                                                                                                                     l’assurance. vos qualites relationnelles et redactionnelles seront les garantes de votre reussite dans ce poste en lien direct avec les utilisateurs. salaire et avantages 40-45 k€ annuel tickets restaurants plans de formation annuel primes diverses (cooptations, apports d’affaires,interessement, vacances...) charte de teletravail. entreprise a taille huma\n",
       "961                                                                                                                                                                                                                                                                                                                                                                                                                                                                                                                                                                                                                                                                                                                                                                                                                      php) connaissances du webmarketing technique (roi, traffic,) capacites d’analyse et de synthese connaitre des outils crm et des outils informatiques salaires et avantages : 40-45 k€ annuel tickets restaurants plans de formation annuel primes diverses (cooptations, apports d’affaires, interessement, vacances...) charte de teletravail. entreprise a taille \n",
       "1003                                                                                                                                                                                                                                                                                                                                                                                                                                                                                                                                                                                                                                                                                                                                                                                                                pte aux souhaits des collaborateurs,\\n- concilier vie personnelle et vie professionnellegrace aux horaires flexibles et au teletravail,\\n- percevoir un salaire ajuste a son profil,\\n- opter pour un employeur responsable et partenaire de la sante de ses collaborateurs, avec notamment des assurances vieillesse, invalidite et accidents de travail,\\n- monter en c\n",
       "1004                                                                                                                                                                                                                                                                                                                                                                                                                                                                                                                                                                                                                                                                                                                                                                                                             notre management de proximite et notre souci de developpement des competences.\\n\\nlocalisation :paris 11e (bastille)\\n\\nremuneration: nous savons que le salaire est un element essentiel pour vous ! c’est pourquoi nous en parlerons sans tabou des les premiers echanges.\\n\\nles + epsilon france:\\n• acces restaurant d’entreprise (campus bastille)\\n• travail hybrideg\n",
       "1013                                                                                                                                                                                                                                                                                                                                                                                                                                                                                                                                                                                                                                                                                                                                                                                                                    er et de vous presenter ce job plus en detail ! le poste, en resume :data engineer (f/h/x) cdilocalisation : bordeauxteletravail : 2 jours par semainesalaire : +/ 50k€environnement : industriel innovant et ambitieux, a la pointe de la technologie#industrie4.0 #gigafactory #greentech les missions : collecter, transformer et stocker les donnees a l'aide de \n",
       "1014                                                                                                                                                                                                                                                                                                                                                                                                                                                                                                                                                                                                                                                                                                                                                                                                  de sports collectifs, pauses meditation\\n\\nlocalisation : au siege - 31 rue de courcelles 75008 paris\\n\\ntype d'emploi : stage\\nduree du contrat : 6 mois\\n\\nsalaire : a partir de 1 000,00€ par mois\\n\\navantages :\\n• horaires flexibles\\n• participation au transport\\n\\nprogrammation :\\n• du lundi au vendredi\\n• horaires flexibles\\n\\nformation:\\n• bac +5 (master / mba) (optio\n",
       "1139                                                                                                                                                                                                                                                                                                                                                                                                                                                                                                                                                                                                                                                                                                                                                                                                                                                                                                                                                                                                                                                                                                                                                                                         \n",
       "1168                                                                                                                                                                                                                                                                                                                                                                                                                                    windows...)\\n• un outil de gestion des flux de type kafka, apache flink.\\n\\nvous connaissez des solutions de bases de donnees sql, nosql, apache spark.\\n\\nsalaire fixe sur 13 mois en fonction de votre experience.\\n\\n24 jours de rtt/an, interessement entre 2 et 4 mois de salaire, mutuelle prise en charge a 90%, avantages salaries sur certains produits bancaires e donnees sql, nosql, apache spark.\\n\\nsalaire fixe sur 13 mois en fonction de votre experience.\\n\\n24 jours de rtt/an, interessement entre 2 et 4 mois de salaire, mutuelle prise en charge a 90%, avantages salaries sur certains produits bancaires et d’assurance, un accord de teletravail, une restauration d’entreprise sur place, une prime variable de 973€/an et\n",
       "1174                                                                                                                                                                                                                                                                                                                                                                                                                                                                                                                                                                                                                                                                                                                                                                                                                   ciels qui sont interessantes dans une logique de developpement durable (ex: le kilometrage d'une tournee, des types de produits vendus, des ecarts de salaires, etc.) et des recommandations pour aboutir a un format unifie si celui ci fait defaut.\\n• une recherche sur les possibilites... d'interfacage des differents logiciels par lesquels transitent ces donn\n",
       "1194                                                                                                                                                                                                                                                                                                                                                                                                                                                                                                                                                                                                                                                                                                                                                                                                                    voulez-vous discuter des possibilites de reconversion de carriere ou d'avancement ou simplement de trouver un emploi avec de meilleures conditions de salaires ou de travail? contactez-nous. points incontournables une reelle expertise mysql / mariadb anglais technique experience dans un environnement critique (fortes volumetries, temps reel etc) le role du\n",
       "1218                                                                                                                                                                                                                                                                                                                                                                                                                                                                                                                                                                                                                                                                                                                                                                                                         di soit en alternance\\n• avoir deja travailler avec airflow et orchestrer des services engineering\\n• interesse par des sujets ops et cloud avec aws\\nle salaire & avantages\\n• 45-50k€ selon experience\\n• fullremote possible\\n• carte swile & mutuelle\\n• incentives organises par la direction\\n\\net plus encore...\\nce qu’on prefere\\n• etre implique a fond dans une avent\n",
       "1238                                                                                                                                                                                                                                                                                                                                                                                                                                                                                                                                                                                                                                                                                                                                                                                                                                                                                                                                                                                                        avec les chiffres\\n\\n- forte motivation pour travailler dans la musique avec, dans l’ideal, une experience musicale professionnelle et/ou personnelle\\n\\nsalaire selon experience\n",
       "1268                                                                                                                                                                                                                                                                                                                                                                                                                                                                                                                                                                                                                                                                                                                                                                                                  ide et ouverte d’esprit avec 80% de seniors\\n• travailler sur des produits varies avec de l’ambition\\n\\ntype d'emploi : temps plein, cdi\\nstatut : cadre\\n\\nsalaire : a partir de 70 000,00€ par an\\n\\navantages :\\n• rtt\\n• titre-restaurant\\n• travail a domicile\\n\\nprogrammation :\\n• du lundi au vendredi\\n• repos le week-end\\n• travail en journee\\n\\ntypes de primes et de grat\n",
       "1277                                                                                                                                                                                                                                                                                                                                                                                                                                                                                                                                                                                                                                                                                                                                                                                                                                                                        omplementaires\\n\\nutilisation si possible de son ordinateur personnel ;\\n\\nbureaux a la pepiniere 27, paris 11 ;\\n\\ntravail pour part possible en remote ;\\n\\nsalaire legal du regime du contrat d'apprentissage ;\\n\\ndate d'integration : si possible aout 2022, sinon septembre 2022 ;\\n\\nembauche envisageable\n",
       "1290                                                                                                                                                                                                                                                                                                                                                                                                                                                                                                                                                                                                  e (8 personnes).\\n• des evolutions possibles au sein du groupe.\\n• des avantages : statut cadre, 24 jours de rtt/an, interessement entre 2 et 4 mois de salaire, mutuelle prise en charge a 90%, avantages salaries sur certains produits bancaires et d’assurance, un accord de teletravail, une restauration d’entreprise sur place, une prime variable de 973€/an etroduits bancaires et d’assurance, un accord de teletravail, une restauration d’entreprise sur place, une prime variable de 973€/an et un 13eme mois.\\n\\nsalaire fixe sur 13 mois en fonction de votre experience\n",
       "1407                                                                                                                                                                                                                                                                                                                                                                                                                                                                                                                                                                                                                                                                                                                                                                                                                                                                                    fixe + variable (10%)\\n• prime de participation\\n• 30j de conges\\n• ≈* 3j de teletravail *par semaine\\n\\ntype d'emploi : temps plein, cdi\\nstatut : cadre\\n\\nsalaire : a partir de 37 000,00€ par mois\\n\\nprogrammation :\\n• travail en journee\\n\\nlieu du poste : teletravail hybride (94000 creteil\n",
       "1425                                                                                                                                                                                                                                                                                                                                                                                                                                                                                                                                                                                                                                                                                                                                                                                                                                                             vaillera sous la supervision du chef du bureau des statistiques de la demande d'energie.\\n\\ntype d'emploi : temps plein, cdd\\nduree du contrat : 3 mois\\n\\nsalaire : 99,00€ a 9... 999,00€ par mois\\n\\nprogrammation :\\n• travail en journee\\n\\nlieu du poste : un seul lieu de travail\\n\\ndate de debut prevue : 15/02/2023\n",
       "1491                                                                                                                                                                                                                                                                                                                                                                                                                                                                                                                                                                                                                                                                                                                                                                                                                    mptage pour potentiel pour campagne marketing direct informations complementaires : * lieu: massy * 10% de la carte pass des 3 mois d'anciennete * un salaire fixe sur 13 mensualites + une prime variable selon performance * participation, interessement, plan d'epargne * 10% de la carte pass * remboursement des frais de transport a hauteur de 50% * 2 jours \n",
       "1516                                                                                                                                                                                                                                                                                                                                                                                                                                                                                                                                                                                                                                                                                                                                                                                                         intelligence artificielle (machine learning / text mining)\\n• connaissance du sql ou d’une techno nosql\\n• bon niveau d’anglais technique et metier\\n\\nle salaire & avantages\\n• 70-75k€ fixe selon experience\\n• bonus de 10 a 15% (qui amene a un package entre 80 et 85k)\\n• mutuelle\\n• 2 jours de teletravail par semaine\\n• incentives organises par la direction\\n\\net pl\n",
       "1524                                                                                                                                                                                                                                                                                                                                                                                                                     ortunite en cdi\\n\\nteletravail : 3 jours par semaine\\n\\n12 rtt + un compte epargne temps\\n\\nune prime variable annuelle de performance representant 4.5% du salaire annuel\\n\\nl’equivalent de deux mois de salaire pour l’interessement et la participation\\n\\nun cse, une carte swile prise en charge a 60% par cbp pour ravir vos papilles\\n\\nqui est cbp ?\\n\\ncbp, filiale de kemaine\\n\\n12 rtt + un compte epargne temps\\n\\nune prime variable annuelle de performance representant 4.5% du salaire annuel\\n\\nl’equivalent de deux mois de salaire pour l’interessement et la participation\\n\\nun cse, une carte swile prise en charge a 60% par cbp pour ravir vos papilles\\n\\nqui est cbp ?\\n\\ncbp, filiale de kereis, est le courtier de reference en assuran\n",
       "1531                                                                                                                                                                                                                                                                                                                                                                                                                                                                                                                                                                                                                                                                                                                                                                                                                           pe jeune et dynamique (moyenne d'age 25 ans)\\n• bureaux sympas\\n• teletravail possible !\\n\\ntype d'emploi : temps plein, stage\\nduree du contrat : 6 mois\\n\\nsalaire : 600,00€ a 1 200,00€ par mois\\n\\navantages :\\n• participation au transport\\n\\nprogrammation :\\n• periodes de travail de 8 heures\\n\\nlieu du poste : teletravail hybride (75001 paris 1er\n",
       "1545                                                                                                                                                                                                                                                                                                                                                                                                                                                                                                                                                                                                                                                                                                                                                                                                                  rience en tant que data analyst, data scientist ou analyse business avec notion de coding, est appreciee\\n- une remuneration competitive composee d'un salaire fixe sur 13 mois, d'une remuneration variable, d'un interessement et d'une participation aux resultats de l'entreprise ainsi que de nombreux avantages\\n- chez nespresso, nous encourageons la diversite\n",
       "1561                                                                                                                                                                                                                                                                                                                                                                                                                                                                                                                                                                                                                                                                                                                                                                                                 urants/ participation titre de transport.\\n\\nadresse : 2 rue... de tronchet 75008 paris.\\n\\ntype d'emploi : temps plein, stage\\nduree du contrat : 6 mois\\n\\nsalaire : 600,00€ par an\\n\\navantages :\\n• participation au transport\\n• titre-restaurant\\n\\nprogrammation :\\n• du lundi au vendredi\\n• periodes de travail de 8 heures\\n• travail en journee\\n\\nformation:\\n• bac +4 (mait\n",
       "1569                                                                                                                                                                                                                                                                                                                                                                                                                                                                                                                                                                                                                                                                                                                                                                                                                    ement : ​​​​​​ e quipe analyse niveau hierarchique : operationnel remuneration : de 50k a 60k annuel brut + 8% de variable + interessement (1 mois de salaire) teletravail : 2 jours possible par semaine ​​​​​​​demarrage : 1 a 90 jours cette opportunite vous correspond ? adressez-nous votre candidature et un consultant vous contactera dans les plus brefs de\n",
       "1581                                                                                                                                                                                                                                                                                                                                                                                                                                                                                                                                                                                                                                                                                                                                                                                                                    ement : ​​​​​​ e quipe analyse niveau hierarchique : operationnel remuneration : de 50k a 60k annuel brut + 8% de variable + interessement (1 mois de salaire) teletravail : 2 jours possible par semaine ​​​​​​​demarrage : 1 a 90 jours cette opportunite vous correspond ? adressez-nous votre candidature et un consultant vous contactera dans les plus brefs de\n",
       "1585                                                                                                                                                                                                                                                                                                                                                                                                                                                                                                                                                                                                                                                                                                                                                                                                                    ement : ​​​​​​ e quipe analyse niveau hierarchique : operationnel remuneration : de 50k a 60k annuel brut + 8% de variable + interessement (1 mois de salaire) teletravail : 2 jours possible par semaine ​​​​​​​demarrage : 1 a 90 jours cette opportunite vous correspond ? adressez-nous votre candidature et un consultant vous contactera dans les plus brefs de\n",
       "1587                                                                                                                                                                                                                                                                                                                                                                                                                                                                                                                                                                                                                                                                                                                                                                                                                    ement : ​​​​​​ e quipe analyse niveau hierarchique : operationnel remuneration : de 50k a 60k annuel brut + 8% de variable + interessement (1 mois de salaire) teletravail : 2 jours possible par semaine ​​​​​​​demarrage : 1 a 90 jours cette opportunite vous correspond ? adressez-nous votre candidature et un consultant vous contactera dans les plus brefs de\n",
       "1599                                                                                                                                                                                                                                                                                                                                                                                                                                                                                                                                                                                                                                                                                                                                                                                                                    ) pour produire et entretenir les outils de suivi d’activite/depenses/recettes des services medicotechniques et des services de logistiques medicales salaire brut annuel : de 36 k€ a k46€ (si contrat selon profil et experience) lieu de travail : nord – direction du controle de gestion temps de travail : 100% date recrutement : une prise de fonction est so\n",
       "1611                                                                                                                                                                                                                                                                                                                                                                                                                                                                                                                                                                                                                                                                                                                                                                                                             ent : ​​​​​​equipe analyse\\n• niveau hierarchique : operationnel\\n• remuneration : de 50k a 60k annuel brut + 8% de variable + interessement (1 mois de salaire)\\n• teletravail : 2 jours possible par semaine\\n• ​​​​​​​demarrage : 1 a 90 jours\\n\\ncette opportunite vous correspond ?\\nadressez-nous votre candidature et un consultant vous contactera dans les plus bre\n",
       "1619                                                                                                                                                                                                                                                                                                                                                                                                                                                                                                                                                                                                                                                                                                                                                                                                        • vous etes connaissez tres bien les outils de dataviz : tableau ou powerbi\\n• vous etes a l'aise pour travailler dans un environnement anglophone\\n\\nle salaire & avantages\\n• 65-70k€ selon experience\\n• carte swile & mutuelle\\n• remote possible\\n• workshop\\n\\net plus encore...\\n\\nce qu’on prefere\\n• un challenge dans lequel tu apprendras beaucoup et avec de belles p\n",
       "1645                                                                                                                                                                                                                                                                                                                                                                                                                                                                                                                                                                                                                                                                                                                                                                                                                    entre presence chez nos clients, dans nos bureaux ou en teletravail, en fonction des sujets a mener.\\n• pour ce poste de data engineer experimente le salaire indicatif que nous vous proposons a niort est compris entre 45 k€ et 60 k€ brut annuel, beneficiez de rtt et de titres restaurant. cette remuneration s'etudie en fonction de vos annees d'experiences \n",
       "1648                                                                                                                                                                                                                                                                                                                                                                                                                                   ur parler de vos attentes, votre projet, votre futur !\\n• puis les managers pour parler concret : missions, projets, parcours de carriere, et bien sur salaire et avantages.\\n\\nles infos en plus !\\n• teletravail\\n• un salaire attractif en fonction de votre experience (entre 40 et 62k) + differents avantages\\n• un groupe en pleine croissance avec un management biles managers pour parler concret : missions, projets, parcours de carriere, et bien sur salaire et avantages.\\n\\nles infos en plus !\\n• teletravail\\n• un salaire attractif en fonction de votre experience (entre 40 et 62k) + differents avantages\\n• un groupe en pleine croissance avec un management bienveillant,\\n• et une evolution technique personnalisee avec la\n",
       "1651                                                                                                                                                                                                                                                                                                                                                                                                                                                                                                                                                                                                                                                                                                                                                                                                         s\\n• redshift pour le data warehouse\\n\\nconditions de travail\\n• saint herblain / accessibilite\\n• remote : 2jours / semaine\\n\\nce que vous allez y gagner\\n• salaire : 35-40 €\\n• communaute : echanger autour de plusieurs themes comme la securite, la donnee, l'architecture, les tests...\\n• conferences (devoxx, usi, agile tour...) & formations internes\\nle profil que \n",
       "1654                                                                                                                                                                                                                                                                                                                                                                                                                                                                                                                                                                                                                                                                                                                                                                                                        e). stack : python, spark, sql, aws\\n\\nvos competences\\n\\nune premiere xp avec spark sur un poste de data engineer\\n\\navantages\\n\\npourquoi les rejoindre :\\n• salaire(nous sommes a l'ecoute de vos demandes)\\n• equipe data d'une quinzaine de personnes\\n• integrer une societe tech en forte croissance avec plus de 10 ans d’experiences\\n• mais aussi : des fruits frais li\n",
       "1673                                                                                                                                                                                                                                                                                                                                                                                                                                                                                                                                                                                                                                                                                                                                                                                                                                                                                                                                                                                                                                                                                                                                                                                         \n",
       "1680                                                                                                                                                                                                                                                                                                                                                                                                                                                                                                                                                                                                                                                                                                                                                                                                                    lyens ! ce qui nous permettra de grandir plus rapidement et de developper plus de fonctionnalites et de solutions pour moderniser l’etatun package de salaire tres attractif possibilite de progression rapide au sein d’une boite en croissancetransparence a tous les niveaux de notre entreprise et esprit d’initiative fortement valoriseun vrai accompagnement p\n",
       "1695                                                                                                                                                                                                                                                                                                                                                                                                                                                                                                                                                                                                                                                                                                                                                                                                            ar la tech, vous etes autonome, organise et rigoureux.\\ninformations utiles\\n• localisation : paris - 75, france\\n• contrat : apprentissage - 2... ans\\n• salaire : non defini\\n• niveau de qualification : technicien/employe bac +2, agent de maitrise/bac +3/4\\n• experience : - 1 an, 1 a 7 ans\\n• modalites de travail : temps complet\\n• fonction : informatique - syst\n",
       "1702                                                                                                                                                                                                                                                                                                                                                                                                                                                                                                                                                                                                                                                                                                                                                                                                             sorflow, spacy, yolo, tesseract, microsoft azure speech services, prodigy.\\n\\navantages :\\n• travailler pour un marche stable et porteur : la sante\\n• un salaire competitif en fonction de l'experience, ainsi que des tickets restaurants\\n• la participation a une conference par an\\n• teletravail 2 jours par semaine\\n• pas de baby-foot mais plutot un respect des in\n",
       "1710                                                                                                                                                                                                                                                                                                                                                                                                                                                                                                                                                                                                                                                                                                                                                                                                                    otre ambition en vous donnant la motivation et la flexibilite dont vous avez besoin pour transformer vos idees en realites qui changent le monde. nos salaires et nos avantages sociaux correspondent a tout ce que vous attendez d'une organisation ayant une dimension internationale, avec des possibilites de developpement de carriere, dans une culture qui fav\n",
       "1737                                                                                                                                                                                                                                                                                                                                                                                                                                                                                                                                                                                                                                                                                                                                                                                                            vous maitrisez a un niveau avance (notions de js appreciees)\\n\\ncontrat et remuneration :\\n• type de contrat : cdi.\\n• temps de travail : 35h/ semaine.\\n• salaire entre 75,000 € et 90,000 € brut/an + 18% de variable ; negociable.\\n• teletravail.\\n\\nnotre client est un grand groupe francais leader specialise dans la distribution de biens d'equipements de la maison\n",
       "1761                                                                                                                                                                                                                                                                                                                                                                                                                                                                                                                                                                                                                                                                                                                                                                                                                    ement : ​​​​​​ e quipe analyse niveau hierarchique : operationnel remuneration : de 50k a 60k annuel brut + 8% de variable + interessement (1 mois de salaire) teletravail : 2 jours possible par semaine ​​​​​​​demarrage : 1 a 90 jours cette opportunite vous correspond ? adressez-nous votre candidature et un consultant vous contactera dans les plus brefs de\n",
       "1763                                                                                                                                                                                                                                                                                                                                                                                                                                                                                                                                                                                                                                                                                                                                                                                                                                                                                                                                                                      innovation, d’esprit d’equipe et de culture du resultat.\\n• relever des challenges techniques stimulants.\\n• beneficier d’une remuneration competitive (salaire fixe + variable, bspce, titres-restaurant swile).\\n\n",
       "1765                                                                                                                                                                                                                                                                                                                                                                                                                                                                                                                                                                                                                                                                                                                                                                                                                    ement : ​​​​​​ e quipe analyse niveau hierarchique : operationnel remuneration : de 50k a 60k annuel brut + 8% de variable + interessement (1 mois de salaire) teletravail : 2 jours possible par semaine ​​​​​​​demarrage : 1 a 90 jours cette opportunite vous correspond ? adressez-nous votre candidature et un consultant vous contactera dans les plus brefs de\n",
       "1795                                                                                                                                                                                                                                                                                                                                                                                                                                                                                                                                                                                                                                                                                                                                                                                                          bre vie personnelle / vie professionnelle.\\n\\nfrancais, anglais professionnel courant indispensable.\\n\\nadditional information\\n\\nce que nous offrons\\n\\n• un salaire competitif combine a des nombreuses opportunites de formation pour vous developper davantage en tant qu'expert dans votre domaine.\\n\\n• faites partie d'une entreprise internationale a croissance rapide\n",
       "1858                                                                                                                                                                                                                                                                                                                                                                                                                                                                                                                                                                                                                                                                                                                                                                                                                propose ? mais une vraie connaissance technique de la data ? postulez tout de meme et nous echangerons ensemble pour mieux comprendre votre profil .\\n\\nsalaire entre 35k€ et 60 k€ en fonction de l'experience et de vos competences\\n• prise en charge a 60% des tickets restaurant par l'employeur\\n• pourcentage de prise en charge de la mutuelle d'entreprise par l\n",
       "1866                                                                                                                                                                                                                                                                                                                                                                                                            aient un plus.\\n\\npourquoi les rejoindre :\\n• contexte international, possibilites d’evolutions\\n• projets innovants avec une grosse volumetrie de data\\n• salaire... attractif\\n• ambiance de travail agreable\\n\\nprocessus de recrutement :\\n\\n1 - entretien manager + test technique\\n2 - culture fit, rencontre avec les equipes\\n\\ntype d'emploi : temps plein, cdi\\n\\nsalaire le\\n\\nprocessus de recrutement :\\n\\n1 - entretien manager + test technique\\n2 - culture fit, rencontre avec les equipes\\n\\ntype d'emploi : temps plein, cdi\\n\\nsalaire : 60 000,00€ a 65 000,00€ par an\\n\\navantages :\\n• participation au transport\\n• titre-restaurant\\n\\nprogrammation :\\n• du lundi au vendredi\\n• travail en journee\\n\\ntypes de primes et de gratifications :\\n• 13\n",
       "1923                                                                                                                                                                                                                                                                                                                                                                                                                                               unite en cdi - teletravail : 3 jours par semaine - 12 rtt + un compte epargne temps - une prime variable annuelle de performance representant 4.5% du salaire annuel - l’equivalent de deux mois de salaire pour l’interessement et la participation - un cse, une carte swile prise en charge a 60% par cbp pour ravir vos papilles qui est cbp ? cbp, filiale de kene - 12 rtt + un compte epargne temps - une prime variable annuelle de performance representant 4.5% du salaire annuel - l’equivalent de deux mois de salaire pour l’interessement et la participation - un cse, une carte swile prise en charge a 60% par cbp pour ravir vos papilles qui est cbp ? cbp, filiale de kereis, est le courtier de reference en assuranc\n",
       "1924                                                                                                                                                                                                                                                                                                                                                                                                                                                                                                                                                                                                                                                                                                                                                                                                                    r... la rencontre entre candidats et entreprises. nous mettons a votre disposition notre reseau et notre connaissance du marche de la tech (etude des salaires, tendances). notre moteur : vous accompagner sur du long terme pour trouver l’opportunite en cdi, qui correspond a votre projet professionnel, et surtout vous proposer un acces privilegie a des oppo\n",
       "1928                                                                                                                                                                                                                                                                                                                                                                                                                                               unite en cdi - teletravail : 3 jours par semaine - 12 rtt + un compte epargne temps - une prime variable annuelle de performance representant 4.5% du salaire annuel - l’equivalent de deux mois de salaire pour l’interessement et la participation - un cse, une carte swile prise en charge a 60% par cbp pour ravir vos papilles qui est cbp ? cbp, filiale de kene - 12 rtt + un compte epargne temps - une prime variable annuelle de performance representant 4.5% du salaire annuel - l’equivalent de deux mois de salaire pour l’interessement et la participation - un cse, une carte swile prise en charge a 60% par cbp pour ravir vos papilles qui est cbp ? cbp, filiale de kereis, est le courtier de reference en assuranc\n",
       "1930                                                                                                                                                                                                                                                                                                                                                                                                                                               unite en cdi - teletravail : 3 jours par semaine - 12 rtt + un compte epargne temps - une prime variable annuelle de performance representant 4.5% du salaire annuel - l’equivalent de deux mois de salaire pour l’interessement et la participation - un cse, une carte swile prise en charge a 60% par cbp pour ravir vos papilles qui est cbp ? cbp, filiale de kene - 12 rtt + un compte epargne temps - une prime variable annuelle de performance representant 4.5% du salaire annuel - l’equivalent de deux mois de salaire pour l’interessement et la participation - un cse, une carte swile prise en charge a 60% par cbp pour ravir vos papilles qui est cbp ? cbp, filiale de kereis, est le courtier de reference en assuranc\n",
       "1932                                                                                                                                                                                                                                                                                                                                                                                                                                               unite en cdi - teletravail : 3 jours par semaine - 12 rtt + un compte epargne temps - une prime variable annuelle de performance representant 4.5% du salaire annuel - l’equivalent de deux mois de salaire pour l’interessement et la participation - un cse, une carte swile prise en charge a 60% par cbp pour ravir vos papilles qui est cbp ? cbp, filiale de kene - 12 rtt + un compte epargne temps - une prime variable annuelle de performance representant 4.5% du salaire annuel - l’equivalent de deux mois de salaire pour l’interessement et la participation - un cse, une carte swile prise en charge a 60% par cbp pour ravir vos papilles qui est cbp ? cbp, filiale de kereis, est le courtier de reference en assuranc\n",
       "1933                                                                                                                                                                                                                                                                                                                                                                                                                                               unite en cdi - teletravail : 3 jours par semaine - 12 rtt + un compte epargne temps - une prime variable annuelle de performance representant 4.5% du salaire annuel - l’equivalent de deux mois de salaire pour l’interessement et la participation - un cse, une carte swile prise en charge a 60% par cbp pour ravir vos papilles qui est cbp ? cbp, filiale de kene - 12 rtt + un compte epargne temps - une prime variable annuelle de performance representant 4.5% du salaire annuel - l’equivalent de deux mois de salaire pour l’interessement et la participation - un cse, une carte swile prise en charge a 60% par cbp pour ravir vos papilles qui est cbp ? cbp, filiale de kereis, est le courtier de reference en assuranc\n",
       "1934                                                                                                                                                                                                                                                                                                                                                                                                                                               unite en cdi - teletravail : 3 jours par semaine - 12 rtt + un compte epargne temps - une prime variable annuelle de performance representant 4.5% du salaire annuel - l’equivalent de deux mois de salaire pour l’interessement et la participation - un cse, une carte swile prise en charge a 60% par cbp pour ravir vos papilles qui est cbp ? cbp, filiale de kene - 12 rtt + un compte epargne temps - une prime variable annuelle de performance representant 4.5% du salaire annuel - l’equivalent de deux mois de salaire pour l’interessement et la participation - un cse, une carte swile prise en charge a 60% par cbp pour ravir vos papilles qui est cbp ? cbp, filiale de kereis, est le courtier de reference en assuranc\n",
       "1935                                                                                                                                                                                                                                                                                                                                                                                                                                               unite en cdi - teletravail : 3 jours par semaine - 12 rtt + un compte epargne temps - une prime variable annuelle de performance representant 4.5% du salaire annuel - l’equivalent de deux mois de salaire pour l’interessement et la participation - un cse, une carte swile prise en charge a 60% par cbp pour ravir vos papilles qui est cbp ? cbp, filiale de kene - 12 rtt + un compte epargne temps - une prime variable annuelle de performance representant 4.5% du salaire annuel - l’equivalent de deux mois de salaire pour l’interessement et la participation - un cse, une carte swile prise en charge a 60% par cbp pour ravir vos papilles qui est cbp ? cbp, filiale de kereis, est le courtier de reference en assuranc\n",
       "1941                                                                                                                                                                                                                                                                                                                                                                                                                                                                                                                                                                                                                                                                                                                                                                                                         pointe , et pour l ’experience utilisateur ;\\n• d’etre curieux (se) et pratiquer une veille active sur vos domaines de competence.\\n• anglais courant\\n\\nsalaire : fixe (en fonction du profil) + variable\\n\\navantages :\\n• titre-restaurant\\n• rtt\\n• indemnites transport et velo\\n• epargne salariale\\n• teletravail et flexibilite dans la pose des conges\\ndescription soc\n",
       "1942                                                                                                                                                                                                                                                                                                                                                                                                                                                                                                                                                                                                                                                                                                                                                                                            s et en anglais\\n\\n# data science\\n\\n# data scientist\\n\\n# ai artificial intelligence\\n\\n# machine learning\\n\\ntype d'emploi : temps plein, cdi\\nstatut : cadre\\n\\nsalaire : a partir de 50 000,00€ par an\\n\\navantages :\\n• horaires flexibles\\n• participation au transport\\n• rtt\\n• titre-restaurant\\n• travail a domicile\\n\\nprogrammation :\\n• du lundi au vendredi\\n• horaires flexibl\n",
       "1960                                                                                                                                                                                                                                                                                                                                                                                                                                                                                                                                                                                                                                                                                                                                                                                                                                                                                                                                et de la croissance durable de la societe.\\n\\nprofil recherche\\n• date de debut : nc.\\n• duree : nc.\\n• experience requise : plus de 10 ans d'experience\\n• salaire : nc.\\n• reference : jr10150581\\n• secteur d'activite : industrialisation, production\n",
       "1965                                                                                                                                                                                                                                                                                                                                                                                                                                                             (8 personnes).\\n\\n- des evolutions possibles au sein du groupe.\\n\\n- des avantages : statut cadre, 24 jours de rtt/an, interessement entre 2 et 4 mois de salaire, mutuelle prise en charge a 90%, avantages salaries sur certains produits bancaires et d'assurance, un accord de teletravail, une restauration d'entreprise sur place, une prime variable de 973€/an etroduits bancaires et d'assurance, un accord de teletravail, une restauration d'entreprise sur place, une prime variable de 973€/an et un 13eme mois.\\n\\nsalaire fixe sur 13 mois en fonction de votre experience.\\n\\ncandidatez directement sur notre site a l'aide de la reference : 2022-31920\\ncontrat a duree indeterminee data scientist dijon\n",
       "1966                                                                                                                                                                                                                                                                                                                                                                                                                                                                                                                                                                                                                                                                                                                                                                                                            rnite avec une forte culture du service et dans une societe egalitaire et inclusive.\\n\\nlocalisation : paris (11eme)\\n\\nremuneration : nous savons que le salaire est un element essentiel pour vous ! c’est pourquoi nous en parlerons sans tabou des les premiers echanges.\\n\\nles + epsilon france :\\n• acces restaurant d’entreprise (campus bastille)\\n• travail hybride\n",
       "1980                                                                                                                                                                                                                                                                                                                                                                                                                                                analyst ou data ingenieur. competences attendues : tableau sofware dba : oracle / sql ... methode agile scrum bonne qualite orale et redactionnelle. salaire : a negocier suivant votre experience professionnelle envoyez votre cv a : madame anh truong 06 16 90 10 86 a.truong@geser-best.com informations utiles localisation bordeaux - 33... france - pas de d : madame anh truong 06 16 90 10 86 a.truong@geser-best.com informations utiles localisation bordeaux - 33... france - pas de deplacement contrat cdi salaire 30000,00 a 50000,00 eur par an niveau de qualification ingenieur/cadre/bac +5 experience - 1 an, 1 a 7 ans, + 7 ans modalites de travail temps complet fonction informatique - systemes d'information s\n",
       "1985                                                                                                                                                                                                                                                                                                                                                                                                                                                                                                                                                                                                                                                                                                                                                                                                    tion de projet et du fonctionnement transverse.\\n\\ninformations complementaires :\\n\\n- lieu : massy\\n\\n- 10% de la carte pass des 3 mois d'anciennete\\n\\n- un salaire fixe sur 13 mensualites + une prime variable selon performance\\n\\n- participation, interessement, plan d'epargne\\n\\n- 10% de la carte pass\\n\\n- remboursement des frais de transport a hauteur de 50%\\n\\n- 2 jo\n",
       "1992                                                                                                                                                                                                                                                                                                                                                                                                                                                                                                                                                                                                                                                                                                                                                                                                                    tachement : ​​​​​​equipe analyseniveau hierarchique : operationnelremuneration : de 50k a 60k annuel brut + 8% de variable + interessement (1 mois de salaire)teletravail : 2 jours possible par semaine​​​​​​​demarrage : 1 a 90 jours cette opportunite vous correspond ?adressez-nous votre candidature et un consultant vous contactera dans les plus brefs delai\n",
       "1998                                                                                                                                                                                                                                                                                                                                                                                                                                                                                                                                                                                                                                                                                                                                                                                                    tion de projet et du fonctionnement transverse.\\n\\ninformations complementaires :\\n\\n- lieu : massy\\n\\n- 10% de la carte pass des 3 mois d'anciennete\\n\\n- un salaire fixe sur 13 mensualites + une prime variable selon performance\\n\\n- participation, interessement, plan d'epargne\\n\\n- 10% de la carte pass\\n\\n- remboursement des frais de transport a hauteur de 50%\\n\\n- 2 jo\n",
       "2002                                                                                                                                                                                                                                                                                                                                                                                                                                                                                                                                                                                                                                                                                                                                                                                                                    tachement : ​​​​​​equipe analyseniveau hierarchique : operationnelremuneration : de 50k a 60k annuel brut + 8% de variable + interessement (1 mois de salaire)teletravail : 2 jours possible par semaine​​​​​​​demarrage : 1 a 90 jours cette opportunite vous correspond ?adressez-nous votre candidature et un consultant vous contactera dans les plus brefs delai\n",
       "2004                                                                                                                                                                                                                                                                                                                                                                                                                                                                                                                                                                                                                                                                                                                                                                                                                    tachement : ​​​​​​equipe analyseniveau hierarchique : operationnelremuneration : de 50k a 60k annuel brut + 8% de variable + interessement (1 mois de salaire)teletravail : 2 jours possible par semaine​​​​​​​demarrage : 1 a 90 jours cette opportunite vous correspond ?adressez-nous votre candidature et un consultant vous contactera dans les plus brefs delai\n",
       "2007                                                                                                                                                                                                                                                                                                                                                                                                                                                                                                                                                                                                                                                                                                                                                                                                                    tachement : ​​​​​​equipe analyseniveau hierarchique : operationnelremuneration : de 50k a 60k annuel brut + 8% de variable + interessement (1 mois de salaire)teletravail : 2 jours possible par semaine​​​​​​​demarrage : 1 a 90 jours cette opportunite vous correspond ?adressez-nous votre candidature et un consultant vous contactera dans les plus brefs delai\n",
       "2011                                                                                                                                                                                                                                                                                                                                                                                                                                                                                                                                                                                                                                                                                                                                                                                                                    tachement : ​​​​​​equipe analyseniveau hierarchique : operationnelremuneration : de 50k a 60k annuel brut + 8% de variable + interessement (1 mois de salaire)teletravail : 2 jours possible par semaine​​​​​​​demarrage : 1 a 90 jours cette opportunite vous correspond ?adressez-nous votre candidature et un consultant vous contactera dans les plus brefs delai\n",
       "2014                                                                                                                                                                                                                                                                                                                                                                                                                                                                                                                                                                                                                                                                                                                                                                                                                    tachement : ​​​​​​equipe analyseniveau hierarchique : operationnelremuneration : de 50k a 60k annuel brut + 8% de variable + interessement (1 mois de salaire)teletravail : 2 jours possible par semaine​​​​​​​demarrage : 1 a 90 jours cette opportunite vous correspond ?adressez-nous votre candidature et un consultant vous contactera dans les plus brefs delai\n",
       "2017                                                                                                                                                                                                                                                                                                                                                                                                                                                                                                                                                                                                                                                                                                                                                                                                                    tachement : ​​​​​​equipe analyseniveau hierarchique : operationnelremuneration : de 50k a 60k annuel brut + 8% de variable + interessement (1 mois de salaire)teletravail : 2 jours possible par semaine​​​​​​​demarrage : 1 a 90 jours cette opportunite vous correspond ?adressez-nous votre candidature et un consultant vous contactera dans les plus brefs delai\n",
       "2020                                                                                                                                                                                                                                                                                                                                                                                                                                                                                                                                                                                                                                                                                                                                                                                                                    tachement : ​​​​​​equipe analyseniveau hierarchique : operationnelremuneration : de 50k a 60k annuel brut + 8% de variable + interessement (1 mois de salaire)teletravail : 2 jours possible par semaine​​​​​​​demarrage : 1 a 90 jours cette opportunite vous correspond ?adressez-nous votre candidature et un consultant vous contactera dans les plus brefs delai\n",
       "2025                                                                                                                                                                                                                                                                                                                                                                                                                                                                                                                                                                                                                                                                                                                                                                                                                    tachement : ​​​​​​equipe analyseniveau hierarchique : operationnelremuneration : de 50k a 60k annuel brut + 8% de variable + interessement (1 mois de salaire)teletravail : 2 jours possible par semaine​​​​​​​demarrage : 1 a 90 jours cette opportunite vous correspond ?adressez-nous votre candidature et un consultant vous contactera dans les plus brefs delai\n",
       "2026                                                                                                                                                                                                                                                                                                                                                                                                                                                                                                                                                                                                                                                                                                                                                                                                                    tachement : ​​​​​​equipe analyseniveau hierarchique : operationnelremuneration : de 50k a 60k annuel brut + 8% de variable + interessement (1 mois de salaire)teletravail : 2 jours possible par semaine​​​​​​​demarrage : 1 a 90 jours cette opportunite vous correspond ?adressez-nous votre candidature et un consultant vous contactera dans les plus brefs delai\n",
       "2029                                                                                                                                                                                                                                                                                                                                                                                                                                                                                                                                                                                                                                                                                                                                                                                                                    tachement : ​​​​​​equipe analyseniveau hierarchique : operationnelremuneration : de 50k a 60k annuel brut + 8% de variable + interessement (1 mois de salaire)teletravail : 2 jours possible par semaine​​​​​​​demarrage : 1 a 90 jours cette opportunite vous correspond ?adressez-nous votre candidature et un consultant vous contactera dans les plus brefs delai\n",
       "2031                                                                                                                                                                                                                                                                                                                                                                                                                                                                                                                                                                                                                                                                                                                                                                                                                    tachement : ​​​​​​equipe analyseniveau hierarchique : operationnelremuneration : de 50k a 60k annuel brut + 8% de variable + interessement (1 mois de salaire)teletravail : 2 jours possible par semaine​​​​​​​demarrage : 1 a 90 jours cette opportunite vous correspond ?adressez-nous votre candidature et un consultant vous contactera dans les plus brefs delai\n",
       "2033                                                                                                                                                                                                                                                                                                                                                                                                                                                                                                                                                                                                                                                                                                                                                                                                                    tachement : ​​​​​​equipe analyseniveau hierarchique : operationnelremuneration : de 50k a 60k annuel brut + 8% de variable + interessement (1 mois de salaire)teletravail : 2 jours possible par semaine​​​​​​​demarrage : 1 a 90 jours cette opportunite vous correspond ?adressez-nous votre candidature et un consultant vous contactera dans les plus brefs delai\n",
       "2036                                                                                                                                                                                                                                                                                                                                                                                                                                                                                                                                                                                                                                                                                                                                                                                                                    tachement : ​​​​​​equipe analyseniveau hierarchique : operationnelremuneration : de 50k a 60k annuel brut + 8% de variable + interessement (1 mois de salaire)teletravail : 2 jours possible par semaine​​​​​​​demarrage : 1 a 90 jours cette opportunite vous correspond ?adressez-nous votre candidature et un consultant vous contactera dans les plus brefs delai\n",
       "2075                                                                                                                                                                                                                                                                                                                                                                                                                                                                                                                                                                                                                                                                                                                                                                                                                  rience en tant que data analyst, data scientist ou analyse business avec notion de coding, est appreciee\\n- une remuneration competitive composee d'un salaire fixe sur 13 mois, d'une remuneration variable, d'un interessement et d'une participation aux resultats de l'entreprise ainsi que de nombreux avantages\\n- chez nespresso, nous encourageons la diversite\n",
       "2095                                                                                                                                                                                                                                                                                                                                                                                                                                                                                                                                                                                                                                                                                                                                                                                                            l talent.\\n\\nvous etes autonome et apporteur de solution aupres de nos collaborateurs et membres du comex.\\n\\nles avantages a rejoindre le groupe delisle\\nsalaire entre 38k et 50k brut annuel selon profil.\\nposte disponible en teletravail, frequence a definir lors de nos echanges.\\ncse avec plusieurs avantages.\\nmutuelle de base prise en charge par le groupe deli\n",
       "2128                                                                                                                                                                                                                                                                                                                                                                                                                                                                                                                                                                                                                                                                                                                                                                                                                                                                                                                                                                                                 'opinion politique ou religieuse.\\n\\nrencontrez l'equipe fifty-five\\n\\nlocalisation : 5 rue d'athenes, 75009 paris\\n\\ndate de demarrage : des que possible\\n\\nsalaire : selon experience\n",
       "2150                                                                                                                                                                                                                                                                                                                                                                                                                                                                                                                                                                                                                                                                                                                                                                                                                    via le lien suivant : https://www.acavi.fr/offres-emploi/job/ms290622-088-aca/senior-data-scientist-product-owner-hf type d'emploi : temps plein, cdi salaire : 55 000,00€ a 65 000,00€ par an programmation : travail en journee capacite a faire le trajet ou a demenager: paris (75): faire le trajet sans probleme ou prevoir un demenagement avant de prendre so\n",
       "2165                                                                                                                                                                                                                                                                                                                                                                                                                                                                                                                                                                                                                                                                                                                                                                                                                    e vie personnelle / vie professionnelle. francais, anglais professionnel courant indispensable. informations supplementaires ce que nous offrons • un salaire competitif combine a des nombreuses opportunites de formation pour vous developper davantage en tant qu'expert dans votre domaine. • faites partie d'une entreprise internationale a croissance rapide \n",
       "2191                                                                                                                                                                                                                                                                                                                                                                                                                                                                                                                                                                                                                                                                                                                                                                                                        del de machine learning\\n• vous etes sensible a la performance et aux enjeux de scalabilite dans un environnement avec un grand volume de donnees.\\n\\nle salaire & avantages\\n• 65-70k€ selon experience\\n• carte swile & mutuelle\\n• full remote possible\\n• workshop\\n\\net plus encore...\\n\\nce qu’on prefere\\n• un challenge dans lequel tu apprendras beaucoup et avec de bel\n",
       "2206                                                                                                                                                                                                                                                                                                                                                                                                                           iller avec l'ingenieur d'affaires pour trouver la mission ideale : nous favorisons l'embauche sur profil\\n\\nun dernier point pour vous convaincre ?\\n\\nun salaire attractif et individualise, fini \"la grille a ne pas franchir\", et si on l'enjambait ? vous pensez meriter ce salaire ? on peut se le permettre ? et bien go\\n\\njunior : 36-40k\\n\\nconfirme : 40-50k\\n\\ndes aoint pour vous convaincre ?\\n\\nun salaire attractif et individualise, fini \"la grille a ne pas franchir\", et si on l'enjambait ? vous pensez meriter ce salaire ? on peut se le permettre ? et bien go\\n\\njunior : 36-40k\\n\\nconfirme : 40-50k\\n\\ndes avantages sociaux basiques et d'autres personnalises :\\n\\nacensi bordeaux vous remercie de votre engagement et de votre i\n",
       "2224                                                                                                                                                                                                                                                                                                                                                                                                                                                                                                                                                                                                                                                                                                                                                                                                                                                                                                                                                                                                 igieuse.\\n\\nrencontrez l'equipe fifty-five ! https://bit.ly/2t8hlhx\\n\\nlocalisation : 5 rue d'athenes, 75009 paris\\n\\ndate de demarrage : des que possible\\n\\nsalaire : selon experience\n",
       "2234                                                                                                                                                                                                                                                                                                                                                                                                                                                                                                                                                                                                                                                                                                                                                                                                           t vous beneficiez de 2 ans d'experiences dans la data. vous avez une reelle sensibilite marketing et c'est un domaine qui vous interesse\\n\\navantages\\n• salaire fixe + variable\\n• 2 jours de teletravail par semaine possible\\n• reductions sur les sejours et une semaine offerte par an\\n\\npourquoi nous rejoindre\\n• rejoindre une entreprise en pleine croissance\\n• fai\n",
       "2242                                                                                                                                                                                                                                                                                                                                                                                                                                                                                                                                                                                                                                                                                                                                                                                                                                                                    st ou data ingenieur.\\n\\ncompetences attendues :\\n• tableau sofware\\n• dba: oracle / sql.\\n• methode agile scrum\\n• bonne qualite orale et redactionnelle.\\n\\nsalaire : a negocier suivant votre experience professionnelle\\n\\nenvoyez votre cv a :\\n\\nmadame anh truong\\n\\nxxxxxxxxxxxxxx\\n\\nxxxxxxxxxxxxxxxxxxxxxxx\n",
       "2334                                                                                                                                                                                                                                                                                                                                                                                                                                                                                                                                                                                                                                                                                                                                                                                                          ine.\\n\\n→ jeudis apres-midi dedies aux projets personnels et au developpement des competences avec au moins un intervenant de haut vol par mois !\\n\\n→ un salaire competitif et equitable dans l’organisation.\\n\\n→ eligibilite a recevoir des bspce.\\n\\n→ un minimum de 35 jours de conges par an.\\n\\n→ conge second parent egal au conge post-naissance (10 semaines pour le \n",
       "2450                                                                                                                                                                                                                                                                                                                                                                                                                            unite en cdi\\n- teletravail : 3 jours par semaine\\n- 12 rtt + un compte epargne temps\\n- une prime variable annuelle de performance representant 4.5% du salaire annuel\\n\\n- l’equivalent de deux mois de salaire pour l’interessement et la participation\\n- un cse, une carte swile prise en charge a 60% par cbp pour ravir vos papilles\\n\\nqui est cbp ?\\n\\ncbp, filiale dee\\n- 12 rtt + un compte epargne temps\\n- une prime variable annuelle de performance representant 4.5% du salaire annuel\\n\\n- l’equivalent de deux mois de salaire pour l’interessement et la participation\\n- un cse, une carte swile prise en charge a 60% par cbp pour ravir vos papilles\\n\\nqui est cbp ?\\n\\ncbp, filiale de kereis, est le courtier de reference en assura\n",
       "2451                                                                                                                                                                                                                                                                                                                                                                                                                                                                                                                                                                                                                                                                                                                                                                                                          en commun\\n• entreprise familiale, bon esprit, ou il fait bon vivre\\n• 50% de teletravail garantis.\\n\\nce que vous allez y gagner :\\n• poste a evolution\\n• salaire : 40 000 - 47 000 € selon experience\\n• avantages : cadre travail / onboarding et experience collaborateur ++ / interessement / tr ...\\n\\nprocess de recrutement :\\n• traitement de la candidature et rdv a\n",
       "2455                                                                                                                                                                                                                                                                                                                                                                                                                            unite en cdi\\n- teletravail : 3 jours par semaine\\n- 12 rtt + un compte epargne temps\\n- une prime variable annuelle de performance representant 4.5% du salaire annuel\\n\\n- l’equivalent de deux mois de salaire pour l’interessement et la participation\\n- un cse, une carte swile prise en charge a 60% par cbp pour ravir vos papilles\\n\\nqui est cbp ?\\n\\ncbp, filiale dee\\n- 12 rtt + un compte epargne temps\\n- une prime variable annuelle de performance representant 4.5% du salaire annuel\\n\\n- l’equivalent de deux mois de salaire pour l’interessement et la participation\\n- un cse, une carte swile prise en charge a 60% par cbp pour ravir vos papilles\\n\\nqui est cbp ?\\n\\ncbp, filiale de kereis, est le courtier de reference en assura\n",
       "2462                                                                                                                                                                                                                                                                                                                                                                                                                                                                                                                                                                                                                                                                                                                                                                                                                    e vie personnelle / vie professionnelle. francais, anglais professionnel courant indispensable. informations supplementaires ce que nous offrons • un salaire competitif combine a des nombreuses opportunites de formation pour vous developper davantage en tant qu'expert dans votre domaine. • faites partie d'une entreprise internationale a croissance rapide \n",
       "2470                                                                                                                                                                                                                                                                                                                                                                                                                                                                                                                                                                                                                                                                                                                                                                                                                                                                                                                                                     es de traitement et d’ingestion dans kubernetes est un plus (docker, kubernetes, etc.)\\n\\ndate de debut : des que possible\\n\\nlieu de travail : toulouse\\n\\nsalaire : remuneration selon profil\\n\\ncontact\\n\\ncareer@lookupspace.com\n",
       "2496                                                                                                                                                                                                                                                                                                                                                                                                                                                                                                                                                                                                      e (8 personnes). - des evolutions possibles au sein du groupe. - des avantages : statut cadre, 24 jours de rtt/an, interessement entre 2 et 4 mois de salaire, mutuelle prise en charge a 90%, avantages salaries sur certains produits bancaires et d’assurance, un accord de teletravail, une restauration d’entreprise sur place, une prime variable de 973€/an etproduits bancaires et d’assurance, un accord de teletravail, une restauration d’entreprise sur place, une prime variable de 973€/an et un 13eme mois. salaire fixe sur 13 mois en fonction de votre experience\n",
       "2508                                                                                                                                                                                                                                                                                                                                                                                                                                                                                                                                                                                                                                                                                                                                                                                                                    odernite avec une forte culture du service et dans une societe egalitaire et inclusive. localisation: paris (11eme) remuneration : nous savons que le salaire est un element essentiel pour vous c’est pourquoi nous en parlerons sans tabou des les premiers echanges. les epsilon france: acces restaurant d’entreprise (campus bastille) travail hybridegrace a no\n",
       "2521                                                                                                                                                                                                                                                                                                                                                                                                                                                                                                                                                                                                                                                                                                                                                                                                              idation et de diffusion de la connaissance ainsi creee, notamment aupres des partenaires de l'experimentation\\n\\ninformations complementaires :\\nprimes (salaire a titre indicatif)\\nvous etes ...\\n\\nvous etes en derniere annee de master ou d'ecole (equivalent bac +5), avec une specialisation en data science (science des donnees), statistiques et/ou mathematiques\n",
       "2528                                                                                                                                                                                                                                                                                                                                                                                                                                                                                                                                                                                                                                                                                                                                                                                                                                                  igieuse.\\n\\nrencontrez l'equipe fifty-five ! https://bit.ly/2t8hlhx\\n\\nlocalisation : 5 rue d'athenes, 75009 paris\\n\\ndate de demarrage : des que possible\\n\\nsalaire : selon experience\\nen resume ...\\n• paris 1er - 75\\n• cdi\\n• secteur informatique • esn\\n• bac +5\\npubliee le 19/02/2023. ref : eb5f25ecbbf136f294e497b6a1b6d894\n",
       "2541                                                                                                                                                                                                                                                                                                                                                                                                                                                                                                                                                                                                                                                                                                                                                                                                                                t confortables\\n\\nune organisation du travail flexible\\n\\ndes formations internes et externes adaptees a vos besoins et a votre montee en competences\\n\\nun salaire attractif, des stocks (bspce), avantages multiples (tickets restos, mobilite douce, etc...)\\n\\nune politique rse\\n\\ndes team-building et des soirees tout au long de l’annee ....\\n\\n\n",
       "2571                                                                                                                                                                                                                                                                                                                                                                                                                                                                                                                                                                                                                                                                                                                                                                                                          )\\n\\nun parcours collaborateur dedie et de nombreuses possibilites d’evolutions\\n\\nlocalisation : paris 11e (bastille)\\n\\nremuneration : nous savons que le salaire est un element essentiel pour vous c’est pourquoi nous en parlerons sans tabou des les premiers echanges.\\n\\nles + epsilon france :\\n• acces restaurant d’entreprise (campus bastille)\\n• travail hybride g\n",
       "2577                                                                                                                                                                                                                                                                                                                                                                                                                                                                                                                                                                                                                                                                                                                                                                                                  maintenance et evolution des realisations\\n\\nconditions de travail\\nlocalisation / accessibilite\\nremote : 23 jours / semaine\\n\\nce que vous allez y gagner\\nsalaire : 3035k€\\nrtt\\n\\nthouare sur loire\\nremote : 23 jours / semaine\\nsociete a taille humaine, rayonnant a l'international\\nformation et evolution en interne\\nequipe dynamique\\nturnover faible\\n\\nprofil recherche\\n\n",
       "2593                                                                                                                                                                                                                                                                                                                                                                                                                                                                                                                                                                                                                                                                                                                                                                                                        vous maitrisez a un niveau avance (notions de js appreciees)\\n\\ncontrat et remuneration :\\n- type de contrat : cdi.\\n- temps de travail : 35h/ semaine.\\n- salaire entre 75, 000 € et 90, 000 € brut/an + 18% de variable ; negociable.\\n- teletravail.\\nen resume ...\\n• creteil - 94\\n• cdi - teletravail partiel\\n• services aux entreprises\\n• bac +5\\npubliee le 20/02/2023.\n",
       "2608                                                                                                                                                                                                                                                                                                                                                                                                                                                                                                                                                                                                                                                                                                                                                                                                                                                                                                                                          partie des premiers recrutements du pole ia et data\\n• la possibilite de travailler depuis n'importe ou (avec un fuseau horaire proche de la france)\\n\\n💰salaire : 60-90 k selon profil\\n\\n📍full remote\\n\\non en discute ?\\n\\n📧 louise@bao.jobs\n",
       "2617                                                                                                                                                                                                                                                                                                                                                                                                                                                                                                                                                                                                                                                                                                                                                                                                                                                                                                                                          partie des premiers recrutements du pole ia et data\\n• la possibilite de travailler depuis n'importe ou (avec un fuseau horaire proche de la france)\\n\\n💰salaire : 60-90 k selon profil\\n\\n📍full remote\\n\\non en discute ?\\n\\n📧 louise@bao.jobs\n",
       "2639                                                                                                                                                                                                                                                                                                                                                                                                                                                                                                                                                                                                      e (8 personnes). - des evolutions possibles au sein du groupe. - des avantages : statut cadre, 24 jours de rtt/an, interessement entre 2 et 4 mois de salaire, mutuelle prise en charge a 90%, avantages salaries sur certains produits bancaires et d’assurance, un accord de teletravail, une restauration d’entreprise sur place, une prime variable de 973€/an etproduits bancaires et d’assurance, un accord de teletravail, une restauration d’entreprise sur place, une prime variable de 973€/an et un 13eme mois. salaire fixe sur 13 mois en fonction de votre experience\n",
       "2640                                                                                                                                                                                                                                                                                                                                                                                                                                                                                                                                                                                                                                                                                                                                                                                               gcs / azure blob / snowflake\\n• django / flask\\n• git\\n• postgres / mongodb\\n• ci/cd\\n\\nalors venez grandir avec nous !\\n\\ntype d'emploi : temps plein, cdi\\n\\nsalaire : a partir de 50 000,00€ par an\\n\\navantages :\\n• participation au transport\\n• rtt\\n• titre-restaurant\\n\\nprogrammation :\\n• du lundi au vendredi\\n• periodes de travail de 8 heures\\n• travail en journee\\n\\nlieu\n",
       "2653                                                                                                                                                                                                                                                                                                                                                                                                                                                                                                                                                                                                                                                                                                                                                                                                             gnement individualise par des experts metiers\\n• une possibilite d'etre embauche(e) en cdi a l'issue de votre alternance\\n\\ninclus dans votre package:\\n• salaire fixe attractif et superieur au seuil legal\\n• prime d’interessement et/ou de participation avec possibilite d’abondement\\n• prise en charge des transports / pass navigo\\n• aides au logement et au permis\n",
       "2663                                                                                                                                                                                                                                                                                                                                                                                                                                                                                                                                                                                                                                                                                                                                                                                                             gnement individualise par des experts metiers\\n• une possibilite d'etre embauche(e) en cdi a l'issue de votre alternance\\n\\ninclus dans votre package:\\n• salaire fixe attractif et superieur au seuil legal\\n• prime d’interessement et/ou de participation avec possibilite d’abondement\\n• prise en charge des transports / pass navigo\\n• aides au logement et au permis\n",
       "2693                                                                                                                                                                                                                                                                                                                                                                                                                                                                                                                                                                                                                                                                                                                                                                                                                    vous etes a l’aise avec les outils informatiques (excel, powerpoint...) ainsi qu’avec les outils d’exploitation des data. inclus dans votre package • salaire fixe attractif et superieur au seuil legal • prime d’interessement avec possibilite d’abondement • prise en charge des transports • aides au logement et au permis de conduire sous conditions • teletr\n",
       "2695                                                                                                                                                                                                                                                                                                                                                                                                                                                                                                                                                                                                                                                                                                                                                                                                           ptage pour potentiel pour campagne marketing direct\\n\\ninformations complementaires :\\n• lieu: massy\\n• 10% de la carte pass des 3 mois d'anciennete\\n• un salaire fixe sur 13 mensualites + une prime variable selon performance\\n• participation, interessement, plan d'epargne\\n• 10% de la carte pass\\n• remboursement des frais de transport a hauteur de 50%\\n• 2 jours \n",
       "2724                                                                                                                                                                                                                                                                                                                                                                                                                                                                                                                                                                                                                                                                                                                                                                                                                                                                                                                                 la reputation et de la croissance durable de la societe.\\n\\nprofil recherche\\n• date de debut : nc.\\n• experience requise : plus de 10 ans d'experience\\n• salaire : nc.\\n• reference : jr10150393\\n• secteur d'activite : industrialisation, production\n",
       "2744                                                                                                                                                                                                                                                                                                                                                                                                                                                                                                                                                                                                                                                                                                                                                                                                                                                                                                                                 la reputation et de la croissance durable de la societe.\\n\\nprofil recherche\\n• date de debut : nc.\\n• experience requise : plus de 10 ans d'experience\\n• salaire : nc.\\n• reference : jr10162010\\n• secteur d'activite : industrialisation, production\n",
       "2830                                                                                                                                                                                                                                                                                                                                                                                                                                                                                                                                                                                                                                                                                                                                                                                                        vous maitrisez a un niveau avance (notions de js appreciees)\\n\\ncontrat et remuneration :\\n- type de contrat : cdi.\\n- temps de travail : 35h/ semaine.\\n- salaire entre 75, 000 € et 90, 000 € brut/an + 18% de variable ; negociable.\\n- teletravail.\\nen resume ...\\n• creteil - 94\\n• cdi - teletravail partiel\\n• services aux entreprises\\n• bac +5\\npubliee le 20/02/2023.\n",
       "2831                                                                                                                                                                                                                                                                                                                                                                                                                                                                                                                                                                                                                                                                                                                                                                                                                ation aux frais de deplacements (transport en commun, voiture, velo), comite d’entreprise !\\nconcernant la remuneration, nous avons des fourchettes de salaire correspondant a vos competences et votre experience. faites-nous part de vos pretentions, nous en discuterons !\\na competences egales, le poste est ouvert aux personnes en situation de handicap.\\n\\nnotr\n",
       "2905                                                                                                                                                                                                                                                                                                                                                                                                                                                                                                                                                                                                                                                                                                                                                                                                              mais une vraie connaissance technique de la data ? postulez tout de meme et nous echangerons ensemble pour mieux comprendre votre profil.\\n\\navantages\\n\\nsalaire entre 35k€ et 60 k€ en fonction de l'experience et de vos competences\\n• prise en charge a 60% des tickets restaurant par l'employeur\\n• pourcentage de prise en charge de la mutuelle d'entreprise par l\n",
       "2919                                                                                                                                                                                                                                                                                                                                                                                                                                                                                                                                                                                                                                                                                                                                                                                                       de pointe, et pour l’experience utilisateur ;\\n• d’etre curieux (se) et pratiquer une veille active sur vos domaines de competence.\\n• anglais courant\\n\\nsalaire : fixe (en fonction du profil) + variable\\n\\navantages :\\n• titre-restaurant\\n• rtt\\n• indemnites transport et velo\\n• epargne salariale\\n• teletravail et flexibilite dans la pose des conges\\n\\ndescription so\n",
       "3041                                                                                                                                                                                                                                                                                                                                                                                                                                                                                                                                                                                                                                                                                                                                                                                                                  ernatic est de faciliter la rencontre entre candidats et entreprises. nous mettons notre reseau et notre connaissance du marche de la tech (etude des salaires, tendances) a votre disposition pour vous epauler dans toutes les etapes de votre recherche.\\n\\nnotre moteur : vous accompagner sur du long terme pour trouver l'opportunite en cdi, qui correspond a vo\n",
       "3058                                                                                                                                                                                                                                                                                                                                                                                                                                                                                                                                                                                                                                                                                                                                                                                                  s atouts pour reussir dans ce poste.\\n• vous voulez rejoindre notre equipe de data enthusiasts ?\\n• contactez-nous !\\n\\ntype d'emploi : temps plein, cdi\\n\\nsalaire : a partir de 36 000,00€ par an\\n\\navantages :\\n• epargne salariale\\n• participation au transport\\n• rtt\\n• titre-restaurant\\n\\nprogrammation :\\n• periodes de travail de 8 heures\\n• travail en journee\\n\\nlieu du\n",
       "3098                                                                                                                                                                                                                                                                                                                                                                                                                                                                                                                                                                                                                                                                                                                                                                                                                  galement la possibilite de vous engager en faveur de la societe et de causes qui vous tiennent a cœur via notre fondation d’entreprise.\\n\\nen plus d’un salaire attractif calcule en fonction de votre formation et de votre niveau d’etudes, vous beneficiez du remboursement de votre titre de transport a hauteur de 60 %, de conges payes, l’acces au restaurant de\n",
       "3102                                                                                                                                                                                                                                                                                                                                                                                                                                                                                                                                                                                                                                                                                                                                                                                                        teurs metiers et it.\\n\\ninformations supplementaires\\ninformations supplementaires\\n\\nlocalisation: paris 11e (bastille)\\n\\nremuneration: nous savons que le salaire est un element essentiel pour vous c’est pourquoi nous en parlerons sans tabou des les premiers echanges.\\n\\nles + epsilon france:\\n\\nacces restaurant d’entreprise (campus bastille)\\ntravail hybridegrace \n",
       "3119                                                                                                                                                                                                                                                                                                                                                                                                                                                                                                                                                                                                                                                                                                                                                                                                                                                                                                      ent et etre force de proposition au sein d’une equipe a taille humaine.informations complementairestype de contrat : cditemps de travail : temps pleinsalaire : 30000 € - 33000 € par an informations complementaires nombre de postes a pourvoir : 1 debut de mission : 13/03/2023\n",
       "3120                                                                                                                                                                                                                                                                                                                                                                                                                                                                                                                                                                                                      e (8 personnes). - des evolutions possibles au sein du groupe. - des avantages : statut cadre, 24 jours de rtt/an, interessement entre 2 et 4 mois de salaire, mutuelle prise en charge a 90%, avantages salaries sur certains produits bancaires et d’assurance, un accord de teletravail, une restauration d’entreprise sur place, une prime variable de 973€/an etproduits bancaires et d’assurance, un accord de teletravail, une restauration d’entreprise sur place, une prime variable de 973€/an et un 13eme mois. salaire fixe sur 13 mois en fonction de votre experience\n",
       "3146                                                                                                                                                                                                                                                                                                                                                                                                                                                                                                                                                                                                                                                                                                                                                                                                                    odernite avec une forte culture du service et dans une societe egalitaire et inclusive. localisation: paris (11eme) remuneration : nous savons que le salaire est un element essentiel pour vous c’est pourquoi nous en parlerons sans tabou des les premiers echanges. les epsilon france: acces restaurant d’entreprise (campus bastille) travail hybridegrace a no\n",
       "3168                                                                                                                                                                                                                                                                                                                                                                                                                                                                                                                                                                                                                                                                                                                                                                                            s et en anglais\\n\\n# data science\\n\\n# data scientist\\n\\n# ai artificial intelligence\\n\\n# machine learning\\n\\ntype d'emploi : temps plein, cdi\\nstatut : cadre\\n\\nsalaire : a partir de 50 000,00€ par an\\n\\navantages :\\n• horaires flexibles\\n• participation au transport\\n• rtt\\n• titre-restaurant\\n• travail a domicile\\n\\nprogrammation :\\n• du lundi au vendredi\\n• horaires flexibl\n",
       "3179                                                                                                                                                                                                                                                                                                                                                                                                                                                                                                                                                                                                                                                                                                                                                                                                                  mediterranee et l'ocean atlantique et a proximite des pyrenees, elle offre de nombreuses possibilites d'activites de plein air\\n\\navantages financiers: salaire attractif, accords d'interessement et de participation, plan d'epargne salariale abonde par airbus, plan d'actionnariat salarie sur la base du volontariat, avec attribution d'actions gratuites en fon\n",
       "3184                                                                                                                                                                                                                                                                                                                                                                                                                                                                                                                                                                                                                                                                                                                                                                                                                  mediterranee et l'ocean atlantique et a proximite des pyrenees, elle offre de nombreuses possibilites d'activites de plein air\\n\\navantages financiers: salaire attractif, accords d'interessement et de participation, plan d'epargne salariale abonde par airbus, plan d'actionnariat salarie sur la base du volontariat, avec attribution d'actions gratuites en fon\n",
       "3214                                                                                                                                                                                                                                                                                                                                                                                                                                                                                                                                                                                                                                                                                                                                                                                      lle\\n\\n- rigueur\\n\\n- creatif / force de proposition\\n\\n- capacites d'analyse et de synthese / pedagogie\\n\\nstatut : cadre\\n\\ntype d'emploi : temps plein, cdi\\n\\nsalaire : 2 294,00€ a 4 847,00€ par mois\\n\\navantages :\\n\\n- horaires flexibles\\n\\n- participation au transport\\n\\n- rtt\\n\\n- titre-restaurant\\n\\n- travail a distance\\n\\nhoraires :\\n\\n- du lundi au vendredi\\n\\n- horaires amen\n",
       "3221                                                                                                                                                                                                                                                                                                                                                                                                                                                                                                                                                                                                                                                                                                                                                                                                                 t le monde souhaite avancer, une serie d’entretiens en visio avec les personnes cles.\\n\\nduree du contrat : 6 mois\\n\\ntype d'emploi : temps plein, stage\\n\\nsalaire : a partir de 800,00€ par mois\\n\\navantages :\\n\\n- titre-restaurant\\n\\nhoraires :\\n\\n... horaires amenageables\\n\\n- periodes de travail de 8 heures\\n\\n- travail en journee\\n\\nteletravail:\\n\\n- oui\n",
       "3240                                                                                                                                                                                                                                                                                                                                                                                                                                                                                                                                                                                                                                                                                                                                                                                                                                                                                                                     ge, etc.\\n\\n- vous avez une bonne capacite a apprehender des systemes complexes, notamment d’un point de vue telecom et it __\\n• *\\n\\ntype d'emploi : cdi\\n\\nsalaire : 35 000,00€ a 45 000,00€ par an\\n\\nhoraires :\\n\\n- travail en journee\\n\\nteletravail:\\n\\n- non\n",
       "3242                                                                                                                                                                                                                                                                                                                                                                                                                                                                                                                                                                                                                                                                                                                                                                                                 z envie de participer a un projet challengeant alors go go go!!\\n\\nstatut : cadre\\n\\ndate de debut prevue : 20/09/2021\\n\\ntype d'emploi : temps plein, cdi\\n\\nsalaire : a partir de 2 304,00€ par mois\\n\\navantages :\\n\\n- participation au transport\\n\\n- rtt\\n\\n- titre-restaurant\\n\\n- travail a distance\\n\\nhoraires :\\n\\n- periodes de travail de 8 heures\\n\\nteletravail:\\n\\n- oui\n",
       "3247                                                                                                                                                                                                                                                                                                                                                                                                                                                                                                                                                                                                                                                                                                                                                                                                                                                                                            anches.\\n\\n- tu es un bon communiquant capable de vulgariser ton savoir-faire et faire grandir les equipes medicalib sur la data.\\n\\ntype d'emploi : cdi\\n\\nsalaire : 50 000,00€ a 70 000,00€ par an\\n\\nhoraires :\\n\\n- du lundi au vendredi\\n\\n- travail en journee\\n\\nteletravail:\\n\\n- non\n",
       "3252                                                                                                                                                                                                                                                                                                                                                                                                                                                                                                                                                                                                                                                                                                                                                                                                                                                        s etes reconnu(e) pour votre autonomie, votre excellent relationnel et votre capacite a etre force de proposition.\\n\\ntype d'emploi : temps plein, cdi\\n\\nsalaire : 2 292,00€ a 4 774,00€ par mois\\n\\nhoraires :\\n\\n- du lundi au vendredi\\n\\n- travail en journee\\n\\nteletravail:\\n\\n- oui, temporairement en raison du covid-19\n",
       "3270                                                                                                                                                                                                                                                                                                                                                                                                                                                                                                                                                                                                                                                                                                                                                                                          iens\\n\\ncv + reponse a la question suivante : how do you see data play a role in digital marketing ?\\n\\nstatut : cadre\\n\\ntype d'emploi : temps plein, cdi\\n\\nsalaire : 2 289,00€ a 3 750,00€ par mois\\n\\navantages :\\n\\n- epargne salariale\\n\\n- horaires flexibles\\n\\n- participation au transport\\n\\n- rtt\\n\\n- titre-restaurant\\n\\n- travail a distance\\n\\nhoraires :\\n\\n- du lundi au vend\n",
       "3276                                                                                                                                                                                                                                                                                                                                                                                                                                                                                                                                                                                                                                                                                                                                                                                        sir dans ce poste.\\n\\n- vous voulez rejoindre notre equipe de data enthusiasts ?\\n\\n- contactez-nous !\\n\\nstatut : cadre\\n\\ntype d'emploi : temps plein, cdi\\n\\nsalaire : a partir de 45 000,00€ par an\\n\\navantages :\\n\\n- epargne salariale\\n\\n- participation au transport\\n\\n- rtt\\n\\n- titre-restaurant\\n\\n- travail a distance\\n\\nhoraires :\\n\\n- du lundi au vendredi\\n\\n- periodes de tra\n",
       "3278                                                                                                                                                                                                                                                                                                                                                                                                                                                                                                                                                                                                                                                                                                                                                                                                                                                                                     utils ad-hoc (docker, dataiku, anaplan...)\\n\\nvous etes interesse ? n’hesitez pas a nous contacter !\\n\\nstatut : cadre\\n\\ntype d'emploi : temps plein, cdi\\n\\nsalaire : a partir de 1,00€ par mois\\n\\nhoraires :\\n\\n- du lundi au vendredi\\n\\nteletravail:\\n\\n- temporairement en raison du covid-19\n",
       "3279                                                                                                                                                                                                                                                                                                                                                                                                                                                                                                                                                                                                                                                                                                                                                                                            rimer pleinement votre passion pour la data science a l’echelle d’un site de production high-tech.\\n\\nstatut : cadre\\n\\ntype d'emploi : temps plein, cdi\\n\\nsalaire : a partir de 3 000,00€ par mois\\n\\navantages :\\n\\n- refectoire\\n\\n- rtt\\n\\nhoraires :\\n\\n- du lundi au vendredi\\n\\n- travail en journee\\n\\nexperience:\\n\\n- developpement r/shiny sous rstudio: 2 ans (exige)\\n\\n- model\n",
       "3291                                                                                                                                                                                                                                                                                                                                                                                                                                                                                                                                                                                                                                                                                                                                                                                                                                                            stimulant\\n\\n- une vaste dimension de travail, de la recherche a la mise en production\\n\\nduree du contrat : 6 mois\\n\\ntype d'emploi : temps plein, stage\\n\\nsalaire : 2 000,00€ par mois\\n\\navantages :\\n\\n- participation au transport\\n\\n- titre-restaurant\\n\\nhoraires :\\n\\n- travail en journee\\n\\nteletravail:\\n\\n- non\n",
       "3309                                                                                                                                                                                                                                                                                                                                                                                                                                                                                                                                                                                                                                                                                                                                                                                                                                                                                                                                                                                        lle et bordeaux, nous poursuivons notre maillage local en ouvrant 3 agences a lyon, aix et nantes.\\n\\nstatut : cadre\\n\\ntype d'emploi : temps plein, cdi\\n\\nsalaire : 25 000,00€ a 45 000,00€ /an\n",
       "3335        erne en collaboration avec l'equipe de developpement commercial, definir et mettre en œuvre des preuves de concept pour stimuler la qualification...\\n\\nsalaire et avantages\\n\\nsalaire : salaire selon profil\\n\\nreference :\\n\\njr10157082\\n\\nvoir plus de contenus\\n\\ncreez votre profil pour postuler a cette offre\\n\\ne-mail\\n\\nprenom\\n\\nnom\\n\\nmot de passe\\n\\nj'accepte les conditioavec l'equipe de developpement commercial, definir et mettre en œuvre des preuves de concept pour stimuler la qualification...\\n\\nsalaire et avantages\\n\\nsalaire : salaire selon profil\\n\\nreference :\\n\\njr10157082\\n\\nvoir plus de contenus\\n\\ncreez votre profil pour postuler a cette offre\\n\\ne-mail\\n\\nprenom\\n\\nnom\\n\\nmot de passe\\n\\nj'accepte les conditions generales pour creeipe de developpement commercial, definir et mettre en œuvre des preuves de concept pour stimuler la qualification...\\n\\nsalaire et avantages\\n\\nsalaire : salaire selon profil\\n\\nreference :\\n\\njr10157082\\n\\nvoir plus de contenus\\n\\ncreez votre profil pour postuler a cette offre\\n\\ne-mail\\n\\nprenom\\n\\nnom\\n\\nmot de passe\\n\\nj'accepte les conditions generales pour creer mon comp\n",
       "3428        erne en collaboration avec l'equipe de developpement commercial, definir et mettre en œuvre des preuves de concept pour stimuler la qualification...\\n\\nsalaire et avantages\\n\\nsalaire : salaire selon profil\\n\\nreference :\\n\\njr10157082\\n\\nvoir plus de contenus\\n\\ncreez votre profil pour postuler a cette offre\\n\\ne-mail\\n\\nprenom\\n\\nnom\\n\\nmot de passe\\n\\nj'accepte les conditioavec l'equipe de developpement commercial, definir et mettre en œuvre des preuves de concept pour stimuler la qualification...\\n\\nsalaire et avantages\\n\\nsalaire : salaire selon profil\\n\\nreference :\\n\\njr10157082\\n\\nvoir plus de contenus\\n\\ncreez votre profil pour postuler a cette offre\\n\\ne-mail\\n\\nprenom\\n\\nnom\\n\\nmot de passe\\n\\nj'accepte les conditions generales pour creeipe de developpement commercial, definir et mettre en œuvre des preuves de concept pour stimuler la qualification...\\n\\nsalaire et avantages\\n\\nsalaire : salaire selon profil\\n\\nreference :\\n\\njr10157082\\n\\nvoir plus de contenus\\n\\ncreez votre profil pour postuler a cette offre\\n\\ne-mail\\n\\nprenom\\n\\nnom\\n\\nmot de passe\\n\\nj'accepte les conditions generales pour creer mon comp\n",
       "3444                                                                                                                                                                                                                                                                                                                                                                                                                                                                                                                                                                                                                                                                                                                                                                                                                  galement la possibilite de vous engager en faveur de la societe et de causes qui vous tiennent a cœur via notre fondation d'entreprise.\\n\\nen plus d'un salaire attractif calcule en fonction de votre formation et de votre niveau d'etudes, vous beneficiez du remboursement de votre titre de transport a hauteur de 60 %, de conges payes, l'acces au restaurant de\n",
       "3449                                                                                                                                                                                                                                                                                                                                                                                                                                                                                                                                                                                                                                                                                                                                                                                                                  galement la possibilite de vous engager en faveur de la societe et de causes qui vous tiennent a cœur via notre fondation d'entreprise.\\n\\nen plus d'un salaire attractif calcule en fonction de votre formation et de votre niveau d'etudes, vous beneficiez du remboursement de votre titre de transport a hauteur de 60 %, de conges payes, l'acces au restaurant de\n",
       "3467                                                                                                                                                                                                                                                                                                                                                                                                                                                                                                                                                                                                                                                                                                                                                                                                               ts essentiels au developpement de leurs collaborateurs\\n- avantages sociaux : tickets restaurants a hauteur de 8€, variable annuelle jusqu’a 1 mois de salaire, prise en charge des frais de transport jusqu’a 75%,cantine, activite sportive pendant la pause dejeuner, 2 jours de teletravail par semaine\\n\\nprofil recherche\\n\\nnous recherchons un collaborateur auton\n",
       "3479                                                                                                                                                                                                                                                                                                                                                                                                                                                                                                                                                                                                                                                                                                                                                                                                                    ult, engie), − notre fort investissement dans l’innovation (20 projets par an). localisation : paris 11e (bastille) remuneration : nous savons que le salaire est un element essentiel pour vous c’est pourquoi nous en parlerons sans tabou des les premiers echanges. les epsilon france: acces restaurant d’entreprise (campus bastille) travail hybridegrace a no\n",
       "3485                                                                                                                                                                                                                                                                                                                                                                                                                                                                                                                                                                                                                                                                                                                                                                                                                    odernite avec une forte culture du service et dans une societe egalitaire et inclusive. localisation: paris (11eme) remuneration : nous savons que le salaire est un element essentiel pour vous c’est pourquoi nous en parlerons sans tabou des les premiers echanges. les epsilon france: acces restaurant d’entreprise (campus bastille) travail hybridegrace a no\n",
       "3493                                                                                                                                                                                                                                                                                                                                                                                                                                                                                                                                                                                                                                                                                                                                                                                                                                                                                                                                                                                                                                                                                                                                                                                         \n",
       "3526                                                                                                                                                                                                                                                                                                                                                                                                                                                                                                                                                                                                                                                                                                                                                                                                                                  iosite technologique. outils : talend/etl (outil de reporting). connaissances de mssql/ mysql / postgresql et oracletype d'emploi : temps plein... cdisalaire: a partir de 32000,00€ par anavantages: travail a domicileexigences linguistiques flexibles: francais non requisprogrammation:* travail en journeelieu du poste : un seul lieu de travail\n",
       "3529                                                                                                                                                                                                                                                                                                                                                                                                                                                                                                                                                                                                                                                                                                                                                                                                                                  iosite technologique. outils : talend/etl (outil de reporting). connaissances de mssql/ mysql / postgresql et oracletype d'emploi : temps plein... cdisalaire: a partir de 32000,00€ par anavantages: travail a domicileexigences linguistiques flexibles: francais non requisprogrammation:* travail en journeelieu du poste : un seul lieu de travail\n",
       "3540                                                                                                                                                                                                                                                                                                                                                                                                                                                                                                                                                                                                                                                                                                                                                                                                           gorithmes d'optimisation stochastique, de controle optimal via de la programmation dynamique et de l'optimisation sous contraintes\\n• anglais courant\\n\\nsalaire\\n• 45/50k€ (selon experience)\\n\\nce qu’on prefere :\\n• un sujet societal innovant permettant de voir directement le fruit de son travail\\n• une societe en hyper croissance\\n• de belles perspectives d’evolu\n",
       "3546                                                                                                                                                                                                                                                                                                                                                                                                                                                                                                                                                                                                                                                                                                                                                                                                                     repas & transport, plan d’epargne salariale, prime teletravail de 20,80€ par mois...un cse avantageux !type d'emploi : temps plein, cdistatut : cadresalaire: 39000,00€a55000,00€par anavantages: participation au transport rtt titre-restaurant travail a domicileprogrammation: du lundi au vendredi periodes de travail de 8 heures repos le week-end travail en\n",
       "3549                                                                                                                                                                                                                                                                                                                                                                                                                                                                                                                                                                                                                                                                                                                                                                                                                    etences egales seront etudiees.integrez une entreprise structuree, perenne et performante !type d'emploi : temps plein, stageduree du contrat : 3 moissalaire: 4,05€ par heureprogrammation: du lundi au vendredi repos le week-end travail en journeeformation: bac +3 (licence / bachelor) (optionnel)lieu du poste : un seul lieu de travaildate de debut prevue: \n",
       "3554                                                                                                                                                                                                                                                                                                                                                                                                                                                                                                                                                                                                      e (8 personnes). - des evolutions possibles au sein du groupe. - des avantages : statut cadre, 24 jours de rtt/an, interessement entre 2 et 4 mois de salaire, mutuelle prise en charge a 90%, avantages salaries sur certains produits bancaires et d’assurance, un accord de teletravail, une restauration d’entreprise sur place, une prime variable de 973€/an etproduits bancaires et d’assurance, un accord de teletravail, une restauration d’entreprise sur place, une prime variable de 973€/an et un 13eme mois. salaire fixe sur 13 mois en fonction de votre experience\n",
       "3558                                                                                                                                                                                                                                                                                                                                                                                                                                                                                                                                                                                                                                                                                                                                                                                                                    etences egales seront etudiees.integrez une entreprise structuree, perenne et performante !type d'emploi : temps plein, stageduree du contrat : 3 moissalaire: 4,05€ par heureprogrammation: du lundi au vendredi repos le week-end travail en journeeformation: bac +3 (licence / bachelor) (optionnel)lieu du poste : un seul lieu de travaildate de debut prevue: \n",
       "3560                                                                                                                                                                                                                                                                                                                                                                                                                                                                                                                                                                                                      e (8 personnes). - des evolutions possibles au sein du groupe. - des avantages : statut cadre, 24 jours de rtt/an, interessement entre 2 et 4 mois de salaire, mutuelle prise en charge a 90%, avantages salaries sur certains produits bancaires et d’assurance, un accord de teletravail, une restauration d’entreprise sur place, une prime variable de 973€/an etproduits bancaires et d’assurance, un accord de teletravail, une restauration d’entreprise sur place, une prime variable de 973€/an et un 13eme mois. salaire fixe sur 13 mois en fonction de votre experience\n",
       "3569                                                                                                                                                                                                                                                                                                                                                                                                                                                                                                                                                                                                      e (8 personnes). - des evolutions possibles au sein du groupe. - des avantages : statut cadre, 24 jours de rtt/an, interessement entre 2 et 4 mois de salaire, mutuelle prise en charge a 90%, avantages salaries sur certains produits bancaires et d’assurance, un accord de teletravail, une restauration d’entreprise sur place, une prime variable de 973€/an etproduits bancaires et d’assurance, un accord de teletravail, une restauration d’entreprise sur place, une prime variable de 973€/an et un 13eme mois. salaire fixe sur 13 mois en fonction de votre experience\n",
       "3571                                                                                                                                                                                                                                                                                                                                                                                                                                                                                                                                                                                                                                                                                                                                                                                                            vous maitrisez a un niveau avance (notions de js appreciees)\\n\\ncontrat et remuneration :\\n• type de contrat : cdi.\\n• temps de travail : 35h/ semaine.\\n• salaire entre 75,000 € et 90,000 € brut/an + 18% de variable ; negociable.\\n• teletravail.\\n\\nnotre client est un grand groupe francais leader specialise dans la distribution de biens d’equipements de la maison\n",
       "3578                                                                                                                                                                                                                                                                                                                                                                                                                                                                                                                                                                                                                                                                                                                                                                                                                    odernite avec une forte culture du service et dans une societe egalitaire et inclusive. localisation: paris (11eme) remuneration : nous savons que le salaire est un element essentiel pour vous c’est pourquoi nous en parlerons sans tabou des les premiers echanges. les epsilon france: acces restaurant d’entreprise (campus bastille) travail hybridegrace a no\n",
       "3580                                                                                                                                                                                                                                                                                                                                                                                                                                                                                                                                                                                                                                                                                                                                                                                                                    e vie personnelle / vie professionnelle. francais, anglais professionnel courant indispensable. informations supplementaires ce que nous offrons • un salaire competitif combine a des nombreuses opportunites de formation pour vous developper davantage en tant qu'expert dans votre domaine. • faites partie d'une entreprise internationale a croissance rapide \n",
       "3591                                                                                                                                                                                                                                                                                                                                                                                                                                                                                                                                                                                                                                                                                                                                                                                                         intelligence artificielle (machine learning / text mining)\\n• connaissance du sql ou d’une techno nosql\\n• bon niveau d’anglais technique et metier\\n\\nle salaire & avantages\\n• 70-75k€ fixe selon experience\\n• bonus de 10 a 15% (qui amene a un package entre 80 et 85k)\\n• mutuelle\\n• 2 jours de teletravail par semaine\\n• incentives organises par la direction\\n\\net pl\n",
       "3656                                                                                                                                                                                                                                                                                                                                                                                                                                                                                                                                                                                                                                                                                                                                                                                                                    e. vous serez accompagne par un de nos tech lead data pour repondre aux problematiques de deploiement en temps reel. type d'emploi : temps plein, cdi salaire : 40 000,00€ a 70 000,00€ par an programmation: - du lundi au vendredi - periodes de travail de 8 heures - repos le week-end - travail en journee lieu du poste : teletravail hybride (92100 boulogne-b\n",
       "3691                                                                                                                                                                                                                                                                                                                                                                                                                                                                                                                                                                                                                                                                                                                                                                                                                    nce integration au sein d'une equipe pluridisciplinaire large eventail de mission (connaissance client, fraude etc...)type d'emploi : temps plein, cdisalaire: 55000,00€a65000,00€par anavantages: horaires flexibles titre-restaurantprogrammation: du lundi au vendredi horaires flexiblestypes de primes et de gratifications: prime annuelle* primeslieu du poste\n",
       "3696                                                                                                                                                                                                                                                                                                                                                                                                                                                                                                                                                                                                                                                                                                                                                                                                                                                livres une equipe d’experts a vos cotes un espace de travail detendu et une bonne atmosphere de travailtype d'emploi : stageduree du contrat : 6 moissalaire: 1200,00€ par moisavantages: titre-restaurant travail a domicileprogrammation: periodes de travail de 8 heureslieu du poste : teletravail hybride (78140 velizy-villacoublay\n",
       "3697                                                                                                                                                                                                                                                                                                                                                                                                                                                                                                                                                                                                                                                                                                                                                                                                                                t confortables\\n\\nune organisation du travail flexible\\n\\ndes formations internes et externes adaptees a vos besoins et a votre montee en competences\\n\\nun salaire attractif, des stocks (bspce), avantages multiples (tickets restos, mobilite douce, etc...)\\n\\nune politique rse\\n\\ndes team-building et des soirees tout au long de l’annee ....\\n\\n\n",
       "3701                                                                                                                                                                                                                                                                                                                                                                                                                                                                                                                                                                                                                                                                                                                                                                                                                    ion en francais et en anglais data science data scientist ai artificial intelligence machine learning type d'emploi : temps plein, cdi statut : cadre salaire : a partir de 50 000,00€ par an avantages : horaires flexibles participation au transport rtt titre-restaurant travail a domicile programmation : du lundi au vendredi horaires flexibles travail en jo\n",
       "3703                                                                                                                                                                                                                                                                                                                                                                                                                                                                                                                                                                                                                                                                                                                                                                                                             gnement individualise par des experts metiers\\n• une possibilite d'etre embauche(e) en cdi a l'issue de votre alternance\\n\\ninclus dans votre package:\\n• salaire fixe attractif et superieur au seuil legal\\n• prime d’interessement et/ou de participation avec possibilite d’abondement\\n• prise en charge des transports / pass navigo\\n• aides au logement et au permis\n",
       "3705                                                                                                                                                                                                                                                                                                                                                                                                                                                                                                                                                                                                                                                                                                                                                                                                             gnement individualise par des experts metiers\\n• une possibilite d'etre embauche(e) en cdi a l'issue de votre alternance\\n\\ninclus dans votre package:\\n• salaire fixe attractif et superieur au seuil legal\\n• prime d’interessement et/ou de participation avec possibilite d’abondement\\n• prise en charge des transports / pass navigo\\n• aides au logement et au permis\n",
       "3707                                                                                                                                                                                                                                                                                                                                                                                                                                                                                                                                                                                                                                                                                                                                                                                                                    l’entreprise et son processus de recrutement n’hesitez pas a consulter notre site internet : decilia.fr type d'emploi : temps plein, cdistatut : cadresalaire: 38000,00€a45000,00€par anavantages: horaires flexibles rttprogrammation: du lundi au vendredi horaires flexibles travail en journeetypes de primes et de gratifications:* primeslieu du poste : teletr\n",
       "3748                                                                                                                                                                                                                                                                                                                                                                                                                                                                                                                                                                                                                                                                                                                                                                                                                                                                                                          z toutes les cases, n'hesitez pas a candidater, nous regardons toutes les candidatures avec la plus grande attention !type d'emploi : temps plein, cdisalaire: 23218,75€a46342,92€par anavantages: rttprogrammation:* travail en journeelieu du poste : un seul lieu de travail\n",
       "3776                                                                                                                                                                                                                                                                                                                                                                                                                                                                                                                                                                                                                                                                                                                                                                                                                     s3 / gcs / azure blob / snowflake • django / flask • git • postgres / mongodb • ci/cd alors venez grandir avec nous type d'emploi : temps plein, cdi salaire : a partir de 50 000,00€ par an avantages : participation au transport rtt titre-restaurant programmation : du lundi au vendredi periodes de travail de 8 heures travail en journee lieu du poste : tel\n",
       "3785                                                                                                                                                                                                                                                                                                                                                                                                                                                                                                                                                                                                                                                                                                                                                                                                                e retribution sncf a pour ambition de valoriser les competences, le professionnalisme et l’engagement de ses equipes.\\n\\nnotre remuneration comporte un salaire fixe et des elements additionnels individuels ou collectifs, dependant de la performance et des resultats de l’entreprise.\\n\\ndes indemnites et des gratifications peuvent venir s’y ajouter selon le met\n",
       "3797                                                                                                                                                                                                                                                                                                                                                                                                                                                                                                                                                                                                                                                                                                                                                                                                                  galement la possibilite de vous engager en faveur de la societe et de causes qui vous tiennent a cœur via notre fondation d'entreprise.\\n\\nen plus d'un salaire attractif calcule en fonction de votre formation et de votre niveau d'etudes, vous beneficiez du remboursement de votre titre de transport a hauteur de 60 %, de conges payes, l'acces au restaurant de\n",
       "3799                                                                                                                                                                                                                                                                                                                                                                                                                                                                                                                                                                                                                                                                                                                                                                                                rk ou hadoop, etc.\\n\\ncontactez-moi !\\n\\nvotre cv suffit ! si ca colle, je vous appelle et on echange !\\n\\ntype d'emploi : temps plein, cdi\\nstatut : cadre\\n\\nsalaire : 45 000,00€ a 57 000,00€ par an\\n\\navantages :\\n• aide au logement\\n• horaires flexibles\\n• participation au transport\\n• titre-restaurant\\n\\nprogrammation :\\n• du lundi au vendredi\\n• horaires flexibles\\n• tr\n",
       "3800                                                                                                                                                                                                                                                                                                                                                                                                                                                                                                                                                                                                                                                                                                                                                                                                   ou credit.\\n\\n☑️ tous nos postes sont ouverts aux personnes possedant le statut rqth.\\n\\ninformations complementaires\\n\\nposte situe a charenton-le-pont 🚀\\n\\nsalaire : 70-75 k€ brut/an\\n\\nfreelance : 500-570€/j\\n\\nreference : 230202_data_scientist_idf\\n\\npourquoi rejoindre citech ? 🤔\\n\\n- une ambiance de travail conviviale avec des afterworks organises regulierement ! 🤗\\n\n",
       "3802                                                                                                                                                                                                                                                                                                                                                                                                                                                                                                                                                                                                                                                                                                                                                                                                                                                                        mplementaires\\n\\nutilisation si possible de son ordinateur personnel ;\\n\\nbureaux a la pepiniere 27, paris 11° ;\\n\\ntravail pour part possible en remote ;\\n\\nsalaire legal du regime du contrat d'apprentissage ;\\n\\ndate d'integration : si possible aout 2022, sinon septembre 2022 ;\\n\\nembauche envisageable\n",
       "3804                                                                                                                                                                                                                                                                                                                                                                                                                                                                                                                                                                                                                                                                                                                                                                                                                  galement la possibilite de vous engager en faveur de la societe et de causes qui vous tiennent a cœur via notre fondation d'entreprise.\\n\\nen plus d'un salaire attractif calcule en fonction de votre formation et de votre niveau d'etudes, vous beneficiez du remboursement de votre titre de transport a hauteur de 60 %, de conges payes, l'acces au restaurant de\n",
       "3808                                                                                                                                                                                                                                                                                                                                                                                                                                                                                                                                                                                                                                                                                                                                                                                                                                                                        mplementaires\\n\\nutilisation si possible de son ordinateur personnel ;\\n\\nbureaux a la pepiniere 27, paris 11° ;\\n\\ntravail pour part possible en remote ;\\n\\nsalaire legal du regime du contrat d'apprentissage ;\\n\\ndate d'integration : si possible aout 2022, sinon septembre 2022 ;\\n\\nembauche envisageable\n",
       "3813                                                                                                                                                                                                                                                                                                                                                                                                                                                                                                                                                                                                                                                                                                                                                                                                                                                                        mplementaires\\n\\nutilisation si possible de son ordinateur personnel ;\\n\\nbureaux a la pepiniere 27, paris 11° ;\\n\\ntravail pour part possible en remote ;\\n\\nsalaire legal du regime du contrat d'apprentissage ;\\n\\ndate d'integration : si possible aout 2022, sinon septembre 2022 ;\\n\\nembauche envisageable\n",
       "3815                                                                                                                                                                                                                                                                                                                                                                                                                                                                                                                                                                                                                                                                                                                                                                                                                                                                        mplementaires\\n\\nutilisation si possible de son ordinateur personnel ;\\n\\nbureaux a la pepiniere 27, paris 11° ;\\n\\ntravail pour part possible en remote ;\\n\\nsalaire legal du regime du contrat d’apprentissage ;\\n\\ndate d’integration : si possible aout 2022, sinon septembre 2022 ;\\n\\nembauche envisageable\n",
       "3821                                                                                                                                                                                                                                                                                                                                                                                                                                                                                                                                                                                                                                                                                                                                                                                                                                                                        mplementaires\\n\\nutilisation si possible de son ordinateur personnel ;\\n\\nbureaux a la pepiniere 27, paris 11° ;\\n\\ntravail pour part possible en remote ;\\n\\nsalaire legal du regime du contrat d’apprentissage ;\\n\\ndate d’integration : si possible aout 2022, sinon septembre 2022 ;\\n\\nembauche envisageable\n",
       "3822                                                                                                                                                                                                                                                                                                                                                                                                                                                                                                                                                                                                                                                                                                                                                                                                                                                                        mplementaires\\n\\nutilisation si possible de son ordinateur personnel ;\\n\\nbureaux a la pepiniere 27, paris 11° ;\\n\\ntravail pour part possible en remote ;\\n\\nsalaire legal du regime du contrat d’apprentissage ;\\n\\ndate d’integration : si possible aout 2022, sinon septembre 2022 ;\\n\\nembauche envisageable\n",
       "3825                                                                                                                                                                                                                                                                                                                                                                                                                                                                                                                                                                                                                                                                                                                                                                                                             sorflow, spacy, yolo, tesseract, microsoft azure speech services, prodigy.\\n\\navantages :\\n• travailler pour un marche stable et porteur : la sante\\n• un salaire competitif en fonction de l'experience, ainsi que des tickets restaurants\\n• la participation a une conference par an\\n• teletravail 2 jours par semaine\\n• pas de baby-foot mais plutot un respect des in\n",
       "3830                                                                                                                                                                                                                                                                                                                                                                                                                                                                                                                                                                                                                                                                                                                                                                                                                                                                        mplementaires\\n\\nutilisation si possible de son ordinateur personnel ;\\n\\nbureaux a la pepiniere 27, paris 11° ;\\n\\ntravail pour part possible en remote ;\\n\\nsalaire legal du regime du contrat d’apprentissage ;\\n\\ndate d’integration : si possible aout 2022, sinon septembre 2022 ;\\n\\nembauche envisageable\n",
       "3838                                                                                                                                                                                                                                                                                                                                                                                                                                                                                                                                                                                                                                                                                                                                                                                                                                                                        mplementaires\\n\\nutilisation si possible de son ordinateur personnel ;\\n\\nbureaux a la pepiniere 27, paris 11° ;\\n\\ntravail pour part possible en remote ;\\n\\nsalaire legal du regime du contrat d’apprentissage ;\\n\\ndate d’integration : si possible aout 2022, sinon septembre 2022 ;\\n\\nembauche envisageable\n",
       "3844                                                                                                                                                                                                                                                                                                                                                                                                                                                                                                                                                                                                                                                                                                                                                                                                                                                                        mplementaires\\n\\nutilisation si possible de son ordinateur personnel ;\\n\\nbureaux a la pepiniere 27, paris 11° ;\\n\\ntravail pour part possible en remote ;\\n\\nsalaire legal du regime du contrat d’apprentissage ;\\n\\ndate d’integration : si possible aout 2022, sinon septembre 2022 ;\\n\\nembauche envisageable\n",
       "3852                                                                                                                                                                                                                                                                                                                                                                                                                                                                                                                                                                                                                                                                                                                                                                                                                                                                        mplementaires\\n\\nutilisation si possible de son ordinateur personnel ;\\n\\nbureaux a la pepiniere 27, paris 11° ;\\n\\ntravail pour part possible en remote ;\\n\\nsalaire legal du regime du contrat d’apprentissage ;\\n\\ndate d’integration : si possible aout 2022, sinon septembre 2022 ;\\n\\nembauche envisageable\n",
       "3856                                                                                                                                                                                                                                                                                                                                                                                                                                                                                                                                                                                                                                                                                                                                                                                                                                                                                                                                                               ches et diversifiees\\n\\navoir de reelles perspectives d'evolution\\npoints cles :\\n\\ncontrat :contrat a duree indeterminee (cdi)\\n\\nniveau d'etude : bac + 5\\n\\nsalaire indicatif : selon profil\\n\\nlieu de travail : paris\n",
       "3857                                                                                                                                                                                                                                                                                                                                                                                                                                                                                                                                                                                                      e (8 personnes). - des evolutions possibles au sein du groupe. - des avantages : statut cadre, 24 jours de rtt/an, interessement entre 2 et 4 mois de salaire, mutuelle prise en charge a 90%, avantages salaries sur certains produits bancaires et d’assurance, un accord de teletravail, une restauration d’entreprise sur place, une prime variable de 973€/an etproduits bancaires et d’assurance, un accord de teletravail, une restauration d’entreprise sur place, une prime variable de 973€/an et un 13eme mois. salaire fixe sur 13 mois en fonction de votre experience\n",
       "3858                                                                                                                                                                                                                                                                                                                                                                                                                                                                                                                                                                                                                                                                                                                                                                                                                                                                        mplementaires\\n\\nutilisation si possible de son ordinateur personnel ;\\n\\nbureaux a la pepiniere 27, paris 11° ;\\n\\ntravail pour part possible en remote ;\\n\\nsalaire legal du regime du contrat d’apprentissage ;\\n\\ndate d’integration : si possible aout 2022, sinon septembre 2022 ;\\n\\nembauche envisageable\n",
       "3860                                                                                                                                                                                                                                                                                                                                                                                                                                                                                                                                                                                                      e (8 personnes). - des evolutions possibles au sein du groupe. - des avantages : statut cadre, 24 jours de rtt/an, interessement entre 2 et 4 mois de salaire, mutuelle prise en charge a 90%, avantages salaries sur certains produits bancaires et d’assurance, un accord de teletravail, une restauration d’entreprise sur place, une prime variable de 973€/an etproduits bancaires et d’assurance, un accord de teletravail, une restauration d’entreprise sur place, une prime variable de 973€/an et un 13eme mois. salaire fixe sur 13 mois en fonction de votre experience\n",
       "3861                                                                                                                                                                                                                                                                                                                                                                                                                                                                                                                                                                                                                                                                                                                                                                                                                                                                        mplementaires\\n\\nutilisation si possible de son ordinateur personnel ;\\n\\nbureaux a la pepiniere 27, paris 11° ;\\n\\ntravail pour part possible en remote ;\\n\\nsalaire legal du regime du contrat d’apprentissage ;\\n\\ndate d’integration : si possible aout 2022, sinon septembre 2022 ;\\n\\nembauche envisageable\n",
       "3882                                                                                                                                                                                                                                                                                                                                                                                                                                                                                                                                                                                                                                                                                                                                                                                                                                                                        mplementaires\\n\\nutilisation si possible de son ordinateur personnel ;\\n\\nbureaux a la pepiniere 27, paris 11° ;\\n\\ntravail pour part possible en remote ;\\n\\nsalaire legal du regime du contrat d'apprentissage ;\\n\\ndate d'integration : si possible aout 2022, sinon septembre 2022 ;\\n\\nembauche envisageable\n",
       "3885                                                                                                                                                                                                                                                                                                                                                                                                                                                                                                                                                                                                                                                                                                                                                                                                                                                                        mplementaires\\n\\nutilisation si possible de son ordinateur personnel ;\\n\\nbureaux a la pepiniere 27, paris 11° ;\\n\\ntravail pour part possible en remote ;\\n\\nsalaire legal du regime du contrat d'apprentissage ;\\n\\ndate d'integration : si possible aout 2022, sinon septembre 2022 ;\\n\\nembauche envisageable\n",
       "3891                                                                                                                                                                                                                                                                                                                                                                                                                                                                                                                                                                                                                                                                                                                                                                                                                                                                        mplementaires\\n\\nutilisation si possible de son ordinateur personnel ;\\n\\nbureaux a la pepiniere 27, paris 11° ;\\n\\ntravail pour part possible en remote ;\\n\\nsalaire legal du regime du contrat d'apprentissage ;\\n\\ndate d'integration : si possible aout 2022, sinon septembre 2022 ;\\n\\nembauche envisageable\n",
       "3893                                                                                                                                                                                                                                                                                                                                                                                                                                                                                                                                                                                                                                                                                                                                                                                                                                                                        mplementaires\\n\\nutilisation si possible de son ordinateur personnel ;\\n\\nbureaux a la pepiniere 27, paris 11° ;\\n\\ntravail pour part possible en remote ;\\n\\nsalaire legal du regime du contrat d'apprentissage ;\\n\\ndate d'integration : si possible aout 2022, sinon septembre 2022 ;\\n\\nembauche envisageable\n",
       "3895                                                                                                                                                                                                                                                                                                                                                                                                                                                                                                                                                                                                                                                                                                                                                                                                                                                                        mplementaires\\n\\nutilisation si possible de son ordinateur personnel ;\\n\\nbureaux a la pepiniere 27, paris 11° ;\\n\\ntravail pour part possible en remote ;\\n\\nsalaire legal du regime du contrat d'apprentissage ;\\n\\ndate d'integration : si possible aout 2022, sinon septembre 2022 ;\\n\\nembauche envisageable\n",
       "3896                                                                                                                                                                                                                                                                                                                                                                                                                                                                                                                                                                                                                                                                                                                                                                                                                                                                        mplementaires\\n\\nutilisation si possible de son ordinateur personnel ;\\n\\nbureaux a la pepiniere 27, paris 11° ;\\n\\ntravail pour part possible en remote ;\\n\\nsalaire legal du regime du contrat d'apprentissage ;\\n\\ndate d'integration : si possible aout 2022, sinon septembre 2022 ;\\n\\nembauche envisageable\n",
       "3898                                                                                                                                                                                                                                                                                                                                                                                                                                                                                                                                                                                                                                                                                                                                                                                                                                                                        mplementaires\\n\\nutilisation si possible de son ordinateur personnel ;\\n\\nbureaux a la pepiniere 27, paris 11° ;\\n\\ntravail pour part possible en remote ;\\n\\nsalaire legal du regime du contrat d'apprentissage ;\\n\\ndate d'integration : si possible aout 2022, sinon septembre 2022 ;\\n\\nembauche envisageable\n",
       "3899                                                                                                                                                                                                                                                                                                                                                                                                                                                                                                                                                                                                                                                                                                                                                                                                                                                                        mplementaires\\n\\nutilisation si possible de son ordinateur personnel ;\\n\\nbureaux a la pepiniere 27, paris 11° ;\\n\\ntravail pour part possible en remote ;\\n\\nsalaire legal du regime du contrat d'apprentissage ;\\n\\ndate d'integration : si possible aout 2022, sinon septembre 2022 ;\\n\\nembauche envisageable\n",
       "3924                                                                                                                                                                                                                                                                                                                                                                                                                                                                                                                                                                                                                                                                                                                                                                                                                                                                                                                                                                                                                                                                                                                                                                                         \n",
       "3932                                                                                                                                                                                                                                                                                                                                                                                                                                                                                                                                                                                                                                                                                                                                                                                                     reactivite, de curiosite, d’innovation,\\nde creativite, d’organisation, de rigueur et etes force de proposition.\\n\\ntype d'emploi : cdi\\nstatut : cadre\\n\\nsalaire : 40 000,00€ a 60 000,00€ par an\\n\\navantages :\\n• horaires flexibles\\n• participation au transport\\n• restaurant d'entreprise\\n• titre-restaurant\\n\\nprogrammation :\\n• du lundi au vendredi\\n• heures supplemen\n",
       "3940                                                                                                                                                                                                                                                                                                                                                                                                                                                                                                                                                                                                                                                                                                                                                                                                                                                                                                                                                                                               ’opinion politique ou religieuse.\\n\\nrencontrez l’equipe fifty-five\\n\\nlocalisation : 5 rue d’athenes, 75009 paris\\n\\ndate de demarrage : des que possible\\n\\nsalaire : selon experience\\n\n",
       "3970                                                                                                                                                                                                                                                                                                                                                                                                      ourageons ainsi tous types de profils a postuler a cette offre et garantissons un processus de recrutement denue de toutes formes de discriminations. salaire et avantages salaire : salaire selon profil date de demarrage souhaitee : des que possible reference : 28303844types de profils a postuler a cette offre et garantissons un processus de recrutement denue de toutes formes de discriminations. salaire et avantages salaire : salaire selon profil date de demarrage souhaitee : des que possible reference : 28303844rofils a postuler a cette offre et garantissons un processus de recrutement denue de toutes formes de discriminations. salaire et avantages salaire : salaire selon profil date de demarrage souhaitee : des que possible reference : 28303844\n",
       "3974                                                                                                                                                                                                                                                                                                                                                                                                                                                                                                                                                                                                                                                                                                                                                                                                                                                                     mplementaires\\n\\nutilisation si possible de son ordinateur personnel ;\\n\\nbureaux a la pepiniere 27, paris 11° ;\\n\\ntravail pour part possible en remote ;\\n\\nsalaire legal du regime du contrat d’apprentissage ;\\n\\ndate d’integration : si possible aout 2022, sinon septembre 2022 ;\\n\\nembauche envisageable.\\n\n",
       "3998                                                                                                                                                                                                                                                                                                                                                                                                                                                                                                                                                                                                                                                                                                                                                                                                                                                                                     ferentiels sur les offres de telecommunications, comite d'entreprise, prime de participation et d'interessement, plan d’epargne entreprise (1 mois de salaire env.), mobilite interne dans tout le groupe locaux : paris centreequilibre vie prive / professionnelle2 jours de teletravail / semaine\n",
       "4004                                                                                                                                                                                                                                                                                                                                                                                                                                                                                                                                                                                                      ale (8 personnes).- des evolutions possibles au sein du groupe.- des avantages : statut cadre, 24 jours de rtt/an, interessement entre 2 et 4 mois de salaire, mutuelle prise en charge a 90%, avantages salaries sur certains produits bancaires et d’assurance, un accord de teletravail, une restauration d’entreprise sur place, une prime variable de 973€/an et produits bancaires et d’assurance, un accord de teletravail, une restauration d’entreprise sur place, une prime variable de 973€/an et un 13eme mois.salaire fixe sur 13 mois en fonction de votre experience\n",
       "4015                                                                                                                                                                                                                                                                                                                                                                                                                                                                                                                                                                                                                                                                                                                                                                                                                    ns d'xp. le poste est base a suresnes(92) en hybride avec 2 jours sur site minimum, le reste en tt, pour une scale-up greentech de 80 collaborateurs. salaire entre 45 et 60k€. profil recherche : profil recherche : voici un descriptif du profil recherche: - diplome.e d’une ecole d’ingenieurs - possede au moins 2 ans d’experience en tant que data engineer(i\n",
       "4048                                                                          on cote pour valoriser ton profil aupres des startups souhaitees. ton coach dedie se fait agent de ton talent sur les postes qui te font rever !et le salaire ? tout depend de ton profil, du job et la startup que tu choisiras ! nous te partagerons un bench du marche et t'accompagnerons dans tes negociations salariales.si tu te poses des questions sur les sp que tu choisiras ! nous te partagerons un bench du marche et t'accompagnerons dans tes negociations salariales.si tu te poses des questions sur les salaires en startup, consulte vite qui recense les salaires moyens constates. on s'y met ? :-) profil recherche : pour t’aider a les mettre en avant, voici les elements que nous cherchons a identifier dans lu marche et t'accompagnerons dans tes negociations salariales.si tu te poses des questions sur les salaires en startup, consulte vite qui recense les salaires moyens constates. on s'y met ? :-) profil recherche : pour t’aider a les mettre en avant, voici les elements que nous cherchons a identifier dans le profil d’un candidat : des exemples d’experiences\n",
       "4050                                                                                                                                                                                                                                                                                                                                                                                                                                                                                                                                                                                                                                                                                                                                                                                                                    tachement : ​​​​​​equipe analyseniveau hierarchique : operationnelremuneration : de 50k a 60k annuel brut + 8% de variable + interessement (1 mois de salaire)teletravail : 2 jours possible par semaine​​​​​​​demarrage : 1 a 90 jours cette opportunite vous correspond ?adressez-nous votre candidature et un consultant vous contactera dans les plus brefs delai\n",
       "4056                                                                          on cote pour valoriser ton profil aupres des startups souhaitees. ton coach dedie se fait agent de ton talent sur les postes qui te font rever !et le salaire ? tout depend de ton profil, du job et la startup que tu choisiras ! nous te partagerons un bench du marche et t'accompagnerons dans tes negociations salariales.si tu te poses des questions sur les sp que tu choisiras ! nous te partagerons un bench du marche et t'accompagnerons dans tes negociations salariales.si tu te poses des questions sur les salaires en startup, consulte vite qui recense les salaires moyens constates. on s'y met ? :-) profil recherche : pour t’aider a les mettre en avant, voici les elements que nous cherchons a identifier dans lu marche et t'accompagnerons dans tes negociations salariales.si tu te poses des questions sur les salaires en startup, consulte vite qui recense les salaires moyens constates. on s'y met ? :-) profil recherche : pour t’aider a les mettre en avant, voici les elements que nous cherchons a identifier dans le profil d’un candidat : des exemples d’experiences\n",
       "4057                                                                                                                                                                                                                                                                                                                                                                                                                                                                                                                                                                                                                                                                                                                                                                                                                    tachement : ​​​​​​equipe analyseniveau hierarchique : operationnelremuneration : de 50k a 60k annuel brut + 8% de variable + interessement (1 mois de salaire)teletravail : 2 jours possible par semaine​​​​​​​demarrage : 1 a 90 jours cette opportunite vous correspond ?adressez-nous votre candidature et un consultant vous contactera dans les plus brefs delai\n",
       "4059                                                                                                                                                                                                                                                                                                                                                                                                                                                                                                                                                                                                                                                                                                                                                                                                                    tachement : ​​​​​​equipe analyseniveau hierarchique : operationnelremuneration : de 50k a 60k annuel brut + 8% de variable + interessement (1 mois de salaire)teletravail : 2 jours possible par semaine​​​​​​​demarrage : 1 a 90 jours cette opportunite vous correspond ?adressez-nous votre candidature et un consultant vous contactera dans les plus brefs delai\n",
       "4063                                                                                                                                                                                                                                                                                                                                                                                                                                                                                                                                                                                                                                                                                                                                                                                                                    tachement : ​​​​​​equipe analyseniveau hierarchique : operationnelremuneration : de 50k a 60k annuel brut + 8% de variable + interessement (1 mois de salaire)teletravail : 2 jours possible par semaine​​​​​​​demarrage : 1 a 90 jours cette opportunite vous correspond ?adressez-nous votre candidature et un consultant vous contactera dans les plus brefs delai\n",
       "4069                                                                                                                                                                                                                                                                                                                                                                                                                                                                                                                                                                                                                                                                                                                                                                                                            gestion de projet et du fonctionnement transverse.\\n\\ninformations complementaires :\\n• lieu: massy\\n• 10% de la carte pass des 3 mois d'anciennete\\n• un salaire fixe sur 13 mensualites + une prime variable selon performance\\n• participation, interessement, plan d'epargne\\n• 10% de la carte pass\\n• remboursement des frais de transport a hauteur de 50%\\n• 2 jours \n",
       "4074                                                                                                                                                                                                                                                                                                                                                                                                                                                                                                                                                                                                                                                                                                                                                                                                                    52581292 - groupe pierre & vacances - center parcs - 1- cdi- paris 19 - 75 publiee le 21/07/2022 actualisee le 21/07/2022 sur le site de l'entreprise salaire a negocier prise de poste des que possible experience minimum 2 ans metier data scientist statut du poste cadre du secteur prive zone de deplacement pas de deplacement secteur d’activite du poste heb\n",
       "4100                                                                                                                                                                                                                                                                                                                                                                                                                                                                                                                                                                                                                                                                                                                                                                                                             gnement individualise par des experts metiers\\n• une possibilite d'etre embauche(e) en cdi a l'issue de votre alternance\\n\\ninclus dans votre package:\\n• salaire fixe attractif et superieur au seuil legal\\n• prime d'interessement et/ou de participation avec possibilite d'abondement\\n• prise en charge des transports / pass navigo\\n• aides au logement et au permis\n",
       "4119                                                                                                                                                                                                                                                                                                                                                                                                                                                                                                                                                                                                                                                                                                                                                                                                                    nt et le test de bi langues- savoir-etre- esprit d'equipe- savoir-faireairflow amazon web services voir plus entreprise autres offres de l'entreprise salaire a negocier prise de poste des que possible experience tous niveaux d'experience acceptes metier data analyst statut du poste cadre du secteur prive zone de deplacement pas de deplacement secteur d’ac\n",
       "4122                                                                                                                                                                                                                                                                                                                                                                                                                                                                                                                                                                                                                                                                                                                                                                                                                    ics recherche pour son site de satolas (38) un data analyst h/f. autres offres de l'entreprise personne en charge du recrutement marc low - dirigeant salaire a negocier prise de poste des que possible experience minimum 3 ans metier data analyst statut du poste cadre du secteur prive zone de deplacement pas de deplacement secteur d’activite du poste entre\n",
       "4138                                                                                                                                                                                                                                                                                                                                                                                                                                                                                                                                                                                                                                                                                                                                                                                                                     ref. societe : if22/267 40070344 - bouygues telecom - 1- cdi- meudon - 92 publiee le 19/07/2022 actualisee le 19/07/2022 sur le site de l'entreprise salaire a negocier prise de poste des que possible experience tous niveaux d'experience acceptes metier data analyst statut du poste cadre du secteur prive zone de deplacement pas de deplacement secteur d’ac\n",
       "4178                                                                                                                                                                                                                                                                                                                                                                                                                                                                                                                                                                                                                                                                                                                                                                                                                    ce avec 41 agences de proximite et 1 000 collaborateurs, 150 000... clients pour un chiffre d'affaires annuel de 100 m. autres offres de l'entreprise salaire a partir de 22 k€ brut annuel prise de poste des que possible experience minimum 2 ans metier data analyst statut du poste agent de maitrise / technicien zone de deplacement departementale secteur d’\n",
       "4182                                                                                                                                                                                                                                                                                                                                                                                                                                                                                                                                                                                                                                                                                                                                                                                                                                          joignant, vous participerez a la croissance de notre entreprise en etant entoure(e) d’une equipe de passionnes ! duree : cdi debut : des que possible salaires : selon profil lieu : epagny metz-tessy si cette offre vous interesse, merci de nous adresser votre cv, votre lettre de motivation ainsi que vos pretentions salariales via join\n",
       "4228                                                                                                                                                                                                                                                                                                                                                                                                                                               e experience plus elevee ou comparable a la votre. des candidats ont une experience moins elevee ou comparable a la votre. des candidats demandent un salaire minimum superieur ou comparable au votre. des candidats demandent un salaire minimum inferieur ou comparable au votre. pourquoi les rejoindre ? offre de stage employer employer stage ceux qui font avrience moins elevee ou comparable a la votre. des candidats demandent un salaire minimum superieur ou comparable au votre. des candidats demandent un salaire minimum inferieur ou comparable au votre. pourquoi les rejoindre ? offre de stage employer employer stage ceux qui font avancer le monde s'appuient sur employer dans un monde en constante mutation, a\n",
       "4245                                                                                                                                                                                                                                                                                                                                                                                                                                                                                                                                                                                                                                                                                                                                                                                                        etes a l'aise sur du cloud (azure, aws ou gcp)\\n• une curiosite technique a toute epreuve et l’envie de prendre part a un projet data from scratch\\n\\nle salaire & avantages\\n• 60-65 k€ selon experience\\n• carte lunchr & mutuelle\\n• 2-3 jours de teletravail par semaine\\n• incentives organises par la direction\\n\\net plus encore...\\n\\nce qu’on prefere\\n• etre implique a\n",
       "4250                                                                                                                                                                                                                                                                                                                                                                                                                                                                                                                                                                                                                                                                                                                                                                                                                 roximite des pyrenees, elle offre de nombreuses possibilites d'activites de plein air\\n\\nparce que nous prenons soin de vous :\\n• avantages financiers : salaire attractif, accords d'interessement et de participation, plan d'epargne salariale abonde par airbus, plan d'actionnariat salarie sur la base du volontariat, avec attribution d'actions gratuites en fon\n",
       "Name: chars_around_salaire, dtype: object"
      ]
     },
     "execution_count": 20,
     "metadata": {},
     "output_type": "execute_result"
    }
   ],
   "source": [
    "# Get null rows in discrete_salary AND not null rows in chars_around_salary\n",
    "pd.options.display.max_rows = 268\n",
    "data[(data.discrete_salary.isnull()) & (data.chars_around_salaire != 'NC ')]['chars_around_salaire']"
   ]
  },
  {
   "cell_type": "markdown",
   "id": "b8a0af31-d021-4ed8-ae17-2f90860b5c58",
   "metadata": {
    "canvas": {
     "comments": [],
     "componentType": "CodeCell",
     "copiedOriginId": null,
     "diskcache": false,
     "headerColor": "none",
     "id": "6f0435fd-762e-48f9-9ae7-6a3ca5b3057b",
     "isComponent": false,
     "name": "",
     "parents": []
    }
   },
   "source": [
    "After investigation, salaries informations do come from in several differents forms. To that high variablity in salary information we need to add typing errors, incomplete salary ranges or inconsistant salary periods.\n",
    "\n",
    "And to make matters even worse, in several job descriptions we can find a lots of similar informations to salaries (bonus, incentives, profit sharing ...) which add another difficulty to discriminate and extract salaries only.\n",
    "\n",
    "Using rule-based approaches (for loops) to extract and clean up salary data would to be tideous and error-prone as new data is collected, while using regex expressions would quickly become a hassle and readability nightmare.\n",
    "\n",
    "To solve these problems, i will rely on pre-trained QA model languages, which can retrieve informations using question asked about the text."
   ]
  },
  {
   "cell_type": "code",
   "execution_count": 41,
   "id": "6160d158-ee80-4b3f-87c1-370da3e310be",
   "metadata": {
    "canvas": {
     "comments": [],
     "componentType": "CodeCell",
     "copiedOriginId": "576395f6-16c5-452e-a34e-97b560a66e48",
     "diskcache": false,
     "headerColor": "inherit",
     "id": "142e7042-4768-49ca-850a-704011cbf96e",
     "isComponent": false,
     "name": "",
     "parents": []
    }
   },
   "outputs": [
    {
     "name": "stderr",
     "output_type": "stream",
     "text": [
      "No model was supplied, defaulted to distilbert-base-cased-distilled-squad and revision 626af31 (https://huggingface.co/distilbert-base-cased-distilled-squad).\n",
      "Using a pipeline without specifying a model name and revision in production is not recommended.\n"
     ]
    }
   ],
   "source": [
    "from transformers import pipeline\n",
    "qa_model = pipeline(\"question-answering\")\n",
    "question = \"What is the pay or salary range for the role?\"\n",
    "texts = [\"etes a l'aise sur du cloud (azure, aws ou gcp)\\n• une curiosite technique a toute epreuve et l’envie de prendre part a un projet data from scratch\\n\\nle salaire & avantages\\n• 60-65 k€ selon experience\\n• carte lunchr & mutuelle\\n• 2-3 jours de teletravail par semaine\\n• incentives organises par la direction\\n\\net plus encore...\\n\\nce qu’on prefere\\n• etre implique a\", \n",
    "         \"lle et bordeaux, nous poursuivons notre maillage local en ouvrant 3 agences a lyon, aix et nantes.\\n\\nstatut : cadre\\n\\ntype d'emploi : temps plein, cdi\\n\\nsalaire : 25 000,00€ a 45 000,00€ /an\",\n",
    "        \"ics recherche pour son site de satolas (38) un data analyst h/f. autres offres de l'entreprise personne en charge du recrutement marc low - dirigeant salaire a negocier prise de poste des que possible experience minimum 3 ans metier data analyst statut du poste cadre du secteur prive zone de deplacement pas de deplacement secteur d’activite du poste entre\",\n",
    "        \"tachement : ​​​​​​equipe analyseniveau hierarchique : operationnelremuneration : de 50k a 60k annuel brut + 8% de variable + interessement (1 mois de salaire)teletravail : 2 jours possible par semaine​​​​​​​demarrage : 1 a 90 jours cette opportunite vous correspond ?adressez-nous votre candidature et un consultant vous contactera dans les plus brefs delai\",\n",
    "        \"ale (8 personnes).- des evolutions possibles au sein du groupe.- des avantages : statut cadre, 24 jours de rtt/an, interessement entre 2 et 4 mois de salaire, mutuelle prise en charge a 90%, avantages salaries sur certains produits bancaires et d’assurance, un accord de teletravail, une restauration d’entreprise sur place, une prime variable de 973€/an et produits et un 13eme mois.salaire fixe sur 13 mois en fonction de votre experience\",\n",
    "        \"l’entreprise et son processus de recrutement n’hesitez pas a consulter notre site internet : decilia.fr type d'emploi : temps plein, cdistatut : cadresalaire: 38000,00€a45000,00€par anavantages: horaires flexibles rttprogrammation: du lundi au vendredi horaires flexibles travail en journeetypes de primes et de gratifications:* primeslieu du poste : teletr\"]\n",
    "ranges = [qa_model(question = question, context = x)['answer'] for x in texts if qa_model(question = question, context = x)['score'] > 0.0005]"
   ]
  },
  {
   "cell_type": "code",
   "execution_count": 43,
   "id": "fb72982e-454a-4ea6-b88f-c19f48fbdb4e",
   "metadata": {
    "canvas": {
     "comments": [],
     "componentType": "CodeCell",
     "copiedOriginId": "dc4f4f14-96d6-480a-8910-dcc0eda49eef",
     "diskcache": false,
     "headerColor": "inherit",
     "id": "495da39d-0cd8-4a02-8116-413bab079a9f",
     "isComponent": false,
     "name": "",
     "parents": []
    }
   },
   "outputs": [
    {
     "data": {
      "text/plain": [
       "['60-65 k€',\n",
       " '25 000,00€ a 45 000,00€ /an',\n",
       " 'minimum 3',\n",
       " 'de 50k',\n",
       " 'avantages salaries',\n",
       " '38000']"
      ]
     },
     "execution_count": 43,
     "metadata": {},
     "output_type": "execute_result"
    }
   ],
   "source": [
    "ranges"
   ]
  },
  {
   "cell_type": "code",
   "execution_count": 21,
   "id": "7e20a043-4559-4041-b4c6-6197e739b887",
   "metadata": {
    "canvas": {
     "comments": [],
     "componentType": "CodeCell",
     "copiedOriginId": null,
     "diskcache": false,
     "headerColor": "none",
     "id": "95e4d4db-50c1-4541-8a44-9c83d7aed84d",
     "isComponent": false,
     "name": "",
     "parents": []
    },
    "tags": []
   },
   "outputs": [
    {
     "name": "stdout",
     "output_type": "stream",
     "text": [
      "number of captured salaries info from description : 191 \n",
      "\n"
     ]
    }
   ],
   "source": [
    "# capturing salary information using regex\n",
    "pattern1 = r'salaire\\s*\\s*((?:.|\\n)*?)\\n'\n",
    "for index, text in enumerate(data.description):\n",
    "    data.at[index, 'salary_in_description'] = \"\".join(re.findall(pattern1, text))\n",
    "\n",
    "data.salary_in_description.replace('', np.nan, inplace=True)\n",
    "\n",
    "print('number of captured salaries info from description :', data.salary_in_description.notnull().sum(), '\\n')\n"
   ]
  },
  {
   "cell_type": "markdown",
   "id": "edf11837-9d65-4440-8588-05231ba26dfb",
   "metadata": {
    "canvas": {
     "comments": [],
     "componentType": "CodeCell",
     "copiedOriginId": null,
     "diskcache": false,
     "headerColor": "none",
     "id": "11b4ac7a-e8db-4b09-a647-a80dcd3fb4b5",
     "isComponent": false,
     "name": "",
     "parents": []
    },
    "tags": []
   },
   "source": [
    "mask = data.salary_in_description.notnull()\n",
    "\n",
    "data.salary_in_description.loc[mask]"
   ]
  },
  {
   "cell_type": "markdown",
   "id": "cd58f2a4-9c51-4ca3-9c90-48b851a2c9b7",
   "metadata": {
    "canvas": {
     "comments": [],
     "componentType": "CodeCell",
     "copiedOriginId": null,
     "diskcache": false,
     "headerColor": "none",
     "id": "71580805-4fc5-48bc-b231-5949c5018cc3",
     "isComponent": false,
     "name": "",
     "parents": []
    }
   },
   "source": [
    "Using a regex pattern we can extract a substantial amount of salaries. Let's proceed with cleaning and assigning values to each corresponding columns."
   ]
  },
  {
   "cell_type": "markdown",
   "id": "3b9ea8ae-13b0-47c6-bba2-4fc81d4d37c7",
   "metadata": {
    "canvas": {
     "comments": [],
     "componentType": "CodeCell",
     "copiedOriginId": null,
     "diskcache": false,
     "headerColor": "none",
     "id": "3ab9dbae-1dd8-4188-ab54-d0c008942318",
     "isComponent": false,
     "name": "",
     "parents": []
    }
   },
   "source": [
    "# FIRST CLEAN using vectorized operations \n",
    "data.salary_in_description = data.salary_in_description.astype(str) #cast column type for easier iteration\n",
    "data.salary_in_description = data.salary_in_description.replace(['nan', 'None'], 'NC', regex=True)\n",
    "data.salary_in_description = data.salary_in_description.str.replace(r'[a|à] partir de ', '', regex=True)\n",
    "data.salary_in_description = data.salary_in_description.str.replace(r'^.*?entre\\s*', '', regex=True)\n",
    "data.salary_in_description = data.salary_in_description.str.replace('/an', 'par an', regex=True)\n",
    "data.salary_in_description = data.salary_in_description.str.replace('brut annuel', 'par an', regex=True)\n",
    "\n",
    "# get salary period information and assign it to og_salary_period column, it'll serve for later conversion\n",
    "data.og_salary_period.fillna(data.salary_in_description.str.extract(r'(\\ban\\b|\\bmois\\b|\\bjour\\b)', expand=False), axis=0, inplace=True)\n",
    "data.og_salary_currency.fillna(data.salary_in_description.str.extract(r'(\\€|\\$us)', expand=False), axis=0, inplace=True)\n",
    "\n",
    "data.salary_in_description = data.salary_in_description.str.replace('brut', '', regex=True)\n",
    "data.salary_in_description = data.salary_in_description.str.replace(r'selon.*', '', regex=True)\n",
    "data.salary_in_description = data.salary_in_description.str.replace(r'^.*?:\\s*', '', regex=True)\n",
    "data.salary_in_description = data.salary_in_description.str.replace(r'^.*?:\\s*', '', regex=True)\n",
    "data.salary_in_description = data.salary_in_description.str.replace(' par an.*', '', regex=True)\n",
    "data.salary_in_description = data.salary_in_description.str.replace(' par mois.*', '', regex=True)\n",
    "data.salary_in_description = data.salary_in_description.str.replace('eur', '€', regex=True)\n",
    "data.salary_in_description = data.salary_in_description.str.replace(' k', '000', regex=True)\n",
    "data.salary_in_description = data.salary_in_description.str.replace('et', 'à', regex=True)\n",
    "data.salary_in_description = data.salary_in_description.str.replace('/', ' à ', regex=True)\n",
    "data.salary_in_description = data.salary_in_description.str.replace('-', ' à ', regex=True)\n",
    "data.salary_in_description = data.salary_in_description.str.replace('+', '', regex=True) \n",
    "data.salary_in_description = data.salary_in_description.str.replace('•', '', regex=True) \n",
    "\n",
    "\n",
    "data.salary_in_description = data.salary_in_description.str.replace('€', '', regex=True)\n",
    "\n",
    "# formating string like '3035k' to '30 à 35k' \n",
    "pattern = r'\\b(\\d{2})(\\d{2})[kK]\\b'\n",
    "add_a = r'\\1 à \\2k'\n",
    "\n",
    "data['salary_in_description'] = data['salary_in_description'].apply(lambda x: re.sub(pattern, add_a, x))\n",
    "\n",
    "# replace 'k' by '000' in strings like '45 à 55k' \n",
    "def add_zeros(match):\n",
    "    num1 = match.group(1)\n",
    "    num2 = match.group(2)\n",
    "    return str(int(num1) * 1000) + \" à \" + num2 + \"k\"\n",
    "data['salary_in_description'] = data['salary_in_description'].apply(lambda x: re.sub(r'(\\d+) à (\\d+)k', add_zeros, x))\n",
    "\n",
    "# remove space between thousands and hundreds units in strings like '2 292,00 à 4 774,00'\n",
    "data.salary_in_description = data.salary_in_description.str.replace(r'(?<=\\d) (?=\\d{3})', '', regex=True)\n",
    "\n",
    "# remove commas from salaries\n",
    "data.salary_in_description = data.salary_in_description.str.replace(',00', '', regex=True)\n",
    "data.salary_in_description = data.salary_in_description.str.replace(r',..', '', regex=True) \n",
    "\n",
    "\n",
    "# remove points from salaries\n",
    "data.salary_in_description = data.salary_in_description.str.replace('.', '', regex=True)\n",
    "\n",
    "# replace '  à  ' by ' à '\n",
    "data.salary_in_description = data.salary_in_description.str.replace('  à  ', ' à ', regex=True)\n",
    "data.salary_in_description = data.salary_in_description.str.replace('  à ', ' à ', regex=True)\n",
    "\n",
    "# replace every character after k included by '000'\n",
    "data.salary_in_description = data.salary_in_description.str.replace('k.*', '000', regex=True)\n",
    "\n",
    "# remove remaining whitespace from the beginning of strings\n",
    "data.salary_in_description = data.salary_in_description.str.lstrip(' ')\n",
    "\n",
    "# add '000' to strings like '30 à 35' \n",
    "def add_zeros(match):\n",
    "    return match.group(1) + '000'\n",
    "data['salary_in_description'] = data['salary_in_description'].apply(lambda x: re.sub(r'\\b(\\d{2})\\b', add_zeros, x))\n",
    "\n",
    "# SECOND CLEAN using iterations : loop over remaining salaries for final clean \n",
    "# + assigning cleaned values to discrete_salary, lower_bound and upper_bound columns\n",
    "for index, row in data.iterrows():\n",
    "    \n",
    "    # assign 'NC' to string not containing any digits (can't contain salary infos)\n",
    "    if not any(char.isdigit() for char in row['salary_in_description']):\n",
    "        data.at[index,'salary_in_description'] = 'NC'\n",
    "    \n",
    "    # assign 'NC' to string containing a whitespace between thousands and hundreds units (probably typing error - unexplotable infos)\n",
    "    elif re.search(r'(?<=\\d) (?=\\d{3})', row['salary_in_description']):\n",
    "        data.at[index,'salary_in_description'] = 'NC'\n",
    "    \n",
    "    # remove lenghty string (irrelevant information) and short strings (probably typing errors- unexplotable infos) == keep only properly formated salary info\n",
    "    elif len(row['salary_in_description']) > 20 or len(row['salary_in_description']) <= 1:\n",
    "            data.at[index,'salary_in_description'] = 'NC'                    \n",
    "    \n",
    "    # get rows containing ' à ' >>> extract salary range\n",
    "    elif ' à ' in row['salary_in_description'] and row['salary_in_description'] != 'NC':\n",
    "        #print(row.salary_in_description)\n",
    "        # get salary boundaries\n",
    "        data.at[index,'lower_bound'] = int(row['salary_in_description'].split(' à ')[0])\n",
    "        data.at[index,'upper_bound'] = int(row['salary_in_description'].split(' à ')[1])\n",
    "        \n",
    "        # get mean of lower and upper bound\n",
    "        data.at[index, 'discrete_salary'] = (data.loc[index, 'lower_bound'] + data.loc[index, 'upper_bound']) / 2\n",
    "        \n",
    "        # deduce salary period from wage value for strings who didn't contain any mention about period\n",
    "        if int(row['salary_in_description'].split('à')[0]) > 20000:\n",
    "            data.at[index, 'og_salary_period'] = 'an'\n",
    "        else:\n",
    "            data.at[index, 'og_salary_period'] = 'mois'\n",
    "            \n",
    "    # get rows already containing a discrete value (so w/o ' à ' in strings) + assign to discrete_salary column \n",
    "    elif ' à 'not in row['salary_in_description'] and row['salary_in_description'] != 'NC':\n",
    "        print(index, row.salary_in_description)\n",
    "\n",
    "        data.at[index, 'discrete_salary'] = int(row['salary_in_description'])\n",
    "        \n",
    "        # deduce salary period from wage value for strings who didn't contain any mention about period \n",
    "        if int(row['salary_in_description']) > 20000:\n",
    "            data.at[index, 'og_salary_period'] = 'an'\n",
    "        else:\n",
    "            data.at[index, 'og_salary_period'] = 'mois' \n",
    "            \n",
    "\n",
    "    \n",
    "           \n",
    "#convert new salaries period to year / month / day\n",
    "data = pp.convert_salary_period(data)\n"
   ]
  },
  {
   "cell_type": "code",
   "execution_count": null,
   "id": "1a7c1305-c0fd-4492-95b5-35dd85a3bdfc",
   "metadata": {
    "canvas": {
     "comments": [],
     "componentType": "CodeCell",
     "copiedOriginId": null,
     "diskcache": false,
     "headerColor": "none",
     "id": "759bf536-4e9c-4ea0-90a4-c525262393b3",
     "isComponent": false,
     "name": "",
     "parents": []
    },
    "tags": []
   },
   "outputs": [],
   "source": [
    "df s= feszd"
   ]
  },
  {
   "cell_type": "markdown",
   "id": "b18dbcc7-bd56-44af-bcaf-5374795aec44",
   "metadata": {
    "canvas": {
     "comments": [],
     "componentType": "CodeCell",
     "copiedOriginId": null,
     "diskcache": false,
     "headerColor": "none",
     "id": "ae79c671-a708-4b6d-8840-4f7f6c2f16c3",
     "isComponent": false,
     "name": "",
     "parents": []
    }
   },
   "source": [
    "## remote"
   ]
  },
  {
   "cell_type": "code",
   "execution_count": null,
   "id": "1c0e1f3b-7045-41d4-821c-22cf3fad07f5",
   "metadata": {
    "canvas": {
     "comments": [],
     "componentType": "CodeCell",
     "copiedOriginId": null,
     "diskcache": false,
     "headerColor": "none",
     "id": "16eef583-4705-4bb8-8a8b-f584c8dc7101",
     "isComponent": false,
     "name": "",
     "parents": []
    },
    "tags": []
   },
   "outputs": [],
   "source": [
    "data.remote.value_counts()"
   ]
  },
  {
   "cell_type": "code",
   "execution_count": null,
   "id": "8e9ac783-3f66-4328-aea7-b3d1ffcd107d",
   "metadata": {
    "canvas": {
     "comments": [],
     "componentType": "CodeCell",
     "copiedOriginId": null,
     "diskcache": false,
     "headerColor": "none",
     "id": "b8762f95-c927-4eb3-9436-ce5c93ad1a8e",
     "isComponent": false,
     "name": "",
     "parents": []
    },
    "tags": []
   },
   "outputs": [],
   "source": [
    "mask = data.title.str.contains('remote')\n",
    "\n",
    "data.title.loc[mask]\n",
    "\n"
   ]
  },
  {
   "cell_type": "code",
   "execution_count": null,
   "id": "e3dcaa5a-47a1-4d0f-aa01-06bd42c76673",
   "metadata": {
    "canvas": {
     "comments": [],
     "componentType": "CodeCell",
     "copiedOriginId": null,
     "diskcache": false,
     "headerColor": "none",
     "id": "85c56eeb-2352-433a-a382-1ec9d4d8bd9a",
     "isComponent": false,
     "name": "",
     "parents": []
    },
    "tags": []
   },
   "outputs": [],
   "source": [
    "pd.options.display.max_colwidth = 2000\n",
    "pd.options.display.max_rows = 561\n",
    "\n",
    "mask = data['chars_around_(TT)'] != 'NC '\n",
    "\n",
    "data.loc[:, ['chars_around_(TT)']].loc[mask]"
   ]
  },
  {
   "cell_type": "markdown",
   "id": "dd35a0d2",
   "metadata": {
    "canvas": {
     "comments": [],
     "componentType": "CodeCell",
     "copiedOriginId": null,
     "diskcache": false,
     "headerColor": "none",
     "id": "175fe7e4-059f-48a3-9f6d-90598ff33ccc",
     "isComponent": false,
     "name": "",
     "parents": []
    }
   },
   "source": [
    "## Text normalization of job descriptions"
   ]
  },
  {
   "cell_type": "markdown",
   "id": "bee22857-aeb9-4ccb-9c77-2bbf9aaa3cbe",
   "metadata": {
    "canvas": {
     "comments": [],
     "componentType": "CodeCell",
     "copiedOriginId": null,
     "diskcache": false,
     "headerColor": "none",
     "id": "ebfd1d28-011d-427f-998d-bfb4278076d6",
     "isComponent": false,
     "name": "",
     "parents": []
    }
   },
   "source": [
    "There are several reasons to text normalization, one is to reduce noise in data. Job descriptions contains a lot of irrelevant information such as punctuation, numbers, special characters, and stop words. By normalizing the data, it'll be easier for further analysis."
   ]
  },
  {
   "cell_type": "code",
   "execution_count": null,
   "id": "5d743542",
   "metadata": {
    "canvas": {
     "comments": [],
     "componentType": "CodeCell",
     "copiedOriginId": null,
     "diskcache": false,
     "headerColor": "none",
     "id": "82a96f08-911f-42a9-9661-d3414d6c7056",
     "isComponent": false,
     "name": "",
     "parents": []
    },
    "scrolled": true
   },
   "outputs": [],
   "source": [
    "# get common stopwords from nltk library in both french and english\n",
    "stop_words = list(set(stopwords.words('french')).union(set(stopwords.words('english'))))\n",
    "\n",
    "punct_mark = [\"•\"]\n",
    "\n",
    "apostrophes_stop_words = [\"d'\", \"c'\", \"j'\", \"m'\", \"n'\", \"s'\", \"t'\", \"l'\" ,\"qu'\", \n",
    "                          \"jusqu'\", \"lorsqu'\", \"puisqu'\", \"quoiqu'\", \"qu'il\", \n",
    "                          \"qu'on\", \"qu'un\", \"qu'une\", \"sans qu'\", \"étant qu'\",\n",
    "                         \"qu’\", \"jusqu’\", \"lorsqu’\", \"puisqu’\", \"quoiqu’\", \n",
    "                          \"qu’il\", \"qu’on\", \"qu’un\", \"qu’une\", \"sans qu’\", \"étant qu’\",\n",
    "                         \"d’\", \"c’\", \"j’\", \"m’\", \"n’\", \"s’\", \"t’\", \"d’un\", \"d’une\", \"c’est\"]\n",
    "additional_fr_stop_words = [\n",
    "    \"au\", \"aux\", \"avec\", \"ce\", \"ces\", \"dans\", \"de\", \"des\", \"du\", \"elle\",\n",
    "    \"en\", \"et\", \"eux\", \"il\", \"je\", \"la\", \"le\", \"leur\", \"lui\", \"ma\",\n",
    "    \"mais\", \"me\", \"même\", \"mes\", \"moi\", \"mon\", \"ne\", \"nos\", \"notre\",\n",
    "    \"nous\", \"on\", \"ou\", \"par\", \"pas\", \"pour\", \"qu\", \"que\", \"qui\", \"sa\",\n",
    "    \"se\", \"ses\", \"son\", \"sur\", \"ta\", \"te\", \"tes\", \"toi\", \"ton\", \"tu\",\n",
    "    \"un\", \"une\", \"vos\", \"votre\", \"vous\", \"c’\", \"d’\", \"j’\", \"l’\", \"à\", \"m’\",\n",
    "    \"n’\", \"s’\", \"t’\", \"y’\", \"été\", \"étée\", \"étées\", \"étés\", \"étant\", \"suis\",\n",
    "    \"es\", \"est\", \"sommes\", \"êtes\", \"sont\", \"serai\", \"seras\", \"sera\",\n",
    "    \"serons\", \"serez\", \"seront\", \"serais\", \"serait\", \"serions\", \"seriez\",\n",
    "    \"seraient\", \"étais\", \"était\", \"étions\", \"étiez\", \"étaient\", \"fus\",\n",
    "    \"fut\", \"fûmes\", \"fûtes\", \"furent\", \"sois\", \"soit\", \"soyons\", \"soyez\",\n",
    "    \"soient\", \"fusse\", \"fusses\", \"fût\", \"fussions\", \"fussiez\", \"fussent\",\n",
    "    \"ayant\", \"eu\", \"eue\", \"eues\", \"eus\", \"ai\", \"as\", \"avons\", \"avez\",\n",
    "    \"ont\", \"aurai\", \"auras\", \"aura\", \"aurons\", \"aurez\", \"auront\", \"aurais\",\n",
    "    \"aurait\", \"aurions\", \"auriez\", \"auraient\", \"avais\", \"avait\", \"avions\",\n",
    "    \"aviez\", \"avaient\", \"eut\", \"eûmes\", \"eûtes\", \"eurent\", \"aie\", \"aies\",\n",
    "    \"ait\", \"ayons\"]\n",
    "\n",
    "all_stop_words = set(stop_words + apostrophes_stop_words + additional_fr_stop_words + punct_mark)\n",
    "all_stop_words = list(all_stop_words)\n",
    "\n",
    "\n",
    "# Copy the original description column to a new column\n",
    "data['description_normalized'] = data['description'].copy().str.lower()\n",
    "\n",
    "pattern = r\"(\\b\\w+)[`'’](\\w+)?\\b\"\n",
    "replacement = r\"\\2\"\n",
    "\n",
    "data['description_normalized'] = data['description_normalized'].str.replace(pattern, replacement, regex=True)\n",
    "\n",
    "\n",
    "# remove stop words in data.description_normalized\n",
    "data['description_normalized'] = data['description_normalized'].apply(lambda text: ' '.join([word for word in text.split() if word not in all_stop_words]))\n",
    "    \n",
    "# remove tabulation and punctuation\n",
    "data['description_normalized'] = data['description_normalized'].str.replace('[^\\w\\s]',' ', regex=True)\n",
    "    \n",
    "# Remove punctuation\n",
    "translator = str.maketrans('', '', string.punctuation)\n",
    "data['description_normalized'] = data['description_normalized'].apply(lambda text: text.translate(translator))\n",
    "    \n",
    "# lemmatization\n",
    "\n",
    "# Load the French language model\n",
    "nlp = spacy.load(\"fr_core_news_lg\")\n",
    "\n",
    "# Define a custom tokenizer rule for \"data\"\n",
    "#special_cases = [{ORTH: \"data\", 'LEMMA': \"data\"}]\n",
    "#nlp.tokenizer.add_special_case(\"data\", special_cases)\n",
    "\n",
    "def lemmatize_description_normalized(text):\n",
    "    # Apply Spacy's tokenizer to the text\n",
    "    doc = nlp(text)\n",
    "    \n",
    "    # Lemmatize each token in the document, taking into account context\n",
    "    lemmas = [token.lemma_ if token.pos_ != 'VERB' and token.text != 'data' else token.text for token in doc]\n",
    "    \n",
    "    # Join the lemmas back into a string\n",
    "    return ' '.join(lemmas)\n",
    "\n",
    "data['description_normalized'] = data['description_normalized'].apply(lambda text: lemmatize_description_normalized(text))"
   ]
  },
  {
   "cell_type": "markdown",
   "id": "b696e0ed-b7b5-473c-b74e-c99cf4d7675a",
   "metadata": {
    "canvas": {
     "comments": [],
     "componentType": "CodeCell",
     "copiedOriginId": null,
     "diskcache": false,
     "headerColor": "none",
     "id": "da5328f3-417d-4aac-959c-dd8c79327e39",
     "isComponent": false,
     "name": "",
     "parents": []
    }
   },
   "source": [
    "Now, that our job descriptions are normalized, we can analyze them more precisely. In order to that, i'll use : N-grams tokenization and Word cloud."
   ]
  },
  {
   "cell_type": "markdown",
   "id": "81e5836e",
   "metadata": {
    "canvas": {
     "comments": [],
     "componentType": "CodeCell",
     "copiedOriginId": null,
     "diskcache": false,
     "headerColor": "none",
     "id": "539e7bac-cd6d-42b7-a663-7e1176ca0f45",
     "isComponent": false,
     "name": "",
     "parents": []
    }
   },
   "source": [
    "## Performing N-grams tokenization on normalized job descripions"
   ]
  },
  {
   "cell_type": "markdown",
   "id": "6d9481ba-6f40-4254-8504-abb894e98084",
   "metadata": {
    "canvas": {
     "comments": [],
     "componentType": "CodeCell",
     "copiedOriginId": null,
     "diskcache": false,
     "headerColor": "none",
     "id": "1824c996-3836-434e-baee-3804b3ceadf5",
     "isComponent": false,
     "name": "",
     "parents": []
    }
   },
   "source": [
    "By using N-grams tokenization, we can create tokens that represent not just individual words, but also sequences of words that appear together frequently. This is important because the context in which words are used can greatly affect their meaning.\n",
    "\n",
    "These tokens might capture more complex and nuanced information about the job description and may provide more accurate insights into the skills, qualifications, and requirements of the job. "
   ]
  },
  {
   "cell_type": "code",
   "execution_count": null,
   "id": "513098b8",
   "metadata": {
    "canvas": {
     "comments": [],
     "componentType": "CodeCell",
     "copiedOriginId": null,
     "diskcache": false,
     "headerColor": "none",
     "id": "420a604e-288a-4dfa-a7f5-18d7ff6b8938",
     "isComponent": false,
     "name": "",
     "parents": []
    }
   },
   "outputs": [],
   "source": [
    "trigrams = []\n",
    "bigrams = []\n",
    "monograms = []\n",
    "\n",
    "def get_most_common_ngrams(data, n, k):\n",
    "    \"\"\"\n",
    "    This function takes a list of strings, an integer n (for the n-gram size), \n",
    "    and an integer k (for the number of most common n-grams to return). \n",
    "    It returns a list of the k most common n-grams in the input data.\n",
    "    \"\"\"\n",
    "    ngrams_list = []  # Create an empty list to store the n-grams\n",
    "    \n",
    "    for text in data:\n",
    "        \n",
    "        # Tokenize the text into words\n",
    "        words = nltk.word_tokenize(text)\n",
    "        # Generate the n-grams and add them to the list\n",
    "        ngrams_list.extend(list(ngrams(words, n)))\n",
    "        \n",
    "    # Count the occurrences of each n-gram using FreqDist\n",
    "    freq_dist = FreqDist(ngrams_list)\n",
    "    \n",
    "    # Get the k most common n-grams and return them\n",
    "    return freq_dist.most_common(k)\n",
    "\n",
    "trigrams = get_most_common_ngrams(data.description_normalized, 3, 1000)\n",
    "bigrams = get_most_common_ngrams(data.description_normalized, 2, 1000)\n",
    "monograms = get_most_common_ngrams(data.description_normalized, 1, 1000)\n",
    "\n",
    "    \n",
    "# Print the most common trigrams and bigrams\n",
    "print(\"The 5 most common trigrams are:\\n\")\n",
    "for trigram, count in trigrams[:5]:\n",
    "    print(' '.join(trigram), count)\n",
    "\n",
    "print(\"\\nThe 5 most common bigrams are:\\n\")\n",
    "for bigram, count in bigrams[:5]:\n",
    "    print(' '.join(bigram), count)\n",
    "    \n",
    "print(\"\\nThe 5 most common monograms are:\\n\")\n",
    "for monogram, count in monograms[:5]:\n",
    "    print(' '.join(monogram), count)"
   ]
  },
  {
   "cell_type": "markdown",
   "id": "00e3d02c",
   "metadata": {
    "canvas": {
     "comments": [],
     "componentType": "CodeCell",
     "copiedOriginId": null,
     "diskcache": false,
     "headerColor": "none",
     "id": "1172d996-06c7-4bc9-861f-9d9e9d8c8e9c",
     "isComponent": false,
     "name": "",
     "parents": []
    }
   },
   "source": [
    "## Visualizing aggregated job descriptions w/ WordCloud"
   ]
  },
  {
   "cell_type": "markdown",
   "id": "466f87f2-444b-4423-87d3-42086b8e557c",
   "metadata": {
    "canvas": {
     "comments": [],
     "componentType": "CodeCell",
     "copiedOriginId": null,
     "diskcache": false,
     "headerColor": "none",
     "id": "0d0a67b0-c07c-4f17-af2a-1ce4ba1487e9",
     "isComponent": false,
     "name": "",
     "parents": []
    }
   },
   "source": [
    "WordCloud provide a quick and visually appealing way to identify the most common terms and phrases used in job descriptions.\n",
    "\n",
    "Below i divided my dataframe by search query to get query-related wordclouds. Grouping data by job titles might have be more precise but as there are over 1300 unique job titles, the quick & easy wordcloud solution would have become less interesting. So i used search_query as a proxy."
   ]
  },
  {
   "cell_type": "code",
   "execution_count": null,
   "id": "d50cbc73",
   "metadata": {
    "canvas": {
     "comments": [],
     "componentType": "CodeCell",
     "copiedOriginId": null,
     "diskcache": false,
     "headerColor": "none",
     "id": "7fb63ac1-5051-494c-9b07-46a94ca2cc4a",
     "isComponent": false,
     "name": "",
     "parents": []
    },
    "tags": []
   },
   "outputs": [],
   "source": [
    "# groupby data by search query and aggregate descriptions\n",
    "agg_descriptions_by_query = data.groupby('search_query')['description_normalized'].sum().reset_index()\n",
    "\n",
    "\n",
    "for job in agg_descriptions_by_query.search_query.values:\n",
    "\n",
    "    # get aggregated description for each query\n",
    "    agg_text = agg_descriptions_by_query.loc[agg_descriptions_by_query.search_query == job, 'description_normalized'].values[0]\n",
    "\n",
    "    # Create a word cloud object and generate the word cloud\n",
    "    wordcloud = WordCloud(width=800, height=800, background_color=\"white\").generate(agg_text)\n",
    "    print(\"\\n***\",job,\"***\\n\")\n",
    "\n",
    "    # Display the word cloud\n",
    "    plt.figure(figsize=(8, 8), facecolor=None)\n",
    "    plt.imshow(wordcloud)\n",
    "    plt.axis(\"off\")\n",
    "    plt.tight_layout(pad=0)\n",
    "    plt.show()\n",
    "\n",
    "\n"
   ]
  },
  {
   "cell_type": "code",
   "execution_count": null,
   "id": "7f526509",
   "metadata": {
    "canvas": {
     "comments": [],
     "componentType": "CodeCell",
     "copiedOriginId": null,
     "diskcache": false,
     "headerColor": "none",
     "id": "d9f06708-4e76-4d66-9e0b-2db385d28300",
     "isComponent": false,
     "name": "",
     "parents": []
    },
    "tags": []
   },
   "outputs": [],
   "source": [
    "additionnal_stop_words = [\"client\", \"solution\", \"service\", \"donnée\", \"plus\", \"busines\", \"entreprise\", \"développement\", \"produit, \"team\"]"
   ]
  },
  {
   "cell_type": "markdown",
   "id": "905215b1",
   "metadata": {
    "canvas": {
     "comments": [],
     "componentType": "CodeCell",
     "copiedOriginId": null,
     "diskcache": false,
     "headerColor": "none",
     "id": "d91f67f2-17c2-4ad0-9b5b-e316dc404755",
     "isComponent": false,
     "name": "",
     "parents": []
    },
    "tags": []
   },
   "source": [
    "## Keywords extraction"
   ]
  },
  {
   "cell_type": "markdown",
   "id": "12dcef97",
   "metadata": {
    "canvas": {
     "comments": [],
     "componentType": "CodeCell",
     "copiedOriginId": null,
     "diskcache": false,
     "headerColor": "none",
     "id": "0d45ce8b-f016-4e2c-be1b-ce434036c4c6",
     "isComponent": false,
     "name": "",
     "parents": []
    }
   },
   "source": [
    "## replace keywords for easier keyword extraction\n",
    "\n",
    "data.description_prepro.replace(['(?i)(Google Tag Manager)|\\b(GTM)\\b', \"(?i)\\b(GA4)\\b|\\b(GA)\\b\", '(?i)\\b(Google Colab)\\b', '\\b(GCP)\\b|(google cloud plateform)\\b'], value=['Google Tag Manager', 'Google Analytics', 'Google Colaboratory', 'Google Cloud Plateform'] ,regex=True, inplace=True)\n",
    "data.description_prepro.replace(['(?i)\\b(AWS)\\b|Amazon Web Services'], value=['Amazon Web Services'] ,regex=True, inplace=True)\n",
    "data.description_prepro.replace(['(?i)SKlearn|Scikit'], value=['ScikitLearn'] ,regex=True, inplace=True)\n",
    "data.description_prepro.replace(['(?i)data viz'], value=['data visualisation'] ,regex=True, inplace=True)\n",
    "\n",
    "\n"
   ]
  },
  {
   "cell_type": "code",
   "execution_count": null,
   "id": "2d4b649a",
   "metadata": {
    "canvas": {
     "comments": [],
     "componentType": "CodeCell",
     "copiedOriginId": null,
     "diskcache": false,
     "headerColor": "none",
     "id": "5ffe5888-cf8a-45a5-ac66-514acf5393af",
     "isComponent": false,
     "name": "",
     "parents": []
    },
    "scrolled": true
   },
   "outputs": [],
   "source": [
    "data_visualization_tools = ['d3.js', 'ggplot2', 'tableau', 'matplotlib', 'seaborn', 'lumira',\n",
    "                            'spotfire', 'grafana', 'google data studio', 'looker', 'mode', 'metabase', 'kibana']\n",
    "\n",
    "\n",
    "\n",
    "tools = [\n",
    "'sas', 'Spark', 'BigML', 'D3.js', 'MATLAB', 'Excel', 'ggplot2', 'Tableau', 'Jupyter', \n",
    "'Matplotlib', 'NLTK', 'TensorFlow', 'Weka', 'Google Analytics', 'KNIME', \n",
    "'Flink', 'MongoDB', 'Minitab', 'Rapidminer', 'DataRobot', 'NLTK', 'Hadoop', 'Power BI', \n",
    "'QlikView', 'MySQL', 'Neo4j', 'HANA', 'Spotfire', 'SPSS', 'STATA', 'RiverLogic', \n",
    "'Lumira', 'Pig', 'Keras', 'NumPy', 'PyTorch', 'Seaborn', 'Wolfram Mathematica', \n",
    "'WebSockets', 'Algorithms.io', 'ForecastThis', 'BigQuery', 'GitHub', \n",
    "'Pycharm', 'Visual Studio Code', 'Linux', 'Windows', 'macOS', 'Google Colaboratory', \n",
    "'Google Cloud Plateform', 'Watson Studio', 'Amazon Web Services', \n",
    "'EC2', 'Amazon Elastic Compute Cloud', 'Microsoft Azure', \n",
    "'Nvidia Jetson Nano', 'Arduino', 'beam', 'semantria', 'trackur', 'cassandra', 'octoparse', \n",
    "'Content Grabber', 'OpenRefine', 'Google Fusion Table', 'scipy', 'pandas', 'NPM', 'Redshift', \n",
    "'Snowflake', 'Alteryx', 'Domino Data Lab', 'Kafka', 'Hbase', 'Elasticsearch', 'Maven', \n",
    "'Ansible', 'Gitlab', 'Jenkins', 'Bash', 'IntelliJ', 'MySQL', 'PostreSQL', 'Sonar', \n",
    "'Jira', 'OpenCV', 'TimescaleDB', 'Grafana', 'Google Sheet', 'Pig', 'Talend', 'MSBI',\n",
    "'SAP BO', 'Abode Campaign', 'Google Data Studio', 'Dataform', 'Looker',\n",
    "'Mode', 'Metabase', 'Power Query', 'Power Pivot', 'DataIku', 'MLFlow', 'DVC', 'Kibana', 'SageMaker',\n",
    "'Minio', 'S3', 'MQTT'\n",
    "]\n",
    "\n",
    "keywords_programming = [\n",
    "'sql', 'python', 'r', 'c', 'c#', 'javascript', 'js',  'java', 'scala', 'sas', 'matlab', \n",
    "'c++', 'c/c++', 'perl', 'go', 'typescript', 'bash', 'html', 'css', 'php', 'powershell', 'rust', \n",
    "'kotlin', 'ruby',  'dart', 'assembly', 'swift', 'vba', 'lua', 'groovy', 'delphi', 'objective-c', \n",
    "'haskell', 'elixir', 'julia', 'clojure', 'solidity', 'lisp', 'f#', 'fortran', 'erlang', 'apl', \n",
    "'cobol', 'ocaml', 'crystal', 'javascript/typescript', 'golang', 'nosql', 'mongodb', 't-sql', 'no-sql',\n",
    "'visual_basic', 'pascal', 'mongo', 'pl/sql',  'sass', 'vb.net', 'mssql', \n",
    "]\n",
    "\n",
    "keywords_libraries = [\n",
    "'scikit-learn', 'jupyter', 'theano', 'openCV', 'spark', 'nltk', 'mlpack', 'chainer', 'fann', 'shogun', \n",
    "'dlib', 'mxnet', 'node.js', 'vue', 'vue.js', 'keras', 'ember.js', 'jse/jee',\n",
    "]\n",
    "\n",
    "keywords_analyst_tools = [\n",
    "'excel', 'tableau',  'word', 'powerpoint', 'looker', 'powerbi', 'outlook', 'azure', 'jira', 'twilio',  'snowflake', \n",
    "'shell', 'linux', 'sas', 'sharepoint', 'mysql', 'visio', 'git', 'mssql', 'powerpoints', 'postgresql', 'spreadsheets',\n",
    "'seaborn', 'pandas', 'gdpr', 'spreadsheet', 'alteryx', 'github', 'postgres', 'ssis', 'numpy', 'power_bi', 'spss', 'ssrs', \n",
    "'microstrategy',  'cognos', 'dax', 'matplotlib', 'dplyr', 'tidyr', 'ggplot2', 'plotly', 'esquisse', 'rshiny', 'mlr',\n",
    "'docker', 'linux', 'jira',  'hadoop', 'airflow', 'redis', 'graphql', 'sap', 'tensorflow', 'node', 'asp.net', 'unix',\n",
    "'jquery', 'pyspark', 'pytorch', 'gitlab', 'selenium', 'splunk', 'bitbucket', 'qlik', 'terminal', 'atlassian', 'unix/linux',\n",
    "'linux/unix', 'ubuntu', 'nuix', 'datarobot',\n",
    "]\n",
    "\n",
    "keywords_cloud_tools = [\n",
    "'aws', 'azure', 'gcp', 'snowflake', 'redshift', 'bigquery', 'aurora',\n",
    "]\n",
    "\n",
    "keywords_general_tools = [\n",
    "'microsoft', 'slack', 'apache', 'ibm', 'html5', 'datadog', 'bloomberg',  'ajax', 'persicope', 'oracle', \n",
    "]\n",
    "\n",
    "keywords_general = [\n",
    "'coding', 'server', 'database', 'cloud', 'warehousing', 'scrum', 'devops', 'programming', 'saas', 'ci/cd', 'cicd', \n",
    "'ml', 'data_lake', 'frontend','front-end', 'back-end', 'backend', 'json', 'xml', 'ios', 'kanban', 'nlp',\n",
    "'iot', 'codebase', 'agile/scrum', 'agile', 'ai/ml', 'ai', 'paas', 'machine_learning', 'macros', 'iaas',\n",
    "'fullstack', 'dataops', 'scrum/agile', 'ssas', 'mlops', 'debug', 'etl', 'a/b', 'slack', 'erp', 'oop', \n",
    "'object-oriented', 'etl/elt', 'elt', 'dashboarding', 'big-data', 'twilio', 'ui/ux', 'ux/ui', 'vlookup', \n",
    "'crossover',  'data_lake', 'data_lakes', 'bi', 'pack office'\n",
    "]\n",
    "\n",
    "ml_tools = [\n",
    "'Tensorflow', 'Keras', 'PyTorch', 'ScikitLearn', 'sklearn', 'scikit'\n",
    "]\n",
    "\n",
    "big_data_tools = [\n",
    "'Hadoop', 'HDFS', 'YARN', 'Hive', 'Map', 'Reduce', 'Tez', 'Spark'\n",
    "]\n",
    "\n",
    "general_skills = [\n",
    "'informatique décisionnelle', 'Extraction', 'Nettoyage', 'transformation', 'ingestion', \n",
    "'data visualisation', 'modélisation', 'reporting', 'veille technologique', 'data mining',\n",
    "'kpi', 'computer vision'\n",
    "]\n",
    "\n",
    "soft_skills = [\n",
    "\"Esprit d'analyse\", \"Sens du service\", \"Rigueur\", \"communication\", 'positif', 'créatif', \n",
    "'pragmatique', 'souple', 'agile', \"Autonome\", 'Polyvalent', 'travailler en équipe', \"esprit d'équipe\"\n",
    "'esprit de synthèse', 'aisance relationnelle', 'force de proposition', \"capacité d'analyse\",\n",
    "\"anglais\", \"espagnol\", \"francais\"\n",
    "]\n",
    "\n",
    "coding_languages = [\n",
    "'SQL', 'Python', 'R', 'Julia', 'Scala', 'C++', 'Java', 'Javascript', 'Go'\n",
    "]\n",
    "\n",
    "\n",
    "\n",
    "# Add up all keyword lists\n",
    "all_kw = tools + keywords_programming + keywords_libraries + keywords_analyst_tools + keywords_cloud_tools + keywords_general_tools + keywords_general + ml_tools + big_data_tools + general_skills + soft_skills + coding_languages\n",
    "\n",
    "# Lower case & remove duplicates\n",
    "all_kw = list(set([word.lower() for word in all_kw]))\n",
    "\n",
    "# keyword extraction\n",
    "data['extracted_kw'] = data['description'].apply(lambda x: [])\n",
    "\n",
    "for text in enumerate(data.description):\n",
    "\n",
    "    kw_list = [word for word in all_kw if word in text[1]]\n",
    "    data.loc[text[0], \"extracted_kw\"].extend(kw_list)\n",
    "\n",
    "# number of keywords extracted\n",
    "data['extracted_kw_len'] = data['extracted_kw'].map(lambda x: len(x))"
   ]
  },
  {
   "cell_type": "code",
   "execution_count": null,
   "id": "8a9f79ba-8d64-4bd1-9d0e-4b011b5b7390",
   "metadata": {
    "canvas": {
     "comments": [],
     "componentType": "CodeCell",
     "copiedOriginId": null,
     "diskcache": false,
     "headerColor": "none",
     "id": "05ad6b2c-5882-4068-beda-39c4fcad0d5d",
     "isComponent": false,
     "name": "",
     "parents": []
    },
    "tags": []
   },
   "outputs": [],
   "source": [
    "def drop_useless_col(data):\n",
    "    \n",
    "    data.drop(['Unnamed: 0', 'extensions','level_0', 'index', 'Unnamed: 0.1', 'job_highlights', 'related_links', 'thumbnail',\n",
    "       'extensions', 'job_id', 'Unnamed: 0', 'chars_around_salaire', 'salary_in_description'], axis=1, inplace=True)\n",
    "    \n",
    "    return data\n",
    "\n",
    "data = drop_useless_col(data)"
   ]
  },
  {
   "cell_type": "markdown",
   "id": "21d8890d-2ea6-4b07-8d07-04c78d53820c",
   "metadata": {
    "canvas": {
     "comments": [],
     "componentType": "CodeCell",
     "copiedOriginId": null,
     "diskcache": false,
     "headerColor": "none",
     "id": "010e526e-9ea5-4c89-8493-e362838b0949",
     "isComponent": false,
     "name": "",
     "parents": []
    }
   },
   "source": [
    "## Encoding"
   ]
  }
 ],
 "metadata": {
  "canvas": {
   "colorPalette": [
    "inherit",
    "inherit",
    "inherit",
    "inherit",
    "inherit",
    "inherit",
    "inherit",
    "inherit",
    "inherit",
    "inherit"
   ],
   "parameters": [],
   "version": "1.0"
  },
  "kernelspec": {
   "display_name": "gg_jobs_env",
   "language": "python",
   "name": "gg_jobs_env"
  },
  "language_info": {
   "codemirror_mode": {
    "name": "ipython",
    "version": 3
   },
   "file_extension": ".py",
   "mimetype": "text/x-python",
   "name": "python",
   "nbconvert_exporter": "python",
   "pygments_lexer": "ipython3",
   "version": "3.9.16"
  },
  "toc-autonumbering": true,
  "toc-showcode": true,
  "toc-showmarkdowntxt": false,
  "toc-showtags": true
 },
 "nbformat": 4,
 "nbformat_minor": 5
}
