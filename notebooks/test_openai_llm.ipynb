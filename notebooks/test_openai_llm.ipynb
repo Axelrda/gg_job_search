{
 "cells": [
  {
   "cell_type": "code",
   "execution_count": 58,
   "metadata": {},
   "outputs": [],
   "source": [
    "import numpy as np\n",
    "import pandas as pd\n",
    "import matplotlib.pyplot as plt\n",
    "\n",
    "from openai import OpenAI\n",
    "\n",
    "from jobsearch.params import OPENAI_API_KEY, DB_PATH\n",
    "from jobsearch.utils import fetch_table_data"
   ]
  },
  {
   "cell_type": "markdown",
   "metadata": {},
   "source": [
    "### Loading job descriptions"
   ]
  },
  {
   "cell_type": "code",
   "execution_count": 3,
   "metadata": {},
   "outputs": [],
   "source": [
    "descriptions = fetch_table_data(DB_PATH).description\n",
    "\n",
    "# keep non null descriptions\n",
    "descriptions = descriptions[~descriptions.isna()]"
   ]
  },
  {
   "cell_type": "code",
   "execution_count": 40,
   "metadata": {},
   "outputs": [
    {
     "data": {
      "text/plain": [
       "(0.0, 10000.0)"
      ]
     },
     "execution_count": 40,
     "metadata": {},
     "output_type": "execute_result"
    },
    {
     "data": {
      "image/png": "[encoded data removed]",
      "text/plain": [
       "<Figure size 640x480 with 1 Axes>"
      ]
     },
     "metadata": {},
     "output_type": "display_data"
    }
   ],
   "source": [
    "descriptions_len = descriptions.str.len()\n",
    "descriptions_len.hist(bins=200)\n",
    "plt.xlim([0,10000])\n"
   ]
  },
  {
   "cell_type": "code",
   "execution_count": 54,
   "metadata": {},
   "outputs": [],
   "source": [
    "lower_bound=descriptions_len.describe().iloc[4]\n",
    "upper_bound=descriptions_len.describe().iloc[6]\n",
    "\n",
    "descriptions = descriptions[(descriptions.str.len() >= lower_bound) & (descriptions.str.len() >= upper_bound)]"
   ]
  },
  {
   "cell_type": "code",
   "execution_count": 62,
   "metadata": {},
   "outputs": [
    {
     "data": {
      "text/plain": [
       "\"Company:\\nQualcomm France S.A.R.L.\\n\\nJob Area:\\nEngineering Group, Engineering Group > Software Engineering\\n\\nGeneral Summary:\\n\\nAt Qualcomm XR labs Europe, we’re a passionate team of engineers who want to change the world through virtual and augmented reality products and technologies. We develop state-of-the-art computer vision, deep learning, and graphics solutions to deliver ultra-optimized, power-efficient software and hardware to enable the intelligent perception of the world around us. The Qualcomm XR Labs Europe is rapidly expanding and seeking innovators who will create the new digital world. We’re hiring at any of the XR Labs Europe locations in Austria, France, Netherlands, and Spain.\\n\\nQualcomm is redefining the connected, intelligent edge with exciting new products for Augmented Reality (AR) and Virtual Reality (VR). We are a world-class engineering organization developing state-of-the-art computer vision, deep learning, and graphics solutions to deliver ultra-optimized... power-efficient software and hardware to enable the intelligent perception of the world around us.\\n\\nTo scale and strengthen our offering in this domain, Qualcomm XR team in Europe is rapidly expanding and seeking candidates to investigate and develop the fundamental perception systems enabling self-contained XR platforms. We look for innovators who will push the boundaries of mobile perception technology to offer a comprehensive platform to our customers.\\n\\nAvailable XR engineering locations in Austria, France, Netherlands and Spain.\\n\\nOverview\\n\\n(Job Function/General Responsibilities)\\n\\nBuilding and supporting a highly complex Distributed application infrastructure in cloud and on-premises used by Software Engineering in the areas of Software Build and Release.\\n\\nSolutioning and architecture for new solutions and improving resilience of the current environment\\n\\nInfrastructure automation using CI/CD principles\\n\\nIntegrating various tools in the DevOps toolchain to accelerate Engineering team's velocity while maintaining high standards for quality and consistency.\\n\\nIdentify industry best practices and draft standards for design and implementation of automation workflows\\n\\nOverview\\n\\n(Critical “Must Have” skills/experience for role)\\n\\n3+ experience in managing and supporting Build tools (Jenkins) or in large scale environment in cloud and/or on-prem\\n\\n3+ Experience designing and supporting solutions in cloud\\n\\n3+ years of Ansible/Terraform/Chef Automation/Configuration Management tools experience\\n\\n3+ *NIX skills as an application admin\\n\\n3+ Experience with scripting skills in Python/Bash/Groovy required\\n\\n3+ Experience working as Devops engineer managing critical applications end to end on prem or cloud (solution design, setup, implementation, monitoring, on-going operations)\\n\\nOverview\\n\\n(Preferred skills/experience for role)\\n\\nDatabase experience; e.g. Postgresql\\n\\nWeb development, in particular python/javascript contexts\\n\\nAWS certifications\\n\\nEducation\\n\\nRequired: Master with 3 years of industry experience or PhD\\nComputer Science, Computer Engineering\\n\\nKeywords\\n\\nDevOps, CI/CD\\n\\nWhere you will be working\\n\\nBordeaux has a proud reputation of being one of the largest economic engine and is now one of the Top 10 location choices in Europe.\\n\\nThere's a growing diversity in the region with people from many nationalities relocating to Bordeaux, relishing the opportunity to work and live in a location that offers an excellent quality of life (Atlantic ocean, mountains nearby and Bordeaux is definitely the most gourmet destination ever).\\n\\nA gateway to Europe, Bordeaux airport provides access to almost 50 international destinations including transatlantic air routes.\\n\\nXR office\\n\\nNew space on 3 levels, with a gigantic rooftop close to the Wine Museum and the Chartrons.\\n\\nExcited about this role, but not sure if you meet 100% of the criteria? We would still like to hear from you and would welcome your application.\\n\\nThe company language is English, and you will work together with an international engineering team to identify our users’ needs and implement modern web applications. Therefore, communication skills and the ability to work in a team are key to success in this role.\\n\\nEqual Opportunities & Equal Pay:\\n\\nWe are an Equal Opportunity employer; all qualified applicants will receive consideration for employment without regard to race, colour, religion, sexual orientation, gender identity, national origin, disability, veteran status, or any protected classification.\\n\\nWhat´s on Offer:\\n\\nOpportunity to work with a team of world-class engineers and researchers on cutting-edge AR/VR products, with learning opportunities on various aspects.\\n\\nSalary, stock and performance related bonus\\n\\nEmployer-financed pension schemes\\n\\nEmployee Stock Purchase Program\\n\\nPublic Transport Subsidy. Qualcomm will reimburse up to 50% of public transportation\\n\\nQualcomm will provide daily meal vouchers in the amount of 9 EUR\\n\\nQualcomm will provide health coverage in addition to the national scheme to eligible employees and dependents\\n\\n25 days vacation + 4 well-being days + 10 “RTT”\\n\\nRelocation and immigration support (if needed)\\n\\nMentor program for intensive induction and further training opportunities\\n\\nA lot of team activity, sport, games, restaurants, conferences, etc.\\n\\nSubsidies for physical and mental well-being, e.g. fitness center, sports clubs and much more\\n\\nTake a peak behind the curtain:\\n\\n#LI-Onsite, #LI-Hybrid\\n• References to a particular number of years experience are for indicative purposes only. Applications from candidates with equivalent experience will be considered, provided that the candidate can demonstrate an ability to fulfill the principal duties of the role and possesses the required competencies.\\n\\nAlthough this role has some expected minor physical activity, this should not deter otherwise qualified applicants from applying. If you are an individual with a physical or mental disability and need an accommodation during the application/hiring process, please call Qualcomm’s toll-free number found herefor assistance. Qualcomm will provide reasonable accommodations, upon request, to support individuals with disabilities as part of our ongoing efforts to create an accessible workplace.\\n\\nQualcomm is an equal opportunity employer and supports workforce diversity.\\n\\nQualcomm expects its employees to abide by all applicable policies and procedures, including but not limited to security and other requirements regarding protection of Company confidential information and other confidential and/or proprietary information, to the extent those requirements are permissible under applicable law.\\n\\nTo all Staffing and Recruiting Agencies: Our Careers Site is only for individuals seeking a job at Qualcomm. Staffing and recruiting agencies and individuals being represented by an agency are not authorized to use this site or to submit profiles, applications or resumes, and any such submissions will be considered unsolicited. Qualcomm does not accept unsolicited resumes or applications from agencies. Please do not forward resumes to our jobs alias, Qualcomm employees or any other company location. Qualcomm is not responsible for any fees related to unsolicited resumes/applications.\\n\\nIf you would like more information about this role, please contact Qualcomm Careers\""
      ]
     },
     "execution_count": 62,
     "metadata": {},
     "output_type": "execute_result"
    }
   ],
   "source": [
    "pd.options.display.max_colwidth\n",
    "\n",
    "description_sample = descriptions.sample(5, random_state=42)\n",
    "description_sample.iloc[0]"
   ]
  },
  {
   "cell_type": "markdown",
   "metadata": {},
   "source": [
    "### Define few-shots prompt : instructions + examples"
   ]
  },
  {
   "cell_type": "code",
   "execution_count": 27,
   "metadata": {},
   "outputs": [],
   "source": [
    "instructions = \"\"\"Tu dois extraire les informations clés d'une offre d'emploi au format JSON :\n",
    "\n",
    "    1. Salaire et compléments:\n",
    "    - Pour un salaire indiqué comme minimum (ex. 'à partir de'), utilise-le pour le champ 'montant_min'.\n",
    "    - Pour un salaire indiqué comme maximum (ex. 'jusqu'à'), saisis-le dans 'montant_max'.\n",
    "    - En cas de montant unique sans autres indications, remplis à la fois 'montant_min' et 'montant_max' avec cette valeur.\n",
    "    - Dans le cas où l'offre mentionne explicitement des éléments additionnels au salaire de base, comme des primes ou des avantages, liste ces éléments dans le champ 'avantages_complementaires'.\n",
    "\n",
    "    2. Stack Technologique:\n",
    "    - Si l'offre d'emploi spécifie certaines technologies, outils ou langages de programmation (ex. 'Recherche développeur Java, expérience en SQL souhaitée'), liste ces technologies dans le champ 'stack_technologique'.\n",
    "\n",
    "    3. Niveau d'Étude:\n",
    "    - Note le niveau d'étude requis pour le poste dans le champ 'niveau_etude'. Par exemple, si l'offre mentionne 'Bac+5 requis', indique cela dans le champ correspondant.\n",
    "K\n",
    "    4. Langues Parlées:\n",
    "    - Liste les langues exigées pour le poste sous 'langues_parlees'. Par exemple, si l'offre indique 'Anglais courant nécessaire', ajoute 'Anglais' à la liste des langues parlées.\n",
    "\n",
    "    5. Informations Manquantes:\n",
    "    - En cas d'absence d'information, utilise 'null' pour les champs numériques comme 'montant_min' et 'montant_max', et une liste vide pour les champs de type liste comme 'avantages_complementaires' et 'langues_parlees'.\n",
    "\n",
    "\"\"\""
   ]
  },
  {
   "cell_type": "code",
   "execution_count": 28,
   "metadata": {},
   "outputs": [],
   "source": [
    "examples = \"\"\"\n",
    "\n",
    "\n",
    "\n",
    "\"\"\""
   ]
  },
  {
   "cell_type": "code",
   "execution_count": 29,
   "metadata": {},
   "outputs": [],
   "source": [
    "prompt = instructions + examples"
   ]
  },
  {
   "cell_type": "markdown",
   "metadata": {},
   "source": [
    "### Request openai API"
   ]
  },
  {
   "cell_type": "code",
   "execution_count": 26,
   "metadata": {},
   "outputs": [
    {
     "ename": "NameError",
     "evalue": "name 'description' is not defined",
     "output_type": "error",
     "traceback": [
      "\u001b[0;31m---------------------------------------------------------------------------\u001b[0m",
      "\u001b[0;31mNameError\u001b[0m                                 Traceback (most recent call last)",
      "Cell \u001b[0;32mIn[26], line 13\u001b[0m\n\u001b[1;32m      5\u001b[0m GPT4 \u001b[38;5;241m=\u001b[39m \u001b[38;5;124m\"\u001b[39m\u001b[38;5;124mgpt-4-0613\u001b[39m\u001b[38;5;124m\"\u001b[39m\n\u001b[1;32m      6\u001b[0m GPT4_32K \u001b[38;5;241m=\u001b[39m \u001b[38;5;124m\"\u001b[39m\u001b[38;5;124mgpt-4-32k-0613\u001b[39m\u001b[38;5;124m\"\u001b[39m\n\u001b[1;32m      8\u001b[0m response \u001b[38;5;241m=\u001b[39m client\u001b[38;5;241m.\u001b[39mchat\u001b[38;5;241m.\u001b[39mcompletions\u001b[38;5;241m.\u001b[39mcreate(\n\u001b[1;32m      9\u001b[0m   model\u001b[38;5;241m=\u001b[39mGPT35,\n\u001b[1;32m     10\u001b[0m   response_format\u001b[38;5;241m=\u001b[39m{ \u001b[38;5;124m\"\u001b[39m\u001b[38;5;124mtype\u001b[39m\u001b[38;5;124m\"\u001b[39m: \u001b[38;5;124m\"\u001b[39m\u001b[38;5;124mjson_object\u001b[39m\u001b[38;5;124m\"\u001b[39m },\n\u001b[1;32m     11\u001b[0m   messages\u001b[38;5;241m=\u001b[39m[\n\u001b[1;32m     12\u001b[0m     {\u001b[38;5;124m\"\u001b[39m\u001b[38;5;124mrole\u001b[39m\u001b[38;5;124m\"\u001b[39m: \u001b[38;5;124m\"\u001b[39m\u001b[38;5;124msystem\u001b[39m\u001b[38;5;124m\"\u001b[39m, \u001b[38;5;124m\"\u001b[39m\u001b[38;5;124mcontent\u001b[39m\u001b[38;5;124m\"\u001b[39m: prompt},\n\u001b[0;32m---> 13\u001b[0m     {\u001b[38;5;124m\"\u001b[39m\u001b[38;5;124mrole\u001b[39m\u001b[38;5;124m\"\u001b[39m: \u001b[38;5;124m\"\u001b[39m\u001b[38;5;124muser\u001b[39m\u001b[38;5;124m\"\u001b[39m, \u001b[38;5;124m\"\u001b[39m\u001b[38;5;124mcontent\u001b[39m\u001b[38;5;124m\"\u001b[39m: \u001b[43mdescription\u001b[49m}\n\u001b[1;32m     14\u001b[0m   ]\n\u001b[1;32m     15\u001b[0m )\n\u001b[1;32m     17\u001b[0m \u001b[38;5;28mprint\u001b[39m(response\u001b[38;5;241m.\u001b[39mchoices[\u001b[38;5;241m0\u001b[39m]\u001b[38;5;241m.\u001b[39mmessage\u001b[38;5;241m.\u001b[39mcontent)\n",
      "\u001b[0;31mNameError\u001b[0m: name 'description' is not defined"
     ]
    }
   ],
   "source": [
    "client = OpenAI()\n",
    "\n",
    "# models\n",
    "GPT35 = \"gpt-3.5-turbo-1106\"\n",
    "GPT4 = \"gpt-4-0613\"\n",
    "GPT4_32K = \"gpt-4-32k-0613\"\n",
    "\n",
    "response = client.chat.completions.create(\n",
    "  model=GPT35,\n",
    "  response_format={ \"type\": \"json_object\" },\n",
    "  messages=[\n",
    "    {\"role\": \"system\", \"content\": prompt},\n",
    "    {\"role\": \"user\", \"content\": description}\n",
    "  ]\n",
    ")\n",
    "\n",
    "print(response.choices[0].message.content)"
   ]
  }
 ],
 "metadata": {
  "kernelspec": {
   "display_name": "ggjobsearch",
   "language": "python",
   "name": "python3"
  },
  "language_info": {
   "codemirror_mode": {
    "name": "ipython",
    "version": 3
   },
   "file_extension": ".py",
   "mimetype": "text/x-python",
   "name": "python",
   "nbconvert_exporter": "python",
   "pygments_lexer": "ipython3",
   "version": "3.11.5"
  }
 },
 "nbformat": 4,
 "nbformat_minor": 2
}
