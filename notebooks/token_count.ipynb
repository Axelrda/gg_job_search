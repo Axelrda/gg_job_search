{
 "cells": [
  {
   "cell_type": "code",
   "execution_count": 1,
   "metadata": {},
   "outputs": [],
   "source": [
    "import pandas as pd\n",
    "import numpy as np\n",
    "import matplotlib.pyplot as plt\n",
    "\n",
    "from transformers import AutoTokenizer\n",
    "from datasets import load_dataset\n",
    "\n",
    "from jobsearch.params import ARIA_70B_QUANTIZED, FT_DATASET_HF\n",
    "from jobsearch.database import fetch_data_from_postgresql\n",
    "\n",
    "MAX_CONTEXT_LEN = 4096"
   ]
  },
  {
   "cell_type": "markdown",
   "metadata": {},
   "source": [
    "### Load data"
   ]
  },
  {
   "cell_type": "code",
   "execution_count": 13,
   "metadata": {},
   "outputs": [
    {
     "name": "stdout",
     "output_type": "stream",
     "text": [
      "Using CLOUD postgres database ...\n"
     ]
    }
   ],
   "source": [
    "ft_data = load_dataset(FT_DATASET_HF, split=\"train+test\")\n",
    "all_data = fetch_data_from_postgresql(columns=\"description\", import_from_cloud=True)"
   ]
  },
  {
   "cell_type": "code",
   "execution_count": 14,
   "metadata": {},
   "outputs": [],
   "source": [
    "descriptions = all_data.copy()"
   ]
  },
  {
   "cell_type": "markdown",
   "metadata": {},
   "source": [
    "### Load tokenizer"
   ]
  },
  {
   "cell_type": "code",
   "execution_count": 4,
   "metadata": {},
   "outputs": [],
   "source": [
    "tokenizer = AutoTokenizer.from_pretrained(ARIA_70B_QUANTIZED)"
   ]
  },
  {
   "cell_type": "markdown",
   "metadata": {},
   "source": [
    "### Token counts"
   ]
  },
  {
   "cell_type": "code",
   "execution_count": 6,
   "metadata": {},
   "outputs": [],
   "source": [
    "instructions_only = \"\"\"Structure les informations de salaire en JSON en normalisant les données :\n",
    "- Pour un salaire indiqué comme minimum (ex. 'à partir de 30k'), définis-le comme 'montant_min'.\n",
    "- Si indiqué comme maximum (ex. 'jusqu'à 70000'), définis-le comme 'montant_max'.\n",
    "- En cas de montant unique, définis-le dans 'montant_min' et 'montant_max'.\n",
    "- Convertis tous les montants en format décimal y compris ceux exprimés en abréviations. Par exemple, \"25k\" ou \"25ke\" devient 25000.0.\n",
    "- En cas de fourchette de salaire (ex. 'entre 40k et 55ke/an'), segmente-la dans 'montant_min' (40000.0) et 'montant_max' (55000.0) respectivement.\n",
    "- 'frequence_versement' accepte des valeurs normalisées comme 'an', 'mois', 'semaine', 'jour', 'heure'.\n",
    "- 'devise' accepte les symboles standards '$', '€' et '£'.\n",
    "- En cas de manquement de la fréquence ou devise, suppose leur valeurs.\n",
    "- Si aucun montant explicites n'est mentionné, remplis tous les champs avec la valeur null.\n",
    "- Des expressions comme \"Selon expérience\", \"A négocier\", \"Rémunération attractive, ect ne sont pas des montants explicites. Remplis null pour tous les champs.\n",
    "- Si plusieurs salaires ou fourchettes différentes sont détaillés, liste les toutes. Chaque salaire doit pouvoir etre entierement décrite dans son dictionnaire.\n",
    "- Privilégie les fourchettes détaillées aux salaire unique ou approximations. Par exemple, si une meme offre mentionne \"salaire environ 35k\" et ensuite \"salaire entre 30 000 et 40 000\", privilégie la seconde formulation.\n",
    "- Assures toi que les informations extraites sont logiquement cohérentes (ex. 'montant_min' <= 'montant_max').\n",
    "\n",
    "JSON schema : \n",
    "\n",
    "{\n",
    "    \"type\" : \"object\",\n",
    "    \"properties\" : {\n",
    "      \"salaire\" : {\n",
    "        \"type\" : \"array\",\n",
    "        \"items\" : {\n",
    "          \"type\" : \"object\",\n",
    "          \"properties\" : {\n",
    "            \"montant_min\" : {\"type\" : [\"number\", \"null\"]},\n",
    "            \"montant_max\" : {\"type\" : [\"number\", \"null\"]},\n",
    "            \"devise\" : {\"type\" : [\"string\", \"null\"]},\n",
    "            \"frequence_versement\" : {\"type\" : [\"string\", \"null\"]}\n",
    "          },\n",
    "          \"required\": [\"montant_min\", \"montant_max\", \"devise\", \"frequence_versement\"]\n",
    "        }\n",
    "      }\n",
    "    },\n",
    "    \"required\" : [\"salaire\"]\n",
    "  }\"\"\""
   ]
  },
  {
   "cell_type": "code",
   "execution_count": 15,
   "metadata": {},
   "outputs": [],
   "source": [
    "# token count of fine-tuning inputs\n",
    "def batch_token_count(str_sequence):\n",
    "    ids_list = tokenizer.batch_encode_plus(str_sequence)['input_ids']\n",
    "    token_count = [len(ids) for ids in ids_list]\n",
    "    return token_count\n",
    "\n",
    "# token count of instruction\n",
    "full_prompt_token_len = len(tokenizer.tokenize(ft_data['instruction'][0]))\n",
    "\n",
    "# token count of instructions without examples  \n",
    "instructions_only_token_count = len(tokenizer.tokenize(instructions_only))\n",
    "\n",
    "# finetuning I/O token counts\n",
    "outputs_token_count = batch_token_count(ft_data['output'])\n",
    "inputs_token_count = batch_token_count(ft_data['input'])\n",
    "\n",
    "# all descriptions token counts\n",
    "descriptions = descriptions.dropna(axis=0)\n",
    "description_list = descriptions.description.to_list()\n",
    "descriptions_token_count = batch_token_count(description_list)\n"
   ]
  },
  {
   "cell_type": "markdown",
   "metadata": {},
   "source": [
    "### prompt token len"
   ]
  },
  {
   "cell_type": "code",
   "execution_count": 16,
   "metadata": {},
   "outputs": [
    {
     "name": "stdout",
     "output_type": "stream",
     "text": [
      "822 740\n"
     ]
    }
   ],
   "source": [
    "print(full_prompt_token_len, instructions_only_token_count)"
   ]
  },
  {
   "cell_type": "markdown",
   "metadata": {},
   "source": [
    "### Exploring descriptions token counts"
   ]
  },
  {
   "cell_type": "code",
   "execution_count": 17,
   "metadata": {},
   "outputs": [
    {
     "data": {
      "text/plain": [
       "count    47956.000000\n",
       "mean       856.354846\n",
       "std        463.594247\n",
       "min          3.000000\n",
       "50%        802.000000\n",
       "99%       2206.350000\n",
       "max      14981.000000\n",
       "dtype: float64"
      ]
     },
     "execution_count": 17,
     "metadata": {},
     "output_type": "execute_result"
    }
   ],
   "source": [
    "des_token_df = pd.Series(descriptions_token_count) \n",
    "des_token_df.describe(percentiles=[.99])"
   ]
  },
  {
   "cell_type": "code",
   "execution_count": 10,
   "metadata": {},
   "outputs": [
    {
     "data": {
      "image/png": "[encoded data removed]",
      "text/plain": [
       "<Figure size 640x480 with 1 Axes>"
      ]
     },
     "metadata": {},
     "output_type": "display_data"
    }
   ],
   "source": [
    "plt.hist(descriptions_token_count, bins=100);"
   ]
  },
  {
   "cell_type": "code",
   "execution_count": 11,
   "metadata": {},
   "outputs": [
    {
     "name": "stdout",
     "output_type": "stream",
     "text": [
      "3274 3356\n"
     ]
    }
   ],
   "source": [
    "max_description_len_full_prompt = MAX_CONTEXT_LEN - full_prompt_token_len\n",
    "max_description_len_instruction_only = MAX_CONTEXT_LEN - instructions_only_token_count\n",
    "\n",
    "print(max_description_len_full_prompt, max_description_len_instruction_only)"
   ]
  },
  {
   "cell_type": "code",
   "execution_count": 73,
   "metadata": {},
   "outputs": [
    {
     "data": {
      "text/plain": [
       "(3574, 2)"
      ]
     },
     "execution_count": 73,
     "metadata": {},
     "output_type": "execute_result"
    }
   ],
   "source": [
    "#pd.options.display.max_colwidth = 100\n",
    "#pd.options.display.max_colwidth = 500\n",
    "\n",
    "descriptions['token_count'] = descriptions_token_count\n",
    "descriptions[descriptions['token_count'] > max_description_len_full_prompt].sort_values('token_count', ascending=False).shape"
   ]
  },
  {
   "cell_type": "code",
   "execution_count": 74,
   "metadata": {},
   "outputs": [
    {
     "data": {
      "text/plain": [
       "(38, 2)"
      ]
     },
     "execution_count": 74,
     "metadata": {},
     "output_type": "execute_result"
    }
   ],
   "source": [
    "descriptions[descriptions['token_count'] > max_description_len_instruction_only].sort_values('token_count', ascending=False).shape"
   ]
  },
  {
   "cell_type": "markdown",
   "metadata": {},
   "source": [
    "### Exploring fine-tuning data outputs token's count"
   ]
  },
  {
   "cell_type": "code",
   "execution_count": 12,
   "metadata": {},
   "outputs": [
    {
     "name": "stdout",
     "output_type": "stream",
     "text": [
      "count    184.000000\n",
      "mean      50.804348\n",
      "std       16.382544\n",
      "min       39.000000\n",
      "25%       39.000000\n",
      "50%       50.000000\n",
      "75%       56.000000\n",
      "80%       56.000000\n",
      "90%       56.000000\n",
      "95%       56.000000\n",
      "99%      106.970000\n",
      "max      193.000000\n",
      "dtype: float64\n"
     ]
    },
    {
     "data": {
      "image/png": "[encoded data removed]",
      "text/plain": [
       "<Figure size 640x480 with 1 Axes>"
      ]
     },
     "metadata": {},
     "output_type": "display_data"
    }
   ],
   "source": [
    "print(pd.Series(outputs_token_count).describe(percentiles=[.25,.5,.75,.8,.9,.95,.99]))\n",
    "\n",
    "plt.hist(outputs_token_count, bins=25);"
   ]
  },
  {
   "cell_type": "markdown",
   "metadata": {},
   "source": [
    "### Exploring ft data inputs token counts"
   ]
  },
  {
   "cell_type": "code",
   "execution_count": 66,
   "metadata": {},
   "outputs": [
    {
     "name": "stdout",
     "output_type": "stream",
     "text": [
      "count     184.000000\n",
      "mean      901.782609\n",
      "std       460.047071\n",
      "min        71.000000\n",
      "25%       540.750000\n",
      "50%       840.500000\n",
      "75%      1223.750000\n",
      "80%      1299.800000\n",
      "90%      1525.400000\n",
      "95%      1682.600000\n",
      "99%      2000.510000\n",
      "max      2878.000000\n",
      "dtype: float64\n"
     ]
    },
    {
     "data": {
      "image/png": "[encoded data removed]",
      "text/plain": [
       "<Figure size 640x480 with 1 Axes>"
      ]
     },
     "metadata": {},
     "output_type": "display_data"
    }
   ],
   "source": [
    "print(pd.Series(inputs_token_count).describe(percentiles=[.25,.5,.75,.8,.9,.95,.99]))\n",
    "\n",
    "plt.hist(inputs_token_count, bins=50);"
   ]
  }
 ],
 "metadata": {
  "kernelspec": {
   "display_name": "ggjobsearch",
   "language": "python",
   "name": "python3"
  },
  "language_info": {
   "codemirror_mode": {
    "name": "ipython",
    "version": 3
   },
   "file_extension": ".py",
   "mimetype": "text/x-python",
   "name": "python",
   "nbconvert_exporter": "python",
   "pygments_lexer": "ipython3",
   "version": "3.1.undefined"
  }
 },
 "nbformat": 4,
 "nbformat_minor": 2
}
